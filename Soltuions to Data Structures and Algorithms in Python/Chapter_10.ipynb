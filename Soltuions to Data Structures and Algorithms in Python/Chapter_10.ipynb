{
 "cells": [
  {
   "cell_type": "markdown",
   "metadata": {},
   "source": [
    "#### Solutions to the problems of Chapter 10\n",
    "### Maps, Hash Tables, and Skip Lists"
   ]
  },
  {
   "cell_type": "markdown",
   "metadata": {},
   "source": [
    "## Basic implementations and helper classes"
   ]
  },
  {
   "cell_type": "code",
   "execution_count": 34,
   "metadata": {},
   "outputs": [],
   "source": [
    "import random\n",
    "import time"
   ]
  },
  {
   "cell_type": "code",
   "execution_count": 1,
   "metadata": {},
   "outputs": [],
   "source": [
    "from collections import abc\n",
    "class MapBase(abc.MutableMapping):\n",
    "    class _Item:\n",
    "        __slots__='_key', '_value'\n",
    "        \n",
    "        def __init__(self, k, v):\n",
    "            self._key = k\n",
    "            self._value = v\n",
    "            \n",
    "        def __eq__(self, other):\n",
    "            return self._key == other._key \n",
    "        \n",
    "        def __neq__(self, other):\n",
    "            return not(self == other) \n",
    "        \n",
    "        def __lt__(self, other):\n",
    "            return self._key < other._key "
   ]
  },
  {
   "cell_type": "code",
   "execution_count": 2,
   "metadata": {},
   "outputs": [],
   "source": [
    "class UnsortedTableMap(MapBase):\n",
    "    \n",
    "    def __init__(self):\n",
    "        self._table = [] \n",
    "        \n",
    "    def __getitem__(self, k):\n",
    "        for item in self._table:\n",
    "            if k == item._key:\n",
    "                return item._value \n",
    "            else:\n",
    "                raise KeyError('Key Error: '+repr(k))\n",
    "        \n",
    "    def __setitem__(self, k, v):\n",
    "        for item in self._table:\n",
    "            if k == item._key:\n",
    "                item._value = v \n",
    "                return\n",
    "        self._table.append(self._Item(k, v))\n",
    "                \n",
    "    def __delitem__(self, k):\n",
    "        for i in range(len(self._table)):\n",
    "            if k == self._table[i]._key:\n",
    "                self._table.pop(i)\n",
    "                return \n",
    "        raise KeyError('Key Error: '+repr(k))\n",
    "                \n",
    "    def __len__(self): \n",
    "        return len(self._table)\n",
    "    \n",
    "    def __iter__(self): \n",
    "        for item in self._table:\n",
    "            yield item._key "
   ]
  },
  {
   "cell_type": "markdown",
   "metadata": {},
   "source": [
    "#### word frequencies example"
   ]
  },
  {
   "cell_type": "code",
   "execution_count": 11,
   "metadata": {},
   "outputs": [],
   "source": [
    "di = {}\n",
    "with open('raven', 'r') as f: \n",
    "    pieces = f.read().lower().split()\n",
    "    for piece in pieces: \n",
    "        word = ''.join(c for c in piece if c.isalpha())\n",
    "        di[word] = di.get(word, 0)+1 \n",
    "    \n",
    "    \n",
    "sorted_dict = sorted(di.items(), key= lambda x:x[1], reverse=True)\n",
    "# for item in sorted_dict:\n",
    "#     print(item, end = \" \")"
   ]
  },
  {
   "cell_type": "code",
   "execution_count": 35,
   "metadata": {},
   "outputs": [],
   "source": [
    "class HashMapBase(MapBase):\n",
    "    \"Abstract base class for map using hash-table with MAD compression\"\n",
    "    \n",
    "    def __init__(self, cap=11, p=109345121):\n",
    "        self._table = cap*[None]\n",
    "        self._n = 0\n",
    "        self._prime = p\n",
    "        self._scale = 1+random.randrange(p-1)\n",
    "        self._shift = random.randrange(p)\n",
    "        \n",
    "    def _hash_function(self, k):\n",
    "        return ((hash(k)*self._scale + self._shift)%self._prime)%len(self._table)\n",
    "    \n",
    "    def __len__(self):\n",
    "        return self._n \n",
    "    \n",
    "    def __getitem__(self, k):\n",
    "        j = self._hash_function(k)\n",
    "        return self._bucket_getitem(j, k)\n",
    "    \n",
    "    def __setitem__(self, k, v):\n",
    "        j = self._hash_function(k)\n",
    "        self._bucket_setitem(j, k, v)\n",
    "        if self._n > len(self._table)//2:\n",
    "            self._resize(2*len(self._table)-1)\n",
    "        \n",
    "    def __delitem__(self, k):\n",
    "        j = self._hash_function(k)\n",
    "        self._bucket_delitem(j, k)\n",
    "        self._n -= 1 \n",
    "        \n",
    "    def _resize(self, c):\n",
    "        old = list(self.items())\n",
    "        self._table = c*[None]\n",
    "        self._n = 0\n",
    "        for (k, v) in old:\n",
    "            self[k] = v"
   ]
  },
  {
   "cell_type": "code",
   "execution_count": 36,
   "metadata": {},
   "outputs": [],
   "source": [
    "class ChainHashMap(HashMapBase):\n",
    "    \n",
    "    def _bucket_getitem(self, j, k):\n",
    "        bucket = self._table[j]\n",
    "        if bucket is None:\n",
    "            raise KeyError('Key Error: '+repr(k))\n",
    "        return bucket[k]\n",
    "    \n",
    "    def _bucket_setitem(self, j, k ,v):\n",
    "        if self._table[j] is None:\n",
    "            self._table[j] = UnsortedTableMap()\n",
    "        oldsize = len(self._table[j])\n",
    "        self._table[j][k] = v\n",
    "        if len(self._table[j]) > oldsize:\n",
    "            self._n += 1 \n",
    "        \n",
    "    def _bucket_delitem(self, j, k):\n",
    "        bucket = self._table[j]\n",
    "        if bucket is None:\n",
    "            raise KeyError('Key Error: '+repr(k))\n",
    "        del bucket[k]\n",
    "        \n",
    "    def __iter__(self): \n",
    "        for bucket in self._table:\n",
    "            if bucket is not None:\n",
    "                for key in bucket:\n",
    "                    yield key"
   ]
  },
  {
   "cell_type": "code",
   "execution_count": 43,
   "metadata": {},
   "outputs": [],
   "source": [
    "class ProbeHashMap(HashMapBase):\n",
    "    _AVAIL = object() \n",
    "    \n",
    "    def _is_available(self, j):\n",
    "        return self._table[j] is None or self._table[j] is ProbeHashMap._AVAIL\n",
    "    \n",
    "    def _find_slot(self, j, k):\n",
    "        firstAvail = None\n",
    "        while True:\n",
    "            if self._is_available(j):\n",
    "                if firstAvail is None:\n",
    "                    firstAvail = j\n",
    "                if self._table[j] is None:\n",
    "                    return (False, firstAvail)\n",
    "            elif k == self._table[j]._key:\n",
    "                return (True, j)\n",
    "            j = (j+1)%len(self._table)\n",
    "    \n",
    "    def _bucket_getitem(self, j, k):\n",
    "        found, s = self._find_slot(j, k)\n",
    "        if not found:\n",
    "            raise KeyError('Key Error: '+repr(k))\n",
    "        return self._table[s]._value \n",
    "    \n",
    "    def _bucket_setitem(self, j, k, v):\n",
    "        found, s = self._find_slot(j, k)\n",
    "        if not found:\n",
    "            self._table[s] = self._Item(k, v)\n",
    "            self._n += 1 \n",
    "        else:\n",
    "            self._table[s]._value = v \n",
    "            \n",
    "    def _bucket_delitem(self, j, k):\n",
    "        found, s = self._find_slot(j, k)\n",
    "        if not found:\n",
    "            raise KeyError('Key Error: '+repr(k))\n",
    "        self._table[s] = ProbeHashMap._AVAIL\n",
    "        \n",
    "    def __iter__(self):\n",
    "        for j in range(len(self._table)):\n",
    "            if not self._is_available(j):\n",
    "                yield self._table[j]._key"
   ]
  },
  {
   "cell_type": "code",
   "execution_count": null,
   "metadata": {},
   "outputs": [],
   "source": []
  }
 ],
 "metadata": {
  "kernelspec": {
   "display_name": "Python 3",
   "language": "python",
   "name": "python3"
  },
  "language_info": {
   "codemirror_mode": {
    "name": "ipython",
    "version": 3
   },
   "file_extension": ".py",
   "mimetype": "text/x-python",
   "name": "python",
   "nbconvert_exporter": "python",
   "pygments_lexer": "ipython3",
   "version": "3.8.3"
  }
 },
 "nbformat": 4,
 "nbformat_minor": 4
}
