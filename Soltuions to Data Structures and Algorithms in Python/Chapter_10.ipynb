{
 "cells": [
  {
   "cell_type": "markdown",
   "metadata": {},
   "source": [
    "#### Solutions to the problems of Chapter 10\n",
    "### Maps, Hash Tables, and Skip Lists"
   ]
  },
  {
   "cell_type": "markdown",
   "metadata": {},
   "source": [
    "## Basic implementations and helper classes"
   ]
  },
  {
   "cell_type": "code",
   "execution_count": 56,
   "metadata": {},
   "outputs": [],
   "source": [
    "from collections import abc\n",
    "class MapBase(abc.MutableMapping):\n",
    "    class _Item:\n",
    "        __slots__='_key', '_value'\n",
    "        \n",
    "        def __init__(self, k, v):\n",
    "            self._key = k\n",
    "            self._value = v\n",
    "            \n",
    "        def __eq__(self, other):\n",
    "            return self._key == other._key \n",
    "        \n",
    "        def __neq__(self, other):\n",
    "            return not(self == other) \n",
    "        \n",
    "        def __lt__(self, other):\n",
    "            return self._key < other._key "
   ]
  },
  {
   "cell_type": "code",
   "execution_count": 79,
   "metadata": {},
   "outputs": [],
   "source": [
    "class UnsortedTableMap(MapBase):\n",
    "    \n",
    "    def __init__(self):\n",
    "        self._table = [] \n",
    "        \n",
    "    def __getitem__(self, k):\n",
    "        for item in self._table:\n",
    "            if k == item._key:\n",
    "                return item._value \n",
    "            else:\n",
    "                raise KeyError('Key Error: '+repr(k))\n",
    "        \n",
    "    def __setitem__(self, k, v):\n",
    "        for item in self._table:\n",
    "            if k == item._key:\n",
    "                item._value = v \n",
    "                return\n",
    "        self._table.append(self._Item(k, v))\n",
    "                \n",
    "    def __delitem__(self, k):\n",
    "        for i in range(len(self._table)):\n",
    "            if k == self._table[i]._key:\n",
    "                self._table.pop(i)\n",
    "                return \n",
    "        raise KeyError('Key Error: '+repr(k))\n",
    "                \n",
    "    def __len__(self): \n",
    "        return len(self._table)\n",
    "    \n",
    "    def __iter__(self): \n",
    "        for item in self._table:\n",
    "            yield item._key "
   ]
  },
  {
   "cell_type": "code",
   "execution_count": null,
   "metadata": {},
   "outputs": [],
   "source": []
  },
  {
   "cell_type": "code",
   "execution_count": 65,
   "metadata": {},
   "outputs": [],
   "source": [
    "# di = {}\n",
    "# with open('raven', 'r') as f: \n",
    "#     pieces = f.read().lower().split()\n",
    "#     for piece in pieces: \n",
    "#         word = ''.join(c for c in piece if c.isalpha())\n",
    "#         di[word] = di.get(word, 0)+1 \n",
    "    \n",
    "    \n",
    "# sorted_dict = sorted(di.items(), key= lambda x:x[1], reverse=True)\n",
    "# sorted_dict"
   ]
  },
  {
   "cell_type": "code",
   "execution_count": null,
   "metadata": {},
   "outputs": [],
   "source": []
  }
 ],
 "metadata": {
  "kernelspec": {
   "display_name": "Python 3",
   "language": "python",
   "name": "python3"
  },
  "language_info": {
   "codemirror_mode": {
    "name": "ipython",
    "version": 3
   },
   "file_extension": ".py",
   "mimetype": "text/x-python",
   "name": "python",
   "nbconvert_exporter": "python",
   "pygments_lexer": "ipython3",
   "version": "3.8.3"
  }
 },
 "nbformat": 4,
 "nbformat_minor": 4
}
