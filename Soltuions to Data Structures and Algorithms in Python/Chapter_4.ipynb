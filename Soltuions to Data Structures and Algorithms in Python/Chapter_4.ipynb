{
 "cells": [
  {
   "cell_type": "markdown",
   "metadata": {},
   "source": [
    "## My solutions to Code problems from chapter 4 ###\n",
    "### Recursions"
   ]
  },
  {
   "cell_type": "markdown",
   "metadata": {},
   "source": [
    "### Reinforce problems "
   ]
  },
  {
   "cell_type": "markdown",
   "metadata": {},
   "source": [
    "R-4.1 Describe a recursive algorithm for finding the maximum element in a se-\n",
    "quence, S, of n elements. What is your running time and space usage?"
   ]
  },
  {
   "cell_type": "code",
   "execution_count": 2,
   "metadata": {},
   "outputs": [
    {
     "data": {
      "text/plain": [
       "44"
      ]
     },
     "execution_count": 2,
     "metadata": {},
     "output_type": "execute_result"
    }
   ],
   "source": [
    "def get_max(s, l):\n",
    "    if len(s) ==1:\n",
    "        return s[0]\n",
    "    return max(s[0], get_max(s[1:], len(s[1:])))\n",
    "\n",
    "ll = [1, 2, 3, 4, 2, 44, 16]\n",
    "\n",
    "get_max(ll, len(ll))\n",
    "    "
   ]
  },
  {
   "cell_type": "markdown",
   "metadata": {},
   "source": [
    "R-4.6 Describe a recursive function for computing the n th Harmonic number,\n",
    "H n = ∑ ni=1 1/i."
   ]
  },
  {
   "cell_type": "code",
   "execution_count": 12,
   "metadata": {},
   "outputs": [
    {
     "name": "stdout",
     "output_type": "stream",
     "text": [
      "2.283333333333333\n",
      "2.283333333333333\n"
     ]
    }
   ],
   "source": [
    "def get_harmonic_recur(n):\n",
    "    if n ==1:\n",
    "        return 1\n",
    "    else:\n",
    "        return (1/n + get_harmonic_recur(n-1))\n",
    "\n",
    "def get_harmonic_iter(n):\n",
    "    s = 0\n",
    "    for i in range(1, n+1):\n",
    "        s += 1/i\n",
    "        \n",
    "    return s\n",
    "\n",
    "print(get_harmonic_recur(5))\n",
    "print(get_harmonic_iter(5))"
   ]
  },
  {
   "cell_type": "markdown",
   "metadata": {},
   "source": [
    "R-4.7 Describe a recursive function for converting a string of digits into the in-\n",
    "teger it represents. For example, 13531 represents the integer 13, 531."
   ]
  },
  {
   "cell_type": "code",
   "execution_count": 27,
   "metadata": {},
   "outputs": [
    {
     "name": "stdout",
     "output_type": "stream",
     "text": [
      "1,234,567,890\n"
     ]
    }
   ],
   "source": [
    "def convert_str(s, l):\n",
    "    if l <= 3:\n",
    "        return s\n",
    "    else:\n",
    "        l = len(s)\n",
    "        return convert_str(s[:l-3], l-3) + ','+s[-3:]\n",
    "\n",
    "l = \"1234567890\"\n",
    "print(convert_str(str(l), len(l)))\n"
   ]
  },
  {
   "cell_type": "markdown",
   "metadata": {},
   "source": [
    "R-4.8 Isabel has an interesting way of summing up the values in a sequence A of\n",
    "n integers, where n is a power of two. She creates a new sequence B of half\n",
    "the size of A and sets B[i] = A[2i] + A[2i + 1], for i = 0, 1, . . . , (n/2) − 1. If\n",
    "B has size 1, then she outputs B[0]. Otherwise, she replaces A with B, and\n",
    "repeats the process. What is the running time of her algorithm?"
   ]
  },
  {
   "cell_type": "markdown",
   "metadata": {},
   "source": [
    "O(n/2 + n/4 + n/8 + ...) = O(n(1/2 + 1/4 + 1/8 + 1/16+ ...)) = O(n)"
   ]
  },
  {
   "cell_type": "markdown",
   "metadata": {},
   "source": [
    "### Creativity Problems"
   ]
  },
  {
   "cell_type": "markdown",
   "metadata": {},
   "source": [
    "C-4.9 Write a short recursive Python function that finds the minimum and max-\n",
    "imum values in a sequence without using any loops."
   ]
  },
  {
   "cell_type": "code",
   "execution_count": 32,
   "metadata": {},
   "outputs": [
    {
     "name": "stdout",
     "output_type": "stream",
     "text": [
      "(212, -90)\n"
     ]
    }
   ],
   "source": [
    "def get_min_max(s):\n",
    "    def _get_min_max(s, l, maxx = True):\n",
    "        if l ==1:\n",
    "            return s[0]\n",
    "        else:\n",
    "            if maxx == True: \n",
    "                return max(s[0], _get_min_max(s[1:], len(s[1:]), True))\n",
    "            if maxx == False:\n",
    "                return min(s[0], _get_min_max(s[1:], len(s[1:]), False))\n",
    "            \n",
    "    maxx = _get_min_max(s, len(s), True)\n",
    "    minn = _get_min_max(s, len(s), False)\n",
    "    \n",
    "    return maxx, minn \n",
    "\n",
    "s = [0, -1, 1, 2, 3, 44, -90, 100, 212, 99]\n",
    "\n",
    "print(get_min_max(s))"
   ]
  },
  {
   "cell_type": "markdown",
   "metadata": {},
   "source": [
    "C-4.10 Describe a recursive algorithm to compute the integer part of the base-two\n",
    "logarithm of n using only addition and integer division"
   ]
  },
  {
   "cell_type": "code",
   "execution_count": 38,
   "metadata": {},
   "outputs": [
    {
     "data": {
      "text/plain": [
       "6"
      ]
     },
     "execution_count": 38,
     "metadata": {},
     "output_type": "execute_result"
    }
   ],
   "source": [
    "def get_int_log(n, counter):\n",
    "    if n/2 <1:\n",
    "        return counter\n",
    "    else:\n",
    "        return get_int_log(n/2, counter+1)\n",
    "    \n",
    "get_int_log(80, counter=0)"
   ]
  },
  {
   "cell_type": "markdown",
   "metadata": {},
   "source": [
    "C-4.11 Describe an efficient recursive function for solving the element unique-\n",
    "ness problem, which runs in time that is at most O(n 2 ) in the worst case\n",
    "without using sorting."
   ]
  },
  {
   "cell_type": "code",
   "execution_count": 57,
   "metadata": {},
   "outputs": [
    {
     "data": {
      "text/plain": [
       "True"
      ]
     },
     "execution_count": 57,
     "metadata": {},
     "output_type": "execute_result"
    }
   ],
   "source": [
    "from collections import defaultdict \n",
    "\n",
    "def check_unique(seq):\n",
    "    d = defaultdict(lambda: 0.0)\n",
    "    \n",
    "    def _fill_dict(seq, l, d):\n",
    "        if l ==1:\n",
    "            d[seq[0]] +=1\n",
    "        else:\n",
    "            d[seq[0]]+=1 \n",
    "            _fill_dict(seq[1:], len(seq[1:]), d)\n",
    "    \n",
    "    _fill_dict(seq, len(seq), d)\n",
    "    \n",
    "    for i in d.values():\n",
    "        if i > 1:\n",
    "            return False\n",
    "    return True\n",
    "\n",
    "check_unique(\"hel word\")"
   ]
  },
  {
   "cell_type": "markdown",
   "metadata": {},
   "source": [
    "C-4.12 Give a recursive algorithm to compute the product of two positive integers,\n",
    "m and n, using only addition and subtraction."
   ]
  },
  {
   "cell_type": "code",
   "execution_count": 66,
   "metadata": {},
   "outputs": [
    {
     "name": "stdout",
     "output_type": "stream",
     "text": [
      "24\n"
     ]
    }
   ],
   "source": [
    "def get_prod(m, n):\n",
    "    if m >n:\n",
    "        a = m\n",
    "        b = n\n",
    "    else:\n",
    "        a = n\n",
    "        b = m\n",
    "        \n",
    "    def _prod(a, b):\n",
    "        if b ==1:\n",
    "            return a\n",
    "        else:\n",
    "            return a + _prod(a, b-1)\n",
    "\n",
    "    return _prod(n, m)\n",
    "\n",
    "print(get_prod(3, 8))"
   ]
  },
  {
   "cell_type": "code",
   "execution_count": null,
   "metadata": {},
   "outputs": [],
   "source": []
  }
 ],
 "metadata": {
  "kernelspec": {
   "display_name": "Python 3",
   "language": "python",
   "name": "python3"
  },
  "language_info": {
   "codemirror_mode": {
    "name": "ipython",
    "version": 3
   },
   "file_extension": ".py",
   "mimetype": "text/x-python",
   "name": "python",
   "nbconvert_exporter": "python",
   "pygments_lexer": "ipython3",
   "version": "3.7.3"
  }
 },
 "nbformat": 4,
 "nbformat_minor": 2
}
