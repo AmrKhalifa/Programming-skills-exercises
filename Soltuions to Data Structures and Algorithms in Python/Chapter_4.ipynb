{
 "cells": [
  {
   "cell_type": "markdown",
   "metadata": {},
   "source": [
    "## My solutions to Code problems from chapter 4 ###\n",
    "### Recursions"
   ]
  },
  {
   "cell_type": "markdown",
   "metadata": {},
   "source": [
    "### Reinforce problems "
   ]
  },
  {
   "cell_type": "markdown",
   "metadata": {},
   "source": [
    "R-4.1 Describe a recursive algorithm for finding the maximum element in a se-\n",
    "quence, S, of n elements. What is your running time and space usage?"
   ]
  },
  {
   "cell_type": "code",
   "execution_count": 1,
   "metadata": {},
   "outputs": [
    {
     "data": {
      "text/plain": [
       "44"
      ]
     },
     "execution_count": 1,
     "metadata": {},
     "output_type": "execute_result"
    }
   ],
   "source": [
    "def get_max(s, l):\n",
    "    if len(s) ==1:\n",
    "        return s[0]\n",
    "    return max(s[0], get_max(s[1:], len(s[1:])))\n",
    "\n",
    "ll = [1, 2, 3, 4, 2, 44, 16]\n",
    "\n",
    "get_max(ll, len(ll))\n",
    "    "
   ]
  },
  {
   "cell_type": "markdown",
   "metadata": {},
   "source": [
    "R-4.6 Describe a recursive function for computing the n th Harmonic number,\n",
    "H n = ∑ ni=1 1/i."
   ]
  },
  {
   "cell_type": "code",
   "execution_count": 2,
   "metadata": {},
   "outputs": [
    {
     "name": "stdout",
     "output_type": "stream",
     "text": [
      "2.283333333333333\n",
      "2.283333333333333\n"
     ]
    }
   ],
   "source": [
    "def get_harmonic_recur(n):\n",
    "    if n ==1:\n",
    "        return 1\n",
    "    else:\n",
    "        return (1/n + get_harmonic_recur(n-1))\n",
    "\n",
    "def get_harmonic_iter(n):\n",
    "    s = 0\n",
    "    for i in range(1, n+1):\n",
    "        s += 1/i\n",
    "        \n",
    "    return s\n",
    "\n",
    "print(get_harmonic_recur(5))\n",
    "print(get_harmonic_iter(5))"
   ]
  },
  {
   "cell_type": "markdown",
   "metadata": {},
   "source": [
    "R-4.7 Describe a recursive function for converting a string of digits into the in-\n",
    "teger it represents. For example, 13531 represents the integer 13, 531."
   ]
  },
  {
   "cell_type": "code",
   "execution_count": 3,
   "metadata": {},
   "outputs": [
    {
     "name": "stdout",
     "output_type": "stream",
     "text": [
      "1,234,567,890\n"
     ]
    }
   ],
   "source": [
    "def convert_str(s, l):\n",
    "    if l <= 3:\n",
    "        return s\n",
    "    else:\n",
    "        l = len(s)\n",
    "        return convert_str(s[:l-3], l-3) + ','+s[-3:]\n",
    "\n",
    "l = \"1234567890\"\n",
    "print(convert_str(str(l), len(l)))\n"
   ]
  },
  {
   "cell_type": "markdown",
   "metadata": {},
   "source": [
    "R-4.8 Isabel has an interesting way of summing up the values in a sequence A of\n",
    "n integers, where n is a power of two. She creates a new sequence B of half\n",
    "the size of A and sets B[i] = A[2i] + A[2i + 1], for i = 0, 1, . . . , (n/2) − 1. If\n",
    "B has size 1, then she outputs B[0]. Otherwise, she replaces A with B, and\n",
    "repeats the process. What is the running time of her algorithm?"
   ]
  },
  {
   "cell_type": "markdown",
   "metadata": {},
   "source": [
    "O(n/2 + n/4 + n/8 + ...) = O(n(1/2 + 1/4 + 1/8 + 1/16+ ...)) = O(n)"
   ]
  },
  {
   "cell_type": "markdown",
   "metadata": {},
   "source": [
    "### Creativity Problems"
   ]
  },
  {
   "cell_type": "markdown",
   "metadata": {},
   "source": [
    "C-4.9 Write a short recursive Python function that finds the minimum and max-\n",
    "imum values in a sequence without using any loops."
   ]
  },
  {
   "cell_type": "code",
   "execution_count": 4,
   "metadata": {},
   "outputs": [
    {
     "name": "stdout",
     "output_type": "stream",
     "text": [
      "(212, -90)\n"
     ]
    }
   ],
   "source": [
    "def get_min_max(s):\n",
    "    def _get_min_max(s, l, maxx = True):\n",
    "        if l ==1:\n",
    "            return s[0]\n",
    "        else:\n",
    "            if maxx == True: \n",
    "                return max(s[0], _get_min_max(s[1:], len(s[1:]), True))\n",
    "            if maxx == False:\n",
    "                return min(s[0], _get_min_max(s[1:], len(s[1:]), False))\n",
    "            \n",
    "    maxx = _get_min_max(s, len(s), True)\n",
    "    minn = _get_min_max(s, len(s), False)\n",
    "    \n",
    "    return maxx, minn \n",
    "\n",
    "s = [0, -1, 1, 2, 3, 44, -90, 100, 212, 99]\n",
    "\n",
    "print(get_min_max(s))"
   ]
  },
  {
   "cell_type": "markdown",
   "metadata": {},
   "source": [
    "C-4.10 Describe a recursive algorithm to compute the integer part of the base-two\n",
    "logarithm of n using only addition and integer division"
   ]
  },
  {
   "cell_type": "code",
   "execution_count": 5,
   "metadata": {},
   "outputs": [
    {
     "data": {
      "text/plain": [
       "6"
      ]
     },
     "execution_count": 5,
     "metadata": {},
     "output_type": "execute_result"
    }
   ],
   "source": [
    "def get_int_log(n, counter):\n",
    "    if n/2 <1:\n",
    "        return counter\n",
    "    else:\n",
    "        return get_int_log(n/2, counter+1)\n",
    "    \n",
    "get_int_log(80, counter=0)"
   ]
  },
  {
   "cell_type": "markdown",
   "metadata": {},
   "source": [
    "C-4.11 Describe an efficient recursive function for solving the element unique-\n",
    "ness problem, which runs in time that is at most O(n 2 ) in the worst case\n",
    "without using sorting."
   ]
  },
  {
   "cell_type": "code",
   "execution_count": 6,
   "metadata": {},
   "outputs": [
    {
     "data": {
      "text/plain": [
       "True"
      ]
     },
     "execution_count": 6,
     "metadata": {},
     "output_type": "execute_result"
    }
   ],
   "source": [
    "from collections import defaultdict \n",
    "\n",
    "def check_unique(seq):\n",
    "    d = defaultdict(lambda: 0.0)\n",
    "    \n",
    "    def _fill_dict(seq, l, d):\n",
    "        if l ==1:\n",
    "            d[seq[0]] +=1\n",
    "        else:\n",
    "            d[seq[0]]+=1 \n",
    "            _fill_dict(seq[1:], len(seq[1:]), d)\n",
    "    \n",
    "    _fill_dict(seq, len(seq), d)\n",
    "    \n",
    "    for i in d.values():\n",
    "        if i > 1:\n",
    "            return False\n",
    "    return True\n",
    "\n",
    "check_unique(\"hel word\")"
   ]
  },
  {
   "cell_type": "markdown",
   "metadata": {},
   "source": [
    "C-4.12 Give a recursive algorithm to compute the product of two positive integers,\n",
    "m and n, using only addition and subtraction."
   ]
  },
  {
   "cell_type": "code",
   "execution_count": 7,
   "metadata": {},
   "outputs": [
    {
     "name": "stdout",
     "output_type": "stream",
     "text": [
      "24\n"
     ]
    }
   ],
   "source": [
    "def get_prod(m, n):\n",
    "    if m >n:\n",
    "        a = m\n",
    "        b = n\n",
    "    else:\n",
    "        a = n\n",
    "        b = m\n",
    "        \n",
    "    def _prod(a, b):\n",
    "        if b ==1:\n",
    "            return a\n",
    "        else:\n",
    "            return a + _prod(a, b-1)\n",
    "\n",
    "    return _prod(n, m)\n",
    "\n",
    "print(get_prod(3, 8))"
   ]
  },
  {
   "cell_type": "markdown",
   "metadata": {},
   "source": [
    "C-4.15 Write a recursive function that will output all the subsets of a set of n\n",
    "elements (without repeating any subsets)."
   ]
  },
  {
   "cell_type": "code",
   "execution_count": 60,
   "metadata": {},
   "outputs": [
    {
     "name": "stdout",
     "output_type": "stream",
     "text": [
      "[[], [3], [2], [2, 3], [1], [1, 3], [1, 2], [1, 2, 3]]\n"
     ]
    }
   ],
   "source": [
    "def get_power_set(ss):\n",
    "    p_set = [] \n",
    "    def _recur_power_set(s, e): \n",
    "        if len (s) ==0:\n",
    "            p_set.append(e)\n",
    "        else:\n",
    "            _recur_power_set(s[1:], e)\n",
    "            z = list(e)\n",
    "            z.append(s[0])\n",
    "            _recur_power_set(s[1:], z)\n",
    "    \n",
    "    _recur_power_set(ss, e= [])\n",
    "    return p_set\n",
    "\n",
    "print(get_power_set([1, 2, 3]))"
   ]
  },
  {
   "cell_type": "markdown",
   "metadata": {},
   "source": [
    "C-4.16 Write a short recursive Python function that takes a character string s and\n",
    "outputs its reverse. For example, the reverse of pots&pans would be\n",
    "snap&stop ."
   ]
  },
  {
   "cell_type": "code",
   "execution_count": 136,
   "metadata": {},
   "outputs": [
    {
     "data": {
      "text/plain": [
       "'snap&stop'"
      ]
     },
     "execution_count": 136,
     "metadata": {},
     "output_type": "execute_result"
    }
   ],
   "source": [
    "def reverse(s):\n",
    "    if len(s) ==1: \n",
    "        return s[0]\n",
    "    else:\n",
    "        return reverse(s[1:]) + s[0]\n",
    "\n",
    "s = \"pots&pans\"\n",
    "\n",
    "reverse(s)"
   ]
  },
  {
   "cell_type": "markdown",
   "metadata": {},
   "source": [
    "C-4.17 Write a short recursive Python function that determines if a string s is a\n",
    "palindrome, that is, it is equal to its reverse. For example, racecar and\n",
    "gohangasalamiimalasagnahog are palindromes."
   ]
  },
  {
   "cell_type": "code",
   "execution_count": 137,
   "metadata": {},
   "outputs": [
    {
     "name": "stdout",
     "output_type": "stream",
     "text": [
      "True\n"
     ]
    }
   ],
   "source": [
    "def check_palindrome(s, i, j):\n",
    "        if i ==j or i ==j+1:\n",
    "            return True\n",
    "        if s[i] == s[j]: \n",
    "            return check_palindrome(s, i+1, j-1)\n",
    "        else:\n",
    "            return False \n",
    "\n",
    "string = \"gohangasalamiimalasagnahog\"\n",
    "print(check_palindrome(string, 0, len(string)-1))"
   ]
  },
  {
   "cell_type": "markdown",
   "metadata": {},
   "source": [
    "C-4.18 Use recursion to write a Python function for determining if a string s has\n",
    "more vowels than consonants."
   ]
  },
  {
   "cell_type": "code",
   "execution_count": 172,
   "metadata": {},
   "outputs": [
    {
     "name": "stdout",
     "output_type": "stream",
     "text": [
      "True\n"
     ]
    }
   ],
   "source": [
    "def is_vowler(s, cv, cc):\n",
    "    if len(s) ==0:\n",
    "        return True if (cv >cc) else False\n",
    "    else:\n",
    "        if s[0] in ['o', 'u', 'i', 'a', 'e']: \n",
    "            cv += 1\n",
    "        else:\n",
    "            cc +=1\n",
    "\n",
    "    return is_vowler(s[1:], cv, cc)\n",
    "\n",
    "print(is_vowler(\"constaaaaaantsa\", cv =0, cc =0))\n",
    "        \n",
    "    "
   ]
  },
  {
   "cell_type": "markdown",
   "metadata": {},
   "source": [
    "C-4.19 Write a short recursive Python function that rearranges a sequence of in-\n",
    "teger values so that all the even values appear before all the odd values."
   ]
  },
  {
   "cell_type": "code",
   "execution_count": 182,
   "metadata": {},
   "outputs": [
    {
     "name": "stdout",
     "output_type": "stream",
     "text": [
      "[22, 12, 98, 76, 10, 13, 73, 67, 5, 17, 35]\n"
     ]
    }
   ],
   "source": [
    "def rearrage(seq):\n",
    "    eve_seq = []\n",
    "    odd_seq = []\n",
    "    def _recur(s, eve_seq, odd_seq):\n",
    "        if len(s) ==0:\n",
    "            return \n",
    "        else:\n",
    "            if s[0] %2 ==0:\n",
    "                eve_seq.append(s[0])\n",
    "                return _recur(s[1:], eve_seq, odd_seq)\n",
    "            else:\n",
    "                odd_seq.append(s[0])\n",
    "                return _recur(s[1:], eve_seq, odd_seq)\n",
    "    \n",
    "    _recur(seq, eve_seq, odd_seq)\n",
    "    eve_seq.extend(odd_seq)\n",
    "    return eve_seq\n",
    "\n",
    "print(rearrage([22, 13, 12, 98, 73, 76, 67, 10, 5, 17, 35]))"
   ]
  },
  {
   "cell_type": "markdown",
   "metadata": {},
   "source": [
    "C-4.20 Given an unsorted sequence, S, of integers and an integer k, describe a\n",
    "recursive algorithm for rearranging the elements in S so that all elements\n",
    "less than or equal to k come before any elements larger than k. What is\n",
    "the running time of your algorithm on a sequence of n values?"
   ]
  },
  {
   "cell_type": "code",
   "execution_count": 195,
   "metadata": {},
   "outputs": [
    {
     "name": "stdout",
     "output_type": "stream",
     "text": [
      "[22, 13, 12, 10, 5, 17, '* 30 *', 98, 73, 76, 67, 35]\n",
      "O(n) in time\n",
      "O(n) in space\n"
     ]
    }
   ],
   "source": [
    "def rearrage(seq, k):\n",
    "    smaller_seq = []\n",
    "    larger_seq = []\n",
    "    def _recur(s, smaller_seq, larger_seq):\n",
    "        if len(s) ==0:\n",
    "            return \n",
    "        else:\n",
    "            if s[0] <k:\n",
    "                smaller_seq.append(s[0])\n",
    "                return _recur(s[1:], smaller_seq, larger_seq)\n",
    "            else:\n",
    "                larger_seq.append(s[0])\n",
    "                return _recur(s[1:], smaller_seq, larger_seq)\n",
    "    \n",
    "    _recur(seq, smaller_seq, larger_seq)\n",
    "    smaller_seq.extend([\"* \"+str(k)+\" *\"])\n",
    "    smaller_seq.extend(larger_seq)\n",
    "    return smaller_seq\n",
    "\n",
    "print(rearrage([22, 13, 12, 98, 73, 76, 67, 10, 5, 17, 35], 30))\n",
    "print(\"O(n) in time\")\n",
    "print(\"O(n) in space\")"
   ]
  },
  {
   "cell_type": "markdown",
   "metadata": {},
   "source": [
    "Suppose you are given an n-element sequence, S, containing distinct in-\n",
    "tegers that are listed in increasing order. Given a number k, describe a\n",
    "recursive algorithm to find two integers in S that sum to k, if such a pair\n",
    "exists. What is the running time of your algorithm?"
   ]
  },
  {
   "cell_type": "code",
   "execution_count": 242,
   "metadata": {},
   "outputs": [],
   "source": [
    "def get_sum_pair(seq, k):\n",
    "    if len(seq) == 0: \n",
    "        return False\n",
    "    else:\n",
    "        for i in range(1, len(seq)):\n",
    "            if seq[0] + seq[i] == k:\n",
    "                return (seq[0], seq[i])\n",
    "            \n",
    "        return get_sum_pair(seq[1:], k)\n",
    "    "
   ]
  },
  {
   "cell_type": "code",
   "execution_count": 252,
   "metadata": {},
   "outputs": [
    {
     "name": "stdout",
     "output_type": "stream",
     "text": [
      "(2, 5)\n"
     ]
    }
   ],
   "source": [
    "print(get_sum_pair([1, 2, 3, 4, 5], 7))"
   ]
  },
  {
   "cell_type": "markdown",
   "metadata": {},
   "source": [
    "C-4.22 Develop a nonrecursive implementation of the version of power from\n",
    "Code Fragment 4.12 that uses repeated squaring."
   ]
  },
  {
   "cell_type": "code",
   "execution_count": 357,
   "metadata": {},
   "outputs": [
    {
     "name": "stdout",
     "output_type": "stream",
     "text": [
      "125\n",
      "O(log n) in time \n",
      "O(log n) in space\n"
     ]
    }
   ],
   "source": [
    "def iter_pow(base, power):\n",
    "    binary = list(reversed((bin(power)[2:])))\n",
    "    pows = [base]\n",
    "    for i in range(len(binary)-1):\n",
    "        pows.append(pows[i]**2)\n",
    "        \n",
    "    prod = 1\n",
    "    for i, j in zip(binary, pows):\n",
    "        if int (i) ==1: \n",
    "            prod *= (int(i) * int (j))\n",
    "    \n",
    "    return prod\n",
    "\n",
    "print(iter_pow(5,3))\n",
    "print(\"O(log n) in time \")\n",
    "print(\"O(log n) in space\")"
   ]
  },
  {
   "cell_type": "code",
   "execution_count": null,
   "metadata": {},
   "outputs": [],
   "source": []
  }
 ],
 "metadata": {
  "kernelspec": {
   "display_name": "Python 3",
   "language": "python",
   "name": "python3"
  },
  "language_info": {
   "codemirror_mode": {
    "name": "ipython",
    "version": 3
   },
   "file_extension": ".py",
   "mimetype": "text/x-python",
   "name": "python",
   "nbconvert_exporter": "python",
   "pygments_lexer": "ipython3",
   "version": "3.7.3"
  }
 },
 "nbformat": 4,
 "nbformat_minor": 2
}
