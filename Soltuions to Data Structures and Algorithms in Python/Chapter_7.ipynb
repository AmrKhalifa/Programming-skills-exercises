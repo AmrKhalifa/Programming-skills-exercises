{
 "cells": [
  {
   "cell_type": "markdown",
   "metadata": {},
   "source": [
    "### Solutions to the problems of Chapter 7 \n",
    "## Linked Lists"
   ]
  },
  {
   "cell_type": "code",
   "execution_count": 1,
   "metadata": {},
   "outputs": [],
   "source": [
    "import time\n",
    "import random\n",
    "from collections import defaultdict  "
   ]
  },
  {
   "cell_type": "code",
   "execution_count": 2,
   "metadata": {},
   "outputs": [],
   "source": [
    "class Empty(Exception):\n",
    "    pass "
   ]
  },
  {
   "cell_type": "code",
   "execution_count": 3,
   "metadata": {},
   "outputs": [
    {
     "name": "stdout",
     "output_type": "stream",
     "text": [
      "1-> 2-> 3-> 4-> \n",
      "4\n"
     ]
    }
   ],
   "source": [
    "class SinglyLinkedList:\n",
    "    class _Node:\n",
    "        def __init__(self, data = None):\n",
    "            self._data = data\n",
    "            self._next = None\n",
    "    \n",
    "    def __init__(self, arr = None): \n",
    "        self.head = self._Node()\n",
    "        self._size =0  \n",
    "        if arr is None:\n",
    "            return \n",
    "        else:\n",
    "            for item in arr: \n",
    "                self.append(item)\n",
    "    \n",
    "    def append(self, data):\n",
    "        new_element = self._Node(data)\n",
    "        cur = self.head \n",
    "        while cur._next is not None: \n",
    "            cur = cur._next\n",
    "        cur._next = new_element\n",
    "        self._size += 1\n",
    "        \n",
    "    def __len__(self):\n",
    "        return self._size \n",
    "    \n",
    "    def __repr__(self):\n",
    "        cur = self.head\n",
    "        print_list = [] \n",
    "        while (cur._next is not None) and (cur._next is not self.head):\n",
    "            cur = cur._next\n",
    "            print_list.append(str(cur._data) + '-> ')\n",
    "        return ''.join(item for item in print_list)\n",
    "\n",
    "arr_data = [1, 2, 3, 4]\n",
    "\n",
    "LL = SinglyLinkedList(arr_data) \n",
    "print(LL)\n",
    "print(len(LL))"
   ]
  },
  {
   "cell_type": "markdown",
   "metadata": {},
   "source": [
    "****Reinforcement Problems*** "
   ]
  },
  {
   "cell_type": "markdown",
   "metadata": {},
   "source": [
    "R-7.1 Give an algorithm for finding the second-to-last node in a singly linked list in which the last node is indicated by a next reference of None."
   ]
  },
  {
   "cell_type": "code",
   "execution_count": 4,
   "metadata": {},
   "outputs": [
    {
     "name": "stdout",
     "output_type": "stream",
     "text": [
      "1-> 2-> 3-> 4-> \n",
      "3\n"
     ]
    }
   ],
   "source": [
    "first = LL.head \n",
    "second = LL.head \n",
    "\n",
    "first = first._next \n",
    "\n",
    "while first._next is not None:\n",
    "    first = first._next \n",
    "    second = second._next \n",
    "print(LL)    \n",
    "print(second._data)"
   ]
  },
  {
   "cell_type": "markdown",
   "metadata": {},
   "source": [
    "R-7.2 Describe a good algorithm for concatenating two singly linked lists L and M, given only references to the first node of each list, into a single list L' that contains all the nodes of L followed by all the nodes of M."
   ]
  },
  {
   "cell_type": "code",
   "execution_count": 5,
   "metadata": {},
   "outputs": [
    {
     "name": "stdout",
     "output_type": "stream",
     "text": [
      "0-> 1-> 2-> 3-> 4-> \n",
      "10-> 11-> 12-> 13-> 14-> \n",
      "0-> 1-> 2-> 3-> 4-> 10-> 11-> 12-> 13-> 14-> \n"
     ]
    }
   ],
   "source": [
    "L = SinglyLinkedList([i for i in range(5)])\n",
    "M = SinglyLinkedList([i for i in range(10, 15)])\n",
    "print(L)\n",
    "print(M)\n",
    "\n",
    "cur_L = L.head\n",
    "cur_M = M.head \n",
    "\n",
    "while cur_L._next is not None:\n",
    "    cur_L = cur_L._next\n",
    "    \n",
    "cur_L._next = cur_M._next \n",
    "L_ = L\n",
    "\n",
    "print(L_)"
   ]
  },
  {
   "cell_type": "markdown",
   "metadata": {},
   "source": [
    "R-7.3 Describe a recursive algorithm that counts the number of nodes in a singly linked list."
   ]
  },
  {
   "cell_type": "code",
   "execution_count": 6,
   "metadata": {},
   "outputs": [
    {
     "name": "stdout",
     "output_type": "stream",
     "text": [
      "0-> 1-> 2-> 3-> 4-> 5-> 6-> 7-> 8-> 9-> \n",
      "10\n"
     ]
    }
   ],
   "source": [
    "def count_elemnts(ll):\n",
    "    current = ll.head \n",
    "    def _recursive_count(current, count):\n",
    "        if current is None:\n",
    "                return count-1\n",
    "        else:\n",
    "            return _recursive_count(current._next, count+1)\n",
    "    print(_recursive_count(current, count = 0))\n",
    "    \n",
    "LList = SinglyLinkedList([i for i in range(10)])\n",
    "print(LList)\n",
    "count_elemnts(LList)"
   ]
  },
  {
   "cell_type": "markdown",
   "metadata": {},
   "source": [
    "R-7.4 Describe in detail how to swap two nodes x and y (and not just their contents) in a singly linked list L given references only to x and y. Repeat this exercise for the case when L is a doubly linked list. Which algorithm takes more time?"
   ]
  },
  {
   "cell_type": "code",
   "execution_count": 7,
   "metadata": {},
   "outputs": [
    {
     "data": {
      "text/plain": [
       "\"\\nno information about if x and y are consecutive, so will assume they're not \\n\\nFor single linked list : \\n\\nfind before x in O(n) -> before_x \\nfind before y in O(n) -> before_y \\n\\nO(1): \\nold_y = y \\n\\n    before_x.next = y \\n    y.next = x.next \\n\\n    before_y = x \\n    x.next = old_y.next \\n    \\n    \\n\\nDoubly Linked List: \\n\\nfind before x in O(1) by using x.pervious -> before_x \\nfind before y in O(1) by using y.previous -> before_y \\n\\nthe result of the operations are essentilly similar keep in mind changing two pointers for each node\\n\\n\\n\\nDoing the Doubly Linked List is much faster --> constant time compared to linear time\\nin the case of a Singly Linked List \\n\""
      ]
     },
     "execution_count": 7,
     "metadata": {},
     "output_type": "execute_result"
    }
   ],
   "source": [
    "'''\n",
    "no information about if x and y are consecutive, so will assume they're not \n",
    "\n",
    "For single linked list : \n",
    "\n",
    "find before x in O(n) -> before_x \n",
    "find before y in O(n) -> before_y \n",
    "\n",
    "O(1): \n",
    "old_y = y \n",
    "\n",
    "    before_x.next = y \n",
    "    y.next = x.next \n",
    "\n",
    "    before_y = x \n",
    "    x.next = old_y.next \n",
    "    \n",
    "    \n",
    "\n",
    "Doubly Linked List: \n",
    "\n",
    "find before x in O(1) by using x.pervious -> before_x \n",
    "find before y in O(1) by using y.previous -> before_y \n",
    "\n",
    "the result of the operations are essentilly similar keep in mind changing two pointers for each node\n",
    "\n",
    "\n",
    "\n",
    "Doing the Doubly Linked List is much faster --> constant time compared to linear time\n",
    "in the case of a Singly Linked List \n",
    "'''"
   ]
  },
  {
   "cell_type": "markdown",
   "metadata": {},
   "source": [
    "R-7.5 Implement a function that counts the number of nodes in a circularly linked list."
   ]
  },
  {
   "cell_type": "code",
   "execution_count": 8,
   "metadata": {},
   "outputs": [
    {
     "name": "stdout",
     "output_type": "stream",
     "text": [
      "1-> 2-> 3-> 4-> 5-> 6-> 7-> \n",
      "7\n"
     ]
    }
   ],
   "source": [
    "class CircularLinkedList:\n",
    "    class _Node:\n",
    "        def __init__(self, data = None, nxt = None):\n",
    "            self._data = data \n",
    "            self._next = nxt \n",
    "    \n",
    "    def __init__(self, arr = None): \n",
    "        self.head = self._Node()\n",
    "        if arr is None:\n",
    "            return \n",
    "        else:\n",
    "            for item in arr: \n",
    "                self.append(item)\n",
    "    \n",
    "    def append(self, data):\n",
    "        new_element = self._Node(data, nxt = self.head)\n",
    "        cur = self.head\n",
    "        while  cur._next is not self.head and cur._next is not None:\n",
    "            cur = cur._next\n",
    "        cur._next = new_element \n",
    "        \n",
    "    def __repr__(self):\n",
    "        cur = self.head\n",
    "        print_list = [] \n",
    "        while  cur._next is not self.head and cur._next is not None:\n",
    "            cur = cur._next\n",
    "            print_list.append(str(cur._data) + '-> ')\n",
    "        return ''.join(item for item in print_list)\n",
    "\n",
    "data = [1, 2, 3, 4, 5, 6, 7]\n",
    "CL = CircularLinkedList(data) \n",
    "print(CL)\n",
    "\n",
    "def count_elements(ll):\n",
    "    current = ll.head._next  \n",
    "    def _recursive_count(current, count):\n",
    "        if current is ll.head:\n",
    "                return count\n",
    "        else:\n",
    "            return _recursive_count(current._next, count+1)\n",
    "    print(_recursive_count(current, count = 0))\n",
    "\n",
    "count_elements(CL)"
   ]
  },
  {
   "cell_type": "markdown",
   "metadata": {},
   "source": [
    "R-7.6 Suppose that x and y are references to nodes of circularly linked lists, although not necessarily the same list. Describe a fast algorithm for telling if x and y belong to the same list."
   ]
  },
  {
   "cell_type": "code",
   "execution_count": 9,
   "metadata": {},
   "outputs": [
    {
     "data": {
      "text/plain": [
       "\"\\nstart from either one, traverse the list until :\\na) Find the other one -> x, and y belong to the same list. \\nb) you come back at the same node you started with ->x, and y don't belong to the same list. \\n\\n\""
      ]
     },
     "execution_count": 9,
     "metadata": {},
     "output_type": "execute_result"
    }
   ],
   "source": [
    "'''\n",
    "start from either one, traverse the list until :\n",
    "a) Find the other one -> x, and y belong to the same list. \n",
    "b) you come back at the same node you started with ->x, and y don't belong to the same list. \n",
    "\n",
    "'''"
   ]
  },
  {
   "cell_type": "markdown",
   "metadata": {},
   "source": [
    "R-7.7 Our CircularQueue class of Section 7.2.2 provides a rotate() method that has semantics equivalent to Q.enqueue(Q.dequeue()), for a nonempty queue. Implement such a method for the LinkedQueue class of Section 7.1.2 without the creation of any new nodes."
   ]
  },
  {
   "cell_type": "code",
   "execution_count": 10,
   "metadata": {},
   "outputs": [
    {
     "name": "stdout",
     "output_type": "stream",
     "text": [
      "0-> 1-> 2-> 3-> 4-> \n",
      "0\n",
      "1-> 2-> 3-> 4-> \n",
      "2-> 3-> 4-> 1-> \n"
     ]
    }
   ],
   "source": [
    "class LinkedQueue:     \n",
    "    class _Node:\n",
    "        __slots__ = '_element', '_next'\n",
    "        def __init__(self, element, nxt):\n",
    "            self._element = element \n",
    "            self._next = nxt \n",
    "    \n",
    "    def __init__(self):\n",
    "        self._head = None\n",
    "        self._tail = None \n",
    "        self._size = 0 \n",
    "        \n",
    "    def __len__(self):\n",
    "        return self._size\n",
    "    \n",
    "    def is_empty(self):\n",
    "        return self._size ==0\n",
    "    \n",
    "    def first(self):\n",
    "        if self.is_empty():\n",
    "            raise Empty('Queue is Empty')\n",
    "        return self._head._element \n",
    "    \n",
    "    def dequeue(self):\n",
    "        if self.is_empty():\n",
    "            raise Empty('Queue is Empty')\n",
    "        answer = self._head._element\n",
    "        self._head = self._head._next \n",
    "        self._size -= 1\n",
    "        if self.is_empty():\n",
    "            self._tail = None\n",
    "        return answer \n",
    "    \n",
    "    def enqueue(self, e):\n",
    "        newest = self._Node(e, None)\n",
    "        if self.is_empty():\n",
    "            self._head = newest \n",
    "        else:\n",
    "            self._tail._next = newest \n",
    "        self._tail = newest \n",
    "        self._size += 1     \n",
    "        \n",
    "    def rotate(self):\n",
    "        if self.is_empty():\n",
    "            raise Empty(\"Queue is empty\") \n",
    "        newest = self._head\n",
    "        self._tail._next = newest\n",
    "        self._tail = newest\n",
    "        self._head = self._head._next\n",
    "        newest._next = None\n",
    "    \n",
    "    def __repr__(self):\n",
    "        cur = self._head\n",
    "        print_list = [] \n",
    "        while cur._next is not None:\n",
    "            print_list.append(str(cur._element) + '-> ')\n",
    "            cur = cur._next\n",
    "        print_list.append(str(cur._element) + '-> ')\n",
    "        return ''.join(item for item in print_list)\n",
    "    \n",
    "q = LinkedQueue()\n",
    "for i in range (5):\n",
    "    q.enqueue(i)\n",
    "print(q)\n",
    "print(q.dequeue())\n",
    "print(q)\n",
    "\n",
    "q.rotate()\n",
    "print(q)"
   ]
  },
  {
   "cell_type": "markdown",
   "metadata": {},
   "source": [
    "R-7.8 Describe a nonrecursive method for finding, by link hopping, the middle node of a doubly linked list with header and trailer sentinels. In the case\n",
    "of an even number of nodes, report the node slightly left of center as the “middle.” (Note: This method must only use link hopping; it cannot use a\n",
    "counter.) What is the running time of this method?"
   ]
  },
  {
   "cell_type": "code",
   "execution_count": 11,
   "metadata": {},
   "outputs": [
    {
     "data": {
      "text/plain": [
       "\"\\nuse two pointers cur_1, cur_2\\n\\ncur_1 = DLL.header\\ncur_2 = DLL.trailer \\n\\nwhile(True):\\n    if DLL.is_empty():\\n        raise Empty('Empty Doubly Linked List')\\n    cur_1 = cur_1._next()\\n    cur_2 = cur_2._next()\\n    \\n    if cur_1 == cur_2:\\n        return cur_1._element \\n    elif:\\n        cur_1.next == cur_2:\\n        return cur_1.next \\n    \\nrunnig time is O(n)\\n\""
      ]
     },
     "execution_count": 11,
     "metadata": {},
     "output_type": "execute_result"
    }
   ],
   "source": [
    "'''\n",
    "use two pointers cur_1, cur_2\n",
    "\n",
    "cur_1 = DLL.header\n",
    "cur_2 = DLL.trailer \n",
    "\n",
    "while(True):\n",
    "    if DLL.is_empty():\n",
    "        raise Empty('Empty Doubly Linked List')\n",
    "    cur_1 = cur_1._next()\n",
    "    cur_2 = cur_2._next()\n",
    "    \n",
    "    if cur_1 == cur_2:\n",
    "        return cur_1._element \n",
    "    elif:\n",
    "        cur_1.next == cur_2:\n",
    "        return cur_1.next \n",
    "    \n",
    "runnig time is O(n)\n",
    "'''"
   ]
  },
  {
   "cell_type": "markdown",
   "metadata": {},
   "source": [
    "R-7.9 Give a fast algorithm for concatenating two doubly linked lists L and M, with header and trailer sentinel nodes, into a single list L'. "
   ]
  },
  {
   "cell_type": "code",
   "execution_count": 12,
   "metadata": {},
   "outputs": [
    {
     "data": {
      "text/plain": [
       "'\\nTrivial: same as problem 7.2 \\nexcept will take out the trailer of L and the header of M\\nthen change two pointers, \\n_next of last node in L to point to M, \\n_prev of first node in M to point to L \\n\\ncan do that in constat time. \\n'"
      ]
     },
     "execution_count": 12,
     "metadata": {},
     "output_type": "execute_result"
    }
   ],
   "source": [
    "'''\n",
    "Trivial: same as problem 7.2 \n",
    "except will take out the trailer of L and the header of M\n",
    "then change two pointers, \n",
    "_next of last node in L to point to M, \n",
    "_prev of first node in M to point to L \n",
    "\n",
    "can do that in constat time. \n",
    "'''"
   ]
  },
  {
   "cell_type": "markdown",
   "metadata": {},
   "source": [
    "R-7.10 There seems to be some redundancy in the repertoire of the positional list ADT, as the operation L.add_first(e) could be enacted by the alternative L.add_before(L.first(), e). Likewise, L.add_last(e) might be performed as L.add_after(L.last(), e). Explain why the methods add first and add last are necessary."
   ]
  },
  {
   "cell_type": "code",
   "execution_count": 13,
   "metadata": {},
   "outputs": [
    {
     "data": {
      "text/plain": [
       "\"\\nbecause add_before() calls \\ndef add before(self, p, e):\\n    original = self._validate(p)\\n    return self._insert_between(e, original._prev, original)\\n\\nand can't get original._prev in this case \\n\\nsame analogy for add_after()\\n\""
      ]
     },
     "execution_count": 13,
     "metadata": {},
     "output_type": "execute_result"
    }
   ],
   "source": [
    "'''\n",
    "because add_before() calls \n",
    "def add before(self, p, e):\n",
    "    original = self._validate(p)\n",
    "    return self._insert_between(e, original._prev, original)\n",
    "\n",
    "and can't get original._prev in this case \n",
    "\n",
    "same analogy for add_after()\n",
    "'''"
   ]
  },
  {
   "cell_type": "markdown",
   "metadata": {},
   "source": [
    "R-7.11 Implement a function, with calling syntax max(L), that returns the maximum element from a PositionalList instance L containing comparable elements."
   ]
  },
  {
   "cell_type": "code",
   "execution_count": 14,
   "metadata": {},
   "outputs": [],
   "source": [
    "class _DoublyLinkedBase:\n",
    "    class _Node:\n",
    "        __slots__='_element', '_prev', '_next'\n",
    "        \n",
    "        def __init__(self, element, prev, nxt):\n",
    "            self._element = element \n",
    "            self._prev = prev\n",
    "            self._next = nxt \n",
    "            \n",
    "    def __init__(self):\n",
    "        self._header = self._Node(None, None, None)\n",
    "        self._trailer = self._Node(None, None, None)\n",
    "        self._header._next = self._trailer \n",
    "        self._trailer._prev = self._header\n",
    "        self._size = 0 \n",
    "        \n",
    "    def __len__(self): \n",
    "        return self._size \n",
    "    \n",
    "    def is_empty(self):\n",
    "        return self._size == 0 \n",
    "    \n",
    "    def _insert_between(self, e, predecessor, successor):\n",
    "        newest = self._Node(e, predecessor, successor)\n",
    "        predecessor._next = newest\n",
    "        successor._prev = newest \n",
    "        self._size += 1\n",
    "        return newest \n",
    "    \n",
    "    def _delete_node(self, node):\n",
    "        predecessor = node._prev \n",
    "        successor = node._next \n",
    "        predecessor._next = successor \n",
    "        successor._prev = predecessor \n",
    "        self._size -= 1\n",
    "        element = node._element \n",
    "        node._prev = node._next = node._element = None\n",
    "        return element \n",
    "\n",
    "class PositionalList(_DoublyLinkedBase):\n",
    "    def __init__(self):\n",
    "        super().__init__() \n",
    "        \n",
    "    class Position: \n",
    "        def __init__(self, container, node):\n",
    "            self._container = container \n",
    "            self._node = node \n",
    "            \n",
    "        def element(self):\n",
    "            return self._node._element \n",
    "        def __eq__(self, other): \n",
    "            return type(other) is type(self) and other._node is self._node\n",
    "        def __ne__(self, other):\n",
    "            return not(self==other)\n",
    "    \n",
    "    def _validate(self, p):\n",
    "        if not isinstance(p, self.Position):\n",
    "            raise TypeError('p must be proper position type')\n",
    "        if p._container is not self:\n",
    "            raise ValueError('p does not belong to this type')\n",
    "        if p._node._next is None:\n",
    "            raise ValueError('p is no longer valid')\n",
    "        return p._node \n",
    "    \n",
    "    def _make_position(self, node):\n",
    "        if (node is self._header) or (node is self._trailer):\n",
    "            return None\n",
    "        else:\n",
    "            return self.Position(self, node)\n",
    "        \n",
    "    def first(self):\n",
    "        return self._make_position(self._header._next)\n",
    "    \n",
    "    def last(self):\n",
    "        return self._make_position(self._trailer._prev)\n",
    "    \n",
    "    def before(self, p):\n",
    "        node = self._validate(p)\n",
    "        return self._make_position(node._prev)\n",
    "    \n",
    "    def after(self, p):\n",
    "        node = self._validate(p)\n",
    "        return self._make_position(node._next)\n",
    "    \n",
    "    def __iter__(self):\n",
    "        cursor = self.first() \n",
    "        while cursor is not None:\n",
    "            yield cursor.element()\n",
    "            cursor = self.after(cursor)\n",
    "            \n",
    "    def _insert_between(self, e, predecessor, successor):\n",
    "        node = super()._insert_between(e, predecessor, successor)\n",
    "        return self._make_position(node)\n",
    "    \n",
    "    def add_first(self, e):\n",
    "        return self._insert_between(e, self._header, self._header._next)\n",
    "    \n",
    "    def add_last(self, e):\n",
    "        return self._insert_between(e, self._trailer._prev, self._trailer)\n",
    "    \n",
    "    def add_before(self, p, e):\n",
    "        original = self._validate(p)\n",
    "        return self._insert_between(e, original._prev, original)\n",
    "    \n",
    "    def add_after(self, p, e):\n",
    "        original = self._validate(p)\n",
    "        return self._insert_between(e, original, original._next)\n",
    "    \n",
    "    def delete(self, p):\n",
    "        original = self._validate(p)\n",
    "        return self._delete_node(original)\n",
    "    \n",
    "    def replace(self, p, e):\n",
    "        original = self._validate(p)\n",
    "        old_value = original._element \n",
    "        original._element = e\n",
    "        return old_value"
   ]
  },
  {
   "cell_type": "code",
   "execution_count": 15,
   "metadata": {},
   "outputs": [
    {
     "name": "stdout",
     "output_type": "stream",
     "text": [
      "1\n",
      "5\n",
      "3\n",
      "2\n",
      "the maximum is: 5\n"
     ]
    }
   ],
   "source": [
    "pl = PositionalList() \n",
    "pl.add_first(2)\n",
    "pl.add_first(1)\n",
    "first = pl.first()\n",
    "ps = pl.add_after(first, 3)\n",
    "pl.add_before(ps, 5)\n",
    "\n",
    "for element in pl:\n",
    "    print(element)\n",
    "\n",
    "print(f'the maximum is: {max(pl)}')"
   ]
  },
  {
   "cell_type": "markdown",
   "metadata": {},
   "source": [
    "R-7.12 Redo the previously problem with max as a method of the PositionalList class, so that calling syntax L.max() is supported."
   ]
  },
  {
   "cell_type": "code",
   "execution_count": 16,
   "metadata": {},
   "outputs": [
    {
     "name": "stdout",
     "output_type": "stream",
     "text": [
      "1\n",
      "5\n",
      "3\n",
      "2\n",
      "the maximum is: 5\n",
      "the new version maximum is: 5\n"
     ]
    }
   ],
   "source": [
    "class MaxPositionalList(PositionalList):\n",
    "    def __init__(self): \n",
    "        super().__init__()\n",
    "        self._max = -9999\n",
    "    \n",
    "    def _insert_between(self, e, predecessor, successor):\n",
    "        first_pos = super()._insert_between(e, predecessor, successor)\n",
    "        node = first_pos._node \n",
    "        if e> self._max:\n",
    "            self._max = e \n",
    "        return self._make_position(node)\n",
    "    \n",
    "    def get_max(self):\n",
    "        return self._max \n",
    "\n",
    "mpl = MaxPositionalList()\n",
    "mpl.add_first(2)\n",
    "mpl.add_first(1)\n",
    "\n",
    "first = mpl.first()\n",
    "\n",
    "ps = mpl.add_after(first, 3)\n",
    "mpl.add_before(ps, 5)\n",
    "\n",
    "for element in mpl:\n",
    "    print(element)\n",
    "\n",
    "print(f'the maximum is: {max(mpl)}')\n",
    "print(f'the new version maximum is: {mpl.get_max()}')"
   ]
  },
  {
   "cell_type": "markdown",
   "metadata": {},
   "source": [
    "R-7.13 Update the PositionalList class to support an additional method find(e), which returns the position of the (first occurrence of) element e in the list (or None if not found)."
   ]
  },
  {
   "cell_type": "code",
   "execution_count": 17,
   "metadata": {},
   "outputs": [
    {
     "name": "stdout",
     "output_type": "stream",
     "text": [
      "1\n",
      "5\n",
      "3\n",
      "2\n",
      "<__main__.PositionalList.Position object at 0x000000496F75D608>\n",
      "3\n"
     ]
    }
   ],
   "source": [
    "class FindPositionalList(PositionalList):\n",
    "    def find(self, e): \n",
    "        cursor = self.first() \n",
    "        while cursor is not None: \n",
    "            if cursor.element() == e:\n",
    "                return cursor\n",
    "            cursor = self.after(cursor)\n",
    "        return False \n",
    "    \n",
    "    \n",
    "pl = FindPositionalList() \n",
    "pl.add_first(2)\n",
    "pl.add_first(1)\n",
    "first = pl.first()\n",
    "ps = pl.add_after(first, 3)\n",
    "pl.add_before(ps, 5)\n",
    "\n",
    "for element in pl:\n",
    "    print(element)\n",
    "    \n",
    "cur = pl.find(5)\n",
    "print(cur)\n",
    "print(pl.after(cur).element())"
   ]
  },
  {
   "cell_type": "markdown",
   "metadata": {},
   "source": [
    "R-7.14 Repeat the previous process using recursion. Your method should not contain any loops. How much space does your method use in addition to the space used for L?"
   ]
  },
  {
   "cell_type": "code",
   "execution_count": 18,
   "metadata": {},
   "outputs": [
    {
     "name": "stdout",
     "output_type": "stream",
     "text": [
      "1\n",
      "5\n",
      "3\n",
      "2\n",
      "<__main__.PositionalList.Position object at 0x000000496F761A08>\n",
      "3\n"
     ]
    },
    {
     "data": {
      "text/plain": [
       "'\\nthis mehtod takes o(n) space because it stores the cursor value in the stack \\n'"
      ]
     },
     "execution_count": 18,
     "metadata": {},
     "output_type": "execute_result"
    }
   ],
   "source": [
    "class RecursiveFindPositionalList(PositionalList):\n",
    "    def find(self, e):\n",
    "        cursor = cursor = self.first()\n",
    "        def _recursive_find(e, cursor): \n",
    "            if cursor is None:\n",
    "                return False\n",
    "            if cursor.element() == e:\n",
    "                return cursor \n",
    "            else: \n",
    "                return _recursive_find(e, self.after(cursor))\n",
    "            \n",
    "        return _recursive_find(e, cursor)\n",
    "\n",
    "        \n",
    "pl = RecursiveFindPositionalList() \n",
    "pl.add_first(2)\n",
    "pl.add_first(1)\n",
    "first = pl.first()\n",
    "ps = pl.add_after(first, 3)\n",
    "pl.add_before(ps, 5)\n",
    "\n",
    "for element in pl:\n",
    "    print(element)\n",
    "    \n",
    "cur = pl.find(5)\n",
    "print(cur)\n",
    "print(pl.after(cur).element())\n",
    "\n",
    "'''\n",
    "this mehtod takes o(n) space because it stores the cursor value in the stack \n",
    "'''"
   ]
  },
  {
   "cell_type": "markdown",
   "metadata": {},
   "source": [
    "R-7.15 Provide support for a reversed method of the PositionalList class that is similar to the given iter , but that iterates the elements in reversed order. "
   ]
  },
  {
   "cell_type": "code",
   "execution_count": 19,
   "metadata": {},
   "outputs": [
    {
     "name": "stdout",
     "output_type": "stream",
     "text": [
      "1\n",
      "5\n",
      "3\n",
      "2\n",
      "[2, 3, 5, 1]\n"
     ]
    }
   ],
   "source": [
    "class ReversedFindPositionalList(PositionalList):\n",
    "    def __reversed__(self):\n",
    "        cursor = self.last()\n",
    "        while cursor is not None:\n",
    "            yield cursor.element()\n",
    "            cursor = self.before(cursor)\n",
    "\n",
    "pl = ReversedFindPositionalList() \n",
    "pl.add_first(2)\n",
    "pl.add_first(1)\n",
    "first = pl.first()\n",
    "ps = pl.add_after(first, 3)\n",
    "pl.add_before(ps, 5)\n",
    "\n",
    "for element in pl:\n",
    "    print(element)\n",
    "    \n",
    "print(list(reversed(pl)))       "
   ]
  },
  {
   "cell_type": "markdown",
   "metadata": {},
   "source": [
    "R-7.16 Describe an implementation of the PositionalList methods add_last and add_before realized by using only methods in the set {is empty, first, last, prev, next, add_after, and add_first}."
   ]
  },
  {
   "cell_type": "code",
   "execution_count": 20,
   "metadata": {},
   "outputs": [
    {
     "data": {
      "text/plain": [
       "'\\nvery simple \\n\\nfor the add_last you can use the last and then add after_last \\nfor te add_before you can use first and then iterate until the next is the node then you can use the add_after\\nuse the rest of the methods to check for bounday conditions. \\n'"
      ]
     },
     "execution_count": 20,
     "metadata": {},
     "output_type": "execute_result"
    }
   ],
   "source": [
    "'''\n",
    "very simple \n",
    "\n",
    "for the add_last you can use the last and then add after_last \n",
    "for te add_before you can use first and then iterate until the next is the node then you can use the add_after\n",
    "use the rest of the methods to check for bounday conditions. \n",
    "'''"
   ]
  },
  {
   "cell_type": "code",
   "execution_count": 21,
   "metadata": {},
   "outputs": [],
   "source": [
    "class FavoritesList:\n",
    "    class _Item:\n",
    "        __slots__ = '_value', '_count'\n",
    "        def __init__(self, e):\n",
    "            self._value = e\n",
    "            self._count = 0\n",
    "    def __init__(self):\n",
    "        self._data = PositionalList() \n",
    "    def __len__(self):\n",
    "        return len(self._data)\n",
    "    \n",
    "    def _find_position(self, e):\n",
    "        walk = self._data.first()\n",
    "        while walk is not None and walk.element()._value != e:\n",
    "            walk = self._data.after(walk)\n",
    "        return walk \n",
    "    \n",
    "    def _move_up(self, p): \n",
    "        if p != self._data.first():\n",
    "            cnt = p.element()._count \n",
    "            walk = self._data.before(p)\n",
    "            if cnt > walk.element()._count:\n",
    "                while (walk != self._data.first() and cnt> self._data.before(walk).element()._count):\n",
    "                    walk = self._data.before(walk)\n",
    "                self._data.add_before(walk, self._data.delete(p))\n",
    "    \n",
    "    def is_empty(self):\n",
    "        return len(self._data) == 0\n",
    "    \n",
    "    def access(self, e): \n",
    "        p = self._find_position(e)\n",
    "        if p is None:\n",
    "            p = self._data.add_last(self._Item(e))\n",
    "        p.element()._count += 1\n",
    "        self._move_up(p)\n",
    "        \n",
    "    def remove(self, e):\n",
    "        p = self._find_position(e)\n",
    "        if po is not None:\n",
    "            self._data.delete(p)\n",
    "    \n",
    "    def top(self, k):\n",
    "        if not 1<= k <= len(self):\n",
    "            raise ValueError('Illegal value for k')\n",
    "        walk = self._data.first()\n",
    "        for j in range(k):\n",
    "            item = walk.element()\n",
    "            yield (item._value, item._count) \n",
    "            walk = self._data.after(walk)"
   ]
  },
  {
   "cell_type": "code",
   "execution_count": 22,
   "metadata": {},
   "outputs": [
    {
     "name": "stdout",
     "output_type": "stream",
     "text": [
      "[(3, 3), (1, 1), (0, 1)]\n"
     ]
    }
   ],
   "source": [
    "pl = FavoritesList() \n",
    "for i in range(6): \n",
    "    pl.access(random.randint(0,3))\n",
    "\n",
    "print(list(pl.top(3)))    \n"
   ]
  },
  {
   "cell_type": "code",
   "execution_count": 23,
   "metadata": {},
   "outputs": [],
   "source": [
    "class FavoritesListMTF(FavoritesList):\n",
    "    def _move_up(self, p):\n",
    "        if p != self._data.first(): \n",
    "            self._data.add_first(self._data.delete(p))\n",
    "        \n",
    "    def top(self, k):\n",
    "        if not 1 <= k <= len(self):\n",
    "            raise ValueError('Illegal value for k')\n",
    "        \n",
    "        temp = PositionalList()\n",
    "        for item in self._data:\n",
    "            temp.add_last(item)\n",
    "                \n",
    "        for j in range(k): \n",
    "            highPos = temp.first()\n",
    "            walk = temp.after(highPos)\n",
    "            while walk is not None:\n",
    "                if walk.element()._count > highPos.element()._count:\n",
    "                    highPos = walk\n",
    "                walk = temp.after(walk)\n",
    "            yield highPos.element()._value, highPos.element()._count\n",
    "            temp.delete(highPos)"
   ]
  },
  {
   "cell_type": "code",
   "execution_count": 24,
   "metadata": {},
   "outputs": [
    {
     "name": "stdout",
     "output_type": "stream",
     "text": [
      "[(0, 3), (3, 1), (2, 1)]\n"
     ]
    }
   ],
   "source": [
    "pl = FavoritesListMTF() \n",
    "for i in range(6):\n",
    "    r = random.randint(0,3)\n",
    "    pl.access(r)\n",
    "\n",
    "print(list(pl.top(3)))  "
   ]
  },
  {
   "cell_type": "markdown",
   "metadata": {},
   "source": [
    "R-7.17 In the FavoritesListMTF class, we rely on public methods of the positional list ADT to move an element of a list at position p to become the first element of the list, while keeping the relative order of the remaining elements unchanged. Internally, that combination of operations causes one node to be removed and a new node to be inserted. Augment the PositionalList class to support a new method, move to front(p), that accomplishes this goal more directly, by relinking the existing node."
   ]
  },
  {
   "cell_type": "code",
   "execution_count": 25,
   "metadata": {},
   "outputs": [
    {
     "name": "stdout",
     "output_type": "stream",
     "text": [
      "(2, 4)-->(3, 5)-->(1, 3)-->(4, 2)-->(0, 1)-->\n",
      "[(3, 5), (2, 4), (1, 3), (4, 2)]\n"
     ]
    }
   ],
   "source": [
    "class MTFPositionalList(PositionalList):\n",
    "     def move_to_front(self, p):\n",
    "        node = self._validate(p)\n",
    "        before_it = node._prev\n",
    "        after_it = node._next\n",
    "        before_it._next = after_it\n",
    "        after_it._prev = before_it\n",
    "        node._next = self._header._next \n",
    "        node._next._prev = node \n",
    "        self._header._next = node \n",
    "        return self._make_position(node)\n",
    "\n",
    "class ReLinkedFavoritesListMTF(FavoritesListMTF):\n",
    "    def __init__(self):\n",
    "        self._data = MTFPositionalList() \n",
    "    def _move_up(self, p):\n",
    "        if p != self._data.first( ):\n",
    "            self._data.move_to_front(p)\n",
    "\n",
    "fl = ReLinkedFavoritesListMTF()\n",
    "\n",
    "for i in range(15):\n",
    "    fl.access(random.randint(0, 4))\n",
    "\n",
    "for item in fl._data:\n",
    "    print((item._value, item._count), end ='-->')\n",
    "\n",
    "print()    \n",
    "print(list(fl.top(4)))"
   ]
  },
  {
   "cell_type": "markdown",
   "metadata": {},
   "source": [
    "R-7.18 Given the set of element {a,b,c,d,e, f } stored in a list, show the final state of the list, assuming we use the move-to-front heuristic and access the elements according to the following sequence: (a,b,c,d,e, f,a,c, f,b,d,e)."
   ]
  },
  {
   "cell_type": "code",
   "execution_count": 26,
   "metadata": {},
   "outputs": [
    {
     "name": "stdout",
     "output_type": "stream",
     "text": [
      "[('e', 3), ('d', 3), ('b', 3), ('f', 3), ('c', 3), ('a', 3)]\n"
     ]
    }
   ],
   "source": [
    "\n",
    "pl = FavoritesListMTF()\n",
    "## intially : \n",
    "\n",
    "pl.access('a')\n",
    "pl.access('b')\n",
    "pl.access('c')\n",
    "pl.access('d')\n",
    "pl.access('e')\n",
    "pl.access('f')\n",
    "\n",
    "## first accesses \n",
    "\n",
    "pl.access('a')\n",
    "pl.access('b')\n",
    "pl.access('c')\n",
    "pl.access('d')\n",
    "pl.access('e')\n",
    "pl.access('f')\n",
    "\n",
    "### second accesses \n",
    "\n",
    "pl.access('a')\n",
    "pl.access('c')\n",
    "pl.access('f')\n",
    "pl.access('b')\n",
    "pl.access('d')\n",
    "pl.access('e')\n",
    "\n",
    "\n",
    "print(list(pl.top(6))) "
   ]
  },
  {
   "cell_type": "markdown",
   "metadata": {},
   "source": [
    "R-7.19 Suppose that we have made kn total accesses to the elements in a list L of n elements, for some integer k ≥ 1. What are the minimum and maximum number of elements that have been accessed fewer than k times?"
   ]
  },
  {
   "cell_type": "code",
   "execution_count": 27,
   "metadata": {},
   "outputs": [
    {
     "data": {
      "text/plain": [
       "\"\\nif we only access the first item kn times, and we don't access the other elements, then the number of items accessed less than k is going to be (n-1). \\nThis is the maximum number. \\n\\nthe mimum is going to be 1 \\nyou have to access (n-1) elements in a total of kn times except 1. \\n\""
      ]
     },
     "execution_count": 27,
     "metadata": {},
     "output_type": "execute_result"
    }
   ],
   "source": [
    "'''\n",
    "if we only access the first item kn times, and we don't access the other elements, then the number of items accessed less than k is going to be (n-1). \n",
    "This is the maximum number. \n",
    "\n",
    "the mimum is going to be 1 \n",
    "you have to access (n-1) elements in a total of kn times except 1. \n",
    "'''"
   ]
  },
  {
   "cell_type": "markdown",
   "metadata": {},
   "source": [
    "R-7.20 Let L be a list of n items maintained according to the move-to-front heuristic. Describe a series of O(n) accesses that will reverse L."
   ]
  },
  {
   "cell_type": "code",
   "execution_count": 28,
   "metadata": {},
   "outputs": [
    {
     "name": "stdout",
     "output_type": "stream",
     "text": [
      "old [('a', 1), ('b', 1), ('c', 1), ('d', 1), ('e', 1), ('f', 1)]\n",
      "reversed [('a', 2), ('b', 2), ('c', 2), ('d', 2), ('e', 2), ('f', 1)]\n"
     ]
    }
   ],
   "source": [
    "\n",
    "'''\n",
    "let the list L ='a'-->'b'-->'c'-->'d'-->'e'-->'f'\n",
    "to invert it you need to access all the elements except the first one in a reverse order\n",
    "time complexity: O(n)\n",
    "'''\n",
    "pl = FavoritesListMTF()\n",
    "## intially : \n",
    "\n",
    "pl.access('f')\n",
    "pl.access('e')\n",
    "pl.access('d')\n",
    "pl.access('c')\n",
    "pl.access('b')\n",
    "pl.access('a')\n",
    "\n",
    "print(\"old\", list(pl.top(6))) \n",
    "\n",
    "pl.access('e')\n",
    "pl.access('d')\n",
    "pl.access('c')\n",
    "pl.access('b')\n",
    "pl.access('a')\n",
    "\n",
    "print(\"reversed\", list(pl.top(6)))"
   ]
  },
  {
   "cell_type": "markdown",
   "metadata": {},
   "source": [
    "R-7.21 Suppose we have an n-element list L maintained according to the move-to-front heuristic. Describe a sequence of n2 accesses that is guaranteed\n",
    "to take Ω(n3) time to perform on L. "
   ]
  },
  {
   "cell_type": "code",
   "execution_count": 29,
   "metadata": {},
   "outputs": [
    {
     "data": {
      "text/plain": [
       "'\\nthe concept is explained in the textbook \\n'"
      ]
     },
     "execution_count": 29,
     "metadata": {},
     "output_type": "execute_result"
    }
   ],
   "source": [
    "'''\n",
    "the concept is explained in the textbook \n",
    "'''"
   ]
  },
  {
   "cell_type": "markdown",
   "metadata": {},
   "source": [
    "R-7.22 Implement a clear() method for the FavoritesList class that returns the list to empty. \n"
   ]
  },
  {
   "cell_type": "code",
   "execution_count": 30,
   "metadata": {},
   "outputs": [
    {
     "name": "stdout",
     "output_type": "stream",
     "text": [
      "old [('f', 1), ('e', 1), ('d', 1), ('c', 1), ('b', 1), ('a', 1)]\n",
      "0\n"
     ]
    }
   ],
   "source": [
    "class ClearableFavoritesList(FavoritesList):\n",
    "    def clear(self): \n",
    "        walk = self._data.first()\n",
    "        before_me = self._data.before(walk)\n",
    "        while walk is not None:\n",
    "            walk = self._data.after(walk)\n",
    "            if before_me is not None: \n",
    "                self._data.delete(before_me)\n",
    "            if walk is not None: \n",
    "                before_me = self._data.before(walk)\n",
    "        first_item = self._data.first()\n",
    "        self._data.delete(first_item)\n",
    "            \n",
    "pl = ClearableFavoritesList()\n",
    "## intially : \n",
    "\n",
    "pl.access('f')\n",
    "pl.access('e')\n",
    "pl.access('d')\n",
    "pl.access('c')\n",
    "pl.access('b')\n",
    "pl.access('a')\n",
    "\n",
    "print(\"old\", list(pl.top(6))) \n",
    "\n",
    "pl.clear()\n",
    "\n",
    "for item in pl._data:\n",
    "    print(item._value)\n",
    "print(len(pl))"
   ]
  },
  {
   "cell_type": "markdown",
   "metadata": {},
   "source": [
    "R-7.23 Implement a reset counts() method for the FavoritesList class that resets all elements’ access counts to zero (while leaving the order of the list unchanged)."
   ]
  },
  {
   "cell_type": "code",
   "execution_count": 31,
   "metadata": {},
   "outputs": [
    {
     "name": "stdout",
     "output_type": "stream",
     "text": [
      "old [('f', 1), ('e', 1), ('d', 1), ('c', 1), ('b', 1), ('a', 1)]\n",
      "new [('f', 0), ('e', 0), ('d', 0), ('c', 0), ('b', 0), ('a', 0)]\n"
     ]
    }
   ],
   "source": [
    "class ResetableFavoritesList(FavoritesList):\n",
    "    def reset(self): \n",
    "        walk = self._data.first() \n",
    "        while walk is not None:\n",
    "            walk._node._element._count = 0\n",
    "            walk = self._data.after(walk)\n",
    "            \n",
    "pl = ResetableFavoritesList()\n",
    "## intially : \n",
    "\n",
    "pl.access('f')\n",
    "pl.access('e')\n",
    "pl.access('d')\n",
    "pl.access('c')\n",
    "pl.access('b')\n",
    "pl.access('a')\n",
    "\n",
    "print(\"old\", list(pl.top(6)))     \n",
    "pl.reset() \n",
    "print(\"new\", list(pl.top(6)))   "
   ]
  },
  {
   "cell_type": "markdown",
   "metadata": {},
   "source": [
    "****Creativity Problems***"
   ]
  },
  {
   "cell_type": "markdown",
   "metadata": {},
   "source": [
    "C-7.24 Give a complete implementation of the stack ADT using a singly linked list that includes a header sentinel."
   ]
  },
  {
   "cell_type": "code",
   "execution_count": 32,
   "metadata": {},
   "outputs": [
    {
     "name": "stdout",
     "output_type": "stream",
     "text": [
      "b-> a-> \n",
      "c-> b-> a-> \n",
      "c\n",
      "b-> a-> \n"
     ]
    }
   ],
   "source": [
    "class SinglyLinkedStack:\n",
    "    class _Node:\n",
    "        __slots__ = '_element', '_next'\n",
    "        \n",
    "        def __init__(self, e = None, nxt = None):\n",
    "            self._element = e\n",
    "            self._next = nxt \n",
    "            \n",
    "    def __init__(self):\n",
    "        self._header = self._Node()\n",
    "        self._size = 0 \n",
    "        \n",
    "    def is_empty(self):\n",
    "        return self._size ==0 \n",
    "    \n",
    "    def push(self, e):\n",
    "        \n",
    "        if self.is_empty():\n",
    "            self._header._next = self._Node(e, nxt = None)\n",
    "        else:\n",
    "            self._header._next = self._Node(e, nxt = self._header._next)\n",
    "        self._size +=1  \n",
    "    \n",
    "    def _get_top(self):\n",
    "        if self.is_empty():\n",
    "            raise Empty('Attempting poping empty stack')\n",
    "        answer = self._header._next._element\n",
    "        return answer \n",
    "        \n",
    "    def pop(self):\n",
    "        answer = self._get_top()\n",
    "        self._header._next = self._header._next._next\n",
    "        self._size -= 1 \n",
    "        return answer \n",
    "    \n",
    "    def top(self):\n",
    "        answer = self._get_top()\n",
    "        return answer\n",
    "    \n",
    "    def __len__(self):\n",
    "        return self._size \n",
    "    \n",
    "    def __repr__(self):\n",
    "        cur = self._header\n",
    "        print_list = [] \n",
    "        while cur._next is not None: \n",
    "            cur = cur._next\n",
    "            print_list.append(str(cur._element) + '-> ')\n",
    "        return ''.join(item for item in print_list)\n",
    "\n",
    "sl = SinglyLinkedStack()\n",
    "sl.push('a')\n",
    "sl.push('b')\n",
    "print(sl)\n",
    "sl.push('c')\n",
    "print(sl)\n",
    "print(sl.pop())\n",
    "print(sl)"
   ]
  },
  {
   "cell_type": "markdown",
   "metadata": {},
   "source": [
    "C-7.25 Give a complete implementation of the queue ADT using a singly linked list that includes a header sentinel."
   ]
  },
  {
   "cell_type": "code",
   "execution_count": 33,
   "metadata": {},
   "outputs": [
    {
     "name": "stdout",
     "output_type": "stream",
     "text": [
      "a-> b-> \n",
      "a-> b-> c-> \n",
      "a\n",
      "b-> c-> \n"
     ]
    }
   ],
   "source": [
    "class SinglyLinkedQueue:\n",
    "    class _Node:\n",
    "        __slots__ = '_element', '_next'\n",
    "        \n",
    "        def __init__(self, e = None, nxt = None):\n",
    "            self._element = e\n",
    "            self._next = nxt \n",
    "            \n",
    "    def __init__(self):\n",
    "        self._header = self._Node()\n",
    "        self._tail = None \n",
    "        self._size = 0 \n",
    "        \n",
    "    def is_empty(self):\n",
    "        return self._size ==0 \n",
    "    \n",
    "    def push(self, e):\n",
    "        new_node = self._Node(e, nxt = None)\n",
    "        if self.is_empty():\n",
    "            self._tail = new_node\n",
    "            self._header._next = new_node \n",
    "        else:\n",
    "            self._tail._next = new_node\n",
    "            self._tail = new_node \n",
    "        self._size +=1  \n",
    "    \n",
    "    def _get_top(self):\n",
    "        if self.is_empty():\n",
    "            raise Empty('Attempting poping empty stack')\n",
    "        answer = self._header._next._element \n",
    "        return answer \n",
    "        \n",
    "    def pop(self):\n",
    "        answer = self._get_top()\n",
    "        self._header._next = self._header._next._next\n",
    "        self._size -= 1 \n",
    "        return answer \n",
    "    \n",
    "    def top(self):\n",
    "        answer = self._get_top()\n",
    "        return answer\n",
    "    \n",
    "    def __len__(self):\n",
    "        return self._size \n",
    "    \n",
    "    def __repr__(self):\n",
    "        cur = self._header\n",
    "        print_list = [] \n",
    "        while cur._next is not None: \n",
    "            cur = cur._next\n",
    "            print_list.append(str(cur._element) + '-> ')\n",
    "        return ''.join(item for item in print_list)\n",
    "\n",
    "ql = SinglyLinkedQueue()\n",
    "ql.push('a')\n",
    "ql.push('b')\n",
    "print(ql)\n",
    "ql.push('c')\n",
    "print(ql)\n",
    "print(ql.pop())\n",
    "print(ql)"
   ]
  },
  {
   "cell_type": "markdown",
   "metadata": {},
   "source": [
    "C-7.26 Implement a method, concatenate(Q2) for the LinkedQueue class that takes all elements of LinkedQueue Q2 and appends them to the end of the original queue. The operation should run in O(1) time and should result in Q2 being an empty queue."
   ]
  },
  {
   "cell_type": "code",
   "execution_count": 34,
   "metadata": {},
   "outputs": [
    {
     "name": "stdout",
     "output_type": "stream",
     "text": [
      "0-> 1-> 2-> 3-> 4-> \n",
      "0-> 1-> 2-> 3-> 4-> 10-> 20-> 30-> 40-> 50-> \n",
      "0 1 2 3 4 10 20 30 40 50 "
     ]
    }
   ],
   "source": [
    "class ConcatenatableQueue(LinkedQueue):     \n",
    "    def concatenate(self, q2):\n",
    "        self._tail._next = q2._head \n",
    "        self._size += q2._size \n",
    "        self._tail = q2._tail \n",
    "        \n",
    "        q2._head = q2._tail =  None\n",
    "        q_2._size = 0 \n",
    "\n",
    "q_1 = ConcatenatableQueue()\n",
    "for i in range (5):\n",
    "    q_1.enqueue(i)\n",
    "q_2 = ConcatenatableQueue() \n",
    "for i in range (1, 6):\n",
    "    q_2.enqueue(i*10)\n",
    "\n",
    "print(q_1)\n",
    "q_1.concatenate(q_2)\n",
    "print(q_1)\n",
    "\n",
    "for i in range(len(q_1)): \n",
    "    print(q_1.dequeue(), end = ' ')\n"
   ]
  },
  {
   "cell_type": "markdown",
   "metadata": {},
   "source": [
    "C-7.27 Give a recursive implementation of a singly linked list class, such that an instance of a nonempty list stores its first element and a reference to a list of remaining elements."
   ]
  },
  {
   "cell_type": "code",
   "execution_count": 35,
   "metadata": {},
   "outputs": [],
   "source": [
    "## Question not clear "
   ]
  },
  {
   "cell_type": "markdown",
   "metadata": {},
   "source": [
    "C-7.28 Describe a fast recursive algorithm for reversing a singly linked list."
   ]
  },
  {
   "cell_type": "code",
   "execution_count": 36,
   "metadata": {},
   "outputs": [
    {
     "name": "stdout",
     "output_type": "stream",
     "text": [
      "0-> 1-> 2-> 3-> 4-> 5-> 6-> 7-> 8-> 9-> \n",
      "9-> 8-> 7-> 6-> 5-> 4-> 3-> 2-> 1-> 0-> \n",
      "O(n) time, O(n) space\n"
     ]
    }
   ],
   "source": [
    "\n",
    "def reverse_linked_list(ll):\n",
    "    original_head = ll.head\n",
    "    def _recursively_reverse(node, before_node):\n",
    "        if node._next == None: \n",
    "            node._next = before_node\n",
    "            ll.head = ll._Node()\n",
    "            ll.head._next = node \n",
    "        else:\n",
    "            _recursively_reverse(node._next, before_node._next)\n",
    "            node._next = before_node\n",
    "    \n",
    "    _recursively_reverse(ll.head._next._next, ll.head._next)\n",
    "    original_head._next._next = None \n",
    "\n",
    "l1 = SinglyLinkedList()\n",
    "for i in range(10):\n",
    "    l1.append(i)\n",
    "\n",
    "print(l1)\n",
    "reverse_linked_list(l1)\n",
    "print(l1)\n",
    "print(f'O(n) time, O(n) space')"
   ]
  },
  {
   "cell_type": "markdown",
   "metadata": {},
   "source": [
    "C-7.29 Describe in detail an algorithm for reversing a singly linked list L using only a constant amount of additional space and not using any recursion.\n"
   ]
  },
  {
   "cell_type": "code",
   "execution_count": 37,
   "metadata": {},
   "outputs": [
    {
     "name": "stdout",
     "output_type": "stream",
     "text": [
      "0-> 1-> 2-> 3-> 4-> 5-> 6-> 7-> 8-> 9-> \n",
      "9-> 8-> 7-> 6-> 5-> 4-> 3-> 2-> 1-> 0-> \n",
      "O(n^2) time, O(1) space\n"
     ]
    }
   ],
   "source": [
    "def reverse_linked_list(ll):\n",
    "  current = ll.head._next #first element \n",
    "  before_current = ll.head #header \n",
    "\n",
    "  while current._next is not None:\n",
    "    before_current = current\n",
    "    current = current._next \n",
    "     \n",
    "\n",
    "  new_header = ll._Node()\n",
    "  new_header._next = current \n",
    "  current._next = before_current \n",
    "  before_current._next = None \n",
    "\n",
    "\n",
    "  cur = ll.head._next \n",
    "  before_cur = ll.head\n",
    "\n",
    "  for i in range(1, len(ll)-1):\n",
    "    cur = ll.head._next \n",
    "    before_cur = ll.head\n",
    "    while cur is not None and cur._next is not None: \n",
    "      before_cur = cur\n",
    "      cur = cur._next\n",
    "\n",
    "    if cur is not None: \n",
    "      cur._next = before_cur \n",
    "      before_cur._next = None\n",
    "\n",
    "  ll.head = new_header \n",
    "  \n",
    "l1 = SinglyLinkedList()\n",
    "for i in range(10):\n",
    "    l1.append(i)\n",
    "\n",
    "print(l1)\n",
    "reverse_linked_list(l1)\n",
    "print(l1)\n",
    "\n",
    "print(f'O(n^2) time, O(1) space')"
   ]
  },
  {
   "cell_type": "markdown",
   "metadata": {},
   "source": [
    "C-7.30 Exercise P-6.35 describes a LeakyStack abstraction. Implement that ADT using a singly linked list for storage."
   ]
  },
  {
   "cell_type": "code",
   "execution_count": 38,
   "metadata": {},
   "outputs": [
    {
     "name": "stdout",
     "output_type": "stream",
     "text": [
      "e-> d-> c-> b-> a-> \n",
      "f-> e-> d-> c-> b-> \n",
      "j-> f-> e-> d-> c-> \n"
     ]
    }
   ],
   "source": [
    "class SinglyLinkedLeakyStack(SinglyLinkedStack):\n",
    "\n",
    "    def __init__(self, max_capacity = None):\n",
    "        self._header = self._Node()\n",
    "        self._size = 0 \n",
    "        if max_capacity is None:\n",
    "            self._max_cap = 5\n",
    "        else:\n",
    "            self._max_cap = max_capacity\n",
    "            \n",
    "    def push(self, e):\n",
    "        if self.is_empty():\n",
    "            self._header._next = self._Node(e, nxt = None)\n",
    "            self._size +=1\n",
    "        else:\n",
    "            self._header._next = self._Node(e, nxt = self._header._next)\n",
    "            if self._size == self._max_cap:\n",
    "                cur = self._header._next\n",
    "                before_cur = self._header \n",
    "                while cur is not None and cur._next is not None:\n",
    "                    before_cur = cur \n",
    "                    cur = cur._next \n",
    "                before_cur._next = None \n",
    "            else: \n",
    "                self._size +=1  \n",
    "    \n",
    "\n",
    "\n",
    "sl = SinglyLinkedLeakyStack()\n",
    "sl.push('a')\n",
    "sl.push('b')\n",
    "sl.push('c')\n",
    "sl.push('d')\n",
    "sl.push('e')\n",
    "print(sl)\n",
    "sl.push('f')\n",
    "print(sl)\n",
    "sl.push('j')\n",
    "print(sl)\n"
   ]
  },
  {
   "cell_type": "markdown",
   "metadata": {},
   "source": [
    "C-7.31 Design a forward list ADT that abstracts the operations on a singly linked list, much as the positional list ADT abstracts the use of a doubly linked list. Implement a ForwardList class that supports such an ADT."
   ]
  },
  {
   "cell_type": "code",
   "execution_count": 39,
   "metadata": {},
   "outputs": [
    {
     "name": "stdout",
     "output_type": "stream",
     "text": [
      "1\n",
      "3\n",
      "2\n",
      "the maximum is: 3\n"
     ]
    }
   ],
   "source": [
    "class SinglyLinkedList: \n",
    "    class _Node:\n",
    "        __slots__ = '_element', '_next'\n",
    "        \n",
    "        def __init__(self, e, nxt = None):\n",
    "            self._element = e\n",
    "            self._next = nxt\n",
    "            \n",
    "    def __init__(self):\n",
    "        self._trailer = self._Node(None, None)\n",
    "        self._header = self._Node(None, self._trailer)\n",
    "        self._size = 0 \n",
    "        \n",
    "    def _insert_between(self, e, predecessor, successor): \n",
    "        new_node = self._Node(e, successor)\n",
    "        predecessor._next = new_node\n",
    "        self._size += 1\n",
    "        return new_node\n",
    "    \n",
    "    def _find_before_node(self, node): \n",
    "        if node == self._header:\n",
    "            raise Exception('Not a valid node ...(header)!')\n",
    "        if not isinstance(node, self._Node):\n",
    "            raise TypeError('Not a valid node')\n",
    "        cur = self._header._next\n",
    "        before_cur = self._header\n",
    "        before_node = self._header \n",
    "        while cur._next is not None:\n",
    "            before_cur = cur\n",
    "            cur = cur._next \n",
    "            if cur == node:\n",
    "                before_node = before_cur\n",
    "        return before_node\n",
    "    \n",
    "    def _delete_node(self, node):\n",
    "        if node == self._trailer: \n",
    "            raise Exception('Invalid Node to delete')\n",
    "        before_node = self._find_before_node(node)\n",
    "        before_node._next = node._next \n",
    "        del(node)\n",
    "        self._size -= 1 \n",
    "        \n",
    "    def __len__(self):\n",
    "        return self._size\n",
    "    \n",
    "    def __repr__(self):\n",
    "        cur = self._header._next \n",
    "        print_list = [] \n",
    "        while cur._next is not None:\n",
    "            print_list.append(str(cur._element) + '-> ')\n",
    "            cur = cur._next\n",
    "            \n",
    "        return ''.join(item for item in print_list)\n",
    "    \n",
    "\n",
    "class ForwardList(SinglyLinkedList):\n",
    "    def __init__(self):\n",
    "        super().__init__() \n",
    "        \n",
    "    class Position: \n",
    "        def __init__(self, container, node):\n",
    "            self._container = container \n",
    "            self._node = node \n",
    "            \n",
    "        def element(self):\n",
    "            return self._node._element \n",
    "        def __eq__(self, other): \n",
    "            return type(other) is type(self) and other._node is self._node\n",
    "        def __ne__(self, other):\n",
    "            return not(self==other)\n",
    "    \n",
    "    def _validate(self, p):\n",
    "        if not isinstance(p, self.Position):\n",
    "            raise TypeError('p must be proper position type')\n",
    "        if p._container is not self:\n",
    "            raise ValueError('p does not belong to this type')\n",
    "        if p._node._next is None:\n",
    "            raise ValueError('p is no longer valid')\n",
    "        return p._node \n",
    "    \n",
    "    def _make_position(self, node):\n",
    "        if (node is self._header) or (node is self._trailer):\n",
    "            return None\n",
    "        else:\n",
    "            return self.Position(self, node)\n",
    "        \n",
    "    def first(self):\n",
    "        return self._make_position(self._header._next)\n",
    "    \n",
    "#     def last(self):\n",
    "#         before_trailer = super()._find_before_node(self._trailer)\n",
    "#         return self._make_position(before_trailer)\n",
    "    \n",
    "#     def before(self, p):\n",
    "#         node = self._validate(p)\n",
    "#         before_node = super()._find_before_node(node)\n",
    "#         return self._make_position(before_node)\n",
    "    \n",
    "    def after(self, p):\n",
    "        node = self._validate(p)\n",
    "        return self._make_position(node._next)\n",
    "    \n",
    "    def __iter__(self):\n",
    "        cursor = self.first() \n",
    "        while cursor is not None:\n",
    "            yield cursor.element()\n",
    "            cursor = self.after(cursor)\n",
    "            \n",
    "    def _insert_between(self, e, predecessor, successor):\n",
    "        node = super()._insert_between(e, predecessor, successor)\n",
    "        return self._make_position(node)\n",
    "    \n",
    "    def add_first(self, e):\n",
    "        return self._insert_between(e, self._header, self._header._next)\n",
    "    \n",
    "#     def add_last(self, e):\n",
    "#         before_trailer = super()._find_before_node(self._trailer)\n",
    "#         return self._insert_between(e, before_trailer, self._trailer)\n",
    "    \n",
    "#     def add_before(self, p, e):\n",
    "#         original = self._validate(p)\n",
    "#         before_original = super()._find_before_node(original)\n",
    "#         return self._insert_between(e, before_original, original)\n",
    "    \n",
    "    def add_after(self, p, e):\n",
    "        original = self._validate(p)\n",
    "        return self._insert_between(e, original, original._next)\n",
    "    \n",
    "    def delete(self, p):\n",
    "        original = self._validate(p)\n",
    "        return super()._delete_node(original)\n",
    "    \n",
    "    def replace(self, p, e):\n",
    "        original = self._validate(p)\n",
    "        old_value = original._element \n",
    "        original._element = e\n",
    "        return old_value\n",
    "    \n",
    "fl = ForwardList() \n",
    "fl.add_first(2)\n",
    "fl.add_first(1)\n",
    "first = fl.first()\n",
    "fs = fl.add_after(first, 3)\n",
    "\n",
    "for element in fl:\n",
    "    print(element)\n",
    "\n",
    "print(f'the maximum is: {max(fl)}')"
   ]
  },
  {
   "cell_type": "markdown",
   "metadata": {},
   "source": [
    "C-7.32 Design a circular positional list ADT that abstracts a circularly linked list in the same way that the positional list ADT abstracts a doubly linked list, with a notion of a designated “cursor” position within the list."
   ]
  },
  {
   "cell_type": "code",
   "execution_count": 40,
   "metadata": {},
   "outputs": [],
   "source": [
    "### Trivial and repetivie almost similar to previous problem no need to do it "
   ]
  },
  {
   "cell_type": "markdown",
   "metadata": {},
   "source": [
    "C-7.33 Modify the DoublyLinkedBase class to include a reverse method that reverses the order of the list, yet without creating or destroying any nodes. "
   ]
  },
  {
   "cell_type": "code",
   "execution_count": 41,
   "metadata": {},
   "outputs": [
    {
     "name": "stdout",
     "output_type": "stream",
     "text": [
      "a-> b-> c-> None-> \n",
      " am here\n",
      " am here\n",
      " am here\n",
      " am here\n",
      "c-> b-> a-> None-> \n"
     ]
    }
   ],
   "source": [
    "class ReversableDoublyLinkedBase(_DoublyLinkedBase): \n",
    "    # we loop starting from the trailer and swap the order \n",
    "    def reverse(self):\n",
    "        cur = self._trailer\n",
    "        while cur._prev is not None:\n",
    "            print(\" am here\")\n",
    "            cur._prev, cur._next = cur._next, cur._prev \n",
    "            cur = cur._next \n",
    "        self._header, self._trailer = self._trailer, self._header \n",
    "        self._trailer._next = None \n",
    "        \n",
    "    def __repr__(self):\n",
    "        cur = self._header \n",
    "        print_list = [] \n",
    "        while cur._next is not None: \n",
    "            cur = cur._next \n",
    "            print_list.append(str(cur._element) + '-> ')\n",
    "        return ''.join(item for item in print_list)\n",
    "    \n",
    "    \n",
    "RDLB = ReversableDoublyLinkedBase() \n",
    "RDLB._insert_between('c', RDLB._header, RDLB._trailer)\n",
    "RDLB._insert_between('b', RDLB._header, RDLB._header._next)\n",
    "RDLB._insert_between('a', RDLB._header, RDLB._header._next)\n",
    "\n",
    "print(RDLB)\n",
    "RDLB.reverse()\n",
    "print(RDLB)"
   ]
  },
  {
   "cell_type": "markdown",
   "metadata": {},
   "source": [
    "C-7.34 Modify the PositionalList class to support a method swap(p, q) that causes the underlying nodes referenced by positions p and q to be exchanged for each other. Relink the existing nodes; do not create any new nodes. "
   ]
  },
  {
   "cell_type": "code",
   "execution_count": 42,
   "metadata": {},
   "outputs": [
    {
     "name": "stdout",
     "output_type": "stream",
     "text": [
      "4-> 1-> 3-> 2-> \n",
      "first element: 4, last element: 2\n",
      "\n",
      "Swapping first and last\n",
      "2-> 1-> 3-> 4-> \n",
      "Swapping middle positions\n",
      "2-> 3-> 1-> 4-> "
     ]
    }
   ],
   "source": [
    "class SwappablePositionalList(PositionalList):\n",
    "    # Bad design, shouldn't directly access the nodes, but it is easier this way, if using the methods of the posionalList it would be more complicated\n",
    "    # because we'll need to do the edge cases separately. \n",
    "    def swap(self, p, q):\n",
    "        \n",
    "        before_p = p._node._prev\n",
    "        after_p = p._node._next\n",
    "        \n",
    "        before_q = q._node._prev\n",
    "        after_q = q._node._next\n",
    "        \n",
    "        before_p._next = q._node\n",
    "        after_p._prev = q._node \n",
    "        \n",
    "        before_q._next = p._node\n",
    "        after_q._prev = p._node\n",
    "        \n",
    "        p._node._prev, q._node._prev =  q._node._prev,  p._node._prev\n",
    "        p._node._next, q._node._next =  q._node._next,  p._node._next\n",
    "        \n",
    "        \n",
    "        \n",
    "fl = SwappablePositionalList() \n",
    "fl.add_first(2)\n",
    "fl.add_first(1)\n",
    "first = fl.first()\n",
    "fs = fl.add_after(first, 3)\n",
    "fs = fl.add_first(4)\n",
    "first = fl.first() \n",
    "for element in fl:\n",
    "    print(element, end = '-> ')\n",
    "\n",
    "print(\"\")\n",
    "print(f'first element: {fl.first().element()}, last element: {fl.last().element()}')\n",
    "print(\"\")\n",
    "print(\"Swapping first and last\")\n",
    "\n",
    "fl.swap(fl.first(), fl.last())\n",
    "\n",
    "for element in fl:\n",
    "    print(element, end = '-> ')\n",
    "    \n",
    "fl.swap(fl.after(fl.first()), fl.before(fl.last())) \n",
    "\n",
    "print(\"\")\n",
    "print(\"Swapping middle positions\")\n",
    "\n",
    "\n",
    "for element in fl:\n",
    "    print(element, end = '-> ')"
   ]
  },
  {
   "cell_type": "markdown",
   "metadata": {},
   "source": [
    "C-7.35 To implement the iter method of the PositionalList class, we relied on the convenience of Python’s generator syntax and the yield statement. Give\n",
    "an alternative implementation of iter by designing a nested iterator class. (See Section 2.3.4 for discussion of iterators.)"
   ]
  },
  {
   "cell_type": "code",
   "execution_count": 43,
   "metadata": {},
   "outputs": [
    {
     "name": "stdout",
     "output_type": "stream",
     "text": [
      "4-> 1-> 3-> 2-> "
     ]
    }
   ],
   "source": [
    "class IterablePositionalList(PositionalList):\n",
    "    def __init__(self):\n",
    "        super().__init__() \n",
    "        self.cursor = None\n",
    "        \n",
    "    def __iter__(self):\n",
    "        self.cursor = self.first()\n",
    "        return self \n",
    "\n",
    "    def __next__(self):\n",
    "        if self.cursor is None:\n",
    "            raise StopIteration\n",
    "        element = self.cursor.element()\n",
    "        self.cursor = self.after(self.cursor)\n",
    "        return element\n",
    "        \n",
    "il = IterablePositionalList() \n",
    "il.add_first(2)\n",
    "il.add_first(1)\n",
    "first = il.first()\n",
    "iis = il.add_after(first, 3)\n",
    "iis = il.add_first(4)\n",
    "\n",
    "for element in il:\n",
    "    print(element, end = '-> ')"
   ]
  },
  {
   "cell_type": "markdown",
   "metadata": {},
   "source": [
    "\n",
    "\n"
   ]
  },
  {
   "cell_type": "markdown",
   "metadata": {},
   "source": [
    "C-7.36 Give a complete implementation of the positional list ADT using a doubly linked list that does not include any sentinel nodes."
   ]
  },
  {
   "cell_type": "code",
   "execution_count": 44,
   "metadata": {},
   "outputs": [],
   "source": [
    "## Boring and redudant no need to do it XD. "
   ]
  },
  {
   "cell_type": "markdown",
   "metadata": {},
   "source": [
    "C-7.37 Implement a function that accepts a PositionalList L of n integers sorted in nondecreasing order, and another value V , and determines in O(n) time if there are two elements of L that sum precisely to V . The function should return a pair of positions of such elements, if found, or None otherwise."
   ]
  },
  {
   "cell_type": "code",
   "execution_count": 45,
   "metadata": {},
   "outputs": [
    {
     "name": "stdout",
     "output_type": "stream",
     "text": [
      "9-> 8-> 7-> 6-> 5-> 4-> 3-> 2-> 1-> 0->  \n"
     ]
    }
   ],
   "source": [
    "pl = PositionalList()\n",
    "for i in range(10): \n",
    "    pl.add_first(i)\n",
    "for element in pl:\n",
    "    print(element, end = '-> ')\n",
    "print(\" \")\n",
    "\n",
    "def if_elements_sum(L, V):\n",
    "    answers = [] \n",
    "    values_pair = defaultdict(lambda: None)\n",
    "    for element in L:\n",
    "        if values_pair[element] is None: \n",
    "            values_pair[V-element] = element\n",
    "        else: \n",
    "            answers.append((element, values_pair[element]))\n",
    "    if len(answers)>0:\n",
    "        return answers \n",
    "            "
   ]
  },
  {
   "cell_type": "code",
   "execution_count": 46,
   "metadata": {},
   "outputs": [
    {
     "data": {
      "text/plain": [
       "[(3, 5), (2, 6), (1, 7), (0, 8)]"
      ]
     },
     "execution_count": 46,
     "metadata": {},
     "output_type": "execute_result"
    }
   ],
   "source": [
    "if_elements_sum(pl, 8)"
   ]
  },
  {
   "cell_type": "markdown",
   "metadata": {},
   "source": [
    "C-7.38 There is a simple, but inefficient, algorithm, called bubble-sort, for sorting a list L of n comparable elements. This algorithm scans the list n−1 times, where, in each scan, the algorithm compares the current element with the next one and swaps them if they are out of order. Implement a bubble sort function that takes a positional list L as a parameter. What is the running time of this algorithm, assuming the positional list is implemented with a doubly linked list?"
   ]
  },
  {
   "cell_type": "code",
   "execution_count": 47,
   "metadata": {},
   "outputs": [
    {
     "name": "stdout",
     "output_type": "stream",
     "text": [
      "original list \n",
      "4-> 8-> 0-> 8-> 8-> 9-> 1-> 7-> 7-> 3->  \n",
      " \n",
      "sorted list\n",
      "0-> 1-> 3-> 4-> 7-> 7-> 8-> 8-> 8-> 9-> "
     ]
    }
   ],
   "source": [
    "\n",
    "pl = SwappablePositionalList()\n",
    "for i in range(10): \n",
    "    pl.add_first(random.randint(0, 10))\n",
    "print(\"original list \")\n",
    "for element in pl:\n",
    "    print(element, end = '-> ')\n",
    "print(\" \")\n",
    "print(\" \")\n",
    "\n",
    "print(\"sorted list\")\n",
    "def bubble_sort(l):\n",
    "    for i in range(len(l)): \n",
    "        first_iter = l.first()\n",
    "        second_iter = l.after(first_iter)\n",
    "        for j in range(len(l)-1):\n",
    "            if first_iter.element() > second_iter.element():\n",
    "                first_iter._node._element, second_iter._node._element = second_iter._node._element, first_iter._node._element\n",
    "            first_iter = l.after(first_iter)\n",
    "            second_iter = l.after(second_iter)\n",
    "                          \n",
    "bubble_sort(pl)\n",
    "for element in pl:\n",
    "    print(element, end = '-> ')"
   ]
  },
  {
   "cell_type": "markdown",
   "metadata": {},
   "source": [
    "C-7.39 To better model a FIFO queue in which entries may be deleted before reaching the front, design a PositionalQueue class that supports the complete queue ADT, yet with enqueue returning a position instance and support for a new method, delete(p), that removes the element associated with position p from the queue. You may use the adapter design pattern (Section 6.1.2), using a PositionalList as your storage."
   ]
  },
  {
   "cell_type": "code",
   "execution_count": 48,
   "metadata": {},
   "outputs": [
    {
     "name": "stdout",
     "output_type": "stream",
     "text": [
      "a\n",
      "a\n",
      "b\n",
      "b\n",
      "c\n",
      "c\n"
     ]
    }
   ],
   "source": [
    "class PositionalQueue: \n",
    "    def __init__(self): \n",
    "        self._positional_list = PositionalList() \n",
    "        \n",
    "    def is_empty(self):\n",
    "        return len(self._positional_list) ==0  \n",
    "    \n",
    "    def enqueue(self, e):\n",
    "        self._positional_list.add_last(e) \n",
    "    \n",
    "    def _get_front_position(self):\n",
    "        if self.is_empty():\n",
    "            raise Empty(\"Queue is empty\")\n",
    "        else:\n",
    "            return self._positional_list.first()\n",
    "    \n",
    "    def front(self):\n",
    "        return  self._get_front_position().element() \n",
    "    \n",
    "    def delete(self, p): \n",
    "        self._positional_list.delete(p)\n",
    "        \n",
    "    def dequeue(self):\n",
    "        first_pos = self._get_front_position()\n",
    "        answer = first_pos.element()\n",
    "        self.delete(first_pos)\n",
    "        return answer  \n",
    "\n",
    "pq = PositionalQueue()\n",
    "pq.enqueue('a')\n",
    "pq.enqueue('b')\n",
    "pq.enqueue('c')\n",
    "\n",
    "print(pq.front())\n",
    "print(pq.dequeue())\n",
    "\n",
    "print(pq.front())\n",
    "print(pq.dequeue())\n",
    "\n",
    "print(pq.front())\n",
    "print(pq.dequeue())\n"
   ]
  },
  {
   "cell_type": "markdown",
   "metadata": {},
   "source": [
    "C-7.40 Describe an efficient method for maintaining a favorites list L, with moveto-front heuristic, such that elements that have not been accessed in the most recent n accesses are automatically purged from the list."
   ]
  },
  {
   "cell_type": "code",
   "execution_count": 49,
   "metadata": {},
   "outputs": [
    {
     "data": {
      "text/plain": [
       "'\\nsince we are using the move to front heuristic, the first n-elements in the list are the elements that have been accessed in the past n accesses, thus we can just remove items after the n-elements. \\n'"
      ]
     },
     "execution_count": 49,
     "metadata": {},
     "output_type": "execute_result"
    }
   ],
   "source": [
    "'''\n",
    "since we are using the move to front heuristic, the first n-elements in the list are the elements that have been accessed in the past n accesses, thus we can just remove items after the n-elements. \n",
    "'''"
   ]
  },
  {
   "cell_type": "markdown",
   "metadata": {},
   "source": [
    "C-7.41 Exercise C-5.29 introduces the notion of a natural join of two databases. Describe and analyze an efficient algorithm for computing the natural join of a linked list A of n pairs and a linked list B of m pairs."
   ]
  },
  {
   "cell_type": "code",
   "execution_count": 50,
   "metadata": {},
   "outputs": [
    {
     "data": {
      "text/plain": [
       "'\\nloop on the values pair of B and store in the dic. O(m) time \\n\\nloop on the values pair of A and check the second componenet of the pair in the lookup table. \\nif item is found, append to the natural join resulting list the three parts (A_1, A_2, B_2)\\n\\n'"
      ]
     },
     "execution_count": 50,
     "metadata": {},
     "output_type": "execute_result"
    }
   ],
   "source": [
    "# an efficient algorithm will run in O(n) time using a lookup dictionary to do o(1) lookup. The algorithm will run in o(m) space to store the value pairs of list B\n",
    "\n",
    "\n",
    "'''\n",
    "loop on the values pair of B and store in the dic. O(m) time \n",
    "\n",
    "loop on the values pair of A and check the second componenet of the pair in the lookup table. \n",
    "if item is found, append to the natural join resulting list the three parts (A_1, A_2, B_2)\n",
    "\n",
    "'''"
   ]
  },
  {
   "cell_type": "markdown",
   "metadata": {},
   "source": [
    "C-7.42 Write a Scoreboard class that maintains the top 10 scores for a game application using a singly linked list, rather than the array that was used in Section 5.5.1."
   ]
  },
  {
   "cell_type": "markdown",
   "metadata": {},
   "source": [
    "C-7.43 Describe a method for performing a card shuffle of a list of 2n elements, by converting it into two lists. A card shuffle is a permutation where a list L is cut into two lists, L1 and L2, where L1 is the first half of L and L2 is the second half of L, and then these two lists are merged into one by taking the first element in L1, then the first element in L2, followed by the second element in L1, the second element in L2, and so on."
   ]
  },
  {
   "cell_type": "code",
   "execution_count": 51,
   "metadata": {},
   "outputs": [
    {
     "name": "stdout",
     "output_type": "stream",
     "text": [
      "(James,450)-> (John,250)-> (Ali,150)-> (Omar,125)-> (Amr,100)-> \n"
     ]
    }
   ],
   "source": [
    "class ScoresList(SinglyLinkedList):\n",
    "    class GameEntry: \n",
    "        def __init__(self, name, score):\n",
    "            self._name = name \n",
    "            self._score = score \n",
    "        def get_name(self): \n",
    "            return self._name \n",
    "        def get_score(self):\n",
    "            return self._score\n",
    "        def __str__(self):\n",
    "            return f'({self._name},{self._score})'\n",
    "        \n",
    "    def add(self, name, score):\n",
    "        if len(self) == 0:\n",
    "            self._insert_between(self.GameEntry(name, score), self._header, self._trailer)\n",
    "        else:\n",
    "            before_node = self._find_before_score(score)\n",
    "            self._insert_between(self.GameEntry(name, score), before_node, before_node._next) \n",
    "    \n",
    "    def _find_before_score(self, score): \n",
    "        cur = self._header._next\n",
    "        before_cur = self._header\n",
    "        before_node = self._header\n",
    "        while cur._next is not None: \n",
    "            if isinstance(cur._element, self.GameEntry):\n",
    "                if cur._element._score > score:\n",
    "                    before_node = cur\n",
    "            cur = cur._next\n",
    "        return before_node\n",
    "\n",
    "    def __repr__(self):\n",
    "        cur = self._header\n",
    "        print_list = [] \n",
    "        while cur._next is not None:\n",
    "            if isinstance(cur._element, self.GameEntry):\n",
    "                print_list.append(str(cur._element)+ '-> ')\n",
    "            cur = cur._next\n",
    "        return ''.join(item for item in print_list)    \n",
    "    \n",
    "sc  = ScoresList()\n",
    "sc.add(\"John\", \"250\")\n",
    "sc.add(\"Amr\", \"100\")\n",
    "sc.add(\"Ali\", \"150\")\n",
    "sc.add(\"James\", \"450\")\n",
    "sc.add(\"Omar\", \"125\")\n",
    "\n",
    "print(sc)\n"
   ]
  },
  {
   "cell_type": "markdown",
   "metadata": {},
   "source": [
    "C-7.43 Describe a method for performing a card shuffle of a list of 2n elements, by converting it into two lists. A card shuffle is a permutation where a list L is cut into two lists, L1 and L2, where L1 is the first half of L and L2 is the second half of L, and then these two lists are merged into one by taking the first element in L1, then the first element in L2, followed by the second element in L1, the second element in L2, and so on."
   ]
  },
  {
   "cell_type": "markdown",
   "metadata": {},
   "source": [
    "C-7.43 Describe a method for performing a card shuffle of a list of 2n elements, by converting it into two lists. A card shuffle is a permutation where a list L is cut into two lists, L1 and L2, where L1 is the first half of L and L2 is the second half of L, and then these two lists are merged into one by taking the first element in L1, then the first element in L2, followed by the second element in L1, the second element in L2, and so on."
   ]
  },
  {
   "cell_type": "code",
   "execution_count": 52,
   "metadata": {},
   "outputs": [
    {
     "data": {
      "text/plain": [
       "'\\nSolution 1 : using a new list : \\n\\nfirst we find the mid of L \\nthen we have two iterators: \\n    t_1: (head ---> mid_L)\\n    t_2 (mid_L ---> tail)\\n    \\n    get item at t_1.next add to shuffle_list\\n    get item at t_2.next add to shuffle_list\\n    \\n    t_1 = t_1.next  until t_1 == mid_L\\n    t_2 = t_2.next  until t_2 == tail \\n    \\n\\n\\nAnother solution \"in space\": \\n\\nfirst we find the mid of L \\nthen we have two iterators: \\n    t_1: (head ---> mid_L)\\n    t_2 (mid_L ---> tail)\\n    \\n    by relinking elements from the second part and adding them to the first part one at a time, and advancing the iterators: \\n    \\n    remove item at t_2. \\n    add after t_1. \\n    \\n    t_1 = t_1.next  until t_1 == mid_L\\n    t_2 = t_2.next  until t_2 == tail \\n    \\n'"
      ]
     },
     "execution_count": 52,
     "metadata": {},
     "output_type": "execute_result"
    }
   ],
   "source": [
    "'''\n",
    "Solution 1 : using a new list : \n",
    "\n",
    "first we find the mid of L \n",
    "then we have two iterators: \n",
    "    t_1: (head ---> mid_L)\n",
    "    t_2 (mid_L ---> tail)\n",
    "    \n",
    "    get item at t_1.next add to shuffle_list\n",
    "    get item at t_2.next add to shuffle_list\n",
    "    \n",
    "    t_1 = t_1.next  until t_1 == mid_L\n",
    "    t_2 = t_2.next  until t_2 == tail \n",
    "    \n",
    "\n",
    "\n",
    "Another solution \"in space\": \n",
    "\n",
    "first we find the mid of L \n",
    "then we have two iterators: \n",
    "    t_1: (head ---> mid_L)\n",
    "    t_2 (mid_L ---> tail)\n",
    "    \n",
    "    by relinking elements from the second part and adding them to the first part one at a time, and advancing the iterators: \n",
    "    \n",
    "    remove item at t_2. \n",
    "    add after t_1. \n",
    "    \n",
    "    t_1 = t_1.next  until t_1 == mid_L\n",
    "    t_2 = t_2.next  until t_2 == tail \n",
    "    \n",
    "'''"
   ]
  },
  {
   "cell_type": "markdown",
   "metadata": {},
   "source": [
    "****Project Problems*** "
   ]
  },
  {
   "cell_type": "markdown",
   "metadata": {},
   "source": [
    "P-7.44 Write a simple text editor that stores and displays a string of characters using the positional list ADT, together with a cursor object that highlights a position in this string. A simple interface is to print the string and then to use a second line of output to underline the position of the cursor. Youreditor should support the following operations:\n",
    "• left: Move cursor left one character (do nothing if at beginning).\n",
    "• right: Move cursor right one character (do nothing if at end).\n",
    "• insert c: Insert the character c just after the cursor.\n",
    "• delete: Delete the character just after the cursor (do nothing at end)."
   ]
  }
 ],
 "metadata": {
  "kernelspec": {
   "display_name": "Python 3",
   "language": "python",
   "name": "python3"
  },
  "language_info": {
   "codemirror_mode": {
    "name": "ipython",
    "version": 3
   },
   "file_extension": ".py",
   "mimetype": "text/x-python",
   "name": "python",
   "nbconvert_exporter": "python",
   "pygments_lexer": "ipython3",
   "version": "3.7.4"
  }
 },
 "nbformat": 4,
 "nbformat_minor": 4
}
