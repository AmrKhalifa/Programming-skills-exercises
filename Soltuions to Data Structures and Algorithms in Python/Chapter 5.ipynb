{
 "cells": [
  {
   "cell_type": "markdown",
   "metadata": {},
   "source": [
    "### Solutions to the problems of Chapter 5\n",
    "## Array Based Sequences\n"
   ]
  },
  {
   "cell_type": "markdown",
   "metadata": {},
   "source": [
    "****Reinforcement Problems***"
   ]
  },
  {
   "cell_type": "code",
   "execution_count": 83,
   "metadata": {},
   "outputs": [],
   "source": [
    "import time\n",
    "import sys "
   ]
  },
  {
   "cell_type": "markdown",
   "metadata": {},
   "source": [
    "R-5.1 Execute the experiment from Code Fragment 5.1 and compare the results on your system to those we report in Code Fragment 5.2"
   ]
  },
  {
   "cell_type": "code",
   "execution_count": 84,
   "metadata": {},
   "outputs": [
    {
     "name": "stdout",
     "output_type": "stream",
     "text": [
      "0 96\n",
      "1 96\n",
      "2 96\n",
      "3 96\n",
      "4 128\n",
      "5 128\n",
      "6 128\n",
      "7 128\n",
      "8 192\n",
      "9 192\n",
      "10 192\n",
      "11 192\n",
      "12 192\n",
      "13 192\n",
      "14 192\n",
      "15 192\n",
      "16 264\n",
      "17 264\n",
      "18 264\n",
      "19 264\n",
      "20 264\n",
      "21 264\n",
      "22 264\n",
      "23 264\n",
      "24 264\n",
      "25 344\n",
      "26 344\n",
      "27 344\n",
      "28 344\n",
      "29 344\n",
      "30 344\n",
      "31 344\n",
      "32 344\n",
      "33 344\n",
      "34 344\n",
      "35 432\n",
      "36 432\n",
      "37 432\n",
      "38 432\n",
      "39 432\n",
      "40 432\n",
      "41 432\n",
      "42 432\n",
      "43 432\n",
      "44 432\n",
      "45 432\n",
      "46 528\n",
      "47 528\n",
      "48 528\n",
      "49 528\n"
     ]
    }
   ],
   "source": [
    "ll = []\n",
    "for i in range(50):\n",
    "    ll.append(i)\n",
    "    print(i, sys.getsizeof(ll))"
   ]
  },
  {
   "cell_type": "markdown",
   "metadata": {},
   "source": [
    "R-5.2 In Code Fragment 5.1, we perform an experiment to compare the length of a Python list to its underlying memory usage. Determining the sequence of array sizes requires a manual inspection of the output of that program. Redesign the experiment so that the program outputs only those values of k at which the existing capacity is exhausted. For example, on a system consistent with the results of Code Fragment 5.2, your program should\n",
    "output that the sequence of array capacities are 0, 4, 8, 16, 25, . . . ."
   ]
  },
  {
   "cell_type": "code",
   "execution_count": 86,
   "metadata": {},
   "outputs": [
    {
     "name": "stdout",
     "output_type": "stream",
     "text": [
      "0\n",
      "4\n",
      "8\n",
      "16\n",
      "25\n",
      "35\n",
      "46\n"
     ]
    }
   ],
   "source": [
    "ll =[]\n",
    "old_capacity = sys.getsizeof(ll)\n",
    "\n",
    "for i in range(50):\n",
    "    ll.append(i)\n",
    "    capacity = sys.getsizeof(ll)\n",
    "    if capacity > old_capacity: \n",
    "        print(i)\n",
    "        old_capacity = capacity "
   ]
  },
  {
   "cell_type": "markdown",
   "metadata": {},
   "source": [
    "R-5.3 Modify the experiment from Code Fragment 5.1 in order to demonstrate that Python’s list class occasionally shrinks the size of its underlying array when elements are popped from a list."
   ]
  },
  {
   "cell_type": "code",
   "execution_count": 87,
   "metadata": {},
   "outputs": [
    {
     "name": "stdout",
     "output_type": "stream",
     "text": [
      "0 528\n",
      "1 528\n",
      "2 528\n",
      "3 528\n",
      "4 528\n",
      "5 528\n",
      "6 528\n",
      "7 528\n",
      "8 528\n",
      "9 528\n",
      "10 528\n",
      "11 528\n",
      "12 528\n",
      "13 528\n",
      "14 528\n",
      "15 528\n",
      "16 528\n",
      "17 528\n",
      "18 528\n",
      "19 528\n",
      "20 528\n",
      "21 360\n",
      "22 360\n",
      "23 360\n",
      "24 360\n",
      "25 360\n",
      "26 360\n",
      "27 360\n",
      "28 360\n",
      "29 360\n",
      "30 360\n",
      "31 360\n",
      "32 264\n",
      "33 264\n",
      "34 264\n",
      "35 264\n",
      "36 264\n",
      "37 264\n",
      "38 208\n",
      "39 208\n",
      "40 208\n",
      "41 160\n",
      "42 160\n",
      "43 160\n",
      "44 128\n",
      "45 128\n",
      "46 112\n",
      "47 104\n",
      "48 96\n",
      "49 64\n"
     ]
    }
   ],
   "source": [
    "for i in range(50):\n",
    "    ll.pop()\n",
    "    print(i, sys.getsizeof(ll))"
   ]
  },
  {
   "cell_type": "markdown",
   "metadata": {},
   "source": [
    "R-5.4 Our DynamicArray class, as given in Code Fragment 5.3, does not support use of negative indices with getitem . Update that method to better match the semantics of a Python list."
   ]
  },
  {
   "cell_type": "code",
   "execution_count": null,
   "metadata": {},
   "outputs": [],
   "source": []
  },
  {
   "cell_type": "markdown",
   "metadata": {},
   "source": [
    "R-5.6 Our implementation of insert for the DynamicArray class, as given in Code Fragment 5.5, has the following inefficiency. In the case when a resize occurs, the resize operation takes time to copy all the elements from an old array to a new array, and then the subsequent loop in the body of insert shifts many of those elements. Give an improved implementation of the insert method, so that, in the case of a resize, the elements are\n",
    "shifted into their final position during that operation, thereby avoiding the subsequent shifting"
   ]
  },
  {
   "cell_type": "code",
   "execution_count": null,
   "metadata": {},
   "outputs": [],
   "source": []
  },
  {
   "cell_type": "markdown",
   "metadata": {},
   "source": [
    "R-5.7 Let A be an array of size n ≥ 2 containing integers from 1 to n−1, inclusive, with exactly one repeated. Describe a fast algorithm for finding the integer in A that is repeated."
   ]
  },
  {
   "cell_type": "code",
   "execution_count": 58,
   "metadata": {},
   "outputs": [
    {
     "name": "stdout",
     "output_type": "stream",
     "text": [
      "2\n"
     ]
    }
   ],
   "source": [
    "arr = [1, 2, 3, 4, 5, 2]\n",
    "repeated = sum(arr) - sum([i for i in range(1, len(arr))])\n",
    "print(repeated)"
   ]
  },
  {
   "cell_type": "markdown",
   "metadata": {},
   "source": [
    "R-5.8 Experimentally evaluate the efficiency of the pop method of Python’s list class when using varying indices as a parameter, as we did for insert on page 205. Report your results akin to Table 5.5"
   ]
  },
  {
   "cell_type": "code",
   "execution_count": 63,
   "metadata": {},
   "outputs": [
    {
     "name": "stdout",
     "output_type": "stream",
     "text": [
      "1000 0 0.0005087852478027344\n",
      "1000 0.5 7.3909759521484375e-06\n",
      "1000 1 5.9604644775390625e-06\n",
      "10000 0 0.015984058380126953\n",
      "10000 0.5 3.814697265625e-06\n",
      "10000 1 2.384185791015625e-06\n",
      "100000 0 0.9509150981903076\n",
      "100000 0.5 4.291534423828125e-06\n",
      "100000 1 2.6226043701171875e-06\n"
     ]
    }
   ],
   "source": [
    "\n",
    "n = [1000, 10000, 100000]\n",
    "k = [0, 1/2]\n",
    "def perform(n, k):\n",
    "    arr = [i for i in range(n)]\n",
    "    time_1 = time.time()\n",
    "    while(True):\n",
    "        try:\n",
    "            arr.pop(n*k)\n",
    "        except:\n",
    "            break\n",
    "    time_2 = time.time()\n",
    "    print(n, k, time_2 - time_1)\n",
    "    \n",
    "for i in n:\n",
    "    for j in k:\n",
    "        perform(i, j)"
   ]
  },
  {
   "cell_type": "markdown",
   "metadata": {},
   "source": [
    "R-5.9 Explain the changes that would have to be made to the program of Code Fragment 5.11 so that it could perform the Caesar cipher for messages that are written in an alphabet-based language other than English, such as Greek, Russian, or Hebrew."
   ]
  },
  {
   "cell_type": "markdown",
   "metadata": {},
   "source": [
    "use the unicodes for these languages"
   ]
  },
  {
   "cell_type": "markdown",
   "metadata": {},
   "source": [
    "R-5.10 The constructor for the CaesarCipher class in Code Fragment 5.11 can be implemented with a two-line body by building the forward and backward strings using a combination of the join method and an appropriate comprehension syntax. Give such an implementation."
   ]
  },
  {
   "cell_type": "code",
   "execution_count": 75,
   "metadata": {},
   "outputs": [
    {
     "name": "stdout",
     "output_type": "stream",
     "text": [
      "DEFGHIJKLMNOPQRSTUVWXYZABC\n",
      "XYZABCDEFGHIJKLMNOPQRSTUVW\n",
      "\n",
      "result from oneline implementation:\n",
      "\n",
      "DEFGHIJKLMNOPQRSTUVWXYZABC\n",
      "XYZABCDEFGHIJKLMNOPQRSTUVW\n"
     ]
    }
   ],
   "source": [
    "## old_code \n",
    "encoder = [None]*26\n",
    "decoder = [None]*26\n",
    "shift = 3\n",
    "for k in range(26):\n",
    "    encoder[k] = chr((k + shift) % 26 + ord( 'A' ))\n",
    "    decoder[k] = chr((k - shift) % 26 + ord( 'A' ))\n",
    "\n",
    "forward =''.join(encoder)\n",
    "backward =''.join(decoder)\n",
    "\n",
    "print(forward)\n",
    "print(backward)\n",
    "\n",
    "forward_1 = ''.join([(chr((k+shift)%26 + ord('A'))) for k in range(26)])\n",
    "backward_2 = ''.join([(chr((k-shift)%26 + ord('A'))) for k in range (26)])\n",
    "\n",
    "print(\"\\nresult from oneline implementation:\\n\")\n",
    "print(forward_1)\n",
    "print(backward_2)"
   ]
  },
  {
   "cell_type": "markdown",
   "metadata": {},
   "source": [
    "R-5.11 Use standard control structures to compute the sum of all numbers in an n×n data set, represented as a list of lists."
   ]
  },
  {
   "cell_type": "code",
   "execution_count": 81,
   "metadata": {},
   "outputs": [
    {
     "name": "stdout",
     "output_type": "stream",
     "text": [
      "45\n"
     ]
    }
   ],
   "source": [
    "ll = [[1, 2, 3], [4, 5, 6], [7, 8, 9]]\n",
    "s = 0\n",
    "for row in ll:\n",
    "    for value in row:\n",
    "        s+= value\n",
    "print(s)"
   ]
  },
  {
   "cell_type": "markdown",
   "metadata": {},
   "source": [
    "R-5.12 Describe how the built-in sum function can be combined with Python’s comprehension syntax to compute the sum of all numbers in an n×n dataset, represented as a list of lists."
   ]
  },
  {
   "cell_type": "code",
   "execution_count": 82,
   "metadata": {},
   "outputs": [
    {
     "name": "stdout",
     "output_type": "stream",
     "text": [
      "45\n"
     ]
    }
   ],
   "source": [
    "print(sum([sum(row) for row in ll]))"
   ]
  },
  {
   "cell_type": "markdown",
   "metadata": {},
   "source": [
    "****Creativity Problems***"
   ]
  },
  {
   "cell_type": "code",
   "execution_count": null,
   "metadata": {},
   "outputs": [],
   "source": []
  }
 ],
 "metadata": {
  "kernelspec": {
   "display_name": "Python 3",
   "language": "python",
   "name": "python3"
  },
  "language_info": {
   "codemirror_mode": {
    "name": "ipython",
    "version": 3
   },
   "file_extension": ".py",
   "mimetype": "text/x-python",
   "name": "python",
   "nbconvert_exporter": "python",
   "pygments_lexer": "ipython3",
   "version": "3.7.3"
  }
 },
 "nbformat": 4,
 "nbformat_minor": 2
}
