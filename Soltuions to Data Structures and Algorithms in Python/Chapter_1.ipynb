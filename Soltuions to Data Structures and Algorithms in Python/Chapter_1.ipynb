{
 "cells": [
  {
   "cell_type": "markdown",
   "metadata": {},
   "source": [
    "## My solutions to problems from chapter 1 ###\n",
    "### Unittessts are included "
   ]
  },
  {
   "cell_type": "code",
   "execution_count": 23,
   "metadata": {
    "collapsed": true
   },
   "outputs": [],
   "source": [
    "import random\n",
    "import time"
   ]
  },
  {
   "cell_type": "markdown",
   "metadata": {},
   "source": [
    "### Reinforcement problems"
   ]
  },
  {
   "cell_type": "markdown",
   "metadata": {},
   "source": [
    "R-1.1 Write a short Python function, is multiple(n, m), that takes two integer\n",
    "values and returns True if n is a multiple of m, that is, n = mi for some\n",
    "integer i, and False otherwise."
   ]
  },
  {
   "cell_type": "code",
   "execution_count": 1,
   "metadata": {
    "collapsed": true
   },
   "outputs": [],
   "source": [
    "def multiple(n, m):\n",
    "    return n%m ==0"
   ]
  },
  {
   "cell_type": "markdown",
   "metadata": {},
   "source": [
    "R-1.2 Write a short Python function, is even(k), that takes an integer value and returns True if k is even, and False otherwise. However, your function cannot use the multiplication, modulo, or division operators."
   ]
  },
  {
   "cell_type": "code",
   "execution_count": 3,
   "metadata": {
    "collapsed": true
   },
   "outputs": [],
   "source": [
    "## idea: use the binary representation of the number \n",
    "def is_even(k):\n",
    "    print(True if str(bin(k))[-1] == '0' else False)"
   ]
  },
  {
   "cell_type": "markdown",
   "metadata": {},
   "source": [
    "R-1.3 Write a short Python function, minmax(data), that takes a sequence of one or more numbers, and returns the smallest and largest numbers, in the form of a tuple of length two. Do not use the built-in functions min or max in implementing your solution."
   ]
  },
  {
   "cell_type": "code",
   "execution_count": 4,
   "metadata": {
    "collapsed": true
   },
   "outputs": [],
   "source": [
    "def get_min_max(data):\n",
    "    minimum = data[0]\n",
    "    maximum = data[0]\n",
    "    \n",
    "    for item in data:\n",
    "        if item < minimum:\n",
    "            minimum = item\n",
    "        if item > maximum:\n",
    "            maximum = item\n",
    "            \n",
    "    return (minimum, maximum)"
   ]
  },
  {
   "cell_type": "markdown",
   "metadata": {},
   "source": [
    "R-1.4 Write a short Python function that takes a positive integer n and returns the sum of the squares of all the positive integers smaller than n."
   ]
  },
  {
   "cell_type": "code",
   "execution_count": 13,
   "metadata": {
    "collapsed": true
   },
   "outputs": [],
   "source": [
    "## O(n) implementation\n",
    "def sum_of_squares(n):\n",
    "    summation = 0\n",
    "    for i in range(n):\n",
    "        summation += i**2\n",
    "    return summation "
   ]
  },
  {
   "cell_type": "code",
   "execution_count": 14,
   "metadata": {
    "collapsed": true
   },
   "outputs": [],
   "source": [
    "## O(1) implementation\n",
    "def efficient_sum_of_squares(n):\n",
    "    return int((n-1)*(n)* (2*n - 1)/6)"
   ]
  },
  {
   "cell_type": "markdown",
   "metadata": {},
   "source": [
    "R-1.5 Give a single command that computes the sum from Exercise R-1.4, relying on Python’s comprehension syntax and the built-in sum function."
   ]
  },
  {
   "cell_type": "code",
   "execution_count": 16,
   "metadata": {
    "collapsed": true
   },
   "outputs": [],
   "source": [
    "def comprehensive_sum_of_squares(n):\n",
    "    return sum([i**2 for i in range(n)])"
   ]
  },
  {
   "cell_type": "markdown",
   "metadata": {},
   "source": [
    "R-1.6 Write a short Python function that takes a positive integer n and returns the sum of the squares of all the odd positive integers smaller than n."
   ]
  },
  {
   "cell_type": "code",
   "execution_count": 21,
   "metadata": {
    "collapsed": true
   },
   "outputs": [],
   "source": [
    "def sum_of_squares_of_odds(n):\n",
    "    summation = 0\n",
    "    for i in range(n):\n",
    "        if i%2 ==1:\n",
    "            summation += i**2\n",
    "    return summation"
   ]
  },
  {
   "cell_type": "markdown",
   "metadata": {},
   "source": [
    "R-1.7 Give a single command that computes the sum from Exercise R-1.6, relying on Python’s comprehension syntax and the built-in sum function."
   ]
  },
  {
   "cell_type": "code",
   "execution_count": 22,
   "metadata": {
    "collapsed": true
   },
   "outputs": [],
   "source": [
    "def comprehensive_sum_of_squares_of_odds(n):\n",
    "    return sum([i**2 for i in range(n) if i%2 ==1])"
   ]
  },
  {
   "cell_type": "markdown",
   "metadata": {},
   "source": [
    "R-1.8 Python allows negative integers to be used as indices into a sequence,\n",
    "such as a string. If string s has length n, and expression s[k] is used for index −n ≤ k < 0, what is the equivalent index j ≥ 0 such that s[j] references\n",
    "the same element?"
   ]
  },
  {
   "cell_type": "markdown",
   "metadata": {},
   "source": [
    "[j-n]"
   ]
  },
  {
   "cell_type": "markdown",
   "metadata": {},
   "source": [
    "R-1.9 What parameters should be sent to the range constructor, to produce a range with values 50, 60, 70, 80?"
   ]
  },
  {
   "cell_type": "code",
   "execution_count": 26,
   "metadata": {},
   "outputs": [
    {
     "name": "stdout",
     "output_type": "stream",
     "text": [
      "[50, 60, 70, 80]\n"
     ]
    }
   ],
   "source": [
    "r = range(50, 90, 10)\n",
    "print(list(r))"
   ]
  },
  {
   "cell_type": "markdown",
   "metadata": {},
   "source": [
    "R-1.10 What parameters should be sent to the range constructor, to produce a\n",
    "range with values 8, 6, 4, 2, 0, −2, −4, −6, −8?"
   ]
  },
  {
   "cell_type": "code",
   "execution_count": 28,
   "metadata": {},
   "outputs": [
    {
     "name": "stdout",
     "output_type": "stream",
     "text": [
      "[8, 6, 4, 2, 0, -2, -4, -6, -8]\n"
     ]
    }
   ],
   "source": [
    "r = range(8, -10, -2)\n",
    "print(list(r))"
   ]
  },
  {
   "cell_type": "markdown",
   "metadata": {},
   "source": [
    "R-1.11 Demonstrate how to use Python’s list comprehension syntax to produce\n",
    "the list [1, 2, 4, 8, 16, 32, 64, 128, 256]."
   ]
  },
  {
   "cell_type": "code",
   "execution_count": 30,
   "metadata": {},
   "outputs": [
    {
     "name": "stdout",
     "output_type": "stream",
     "text": [
      "[1, 2, 4, 8, 16, 32, 64, 128, 256]\n"
     ]
    }
   ],
   "source": [
    "l = [2**i for i in range(9)]\n",
    "print(l)"
   ]
  },
  {
   "cell_type": "markdown",
   "metadata": {},
   "source": [
    "R-1.12 Python’s random module includes a function choice(data) that returns a random element from a non-empty sequence. The random module includes a more basic function randrange, with parameterization similar to the built-in range function, that return a random choice from the given range. Using only the randrange function, implement your own version of the choice function."
   ]
  },
  {
   "cell_type": "code",
   "execution_count": 32,
   "metadata": {
    "collapsed": true
   },
   "outputs": [],
   "source": [
    "def rand_choice(data):\n",
    "    r = random.randrange(len(data))\n",
    "    return data[r]"
   ]
  },
  {
   "cell_type": "markdown",
   "metadata": {},
   "source": [
    "### Creativity Problems"
   ]
  },
  {
   "cell_type": "markdown",
   "metadata": {},
   "source": [
    "C-1.13 Write a pseudo-code description of a function that reverses a list of n integers, so that the numbers are listed in the opposite order than they were before, and compare this method to an equivalent Python function for doing the same thing. "
   ]
  },
  {
   "cell_type": "code",
   "execution_count": 51,
   "metadata": {},
   "outputs": [
    {
     "name": "stdout",
     "output_type": "stream",
     "text": [
      "[9, 8, 7, 6, 5, 4, 3, 2, 1, 0]\n",
      "[9, 8, 7, 6, 5, 4, 3, 2, 1, 0]\n",
      "My implementation took: 0.001030445098876953 seconds\n",
      "Python reveresed  took: 0.0 seconds\n"
     ]
    }
   ],
   "source": [
    "def recursive_rev(data):\n",
    "    if len(data) ==0:\n",
    "        return data\n",
    "    else: \n",
    "        return  recursive_rev(data[1:]) + [data[0]] \n",
    "\n",
    "data = [i for i in range(10)]\n",
    "\n",
    "time_1 = time.time()\n",
    "my_rev = recursive_rev(data)\n",
    "time_2 = time.time()\n",
    "\n",
    "time_3 = time.time()\n",
    "python_rev = list(reversed(data))\n",
    "time_4 = time.time()\n",
    "\n",
    "print(my_rev)\n",
    "print(python_rev)\n",
    "\n",
    "print(\"My implementation took: {:.16} seconds\".format(time_2 - time_1))\n",
    "print(\"Python reveresed  took: {:.16} seconds\".format(time_3 - time_4))"
   ]
  },
  {
   "cell_type": "markdown",
   "metadata": {},
   "source": [
    "C-1.14 Write a short Python function that takes a sequence of integer values and determines if there is a distinct pair of numbers in the sequence whose product is odd."
   ]
  },
  {
   "cell_type": "code",
   "execution_count": 52,
   "metadata": {
    "collapsed": true
   },
   "outputs": [],
   "source": [
    "def is_odd_product(data):\n",
    "    data = list(set(data))\n",
    "    for i in range(n):\n",
    "        for j in range(i+1, n):\n",
    "            if (data[i]*data[j])%2 == 1:\n",
    "                return True\n",
    "    return False \n"
   ]
  },
  {
   "cell_type": "markdown",
   "metadata": {},
   "source": [
    "C-1.15 Write a Python function that takes a sequence of numbers and determines if all the numbers are different from each other (that is, they are distinct)."
   ]
  },
  {
   "cell_type": "code",
   "execution_count": 53,
   "metadata": {
    "collapsed": true
   },
   "outputs": [],
   "source": [
    "def is_all_distinct(data):\n",
    "    return (True if len(set(data)) == len(data) else False)"
   ]
  },
  {
   "cell_type": "markdown",
   "metadata": {},
   "source": [
    "C-1.16 In our implementation of the scale function (page 25), the body of the loop executes the command data[j] = factor. We have discussed that numeric types are immutable, and that use of the = operator in this context causes the creation of a new instance (not the mutation of an existing instance).\n",
    "How is it still possible, then, that our implementation of scale changes the actual parameter sent by the caller?"
   ]
  },
  {
   "cell_type": "markdown",
   "metadata": {},
   "source": [
    "Because we create a new value and we change the value in the list with it i.e. we assign a new number to the list, because the lists are mutable"
   ]
  },
  {
   "cell_type": "markdown",
   "metadata": {},
   "source": [
    "C-1.17 Had we implemented the scale function (page 25) as follows, does it work properly: \n",
    "\n",
    "def scale(data, factor):\n",
    "\n",
    "    for val in data:\n",
    "        val *= factor\n",
    "Explain why or why not."
   ]
  },
  {
   "cell_type": "markdown",
   "metadata": {},
   "source": [
    "it's not going to work properly, because here, we're creating a copy of the items of the list, and they're immutable objcets, and we're not assigning these values back to the list "
   ]
  },
  {
   "cell_type": "markdown",
   "metadata": {},
   "source": [
    "C-1.18 Demonstrate how to use Python’s list comprehension syntax to produce the list [0, 2, 6, 12, 20, 30, 42, 56, 72, 90]."
   ]
  },
  {
   "cell_type": "code",
   "execution_count": 61,
   "metadata": {},
   "outputs": [
    {
     "name": "stdout",
     "output_type": "stream",
     "text": [
      "[0, 2, 6, 12, 20, 30, 42, 56, 72, 90]\n"
     ]
    }
   ],
   "source": [
    "ll = [sum(2*i for i in range (0, j+1)) for j in range (0, 10)]\n",
    "print(ll)"
   ]
  },
  {
   "cell_type": "markdown",
   "metadata": {},
   "source": [
    "C-1.19 Demonstrate how to use Python’s list comprehension syntax to produce the list [ a , b , c , ..., z ], but without having to type all 26 such\n",
    "characters literally."
   ]
  },
  {
   "cell_type": "code",
   "execution_count": 63,
   "metadata": {},
   "outputs": [
    {
     "name": "stdout",
     "output_type": "stream",
     "text": [
      "['a', 'b', 'c', 'd', 'e', 'f', 'g', 'h', 'i', 'j', 'k', 'l', 'm', 'n', 'o', 'p', 'q', 'r', 's', 't', 'u', 'v', 'w', 'x', 'y', 'z']\n"
     ]
    }
   ],
   "source": [
    "chars = [chr(97+i) for i in range (26)]\n",
    "print(chars)"
   ]
  },
  {
   "cell_type": "markdown",
   "metadata": {
    "collapsed": true
   },
   "source": [
    "C-1.20 Python’s random module includes a function shuffle(data) that accepts a\n",
    "list of elements and randomly reorders the elements so that each possible order occurs with equal probability. The random module includes a\n",
    "more basic function randint(a, b) that returns a uniformly random integer\n",
    "from a to b (including both endpoints). Using only the randint function,\n",
    "implement your own version of the shuffle function."
   ]
  },
  {
   "cell_type": "code",
   "execution_count": 2,
   "metadata": {
    "collapsed": true
   },
   "outputs": [],
   "source": [
    "def shuffle(l): \n",
    "    shuffled = []\n",
    "    while len(l) != 0:\n",
    "        index = random.randint(0, len(l)-1)\n",
    "        shuffled.append(l.pop(index))\n",
    "    return shuffled "
   ]
  },
  {
   "cell_type": "markdown",
   "metadata": {},
   "source": [
    "C-1.21 Write a Python program that repeatedly reads lines from standard input until an EOFError is raised, and then outputs those lines in reverse order (a user can indicate end of input by typing ctrl-D)."
   ]
  },
  {
   "cell_type": "code",
   "execution_count": 6,
   "metadata": {
    "collapsed": true
   },
   "outputs": [],
   "source": [
    "# inputs = []\n",
    "# while True:\n",
    "#     try: \n",
    "#         z = input()\n",
    "#         if  ([ord(char) for char in z]) == [4]:\n",
    "#             raise EOFError\n",
    "#         else:  \n",
    "#             inputs.append(z)\n",
    "\n",
    "#     except EOFError:\n",
    "#         for line in reversed(inputs):\n",
    "#             print(line)\n",
    "#         break"
   ]
  },
  {
   "cell_type": "markdown",
   "metadata": {},
   "source": [
    "C-1.22 Write a short Python program that takes two arrays a and b of length n storing int values, and returns the dot product of a and b. That is, it returns an array c of length n such that c[i] = a[i] · b[i], for i = 0,...,n− 1."
   ]
  },
  {
   "cell_type": "code",
   "execution_count": 12,
   "metadata": {},
   "outputs": [
    {
     "name": "stdout",
     "output_type": "stream",
     "text": [
      "60\n"
     ]
    }
   ],
   "source": [
    "a = [1, 2, 3, 4]\n",
    "b = [4, 5, 6, 7]\n",
    "def dot_product(a, b): \n",
    "    dot = 0\n",
    "    for x,y in zip(a,b):\n",
    "        dot += x*y\n",
    "    return dot \n",
    "    \n",
    "print(dot_product(a,b))\n"
   ]
  },
  {
   "cell_type": "markdown",
   "metadata": {},
   "source": [
    "C-1.23 Give an example of a Python code fragment that attempts to write an element to a list based on an index that may be out of bounds. If that index is out of bounds, the program should catch the exception that results, and print the following error message: “Don’t try buffer overflow attacks in Python!"
   ]
  },
  {
   "cell_type": "code",
   "execution_count": 14,
   "metadata": {},
   "outputs": [
    {
     "name": "stdout",
     "output_type": "stream",
     "text": [
      "Don’t try buffer overflow attacks in Python!\n",
      "[1, 2, 3, 4]\n"
     ]
    }
   ],
   "source": [
    "def write_element(array, element, index): \n",
    "    try:\n",
    "        array[index] = element \n",
    "    except IndexError:\n",
    "        print(\"Don’t try buffer overflow attacks in Python!\")\n",
    "\n",
    "arr = [1, 2, 3, 4]\n",
    "write_element(arr, 44, 5)\n",
    "print(arr)"
   ]
  },
  {
   "cell_type": "markdown",
   "metadata": {},
   "source": [
    "C-1.24 Write a short Python function that counts the number of vowels in a given character string."
   ]
  },
  {
   "cell_type": "code",
   "execution_count": 21,
   "metadata": {},
   "outputs": [
    {
     "name": "stdout",
     "output_type": "stream",
     "text": [
      "3\n"
     ]
    }
   ],
   "source": [
    "def count_vowels(string):\n",
    "    count = 0\n",
    "    for char in string:\n",
    "        if char.lower() in ['a', 'o', 'e', 'i', 'u']:\n",
    "            count +=1\n",
    "    print(count)\n",
    "    \n",
    "count_vowels(\"Hello World\")"
   ]
  },
  {
   "cell_type": "markdown",
   "metadata": {},
   "source": [
    "C-1.25 Write a short Python function that takes a string s, representing a sentence, and returns a copy of the string with all punctuation removed. For example, if given the string \"Let's try, Mike.\", this function would return \"Lets try Mike\"."
   ]
  },
  {
   "cell_type": "code",
   "execution_count": 28,
   "metadata": {},
   "outputs": [
    {
     "name": "stdout",
     "output_type": "stream",
     "text": [
      "Lets try Mike\n"
     ]
    }
   ],
   "source": [
    "def depunc(string):\n",
    "    string = string.replace(\",\", \"\")\n",
    "    string = string.replace(\".\", \"\")\n",
    "    string = string.replace(\"!\", \"\")\n",
    "    string = string.replace(\".\", \"\")\n",
    "    string = string.replace(\"'\", \"\")\n",
    "    string = string.replace(\"?\", \"\")\n",
    "    \n",
    "    return string\n",
    "\n",
    "print(depunc(\"Let's try, Mike.\"))"
   ]
  },
  {
   "cell_type": "markdown",
   "metadata": {},
   "source": [
    "C-1.26 Write a short program that takes as input three integers, a, b, and c, from the console and determines if they can be used in a correct arithmetic formula (in the given order), like “a+ b = c,” “a = b− c,” or “a∗ b = c.”"
   ]
  },
  {
   "cell_type": "code",
   "execution_count": 32,
   "metadata": {},
   "outputs": [
    {
     "name": "stdout",
     "output_type": "stream",
     "text": [
      "Enter a: 5\n",
      "Enter b: 15\n",
      "Enter c: 75\n",
      "False\n",
      "False\n",
      "True\n"
     ]
    }
   ],
   "source": [
    "a = int(input(\"Enter a: \"))\n",
    "b = int(input(\"Enter b: \"))\n",
    "c = int(input(\"Enter c: \"))\n",
    "\n",
    "print(True if a + b == c else False) \n",
    "print(True if a == b - c else False)\n",
    "print(True if a * b == c else False) "
   ]
  },
  {
   "cell_type": "markdown",
   "metadata": {},
   "source": [
    "C-1.27 In Section 1.8, we provided three different implementations of a generator that computes factors of a given integer. The third of those implementations, from page 41, was the most efficient, but we noted that it did not\n",
    "yield the factors in increasing order. Modify the generator so that it reports factors in increasing order, while maintaining its general performance advantages."
   ]
  },
  {
   "cell_type": "code",
   "execution_count": 59,
   "metadata": {},
   "outputs": [
    {
     "name": "stdout",
     "output_type": "stream",
     "text": [
      "[1, 2, 4, 5, 10, 20, 25, 50, 100]\n"
     ]
    }
   ],
   "source": [
    "def factors (n): \n",
    "    k = 1\n",
    "    while k <= n: # while k < sqrt(n)\n",
    "        if n % k == 0:\n",
    "            yield k\n",
    "        k += 1\n",
    "\n",
    "\n",
    "print(list(factors(100)))"
   ]
  },
  {
   "cell_type": "markdown",
   "metadata": {},
   "source": [
    "C-1.28 The p-norm of a vector v = (v1,v2,...,vn) in n-dimensional space is defined as\n",
    "\u0007v\u0007 = \u0002 p v1 p + v2 p + ··· + vn p.\n",
    "For the special case of p = 2, this results in the traditional Euclidean\n",
    "norm, which represents the length of the vector. For example, the Euclidean norm of a two-dimensional vector with coordinates (4,3) has a\n",
    "Euclidean norm of √42 + 32 = √16+ 9 = √25 = 5. Give an implementation of a function named norm such that norm(v, p) returns the p-norm\n",
    "value of v and norm(v) returns the Euclidean norm of v. You may assume\n",
    "that v is a list of numbers"
   ]
  },
  {
   "cell_type": "code",
   "execution_count": 51,
   "metadata": {},
   "outputs": [
    {
     "name": "stdout",
     "output_type": "stream",
     "text": [
      "4.337613136533361\n"
     ]
    }
   ],
   "source": [
    "def p_norm(v, p):\n",
    "    sums = 0\n",
    "    for elem in v:\n",
    "        sums += elem**p\n",
    "    return sums **(1/p)\n",
    "\n",
    "print(p_norm([1,2,3,4], 4))"
   ]
  },
  {
   "cell_type": "markdown",
   "metadata": {
    "collapsed": true
   },
   "source": [
    "### Projects "
   ]
  },
  {
   "cell_type": "markdown",
   "metadata": {},
   "source": [
    "P-1.29 Write a Python program that outputs all possible strings formed by using the characters c , a , t , d , o , and g exactly once."
   ]
  },
  {
   "cell_type": "code",
   "execution_count": 2,
   "metadata": {
    "collapsed": true
   },
   "outputs": [],
   "source": [
    "elements = ['c' , 'a' , 't' , 'd' , 'o' , 'g']\n",
    "elements = list(set(elements))\n",
    "## compare against itertools permuations version \n",
    "def get_permutations (string):\n",
    "    l =[]\n",
    "    def _permute(prefix, suffix, result):\n",
    "        if len(suffix) == 0:\n",
    "            result.append(prefix)\n",
    "        else:\n",
    "            for i in range(len(suffix)):\n",
    "                _permute(prefix + suffix[i], suffix[:i] + suffix[i+1:], result)\n",
    "    \n",
    "    _permute(\"\", string, l)\n",
    "\n",
    "    return l\n",
    "\n",
    "#print(list(get_permutations(elements)))"
   ]
  },
  {
   "cell_type": "markdown",
   "metadata": {
    "collapsed": true
   },
   "source": [
    "P-1.30 Write a Python program that can take a positive integer greater than 2 as input and write out the number of times one must repeatedly divide this number by 2 before getting a value less than 2."
   ]
  },
  {
   "cell_type": "code",
   "execution_count": 31,
   "metadata": {},
   "outputs": [
    {
     "name": "stdout",
     "output_type": "stream",
     "text": [
      "5\n",
      "5\n"
     ]
    }
   ],
   "source": [
    "n = 32\n",
    "z = n\n",
    "counter = 0\n",
    "## O(log(n))\n",
    "while (n>=2):\n",
    "    n /= 2 \n",
    "    counter +=1\n",
    "print(counter)\n",
    "\n",
    "## O(1)\n",
    "print(len(bin(z)[2:])-1)"
   ]
  },
  {
   "cell_type": "markdown",
   "metadata": {},
   "source": [
    "P-1.31 Write a Python program that can “make change.” Your program should take two numbers as input, one that is a monetary amount charged and the other that is a monetary amount given. It should then return the number of each kind of bill and coin to give back as change for the difference between the amount given and the amount charged. The values assigned to the bills and coins can be based on the monetary system of any current or former government. Try to design your program so that it returns as\n",
    "few bills and coins as possible."
   ]
  },
  {
   "cell_type": "code",
   "execution_count": 6,
   "metadata": {},
   "outputs": [
    {
     "name": "stdout",
     "output_type": "stream",
     "text": [
      "change is:  568\n",
      "[(100, 5), (50, 1), (20, 0), (10, 1), (5, 1), (2, 1), (1, 1)]\n"
     ]
    }
   ],
   "source": [
    "## Greedy approach \n",
    "\n",
    "charged = 432\n",
    "given = 1000\n",
    "\n",
    "bills = [100, 50, 20, 10, 5, 2, 1]\n",
    "amount = given - charged\n",
    "\n",
    "print(\"change is: \", amount)\n",
    "\n",
    "dic = {}\n",
    "for bill in bills: \n",
    "    a, b = divmod(amount, bill)\n",
    "    dic[bill] = a\n",
    "    amount = b\n",
    "\n",
    "\n",
    "print(sorted(dic.items(), reverse = True))"
   ]
  },
  {
   "cell_type": "code",
   "execution_count": null,
   "metadata": {
    "collapsed": true
   },
   "outputs": [],
   "source": []
  }
 ],
 "metadata": {
  "kernelspec": {
   "display_name": "Python 3",
   "language": "python",
   "name": "python3"
  },
  "language_info": {
   "codemirror_mode": {
    "name": "ipython",
    "version": 3
   },
   "file_extension": ".py",
   "mimetype": "text/x-python",
   "name": "python",
   "nbconvert_exporter": "python",
   "pygments_lexer": "ipython3",
   "version": "3.5.3"
  }
 },
 "nbformat": 4,
 "nbformat_minor": 2
}
