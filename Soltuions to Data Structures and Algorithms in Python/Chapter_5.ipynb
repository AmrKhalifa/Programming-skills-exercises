{
 "cells": [
  {
   "cell_type": "markdown",
   "metadata": {},
   "source": [
    "### Solutions to the problems of Chapter 5\n",
    "## Array Based Sequences\n"
   ]
  },
  {
   "cell_type": "markdown",
   "metadata": {},
   "source": [
    "****Reinforcement Problems***"
   ]
  },
  {
   "cell_type": "code",
   "execution_count": 106,
   "metadata": {},
   "outputs": [],
   "source": [
    "import time\n",
    "import sys\n",
    "import random\n",
    "import math\n",
    "from collections import defaultdict\n",
    "import os"
   ]
  },
  {
   "cell_type": "markdown",
   "metadata": {},
   "source": [
    "R-5.1 Execute the experiment from Code Fragment 5.1 and compare the results on your system to those we report in Code Fragment 5.2"
   ]
  },
  {
   "cell_type": "code",
   "execution_count": 230,
   "metadata": {},
   "outputs": [],
   "source": [
    "ll = []\n",
    "for i in range(50):\n",
    "    ll.append(i)\n",
    "    #print(i, sys.getsizeof(ll))"
   ]
  },
  {
   "cell_type": "markdown",
   "metadata": {},
   "source": [
    "R-5.2 In Code Fragment 5.1, we perform an experiment to compare the length of a Python list to its underlying memory usage. Determining the sequence of array sizes requires a manual inspection of the output of that program. Redesign the experiment so that the program outputs only those values of k at which the existing capacity is exhausted. For example, on a system consistent with the results of Code Fragment 5.2, your program should\n",
    "output that the sequence of array capacities are 0, 4, 8, 16, 25, . . . ."
   ]
  },
  {
   "cell_type": "code",
   "execution_count": 86,
   "metadata": {},
   "outputs": [
    {
     "name": "stdout",
     "output_type": "stream",
     "text": [
      "0\n",
      "4\n",
      "8\n",
      "16\n",
      "25\n",
      "35\n",
      "46\n"
     ]
    }
   ],
   "source": [
    "ll =[]\n",
    "old_capacity = sys.getsizeof(ll)\n",
    "\n",
    "for i in range(50):\n",
    "    ll.append(i)\n",
    "    capacity = sys.getsizeof(ll)\n",
    "    if capacity > old_capacity: \n",
    "        print(i)\n",
    "        old_capacity = capacity "
   ]
  },
  {
   "cell_type": "markdown",
   "metadata": {},
   "source": [
    "R-5.3 Modify the experiment from Code Fragment 5.1 in order to demonstrate that Python’s list class occasionally shrinks the size of its underlying array when elements are popped from a list."
   ]
  },
  {
   "cell_type": "code",
   "execution_count": 231,
   "metadata": {},
   "outputs": [],
   "source": [
    "for i in range(50):\n",
    "    ll.pop()\n",
    "    #print(i, sys.getsizeof(ll))"
   ]
  },
  {
   "cell_type": "markdown",
   "metadata": {},
   "source": [
    "R-5.4 Our DynamicArray class, as given in Code Fragment 5.3, does not support use of negative indices with getitem . Update that method to better match the semantics of a Python list."
   ]
  },
  {
   "cell_type": "code",
   "execution_count": null,
   "metadata": {},
   "outputs": [],
   "source": []
  },
  {
   "cell_type": "markdown",
   "metadata": {},
   "source": [
    "R-5.6 Our implementation of insert for the DynamicArray class, as given in Code Fragment 5.5, has the following inefficiency. In the case when a resize occurs, the resize operation takes time to copy all the elements from an old array to a new array, and then the subsequent loop in the body of insert shifts many of those elements. Give an improved implementation of the insert method, so that, in the case of a resize, the elements are\n",
    "shifted into their final position during that operation, thereby avoiding the subsequent shifting"
   ]
  },
  {
   "cell_type": "code",
   "execution_count": null,
   "metadata": {},
   "outputs": [],
   "source": []
  },
  {
   "cell_type": "markdown",
   "metadata": {},
   "source": [
    "R-5.7 Let A be an array of size n ≥ 2 containing integers from 1 to n−1, inclusive, with exactly one repeated. Describe a fast algorithm for finding the integer in A that is repeated."
   ]
  },
  {
   "cell_type": "code",
   "execution_count": 58,
   "metadata": {},
   "outputs": [
    {
     "name": "stdout",
     "output_type": "stream",
     "text": [
      "2\n"
     ]
    }
   ],
   "source": [
    "arr = [1, 2, 3, 4, 5, 2]\n",
    "repeated = sum(arr) - sum([i for i in range(1, len(arr))])\n",
    "print(repeated)"
   ]
  },
  {
   "cell_type": "markdown",
   "metadata": {},
   "source": [
    "R-5.8 Experimentally evaluate the efficiency of the pop method of Python’s list class when using varying indices as a parameter, as we did for insert on page 205. Report your results akin to Table 5.5"
   ]
  },
  {
   "cell_type": "code",
   "execution_count": 63,
   "metadata": {},
   "outputs": [
    {
     "name": "stdout",
     "output_type": "stream",
     "text": [
      "1000 0 0.0005087852478027344\n",
      "1000 0.5 7.3909759521484375e-06\n",
      "1000 1 5.9604644775390625e-06\n",
      "10000 0 0.015984058380126953\n",
      "10000 0.5 3.814697265625e-06\n",
      "10000 1 2.384185791015625e-06\n",
      "100000 0 0.9509150981903076\n",
      "100000 0.5 4.291534423828125e-06\n",
      "100000 1 2.6226043701171875e-06\n"
     ]
    }
   ],
   "source": [
    "\n",
    "n = [1000, 10000, 100000]\n",
    "k = [0, 1/2]\n",
    "def perform(n, k):\n",
    "    arr = [i for i in range(n)]\n",
    "    time_1 = time.time()\n",
    "    while(True):\n",
    "        try:\n",
    "            arr.pop(n*k)\n",
    "        except:\n",
    "            break\n",
    "    time_2 = time.time()\n",
    "    print(n, k, time_2 - time_1)\n",
    "    \n",
    "for i in n:\n",
    "    for j in k:\n",
    "        perform(i, j)"
   ]
  },
  {
   "cell_type": "markdown",
   "metadata": {},
   "source": [
    "R-5.9 Explain the changes that would have to be made to the program of Code Fragment 5.11 so that it could perform the Caesar cipher for messages that are written in an alphabet-based language other than English, such as Greek, Russian, or Hebrew."
   ]
  },
  {
   "cell_type": "markdown",
   "metadata": {},
   "source": [
    "use the unicodes for these languages"
   ]
  },
  {
   "cell_type": "markdown",
   "metadata": {},
   "source": [
    "R-5.10 The constructor for the CaesarCipher class in Code Fragment 5.11 can be implemented with a two-line body by building the forward and backward strings using a combination of the join method and an appropriate comprehension syntax. Give such an implementation."
   ]
  },
  {
   "cell_type": "code",
   "execution_count": 75,
   "metadata": {},
   "outputs": [
    {
     "name": "stdout",
     "output_type": "stream",
     "text": [
      "DEFGHIJKLMNOPQRSTUVWXYZABC\n",
      "XYZABCDEFGHIJKLMNOPQRSTUVW\n",
      "\n",
      "result from oneline implementation:\n",
      "\n",
      "DEFGHIJKLMNOPQRSTUVWXYZABC\n",
      "XYZABCDEFGHIJKLMNOPQRSTUVW\n"
     ]
    }
   ],
   "source": [
    "## old_code \n",
    "encoder = [None]*26\n",
    "decoder = [None]*26\n",
    "shift = 3\n",
    "for k in range(26):\n",
    "    encoder[k] = chr((k + shift) % 26 + ord( 'A' ))\n",
    "    decoder[k] = chr((k - shift) % 26 + ord( 'A' ))\n",
    "\n",
    "forward =''.join(encoder)\n",
    "backward =''.join(decoder)\n",
    "\n",
    "print(forward)\n",
    "print(backward)\n",
    "\n",
    "forward_1 = ''.join([(chr((k+shift)%26 + ord('A'))) for k in range(26)])\n",
    "backward_2 = ''.join([(chr((k-shift)%26 + ord('A'))) for k in range (26)])\n",
    "\n",
    "print(\"\\nresult from oneline implementation:\\n\")\n",
    "print(forward_1)\n",
    "print(backward_2)"
   ]
  },
  {
   "cell_type": "markdown",
   "metadata": {},
   "source": [
    "R-5.11 Use standard control structures to compute the sum of all numbers in an n×n data set, represented as a list of lists."
   ]
  },
  {
   "cell_type": "code",
   "execution_count": 81,
   "metadata": {},
   "outputs": [
    {
     "name": "stdout",
     "output_type": "stream",
     "text": [
      "45\n"
     ]
    }
   ],
   "source": [
    "ll = [[1, 2, 3], [4, 5, 6], [7, 8, 9]]\n",
    "s = 0\n",
    "for row in ll:\n",
    "    for value in row:\n",
    "        s+= value\n",
    "print(s)"
   ]
  },
  {
   "cell_type": "markdown",
   "metadata": {},
   "source": [
    "R-5.12 Describe how the built-in sum function can be combined with Python’s comprehension syntax to compute the sum of all numbers in an n×n dataset, represented as a list of lists."
   ]
  },
  {
   "cell_type": "code",
   "execution_count": 82,
   "metadata": {},
   "outputs": [
    {
     "name": "stdout",
     "output_type": "stream",
     "text": [
      "45\n"
     ]
    }
   ],
   "source": [
    "print(sum([sum(row) for row in ll]))"
   ]
  },
  {
   "cell_type": "markdown",
   "metadata": {},
   "source": [
    "****Creativity Problems***"
   ]
  },
  {
   "cell_type": "markdown",
   "metadata": {},
   "source": [
    "C-5.14 The shuffle method, supported by the random module, takes a Python list and rearranges it so that every possible ordering is equally likely. Implement your own version of such a function. You may rely on the randrange(n) function of the random module, which returns a random number between 0 and n−1 inclusive."
   ]
  },
  {
   "cell_type": "code",
   "execution_count": 290,
   "metadata": {},
   "outputs": [
    {
     "data": {
      "text/plain": [
       "[4, 1, 2, 5, 3]"
      ]
     },
     "execution_count": 290,
     "metadata": {},
     "output_type": "execute_result"
    }
   ],
   "source": [
    "def shuffle(seq): \n",
    "    new_seq = []\n",
    "    \n",
    "    while(len(new_seq) != len(seq)):\n",
    "        r = random.randrange(len(seq))\n",
    "        new_element = seq[r]\n",
    "        if not new_element in new_seq:\n",
    "            new_seq.append(new_element)\n",
    "            \n",
    "    return new_seq\n",
    "            \n",
    "l = [1, 2, 3, 4, 5]\n",
    "shuffle(l)"
   ]
  },
  {
   "cell_type": "markdown",
   "metadata": {},
   "source": [
    "C-5.21 In Section 5.4.2, we described four different ways to compose a long string: (1) repeated concatenation, (2) appending to a temporary list and then joining, (3) using list comprehension with join, and (4) using generator comprehension with join. Develop an experiment to test the efficiency of all four of these approaches and report your findings."
   ]
  },
  {
   "cell_type": "code",
   "execution_count": 60,
   "metadata": {},
   "outputs": [
    {
     "name": "stdout",
     "output_type": "stream",
     "text": [
      "5.675854206085205\n",
      "4.227234125137329\n",
      "2.182670831680298\n",
      "2.6739156246185303\n"
     ]
    }
   ],
   "source": [
    "doc = '123abcd3??!ono?039helloworld,_this()is-the*end'*1000000\n",
    "time_1 = time.time()\n",
    "\n",
    "letters = ''\n",
    "for c in doc:\n",
    "    if c.isalpha():\n",
    "        letters += c\n",
    "\n",
    "time_2 = time.time()\n",
    "print(time_2 - time_1)\n",
    "\n",
    "temp = []\n",
    "for c in doc:\n",
    "    if c.isalpha():\n",
    "        temp.append(c)\n",
    "letters = ''.join(temp)\n",
    "\n",
    "time_3 = time.time()\n",
    "print(time_3 - time_2)\n",
    "\n",
    "letters = ''.join([c for c in doc if c.isalpha()])\n",
    "\n",
    "time_4 = time.time()\n",
    "print(time_4 - time_3)\n",
    "\n",
    "letters = ''.join(c for c in doc if c.isalpha)\n",
    "\n",
    "time_5 = time.time()\n",
    "print(time_5 - time_4)\n"
   ]
  },
  {
   "cell_type": "markdown",
   "metadata": {},
   "source": [
    "C-5.25 The syntax data.remove(value) for Python list data removes only the first occurrence of element value from the list. Give an implementation of a function, with signature remove all(data, value), that removes all occurrences of value from the given list, such that the worst-case running time of the function is O(n) on a list with n elements. Not that it is not efficient enough in general to rely on repeated calls to remove"
   ]
  },
  {
   "cell_type": "code",
   "execution_count": 15,
   "metadata": {},
   "outputs": [
    {
     "data": {
      "text/plain": [
       "[2, 4, 5, 6]"
      ]
     },
     "execution_count": 15,
     "metadata": {},
     "output_type": "execute_result"
    }
   ],
   "source": [
    "def remove_all(seq, value):\n",
    "    new_seq = [element for element in seq if element != value]\n",
    "    return new_seq \n",
    "\n",
    "l = [1, 2, 1, 1, 4 ,5 ,6]\n",
    "remove_all(l, 1)"
   ]
  },
  {
   "cell_type": "markdown",
   "metadata": {},
   "source": [
    "C-5.26 Let B be an array of size n ≥ 6 containing integers from 1 to n−5, inclusive, with exactly five repeated. Describe a good algorithm for finding the five integers in B that are repeated."
   ]
  },
  {
   "cell_type": "markdown",
   "metadata": {},
   "source": [
    "use the sum of the elements "
   ]
  },
  {
   "cell_type": "markdown",
   "metadata": {},
   "source": [
    "C-5.27 Given a Python list L of n positive integers, each represented with k = (log n) + 1 bits, describe an O(n)-time method for finding a k-bit integer not in L."
   ]
  },
  {
   "cell_type": "code",
   "execution_count": 27,
   "metadata": {},
   "outputs": [
    {
     "name": "stdout",
     "output_type": "stream",
     "text": [
      "0\n",
      "7\n",
      "8\n",
      "9\n",
      "10\n",
      "11\n",
      "12\n",
      "13\n",
      "14\n",
      "15\n"
     ]
    }
   ],
   "source": [
    "l = [1, 2, 3, 4, 5, 6]\n",
    "n = len(l)\n",
    "\n",
    "k = math.ceil(math.log(n, 2)) +1\n",
    "d = defaultdict(lambda :0)\n",
    "\n",
    "for i in range(pow(2, k)):\n",
    "    d[bin(i)] = 0\n",
    "\n",
    "for element in l:\n",
    "    d[bin(element)] += 1\n",
    "    \n",
    "for num, value in d.items():\n",
    "    if value ==0:\n",
    "        print(int(num, 2))"
   ]
  },
  {
   "cell_type": "markdown",
   "metadata": {},
   "source": [
    "C-5.28 Argue why any solution to the previous problem must run in Ω(n) time."
   ]
  },
  {
   "cell_type": "markdown",
   "metadata": {},
   "source": [
    "Because you should visit each number at least once to know it's binary number. \n",
    "also because you need to see all the emlements of L to find the number that doesn't belong to it. "
   ]
  },
  {
   "cell_type": "markdown",
   "metadata": {},
   "source": [
    "C-5.29 A useful operation in databases is the natural join. If we view a database as a list of ordered pairs of objects, then the natural join of databases A and B is the list of all ordered triples (x,y,z) such that the pair (x,y) is in A and the pair (y,z) is in B. Describe and analyze an efficient algorithm for computing the natural join of a list A of n pairs and a list B of m pairs."
   ]
  },
  {
   "cell_type": "code",
   "execution_count": 1,
   "metadata": {},
   "outputs": [
    {
     "name": "stdout",
     "output_type": "stream",
     "text": [
      "[(1, 2, 3), (4, 5, 6), (8, 9, 10)]\n"
     ]
    }
   ],
   "source": [
    "## Can solve it in O(nlogn) by looping over each element in A and binary search in B\n",
    "## But can solve it on O(n) using a dictionary\n",
    "\n",
    "## This solution is O(n)\n",
    "l1 = [(1,2), (4, 5), (6, 7), (8, 9)]\n",
    "l2 = [(2, 3), (5, 6), (9, 10)]\n",
    "l3 = []\n",
    "\n",
    "d = {i[0]:i[1] for i in l2}\n",
    "for x in l1:\n",
    "    try:\n",
    "        z = d[x[1]]\n",
    "        l = list(x)\n",
    "        l.append(z)\n",
    "        l3.append(tuple(l))\n",
    "    except:\n",
    "        continue\n",
    "print(l3)"
   ]
  },
  {
   "cell_type": "markdown",
   "metadata": {},
   "source": [
    "C-5.30 When Bob wants to send Alice a message M on the Internet, he breaks M into n data packets, numbers the packets consecutively, and injects them into the network. When the packets arrive at Alice’s computer, they may be out of order, so Alice must assemble the sequence of n packets in order before she can be sure she has the entire message. Describe an efficient scheme for Alice to do this, assuming that she knows the value of n. What\n",
    "is the running time of this algorithm?"
   ]
  },
  {
   "cell_type": "code",
   "execution_count": 312,
   "metadata": {},
   "outputs": [],
   "source": [
    "## recieve all of them then do a quick sort or a merge sort in O(nlogn)"
   ]
  },
  {
   "cell_type": "markdown",
   "metadata": {},
   "source": [
    "C-5.31 Describe a way to use recursion to add all the numbers in an n × n dataset, represented as a list of lists."
   ]
  },
  {
   "cell_type": "code",
   "execution_count": 58,
   "metadata": {},
   "outputs": [
    {
     "name": "stdout",
     "output_type": "stream",
     "text": [
      "True\n"
     ]
    }
   ],
   "source": [
    "flatten = lambda l: [item for sublist in l for item in sublist]\n",
    "\n",
    "def recur_sum(l):\n",
    "    if len(l) ==1:\n",
    "        return sum(flatten(l))\n",
    "    else:\n",
    "        return sum(l[0]) + recur_sum(l[1:])\n",
    "\n",
    "l = [[1,2,3],[4,5,6]]\n",
    "\n",
    "print(recur_sum(l) == 1+2+3+4+5+6)"
   ]
  },
  {
   "cell_type": "markdown",
   "metadata": {},
   "source": [
    "****Project Probelms*** "
   ]
  },
  {
   "cell_type": "markdown",
   "metadata": {},
   "source": [
    "P-5.32 Write a Python function that takes two three-dimensional numeric data sets and adds them componentwise."
   ]
  },
  {
   "cell_type": "code",
   "execution_count": 71,
   "metadata": {},
   "outputs": [
    {
     "data": {
      "text/plain": [
       "[[[3, 7], [11, 15]], [[19, 23], [27, 31]]]"
      ]
     },
     "execution_count": 71,
     "metadata": {},
     "output_type": "execute_result"
    }
   ],
   "source": [
    "l1 = [[[2, 4], [6, 8]], [[10, 12], [14, 16]]]\n",
    "l2 = [[[1, 3], [5, 7]], [[9, 11], [13, 15]]]\n",
    "l3 = []\n",
    "\n",
    "for midl1, midl2 in zip(l1, l2):\n",
    "    midl3 = []\n",
    "    for lowl1, lowl2 in zip(midl1, midl2):\n",
    "        low_l3 = []\n",
    "        for item1, item2 in zip(lowl1, lowl2):\n",
    "            low_l3.append(item1+item2)\n",
    "        midl3.append(low_l3)\n",
    "    l3.append(midl3)\n",
    "l3"
   ]
  },
  {
   "cell_type": "markdown",
   "metadata": {},
   "source": [
    "P-5.33 Write a Python program for a matrix class that can add and multiply twodimensional arrays of numbers, assuming the dimensions agree appropriately for the operation."
   ]
  },
  {
   "cell_type": "code",
   "execution_count": 155,
   "metadata": {},
   "outputs": [
    {
     "name": "stdout",
     "output_type": "stream",
     "text": [
      "[[9, 12]\n",
      "[24, 33]]\n"
     ]
    }
   ],
   "source": [
    "class matrix:\n",
    "    def __init__(self, l):\n",
    "        self.r = len(l)\n",
    "        self.c = len(l[0])\n",
    "        self._rows = [row for row in l]\n",
    "        \n",
    "    def __str__(self):\n",
    "        s = ''.join([str(row)+'\\n' for row in self._rows])\n",
    "        return '['+s[:-1]+']'\n",
    "        \n",
    "        \n",
    "    def __add__(self, b):\n",
    "        assert self.r == b.r and self.c == b.c, \"size mismatch\"\n",
    "        result = []\n",
    "        for row1, row2 in zip(self._rows, b._rows):\n",
    "            row = []\n",
    "            for item1, item2 in zip(row1, row2):\n",
    "                row.append(item1+ item2)\n",
    "            result.append(row)\n",
    "        return matrix(result)\n",
    "        \n",
    "    def _dot(self, a, b):\n",
    "        prod = 0\n",
    "        for i,j in zip(a, b):\n",
    "            prod+= i*j\n",
    "        return prod\n",
    "            \n",
    "    def __mul__(self, b):\n",
    "        assert self.c == b.r, \"size mismatch\"\n",
    "        tr = list(map(list, zip(*b._rows)))\n",
    "        result = []\n",
    "        for row in self._rows:\n",
    "            result_row = []\n",
    "            for r2 in tr:\n",
    "                result_row.append(self._dot(row, r2))\n",
    "            result.append(result_row)\n",
    "        return matrix(result)\n",
    "            \n",
    "z = matrix([[1,2],[4,5]])\n",
    "zz = matrix([[1,2],[4,5]])\n",
    "l = z * zz\n",
    "print(l)\n"
   ]
  },
  {
   "cell_type": "markdown",
   "metadata": {},
   "source": [
    "P-5.34 Write a program that can perform the Caesar cipher for English messages that include both upper- and lowercase characters."
   ]
  },
  {
   "cell_type": "code",
   "execution_count": 229,
   "metadata": {},
   "outputs": [
    {
     "data": {
      "text/plain": [
       "'HelloWorld'"
      ]
     },
     "execution_count": 229,
     "metadata": {},
     "output_type": "execute_result"
    }
   ],
   "source": [
    "shift = 0\n",
    "message = \"HelloWorld\"\n",
    "def cipher_text(message): \n",
    "    cipher = []\n",
    "    for char in message:\n",
    "        if char.islower():\n",
    "            cipher.append(chr((ord(char) + shift - ord('a'))%26 + ord('a')))\n",
    "        else:\n",
    "            cipher.append(chr((ord(char) + shift - ord('A'))%26 + ord('A')))\n",
    "    cipher = ''.join([char for char in cipher])\n",
    "    return cipher\n",
    "cipher_text(message)"
   ]
  },
  {
   "cell_type": "markdown",
   "metadata": {},
   "source": [
    "P-5.35 Implement a class, SubstitutionCipher, with a constructor that takes a string with the 26 uppercase letters in an arbitrary order and uses that for the forward mapping for encryption (akin to the self. forward string in our CaesarCipher class of Code Fragment 5.11). You should derive the backward mapping from the forward version."
   ]
  },
  {
   "cell_type": "code",
   "execution_count": 309,
   "metadata": {},
   "outputs": [
    {
     "name": "stdout",
     "output_type": "stream",
     "text": [
      "IJ\n",
      "HI\n"
     ]
    }
   ],
   "source": [
    "class SubstitutionCipher:\n",
    "    \n",
    "    def __init__(self, code):\n",
    "        self._forward = code\n",
    "        self._forward_dict = {chr(i + ord('A')): char for i, char in zip(range(26), self._forward)}\n",
    "        self._backward_dict = {v:k for k, v in self._forward_dict.items()}\n",
    "        \n",
    "    def encrypt(self, message):\n",
    "        return self._transform(message, self._forward_dict)\n",
    "    \n",
    "    def decrypt(self, secret):\n",
    "        return self._transform(secret, self._backward_dict)\n",
    "    \n",
    "    def _transform(self, original, code):\n",
    "        msg = []\n",
    "        for char in original:\n",
    "            if char.isupper(): \n",
    "                msg.append(code[char])\n",
    "        return ''.join(msg)\n",
    "\n",
    "ciph = SubstitutionCipher('BCDEFGHIJKLMNOPQRSTUVWXYZA')\n",
    "print(ciph.encrypt('HI'))\n",
    "print(ciph.decrypt('IJ'))"
   ]
  },
  {
   "cell_type": "markdown",
   "metadata": {},
   "source": [
    "P-5.36 Redesign the CaesarCipher class as a subclass of the SubstitutionCipher from the previous problem."
   ]
  },
  {
   "cell_type": "code",
   "execution_count": 310,
   "metadata": {},
   "outputs": [
    {
     "name": "stdout",
     "output_type": "stream",
     "text": [
      "IJ\n",
      "HI\n"
     ]
    }
   ],
   "source": [
    "class CaesarCipher(SubstitutionCipher):\n",
    "    def __init__(self, shift):\n",
    "        forward = ''.join([(chr((k+shift)%26 + ord('A'))) for k in range(26)])\n",
    "        super().__init__(forward)\n",
    "ciph2 = CaesarCipher(1)\n",
    "print(ciph2.encrypt('HI'))\n",
    "print(ciph2.decrypt('IJ'))"
   ]
  },
  {
   "cell_type": "markdown",
   "metadata": {},
   "source": [
    "P-5.37 Design a RandomCipher class as a subclass of the SubstitutionCipher from Exercise P-5.35, so that each instance of the class relies on a random permutation of letters for its mapping."
   ]
  },
  {
   "cell_type": "code",
   "execution_count": 311,
   "metadata": {},
   "outputs": [
    {
     "name": "stdout",
     "output_type": "stream",
     "text": [
      "HI\n",
      "QI\n",
      "HI\n"
     ]
    }
   ],
   "source": [
    "## using shuffle from EX C-5.14\n",
    "class RandomCipher(SubstitutionCipher):\n",
    "    def __init__(self):\n",
    "        forward = ''.join([chr(k + ord('A')) for k in range(26)])\n",
    "        forward = ''.join([char for char in shuffle(forward)])\n",
    "        super().__init__(forward)\n",
    "        \n",
    "ciph3 = RandomCipher()\n",
    "msg = 'HI'\n",
    "print(msg)\n",
    "coded = ciph3.encrypt(msg)\n",
    "print(coded)\n",
    "decoded = ciph3.decrypt(coded)\n",
    "print(decoded)"
   ]
  },
  {
   "cell_type": "code",
   "execution_count": null,
   "metadata": {},
   "outputs": [],
   "source": []
  }
 ],
 "metadata": {
  "kernelspec": {
   "display_name": "Python 3",
   "language": "python",
   "name": "python3"
  },
  "language_info": {
   "codemirror_mode": {
    "name": "ipython",
    "version": 3
   },
   "file_extension": ".py",
   "mimetype": "text/x-python",
   "name": "python",
   "nbconvert_exporter": "python",
   "pygments_lexer": "ipython3",
   "version": "3.7.4"
  }
 },
 "nbformat": 4,
 "nbformat_minor": 4
}
