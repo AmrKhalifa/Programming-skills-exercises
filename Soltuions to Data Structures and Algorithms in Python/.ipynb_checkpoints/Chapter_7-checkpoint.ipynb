{
 "cells": [
  {
   "cell_type": "markdown",
   "metadata": {},
   "source": [
    "### Solutions to the problems of Chapter 7 \n",
    "## Linked Lists"
   ]
  },
  {
   "cell_type": "code",
   "execution_count": 1,
   "metadata": {},
   "outputs": [],
   "source": [
    "class Empty(Exception):\n",
    "    pass"
   ]
  },
  {
   "cell_type": "code",
   "execution_count": 2,
   "metadata": {},
   "outputs": [
    {
     "name": "stdout",
     "output_type": "stream",
     "text": [
      "1-> 2-> 3-> 4-> \n"
     ]
    }
   ],
   "source": [
    "class SinglyLinkedList:\n",
    "    class _Node:\n",
    "        def __init__(self, data = None):\n",
    "            self._data = data \n",
    "            self._next = None\n",
    "    \n",
    "    def __init__(self, arr = None): \n",
    "        self.head = self._Node()\n",
    "        if arr is None:\n",
    "            return \n",
    "        else:\n",
    "            for item in arr: \n",
    "                self.append(item)\n",
    "    \n",
    "    def append(self, data):\n",
    "        new_element = self._Node(data)\n",
    "        cur = self.head \n",
    "        while cur._next is not None: \n",
    "            cur = cur._next\n",
    "        cur._next = new_element \n",
    "        \n",
    "    def __repr__(self):\n",
    "        cur = self.head\n",
    "        print_list = [] \n",
    "        while (cur._next is not None) and (cur._next is not self.head):\n",
    "            cur = cur._next\n",
    "            print_list.append(str(cur._data) + '-> ')\n",
    "        return ''.join(item for item in print_list)\n",
    "\n",
    "arr_data = [1, 2, 3, 4]\n",
    "\n",
    "LL = SinglyLinkedList(arr_data) \n",
    "print(LL)"
   ]
  },
  {
   "cell_type": "markdown",
   "metadata": {},
   "source": [
    "****Reinforcement Problems*** "
   ]
  },
  {
   "cell_type": "markdown",
   "metadata": {},
   "source": [
    "R-7.1 Give an algorithm for finding the second-to-last node in a singly linked list in which the last node is indicated by a next reference of None."
   ]
  },
  {
   "cell_type": "code",
   "execution_count": 3,
   "metadata": {},
   "outputs": [
    {
     "name": "stdout",
     "output_type": "stream",
     "text": [
      "1-> 2-> 3-> 4-> \n",
      "3\n"
     ]
    }
   ],
   "source": [
    "first = LL.head \n",
    "second = LL.head \n",
    "\n",
    "first = first._next \n",
    "\n",
    "while first._next is not None:\n",
    "    first = first._next \n",
    "    second = second._next \n",
    "print(LL)    \n",
    "print(second._data)"
   ]
  },
  {
   "cell_type": "markdown",
   "metadata": {},
   "source": [
    "R-7.2 Describe a good algorithm for concatenating two singly linked lists L and M, given only references to the first node of each list, into a single list L' that contains all the nodes of L followed by all the nodes of M."
   ]
  },
  {
   "cell_type": "code",
   "execution_count": 4,
   "metadata": {},
   "outputs": [
    {
     "name": "stdout",
     "output_type": "stream",
     "text": [
      "0-> 1-> 2-> 3-> 4-> \n",
      "10-> 11-> 12-> 13-> 14-> \n",
      "0-> 1-> 2-> 3-> 4-> 10-> 11-> 12-> 13-> 14-> \n"
     ]
    }
   ],
   "source": [
    "L = SinglyLinkedList([i for i in range(5)])\n",
    "M = SinglyLinkedList([i for i in range(10, 15)])\n",
    "print(L)\n",
    "print(M)\n",
    "\n",
    "cur_L = L.head\n",
    "cur_M = M.head \n",
    "\n",
    "while cur_L._next is not None:\n",
    "    cur_L = cur_L._next\n",
    "    \n",
    "cur_L._next = cur_M._next \n",
    "L_ = L\n",
    "\n",
    "print(L_)"
   ]
  },
  {
   "cell_type": "markdown",
   "metadata": {},
   "source": [
    "R-7.3 Describe a recursive algorithm that counts the number of nodes in a singly linked list."
   ]
  },
  {
   "cell_type": "code",
   "execution_count": 5,
   "metadata": {},
   "outputs": [
    {
     "name": "stdout",
     "output_type": "stream",
     "text": [
      "0-> 1-> 2-> 3-> 4-> 5-> 6-> 7-> 8-> 9-> \n",
      "10\n"
     ]
    }
   ],
   "source": [
    "def count_elemnts(ll):\n",
    "    current = ll.head \n",
    "    def _recursive_count(current, count):\n",
    "        if current is None:\n",
    "                return count-1\n",
    "        else:\n",
    "            return _recursive_count(current._next, count+1)\n",
    "    print(_recursive_count(current, count = 0))\n",
    "    \n",
    "LList = SinglyLinkedList([i for i in range(10)])\n",
    "print(LList)\n",
    "count_elemnts(LList)"
   ]
  },
  {
   "cell_type": "markdown",
   "metadata": {},
   "source": [
    "R-7.4 Describe in detail how to swap two nodes x and y (and not just their contents) in a singly linked list L given references only to x and y. Repeat this exercise for the case when L is a doubly linked list. Which algorithm takes more time?"
   ]
  },
  {
   "cell_type": "code",
   "execution_count": 6,
   "metadata": {},
   "outputs": [
    {
     "data": {
      "text/plain": [
       "\"\\nno information about if x and y are consecutive, so will assume they're not \\n\\nFor single linked list : \\n\\nfind before x in O(n) -> before_x \\nfind before y in O(n) -> before_y \\n\\nO(1): \\nold_y = y \\n\\n    before_x.next = y \\n    y.next = x.next \\n\\n    before_y = x \\n    x.next = old_y.next \\n    \\n    \\n\\nDoubly Linked List: \\n\\nfind before x in O(1) by using x.pervious -> before_x \\nfind before y in O(1) by using y.previous -> before_y \\n\\nthe result of the operations are essentilly similar keep in mind changing two pointers for each node\\n\\n\\n\\nDoing the Doubly Linked List is much faster --> constant time compared to linear time\\nin the case of a Singly Linked List \\n\""
      ]
     },
     "execution_count": 6,
     "metadata": {},
     "output_type": "execute_result"
    }
   ],
   "source": [
    "'''\n",
    "no information about if x and y are consecutive, so will assume they're not \n",
    "\n",
    "For single linked list : \n",
    "\n",
    "find before x in O(n) -> before_x \n",
    "find before y in O(n) -> before_y \n",
    "\n",
    "O(1): \n",
    "old_y = y \n",
    "\n",
    "    before_x.next = y \n",
    "    y.next = x.next \n",
    "\n",
    "    before_y = x \n",
    "    x.next = old_y.next \n",
    "    \n",
    "    \n",
    "\n",
    "Doubly Linked List: \n",
    "\n",
    "find before x in O(1) by using x.pervious -> before_x \n",
    "find before y in O(1) by using y.previous -> before_y \n",
    "\n",
    "the result of the operations are essentilly similar keep in mind changing two pointers for each node\n",
    "\n",
    "\n",
    "\n",
    "Doing the Doubly Linked List is much faster --> constant time compared to linear time\n",
    "in the case of a Singly Linked List \n",
    "'''"
   ]
  },
  {
   "cell_type": "markdown",
   "metadata": {},
   "source": [
    "R-7.5 Implement a function that counts the number of nodes in a circularly linked list."
   ]
  },
  {
   "cell_type": "code",
   "execution_count": 7,
   "metadata": {},
   "outputs": [
    {
     "name": "stdout",
     "output_type": "stream",
     "text": [
      "1-> 2-> 3-> 4-> 5-> 6-> 7-> \n",
      "7\n"
     ]
    }
   ],
   "source": [
    "class CircularLinkedList:\n",
    "    class _Node:\n",
    "        def __init__(self, data = None, nxt = None):\n",
    "            self._data = data \n",
    "            self._next = nxt \n",
    "    \n",
    "    def __init__(self, arr = None): \n",
    "        self.head = self._Node()\n",
    "        if arr is None:\n",
    "            return \n",
    "        else:\n",
    "            for item in arr: \n",
    "                self.append(item)\n",
    "    \n",
    "    def append(self, data):\n",
    "        new_element = self._Node(data, nxt = self.head)\n",
    "        cur = self.head\n",
    "        while  cur._next is not self.head and cur._next is not None:\n",
    "            cur = cur._next\n",
    "        cur._next = new_element \n",
    "        \n",
    "    def __repr__(self):\n",
    "        cur = self.head\n",
    "        print_list = [] \n",
    "        while  cur._next is not self.head and cur._next is not None:\n",
    "            cur = cur._next\n",
    "            print_list.append(str(cur._data) + '-> ')\n",
    "        return ''.join(item for item in print_list)\n",
    "\n",
    "data = [1, 2, 3, 4, 5, 6, 7]\n",
    "CL = CircularLinkedList(data) \n",
    "print(CL)\n",
    "\n",
    "def count_elements(ll):\n",
    "    current = ll.head._next  \n",
    "    def _recursive_count(current, count):\n",
    "        if current is ll.head:\n",
    "                return count\n",
    "        else:\n",
    "            return _recursive_count(current._next, count+1)\n",
    "    print(_recursive_count(current, count = 0))\n",
    "\n",
    "count_elements(CL)"
   ]
  },
  {
   "cell_type": "markdown",
   "metadata": {},
   "source": [
    "R-7.6 Suppose that x and y are references to nodes of circularly linked lists, although not necessarily the same list. Describe a fast algorithm for telling if x and y belong to the same list."
   ]
  },
  {
   "cell_type": "code",
   "execution_count": 8,
   "metadata": {},
   "outputs": [
    {
     "data": {
      "text/plain": [
       "\"\\nstart from either one, traverse the list until :\\na) Find the other one -> x, and y belong to the same list. \\nb) you come back at the same node you started with ->x, and y don't belong to the same list. \\n\\n\""
      ]
     },
     "execution_count": 8,
     "metadata": {},
     "output_type": "execute_result"
    }
   ],
   "source": [
    "'''\n",
    "start from either one, traverse the list until :\n",
    "a) Find the other one -> x, and y belong to the same list. \n",
    "b) you come back at the same node you started with ->x, and y don't belong to the same list. \n",
    "\n",
    "'''"
   ]
  },
  {
   "cell_type": "markdown",
   "metadata": {},
   "source": [
    "R-7.7 Our CircularQueue class of Section 7.2.2 provides a rotate() method that has semantics equivalent to Q.enqueue(Q.dequeue()), for a nonempty queue. Implement such a method for the LinkedQueue class of Section 7.1.2 without the creation of any new nodes."
   ]
  },
  {
   "cell_type": "code",
   "execution_count": 9,
   "metadata": {},
   "outputs": [
    {
     "name": "stdout",
     "output_type": "stream",
     "text": [
      "0-> 1-> 2-> 3-> 4-> \n",
      "0\n",
      "1-> 2-> 3-> 4-> \n",
      "2-> 3-> 4-> 1-> \n"
     ]
    }
   ],
   "source": [
    "class LinkedQueue:     \n",
    "    class _Node:\n",
    "        __slots__ = '_element', '_next'\n",
    "        def __init__(self, element, nxt):\n",
    "            self._element = element \n",
    "            self._next = nxt \n",
    "    \n",
    "    def __init__(self):\n",
    "        self._head = None\n",
    "        self._tail = None \n",
    "        self._size = 0 \n",
    "        \n",
    "    def __len__(self):\n",
    "        return self._size\n",
    "    \n",
    "    def is_empty(self):\n",
    "        return self._size ==0\n",
    "    \n",
    "    def first(self):\n",
    "        if self.is_empty():\n",
    "            raise Empty('Queue is Empty')\n",
    "        return self._head._element \n",
    "    \n",
    "    def dequeue(self):\n",
    "        if self.is_empty():\n",
    "            raise Empty('Queue is Empty')\n",
    "        answer = self._head._element\n",
    "        self._head = self._head._next \n",
    "        self._size -= 1\n",
    "        if self.is_empty():\n",
    "            self._tail = None\n",
    "        return answer \n",
    "    \n",
    "    def enqueue(self, e):\n",
    "        newest = self._Node(e, None)\n",
    "        if self.is_empty():\n",
    "            self._head = newest \n",
    "        else:\n",
    "            self._tail._next = newest \n",
    "        self._tail = newest \n",
    "        self._size += 1     \n",
    "        \n",
    "    def rotate(self):\n",
    "        if self.is_empty():\n",
    "            raise Empty(\"Queue is empty\") \n",
    "        newest = self._head\n",
    "        self._tail._next = newest\n",
    "        self._tail = newest\n",
    "        self._head = self._head._next\n",
    "        newest._next = None\n",
    "    \n",
    "    def __repr__(self):\n",
    "        cur = self._head\n",
    "        print_list = [] \n",
    "        while cur._next is not None:\n",
    "            print_list.append(str(cur._element) + '-> ')\n",
    "            cur = cur._next\n",
    "        print_list.append(str(cur._element) + '-> ')\n",
    "        return ''.join(item for item in print_list)\n",
    "    \n",
    "q = LinkedQueue()\n",
    "for i in range (5):\n",
    "    q.enqueue(i)\n",
    "print(q)\n",
    "print(q.dequeue())\n",
    "print(q)\n",
    "\n",
    "q.rotate()\n",
    "print(q)"
   ]
  },
  {
   "cell_type": "markdown",
   "metadata": {},
   "source": [
    "R-7.8 Describe a nonrecursive method for finding, by link hopping, the middle node of a doubly linked list with header and trailer sentinels. In the case\n",
    "of an even number of nodes, report the node slightly left of center as the “middle.” (Note: This method must only use link hopping; it cannot use a\n",
    "counter.) What is the running time of this method?"
   ]
  },
  {
   "cell_type": "code",
   "execution_count": 10,
   "metadata": {},
   "outputs": [
    {
     "data": {
      "text/plain": [
       "\"\\nuse two pointers cur_1, cur_2\\n\\ncur_1 = DLL.header\\ncur_2 = DLL.trailer \\n\\nwhile(True):\\n    if DLL.is_empty():\\n        raise Empty('Empty Doubly Linked List')\\n    cur_1 = cur_1._next()\\n    cur_2 = cur_2._next()\\n    \\n    if cur_1 == cur_2:\\n        return cur_1._element \\n    elif:\\n        cur_1.next == cur_2:\\n        return cur_1.next \\n    \\nrunnig time is O(n)\\n\""
      ]
     },
     "execution_count": 10,
     "metadata": {},
     "output_type": "execute_result"
    }
   ],
   "source": [
    "'''\n",
    "use two pointers cur_1, cur_2\n",
    "\n",
    "cur_1 = DLL.header\n",
    "cur_2 = DLL.trailer \n",
    "\n",
    "while(True):\n",
    "    if DLL.is_empty():\n",
    "        raise Empty('Empty Doubly Linked List')\n",
    "    cur_1 = cur_1._next()\n",
    "    cur_2 = cur_2._next()\n",
    "    \n",
    "    if cur_1 == cur_2:\n",
    "        return cur_1._element \n",
    "    elif:\n",
    "        cur_1.next == cur_2:\n",
    "        return cur_1.next \n",
    "    \n",
    "runnig time is O(n)\n",
    "'''"
   ]
  },
  {
   "cell_type": "markdown",
   "metadata": {},
   "source": [
    "R-7.9 Give a fast algorithm for concatenating two doubly linked lists L and M, with header and trailer sentinel nodes, into a single list L'. "
   ]
  },
  {
   "cell_type": "code",
   "execution_count": 11,
   "metadata": {},
   "outputs": [
    {
     "data": {
      "text/plain": [
       "'\\nTrivial: same as problem 7.2 \\nexcept will take out the trailer of L and the header of M\\nthen change two pointers, \\n_next of last node in L to point to M, \\n_prev of first node in M to point to L \\n\\ncan do that in constat time. \\n'"
      ]
     },
     "execution_count": 11,
     "metadata": {},
     "output_type": "execute_result"
    }
   ],
   "source": [
    "'''\n",
    "Trivial: same as problem 7.2 \n",
    "except will take out the trailer of L and the header of M\n",
    "then change two pointers, \n",
    "_next of last node in L to point to M, \n",
    "_prev of first node in M to point to L \n",
    "\n",
    "can do that in constat time. \n",
    "'''"
   ]
  },
  {
   "cell_type": "markdown",
   "metadata": {},
   "source": [
    "R-7.10 There seems to be some redundancy in the repertoire of the positional list ADT, as the operation L.add_first(e) could be enacted by the alternative L.add_before(L.first(), e). Likewise, L.add_last(e) might be performed as L.add_after(L.last(), e). Explain why the methods add first and add last are necessary."
   ]
  },
  {
   "cell_type": "code",
   "execution_count": 12,
   "metadata": {},
   "outputs": [
    {
     "data": {
      "text/plain": [
       "\"\\nbecause add_before() calls \\ndef add before(self, p, e):\\n    original = self._validate(p)\\n    return self._insert_between(e, original._prev, original)\\n\\nand can't get original._prev in this case \\n\\nsame analogy for add_after()\\n\""
      ]
     },
     "execution_count": 12,
     "metadata": {},
     "output_type": "execute_result"
    }
   ],
   "source": [
    "'''\n",
    "because add_before() calls \n",
    "def add before(self, p, e):\n",
    "    original = self._validate(p)\n",
    "    return self._insert_between(e, original._prev, original)\n",
    "\n",
    "and can't get original._prev in this case \n",
    "\n",
    "same analogy for add_after()\n",
    "'''"
   ]
  },
  {
   "cell_type": "markdown",
   "metadata": {},
   "source": [
    "R-7.11 Implement a function, with calling syntax max(L), that returns the maximum element from a PositionalList instance L containing comparable elements."
   ]
  },
  {
   "cell_type": "code",
   "execution_count": 87,
   "metadata": {},
   "outputs": [],
   "source": [
    "class _DoublyLinkedBase:\n",
    "    class _Node:\n",
    "        __slots__='_element', '_prev', '_next'\n",
    "        \n",
    "        def __init__(self, element, prev, nxt):\n",
    "            self._element = element \n",
    "            self._prev = prev\n",
    "            self._next = nxt \n",
    "            \n",
    "    def __init__(self):\n",
    "        self._header = self._Node(None, None, None)\n",
    "        self._trailer = self._Node(None, None, None)\n",
    "        self._header._next = self._trailer \n",
    "        self._trailer._prev = self._header\n",
    "        self._size = 0 \n",
    "        \n",
    "    def __len__(self): \n",
    "        return self._size \n",
    "    \n",
    "    def is_empty(self):\n",
    "        return self._size == 0 \n",
    "    \n",
    "    def _insert_between(self, e, predecessor, successor):\n",
    "        newest = self._Node(e, predecessor, successor)\n",
    "        predecessor._next = newest\n",
    "        successor._prev = newest \n",
    "        self._size += 1\n",
    "        return newest \n",
    "    \n",
    "    def _delete_node(self, node):\n",
    "        predecessor = node._prev \n",
    "        successor = node._next \n",
    "        predecessor._next = successor \n",
    "        successor._prev = predecessor \n",
    "        self._size -= 1\n",
    "        element = node._element \n",
    "        node._prev = node._next = node._element = None\n",
    "        return element \n",
    "\n",
    "class PositionalList(_DoublyLinkedBase):\n",
    "    def __init__(self):\n",
    "        super().__init__() \n",
    "        \n",
    "    class Position: \n",
    "        def __init__(self, container, node):\n",
    "            self._container = container \n",
    "            self._node = node \n",
    "            \n",
    "        def element(self):\n",
    "            return self._node._element \n",
    "        def __eq__(self, other): \n",
    "            return type(other) is type(self) and other._node is self._node\n",
    "        def __ne__(self, other):\n",
    "            return not(self==other)\n",
    "    \n",
    "    def _validate(self, p):\n",
    "        if not isinstance(p, self.Position):\n",
    "            raise TypeError('p must be proper position type')\n",
    "        if p._container is not self:\n",
    "            raise ValueError('p does not belong to this type')\n",
    "        if p._node._next is None:\n",
    "            raise ValueError('p is no longer valid')\n",
    "        return p._node \n",
    "    \n",
    "    def _make_position(self, node):\n",
    "        if (node is self._header) or (node is self._trailer):\n",
    "            return None\n",
    "        else:\n",
    "            return self.Position(self, node)\n",
    "        \n",
    "    def first(self):\n",
    "        return self._make_position(self._header._next)\n",
    "    \n",
    "    def last(self):\n",
    "        return self._make_position(self._trailer._prev)\n",
    "    \n",
    "    def before(self, p):\n",
    "        node = self._validate(p)\n",
    "        return self._make_position(node._prev)\n",
    "    \n",
    "    def after(self, p):\n",
    "        node = self._validate(p)\n",
    "        return self._make_position(node._next)\n",
    "    \n",
    "    def __iter__(self):\n",
    "        cursor = self.first() \n",
    "        while cursor is not None:\n",
    "            yield cursor.element()\n",
    "            cursor = self.after(cursor)\n",
    "            \n",
    "    def _insert_between(self, e, predecessor, successor):\n",
    "        node = super()._insert_between(e, predecessor, successor)\n",
    "        return self._make_position(node)\n",
    "    \n",
    "    def add_first(self, e):\n",
    "        return self._insert_between(e, self._header, self._header._next)\n",
    "    \n",
    "    def add_last(self, e):\n",
    "        return self._insert_between(e, self._trailer._prev, self._trailer)\n",
    "    \n",
    "    def add_before(self, p, e):\n",
    "        original = self._validate(p)\n",
    "        return self._insert_between(e, original._prev, original)\n",
    "    \n",
    "    def add_after(self, p, e):\n",
    "        original = self._validate(p)\n",
    "        return self._insert_between(e, original, original._next)\n",
    "    \n",
    "    def delete(self, p):\n",
    "        original = self._validate(p)\n",
    "        return self._delete_node(original)\n",
    "    \n",
    "    def replace(self, p, e):\n",
    "        original = self._validate(p)\n",
    "        old_value = original._element \n",
    "        original._element = e\n",
    "        return old_value"
   ]
  },
  {
   "cell_type": "code",
   "execution_count": 88,
   "metadata": {},
   "outputs": [
    {
     "name": "stdout",
     "output_type": "stream",
     "text": [
      "1\n",
      "5\n",
      "3\n",
      "2\n",
      "the maximum is: 5\n"
     ]
    }
   ],
   "source": [
    "pl = PositionalList() \n",
    "pl.add_first(2)\n",
    "pl.add_first(1)\n",
    "first = pl.first()\n",
    "ps = pl.add_after(first, 3)\n",
    "pl.add_before(ps, 5)\n",
    "\n",
    "for element in pl:\n",
    "    print(element)\n",
    "\n",
    "print(f'the maximum is: {max(pl)}')"
   ]
  },
  {
   "cell_type": "markdown",
   "metadata": {},
   "source": [
    "R-7.12 Redo the previously problem with max as a method of the PositionalList class, so that calling syntax L.max() is supported."
   ]
  },
  {
   "cell_type": "code",
   "execution_count": 89,
   "metadata": {},
   "outputs": [
    {
     "name": "stdout",
     "output_type": "stream",
     "text": [
      "1\n",
      "5\n",
      "3\n",
      "2\n",
      "the maximum is: 5\n",
      "the new version maximum is: 5\n"
     ]
    }
   ],
   "source": [
    "class MaxPositionalList(PositionalList):\n",
    "    def __init__(self): \n",
    "        super().__init__()\n",
    "        self._max = -9999\n",
    "    \n",
    "    def _insert_between(self, e, predecessor, successor):\n",
    "        first_pos = super()._insert_between(e, predecessor, successor)\n",
    "        node = first_pos._node \n",
    "        if e> self._max:\n",
    "            self._max = e \n",
    "        return self._make_position(node)\n",
    "    \n",
    "    def get_max(self):\n",
    "        return self._max \n",
    "\n",
    "mpl = MaxPositionalList()\n",
    "mpl.add_first(2)\n",
    "mpl.add_first(1)\n",
    "\n",
    "first = mpl.first()\n",
    "\n",
    "ps = mpl.add_after(first, 3)\n",
    "mpl.add_before(ps, 5)\n",
    "\n",
    "for element in mpl:\n",
    "    print(element)\n",
    "\n",
    "print(f'the maximum is: {max(mpl)}')\n",
    "print(f'the new version maximum is: {mpl.get_max()}')"
   ]
  },
  {
   "cell_type": "markdown",
   "metadata": {},
   "source": [
    "R-7.13 Update the PositionalList class to support an additional method find(e), which returns the position of the (first occurrence of) element e in the list (or None if not found)."
   ]
  },
  {
   "cell_type": "code",
   "execution_count": 92,
   "metadata": {},
   "outputs": [
    {
     "name": "stdout",
     "output_type": "stream",
     "text": [
      "1\n",
      "5\n",
      "3\n",
      "2\n",
      "<__main__.PositionalList.Position object at 0x7f32d80587b8>\n",
      "3\n"
     ]
    }
   ],
   "source": [
    "class FindPositionalList(PositionalList):\n",
    "    def find(self, e): \n",
    "        cursor = self.first() \n",
    "        while cursor is not None: \n",
    "            if cursor.element() == e:\n",
    "                return cursor\n",
    "            cursor = self.after(cursor)\n",
    "        return False \n",
    "    \n",
    "    \n",
    "pl = FindPositionalList() \n",
    "pl.add_first(2)\n",
    "pl.add_first(1)\n",
    "first = pl.first()\n",
    "ps = pl.add_after(first, 3)\n",
    "pl.add_before(ps, 5)\n",
    "\n",
    "for element in pl:\n",
    "    print(element)\n",
    "    \n",
    "cur = pl.find(5)\n",
    "print(cur)\n",
    "print(pl.after(cur).element())"
   ]
  },
  {
   "cell_type": "markdown",
   "metadata": {},
   "source": [
    "R-7.14 Repeat the previous process using recursion. Your method should not contain any loops. How much space does your method use in addition to the space used for L?"
   ]
  },
  {
   "cell_type": "code",
   "execution_count": 101,
   "metadata": {},
   "outputs": [
    {
     "name": "stdout",
     "output_type": "stream",
     "text": [
      "1\n",
      "5\n",
      "3\n",
      "2\n",
      "<__main__.PositionalList.Position object at 0x7f32d17df438>\n",
      "3\n"
     ]
    },
    {
     "data": {
      "text/plain": [
       "'\\nthis mehtod takes o(n) space because it stores the cursor value in the stack \\n'"
      ]
     },
     "execution_count": 101,
     "metadata": {},
     "output_type": "execute_result"
    }
   ],
   "source": [
    "class RecursiveFindPositionalList(PositionalList):\n",
    "    def find(self, e):\n",
    "        cursor = cursor = self.first()\n",
    "        def _recursive_find(e, cursor): \n",
    "            if cursor is None:\n",
    "                return False\n",
    "            if cursor.element() == e:\n",
    "                return cursor \n",
    "            else: \n",
    "                return _recursive_find(e, self.after(cursor))\n",
    "            \n",
    "        return _recursive_find(e, cursor)\n",
    "\n",
    "        \n",
    "pl = RecursiveFindPositionalList() \n",
    "pl.add_first(2)\n",
    "pl.add_first(1)\n",
    "first = pl.first()\n",
    "ps = pl.add_after(first, 3)\n",
    "pl.add_before(ps, 5)\n",
    "\n",
    "for element in pl:\n",
    "    print(element)\n",
    "    \n",
    "cur = pl.find(5)\n",
    "print(cur)\n",
    "print(pl.after(cur).element())\n",
    "\n",
    "'''\n",
    "this mehtod takes o(n) space because it stores the cursor value in the stack \n",
    "'''"
   ]
  },
  {
   "cell_type": "markdown",
   "metadata": {},
   "source": [
    "R-7.15 Provide support for a reversed method of the PositionalList class that is similar to the given iter , but that iterates the elements in reversed order. "
   ]
  },
  {
   "cell_type": "code",
   "execution_count": 107,
   "metadata": {},
   "outputs": [
    {
     "name": "stdout",
     "output_type": "stream",
     "text": [
      "1\n",
      "5\n",
      "3\n",
      "2\n",
      "[2, 3, 5, 1]\n"
     ]
    }
   ],
   "source": [
    "class ReversedFindPositionalList(PositionalList):\n",
    "    def __reversed__(self):\n",
    "        cursor = self.last()\n",
    "        while cursor is not None:\n",
    "            yield cursor.element()\n",
    "            cursor = self.before(cursor)\n",
    "\n",
    "pl = ReversedFindPositionalList() \n",
    "pl.add_first(2)\n",
    "pl.add_first(1)\n",
    "first = pl.first()\n",
    "ps = pl.add_after(first, 3)\n",
    "pl.add_before(ps, 5)\n",
    "\n",
    "for element in pl:\n",
    "    print(element)\n",
    "    \n",
    "print(list(reversed(pl)))       "
   ]
  },
  {
   "cell_type": "markdown",
   "metadata": {},
   "source": [
    "R-7.16 Describe an implementation of the PositionalList methods add_last and add_before realized by using only methods in the set {is empty, first, last, prev, next, add_after, and add_first}."
   ]
  },
  {
   "cell_type": "code",
   "execution_count": 108,
   "metadata": {},
   "outputs": [
    {
     "data": {
      "text/plain": [
       "'\\nvery simple \\n\\nfor the add_last you can use the last and then add after_last \\nfor te add_before you can use first and then iterate until the next is the node then you can use the add_after\\nuse the rest of the methods to check for bounday conditions. \\n'"
      ]
     },
     "execution_count": 108,
     "metadata": {},
     "output_type": "execute_result"
    }
   ],
   "source": [
    "'''\n",
    "very simple \n",
    "\n",
    "for the add_last you can use the last and then add after_last \n",
    "for te add_before you can use first and then iterate until the next is the node then you can use the add_after\n",
    "use the rest of the methods to check for bounday conditions. \n",
    "'''"
   ]
  },
  {
   "cell_type": "markdown",
   "metadata": {},
   "source": [
    "R-7.17 In the FavoritesListMTF class, we rely on public methods of the positional list ADT to move an element of a list at position p to become the first element of the list, while keeping the relative order of the remaining elements unchanged. Internally, that combination of operations causes one node to be removed and a new node to be inserted. Augment the PositionalList class to support a new method, move to front(p), that accomplishes this goal more directly, by relinking the existing node."
   ]
  },
  {
   "cell_type": "code",
   "execution_count": null,
   "metadata": {},
   "outputs": [],
   "source": []
  }
 ],
 "metadata": {
  "kernelspec": {
   "display_name": "Python 3",
   "language": "python",
   "name": "python3"
  },
  "language_info": {
   "codemirror_mode": {
    "name": "ipython",
    "version": 3
   },
   "file_extension": ".py",
   "mimetype": "text/x-python",
   "name": "python",
   "nbconvert_exporter": "python",
   "pygments_lexer": "ipython3",
   "version": "3.7.3"
  }
 },
 "nbformat": 4,
 "nbformat_minor": 4
}
