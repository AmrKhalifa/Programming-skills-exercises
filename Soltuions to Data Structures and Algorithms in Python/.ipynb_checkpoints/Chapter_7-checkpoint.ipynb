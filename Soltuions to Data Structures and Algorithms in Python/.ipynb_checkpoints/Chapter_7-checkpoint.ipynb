{
 "cells": [
  {
   "cell_type": "markdown",
   "metadata": {},
   "source": [
    "### Solutions to the problems of Chapter 7 \n",
    "## Linked Lists"
   ]
  },
  {
   "cell_type": "markdown",
   "metadata": {},
   "source": [
    "#### Implementation -from the book- to the data strcutres used in the excersizes  "
   ]
  },
  {
   "cell_type": "code",
   "execution_count": 50,
   "metadata": {},
   "outputs": [
    {
     "name": "stdout",
     "output_type": "stream",
     "text": [
      "1-> 2-> 3-> 4-> \n"
     ]
    }
   ],
   "source": [
    "class SinglyLinkedList:\n",
    "    class _Node:\n",
    "        def __init__(self, data = None):\n",
    "            self._data = data \n",
    "            self._next = None\n",
    "    \n",
    "    def __init__(self, arr = None): \n",
    "        self.head = self._Node()\n",
    "        if arr is None:\n",
    "            return \n",
    "        else:\n",
    "            for item in arr: \n",
    "                self.append(item)\n",
    "    \n",
    "    def append(self, data):\n",
    "        new_element = self._Node(data)\n",
    "        cur = self.head \n",
    "        while cur._next is not None: \n",
    "            cur = cur._next\n",
    "        cur._next = new_element \n",
    "        \n",
    "    def __repr__(self):\n",
    "        cur = self.head\n",
    "        print_list = [] \n",
    "        while (cur._next is not None) and (cur._next is not self.head):\n",
    "            cur = cur._next\n",
    "            print_list.append(str(cur._data) + '-> ')\n",
    "        return ''.join(item for item in print_list)\n",
    "\n",
    "arr_data = [1, 2, 3, 4]\n",
    "\n",
    "LL = SinglyLinkedList(arr_data) \n",
    "print(LL)"
   ]
  },
  {
   "cell_type": "markdown",
   "metadata": {},
   "source": [
    "****Reinforcement Problems*** "
   ]
  },
  {
   "cell_type": "markdown",
   "metadata": {},
   "source": [
    "R-7.1 Give an algorithm for finding the second-to-last node in a singly linked list in which the last node is indicated by a next reference of None."
   ]
  },
  {
   "cell_type": "code",
   "execution_count": 35,
   "metadata": {},
   "outputs": [
    {
     "name": "stdout",
     "output_type": "stream",
     "text": [
      "1-> 2-> 3-> 4-> \n",
      "3\n"
     ]
    }
   ],
   "source": [
    "first = LL.head \n",
    "second = LL.head \n",
    "\n",
    "first = first._next \n",
    "\n",
    "while first._next is not None:\n",
    "    first = first._next \n",
    "    second = second._next \n",
    "print(LL)    \n",
    "print(second._data)"
   ]
  },
  {
   "cell_type": "markdown",
   "metadata": {},
   "source": [
    "R-7.2 Describe a good algorithm for concatenating two singly linked lists L and M, given only references to the first node of each list, into a single list L' that contains all the nodes of L followed by all the nodes of M."
   ]
  },
  {
   "cell_type": "code",
   "execution_count": 39,
   "metadata": {},
   "outputs": [
    {
     "name": "stdout",
     "output_type": "stream",
     "text": [
      "0-> 1-> 2-> 3-> 4-> \n",
      "10-> 11-> 12-> 13-> 14-> \n",
      "0-> 1-> 2-> 3-> 4-> 10-> 11-> 12-> 13-> 14-> \n"
     ]
    }
   ],
   "source": [
    "L = SinglyLinkedList([i for i in range(5)])\n",
    "M = SinglyLinkedList([i for i in range(10, 15)])\n",
    "print(L)\n",
    "print(M)\n",
    "\n",
    "L_ = SinglyLinkedList()\n",
    "cur_L = L.head\n",
    "cur_M = M.head \n",
    "\n",
    "while cur_L._next is not None:\n",
    "    cur_L = cur_L._next\n",
    "    L_.append(cur_L._data)\n",
    "\n",
    "while cur_M._next is not None:\n",
    "    cur_M = cur_M._next \n",
    "    L_.append(cur_M._data)\n",
    "    \n",
    "\n",
    "print(L_)"
   ]
  },
  {
   "cell_type": "markdown",
   "metadata": {},
   "source": [
    "R-7.3 Describe a recursive algorithm that counts the number of nodes in a singly linked list."
   ]
  },
  {
   "cell_type": "code",
   "execution_count": 46,
   "metadata": {},
   "outputs": [
    {
     "name": "stdout",
     "output_type": "stream",
     "text": [
      "0-> 1-> 2-> 3-> 4-> 5-> 6-> 7-> 8-> 9-> \n",
      "10\n"
     ]
    }
   ],
   "source": [
    "def count_elemnts(ll):\n",
    "    current = ll.head \n",
    "    def _recursive_count(current, count):\n",
    "        if current is None:\n",
    "                return count-1\n",
    "        else:\n",
    "            return _recursive_count(current._next, count+1)\n",
    "   \n",
    "\n",
    "    print(_recursive_count(current, count = 0))\n",
    "    \n",
    "LList = SinglyLinkedList([i for i in range(10)])\n",
    "print(LList)\n",
    "count_elemnts(LList)"
   ]
  },
  {
   "cell_type": "markdown",
   "metadata": {},
   "source": [
    "R-7.4 Describe in detail how to swap two nodes x and y (and not just their contents) in a singly linked list L given references only to x and y. Repeat this exercise for the case when L is a doubly linked list. Which algorithm takes more time?"
   ]
  },
  {
   "cell_type": "code",
   "execution_count": 47,
   "metadata": {},
   "outputs": [
    {
     "data": {
      "text/plain": [
       "\"\\nno information about if x and y are consecutive, so will assume they're not \\n\\nFor single linked list : \\n\\nfind before x in O(n) -> before_x \\nfind before y in O(n) -> before_y \\n\\nO(1): \\nold_y = y \\n\\n    before_x.next = y \\n    y.next = x.next \\n\\n    before_y = x \\n    x.next = old_y.next \\n    \\n    \\n\\nDoubly Linked List: \\n\\nfind before x in O(1) by using x.pervious -> before_x \\nfind before y in O(1) by using y.previous -> before_y \\n\\nthe result of the operations are essentilly similar keep in mind changing two pointers for each node\\n\\n\\n\\nDoing the Doubly Linked List is much faster --> constant time compared to linear time\\nin the case of a Singly Linked List \\n\""
      ]
     },
     "execution_count": 47,
     "metadata": {},
     "output_type": "execute_result"
    }
   ],
   "source": [
    "'''\n",
    "no information about if x and y are consecutive, so will assume they're not \n",
    "\n",
    "For single linked list : \n",
    "\n",
    "find before x in O(n) -> before_x \n",
    "find before y in O(n) -> before_y \n",
    "\n",
    "O(1): \n",
    "old_y = y \n",
    "\n",
    "    before_x.next = y \n",
    "    y.next = x.next \n",
    "\n",
    "    before_y = x \n",
    "    x.next = old_y.next \n",
    "    \n",
    "    \n",
    "\n",
    "Doubly Linked List: \n",
    "\n",
    "find before x in O(1) by using x.pervious -> before_x \n",
    "find before y in O(1) by using y.previous -> before_y \n",
    "\n",
    "the result of the operations are essentilly similar keep in mind changing two pointers for each node\n",
    "\n",
    "\n",
    "\n",
    "Doing the Doubly Linked List is much faster --> constant time compared to linear time\n",
    "in the case of a Singly Linked List \n",
    "'''"
   ]
  },
  {
   "cell_type": "markdown",
   "metadata": {},
   "source": [
    "R-7.5 Implement a function that counts the number of nodes in a circularly linked list."
   ]
  },
  {
   "cell_type": "code",
   "execution_count": 73,
   "metadata": {},
   "outputs": [
    {
     "name": "stdout",
     "output_type": "stream",
     "text": [
      "1-> 2-> 3-> 4-> 5-> 6-> 7-> \n",
      "7\n"
     ]
    }
   ],
   "source": [
    "class CircularLinkedList:\n",
    "    class _Node:\n",
    "        def __init__(self, data = None, nxt = None):\n",
    "            self._data = data \n",
    "            self._next = nxt \n",
    "    \n",
    "    def __init__(self, arr = None): \n",
    "        self.head = self._Node()\n",
    "        if arr is None:\n",
    "            return \n",
    "        else:\n",
    "            for item in arr: \n",
    "                self.append(item)\n",
    "    \n",
    "    def append(self, data):\n",
    "        new_element = self._Node(data, nxt = self.head)\n",
    "        cur = self.head\n",
    "        while  cur._next is not self.head and cur._next is not None:\n",
    "            cur = cur._next\n",
    "        cur._next = new_element \n",
    "        \n",
    "    def __repr__(self):\n",
    "        cur = self.head\n",
    "        print_list = [] \n",
    "        while  cur._next is not self.head and cur._next is not None:\n",
    "            cur = cur._next\n",
    "            print_list.append(str(cur._data) + '-> ')\n",
    "        return ''.join(item for item in print_list)\n",
    "\n",
    "data = [1, 2, 3, 4, 5, 6, 7]\n",
    "CL = CircularLinkedList(data) \n",
    "print(CL)\n",
    "\n",
    "def count_elements(ll):\n",
    "    current = ll.head._next  \n",
    "    def _recursive_count(current, count):\n",
    "        if current is ll.head:\n",
    "                return count\n",
    "        else:\n",
    "            return _recursive_count(current._next, count+1)\n",
    "    print(_recursive_count(current, count = 0))\n",
    "\n",
    "count_elements(CL)"
   ]
  },
  {
   "cell_type": "markdown",
   "metadata": {},
   "source": [
    "R-7.6 Suppose that x and y are references to nodes of circularly linked lists, although not necessarily the same list. Describe a fast algorithm for telling if x and y belong to the same list."
   ]
  },
  {
   "cell_type": "code",
   "execution_count": null,
   "metadata": {},
   "outputs": [],
   "source": []
  },
  {
   "cell_type": "markdown",
   "metadata": {},
   "source": [
    "R-7.7 Our CircularQueue class of Section 7.2.2 provides a rotate() method that has semantics equivalent to Q.enqueue(Q.dequeue()), for a nonempty queue. Implement such a method for the LinkedQueue class of Section 7.1.2 without the creation of any new nodes."
   ]
  },
  {
   "cell_type": "code",
   "execution_count": null,
   "metadata": {},
   "outputs": [],
   "source": []
  },
  {
   "cell_type": "markdown",
   "metadata": {},
   "source": [
    "R-7.8 Describe a nonrecursive method for finding, by link hopping, the middle node of a doubly linked list with header and trailer sentinels. In the case\n",
    "of an even number of nodes, report the node slightly left of center as the “middle.” (Note: This method must only use link hopping; it cannot use a\n",
    "counter.) What is the running time of this method?"
   ]
  },
  {
   "cell_type": "code",
   "execution_count": null,
   "metadata": {},
   "outputs": [],
   "source": []
  }
 ],
 "metadata": {
  "kernelspec": {
   "display_name": "Python 3",
   "language": "python",
   "name": "python3"
  },
  "language_info": {
   "codemirror_mode": {
    "name": "ipython",
    "version": 3
   },
   "file_extension": ".py",
   "mimetype": "text/x-python",
   "name": "python",
   "nbconvert_exporter": "python",
   "pygments_lexer": "ipython3",
   "version": "3.7.3"
  }
 },
 "nbformat": 4,
 "nbformat_minor": 4
}
