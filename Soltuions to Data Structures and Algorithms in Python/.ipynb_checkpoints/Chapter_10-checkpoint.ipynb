{
 "cells": [
  {
   "cell_type": "markdown",
   "metadata": {},
   "source": [
    "#### Solutions to the problems of Chapter 10\n",
    "### Maps, Hash Tables, and Skip Lists"
   ]
  },
  {
   "cell_type": "markdown",
   "metadata": {},
   "source": [
    "## Basic implementations and helper classes"
   ]
  },
  {
   "cell_type": "code",
   "execution_count": 104,
   "metadata": {},
   "outputs": [],
   "source": [
    "import random\n",
    "import time\n",
    "from utils import PositionalList\n",
    "import collections"
   ]
  },
  {
   "cell_type": "code",
   "execution_count": 2,
   "metadata": {},
   "outputs": [],
   "source": [
    "from collections import abc\n",
    "class MapBase(abc.MutableMapping):\n",
    "    class _Item:\n",
    "        __slots__='_key', '_value'\n",
    "        \n",
    "        def __init__(self, k, v):\n",
    "            self._key = k\n",
    "            self._value = v\n",
    "            \n",
    "        def __eq__(self, other):\n",
    "            return self._key == other._key \n",
    "        \n",
    "        def __neq__(self, other):\n",
    "            return not(self == other) \n",
    "        \n",
    "        def __lt__(self, other):\n",
    "            return self._key < other._key "
   ]
  },
  {
   "cell_type": "code",
   "execution_count": 21,
   "metadata": {},
   "outputs": [],
   "source": [
    "class UnsortedTableMap(MapBase):\n",
    "    \n",
    "    def __init__(self):\n",
    "        self._table = [] \n",
    "        \n",
    "    def __getitem__(self, k):\n",
    "        for item in self._table:\n",
    "            if k == item._key:\n",
    "                return item._value \n",
    "        raise KeyError('Key Error: '+repr(k))\n",
    "        \n",
    "    def __setitem__(self, k, v):\n",
    "        for item in self._table:\n",
    "            if k == item._key:\n",
    "                item._value = v \n",
    "                return\n",
    "        self._table.append(self._Item(k, v))\n",
    "                \n",
    "    def __delitem__(self, k):\n",
    "        for i in range(len(self._table)):\n",
    "            if k == self._table[i]._key:\n",
    "                self._table.pop(i)\n",
    "                return \n",
    "        raise KeyError('Key Error: '+repr(k))\n",
    "                \n",
    "    def __len__(self): \n",
    "        return len(self._table)\n",
    "    \n",
    "    def __iter__(self): \n",
    "        for item in self._table:\n",
    "            yield item._key "
   ]
  },
  {
   "cell_type": "markdown",
   "metadata": {},
   "source": [
    "#### word frequencies example"
   ]
  },
  {
   "cell_type": "code",
   "execution_count": 22,
   "metadata": {},
   "outputs": [],
   "source": [
    "di = {}\n",
    "with open('raven', 'r') as f: \n",
    "    pieces = f.read().lower().split()\n",
    "    for piece in pieces: \n",
    "        word = ''.join(c for c in piece if c.isalpha())\n",
    "        di[word] = di.get(word, 0)+1 \n",
    "    \n",
    "    \n",
    "sorted_dict = sorted(di.items(), key= lambda x:x[1], reverse=True)\n",
    "# for item in sorted_dict:\n",
    "#     print(item, end = \" \")"
   ]
  },
  {
   "cell_type": "code",
   "execution_count": 23,
   "metadata": {},
   "outputs": [],
   "source": [
    "class HashMapBase(MapBase):\n",
    "    \"Abstract base class for map using hash-table with MAD compression\"\n",
    "    \n",
    "    def __init__(self, cap=11, p=49331):\n",
    "        self._table = cap*[None]\n",
    "        self._n = 0\n",
    "        self._prime = p\n",
    "        self._scale = 1+random.randrange(p-1)\n",
    "        self._shift = random.randrange(p)\n",
    "        \n",
    "    def _hash_function(self, k):\n",
    "        return (hash(k)*self._scale + self._shift) % self._prime % len(self._table)\n",
    "        \n",
    "    def __len__(self):\n",
    "        return self._n \n",
    "    \n",
    "    def __getitem__(self, k):\n",
    "        j = self._hash_function(k)\n",
    "        return self._bucket_getitem(j, k)\n",
    "    \n",
    "    def __setitem__(self, k, v):\n",
    "        j = self._hash_function(k)\n",
    "        self._bucket_setitem(j, k, v)\n",
    "        if self._n >= len(self._table)//2:\n",
    "            self._resize(2*len(self._table)-1)\n",
    "        \n",
    "    def __delitem__(self, k):\n",
    "        j = self._hash_function(k)\n",
    "        self._bucket_delitem(j, k)\n",
    "        self._n -= 1 \n",
    "        \n",
    "    def _resize(self, c):\n",
    "        old = list(self.items())\n",
    "        self._table = c*[None]\n",
    "        self._n = 0\n",
    "        for (k, v) in old:\n",
    "            self[k] = v"
   ]
  },
  {
   "cell_type": "code",
   "execution_count": 98,
   "metadata": {},
   "outputs": [],
   "source": [
    "class ChainHashMap(HashMapBase):\n",
    "    \n",
    "    def _bucket_getitem(self, j, k):\n",
    "        bucket = self._table[j]\n",
    "        if bucket is None:\n",
    "            raise KeyError('Key Error: '+repr(k))\n",
    "        return bucket[k]\n",
    "    \n",
    "    def _bucket_setitem(self, j, k ,v):\n",
    "        if self._table[j] is None:\n",
    "            self._table[j] = UnsortedTableMap()\n",
    "        oldsize = len(self._table[j])\n",
    "        self._table[j][k] = v\n",
    "        if len(self._table[j]) > oldsize:\n",
    "            self._n += 1 \n",
    "        \n",
    "    def _bucket_delitem(self, j, k):\n",
    "        bucket = self._table[j]\n",
    "        if bucket is None:\n",
    "            raise KeyError('Key Error: '+repr(k))\n",
    "        del bucket[k]\n",
    "        \n",
    "    def __iter__(self): \n",
    "        for bucket in self._table:\n",
    "            if bucket is not None:\n",
    "                for key in bucket:\n",
    "                    yield key\n",
    "\n",
    "    def items(self):\n",
    "        for item in self._table:\n",
    "            yield (item._key, item._value)"
   ]
  },
  {
   "cell_type": "code",
   "execution_count": 7,
   "metadata": {},
   "outputs": [],
   "source": [
    "class ProbeHashMap(HashMapBase):\n",
    "    _AVAIL = object() \n",
    "    \n",
    "    def _is_available(self, j):\n",
    "        return self._table[j] is None or self._table[j] is ProbeHashMap._AVAIL\n",
    "    \n",
    "    def _find_slot(self, j, k):\n",
    "        firstAvail = None\n",
    "        while True:\n",
    "            if self._is_available(j):\n",
    "                if firstAvail is None:\n",
    "                    firstAvail = j\n",
    "                if self._table[j] is None:\n",
    "                    return (False, firstAvail)\n",
    "            elif k == self._table[j]._key:\n",
    "                return (True, j)\n",
    "            j = (j+1)%len(self._table)\n",
    "    \n",
    "    def _bucket_getitem(self, j, k):\n",
    "        found, s = self._find_slot(j, k)\n",
    "        if not found:\n",
    "            raise KeyError('Key Error: '+repr(k))\n",
    "        return self._table[s]._value \n",
    "    \n",
    "    def _bucket_setitem(self, j, k, v):\n",
    "        found, s = self._find_slot(j, k)\n",
    "        if not found:\n",
    "            self._table[s] = self._Item(k, v)\n",
    "            self._n += 1 \n",
    "        else:\n",
    "            self._table[s]._value = v \n",
    "            \n",
    "    def _bucket_delitem(self, j, k):\n",
    "        found, s = self._find_slot(j, k)\n",
    "        if not found:\n",
    "            raise KeyError('Key Error: '+repr(k))\n",
    "        self._table[s] = ProbeHashMap._AVAIL\n",
    "        \n",
    "    def __iter__(self):\n",
    "        for j in range(len(self._table)):\n",
    "            if not self._is_available(j):\n",
    "                yield self._table[j]._key"
   ]
  },
  {
   "cell_type": "code",
   "execution_count": 8,
   "metadata": {},
   "outputs": [],
   "source": [
    "class SortedTableMap(MapBase): \n",
    "    \n",
    "    def _find_index(self, k ,low, high): \n",
    "        if high <low:\n",
    "            return high+1 \n",
    "        else:\n",
    "            mid = (low+high)//2\n",
    "            if k ==self._table[mid]._key:\n",
    "                return mid \n",
    "            elif k < self._table[mid]._key:\n",
    "                return self._find_index(key, low, mid-1)\n",
    "            else:\n",
    "                return self._find_index(key, mid+1, high)\n",
    "    \n",
    "    def __init__(self):\n",
    "        self._table = []\n",
    "    \n",
    "    def __len__(self):\n",
    "        return len(self._table)\n",
    "    \n",
    "    def __getitem__(self, k):\n",
    "        j = self._find_index(k, 0, len(self._table)-1)\n",
    "        if j == len(self._table) or self._table[j]._key != k:\n",
    "            raise KeyError('Key Error: '+repr(k))\n",
    "        return self._table[j]._value\n",
    "    \n",
    "    def __setitem__(self, k, v):\n",
    "        j = self._find_index(k, 0, len(self._table)-1)\n",
    "        if j <len(self._table) and self._table[j]._key == k:\n",
    "            self._table[j]._value = v\n",
    "        else:\n",
    "            self._table.insert(j, self._Item(k, v))\n",
    "           \n",
    "    def __delitem__(self, k):\n",
    "        j = self._find_index(k, 0, len(self._table)-1)\n",
    "        if j == len(self._table) or self._table[j]._key != k:\n",
    "            raise KeyError(' Key Error: '+repr(k))\n",
    "        self._table.pop(j)\n",
    "        \n",
    "    def __iter__(self):\n",
    "        for item in self._table:\n",
    "            yield item._key \n",
    "            \n",
    "    def __reversed__(self):\n",
    "        for item in reversed(self._table):\n",
    "            yield item._key\n",
    "            \n",
    "    def find_min(self):\n",
    "        if len(self._table)>0:\n",
    "            return (self._table[0]._key, self._table[0]._value)\n",
    "        else:\n",
    "            return None \n",
    "    \n",
    "    def find_max(self):\n",
    "        if len(self._table)>0:\n",
    "            return (self._table[-1]._key, self._table[-1]._value)\n",
    "        else:\n",
    "            return None \n",
    "\n",
    "    def find_ge(self, k):\n",
    "        j = self._find_index(k, 0, len(self._table)-1)\n",
    "        if j<(len(self._table)):\n",
    "            return (self._table[j]._key, self._table[j]._value)\n",
    "        else:\n",
    "            return None \n",
    "    \n",
    "    def find_lt(self, k):\n",
    "        j = self._find_index(k, 0, len(self._table)-1)\n",
    "        if j>0:\n",
    "            return (self._table[j-1]._key, self._table[j-1]._value)\n",
    "        else:\n",
    "            return None \n",
    "    \n",
    "    def find_gt(self, k):\n",
    "        j = self._find_index(k, 0, len(self._table)-1)\n",
    "        if j<len(self._table) and self._table[j]._key == k:\n",
    "            j+=1\n",
    "        if j<len(self._table):\n",
    "            return (self._table[j]._key, self._table[j]._value)\n",
    "        else:\n",
    "            return None\n",
    "        \n",
    "    def find_range(self, start, stop):\n",
    "        if start is None:\n",
    "            j = 0\n",
    "        else:\n",
    "            j = self._find_index(start, 0, len(self._table)-1)\n",
    "            while j<len(self._table) and (stop is None or self._table[j]._key <stop):\n",
    "                yield (self._table[j]._key, self._table[j]._value)\n",
    "                j+=1 "
   ]
  },
  {
   "cell_type": "code",
   "execution_count": 9,
   "metadata": {},
   "outputs": [],
   "source": [
    "class MultiMap:\n",
    "    _MapType = dict \n",
    "    \n",
    "    def __init__(self):\n",
    "        self._map = self._MapType() \n",
    "        self._n = 0\n",
    "        \n",
    "    def __iter__(self):\n",
    "        for k, secondary in self._map.items():\n",
    "            for v in secondary:\n",
    "                yield(k, v)\n",
    "    \n",
    "    def add(self, k, v):\n",
    "        container = self._map.setdefault(k, [])\n",
    "        container.append(v)\n",
    "        self._n +=1 \n",
    "        \n",
    "    def pop(self, k):\n",
    "        secondary = self._map[k]\n",
    "        v = secondary.pop() \n",
    "        if len(secondary) ==0:\n",
    "            del self._map[k]\n",
    "        self._n -= 1\n",
    "        return (k, v)\n",
    "    \n",
    "    def find(self, k):\n",
    "        secondary = self._map[k]\n",
    "        return (k, secondary[0])\n",
    "    \n",
    "    def find_all(self, k):\n",
    "        secondary = self._map.get(k, [])\n",
    "        for v in secondary:\n",
    "            yield (k, v)"
   ]
  },
  {
   "cell_type": "code",
   "execution_count": null,
   "metadata": {},
   "outputs": [],
   "source": []
  },
  {
   "cell_type": "markdown",
   "metadata": {},
   "source": [
    "****Reinforcement Problems***"
   ]
  },
  {
   "cell_type": "markdown",
   "metadata": {},
   "source": [
    "R-10.1 Give a concrete implementation of the pop method in the context of the MutableMapping class, relying only on the five primary abstract methods of that class. "
   ]
  },
  {
   "cell_type": "code",
   "execution_count": 10,
   "metadata": {},
   "outputs": [],
   "source": [
    "def pop(k):\n",
    "    self._delItem_(k)"
   ]
  },
  {
   "cell_type": "markdown",
   "metadata": {},
   "source": [
    "R-10.2 Give a concrete implementation of the items() method in the context of the MutableMapping class, relying only on the five primary abstract methods of that class. What would its running time be if directly applied to the UnsortedTableMap subclass?"
   ]
  },
  {
   "cell_type": "code",
   "execution_count": 11,
   "metadata": {},
   "outputs": [],
   "source": [
    "def items():\n",
    "    for key in self:\n",
    "        yield (key, self[key])\n",
    "        \n",
    "# run time is o(n^2) if applied directly with unsorted map "
   ]
  },
  {
   "cell_type": "markdown",
   "metadata": {},
   "source": [
    "R-10.3 Give a concrete implementation of the items() method directly within the UnsortedTableMap class, ensuring that the entire iteration runs in O(n) time."
   ]
  },
  {
   "cell_type": "code",
   "execution_count": 12,
   "metadata": {},
   "outputs": [],
   "source": [
    "class ItemsUnsortedTableMap(UnsortedTableMap):\n",
    "    def items(self):\n",
    "        for item in self._table:\n",
    "            yield (item._key, item._value)"
   ]
  },
  {
   "cell_type": "code",
   "execution_count": 13,
   "metadata": {},
   "outputs": [
    {
     "name": "stdout",
     "output_type": "stream",
     "text": [
      "[('cat', 10), ('dog', 20)]\n"
     ]
    }
   ],
   "source": [
    "m = ItemsUnsortedTableMap()\n",
    "m['cat'] = 10\n",
    "m['dog'] = 20\n",
    "\n",
    "print(list(m.items()))"
   ]
  },
  {
   "cell_type": "markdown",
   "metadata": {},
   "source": [
    "R-10.4 What is the worst-case running time for inserting n key-value pairs into an initially empty map M that is implemented with the UnsortedTableMap class?"
   ]
  },
  {
   "cell_type": "code",
   "execution_count": 14,
   "metadata": {},
   "outputs": [],
   "source": [
    "# O(n)* ---> amortized \"migh need to resize table\""
   ]
  },
  {
   "cell_type": "markdown",
   "metadata": {},
   "source": [
    "R-10.5 Reimplement the UnsortedTableMap class from Section 10.1.5, using the PositionalList class from Section 7.4 rather than a Python list."
   ]
  },
  {
   "cell_type": "code",
   "execution_count": 15,
   "metadata": {},
   "outputs": [],
   "source": [
    "# not very useful"
   ]
  },
  {
   "cell_type": "markdown",
   "metadata": {},
   "source": [
    "R-10.7 Our Position classes for lists and trees support the __ eq __ method so that two distinct position instances are considered equivalent if they refer to the same underlying node in a structure. For positions to be allowed as keys\n",
    "in a hash table, there must be a definition for the hash method that is consistent with this notion of equivalence. Provide such a hash method."
   ]
  },
  {
   "cell_type": "code",
   "execution_count": 16,
   "metadata": {},
   "outputs": [],
   "source": [
    "# we can use the name of the same object both Positions point to, convert it into a hashable python object and using python hash function, or convert it's string representation into a hash code"
   ]
  },
  {
   "cell_type": "markdown",
   "metadata": {},
   "source": [
    "R-10.15 Our HashMapBase class maintains a load factor λ ≤ 0.5. Reimplement that class to allow the user to specify the maximum load, and adjust the concrete subclasses accordingly"
   ]
  },
  {
   "cell_type": "code",
   "execution_count": 17,
   "metadata": {},
   "outputs": [],
   "source": [
    "class AudjustableLoadHashMapBase(ChainHashMap):\n",
    "\n",
    "    def __init__(self, cap=11, p=109345121, max_load=0.5):\n",
    "        super().__init__( cap=cap,)\n",
    "        self._max_load = max_load\n",
    "        \n",
    "    def __setitem__(self, k, v):\n",
    "        j = self._hash_function(k)\n",
    "        self._bucket_setitem(j, k, v)\n",
    "        if self._n/len(self._table) >= self._max_load:\n",
    "            self._resize(2*len(self._table)-1)"
   ]
  },
  {
   "cell_type": "code",
   "execution_count": 42,
   "metadata": {},
   "outputs": [
    {
     "name": "stdout",
     "output_type": "stream",
     "text": [
      "1 11\n",
      "2 11\n",
      "3 21\n",
      "5 41\n",
      "6 41\n"
     ]
    }
   ],
   "source": [
    "d = AudjustableLoadHashMapBase(cap=11, max_load=0.2)\n",
    "\n",
    "d['a']=10\n",
    "print(d._n, len(d._table))\n",
    "\n",
    "d['b']=20\n",
    "print(d._n, len(d._table))\n",
    "\n",
    "d['c']=30\n",
    "print(d._n, len(d._table))\n",
    "\n",
    "d['d']=40\n",
    "\n",
    "d['e']=50\n",
    "print(d._n, len(d._table))\n",
    "\n",
    "d['f']=60\n",
    "print(d._n, len(d._table))\n"
   ]
  },
  {
   "cell_type": "markdown",
   "metadata": {},
   "source": [
    "R-10.16 Give a pseudo-code description of an insertion into a hash table that uses quadratic probing to resolve collisions, assuming we also use the trick of replacing deleted entries with a special “deactivated entry” object."
   ]
  },
  {
   "cell_type": "code",
   "execution_count": 43,
   "metadata": {},
   "outputs": [],
   "source": [
    "# will be solved with a code in next problem"
   ]
  },
  {
   "cell_type": "markdown",
   "metadata": {},
   "source": [
    "R-10.17 Modify our ProbeHashMap to use quadratic probing"
   ]
  },
  {
   "cell_type": "code",
   "execution_count": 99,
   "metadata": {},
   "outputs": [],
   "source": [
    "class QuadraticProbeHashMap(ProbeHashMap):\n",
    "    def _find_slot(self, j, k):\n",
    "        firstAvail = None\n",
    "        while True:\n",
    "            if self._is_available(j):\n",
    "                if firstAvail is None:\n",
    "                    firstAvail = j\n",
    "                if self._table[j] is None:\n",
    "                    return (False, firstAvail)\n",
    "            elif k == self._table[j]._key:\n",
    "                return (True, j)\n",
    "            j = (j**2+1)%len(self._table) "
   ]
  },
  {
   "cell_type": "markdown",
   "metadata": {},
   "source": [
    "R-10.18 Explain why a hash table is not suited to implement a sorted map."
   ]
  },
  {
   "cell_type": "markdown",
   "metadata": {},
   "source": [
    "because hashing functions don’t necessarily preserve the order of the data. "
   ]
  },
  {
   "cell_type": "markdown",
   "metadata": {},
   "source": [
    "R-10.19 Describe how a sorted list implemented as a doubly linked list could be used to implement the sorted map ADT"
   ]
  },
  {
   "cell_type": "code",
   "execution_count": 101,
   "metadata": {},
   "outputs": [],
   "source": [
    "# very straight forward \n"
   ]
  },
  {
   "cell_type": "code",
   "execution_count": 102,
   "metadata": {},
   "outputs": [],
   "source": [
    "## Solves many of the skiplist problems "
   ]
  },
  {
   "cell_type": "markdown",
   "metadata": {},
   "source": [
    "##### Skiplist implementation"
   ]
  },
  {
   "cell_type": "code",
   "execution_count": 95,
   "metadata": {},
   "outputs": [],
   "source": [
    "class SkipList:\n",
    "    class _Node:\n",
    "        def __init__(self, key, above=None, below=None, nxt=None, prev=None):\n",
    "            self._key = key\n",
    "            self._above = above\n",
    "            self._below = below\n",
    "            self._next = nxt\n",
    "            self._prev = prev\n",
    "            \n",
    "    def __init__(self):\n",
    "        self._height = 0\n",
    "        self._head = self._Node(key=float('-inf'))\n",
    "        self._tail = self._Node(key=float('inf'), prev=self._head)\n",
    "        self._head._next = self._tail\n",
    "            \n",
    "    \n",
    "    def _candidate_search(self, key): \n",
    "        current = self._head \n",
    "        while(current._below is not None):\n",
    "            current = current._below\n",
    "            while(key >= current._next._key):\n",
    "                current = current._next\n",
    "        return current\n",
    "    \n",
    "    \n",
    "    def add(self, key):\n",
    "        position = self._candidate_search(key)\n",
    "        if position._key == key:\n",
    "            return position\n",
    "        level = -1\n",
    "        odds = -1\n",
    "        while(True):\n",
    "            # do\n",
    "            odds += 1\n",
    "            level += 1\n",
    "            \n",
    "            self._adjust_levels(level)\n",
    "            q = position\n",
    "            while position._above is None:\n",
    "                position = position._prev\n",
    "            position = position._above\n",
    "            \n",
    "            self._insert_after_above(position, q, key)\n",
    "            # while\n",
    "            if random.choice([True, False]) is not True:\n",
    "                break\n",
    "    \n",
    "    def _adjust_levels(self, level):\n",
    "        if level >= self._height:\n",
    "            self._height += 1\n",
    "            \n",
    "            newHead = self._Node(key=float('-inf'))\n",
    "            newTail =  self._Node(key=float('inf'), prev = newHead)\n",
    "            \n",
    "            newHead._next = newTail\n",
    "            newHead._below = self._head\n",
    "            newTail._below = self._tail\n",
    "            \n",
    "            self._head._above = newHead\n",
    "            self._tail._above = newTail\n",
    "            \n",
    "            self._head = newHead\n",
    "            self._tail = newTail\n",
    "            \n",
    "    def _insert_after_above(self, p, q, key):\n",
    "        new_node = self._Node(key=key)\n",
    "        before_new_node = p._below._below\n",
    "        \n",
    "        self._set_before_and_after_references(q, new_node)\n",
    "        self._set_above_and_below_references(p, new_node, before_new_node, key)\n",
    "        \n",
    "        return new_node\n",
    "    \n",
    "    def _set_before_and_after_references(self, q, new_node):\n",
    "        new_node._next = q._next\n",
    "        q._next._prev = new_node\n",
    "        new_node._prev = q\n",
    "        q._next = new_node\n",
    "    \n",
    "    def _set_above_and_below_references(self, p, new_node, before_new_node, key):\n",
    "        if before_new_node != None:\n",
    "            while True:\n",
    "                if before_new_node._next._key != key:\n",
    "                    before_new_node = before_new_node._next \n",
    "                else:\n",
    "                    break\n",
    "        \n",
    "            new_node._below = before_new_node._next\n",
    "            before_new_node._next._above = new_node\n",
    "        \n",
    "        if p is not None:\n",
    "            if p._next._key == key:\n",
    "                new_node._above = p._next \n",
    "                \n",
    "    def remove_node(self, key):\n",
    "        to_be_removed = self._candidate_search(key)\n",
    "        if to_be_removed._key != key:\n",
    "            return None\n",
    "        while to_be_removed is not None: \n",
    "            after_node_to_be_removed = to_be_removed._next\n",
    "            before_to_be_removed = to_be_removed._prev\n",
    "            \n",
    "            after_node_to_be_removed._prev = before_to_be_removed\n",
    "            before_to_be_removed._next = after_node_to_be_removed\n",
    "            \n",
    "            \n",
    "            if to_be_removed._above is not None:\n",
    "                to_be_removed = to_be_removed._above\n",
    "            else:\n",
    "                break\n",
    "            \n",
    "        \n",
    "    def __repr__(self):\n",
    "        printstr = [] \n",
    "        printstr.append(\"\\n SkipList starting with top-left node.\\n\")\n",
    "        \n",
    "        starting = self._head \n",
    "        highest_level = starting\n",
    "        level = self._height\n",
    "        while highest_level is not None:\n",
    "            printstr.append(\"\\n Level: \"+str(level)+ '\\n')\n",
    "            while starting is not None:\n",
    "                printstr.append(str(starting._key))\n",
    "                if starting._next is not None:\n",
    "                    printstr.append(\" -> \")\n",
    "                starting = starting._next\n",
    "            printstr.append(\"\\n\")\n",
    "            highest_level = highest_level._below\n",
    "            starting = highest_level\n",
    "            level -= 1\n",
    "        return ''.join(string for string in printstr)\n",
    "                "
   ]
  },
  {
   "cell_type": "code",
   "execution_count": 97,
   "metadata": {},
   "outputs": [
    {
     "name": "stdout",
     "output_type": "stream",
     "text": [
      "\n",
      " SkipList starting with top-left node.\n",
      "\n",
      " Level: 5\n",
      "-inf -> inf\n",
      "\n",
      " Level: 4\n",
      "-inf -> 8 -> inf\n",
      "\n",
      " Level: 3\n",
      "-inf -> 1 -> 8 -> inf\n",
      "\n",
      " Level: 2\n",
      "-inf -> 1 -> 2 -> 3 -> 8 -> inf\n",
      "\n",
      " Level: 1\n",
      "-inf -> 1 -> 2 -> 3 -> 6 -> 8 -> 12 -> 13 -> inf\n",
      "\n",
      " Level: 0\n",
      "-inf -> 0 -> 1 -> 2 -> 3 -> 4 -> 5 -> 6 -> 7 -> 8 -> 9 -> 10 -> 11 -> 12 -> 13 -> 14 -> inf\n",
      "\n"
     ]
    }
   ],
   "source": [
    "skplst = SkipList()\n",
    "for i in range(15):\n",
    "    skplst.add(i)\n",
    "print(skplst)"
   ]
  },
  {
   "cell_type": "markdown",
   "metadata": {},
   "source": [
    "R-10.25 Give a concrete implementation of the pop method, in the context of a MutableSet abstract base class, that relies only on the five core set behaviors described in Section 10.5.2"
   ]
  },
  {
   "cell_type": "code",
   "execution_count": 110,
   "metadata": {},
   "outputs": [],
   "source": [
    "class PopappleSet(collections.MutableSet): \n",
    "    def pop():\n",
    "        item = next(iter(self))\n",
    "        self.remove(item)"
   ]
  },
  {
   "cell_type": "markdown",
   "metadata": {},
   "source": [
    "R-10.26 Give a concrete implementation of the isdisjoint method in the context of the MutableSet abstract base class, relying only on the five primary abstract methods of that class. Your algorithm should run in O(min(n,m)) where n and m denote the respective cardinalities of the two sets."
   ]
  },
  {
   "cell_type": "code",
   "execution_count": 118,
   "metadata": {},
   "outputs": [],
   "source": [
    "class SmartSet(set):\n",
    "    def isdisjoint(self, other):\n",
    "        if len(self) > len(other):\n",
    "            for item in other:\n",
    "                if item not in self:\n",
    "                    return True\n",
    "            return False \n",
    "        else:\n",
    "            for item in self:\n",
    "                if item not in other:\n",
    "                    return True\n",
    "            return False"
   ]
  },
  {
   "cell_type": "markdown",
   "metadata": {},
   "source": [
    "R-10.27 What abstraction would you use to manage a database of friends’ birthdays in order to support efficient queries such as “find all friends whose birthday is today” and “find the friend who will be the next to celebrate a\n",
    "birthday"
   ]
  },
  {
   "cell_type": "code",
   "execution_count": 119,
   "metadata": {},
   "outputs": [],
   "source": [
    "# sorted Multi-Map"
   ]
  },
  {
   "cell_type": "markdown",
   "metadata": {},
   "source": [
    "***Creativity Problems***"
   ]
  },
  {
   "cell_type": "markdown",
   "metadata": {},
   "source": [
    "C-10.28 On page 406 of Section 10.1.3, we give an implementation of the method setdefault as it might appear in the MutableMapping abstract base class. While that method accomplishes the goal in a general fashion, its efficiency is less than ideal. In particular, when the key is new, there will be a failed search due to the initial use of getitem , and then a subsequent insertion via setitem . For a concrete implementation, such as the UnsortedTableMap, this is twice the work because a complete scan of the table will take place during the failed getitem , and then another complete scan of the table takes place due to the implementation of setitem . A better solution is for the UnsortedTableMap class to override setdefault to provide a direct solution that performs a single search. Give such an implementation of UnsortedTableMap.setdefault."
   ]
  },
  {
   "cell_type": "code",
   "execution_count": null,
   "metadata": {},
   "outputs": [],
   "source": []
  }
 ],
 "metadata": {
  "kernelspec": {
   "display_name": "Python 3",
   "language": "python",
   "name": "python3"
  },
  "language_info": {
   "codemirror_mode": {
    "name": "ipython",
    "version": 3
   },
   "file_extension": ".py",
   "mimetype": "text/x-python",
   "name": "python",
   "nbconvert_exporter": "python",
   "pygments_lexer": "ipython3",
   "version": "3.8.3"
  }
 },
 "nbformat": 4,
 "nbformat_minor": 4
}
