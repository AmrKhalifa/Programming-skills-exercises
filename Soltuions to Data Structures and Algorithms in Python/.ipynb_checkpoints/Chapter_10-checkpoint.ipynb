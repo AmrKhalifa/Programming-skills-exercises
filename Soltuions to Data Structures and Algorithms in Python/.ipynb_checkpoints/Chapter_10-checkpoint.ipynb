{
 "cells": [
  {
   "cell_type": "markdown",
   "metadata": {},
   "source": [
    "#### Solutions to the problems of Chapter 10\n",
    "### Maps, Hash Tables, and Skip Lists"
   ]
  },
  {
   "cell_type": "markdown",
   "metadata": {},
   "source": [
    "## Basic implementations and helper classes"
   ]
  },
  {
   "cell_type": "code",
   "execution_count": 33,
   "metadata": {},
   "outputs": [],
   "source": [
    "import random\n",
    "import time\n",
    "from utils import PositionalList"
   ]
  },
  {
   "cell_type": "code",
   "execution_count": 2,
   "metadata": {},
   "outputs": [],
   "source": [
    "from collections import abc\n",
    "class MapBase(abc.MutableMapping):\n",
    "    class _Item:\n",
    "        __slots__='_key', '_value'\n",
    "        \n",
    "        def __init__(self, k, v):\n",
    "            self._key = k\n",
    "            self._value = v\n",
    "            \n",
    "        def __eq__(self, other):\n",
    "            return self._key == other._key \n",
    "        \n",
    "        def __neq__(self, other):\n",
    "            return not(self == other) \n",
    "        \n",
    "        def __lt__(self, other):\n",
    "            return self._key < other._key "
   ]
  },
  {
   "cell_type": "code",
   "execution_count": 3,
   "metadata": {},
   "outputs": [],
   "source": [
    "class UnsortedTableMap(MapBase):\n",
    "    \n",
    "    def __init__(self):\n",
    "        self._table = [] \n",
    "        \n",
    "    def __getitem__(self, k):\n",
    "        for item in self._table:\n",
    "            if k == item._key:\n",
    "                return item._value \n",
    "            else:\n",
    "                raise KeyError('Key Error: '+repr(k))\n",
    "        \n",
    "    def __setitem__(self, k, v):\n",
    "        for item in self._table:\n",
    "            if k == item._key:\n",
    "                item._value = v \n",
    "                return\n",
    "        self._table.append(self._Item(k, v))\n",
    "                \n",
    "    def __delitem__(self, k):\n",
    "        for i in range(len(self._table)):\n",
    "            if k == self._table[i]._key:\n",
    "                self._table.pop(i)\n",
    "                return \n",
    "        raise KeyError('Key Error: '+repr(k))\n",
    "                \n",
    "    def __len__(self): \n",
    "        return len(self._table)\n",
    "    \n",
    "    def __iter__(self): \n",
    "        for item in self._table:\n",
    "            yield item._key "
   ]
  },
  {
   "cell_type": "markdown",
   "metadata": {},
   "source": [
    "#### word frequencies example"
   ]
  },
  {
   "cell_type": "code",
   "execution_count": 4,
   "metadata": {},
   "outputs": [],
   "source": [
    "di = {}\n",
    "with open('raven', 'r') as f: \n",
    "    pieces = f.read().lower().split()\n",
    "    for piece in pieces: \n",
    "        word = ''.join(c for c in piece if c.isalpha())\n",
    "        di[word] = di.get(word, 0)+1 \n",
    "    \n",
    "    \n",
    "sorted_dict = sorted(di.items(), key= lambda x:x[1], reverse=True)\n",
    "# for item in sorted_dict:\n",
    "#     print(item, end = \" \")"
   ]
  },
  {
   "cell_type": "code",
   "execution_count": 5,
   "metadata": {},
   "outputs": [],
   "source": [
    "class HashMapBase(MapBase):\n",
    "    \"Abstract base class for map using hash-table with MAD compression\"\n",
    "    \n",
    "    def __init__(self, cap=11, p=109345121):\n",
    "        self._table = cap*[None]\n",
    "        self._n = 0\n",
    "        self._prime = p\n",
    "        self._scale = 1+random.randrange(p-1)\n",
    "        self._shift = random.randrange(p)\n",
    "        \n",
    "    def _hash_function(self, k):\n",
    "        return ((hash(k)*self._scale + self._shift)%self._prime)%len(self._table)\n",
    "    \n",
    "    def __len__(self):\n",
    "        return self._n \n",
    "    \n",
    "    def __getitem__(self, k):\n",
    "        j = self._hash_function(k)\n",
    "        return self._bucket_getitem(j, k)\n",
    "    \n",
    "    def __setitem__(self, k, v):\n",
    "        j = self._hash_function(k)\n",
    "        self._bucket_setitem(j, k, v)\n",
    "        if self._n > len(self._table)//2:\n",
    "            self._resize(2*len(self._table)-1)\n",
    "        \n",
    "    def __delitem__(self, k):\n",
    "        j = self._hash_function(k)\n",
    "        self._bucket_delitem(j, k)\n",
    "        self._n -= 1 \n",
    "        \n",
    "    def _resize(self, c):\n",
    "        old = list(self.items())\n",
    "        self._table = c*[None]\n",
    "        self._n = 0\n",
    "        for (k, v) in old:\n",
    "            self[k] = v"
   ]
  },
  {
   "cell_type": "code",
   "execution_count": 6,
   "metadata": {},
   "outputs": [],
   "source": [
    "class ChainHashMap(HashMapBase):\n",
    "    \n",
    "    def _bucket_getitem(self, j, k):\n",
    "        bucket = self._table[j]\n",
    "        if bucket is None:\n",
    "            raise KeyError('Key Error: '+repr(k))\n",
    "        return bucket[k]\n",
    "    \n",
    "    def _bucket_setitem(self, j, k ,v):\n",
    "        if self._table[j] is None:\n",
    "            self._table[j] = UnsortedTableMap()\n",
    "        oldsize = len(self._table[j])\n",
    "        self._table[j][k] = v\n",
    "        if len(self._table[j]) > oldsize:\n",
    "            self._n += 1 \n",
    "        \n",
    "    def _bucket_delitem(self, j, k):\n",
    "        bucket = self._table[j]\n",
    "        if bucket is None:\n",
    "            raise KeyError('Key Error: '+repr(k))\n",
    "        del bucket[k]\n",
    "        \n",
    "    def __iter__(self): \n",
    "        for bucket in self._table:\n",
    "            if bucket is not None:\n",
    "                for key in bucket:\n",
    "                    yield key"
   ]
  },
  {
   "cell_type": "code",
   "execution_count": 7,
   "metadata": {},
   "outputs": [],
   "source": [
    "class ProbeHashMap(HashMapBase):\n",
    "    _AVAIL = object() \n",
    "    \n",
    "    def _is_available(self, j):\n",
    "        return self._table[j] is None or self._table[j] is ProbeHashMap._AVAIL\n",
    "    \n",
    "    def _find_slot(self, j, k):\n",
    "        firstAvail = None\n",
    "        while True:\n",
    "            if self._is_available(j):\n",
    "                if firstAvail is None:\n",
    "                    firstAvail = j\n",
    "                if self._table[j] is None:\n",
    "                    return (False, firstAvail)\n",
    "            elif k == self._table[j]._key:\n",
    "                return (True, j)\n",
    "            j = (j+1)%len(self._table)\n",
    "    \n",
    "    def _bucket_getitem(self, j, k):\n",
    "        found, s = self._find_slot(j, k)\n",
    "        if not found:\n",
    "            raise KeyError('Key Error: '+repr(k))\n",
    "        return self._table[s]._value \n",
    "    \n",
    "    def _bucket_setitem(self, j, k, v):\n",
    "        found, s = self._find_slot(j, k)\n",
    "        if not found:\n",
    "            self._table[s] = self._Item(k, v)\n",
    "            self._n += 1 \n",
    "        else:\n",
    "            self._table[s]._value = v \n",
    "            \n",
    "    def _bucket_delitem(self, j, k):\n",
    "        found, s = self._find_slot(j, k)\n",
    "        if not found:\n",
    "            raise KeyError('Key Error: '+repr(k))\n",
    "        self._table[s] = ProbeHashMap._AVAIL\n",
    "        \n",
    "    def __iter__(self):\n",
    "        for j in range(len(self._table)):\n",
    "            if not self._is_available(j):\n",
    "                yield self._table[j]._key"
   ]
  },
  {
   "cell_type": "code",
   "execution_count": 8,
   "metadata": {},
   "outputs": [],
   "source": [
    "class SortedTableMap(MapBase): \n",
    "    \n",
    "    def _find_index(self, k ,low, high): \n",
    "        if high <low:\n",
    "            return high+1 \n",
    "        else:\n",
    "            mid = (low+high)//2\n",
    "            if k ==self._table[mid]._key:\n",
    "                return mid \n",
    "            elif k < self._table[mid]._key:\n",
    "                return self._find_index(key, low, mid-1)\n",
    "            else:\n",
    "                return self._find_index(key, mid+1, high)\n",
    "    \n",
    "    def __init__(self):\n",
    "        self._table = []\n",
    "    \n",
    "    def __len__(self):\n",
    "        return len(self._table)\n",
    "    \n",
    "    def __getitem__(self, k):\n",
    "        j = self._find_index(k, 0, len(self._table)-1)\n",
    "        if j == len(self._table) or self._table[j]._key != k:\n",
    "            raise KeyError('Key Error: '+repr(k))\n",
    "        return self._table[j]._value\n",
    "    \n",
    "    def __setitem__(self, k, v):\n",
    "        j = self._find_index(k, 0, len(self._table)-1)\n",
    "        if j <len(self._table) and self._table[j]._key == k:\n",
    "            self._table[j]._value = v\n",
    "        else:\n",
    "            self._table.insert(j, self._Item(k, v))\n",
    "           \n",
    "    def __delitem__(self, k):\n",
    "        j = self._find_index(k, 0, len(self._table)-1)\n",
    "        if j == len(self._table) or self._table[j]._key != k:\n",
    "            raise KeyError(' Key Error: '+repr(k))\n",
    "        self._table.pop(j)\n",
    "        \n",
    "    def __iter__(self):\n",
    "        for item in self._table:\n",
    "            yield item._key \n",
    "            \n",
    "    def __reversed__(self):\n",
    "        for item in reversed(self._table):\n",
    "            yield item._key\n",
    "            \n",
    "    def find_min(self):\n",
    "        if len(self._table)>0:\n",
    "            return (self._table[0]._key, self._table[0]._value)\n",
    "        else:\n",
    "            return None \n",
    "    \n",
    "    def find_max(self):\n",
    "        if len(self._table)>0:\n",
    "            return (self._table[-1]._key, self._table[-1]._value)\n",
    "        else:\n",
    "            return None \n",
    "\n",
    "    def find_ge(self, k):\n",
    "        j = self._find_index(k, 0, len(self._table)-1)\n",
    "        if j<(len(self._table)):\n",
    "            return (self._table[j]._key, self._table[j]._value)\n",
    "        else:\n",
    "            return None \n",
    "    \n",
    "    def find_lt(self, k):\n",
    "        j = self._find_index(k, 0, len(self._table)-1)\n",
    "        if j>0:\n",
    "            return (self._table[j-1]._key, self._table[j-1]._value)\n",
    "        else:\n",
    "            return None \n",
    "    \n",
    "    def find_gt(self, k):\n",
    "        j = self._find_index(k, 0, len(self._table)-1)\n",
    "        if j<len(self._table) and self._table[j]._key == k:\n",
    "            j+=1\n",
    "        if j<len(self._table):\n",
    "            return (self._table[j]._key, self._table[j]._value)\n",
    "        else:\n",
    "            return None\n",
    "        \n",
    "    def find_range(self, start, stop):\n",
    "        if start is None:\n",
    "            j = 0\n",
    "        else:\n",
    "            j = self._find_index(start, 0, len(self._table)-1)\n",
    "            while j<len(self._table) and (stop is None or self._table[j]._key <stop):\n",
    "                yield (self._table[j]._key, self._table[j]._value)\n",
    "                j+=1 "
   ]
  },
  {
   "cell_type": "code",
   "execution_count": 9,
   "metadata": {},
   "outputs": [],
   "source": [
    "class MultiMap:\n",
    "    _MapType = dict \n",
    "    \n",
    "    def __init__(self):\n",
    "        self._map = self._MapType() \n",
    "        self._n = 0\n",
    "        \n",
    "    def __iter__(self):\n",
    "        for k, secondary in self._map.items():\n",
    "            for v in secondary:\n",
    "                yield(k, v)\n",
    "    \n",
    "    def add(self, k, v):\n",
    "        container = self._map.setdefault(k, [])\n",
    "        container.append(v)\n",
    "        self._n +=1 \n",
    "        \n",
    "    def pop(self, k):\n",
    "        secondary = self._map[k]\n",
    "        v = secondary.pop() \n",
    "        if len(secondary) ==0:\n",
    "            del self._map[k]\n",
    "        self._n -= 1\n",
    "        return (k, v)\n",
    "    \n",
    "    def find(self, k):\n",
    "        secondary = self._map[k]\n",
    "        return (k, secondary[0])\n",
    "    \n",
    "    def find_all(self, k):\n",
    "        secondary = self._map.get(k, [])\n",
    "        for v in secondary:\n",
    "            yield (k, v)"
   ]
  },
  {
   "cell_type": "code",
   "execution_count": null,
   "metadata": {},
   "outputs": [],
   "source": []
  },
  {
   "cell_type": "markdown",
   "metadata": {},
   "source": [
    "****Reinforcement Problems***"
   ]
  },
  {
   "cell_type": "markdown",
   "metadata": {},
   "source": [
    "R-10.1 Give a concrete implementation of the pop method in the context of the MutableMapping class, relying only on the five primary abstract methods of that class. "
   ]
  },
  {
   "cell_type": "code",
   "execution_count": 22,
   "metadata": {},
   "outputs": [],
   "source": [
    "def pop(k):\n",
    "    self._delItem_(k)"
   ]
  },
  {
   "cell_type": "markdown",
   "metadata": {},
   "source": [
    "R-10.2 Give a concrete implementation of the items() method in the context of the MutableMapping class, relying only on the five primary abstract methods of that class. What would its running time be if directly applied to the UnsortedTableMap subclass?"
   ]
  },
  {
   "cell_type": "code",
   "execution_count": 24,
   "metadata": {},
   "outputs": [],
   "source": [
    "def items():\n",
    "    for key in self:\n",
    "        yield (key, self[key])\n",
    "        \n",
    "# run time is o(n^2) if applied directly with unsorted map "
   ]
  },
  {
   "cell_type": "markdown",
   "metadata": {},
   "source": [
    "R-10.3 Give a concrete implementation of the items() method directly within the UnsortedTableMap class, ensuring that the entire iteration runs in O(n) time."
   ]
  },
  {
   "cell_type": "code",
   "execution_count": 25,
   "metadata": {},
   "outputs": [],
   "source": [
    "class ItemsUnsortedTableMap(UnsortedTableMap):\n",
    "    def items(self):\n",
    "        for item in self._table:\n",
    "            yield (item._key, item._value)"
   ]
  },
  {
   "cell_type": "code",
   "execution_count": 31,
   "metadata": {},
   "outputs": [
    {
     "name": "stdout",
     "output_type": "stream",
     "text": [
      "[('cat', 10), ('dog', 20)]\n"
     ]
    }
   ],
   "source": [
    "m = ItemsUnsortedTableMap()\n",
    "m['cat'] = 10\n",
    "m['dog'] = 20\n",
    "\n",
    "print(list(m.items()))"
   ]
  },
  {
   "cell_type": "markdown",
   "metadata": {},
   "source": [
    "R-10.4 What is the worst-case running time for inserting n key-value pairs into an initially empty map M that is implemented with the UnsortedTableMap class?"
   ]
  },
  {
   "cell_type": "code",
   "execution_count": 32,
   "metadata": {},
   "outputs": [],
   "source": [
    "# O(n)* ---> amortized \"migh need to resize table\""
   ]
  },
  {
   "cell_type": "markdown",
   "metadata": {},
   "source": [
    "R-10.5 Reimplement the UnsortedTableMap class from Section 10.1.5, using the PositionalList class from Section 7.4 rather than a Python list."
   ]
  },
  {
   "cell_type": "code",
   "execution_count": 34,
   "metadata": {},
   "outputs": [],
   "source": [
    "# not very useful"
   ]
  },
  {
   "cell_type": "markdown",
   "metadata": {},
   "source": [
    "R-10.7 Our Position classes for lists and trees support the __ eq __ method so that two distinct position instances are considered equivalent if they refer to the same underlying node in a structure. For positions to be allowed as keys\n",
    "in a hash table, there must be a definition for the hash method that is consistent with this notion of equivalence. Provide such a hash method."
   ]
  },
  {
   "cell_type": "code",
   "execution_count": 35,
   "metadata": {},
   "outputs": [],
   "source": [
    "# we can use the name of the same object both Positions point to, convert it into a hashable python object and using python hash function, or convert it's string representation into a hash code"
   ]
  },
  {
   "cell_type": "markdown",
   "metadata": {},
   "source": [
    "R-10.15 Our HashMapBase class maintains a load factor λ ≤ 0.5. Reimplement that class to allow the user to specify the maximum load, and adjust the concrete subclasses accordingly"
   ]
  },
  {
   "cell_type": "code",
   "execution_count": null,
   "metadata": {},
   "outputs": [],
   "source": [
    "class HashMapBase(MapBase):\n",
    "    \"Abstract base class for map using hash-table with MAD compression\"\n",
    "    \n",
    "    def __init__(self, cap=11, p=109345121, max_load=0.5):\n",
    "        self._table = cap*[None]\n",
    "        self._n = 0\n",
    "        self._prime = p\n",
    "        self._scale = 1+random.randrange(p-1)\n",
    "        self._shift = random.randrange(p)\n",
    "        self._max_load = self._n/len(self._table)\n",
    "        \n",
    "    def _hash_function(self, k):\n",
    "        return ((hash(k)*self._scale + self._shift)%self._prime)%len(self._table)\n",
    "    \n",
    "    def __len__(self):\n",
    "        return self._n \n",
    "    \n",
    "    def __getitem__(self, k):\n",
    "        j = self._hash_function(k)\n",
    "        return self._bucket_getitem(j, k)\n",
    "    \n",
    "    def __setitem__(self, k, v):\n",
    "        j = self._hash_function(k)\n",
    "        self._bucket_setitem(j, k, v)\n",
    "        if self._n > len(self._table)//2:\n",
    "            self._resize(2*len(self._table)-1)\n",
    "        \n",
    "    def __delitem__(self, k):\n",
    "        j = self._hash_function(k)\n",
    "        self._bucket_delitem(j, k)\n",
    "        self._n -= 1 \n",
    "        \n",
    "    def _resize(self, c):\n",
    "        old = list(self.items())\n",
    "        self._table = c*[None]\n",
    "        self._n = 0\n",
    "        for (k, v) in old:\n",
    "            self[k] = v"
   ]
  },
  {
   "cell_type": "code",
   "execution_count": null,
   "metadata": {},
   "outputs": [],
   "source": []
  }
 ],
 "metadata": {
  "kernelspec": {
   "display_name": "Python 3",
   "language": "python",
   "name": "python3"
  },
  "language_info": {
   "codemirror_mode": {
    "name": "ipython",
    "version": 3
   },
   "file_extension": ".py",
   "mimetype": "text/x-python",
   "name": "python",
   "nbconvert_exporter": "python",
   "pygments_lexer": "ipython3",
   "version": "3.8.3"
  }
 },
 "nbformat": 4,
 "nbformat_minor": 4
}
