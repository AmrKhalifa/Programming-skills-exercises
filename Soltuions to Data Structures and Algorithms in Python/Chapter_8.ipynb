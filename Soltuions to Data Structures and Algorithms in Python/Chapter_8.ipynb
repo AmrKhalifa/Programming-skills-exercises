{
 "cells": [
  {
   "cell_type": "markdown",
   "metadata": {},
   "source": [
    "### Solutions to the problems of Chapter 8 \n",
    "## Trees "
   ]
  },
  {
   "cell_type": "markdown",
   "metadata": {},
   "source": [
    "##### Implementations to the Tree ADT, Binary Tree, Linked Binary Tree, Array Binary Tree, Expression Tree"
   ]
  },
  {
   "cell_type": "code",
   "execution_count": 1,
   "metadata": {},
   "outputs": [
    {
     "name": "stdout",
     "output_type": "stream",
     "text": [
      "pygame 1.9.6\n",
      "Hello from the pygame community. https://www.pygame.org/contribute.html\n"
     ]
    }
   ],
   "source": [
    "import math \n",
    "import time\n",
    "import pygame\n",
    "from collections import deque\n",
    "from itertools import groupby"
   ]
  },
  {
   "cell_type": "code",
   "execution_count": 2,
   "metadata": {},
   "outputs": [],
   "source": [
    "class Tree:\n",
    "    class Position: \n",
    "        def element(self): \n",
    "            raise NotImplementedError('must be implemented by subclass') \n",
    "        def __eq__(self, other):\n",
    "            raise NotImplementedError('must be implemented by subclass') \n",
    "        def __ne__(self, other):\n",
    "            return not (self == other)\n",
    "    \n",
    "    ## accessor methods\n",
    "    \n",
    "    def root(self):\n",
    "        raise NotImplementedError('must be implemented by subclass')\n",
    "    def parent(self, p):\n",
    "        raise NotImplementedError('must be implemented by subclass') \n",
    "    def is_root(self, p):\n",
    "        return self.root() == p \n",
    "    def num_children(self, p):\n",
    "        raise NotImplementedError('must be implemented by subclass')\n",
    "    def children(self, p):\n",
    "        raise NotImplementedError('must be implemented by subclass')\n",
    "    def is_leaf(self, p):\n",
    "        return self.num_children(p) == 0\n",
    "    def __len__(self):\n",
    "        raise NotImplementedError('must be implemented by subclass') \n",
    "    def is_empty(self):\n",
    "        return len(self) == 0\n",
    "    def depth(self, p):\n",
    "        if self.is_root(p):\n",
    "            return 0\n",
    "        else:\n",
    "            return 1 + self.depth(self.parent(p)) \n",
    "        \n",
    "    def height(self, p = None):\n",
    "        def _height(p): \n",
    "            if self.is_leaf(p):\n",
    "                return 0\n",
    "            else:\n",
    "                return 1 + max(_height(n) for n in self.children(p))\n",
    "            \n",
    "        if p is None:\n",
    "            p = self.root()\n",
    "        return _height(p)\n",
    "    \n",
    "        \n",
    "class BinaryTree(Tree): \n",
    "    def left(self, p):\n",
    "        raise NotImplementedError('must be implemented by subclass')\n",
    "    def right(self, p):\n",
    "        raise NotImplementedError('must be implemented by subclass') \n",
    "        \n",
    "    def sibling(self, p):\n",
    "        parent = self.parent(p)\n",
    "        if parent is None:\n",
    "            return None\n",
    "        else:\n",
    "            if p == self.left(parent):\n",
    "                return self.right(parent)\n",
    "            else:\n",
    "                return self.left(parent)\n",
    "            \n",
    "    def children(self, p):\n",
    "        if self.left(p) is not None:\n",
    "            yield self.left(p)\n",
    "        if self.right(p) is not None:\n",
    "            yield self.right(p)\n",
    "            \n",
    "    def num_children(self, p):\n",
    "        num_child = 0 \n",
    "        if self.left(p) is not None:\n",
    "            num_child += 1 \n",
    "        if self.right(p) is not None:\n",
    "            num_child += 1\n",
    "        return num_child\n",
    "    \n",
    "    def num_descendants(self, p):\n",
    "        num = 0 \n",
    "        q = deque() \n",
    "        q.append(p)\n",
    "        while len(q) != 0:\n",
    "            node = q.popleft()\n",
    "            num += self.num_children(node)\n",
    "            for child in self.children(node): \n",
    "                    q.append(child)\n",
    "        return num  \n",
    "\n",
    "class LinkedBinaryTree(BinaryTree):\n",
    "    class _Node:\n",
    "        __slots__ = '_element', '_parent', '_left', '_right'\n",
    "        def __init__(self, element, parent=None, left=None, right=None):\n",
    "            self._element = element\n",
    "            self._parent = parent \n",
    "            self._left = left\n",
    "            self._right = right\n",
    "    \n",
    "    class Position(BinaryTree.Position):\n",
    "        def __init__(self, container, node):\n",
    "            self._container = container \n",
    "            self._node = node\n",
    "        def element(self):\n",
    "            return self._node._element \n",
    "        def __eq__(self, other): \n",
    "            return type(other) is type(self) and self._node is other._node      \n",
    "        \n",
    "    def _validate(self, p):\n",
    "        if not isinstance(p, self.Position):\n",
    "            raise TypeError(\"p must be proper Position type\")\n",
    "        if p._container is not self:\n",
    "            raise ValueError('p does not belong to this container')\n",
    "        if p._node._parent is p._node:\n",
    "            raise ValueError('p is no longer valid')\n",
    "        return p._node  \n",
    "    \n",
    "    def _make_position(self, node): \n",
    "        return self.Position(self, node) if node is not None else None \n",
    "    \n",
    "    def __init__(self):\n",
    "        self._root = None\n",
    "        self._size = 0\n",
    "        \n",
    "    def __len__(self):\n",
    "        return self._size \n",
    "    \n",
    "    def root(self):\n",
    "        return self._make_position(self._root)\n",
    "    \n",
    "    def parent(self, p):\n",
    "        return self._make_position(self._validate(p)._parent)\n",
    "    \n",
    "    def left(self, p):\n",
    "        return self._make_position(self._validate(p)._left)\n",
    "    \n",
    "    def right(self, p):\n",
    "        return self._make_position(self._validate(p)._right)\n",
    "    \n",
    "    def size(self):\n",
    "        return self._size \n",
    "    \n",
    "    def _add_root(self, e):\n",
    "        if self._root is not None: raise ValueError('root already exists !')\n",
    "        self._root = self._Node(e)\n",
    "        self._size = 1\n",
    "        return self._make_position(self._root)\n",
    "    \n",
    "    def _add_left(self, p, e):\n",
    "        positioned_node = self._validate(p)\n",
    "        if positioned_node._left is not None: raise ValueError('left position is not empty !')\n",
    "        positioned_node._left = self._Node(e, parent = positioned_node)\n",
    "        self._size += 1 \n",
    "        return self._make_position(positioned_node._left)\n",
    "    \n",
    "    def _add_right(self, p, e):\n",
    "        positioned_node = self._validate(p)\n",
    "        if positioned_node._right is not None: raise ValueError('left position is not empty !')\n",
    "        positioned_node._right = self._Node(e, parent = positioned_node)\n",
    "        self._size += 1\n",
    "        return self._make_position(positioned_node._right) \n",
    "    \n",
    "    def _replace(self, p, e):\n",
    "        positioned_node = self._validate(p)\n",
    "        old_value = positioned_node._element\n",
    "        positioned_node._element = e\n",
    "        return old_value \n",
    "    \n",
    "    def _delete(self, p):\n",
    "        node = self._validate(p)\n",
    "        if self.num_children(p)==2: raise ValueError('p has 2 children')\n",
    "        child = node._left if node._left else node._right\n",
    "        if child is not None:\n",
    "            child._parent = node._parent \n",
    "        if node is self._root:\n",
    "            self._root = child \n",
    "        else:\n",
    "            parent = node._parent\n",
    "            if child == node._left:\n",
    "                parent._left = child\n",
    "            else:\n",
    "                parent._right = child\n",
    "        self._size -= 1\n",
    "        node._parent = node\n",
    "        return node._element \n",
    "    \n",
    "    def _attach(self, p, t1, t2):\n",
    "        node = self._validate(p)\n",
    "        if not self.is_leaf(p): raise ValueError('p must be a leaf position')\n",
    "        if not (type(self) == type(t1) == type(t2)): raise TypeError('Invalid types for trees')\n",
    "        self._size += len(t1) + len(t2)\n",
    "        if not t1.is_empty():\n",
    "            t1._root._parent = node \n",
    "            node._left = t1._root \n",
    "            t1._root = None  # ??? \n",
    "            t1._size = 0\n",
    "        if not t2.is_empty():\n",
    "            t2._root._parent = node\n",
    "            node._right = t2._root \n",
    "            t2._root = None\n",
    "            t2._size = 0\n",
    "            \n",
    "    def _delete_subtree(self, p):\n",
    "        parent = self.parent(p)\n",
    "        parent_node = self._validate(parent) \n",
    "        num_desc = self.num_descendants(p)\n",
    "        \n",
    "        if self.left(parent) == p:\n",
    "            parent_node._left = None \n",
    "        else:\n",
    "            parent_node._right = None\n",
    "        self._size -= num_desc +1\n",
    "        \n",
    "        deleted_node = self._validate(p)\n",
    "        deleted_node._parent = None\n",
    "        \n",
    "    def _swap(self, p, q): \n",
    "        first_node = self._validate(p)\n",
    "        second_node = self._validate(q)\n",
    "        \n",
    "        if first_node._parent is second_node._parent:\n",
    "            first_node._parent._left, first_node._parent._right = first_node._parent._right, first_node._parent._left\n",
    "        \n",
    "        else:\n",
    "            #swap parents\n",
    "            first_node._parent, second_node._parent = second_node._parent, first_node._parent\n",
    "            # check if first was left, put second in left else do put in right \n",
    "            if second_node._parent._left == first_node:\n",
    "                second_node._parent._left = second_node\n",
    "            else:\n",
    "                second_node._parent._right = second_node \n",
    "\n",
    "            if first_node._parent._left == second_node: \n",
    "                first_node._parent._left = first_node\n",
    "            else:\n",
    "                first_node._parent._right = first_node \n",
    "            \n",
    "    def __iter__(self):\n",
    "        for position in self.positions():\n",
    "            yield position.element()\n",
    "            \n",
    "    def preorder(self):\n",
    "        if not self.is_empty():\n",
    "            for p in self._subtree_preorder(self.root()): \n",
    "                yield p \n",
    "    def _subtree_preorder(self, p): \n",
    "        yield p\n",
    "        for c in self.children(p): \n",
    "            for other in self._subtree_preorder(c):\n",
    "                yield other\n",
    "                \n",
    "    def postorder(self):\n",
    "        if not self.is_empty():\n",
    "            for p in self._subtree_postorder(self.root()):\n",
    "                yield p\n",
    "    def _subtree_postorder(self, p):\n",
    "        for c in self.children(p):\n",
    "            for other in self._subtree_postorder(c):\n",
    "                yield other\n",
    "        yield p \n",
    "        \n",
    "    def BFS(self):\n",
    "        if not self.is_empty():\n",
    "            frontier = deque()\n",
    "            frontier.append(self.root())\n",
    "            while len(frontier) != 0:\n",
    "                p = frontier.popleft()\n",
    "                yield p \n",
    "                for c in self.children(p): \n",
    "                    frontier.append(c)\n",
    "                    \n",
    "    def inorder(self): \n",
    "        if not self.is_empty():\n",
    "            for p in self._subtree_inorder(self.root()):\n",
    "                yield p \n",
    "                \n",
    "    def _subtree_inorder(self, p):\n",
    "        if self.left(p) is not None:\n",
    "            for other in self._subtree_inorder(self.left(p)): \n",
    "                yield other\n",
    "        yield p\n",
    "        if self.right(p) is not None:\n",
    "            for other in self._subtree_inorder(self.right(p)):\n",
    "                yield other\n",
    "                \n",
    "    def positions(self, pre=False, ino = False, post=False, BFS=False):\n",
    "        if pre and not ino and not post and not BFS:\n",
    "            return self.preorder()\n",
    "        elif ino and not post and not pre and not BFS:\n",
    "            return self.inorder()\n",
    "        elif post and not pre and not ino and not BFS:\n",
    "            return self.postorder()\n",
    "        elif BFS and not pre and not ino and not post:\n",
    "            return self.BFS() \n",
    "        else:\n",
    "            raise ValueError('Only one argument required')\n",
    "            \n",
    "            \n",
    "    def __str__(self):\n",
    "        print_list = [] \n",
    "        def print_tree(position, print_list, depth):\n",
    "            print_list.append('-'*depth+'>'*bool(depth)+ '('+str(position.element())+')') \n",
    "            for c in self.children(position):\n",
    "                print_tree(c, print_list, depth + 3)\n",
    "            return ''.join(item+'\\n' for item in print_list)\n",
    "        \n",
    "        if not self.is_empty():\n",
    "            result = print_tree(self.root(), print_list, depth = 0)\n",
    "            return result\n",
    "        else:\n",
    "            return \"\" "
   ]
  },
  {
   "cell_type": "code",
   "execution_count": 3,
   "metadata": {},
   "outputs": [
    {
     "name": "stdout",
     "output_type": "stream",
     "text": [
      "False\n",
      "[1, 2, 3, 4]\n",
      "3\n"
     ]
    }
   ],
   "source": [
    "bt = LinkedBinaryTree()\n",
    "bt._add_root(1)\n",
    "root = bt.root()\n",
    "bt._add_left(bt.root(), 2)\n",
    "bt._add_right(bt.root(), 3)\n",
    "bt._add_left(bt.right(bt.root()), 4)\n",
    "print(bt.is_empty())\n",
    "print([item.element() for item in list(bt.positions(BFS = True))])\n",
    "\n",
    "print(bt.num_descendants(root))\n"
   ]
  },
  {
   "cell_type": "code",
   "execution_count": null,
   "metadata": {},
   "outputs": [],
   "source": []
  },
  {
   "cell_type": "markdown",
   "metadata": {},
   "source": [
    "****Reinforcement Problems*** "
   ]
  },
  {
   "cell_type": "markdown",
   "metadata": {},
   "source": [
    "R-8.5 Describe an algorithm, relying only on the BinaryTree operations, that counts the number of leaves in a binary tree that are the left child of their respective parent."
   ]
  },
  {
   "cell_type": "code",
   "execution_count": 4,
   "metadata": {},
   "outputs": [],
   "source": [
    "# naive solution:\n",
    "# traverse using your favorite traversal, when you visit a node, if it's leaf and it's left to it's parent increment the node \n",
    "\n",
    "# counter = 0\n",
    "# for node in T.positions():\n",
    "#     if T.is_leaf(node) and T.parent(node).left == node:\n",
    "#        counter +=1 "
   ]
  },
  {
   "cell_type": "markdown",
   "metadata": {},
   "source": [
    "R-8.6 Let T be an n-node binary tree that may be improper. Describe how to represent T by means of a proper binary tree T' with O(n) nodes."
   ]
  },
  {
   "cell_type": "code",
   "execution_count": 5,
   "metadata": {},
   "outputs": [],
   "source": [
    "# for node in T.positions():\n",
    "#     if not T.is_leaf(node) and len(T.children(node)) !=2:\n",
    "#             if T.left(node) is not None:\n",
    "#                 T.add_left(element)\n",
    "#             else:\n",
    "#                 T.add_right(element)"
   ]
  },
  {
   "cell_type": "markdown",
   "metadata": {},
   "source": [
    "R-8.10 Give a direct implementation of the num children method within the class BinaryTree."
   ]
  },
  {
   "cell_type": "code",
   "execution_count": 6,
   "metadata": {},
   "outputs": [],
   "source": [
    "# added to first code segment in the notebook "
   ]
  },
  {
   "cell_type": "markdown",
   "metadata": {},
   "source": [
    "R-8.15 The LinkedBinaryTree class provides only nonpublic versions of the update methods discussed on page 319. Implement a simple subclass named MutableLinkedBinaryTree that provides public wrapper functions for each of the inherited nonpublic update methods."
   ]
  },
  {
   "cell_type": "code",
   "execution_count": 7,
   "metadata": {},
   "outputs": [],
   "source": [
    "class MutableLinkedBinaryTree(LinkedBinaryTree): \n",
    "    def add_root(self, e): \n",
    "        return self._add_root(e)\n",
    "    \n",
    "    def add_left(self, p, e):\n",
    "        return self._add_left(p, e)\n",
    "        \n",
    "    def add_right(self, p, e): \n",
    "        return self._add_right(p, e)\n",
    "        \n",
    "    def replace(self, p, e):\n",
    "        return self._replace(p, e)\n",
    "    \n",
    "    def delete(self, p):\n",
    "        return self._delete(p)\n",
    "    \n",
    "    def attach(self, p, t1, t2):\n",
    "        self._attach(p, t1, t2)"
   ]
  },
  {
   "cell_type": "markdown",
   "metadata": {},
   "source": [
    "R-8.18 Let T be a binary tree with n positions that is realized with an array representation A, and let f() be the level numbering function of the positions of T , as given in Section 8.3.2. Give pseudo-code descriptions of each of the methods root, parent, left, right, is leaf, and is root."
   ]
  },
  {
   "cell_type": "code",
   "execution_count": 8,
   "metadata": {},
   "outputs": [],
   "source": [
    "# suppose arr =[] cotains the elements of the tree \n",
    "# root():\n",
    "#    return arr[0]\n",
    "# parent(i):\n",
    "#    return arr[floor((i-1)/2)]\n",
    "# left(i):\n",
    "#   if i is even: \n",
    "#      return arr[i-1]\n",
    "# right(i):\n",
    "#   if i is odd: \n",
    "#      return arr[i+1]\n",
    "#  is_leaf(i):\n",
    "#    if arr[2*(i+1)+1] is None and arr[2*(i+1)+2] is None return True else False \n",
    "#  is_root(i):\n",
    "#    if arr[0] is None return True else False\n"
   ]
  },
  {
   "cell_type": "markdown",
   "metadata": {},
   "source": [
    "R-8.19 Our definition of the level numbering function f(p), as given in Section 8.3.2, began with the root having number 0. Some authors prefer to use a level numbering g(p) in which the root is assigned number 1, because it simplifies the arithmetic for finding neighboring positions. Redo Exercise R-8.18, but assuming that we use a level numbering g(p) in which the root is assigned number 1"
   ]
  },
  {
   "cell_type": "code",
   "execution_count": 9,
   "metadata": {},
   "outputs": [],
   "source": [
    "# trivial: same as before just shift all the math by -1 "
   ]
  },
  {
   "cell_type": "markdown",
   "metadata": {},
   "source": [
    "R-8.26 The collections.deque class supports an extend method that adds a collection of elements to the end of the queue at once. Reimplement the breadthfirst method of the Tree class to take advantage of this feature."
   ]
  },
  {
   "cell_type": "code",
   "execution_count": 10,
   "metadata": {},
   "outputs": [
    {
     "name": "stdout",
     "output_type": "stream",
     "text": [
      "[1, 2, 3, 4]\n"
     ]
    }
   ],
   "source": [
    "class ExtendQueueBFSLinkedBinaryTree(LinkedBinaryTree):\n",
    "    def BFS(self):\n",
    "        if not self.is_empty():\n",
    "            frontier = deque()\n",
    "            frontier.append(self.root())\n",
    "            while len(frontier) != 0:\n",
    "                p = frontier.popleft()\n",
    "                yield p\n",
    "                frontier.extend(self.children(p)) \n",
    "                \n",
    "bt = ExtendQueueBFSLinkedBinaryTree()\n",
    "bt._add_root(1)\n",
    "root = bt.root()\n",
    "bt._add_left(bt.root(), 2)\n",
    "bt._add_right(bt.root(), 3)\n",
    "bt._add_left(bt.right(bt.root()), 4)\n",
    "print([item.element() for item in list(bt.positions(BFS = True))])\n"
   ]
  },
  {
   "cell_type": "markdown",
   "metadata": {},
   "source": [
    "R-8.29 Describe, in pseudo-code, an algorithm for computing the number of descendants of each node of a binary tree. The algorithm should be based on the Euler tour traversal."
   ]
  },
  {
   "cell_type": "code",
   "execution_count": 11,
   "metadata": {},
   "outputs": [],
   "source": [
    "# Algorithm eulertour(T, p, counter = 0):\n",
    "#     perform the “pre visit” action for position p\n",
    "#     for each child c in T.children(p) do\n",
    "#         eulertour(T, c, counter+=1)  {recursively tour the subtree rooted at c}\n",
    "        \n",
    "#     perform the “post visit” action for position p\n",
    "#       return counter"
   ]
  },
  {
   "cell_type": "markdown",
   "metadata": {},
   "source": [
    "R-8.30 The build expression tree method of the ExpressionTree class requires input that is an iterable of string tokens. We used a convenient example, (((3+1)x4)/((9-5)+2)) , in which each character is its own token, so that the string itself sufficed as input to build expression tree. In general, a string, such as (35 + 14) , must be explicitly tokenized into list [ ( , 35 , + , 14 , ) ] so as to ignore whitespace and to recognize multidigit numbers as a single token. Write a utility method, tokenize(raw), that returns such a list of tokens for a raw string."
   ]
  },
  {
   "cell_type": "code",
   "execution_count": 12,
   "metadata": {},
   "outputs": [
    {
     "data": {
      "text/plain": [
       "['(', '35', ' ', '+', ' ', '14', ')']"
      ]
     },
     "execution_count": 12,
     "metadata": {},
     "output_type": "execute_result"
    }
   ],
   "source": [
    "expression = '(35 + 14)'\n",
    "def tokenize(expression):\n",
    "    first_pass = [''.join(j) for k, j in groupby(expression, str.isdigit)] \n",
    "    second_pass = [list(i) if not i.isdigit() else i for i in first_pass]\n",
    "    result = [] \n",
    "    for element in second_pass:\n",
    "        if isinstance(element, str):\n",
    "            result.append(element)\n",
    "        if isinstance(element, list):\n",
    "            if len(element) == 1:\n",
    "                result.append(element[0])\n",
    "            else:\n",
    "                for item in element:\n",
    "                    result.append(item)\n",
    "    return result\n",
    "\n",
    "tokens = tokenize(expression)\n",
    "tokens"
   ]
  },
  {
   "cell_type": "markdown",
   "metadata": {},
   "source": [
    "****Creativity Problems***"
   ]
  },
  {
   "cell_type": "markdown",
   "metadata": {},
   "source": [
    "C-8.35 Two ordered trees T' and T'' are said to be isomorphic if one of the following holds:\n",
    "- Both T' and T'' are empty.\n",
    "-  The roots of T' and T'' have the same number k ≥ 0 of subtrees, and\n",
    "the ith such subtree of T' is isomorphic to the ith such subtree of T'' \n",
    "for i = 1,...,k.\n",
    "\n",
    "\n",
    "Design an algorithm that tests whether two given ordered trees are isomorphic. What is the running time of your algorithm?"
   ]
  },
  {
   "cell_type": "code",
   "execution_count": 13,
   "metadata": {},
   "outputs": [],
   "source": [
    "def isIsomorphic(n1, n2): \n",
    "    if n1 is None and n2 is None: \n",
    "        return True\n",
    "    if n1 is None or n2 is None: \n",
    "        return False\n",
    "    if n1.data != n2.data : \n",
    "        return False\n",
    "    return ((isIsomorphic(n1.left, n2.left)and \n",
    "            isIsomorphic(n1.right, n2.right))or\n",
    "            (isIsomorphic(n1.left, n2.right)and \n",
    "            isIsomorphic(n1.right, n2.left)))"
   ]
  },
  {
   "cell_type": "markdown",
   "metadata": {},
   "source": [
    "C-8.38 Add support in LinkedBinaryTree for a method, delete subtree(p), that removes the entire subtree rooted at position p, making sure to maintain the count on the size of the tree. What is the running time of your implementation?"
   ]
  },
  {
   "cell_type": "code",
   "execution_count": 14,
   "metadata": {},
   "outputs": [
    {
     "name": "stdout",
     "output_type": "stream",
     "text": [
      "(1)\n",
      "--->(2)\n",
      "--->(3)\n",
      "------>(4)\n",
      "------>(5)\n",
      "\n",
      "size of the tree  initially =5\n",
      "4\n",
      "2\n",
      "(1)\n",
      "--->(2)\n",
      "\n",
      "1\n",
      "1\n",
      "2\n"
     ]
    }
   ],
   "source": [
    "bt = LinkedBinaryTree()\n",
    "bt._add_root(1)\n",
    "root = bt.root()\n",
    "bt._add_left(bt.root(), 2)\n",
    "bt._add_right(bt.root(), 3)\n",
    "bt._add_left(bt.right(bt.root()), 4)\n",
    "bt._add_right(bt.right(bt.root()), 5)\n",
    "\n",
    "print(bt)\n",
    "print(f'size of the tree  initially ={bt._size}')\n",
    "print(bt.num_descendants(root))\n",
    "print(bt.num_children(root))\n",
    "\n",
    "bt._delete_subtree(bt.right(root))\n",
    "print(bt)\n",
    "print(bt.num_descendants(root))\n",
    "print(bt.num_children(root))\n",
    "print(bt._size)"
   ]
  },
  {
   "cell_type": "markdown",
   "metadata": {},
   "source": [
    "C-8.39 Add support in LinkedBinaryTree for a method, swap(p,q), that has the effect of restructuring the tree so that the node referenced by p takes the place of the node referenced by q, and vice versa. Make sure to properly handle the case when the nodes are adjacent."
   ]
  },
  {
   "cell_type": "code",
   "execution_count": 15,
   "metadata": {},
   "outputs": [
    {
     "name": "stdout",
     "output_type": "stream",
     "text": [
      "Original Tree:\n",
      "(1)\n",
      "--->(2)\n",
      "------>(4)\n",
      "--------->(5)\n",
      "--------->(6)\n",
      "--->(3)\n",
      "------>(7)\n",
      "------>(8)\n",
      "\n",
      "Re-strcutred Tree:\n",
      "(1)\n",
      "--->(8)\n",
      "--->(3)\n",
      "------>(7)\n",
      "------>(2)\n",
      "--------->(4)\n",
      "------------>(5)\n",
      "------------>(6)\n",
      "\n"
     ]
    }
   ],
   "source": [
    "bt = LinkedBinaryTree()\n",
    "bt._add_root(1)\n",
    "root = bt.root()\n",
    "bt._add_left(bt.root(), 2)\n",
    "bt._add_right(bt.root(), 3)\n",
    "bt._add_left(bt.right(bt.root()), 7)\n",
    "bt._add_right(bt.right(bt.root()), 8)\n",
    "bt._add_left(bt.left(bt.root()), 4)\n",
    "bt._add_left(bt.left(bt.left(bt.root())), 5)           \n",
    "bt._add_right(bt.left(bt.left(bt.root())), 6)\n",
    "print(\"Original Tree:\")\n",
    "print(bt)\n",
    "\n",
    "print(\"Re-strcutred Tree:\")\n",
    "bt._swap(bt.left(bt.root()), bt.right(bt.right(bt.root())))\n",
    "print(bt)"
   ]
  },
  {
   "cell_type": "code",
   "execution_count": 16,
   "metadata": {},
   "outputs": [
    {
     "name": "stdout",
     "output_type": "stream",
     "text": [
      "Original Tree:\n",
      "(1)\n",
      "--->(2)\n",
      "------>(4)\n",
      "--------->(5)\n",
      "--------->(6)\n",
      "--->(3)\n",
      "------>(7)\n",
      "------>(8)\n",
      "\n",
      "Re-strcutred Tree:\n",
      "(1)\n",
      "--->(3)\n",
      "------>(7)\n",
      "------>(8)\n",
      "--->(2)\n",
      "------>(4)\n",
      "--------->(5)\n",
      "--------->(6)\n",
      "\n"
     ]
    }
   ],
   "source": [
    "bt = LinkedBinaryTree()\n",
    "bt._add_root(1)\n",
    "root = bt.root()\n",
    "bt._add_left(bt.root(), 2)\n",
    "bt._add_right(bt.root(), 3)\n",
    "bt._add_left(bt.right(bt.root()), 7)\n",
    "bt._add_right(bt.right(bt.root()), 8)\n",
    "bt._add_left(bt.left(bt.root()), 4)\n",
    "bt._add_left(bt.left(bt.left(bt.root())), 5)           \n",
    "bt._add_right(bt.left(bt.left(bt.root())), 6)\n",
    "print(\"Original Tree:\")\n",
    "print(bt)\n",
    "\n",
    "print(\"Re-strcutred Tree:\")\n",
    "bt._swap(bt.left(bt.root()), bt.right(bt.root()))\n",
    "print(bt)"
   ]
  },
  {
   "cell_type": "markdown",
   "metadata": {},
   "source": [
    "c-8.41 and C-8.42 are trivial"
   ]
  },
  {
   "cell_type": "markdown",
   "metadata": {},
   "source": [
    "C-8.44 Give an efficient algorithm that computes and prints, for every position p of a tree T , the element of p followed by the height of p’s subtree."
   ]
  },
  {
   "cell_type": "code",
   "execution_count": 17,
   "metadata": {},
   "outputs": [
    {
     "name": "stdout",
     "output_type": "stream",
     "text": [
      "Original Tree:\n",
      "(a)\n",
      "--->(b)\n",
      "--->(c)\n",
      "------>(d)\n",
      "------>(e)\n",
      "--------->(f)\n",
      "\n"
     ]
    }
   ],
   "source": [
    "bt = LinkedBinaryTree()\n",
    "bt._add_root('a')\n",
    "root = bt.root()\n",
    "bt._add_left(bt.root(), 'b')\n",
    "bt._add_right(bt.root(), 'c')\n",
    "bt._add_left(bt.right(bt.root()), 'd')\n",
    "bt._add_right(bt.right(bt.root()), 'e')\n",
    "bt._add_right(bt.right(bt.right(bt.root())), 'f')\n",
    "print(\"Original Tree:\")\n",
    "print(bt)\n",
    "\n",
    "def get_hight(tree): \n",
    "    root = tree.root()\n",
    "    nodes_hights = []\n",
    "    def traverse(position):\n",
    "        if tree.is_leaf(position):\n",
    "            nodes_hights.append((position.element(), 0))\n",
    "            return 0 \n",
    "        value  = 1 + max(traverse(node) for node in tree.children(position)) \n",
    "        nodes_hights.append((position.element(), value))\n",
    "        return value \n",
    "    traverse(root)\n",
    "    return nodes_hights"
   ]
  },
  {
   "cell_type": "code",
   "execution_count": 18,
   "metadata": {},
   "outputs": [
    {
     "data": {
      "text/plain": [
       "[('b', 0), ('d', 0), ('f', 0), ('e', 1), ('c', 2), ('a', 3)]"
      ]
     },
     "execution_count": 18,
     "metadata": {},
     "output_type": "execute_result"
    }
   ],
   "source": [
    "get_hight(bt)"
   ]
  },
  {
   "cell_type": "markdown",
   "metadata": {},
   "source": [
    "C-8.45 Give an O(n)-time algorithm for computing the depths of all positions of a tree T , where n is the number of nodes of T ."
   ]
  },
  {
   "cell_type": "code",
   "execution_count": 19,
   "metadata": {},
   "outputs": [],
   "source": [
    "def get_depth(tree): \n",
    "    root = tree.root()\n",
    "    nodes_depths = [] \n",
    "    def traverse(position, depth):\n",
    "        if position:\n",
    "            nodes_depths.append((position.element(), depth))\n",
    "            for child in tree.children(position):\n",
    "                traverse(child, depth+1)\n",
    "    traverse(root, depth = 0)\n",
    "    return nodes_depths"
   ]
  },
  {
   "cell_type": "code",
   "execution_count": 20,
   "metadata": {},
   "outputs": [
    {
     "name": "stdout",
     "output_type": "stream",
     "text": [
      "[('a', 0), ('b', 1), ('c', 1), ('d', 2), ('e', 2), ('f', 3)]\n",
      "9\n"
     ]
    }
   ],
   "source": [
    "z = get_depth(bt)\n",
    "print(z)\n",
    "zz = sum(element[1] for element in z)\n",
    "\n",
    "print(zz)"
   ]
  },
  {
   "cell_type": "markdown",
   "metadata": {},
   "source": [
    "C-8.46 The path length of a tree T is the sum of the depths of all positions in T. Describe a linear-time method for computing the path length of a tree T ."
   ]
  },
  {
   "cell_type": "code",
   "execution_count": 21,
   "metadata": {},
   "outputs": [],
   "source": [
    "def get_path_lenght(tree): \n",
    "    root = tree.root()\n",
    "    paths_length = [0]\n",
    "    def traverse(position, depth):\n",
    "        if position:\n",
    "            paths_length[0]+=depth\n",
    "            for child in tree.children(position):\n",
    "                traverse(child, depth+1) \n",
    "    traverse(root, depth = 0)\n",
    "    return paths_length[0]\n"
   ]
  },
  {
   "cell_type": "code",
   "execution_count": 22,
   "metadata": {},
   "outputs": [
    {
     "data": {
      "text/plain": [
       "9"
      ]
     },
     "execution_count": 22,
     "metadata": {},
     "output_type": "execute_result"
    }
   ],
   "source": [
    "get_path_lenght(bt)"
   ]
  },
  {
   "cell_type": "markdown",
   "metadata": {},
   "source": [
    "C-8.47 The balance factor of an internal position p of a proper binary tree is the difference between the heights of the right and left subtrees of p. Show how to specialize the Euler tour traversal of Section 8.4.6 to print the balance factors of all the internal nodes of a proper binary tree."
   ]
  },
  {
   "cell_type": "code",
   "execution_count": 23,
   "metadata": {},
   "outputs": [],
   "source": [
    "def get_balance_factor(tree):\n",
    "    root = tree.root()\n",
    "    b_factors = []\n",
    "    def euler_tour(position):\n",
    "        if position: \n",
    "            if tree.is_leaf(position):\n",
    "                return 0 \n",
    "            else:\n",
    "                # pre_visit : do nothing \n",
    "                a = euler_tour(tree.left(position))\n",
    "                b = euler_tour(tree.right(position))\n",
    "                # post_vist : get diff \n",
    "                h = 1 + max(a, b)\n",
    "                diff = abs(a-b)\n",
    "                b_factors.append((position.element(), diff))\n",
    "                return h\n",
    "        else:\n",
    "            return 0 \n",
    "    euler_tour(root)\n",
    "    return b_factors"
   ]
  },
  {
   "cell_type": "code",
   "execution_count": 24,
   "metadata": {},
   "outputs": [
    {
     "data": {
      "text/plain": [
       "[('e', 0), ('c', 1), ('a', 2)]"
      ]
     },
     "execution_count": 24,
     "metadata": {},
     "output_type": "execute_result"
    }
   ],
   "source": [
    "get_balance_factor(bt)"
   ]
  },
  {
   "cell_type": "markdown",
   "metadata": {},
   "source": [
    "C-8.48 Given a proper binary tree T , define the reflection of T to be the binary tree T' such that each node v in T is also in T', but the left child of v in T is v’s right child in T' and the right child of v in T is v’s left child in T'. Show that a preorder traversal of a proper binary tree T is the same as the\n",
    "postorder traversal of T ’s reflection, but in reverse order."
   ]
  },
  {
   "cell_type": "code",
   "execution_count": 25,
   "metadata": {},
   "outputs": [
    {
     "name": "stdout",
     "output_type": "stream",
     "text": [
      "(a)\n",
      "--->(b)\n",
      "--->(c)\n",
      "------>(d)\n",
      "------>(e)\n",
      "--------->(f)\n",
      "\n"
     ]
    }
   ],
   "source": [
    "print(bt)"
   ]
  },
  {
   "cell_type": "code",
   "execution_count": 26,
   "metadata": {},
   "outputs": [],
   "source": [
    "def reflect_tree(tree, position):\n",
    "    if position is not None:\n",
    "        node = tree._validate(position)\n",
    "        node._left, node._right = node._right, node._left \n",
    "        for child in tree.children(position): \n",
    "            reflect_tree(tree, child) "
   ]
  },
  {
   "cell_type": "code",
   "execution_count": 27,
   "metadata": {},
   "outputs": [
    {
     "name": "stdout",
     "output_type": "stream",
     "text": [
      "['a', 'b', 'c', 'd', 'e', 'f']\n"
     ]
    }
   ],
   "source": [
    "print([item.element() for item in bt.positions(pre = True)])            \n",
    "reflect_tree(bt, bt.root())"
   ]
  },
  {
   "cell_type": "code",
   "execution_count": 28,
   "metadata": {},
   "outputs": [
    {
     "name": "stdout",
     "output_type": "stream",
     "text": [
      "['f', 'e', 'd', 'c', 'b', 'a']\n"
     ]
    }
   ],
   "source": [
    "print([item.element() for item in bt.positions(post = True)])"
   ]
  },
  {
   "cell_type": "markdown",
   "metadata": {},
   "source": [
    "C-8.50 Design algorithms for the following operations for a binary tree T :\n",
    "    - preorder next(p): Return the position visited after p in a preorder traversal of T (or None if p is the last node visited).\n",
    "    - inorder next(p): Return the position visited after p in an inorder traversal of T (or None if p is the last node visited).\n",
    "    - postorder next(p): Return the position visited after p in a postorder traversal of T (or None if p is the last node visited).\n",
    "What are the worst-case running times of your algorithms?"
   ]
  },
  {
   "cell_type": "code",
   "execution_count": 29,
   "metadata": {},
   "outputs": [],
   "source": [
    "## Worst case running time for all the algorithms is O(n)\n",
    "## space complexity is o(1)"
   ]
  },
  {
   "cell_type": "code",
   "execution_count": 30,
   "metadata": {},
   "outputs": [
    {
     "name": "stdout",
     "output_type": "stream",
     "text": [
      "(a)\n",
      "--->(b)\n",
      "------>(d)\n",
      "--------->(h)\n",
      "--------->(i)\n",
      "------>(e)\n",
      "--------->(j)\n",
      "--------->(k)\n",
      "--->(c)\n",
      "------>(f)\n",
      "--------->(l)\n",
      "--------->(m)\n",
      "------>(g)\n",
      "--------->(n)\n",
      "------------>(XX)\n",
      "--------->(o)\n",
      "\n"
     ]
    }
   ],
   "source": [
    "bt = LinkedBinaryTree()\n",
    "\n",
    "def build_binary_tree(tree):\n",
    "    bt = tree \n",
    "    bt._add_root('a')\n",
    "    root = bt.root()\n",
    "    bt._add_left(bt.root(), 'b')\n",
    "    bt._add_right(bt.root(), 'c')\n",
    "    bt._add_left(bt.left(bt.root()), 'd')\n",
    "    bt._add_right(bt.left(bt.root()), 'e')\n",
    "    bt._add_left(bt.right(bt.root()), 'f')\n",
    "    bt._add_right(bt.right(bt.root()), 'g')\n",
    "\n",
    "    bt._add_left(bt.left(bt.left(bt.root())), 'h')\n",
    "    bt._add_right(bt.left(bt.left(bt.root())), 'i')\n",
    "\n",
    "    bt._add_left(bt.right(bt.left(bt.root())), 'j')\n",
    "    bt._add_right(bt.right(bt.left(bt.root())), 'k')\n",
    "\n",
    "    bt._add_left(bt.left(bt.right(bt.root())), 'l')\n",
    "    bt._add_right(bt.left(bt.right(bt.root())), 'm')\n",
    "\n",
    "    bt._add_left(bt.right(bt.right(bt.root())), 'n')\n",
    "    bt._add_right(bt.right(bt.right(bt.root())), 'o')\n",
    "\n",
    "\n",
    "    bt._add_right(bt.left(bt.right(bt.right(bt.root()))), 'XX')\n",
    "\n",
    "build_binary_tree(bt)\n",
    "print(bt)"
   ]
  },
  {
   "cell_type": "code",
   "execution_count": 31,
   "metadata": {},
   "outputs": [
    {
     "name": "stdout",
     "output_type": "stream",
     "text": [
      "['a', 'b', 'd', 'h', 'i', 'e', 'j', 'k', 'c', 'f', 'l', 'm', 'g', 'n', 'XX', 'o']\n",
      "['h', 'i', 'd', 'j', 'k', 'e', 'b', 'l', 'm', 'f', 'XX', 'n', 'o', 'g', 'c', 'a']\n",
      "['h', 'd', 'i', 'b', 'j', 'e', 'k', 'a', 'l', 'f', 'm', 'c', 'n', 'XX', 'g', 'o']\n"
     ]
    }
   ],
   "source": [
    "print([item.element() for item in bt.positions(pre= True)])\n",
    "print([item.element() for item in bt.positions(post= True)])\n",
    "print([item.element() for item in bt.positions(ino= True)])"
   ]
  },
  {
   "cell_type": "code",
   "execution_count": 32,
   "metadata": {},
   "outputs": [],
   "source": [
    "def get_next(tree, position, traversal):\n",
    "    if traversal == 'pre': \n",
    "        if not tree.is_leaf(position):\n",
    "            if tree.left(position) is not None:\n",
    "                return tree.left(position)\n",
    "            else:\n",
    "                return tree.right(position)\n",
    "        parent = tree.parent(position)\n",
    "        while(parent):\n",
    "            if parent is not None: \n",
    "                if tree.right(parent) != position:\n",
    "                    return tree.right(parent)\n",
    "                    break \n",
    "                position = parent\n",
    "            parent = tree.parent(position)\n",
    "            \n",
    "    if traversal == 'post':\n",
    "        if tree.is_root(position):\n",
    "            return\n",
    "        if tree.right(tree.parent(position)) == position: \n",
    "            return tree.parent(position)\n",
    "        if tree.sibling(position) is not None:\n",
    "            sibling = tree.sibling(position)\n",
    "            if tree.is_leaf(sibling):\n",
    "                return sibling\n",
    "            else:\n",
    "                while(True): \n",
    "                    if tree.left(sibling) is not None:\n",
    "                        current = tree.left(sibling)\n",
    "                    else:\n",
    "                        current = tree.right(sibling)\n",
    "                    if tree.is_leaf(current):\n",
    "                        return current\n",
    "                    else:\n",
    "                        sibling = current\n",
    "        else:\n",
    "            return tree.parent(position)\n",
    "        \n",
    "    if traversal == 'in':\n",
    "        if tree.is_leaf(position):\n",
    "            if tree.left(tree.parent(position)) == position:\n",
    "                return tree.parent(position)\n",
    "            else: \n",
    "                current = position\n",
    "                parent = tree.parent(position)\n",
    "                while(True):\n",
    "                    if tree.right(parent) == current:\n",
    "                        current = parent\n",
    "                        if  tree.parent(parent) is not None: \n",
    "                            parent = tree.parent(parent)\n",
    "                        else:\n",
    "                            return\n",
    "                    else: \n",
    "                        break\n",
    "                return parent\n",
    "        if tree.right(position):\n",
    "            if tree.is_leaf(tree.right(position)):\n",
    "                return tree.right(position) \n",
    "            else:\n",
    "                current = tree.right(position)\n",
    "                while(True):\n",
    "                    if tree.left(current) is not None:\n",
    "                        current = tree.left(current)\n",
    "                    else:\n",
    "                        return current "
   ]
  },
  {
   "cell_type": "code",
   "execution_count": 33,
   "metadata": {},
   "outputs": [
    {
     "name": "stdout",
     "output_type": "stream",
     "text": [
      "am at:  a\n",
      "next pre-order nodes: \n",
      "b, d, h, i, e, j, k, c, f, l, m, g, n, XX, o, \n",
      "\n",
      "am at:  h\n",
      "next post-order nodes: \n",
      "i, d, j, k, e, b, l, m, f, XX, n, o, g, c, a, \n",
      "\n",
      "am at:  h\n",
      "next In-order nodes: \n",
      "d, i, b, j, e, k, a, l, f, m, c, n, XX, g, o, "
     ]
    }
   ],
   "source": [
    "item = bt.root()\n",
    "flag = True\n",
    "print(\"am at: \", item.element())\n",
    "print(\"next pre-order nodes: \")\n",
    "while(flag):\n",
    "    item = get_next(bt, item, traversal='pre')\n",
    "    if item is not None:\n",
    "        print(item.element(), end = ', ')\n",
    "        continue\n",
    "    flag = False\n",
    "\n",
    "item = bt.left(bt.left(bt.left(bt.root())))\n",
    "flag = True\n",
    "print(\"\")\n",
    "print(\"\")\n",
    "print(\"am at: \", item.element())\n",
    "print(\"next post-order nodes: \")\n",
    "while(flag):\n",
    "    item = get_next(bt, item, traversal='post')\n",
    "    if item is not None:\n",
    "        print(item.element(), end = ', ')\n",
    "        continue\n",
    "    flag = False\n",
    "\n",
    "item = bt.left(bt.left(bt.left(bt.root())))\n",
    "flag = True\n",
    "print(\"\")\n",
    "print(\"\")\n",
    "print(\"am at: \", item.element())\n",
    "print(\"next In-order nodes: \")\n",
    "while(flag):\n",
    "    item = get_next(bt, item, traversal='in')\n",
    "    if item is not None:\n",
    "        print(item.element(), end = ', ')\n",
    "        continue\n",
    "    flag = False"
   ]
  },
  {
   "cell_type": "markdown",
   "metadata": {},
   "source": [
    "C-8.51 To implement the preorder method of the LinkedBinaryTree class, we relied on the convenience of Python’s generator syntax and the yield statement. Give an alternative implementation of preorder that returns an explicit instance of a nested iterator class. (See Section 2.3.4 for discussion\n",
    "of iterators."
   ]
  },
  {
   "cell_type": "code",
   "execution_count": 34,
   "metadata": {},
   "outputs": [],
   "source": [
    "class iterableLinkedBinaryTree(LinkedBinaryTree):         \n",
    "    def __iter__(self):\n",
    "        self.root_flag = True \n",
    "        self.nxt = self.root()\n",
    "        return self \n",
    "    \n",
    "    def get_next(self, tree, position):\n",
    "        if not tree.is_leaf(position):\n",
    "            if tree.left(position) is not None:\n",
    "                return tree.left(position)\n",
    "            else:\n",
    "                return tree.right(position)\n",
    "        parent = tree.parent(position)\n",
    "        while(parent):\n",
    "            if parent is not None: \n",
    "                if tree.right(parent) != position:\n",
    "                    return tree.right(parent)\n",
    "                    break \n",
    "                position = parent\n",
    "            parent = tree.parent(position)\n",
    "\n",
    "    def __next__(self):\n",
    "        if self.root_flag: \n",
    "            self.root_flag = False\n",
    "            return self.root()\n",
    "        if not self.root_flag: \n",
    "            self.nxt = self.get_next(self, self.nxt)\n",
    "            if self.nxt is None:\n",
    "                raise StopIteration\n",
    "            return self.nxt"
   ]
  },
  {
   "cell_type": "code",
   "execution_count": 35,
   "metadata": {},
   "outputs": [
    {
     "name": "stdout",
     "output_type": "stream",
     "text": [
      "(a)\n",
      "--->(b)\n",
      "------>(d)\n",
      "--------->(h)\n",
      "--------->(i)\n",
      "------>(e)\n",
      "--------->(j)\n",
      "--------->(k)\n",
      "--->(c)\n",
      "------>(f)\n",
      "--------->(l)\n",
      "--------->(m)\n",
      "------>(g)\n",
      "--------->(n)\n",
      "------------>(XX)\n",
      "--------->(o)\n",
      "\n"
     ]
    }
   ],
   "source": [
    "bt = iterableLinkedBinaryTree() \n",
    "build_binary_tree(bt)\n",
    "print(bt)"
   ]
  },
  {
   "cell_type": "code",
   "execution_count": 36,
   "metadata": {},
   "outputs": [
    {
     "name": "stdout",
     "output_type": "stream",
     "text": [
      "Orignal implementation: \n",
      "['a', 'b', 'd', 'h', 'i', 'e', 'j', 'k', 'c', 'f', 'l', 'm', 'g', 'n', 'XX', 'o']\n",
      "nested iterator implementation: \n",
      "a, b, d, h, i, e, j, k, c, f, l, m, g, n, XX, o, "
     ]
    }
   ],
   "source": [
    "print(\"Orignal implementation: \")\n",
    "print([item.element() for item in bt.positions(pre= True)]) \n",
    "print(\"nested iterator implementation: \")\n",
    "for item in bt:\n",
    "    print(item.element(), end = ', ')"
   ]
  },
  {
   "cell_type": "markdown",
   "metadata": {},
   "source": [
    "C-8.52 - 8.54\n",
    "\n",
    "The code below prints the Tree. \n",
    "this is code uses the in-order traversal (which looks better). The pre-order traversal prints a tree with root as the leftmost element and the rest of the tree follows (left-inclined tree). With the post-order traversal the root is rightmost. (right-inclined tree). "
   ]
  },
  {
   "cell_type": "raw",
   "metadata": {},
   "source": [
    "inorder:\n",
    "          a\n",
    "         /  \\ \n",
    "        b    c\n",
    "              \\\n",
    "               d\n",
    "\n",
    "pre-order: \n",
    "\n",
    "a \n",
    " \\   \\ \n",
    "  b   c \n",
    "       \\\n",
    "        d\n",
    "\n",
    "post-order:\n",
    "      \n",
    "       a\n",
    " /    /\n",
    "b    c\n",
    "    /   \n",
    "   d"
   ]
  },
  {
   "cell_type": "code",
   "execution_count": 37,
   "metadata": {},
   "outputs": [],
   "source": [
    "class DrawableBinaryTree(LinkedBinaryTree): \n",
    "    def inorder_draw(self):\n",
    "        counter = [0]\n",
    "        drawable_items = [] \n",
    "        def draw_subtree_inorder(pos, x, y): \n",
    "            if self.left(pos) is not None:\n",
    "                left_child =  self.left(pos)\n",
    "                draw_subtree_inorder(left_child, x+counter[0], y+10)\n",
    "            \n",
    "            counter[0]+=10\n",
    "            if self.parent(pos) is not None: \n",
    "                drawable_items.append([pos, pos.element(), x, y])\n",
    "            else:\n",
    "                drawable_items.append([pos, pos.element(), x, y, None])\n",
    "                                              \n",
    "            if self.right(pos) is not None:\n",
    "                right_child = self.right(pos)\n",
    "                draw_subtree_inorder(right_child, x+counter[0], y+10)\n",
    "        \n",
    "        draw_subtree_inorder(self.root(), x = 10, y = 10)\n",
    "        \n",
    "        for i, node in enumerate(drawable_items):\n",
    "            node[2]+=(i*25) +(500-5*node[3])\n",
    "        for node in drawable_items:\n",
    "            for target_node in drawable_items:\n",
    "                if not self.is_root(node[0]) and self.parent(node[0]) == target_node[0]:\n",
    "                    node.extend([target_node[2], target_node[3]])\n",
    "        return [(item[1:]) for item in drawable_items]"
   ]
  },
  {
   "cell_type": "code",
   "execution_count": 38,
   "metadata": {},
   "outputs": [
    {
     "name": "stdout",
     "output_type": "stream",
     "text": [
      "(a)\n",
      "--->(b)\n",
      "------>(d)\n",
      "--------->(h)\n",
      "--------->(i)\n",
      "------>(e)\n",
      "--------->(j)\n",
      "--------->(k)\n",
      "--->(c)\n",
      "------>(f)\n",
      "--------->(l)\n",
      "--------->(m)\n",
      "------>(g)\n",
      "--------->(n)\n",
      "------------>(XX)\n",
      "--------->(o)\n",
      "\n"
     ]
    }
   ],
   "source": [
    "pt = DrawableBinaryTree() \n",
    "build_binary_tree(pt)\n",
    "print(pt)"
   ]
  },
  {
   "cell_type": "code",
   "execution_count": 39,
   "metadata": {},
   "outputs": [],
   "source": [
    "def draw_tree(tree): \n",
    "    pygame.init() \n",
    "\n",
    "    # game constants \n",
    "    display_width = 1800 \n",
    "    display_height = 1200\n",
    "    ## colors\n",
    "    BLACK = (0, 0, 0)\n",
    "    WHITE = (255, 255, 255)\n",
    "    RED = (255, 0, 0)\n",
    "    GREEN  = (0, 255, 0)\n",
    "    BLUE = (0, 0, 255)\n",
    "    #Main game objects \n",
    "    gameDisplay = pygame.display.set_mode((display_width, display_height))\n",
    "    pygame.display.set_caption('Binary Tree')\n",
    "    clock = pygame.time.Clock() \n",
    "    ### text_objects \n",
    "    def text_objects(text, font, color):\n",
    "        text_surface = font.render(text, True, color)\n",
    "        return text_surface, text_surface.get_rect() \n",
    "\n",
    "    def node_display(text, location):\n",
    "        large_font = pygame.font.Font('freesansbold.ttf', 50)\n",
    "        text_surf, text_rect = text_objects(\" \"+text+\" \", large_font, BLACK)\n",
    "        pygame.draw.rect(text_surf, BLUE, text_rect, 5)\n",
    "        gameDisplay.blit(text_surf, location)\n",
    "\n",
    "    def arrow(screen, lcolor, tricolor, start, end, trirad = 10, thickness=5):\n",
    "        rad = math.pi/180 \n",
    "        pygame.draw.line(screen, lcolor, start, end, thickness)\n",
    "        rotation = (math.atan2(start[1] - end[1], end[0] - start[0])) + math.pi/2\n",
    "        pygame.draw.polygon(screen, tricolor, ((end[0] + trirad * math.sin(rotation),\n",
    "                                            end[1] + trirad * math.cos(rotation)),\n",
    "                                           (end[0] + trirad * math.sin(rotation - 120*rad),\n",
    "                                            end[1] + trirad * math.cos(rotation - 120*rad)),\n",
    "                                           (end[0] + trirad * math.sin(rotation + 120*rad),\n",
    "                                            end[1] + trirad * math.cos(rotation + 120*rad))))\n",
    "\n",
    "    def main_loop():\n",
    "        Exit = False\n",
    "        while not Exit:\n",
    "            for event in pygame.event.get():\n",
    "                if event.type == pygame.QUIT:\n",
    "                    Exit = True\n",
    "            gameDisplay.fill(WHITE)\n",
    "            for node in tree.inorder_draw():\n",
    "                node_display(node[0], location = (node[1], node[2]*10))\n",
    "                if len(node) ==5: \n",
    "                    arrow(gameDisplay, RED, BLACK, (node[3]+10, node[4]*10 + 50), (node[1]+10, node[2]*10))\n",
    "            pygame.display.update()\n",
    "            clock.tick(25)\n",
    "\n",
    "    main_loop()\n",
    "    pygame.quit()\n",
    "    \n",
    "#draw_tree(pt)"
   ]
  },
  {
   "cell_type": "markdown",
   "metadata": {},
   "source": [
    "C-8.56 The indented parenthetic representation of a tree T is a variation of the parenthetic representation of T (see Code Fragment 8.25) that uses indentation and line breaks as illustrated in Figure 8.24. Give an algorithm that prints this representation of a tree."
   ]
  },
  {
   "cell_type": "code",
   "execution_count": 40,
   "metadata": {},
   "outputs": [],
   "source": [
    "class ParentheticBinaryTree(LinkedBinaryTree): \n",
    "    def parenthetic_representation(self): \n",
    "        def _preorder_parenthetic_(position, d):\n",
    "            if self.is_leaf(position): \n",
    "                print(\" \"*5*d + position.element())\n",
    "            else: \n",
    "                print(\" \"*5*d + position.element() + \"(\")\n",
    "                for child in self.children(position):\n",
    "                    _preorder_parenthetic_(child, d+1)\n",
    "                print(\" \"*5*d + \")\")\n",
    "        if not self.is_empty(): \n",
    "            _preorder_parenthetic_(self.root(), 0)"
   ]
  },
  {
   "cell_type": "code",
   "execution_count": 41,
   "metadata": {},
   "outputs": [],
   "source": [
    "def build_department_tree(tree): \n",
    "    tree._add_root('Sales')\n",
    "    root = tree.root() \n",
    "    tree._add_left(root, 'Domestic')\n",
    "    tree._add_right(root, 'International')\n",
    "    \n",
    "    tree._add_left(tree.right(root), \"Canada\")\n",
    "    tree._add_right(tree.right(root), \"Over-seas\")\n",
    "    tree._add_left(tree.right(tree.right(root)), 'Europe')\n",
    "    tree._add_right(tree.right(tree.right(root)), 'Africa')"
   ]
  },
  {
   "cell_type": "code",
   "execution_count": 42,
   "metadata": {},
   "outputs": [
    {
     "name": "stdout",
     "output_type": "stream",
     "text": [
      "Sales(\n",
      "     Domestic\n",
      "     International(\n",
      "          Canada\n",
      "          Over-seas(\n",
      "               Europe\n",
      "               Africa\n",
      "          )\n",
      "     )\n",
      ")\n"
     ]
    }
   ],
   "source": [
    "bt = ParentheticBinaryTree()\n",
    "build_department_tree(bt)\n",
    "bt.parenthetic_representation()"
   ]
  },
  {
   "cell_type": "markdown",
   "metadata": {},
   "source": [
    "C-8.57 Let T be a binary tree with n positions. Define a Roman position to be a position p in T , such that the number of descendants in p’s left subtree differ from the number of descendants in p’s right subtree by at most 5.\n",
    "Describe a linear-time method for finding each position p of T , such that p is not a Roman position, but all of p’s descendants are Roman."
   ]
  },
  {
   "cell_type": "code",
   "execution_count": 43,
   "metadata": {},
   "outputs": [],
   "source": [
    "class RomanPositionTree(LinkedBinaryTree): \n",
    "    def get_num_descendants(self): \n",
    "        num_descendants = []  \n",
    "        def _traverse(position):\n",
    "            if position:\n",
    "                if self.is_leaf(position):\n",
    "                    num_descendants.append((position.element(), 0, 0, True, True, False)) \n",
    "                    return 0, 0, True, True\n",
    "                else:\n",
    "                    l1, r1, rom_1, cond_1 = _traverse(self.left(position))\n",
    "                    if self.left(position) is not None:\n",
    "                        l1+=1 \n",
    "                    l2, r2, rom_2, cond_2  = _traverse(self.right(position))\n",
    "                    if self.right(position) is not None: \n",
    "                        r2 +=1 \n",
    "                    L, R = l1+r1, l2+r2\n",
    "                    \n",
    "                    ROM = (abs(L-R) <=5) \n",
    "                    all_ROM = rom_1 and rom_2 and cond_1 and cond_2\n",
    "                    condition = not ROM and all_ROM\n",
    "                    num_descendants.append((position.element(), L, R, ROM, all_ROM, condition))\n",
    "                    \n",
    "                return l1+r1, l2+r2, ROM, all_ROM\n",
    "            else:\n",
    "                return 0, 0, True, True  \n",
    "\n",
    "        if not self.is_empty():\n",
    "            _traverse(self.root())        \n",
    "        return num_descendants\n",
    "\n",
    "roman_tree = RomanPositionTree()\n",
    "build_binary_tree(roman_tree)"
   ]
  },
  {
   "cell_type": "code",
   "execution_count": 44,
   "metadata": {},
   "outputs": [
    {
     "name": "stdout",
     "output_type": "stream",
     "text": [
      "[('h', 0, 0, True, True, False), ('i', 0, 0, True, True, False), ('d', 1, 1, True, True, False), ('j', 0, 0, True, True, False), ('k', 0, 0, True, True, False), ('e', 1, 1, True, True, False), ('b', 3, 3, True, True, False), ('l', 0, 0, True, True, False), ('m', 0, 0, True, True, False), ('f', 1, 1, True, True, False), ('XX', 0, 0, True, True, False), ('n', 0, 1, True, True, False), ('o', 0, 0, True, True, False), ('g', 2, 1, True, True, False), ('c', 3, 4, True, True, False), ('a', 7, 8, True, True, False)]\n"
     ]
    }
   ],
   "source": [
    "print(roman_tree.get_num_descendants())"
   ]
  },
  {
   "cell_type": "code",
   "execution_count": 45,
   "metadata": {},
   "outputs": [],
   "source": [
    "new_tree = DrawableBinaryTree()\n",
    "new_tree._add_root(\"a\")\n",
    "root = new_tree.root()\n",
    "new_tree._add_left(root, \"b\")\n",
    "new_tree._add_right(root, \"c\")\n",
    "pos = new_tree.right(root)\n",
    "for i in range(7): \n",
    "    pos = new_tree._add_right(pos, str(i))\n",
    "\n",
    "pos_2 = new_tree.right(root)\n",
    "\n",
    "for i in range(1, 8): \n",
    "    pos_2 = new_tree._add_left(pos_2, str(i*10))\n",
    "    \n",
    "#draw_tree(new_tree)"
   ]
  },
  {
   "cell_type": "code",
   "execution_count": 46,
   "metadata": {},
   "outputs": [
    {
     "name": "stdout",
     "output_type": "stream",
     "text": [
      "('b', 0, 0, True, True, False)\n",
      "('70', 0, 0, True, True, False)\n",
      "('60', 1, 0, True, True, False)\n",
      "('50', 2, 0, True, True, False)\n",
      "('40', 3, 0, True, True, False)\n",
      "('30', 4, 0, True, True, False)\n",
      "('20', 5, 0, True, True, False)\n",
      "('10', 6, 0, False, True, True) !! this is not Roman, but descendants are. !!\n",
      "('6', 0, 0, True, True, False)\n",
      "('5', 0, 1, True, True, False)\n",
      "('4', 0, 2, True, True, False)\n",
      "('3', 0, 3, True, True, False)\n",
      "('2', 0, 4, True, True, False)\n",
      "('1', 0, 5, True, True, False)\n",
      "('0', 0, 6, False, True, True) !! this is not Roman, but descendants are. !!\n",
      "('c', 7, 7, True, False, False)\n",
      "('a', 1, 15, False, False, False)\n"
     ]
    }
   ],
   "source": [
    "new_tree = RomanPositionTree()\n",
    "new_tree._add_root(\"a\")\n",
    "root = new_tree.root()\n",
    "new_tree._add_left(root, \"b\")\n",
    "new_tree._add_right(root, \"c\")\n",
    "pos = new_tree.right(root)\n",
    "for i in range(7): \n",
    "    pos = new_tree._add_right(pos, str(i))\n",
    "pos_2 = new_tree.right(root)\n",
    "for i in range(1, 8): \n",
    "    pos_2 = new_tree._add_left(pos_2, str(i*10))\n",
    "\n",
    "for desc in new_tree.get_num_descendants():\n",
    "    if (desc[-1]):\n",
    "        print(desc, end = ' ')\n",
    "        print(\"!! this is not Roman, but descendants are. !!\")\n",
    "    else:\n",
    "        print(desc)\n",
    "        "
   ]
  },
  {
   "cell_type": "markdown",
   "metadata": {},
   "source": [
    "C-8.58 Let T be a tree with n positions. Define the lowest common ancestor (LCA) between two positions p and q as the lowest position in T that has both p and q as descendants (where we allow a position to be a descendant\n",
    "of itself). Given two positions p and q, describe an efficient algorithm for finding the LCA of p and q. What is the running time of your algorithm?"
   ]
  },
  {
   "cell_type": "code",
   "execution_count": 47,
   "metadata": {},
   "outputs": [],
   "source": [
    "class LeastCommonAncestorTree(DrawableBinaryTree): \n",
    "    def get_LCA(self, position, a, b):\n",
    "        if position: \n",
    "            if (position == a) or (position == b):\n",
    "                return position\n",
    "    \n",
    "            l = self.get_LCA(self.left(position), a, b)\n",
    "            r = self.get_LCA(self.right(position), a, b) \n",
    "\n",
    "            if l is not None and r is not None:\n",
    "                return position                \n",
    "            \n",
    "            return l if l else r       \n"
   ]
  },
  {
   "cell_type": "code",
   "execution_count": 48,
   "metadata": {},
   "outputs": [
    {
     "name": "stdout",
     "output_type": "stream",
     "text": [
      "i\n",
      "j\n",
      "XX\n",
      "l\n",
      "n\n",
      "o\n"
     ]
    }
   ],
   "source": [
    "# targeted_nodes:\n",
    "bt = LeastCommonAncestorTree()\n",
    "build_binary_tree(bt)\n",
    "root = bt.root() \n",
    "\n",
    "p_i = bt.right(bt.left(bt.left(root)))\n",
    "p_j = bt.left(bt.right(bt.left(root)))\n",
    "p_xx = bt.right(bt.left(bt.right(bt.right(root))))\n",
    "p_l = bt.left(bt.left(bt.right(root)))\n",
    "p_n = bt.left(bt.right(bt.right(root)))\n",
    "p_o = bt.right(bt.right(bt.right(root)))\n",
    "\n",
    "print(p_i.element())\n",
    "print(p_j.element())\n",
    "print(p_xx.element())\n",
    "print(p_l.element())\n",
    "print(p_n.element())\n",
    "print(p_o.element())"
   ]
  },
  {
   "cell_type": "code",
   "execution_count": 49,
   "metadata": {},
   "outputs": [
    {
     "name": "stdout",
     "output_type": "stream",
     "text": [
      "c\n"
     ]
    }
   ],
   "source": [
    "z = bt.get_LCA(bt.root(), p_l, p_xx)\n",
    "print(z.element())"
   ]
  },
  {
   "cell_type": "code",
   "execution_count": 50,
   "metadata": {},
   "outputs": [
    {
     "data": {
      "text/plain": [
       "'b'"
      ]
     },
     "execution_count": 50,
     "metadata": {},
     "output_type": "execute_result"
    }
   ],
   "source": [
    "def get_Lowest_Common_Ancestor(tree, p_x, p_y): \n",
    "    def _get_ancestor_list(tree, node):\n",
    "        z = [] \n",
    "        while(True):\n",
    "            node = tree.parent(node)\n",
    "            if node is None:\n",
    "                break \n",
    "            z.append(node.element())\n",
    "        return z\n",
    "    a = _get_ancestor_list(tree, p_x)\n",
    "    b = _get_ancestor_list(tree, p_y)\n",
    "    for i in range(min(len(a), len(b))): \n",
    "        x = a[len(a) -1 - i]\n",
    "        y = b[len(b) -1 - i]\n",
    "        if x == y:\n",
    "            continue\n",
    "        else:\n",
    "            return a[len(a) - i]\n",
    "        \n",
    "get_Lowest_Common_Ancestor(bt, p_i, p_j)"
   ]
  },
  {
   "cell_type": "markdown",
   "metadata": {},
   "source": [
    "C-8.59 Let T be a binary tree with n positions, and, for any position p in T , let dp denote the depth of p in T . The distance between two positions p and q in T is d p +dq −2da, where a is the lowest common ancestor (LCA) of p and q. The diameter of T is the maximum distance between two positions in T . Describe an efficient algorithm for finding the diameter of T . What is the running time of your algorithm?"
   ]
  },
  {
   "cell_type": "code",
   "execution_count": 51,
   "metadata": {},
   "outputs": [],
   "source": [
    "# algorithm description: \n",
    "# as a node your job is to\n",
    "# a) calculate your diameter = (Lh + Rh)+1, if it's larger than the answer so far store it. \n",
    "# b) return your height to your paren.\n",
    "def get_diameter(tree):\n",
    "    diam = [0] \n",
    "    def _get_height(position): \n",
    "        if position: \n",
    "            left_height = _get_height(tree.left(position))\n",
    "            right_height = _get_height(tree.right(position))\n",
    "            diam[0] = max(diam[0], (left_height+right_height+1))\n",
    "            return max(left_height , right_height)+1\n",
    "        return 0\n",
    "    _get_height(tree.root())\n",
    "    return diam[0] "
   ]
  },
  {
   "cell_type": "code",
   "execution_count": 52,
   "metadata": {},
   "outputs": [
    {
     "data": {
      "text/plain": [
       "15"
      ]
     },
     "execution_count": 52,
     "metadata": {},
     "output_type": "execute_result"
    }
   ],
   "source": [
    "get_diameter(new_tree)"
   ]
  },
  {
   "cell_type": "markdown",
   "metadata": {},
   "source": [
    "C-8.60 Suppose each position p of a binary tree T is labeled with its value f(p) in a level numbering of T . Design a fast method for determining f(a) for the lowest common ancestor (LCA), a, of two positions p and q in T , given f(p) and f(q). You do not need to find position a, just value f(a)."
   ]
  },
  {
   "cell_type": "code",
   "execution_count": 53,
   "metadata": {},
   "outputs": [
    {
     "name": "stdout",
     "output_type": "stream",
     "text": [
      "1 0b1 1\n",
      "2 0b10 2\n",
      "3 0b11 2\n",
      "4 0b100 2\n",
      "5 0b101 2\n",
      "6 0b110 2\n",
      "7 0b111 2\n",
      "8 0b1000 3\n",
      "9 0b1001 3\n",
      "10 0b1010 3\n",
      "11 0b1011 3\n",
      "12 0b1100 3\n",
      "13 0b1101 3\n",
      "14 0b1110 3\n",
      "15 0b1111 3\n",
      "16 0b10000 3\n",
      "17 0b10001 3\n",
      "18 0b10010 3\n",
      "19 0b10011 3\n",
      "20 0b10100 3\n",
      "21 0b10101 3\n",
      "22 0b10110 3\n",
      "23 0b10111 3\n",
      "24 0b11000 3\n",
      "25 0b11001 3\n",
      "26 0b11010 3\n",
      "27 0b11011 3\n",
      "28 0b11100 3\n",
      "29 0b11101 3\n",
      "30 0b11110 3\n"
     ]
    }
   ],
   "source": [
    "# Notice the pattern in the binary numbers \n",
    "# F(LCA(a, b)) = DIC(common bits in binary representation of both left aligned)*2\n",
    "# This is fast Log(n), can be optimized by more bit manipulation, but this is fast enough. \n",
    "for i in range(1, 31):\n",
    "    print(i, bin(i), len(bin(i))//2)"
   ]
  },
  {
   "cell_type": "code",
   "execution_count": 54,
   "metadata": {},
   "outputs": [],
   "source": [
    "def get_LCA_level_number(a, b): \n",
    "    x = bin(a)[2:]\n",
    "    y = bin(b)[2:]\n",
    "    for i in range(min(len(x), len(y))):\n",
    "        if x[i] != y[i]: \n",
    "            break\n",
    "    return int(x[:i], 2)"
   ]
  },
  {
   "cell_type": "markdown",
   "metadata": {},
   "source": [
    "C-8.61 Give an alternative implementation of the build expression tree method of the ExpressionTree class that relies on recursion to perform an implicit Euler tour of the tree that is being built."
   ]
  },
  {
   "cell_type": "code",
   "execution_count": 55,
   "metadata": {},
   "outputs": [],
   "source": [
    "class ExpressionTree(DrawableBinaryTree):\n",
    "    def __init__(self, token, left = None, right = None):\n",
    "        super().__init__() \n",
    "        if not isinstance(token, str):\n",
    "            raise TypeError('Token must be a string !')\n",
    "        self._add_root(token)\n",
    "        if left is not None and right is not None: \n",
    "            if token not in '+-*/': \n",
    "                raise ValueError('Token must be a valid operator !')\n",
    "            self._attach(self.root(), left, right)\n",
    "            \n",
    "    def __str__(self):\n",
    "        pieces = [] \n",
    "        self._parenthesize_recur(self.root(), pieces)\n",
    "        return ''.join(pieces)\n",
    "    \n",
    "    def _parenthesize_recur(self, position, result):\n",
    "        if position: \n",
    "            if self.is_leaf(position):\n",
    "                result.append(position.element())\n",
    "            else:\n",
    "                result.append('(')\n",
    "                self._parenthesize_recur(self.left(position), result)\n",
    "                result.append(position.element())\n",
    "                self._parenthesize_recur(self.right(position), result)\n",
    "                result.append(')')\n",
    "    \n",
    "    def evaluate(self):\n",
    "        return self._evaluate_recur(self.root())\n",
    "    \n",
    "    def _evaluate_recur(self, position):\n",
    "        if self.is_leaf(position):\n",
    "            return position.element()\n",
    "        else:\n",
    "            operation = position.element()\n",
    "            left_value = float(self._evaluate_recur(self.left(position)))\n",
    "            right_value = float(self._evaluate_recur(self.right(position)))\n",
    "            \n",
    "            if operation == '+':\n",
    "                return left_value + right_value\n",
    "            elif operation == '-':\n",
    "                return left_value - right_value\n",
    "            elif operation == '*':\n",
    "                return left_value * right_value\n",
    "            else:\n",
    "                return left_value / right_value"
   ]
  },
  {
   "cell_type": "code",
   "execution_count": 56,
   "metadata": {},
   "outputs": [],
   "source": [
    "# iterative method, also we use tokenize method implemented earlier  \n",
    "\n",
    "def build_expression_tree(tokens, Tree):\n",
    "    stack = []\n",
    "    for token in tokens:\n",
    "        if token.isalnum():\n",
    "            stack.append(Tree(token))\n",
    "        if token in '+-*/':\n",
    "            stack.append(token)\n",
    "        elif token == ')':\n",
    "            right = stack.pop()\n",
    "            operation = stack.pop()\n",
    "            left = stack.pop()\n",
    "            stack.append(Tree(operation, left, right))\n",
    "    return stack.pop() "
   ]
  },
  {
   "cell_type": "code",
   "execution_count": 57,
   "metadata": {},
   "outputs": [
    {
     "name": "stdout",
     "output_type": "stream",
     "text": [
      "['(', '(', '3', '+', '2', ')', '*', '(', '2', '+', '4', ')', ')', '+', '10', ')']\n"
     ]
    },
    {
     "data": {
      "text/plain": [
       "40.0"
      ]
     },
     "execution_count": 57,
     "metadata": {},
     "output_type": "execute_result"
    }
   ],
   "source": [
    "tokens = tokenize('((3+2)*(2+4))+10)')\n",
    "print(tokens)\n",
    "exp = build_expression_tree(tokens, ExpressionTree)\n",
    "exp.evaluate()\n",
    "#draw_tree(exp)"
   ]
  },
  {
   "cell_type": "code",
   "execution_count": 58,
   "metadata": {},
   "outputs": [],
   "source": [
    "def get_next_token(expression):\n",
    "    first_pass = (''.join(j) for k, j in groupby(expression, str.isdigit)) \n",
    "    second_pass = (list(i) if not i.isdigit() else i for i in first_pass)\n",
    "    for element in second_pass:\n",
    "        if isinstance(element, str):\n",
    "            yield element\n",
    "        if isinstance(element, list):\n",
    "            if len(element) == 1:\n",
    "                yield element[0]\n",
    "            else:\n",
    "                for item in element:\n",
    "                    yield item"
   ]
  },
  {
   "cell_type": "code",
   "execution_count": 59,
   "metadata": {},
   "outputs": [
    {
     "name": "stdout",
     "output_type": "stream",
     "text": [
      "( False\n",
      "3 False\n",
      "+ False\n",
      "4 False\n",
      ") True\n"
     ]
    }
   ],
   "source": [
    "itr = iter(get_next_token('(3+4)'))\n",
    "for i in range (5):\n",
    "    item = next(itr) \n",
    "    print(item, item ==')') "
   ]
  },
  {
   "cell_type": "code",
   "execution_count": 60,
   "metadata": {},
   "outputs": [],
   "source": [
    "def build_exp_tree_recursively(expression, Tree): \n",
    "    tokens = iter(get_next_token(expression)) \n",
    "    def _recur_prase_exp(token): \n",
    "        if token == '(': \n",
    "            left_subtree = _recur_prase_exp(token = next(tokens))\n",
    "            op = next(tokens)\n",
    "            \n",
    "            if op == ')': \n",
    "                op = next(tokens)\n",
    "            \n",
    "            righ_subtree = _recur_prase_exp(token = next(tokens))\n",
    "            return Tree(op, left_subtree, righ_subtree)\n",
    "\n",
    "        if token.isdigit(): \n",
    "            return Tree(token) \n",
    "            \n",
    "    return _recur_prase_exp(token = next(tokens))"
   ]
  },
  {
   "cell_type": "code",
   "execution_count": 61,
   "metadata": {},
   "outputs": [
    {
     "data": {
      "text/plain": [
       "70.0"
      ]
     },
     "execution_count": 61,
     "metadata": {},
     "output_type": "execute_result"
    }
   ],
   "source": [
    "exp_tree = build_exp_tree_recursively('(((3+2)+(4+5)*5)', ExpressionTree) \n",
    "#draw_tree(exp_tree)\n",
    "exp_tree.evaluate()                                     \n",
    "                                      "
   ]
  },
  {
   "cell_type": "markdown",
   "metadata": {},
   "source": [
    "C-8.62 Note that the build expression tree function of the ExpressionTree class is written in such a way that a leaf token can be any string; for example, it parses the expression (a*(b+c)) . However, within the evaluate method, an error would occur when attempting to convert a leaf token to a number. Modify the evaluate method to accept an optional Python dictionary that can be used to map such string variables to numeric values, with a syntax such as T.evaluate({ a :3, b :1, c :5}). In this way, the same algebraic expression can be evaluated using different values."
   ]
  },
  {
   "cell_type": "code",
   "execution_count": 62,
   "metadata": {},
   "outputs": [],
   "source": [
    "class symbolicExpressionTree(ExpressionTree):\n",
    "    \n",
    "    def evaluate(self, symbols = None):\n",
    "        if symbols is None:\n",
    "            return super()._evaluate_recur(self.root())\n",
    "        else:\n",
    "            return self._evaluate_recur(self.root(), symbols)\n",
    "            \n",
    "    def _evaluate_recur(self, position, symbols):\n",
    "        if self.is_leaf(position):\n",
    "            operand = position.element()\n",
    "            return operand if operand.isdigit() else symbols[operand]\n",
    "        else:\n",
    "            operation = position.element()\n",
    "            left_value = float(self._evaluate_recur(self.left(position), symbols)) \n",
    "            right_value = float(self._evaluate_recur(self.right(position), symbols)) \n",
    "            \n",
    "            if operation == '+':\n",
    "                return left_value + right_value\n",
    "            elif operation == '-':\n",
    "                return left_value - right_value\n",
    "            elif operation == '*':\n",
    "                return left_value * right_value\n",
    "            else:\n",
    "                return left_value / right_value"
   ]
  },
  {
   "cell_type": "code",
   "execution_count": 63,
   "metadata": {},
   "outputs": [
    {
     "data": {
      "text/plain": [
       "-15.0"
      ]
     },
     "execution_count": 63,
     "metadata": {},
     "output_type": "execute_result"
    }
   ],
   "source": [
    "tokens = tokenize('((a+b)-(5*c))')\n",
    "exp = build_expression_tree(tokens, symbolicExpressionTree) \n",
    "exp.evaluate(symbols={'a':2, 'b':3, 'c':4})"
   ]
  },
  {
   "cell_type": "markdown",
   "metadata": {},
   "source": [
    "C-8.63 As mentioned in Exercise C-6.22, postfix notation is an unambiguous way of writing an arithmetic expression without parentheses. It is defined so that if “(exp1)op(exp2)” is a normal (infix) fully parenthesized expression with operation op, then its postfix equivalent is “pexp1 pexp2 op”, where pexp1 is the postfix version of exp1 and pexp2 is the postfix version of exp2. The postfix version of a single number or variable is just that number or variable. So, for example, the postfix version of the infix expression “((5 + 2) ∗ (8 − 3))/4” is “5 2 + 8 3 − ∗ 4 /”. Implement a postfix method of the ExpressionTree class of Section 8.5 that produces the postfix notation for the given expression"
   ]
  },
  {
   "cell_type": "code",
   "execution_count": 64,
   "metadata": {},
   "outputs": [],
   "source": [
    "class postfixExpressionTree(ExpressionTree): \n",
    "    \n",
    "    def postfix(self):\n",
    "        def _recur_postfix(position): \n",
    "            if self.is_leaf(position):\n",
    "                print(position.element(), end = ' ')\n",
    "            else:\n",
    "                l = _recur_postfix(self.left(position))\n",
    "                r = _recur_postfix(self.right(position))\n",
    "                print(position.element(), end = ' ')\n",
    "                \n",
    "        _recur_postfix(self.root())"
   ]
  },
  {
   "cell_type": "code",
   "execution_count": 65,
   "metadata": {},
   "outputs": [],
   "source": [
    "exp = build_expression_tree(tokenize('((1+2)-(5*3))'), postfixExpressionTree)  "
   ]
  },
  {
   "cell_type": "code",
   "execution_count": 66,
   "metadata": {},
   "outputs": [
    {
     "name": "stdout",
     "output_type": "stream",
     "text": [
      "((1+2)-(5*3))\n",
      "1 2 + 5 3 * - "
     ]
    }
   ],
   "source": [
    "print(exp)\n",
    "exp.postfix() "
   ]
  },
  {
   "cell_type": "markdown",
   "metadata": {},
   "source": [
    "****Project Problems***"
   ]
  },
  {
   "cell_type": "markdown",
   "metadata": {},
   "source": [
    "P-8.64 Implement the binary tree ADT using the array-based representation described in Section 8.3.2."
   ]
  },
  {
   "cell_type": "code",
   "execution_count": 87,
   "metadata": {},
   "outputs": [],
   "source": [
    "class ArrayBinaryTree(BinaryTree):\n",
    "\n",
    "    class _Node:\n",
    "        __slots__ = '_element', '_index'\n",
    "        def __init__(self, element, index = None):\n",
    "            self._element = element\n",
    "            self._index = index \n",
    "            \n",
    "    class Position(BinaryTree.Position):\n",
    "        def __init__(self, container, node):\n",
    "            self._container = container \n",
    "            self._node = node\n",
    "        def element(self):\n",
    "            return self._node._element \n",
    "        def __eq__(self, other): \n",
    "            return type(other) is type(self) and self._node is other._node      \n",
    "        \n",
    "    def _validate(self, p):\n",
    "        if not isinstance(p, self.Position):\n",
    "            raise TypeError(\"p must be proper Position type\")\n",
    "        if p._container is not self:\n",
    "            raise ValueError('p does not belong to this container') \n",
    "        return p._node \n",
    "\n",
    "    def _make_position(self, node): \n",
    "        return self.Position(self, node) if node is not None else None \n",
    "    \n",
    "    def __init__(self):\n",
    "        self._root = None \n",
    "        self._data = []\n",
    "        self._height = 0 \n",
    "        self._size = 0 \n",
    "        \n",
    "    def __len__(self):\n",
    "        return self._size \n",
    "    \n",
    "    def root(self):\n",
    "        return self._make_position(self._data[0]) \n",
    "    \n",
    "    def parent(self, p):\n",
    "        index = self._validate(p)._index \n",
    "        try: \n",
    "            pos = self._make_position(self._data[(index-1)//2])\n",
    "        except:\n",
    "            pos = None \n",
    "        return pos \n",
    "    \n",
    "    def left(self, p):\n",
    "        index = self._validate(p)._index\n",
    "        try: \n",
    "            pos = self._make_position(self._data[(2*index+1)])\n",
    "        except:\n",
    "            pos = None \n",
    "        return pos \n",
    "    \n",
    "    def right(self, p):\n",
    "        index = self._validate(p)._index\n",
    "        try: \n",
    "            pos = self._make_position(self._data[(2*index+2)])\n",
    "        except:\n",
    "            pos = None \n",
    "        return pos \n",
    "    \n",
    "    def size(self):\n",
    "        return self._size \n",
    "    \n",
    "    def _add_root(self, e):\n",
    "        if self._root is not None: raise ValueError('root already exists !')\n",
    "        self._root = self._Node(e, index = 0)\n",
    "        self._data.append(self._root) \n",
    "        self._size = 1\n",
    "        self._height = 1 \n",
    "        return self._make_position(self._root)\n",
    "    \n",
    "    def _add_left(self, p, e):\n",
    "        positioned_node = self._validate(p)\n",
    "        pn_index = positioned_node._index\n",
    "        left_index = 2*pn_index + 1\n",
    "        try: \n",
    "            left_pn_node = self._data[left_index]\n",
    "        except: \n",
    "            left_pn_node = None \n",
    "        \n",
    "        if left_pn_node is not None: raise ValueError('left position is not empty !')\n",
    "        \n",
    "        max_elements = 2**(self._height)\n",
    "        if len(self._data) <= max_elements-1:\n",
    "            self._data.extend([None]* max_elements) \n",
    "            self._height += 1\n",
    "        \n",
    "        self._data[left_index] = self._Node(e, index = left_index)\n",
    "        self._size += 1 \n",
    "        return self._make_position(self._data[left_index])\n",
    "    \n",
    "    def _add_right(self, p, e):\n",
    "        positioned_node = self._validate(p)\n",
    "        pn_index = positioned_node._index\n",
    "        right_index = 2*pn_index + 2\n",
    "        try: \n",
    "            right_pn_node = self._data[right_index]\n",
    "        except: \n",
    "            right_pn_node = None \n",
    "        \n",
    "        if right_pn_node is not None: raise ValueError('right position is not empty !')\n",
    "        \n",
    "        max_elements = 2**(self._height)\n",
    "        if len(self._data) <= max_elements-1:\n",
    "            self._data.extend([None]* max_elements) \n",
    "            self._height += 1\n",
    "        \n",
    "        self._data[right_index] = self._Node(e, index = right_index)\n",
    "        self._size += 1 \n",
    "        return self._make_position(self._data[right_index])\n",
    "    \n",
    "#     def _replace(self, p, e):\n",
    "#         positioned_node = self._validate(p)\n",
    "#         old_value = positioned_node._element\n",
    "#         positioned_node._element = e\n",
    "#         return old_value \n",
    "    \n",
    "#     def _delete(self, p):\n",
    "#         node = self._validate(p)\n",
    "#         if self.num_children(p)==2: raise ValueError('p has 2 children')\n",
    "#         child = node._left if node._left else node._right\n",
    "#         if child is not None:\n",
    "#             child._parent = node._parent \n",
    "#         if node is self._root:\n",
    "#             self._root = child \n",
    "#         else:\n",
    "#             parent = node._parent\n",
    "#             if child == node._left:\n",
    "#                 parent._left = child\n",
    "#             else:\n",
    "#                 parent._right = child\n",
    "#         self._size -= 1\n",
    "#         node._parent = node\n",
    "#         return node._element \n",
    "    \n",
    "#     def _attach(self, p, t1, t2):\n",
    "#         node = self._validate(p)\n",
    "#         if not self.is_leaf(p): raise ValueError('p must be a leaf position')\n",
    "#         if not (type(self) == type(t1) == type(t2)): raise TypeError('Invalid types for trees')\n",
    "#         self._size += len(t1) + len(t2)\n",
    "#         if not t1.is_empty():\n",
    "#             t1._root._parent = node \n",
    "#             node._left = t1._root \n",
    "#             t1._root = None  # ??? \n",
    "#             t1._size = 0\n",
    "#         if not t2.is_empty():\n",
    "#             t2._root._parent = node\n",
    "#             node._right = t2._root \n",
    "#             t2._root = None\n",
    "#             t2._size = 0\n",
    "            \n",
    "#     def _delete_subtree(self, p):\n",
    "#         parent = self.parent(p)\n",
    "#         parent_node = self._validate(parent) \n",
    "#         num_desc = self.num_descendants(p)\n",
    "        \n",
    "#         if self.left(parent) == p:\n",
    "#             parent_node._left = None \n",
    "#         else:\n",
    "#             parent_node._right = None\n",
    "#         self._size -= num_desc +1\n",
    "        \n",
    "#         deleted_node = self._validate(p)\n",
    "#         deleted_node._parent = None\n",
    "        \n",
    "#     def _swap(self, p, q): \n",
    "#         first_node = self._validate(p)\n",
    "#         second_node = self._validate(q)\n",
    "        \n",
    "#         if first_node._parent is second_node._parent:\n",
    "#             first_node._parent._left, first_node._parent._right = first_node._parent._right, first_node._parent._left\n",
    "        \n",
    "#         else:\n",
    "#             #swap parents\n",
    "#             first_node._parent, second_node._parent = second_node._parent, first_node._parent\n",
    "#             # check if first was left, put second in left else do put in right \n",
    "#             if second_node._parent._left == first_node:\n",
    "#                 second_node._parent._left = second_node\n",
    "#             else:\n",
    "#                 second_node._parent._right = second_node \n",
    "\n",
    "#             if first_node._parent._left == second_node: \n",
    "#                 first_node._parent._left = first_node\n",
    "#             else:\n",
    "#                 first_node._parent._right = first_node \n",
    "            \n",
    "#     def __iter__(self):\n",
    "#         for position in self.positions():\n",
    "#             yield position.element()\n",
    "            \n",
    "#     def preorder(self):\n",
    "#         if not self.is_empty():\n",
    "#             for p in self._subtree_preorder(self.root()): \n",
    "#                 yield p \n",
    "#     def _subtree_preorder(self, p): \n",
    "#         yield p\n",
    "#         for c in self.children(p): \n",
    "#             for other in self._subtree_preorder(c):\n",
    "#                 yield other\n",
    "                \n",
    "#     def postorder(self):\n",
    "#         if not self.is_empty():\n",
    "#             for p in self._subtree_postorder(self.root()):\n",
    "#                 yield p\n",
    "#     def _subtree_postorder(self, p):\n",
    "#         for c in self.children(p):\n",
    "#             for other in self._subtree_postorder(c):\n",
    "#                 yield other\n",
    "#         yield p \n",
    "        \n",
    "#     def BFS(self):\n",
    "#         if not self.is_empty():\n",
    "#             frontier = deque()\n",
    "#             frontier.append(self.root())\n",
    "#             while len(frontier) != 0:\n",
    "#                 p = frontier.popleft()\n",
    "#                 yield p \n",
    "#                 for c in self.children(p): \n",
    "#                     frontier.append(c)\n",
    "                    \n",
    "#     def inorder(self): \n",
    "#         if not self.is_empty():\n",
    "#             for p in self._subtree_inorder(self.root()):\n",
    "#                 yield p \n",
    "                \n",
    "#     def _subtree_inorder(self, p):\n",
    "#         if self.left(p) is not None:\n",
    "#             for other in self._subtree_inorder(self.left(p)): \n",
    "#                 yield other\n",
    "#         yield p\n",
    "#         if self.right(p) is not None:\n",
    "#             for other in self._subtree_inorder(self.right(p)):\n",
    "#                 yield other\n",
    "                \n",
    "#     def positions(self, pre=False, ino = False, post=False, BFS=False):\n",
    "#         if pre and not ino and not post and not BFS:\n",
    "#             return self.preorder()\n",
    "#         elif ino and not post and not pre and not BFS:\n",
    "#             return self.inorder()\n",
    "#         elif post and not pre and not ino and not BFS:\n",
    "#             return self.postorder()\n",
    "#         elif BFS and not pre and not ino and not post:\n",
    "#             return self.BFS() \n",
    "#         else:\n",
    "#             raise ValueError('Only one argument required')\n",
    "            \n",
    "            \n",
    "#     def __str__(self):\n",
    "#         print_list = [] \n",
    "#         def print_tree(position, print_list, depth):\n",
    "#             print_list.append('-'*depth+'>'*bool(depth)+ '('+str(position.element())+')') \n",
    "#             for c in self.children(position):\n",
    "#                 print_tree(c, print_list, depth + 3)\n",
    "#             return ''.join(item+'\\n' for item in print_list)\n",
    "        \n",
    "#         if not self.is_empty():\n",
    "#             result = print_tree(self.root(), print_list, depth = 0)\n",
    "#             return result\n",
    "#         else:\n",
    "#             return \"\" \n",
    "    \n",
    "#     pass "
   ]
  },
  {
   "cell_type": "code",
   "execution_count": 89,
   "metadata": {},
   "outputs": [
    {
     "name": "stdout",
     "output_type": "stream",
     "text": [
      "<__main__.ArrayBinaryTree._Node object at 0x7f3f74c4b910>\n",
      "None\n",
      "<__main__.ArrayBinaryTree._Node object at 0x7f3f753527f0>\n"
     ]
    }
   ],
   "source": [
    "array_bt = ArrayBinaryTree() \n",
    "array_bt._data\n",
    "\n",
    "array_bt._add_root(1)\n",
    "#print(array_bt._data) \n",
    "\n",
    "array_bt._add_right(array_bt.root(), 2)\n",
    "for item in array_bt._data:\n",
    "    print(item)"
   ]
  },
  {
   "cell_type": "code",
   "execution_count": null,
   "metadata": {},
   "outputs": [],
   "source": []
  }
 ],
 "metadata": {
  "kernelspec": {
   "display_name": "Python 3",
   "language": "python",
   "name": "python3"
  },
  "language_info": {
   "codemirror_mode": {
    "name": "ipython",
    "version": 3
   },
   "file_extension": ".py",
   "mimetype": "text/x-python",
   "name": "python",
   "nbconvert_exporter": "python",
   "pygments_lexer": "ipython3",
   "version": "3.8.3"
  }
 },
 "nbformat": 4,
 "nbformat_minor": 2
}
