{
 "cells": [
  {
   "cell_type": "markdown",
   "metadata": {},
   "source": [
    "### Solutions to the problems of Chapter 8 \n",
    "## Trees "
   ]
  },
  {
   "cell_type": "markdown",
   "metadata": {},
   "source": [
    "##### Implementations to the Tree ADT, Binary Tree, Linked Binary Tree, Array Binary Tree"
   ]
  },
  {
   "cell_type": "code",
   "execution_count": 1,
   "metadata": {},
   "outputs": [
    {
     "name": "stdout",
     "output_type": "stream",
     "text": [
      "pygame 1.9.6\n",
      "Hello from the pygame community. https://www.pygame.org/contribute.html\n"
     ]
    }
   ],
   "source": [
    "import math \n",
    "import time\n",
    "import pygame\n",
    "from collections import deque\n",
    "from itertools import groupby"
   ]
  },
  {
   "cell_type": "code",
   "execution_count": 2,
   "metadata": {},
   "outputs": [],
   "source": [
    "class Tree:\n",
    "    class Position: \n",
    "        def element(self): \n",
    "            raise NotImplementedError('must be implemented by subclass') \n",
    "        def __eq__(self, other):\n",
    "            raise NotImplementedError('must be implemented by subclass') \n",
    "        def __ne__(self, other):\n",
    "            return not (self == other)\n",
    "    \n",
    "    ## accessor methods\n",
    "    \n",
    "    def root(self):\n",
    "        raise NotImplementedError('must be implemented by subclass')\n",
    "    def parent(self, p):\n",
    "        raise NotImplementedError('must be implemented by subclass') \n",
    "    def is_root(self, p):\n",
    "        return self.root() == p \n",
    "    def num_children(self, p):\n",
    "        raise NotImplementedError('must be implemented by subclass')\n",
    "    def children(self, p):\n",
    "        raise NotImplementedError('must be implemented by subclass')\n",
    "    def is_leaf(self, p):\n",
    "        return self.num_children(p) == 0\n",
    "    def __len__(self):\n",
    "        raise NotImplementedError('must be implemented by subclass') \n",
    "    def is_empty(self):\n",
    "        return len(self) == 0\n",
    "    def depth(self, p):\n",
    "        if self.is_root(p):\n",
    "            return 0\n",
    "        else:\n",
    "            return 1 + self.depth(self.parent(p)) \n",
    "        \n",
    "    def height(self, p = None):\n",
    "        def _height(p): \n",
    "            if self.is_leaf(p):\n",
    "                return 0\n",
    "            else:\n",
    "                return 1 + max(_height(n) for n in self.children(p))\n",
    "            \n",
    "        if p is None:\n",
    "            p = self.root()\n",
    "        return _height(p)\n",
    "    \n",
    "        \n",
    "class BinaryTree(Tree): \n",
    "    def left(self, p):\n",
    "        raise NotImplementedError('must be implemented by subclass')\n",
    "    def right(self, p):\n",
    "        raise NotImplementedError('must be implemented by subclass') \n",
    "        \n",
    "    def sibling(self, p):\n",
    "        parent = self.parent(p)\n",
    "        if parent is None:\n",
    "            return None\n",
    "        else:\n",
    "            if p == self.left(parent):\n",
    "                return self.right(parent)\n",
    "            else:\n",
    "                return self.left(parent)\n",
    "            \n",
    "    def children(self, p):\n",
    "        if self.left(p) is not None:\n",
    "            yield self.left(p)\n",
    "        if self.right(p) is not None:\n",
    "            yield self.right(p)\n",
    "            \n",
    "    def num_children(self, p):\n",
    "        num_child = 0 \n",
    "        if self.left(p) is not None:\n",
    "            num_child += 1 \n",
    "        if self.right(p) is not None:\n",
    "            num_child += 1\n",
    "        return num_child\n",
    "    \n",
    "    def num_descendants(self, p):\n",
    "        num = 0 \n",
    "        q = deque() \n",
    "        q.append(p)\n",
    "        while len(q) != 0:\n",
    "            node = q.popleft()\n",
    "            num += self.num_children(node)\n",
    "            for child in self.children(node): \n",
    "                    q.append(child)\n",
    "        return num  \n",
    "\n",
    "class LinkedBinaryTree(BinaryTree):\n",
    "    class _Node:\n",
    "        __slots__ = '_element', '_parent', '_left', '_right'\n",
    "        def __init__(self, element, parent=None, left=None, right=None):\n",
    "            self._element = element\n",
    "            self._parent = parent \n",
    "            self._left = left\n",
    "            self._right = right\n",
    "    \n",
    "    class Position(BinaryTree.Position):\n",
    "        def __init__(self, container, node):\n",
    "            self._container = container \n",
    "            self._node = node\n",
    "        def element(self):\n",
    "            return self._node._element \n",
    "        def __eq__(self, other): \n",
    "            return type(other) is type(self) and self._node is other._node      \n",
    "        \n",
    "    def _validate(self, p):\n",
    "        if not isinstance(p, self.Position):\n",
    "            raise TypeError(\"p must be proper Position type\")\n",
    "        if p._container is not self:\n",
    "            raise ValueError('p does not belong to this container')\n",
    "        if p._node._parent is p._node:\n",
    "            raise ValueError('p is no longer valid')\n",
    "        return p._node  \n",
    "    \n",
    "    def _make_position(self, node): \n",
    "        return self.Position(self, node) if node is not None else None \n",
    "    \n",
    "    def __init__(self):\n",
    "        self._root = None\n",
    "        self._size = 0\n",
    "        \n",
    "    def __len__(self):\n",
    "        return self._size \n",
    "    \n",
    "    def root(self):\n",
    "        return self._make_position(self._root)\n",
    "    \n",
    "    def parent(self, p):\n",
    "        return self._make_position(self._validate(p)._parent)\n",
    "    \n",
    "    def left(self, p):\n",
    "        return self._make_position(self._validate(p)._left)\n",
    "    \n",
    "    def right(self, p):\n",
    "        return self._make_position(self._validate(p)._right)\n",
    "    \n",
    "    def size(self):\n",
    "        return self._size \n",
    "    \n",
    "    def _add_root(self, e):\n",
    "        if self._root is not None: raise ValueError('root already exists !')\n",
    "        self._root = self._Node(e)\n",
    "        self._size = 1\n",
    "        return self._make_position(self._root)\n",
    "    \n",
    "    def _add_left(self, p, e):\n",
    "        positioned_node = self._validate(p)\n",
    "        if positioned_node._left is not None: raise ValueError('left position is not empty !')\n",
    "        positioned_node._left = self._Node(e, parent = positioned_node)\n",
    "        self._size += 1 \n",
    "        return self._make_position(positioned_node._left)\n",
    "    \n",
    "    def _add_right(self, p, e):\n",
    "        positioned_node = self._validate(p)\n",
    "        if positioned_node._right is not None: raise ValueError('left position is not empty !')\n",
    "        positioned_node._right = self._Node(e, parent = positioned_node)\n",
    "        self._size += 1\n",
    "        return self._make_position(positioned_node._right) \n",
    "    \n",
    "    def _replace(self, p, e):\n",
    "        positioned_node = self._validate(p)\n",
    "        old_value = positioned_node._element\n",
    "        positioned_node._element = e\n",
    "        return old_value \n",
    "    \n",
    "    def _delete(self, p):\n",
    "        node = self._validate(p)\n",
    "        if self.num_children(p)==2: raise ValueError('p has 2 children')\n",
    "        child = node._left if node._left else node._right\n",
    "        if child is not None:\n",
    "            child._parent = node._parent \n",
    "        if node is self._root:\n",
    "            self._root = child \n",
    "        else:\n",
    "            parent = node._parent\n",
    "            if child == node._left:\n",
    "                parent._left = child\n",
    "            else:\n",
    "                parent._right = child\n",
    "        self._size -= 1\n",
    "        node._parent = node\n",
    "        return node._element \n",
    "    \n",
    "    def _attach(self, p, t1, t2):\n",
    "        node = self._validate(p)\n",
    "        if not self.is_leaf(p): raise ValueError('p must be a leaf position')\n",
    "        if type(self) is type(t1) is type(t2): raise TypeError('Invalid types for trees')\n",
    "        self._size += len(t1) + len(t2)\n",
    "        if not t1.is_empty():\n",
    "            t1._root._parent = node \n",
    "            node._left = t1._root \n",
    "            t1._root = None  # ??? \n",
    "            t1._size = 0\n",
    "        if not t2.is_empty():\n",
    "            t2._root._parent = node\n",
    "            node._right = t2._root \n",
    "            t2._root = None\n",
    "            t2._size = 0\n",
    "            \n",
    "    def _delete_subtree(self, p):\n",
    "        parent = self.parent(p)\n",
    "        parent_node = self._validate(parent) \n",
    "        num_desc = self.num_descendants(p)\n",
    "        \n",
    "        if self.left(parent) == p:\n",
    "            parent_node._left = None \n",
    "        else:\n",
    "            parent_node._right = None\n",
    "        self._size -= num_desc +1\n",
    "        \n",
    "        deleted_node = self._validate(p)\n",
    "        deleted_node._parent = None\n",
    "        \n",
    "    def _swap(self, p, q): \n",
    "        first_node = self._validate(p)\n",
    "        second_node = self._validate(q)\n",
    "        \n",
    "        if first_node._parent is second_node._parent:\n",
    "            first_node._parent._left, first_node._parent._right = first_node._parent._right, first_node._parent._left\n",
    "        \n",
    "        else:\n",
    "            #swap parents\n",
    "            first_node._parent, second_node._parent = second_node._parent, first_node._parent\n",
    "            # check if first was left, put second in left else do put in right \n",
    "            if second_node._parent._left == first_node:\n",
    "                second_node._parent._left = second_node\n",
    "            else:\n",
    "                second_node._parent._right = second_node \n",
    "\n",
    "            if first_node._parent._left == second_node: \n",
    "                first_node._parent._left = first_node\n",
    "            else:\n",
    "                first_node._parent._right = first_node \n",
    "            \n",
    "    def __iter__(self):\n",
    "        for position in self.positions():\n",
    "            yield position.element()\n",
    "            \n",
    "    def preorder(self):\n",
    "        if not self.is_empty():\n",
    "            for p in self._subtree_preorder(self.root()): \n",
    "                yield p \n",
    "    def _subtree_preorder(self, p): \n",
    "        yield p\n",
    "        for c in self.children(p): \n",
    "            for other in self._subtree_preorder(c):\n",
    "                yield other\n",
    "                \n",
    "    def postorder(self):\n",
    "        if not self.is_empty():\n",
    "            for p in self._subtree_postorder(self.root()):\n",
    "                yield p\n",
    "    def _subtree_postorder(self, p):\n",
    "        for c in self.children(p):\n",
    "            for other in self._subtree_postorder(c):\n",
    "                yield other\n",
    "        yield p \n",
    "        \n",
    "    def BFS(self):\n",
    "        if not self.is_empty():\n",
    "            frontier = deque()\n",
    "            frontier.append(self.root())\n",
    "            while len(frontier) != 0:\n",
    "                p = frontier.popleft()\n",
    "                yield p \n",
    "                for c in self.children(p): \n",
    "                    frontier.append(c)\n",
    "                    \n",
    "    def inorder(self): \n",
    "        if not self.is_empty():\n",
    "            for p in self._subtree_inorder(self.root()):\n",
    "                yield p \n",
    "                \n",
    "    def _subtree_inorder(self, p):\n",
    "        if self.left(p) is not None:\n",
    "            for other in self._subtree_inorder(self.left(p)): \n",
    "                yield other\n",
    "        yield p\n",
    "        if self.right(p) is not None:\n",
    "            for other in self._subtree_inorder(self.right(p)):\n",
    "                yield other\n",
    "                \n",
    "    def positions(self, pre=False, ino = False, post=False, BFS=False):\n",
    "        if pre and not ino and not post and not BFS:\n",
    "            return self.preorder()\n",
    "        elif ino and not post and not pre and not BFS:\n",
    "            return self.inorder()\n",
    "        elif post and not pre and not ino and not BFS:\n",
    "            return self.postorder()\n",
    "        elif BFS and not pre and not ino and not post:\n",
    "            return self.BFS() \n",
    "        else:\n",
    "            raise ValueError('Only one argument required')\n",
    "            \n",
    "            \n",
    "    def __str__(self):\n",
    "        print_list = [] \n",
    "        def print_tree(position, print_list, depth):\n",
    "            print_list.append('-'*depth+'>'*bool(depth)+ '('+str(position.element())+')') \n",
    "            for c in self.children(position):\n",
    "                print_tree(c, print_list, depth + 3)\n",
    "            return ''.join(item+'\\n' for item in print_list)\n",
    "        \n",
    "        if not self.is_empty():\n",
    "            result = print_tree(self.root(), print_list, depth = 0)\n",
    "            return result\n",
    "        else:\n",
    "            return \"\" "
   ]
  },
  {
   "cell_type": "code",
   "execution_count": 3,
   "metadata": {},
   "outputs": [
    {
     "name": "stdout",
     "output_type": "stream",
     "text": [
      "False\n",
      "[1, 2, 3, 4]\n",
      "3\n"
     ]
    }
   ],
   "source": [
    "bt = LinkedBinaryTree()\n",
    "bt._add_root(1)\n",
    "root = bt.root()\n",
    "bt._add_left(bt.root(), 2)\n",
    "bt._add_right(bt.root(), 3)\n",
    "bt._add_left(bt.right(bt.root()), 4)\n",
    "print(bt.is_empty())\n",
    "print([item.element() for item in list(bt.positions(BFS = True))])\n",
    "\n",
    "print(bt.num_descendants(root))\n"
   ]
  },
  {
   "cell_type": "markdown",
   "metadata": {},
   "source": [
    "****Reinforcement Problems*** "
   ]
  },
  {
   "cell_type": "markdown",
   "metadata": {},
   "source": [
    "R-8.5 Describe an algorithm, relying only on the BinaryTree operations, that counts the number of leaves in a binary tree that are the left child of their respective parent."
   ]
  },
  {
   "cell_type": "code",
   "execution_count": 4,
   "metadata": {},
   "outputs": [],
   "source": [
    "# naive solution:\n",
    "# traverse using your favorite traversal, when you visit a node, if it's leaf and it's left to it's parent increment the node \n",
    "\n",
    "# counter = 0\n",
    "# for node in T.positions():\n",
    "#     if T.is_leaf(node) and T.parent(node).left == node:\n",
    "#        counter +=1 "
   ]
  },
  {
   "cell_type": "markdown",
   "metadata": {},
   "source": [
    "R-8.6 Let T be an n-node binary tree that may be improper. Describe how to represent T by means of a proper binary tree T' with O(n) nodes."
   ]
  },
  {
   "cell_type": "code",
   "execution_count": 5,
   "metadata": {},
   "outputs": [],
   "source": [
    "# for node in T.positions():\n",
    "#     if not T.is_leaf(node) and len(T.children(node)) !=2:\n",
    "#             if T.left(node) is not None:\n",
    "#                 T.add_left(element)\n",
    "#             else:\n",
    "#                 T.add_right(element)"
   ]
  },
  {
   "cell_type": "markdown",
   "metadata": {},
   "source": [
    "R-8.10 Give a direct implementation of the num children method within the class BinaryTree."
   ]
  },
  {
   "cell_type": "code",
   "execution_count": 6,
   "metadata": {},
   "outputs": [],
   "source": [
    "# added to first code segment in the notebook "
   ]
  },
  {
   "cell_type": "markdown",
   "metadata": {},
   "source": [
    "R-8.15 The LinkedBinaryTree class provides only nonpublic versions of the update methods discussed on page 319. Implement a simple subclass named MutableLinkedBinaryTree that provides public wrapper functions for each of the inherited nonpublic update methods."
   ]
  },
  {
   "cell_type": "code",
   "execution_count": 7,
   "metadata": {},
   "outputs": [],
   "source": [
    "class MutableLinkedBinaryTree(LinkedBinaryTree): \n",
    "    def add_root(self, e): \n",
    "        return self._add_root(e)\n",
    "    \n",
    "    def add_left(self, p, e):\n",
    "        return self._add_left(p, e)\n",
    "        \n",
    "    def add_right(self, p, e): \n",
    "        return self._add_right(p, e)\n",
    "        \n",
    "    def replace(self, p, e):\n",
    "        return self._replace(p, e)\n",
    "    \n",
    "    def delete(self, p):\n",
    "        return self._delete(p)\n",
    "    \n",
    "    def attach(self, p, t1, t2):\n",
    "        self._attach(p, t1, t2)"
   ]
  },
  {
   "cell_type": "markdown",
   "metadata": {},
   "source": [
    "R-8.18 Let T be a binary tree with n positions that is realized with an array representation A, and let f() be the level numbering function of the positions of T , as given in Section 8.3.2. Give pseudo-code descriptions of each of the methods root, parent, left, right, is leaf, and is root."
   ]
  },
  {
   "cell_type": "code",
   "execution_count": 8,
   "metadata": {},
   "outputs": [],
   "source": [
    "# suppose arr =[] cotains the elements of the tree \n",
    "# root():\n",
    "#    return arr[0]\n",
    "# parent(i):\n",
    "#    return arr[floor((i-1)/2)]\n",
    "# left(i):\n",
    "#   if i is even: \n",
    "#      return arr[i-1]\n",
    "# right(i):\n",
    "#   if i is odd: \n",
    "#      return arr[i+1]\n",
    "#  is_leaf(i):\n",
    "#    if arr[2*(i+1)+1] is None and arr[2*(i+1)+2] is None return True else False \n",
    "#  is_root(i):\n",
    "#    if arr[0] is None return True else False\n"
   ]
  },
  {
   "cell_type": "markdown",
   "metadata": {},
   "source": [
    "R-8.19 Our definition of the level numbering function f(p), as given in Section 8.3.2, began with the root having number 0. Some authors prefer to use a level numbering g(p) in which the root is assigned number 1, because it simplifies the arithmetic for finding neighboring positions. Redo Exercise R-8.18, but assuming that we use a level numbering g(p) in which the root is assigned number 1"
   ]
  },
  {
   "cell_type": "code",
   "execution_count": 9,
   "metadata": {},
   "outputs": [],
   "source": [
    "# trivial: same as before just shift all the math by -1 "
   ]
  },
  {
   "cell_type": "markdown",
   "metadata": {},
   "source": [
    "R-8.26 The collections.deque class supports an extend method that adds a collection of elements to the end of the queue at once. Reimplement the breadthfirst method of the Tree class to take advantage of this feature."
   ]
  },
  {
   "cell_type": "code",
   "execution_count": 10,
   "metadata": {},
   "outputs": [
    {
     "name": "stdout",
     "output_type": "stream",
     "text": [
      "[1, 2, 3, 4]\n"
     ]
    }
   ],
   "source": [
    "class ExtendQueueBFSLinkedBinaryTree(LinkedBinaryTree):\n",
    "    def BFS(self):\n",
    "        if not self.is_empty():\n",
    "            frontier = deque()\n",
    "            frontier.append(self.root())\n",
    "            while len(frontier) != 0:\n",
    "                p = frontier.popleft()\n",
    "                yield p\n",
    "                frontier.extend(self.children(p)) \n",
    "                \n",
    "bt = ExtendQueueBFSLinkedBinaryTree()\n",
    "bt._add_root(1)\n",
    "root = bt.root()\n",
    "bt._add_left(bt.root(), 2)\n",
    "bt._add_right(bt.root(), 3)\n",
    "bt._add_left(bt.right(bt.root()), 4)\n",
    "print([item.element() for item in list(bt.positions(BFS = True))])\n"
   ]
  },
  {
   "cell_type": "markdown",
   "metadata": {},
   "source": [
    "R-8.29 Describe, in pseudo-code, an algorithm for computing the number of descendants of each node of a binary tree. The algorithm should be based on the Euler tour traversal."
   ]
  },
  {
   "cell_type": "code",
   "execution_count": 11,
   "metadata": {},
   "outputs": [],
   "source": [
    "# Algorithm eulertour(T, p, counter = 0):\n",
    "#     perform the “pre visit” action for position p\n",
    "#     for each child c in T.children(p) do\n",
    "#         eulertour(T, c, counter+=1)  {recursively tour the subtree rooted at c}\n",
    "        \n",
    "#     perform the “post visit” action for position p\n",
    "#       return counter"
   ]
  },
  {
   "cell_type": "markdown",
   "metadata": {},
   "source": [
    "R-8.30 The build expression tree method of the ExpressionTree class requires input that is an iterable of string tokens. We used a convenient example, (((3+1)x4)/((9-5)+2)) , in which each character is its own token, so that the string itself sufficed as input to build expression tree. In general, a string, such as (35 + 14) , must be explicitly tokenized into list [ ( , 35 , + , 14 , ) ] so as to ignore whitespace and to recognize multidigit numbers as a single token. Write a utility method, tokenize(raw), that returns such a list of tokens for a raw string."
   ]
  },
  {
   "cell_type": "code",
   "execution_count": 12,
   "metadata": {},
   "outputs": [
    {
     "data": {
      "text/plain": [
       "['(', '35', ' + ', '14', ')']"
      ]
     },
     "execution_count": 12,
     "metadata": {},
     "output_type": "execute_result"
    }
   ],
   "source": [
    "expression = '(35 + 14)'\n",
    "tokens = [''.join(j) for k, j in groupby(expression, str.isdigit)]\n",
    "tokens"
   ]
  },
  {
   "cell_type": "markdown",
   "metadata": {},
   "source": [
    "****Creativity Problems***"
   ]
  },
  {
   "cell_type": "markdown",
   "metadata": {},
   "source": [
    "C-8.35 Two ordered trees T' and T'' are said to be isomorphic if one of the following holds:\n",
    "- Both T' and T'' are empty.\n",
    "-  The roots of T' and T'' have the same number k ≥ 0 of subtrees, and\n",
    "the ith such subtree of T' is isomorphic to the ith such subtree of T'' \n",
    "for i = 1,...,k.\n",
    "\n",
    "\n",
    "Design an algorithm that tests whether two given ordered trees are isomorphic. What is the running time of your algorithm?"
   ]
  },
  {
   "cell_type": "code",
   "execution_count": 13,
   "metadata": {},
   "outputs": [],
   "source": [
    "def isIsomorphic(n1, n2): \n",
    "    if n1 is None and n2 is None: \n",
    "        return True\n",
    "    if n1 is None or n2 is None: \n",
    "        return False\n",
    "    if n1.data != n2.data : \n",
    "        return False\n",
    "    return ((isIsomorphic(n1.left, n2.left)and \n",
    "            isIsomorphic(n1.right, n2.right))or\n",
    "            (isIsomorphic(n1.left, n2.right)and \n",
    "            isIsomorphic(n1.right, n2.left)))"
   ]
  },
  {
   "cell_type": "markdown",
   "metadata": {},
   "source": [
    "C-8.38 Add support in LinkedBinaryTree for a method, delete subtree(p), that removes the entire subtree rooted at position p, making sure to maintain the count on the size of the tree. What is the running time of your implementation?"
   ]
  },
  {
   "cell_type": "code",
   "execution_count": 14,
   "metadata": {},
   "outputs": [
    {
     "name": "stdout",
     "output_type": "stream",
     "text": [
      "(1)\n",
      "--->(2)\n",
      "--->(3)\n",
      "------>(4)\n",
      "------>(5)\n",
      "\n",
      "size of the tree  initially =5\n",
      "4\n",
      "2\n",
      "(1)\n",
      "--->(2)\n",
      "\n",
      "1\n",
      "1\n",
      "2\n"
     ]
    }
   ],
   "source": [
    "bt = LinkedBinaryTree()\n",
    "bt._add_root(1)\n",
    "root = bt.root()\n",
    "bt._add_left(bt.root(), 2)\n",
    "bt._add_right(bt.root(), 3)\n",
    "bt._add_left(bt.right(bt.root()), 4)\n",
    "bt._add_right(bt.right(bt.root()), 5)\n",
    "\n",
    "print(bt)\n",
    "print(f'size of the tree  initially ={bt._size}')\n",
    "print(bt.num_descendants(root))\n",
    "print(bt.num_children(root))\n",
    "\n",
    "bt._delete_subtree(bt.right(root))\n",
    "print(bt)\n",
    "print(bt.num_descendants(root))\n",
    "print(bt.num_children(root))\n",
    "print(bt._size)"
   ]
  },
  {
   "cell_type": "markdown",
   "metadata": {},
   "source": [
    "C-8.39 Add support in LinkedBinaryTree for a method, swap(p,q), that has the effect of restructuring the tree so that the node referenced by p takes the place of the node referenced by q, and vice versa. Make sure to properly handle the case when the nodes are adjacent."
   ]
  },
  {
   "cell_type": "code",
   "execution_count": 15,
   "metadata": {},
   "outputs": [
    {
     "name": "stdout",
     "output_type": "stream",
     "text": [
      "Original Tree:\n",
      "(1)\n",
      "--->(2)\n",
      "------>(4)\n",
      "--------->(5)\n",
      "--------->(6)\n",
      "--->(3)\n",
      "------>(7)\n",
      "------>(8)\n",
      "\n",
      "Re-strcutred Tree:\n",
      "(1)\n",
      "--->(8)\n",
      "--->(3)\n",
      "------>(7)\n",
      "------>(2)\n",
      "--------->(4)\n",
      "------------>(5)\n",
      "------------>(6)\n",
      "\n"
     ]
    }
   ],
   "source": [
    "bt = LinkedBinaryTree()\n",
    "bt._add_root(1)\n",
    "root = bt.root()\n",
    "bt._add_left(bt.root(), 2)\n",
    "bt._add_right(bt.root(), 3)\n",
    "bt._add_left(bt.right(bt.root()), 7)\n",
    "bt._add_right(bt.right(bt.root()), 8)\n",
    "bt._add_left(bt.left(bt.root()), 4)\n",
    "bt._add_left(bt.left(bt.left(bt.root())), 5)           \n",
    "bt._add_right(bt.left(bt.left(bt.root())), 6)\n",
    "print(\"Original Tree:\")\n",
    "print(bt)\n",
    "\n",
    "print(\"Re-strcutred Tree:\")\n",
    "bt._swap(bt.left(bt.root()), bt.right(bt.right(bt.root())))\n",
    "print(bt)"
   ]
  },
  {
   "cell_type": "code",
   "execution_count": 16,
   "metadata": {},
   "outputs": [
    {
     "name": "stdout",
     "output_type": "stream",
     "text": [
      "Original Tree:\n",
      "(1)\n",
      "--->(2)\n",
      "------>(4)\n",
      "--------->(5)\n",
      "--------->(6)\n",
      "--->(3)\n",
      "------>(7)\n",
      "------>(8)\n",
      "\n",
      "Re-strcutred Tree:\n",
      "(1)\n",
      "--->(3)\n",
      "------>(7)\n",
      "------>(8)\n",
      "--->(2)\n",
      "------>(4)\n",
      "--------->(5)\n",
      "--------->(6)\n",
      "\n"
     ]
    }
   ],
   "source": [
    "bt = LinkedBinaryTree()\n",
    "bt._add_root(1)\n",
    "root = bt.root()\n",
    "bt._add_left(bt.root(), 2)\n",
    "bt._add_right(bt.root(), 3)\n",
    "bt._add_left(bt.right(bt.root()), 7)\n",
    "bt._add_right(bt.right(bt.root()), 8)\n",
    "bt._add_left(bt.left(bt.root()), 4)\n",
    "bt._add_left(bt.left(bt.left(bt.root())), 5)           \n",
    "bt._add_right(bt.left(bt.left(bt.root())), 6)\n",
    "print(\"Original Tree:\")\n",
    "print(bt)\n",
    "\n",
    "print(\"Re-strcutred Tree:\")\n",
    "bt._swap(bt.left(bt.root()), bt.right(bt.root()))\n",
    "print(bt)"
   ]
  },
  {
   "cell_type": "markdown",
   "metadata": {},
   "source": [
    "c-8.41 and C-8.42 are trivial"
   ]
  },
  {
   "cell_type": "markdown",
   "metadata": {},
   "source": [
    "C-8.44 Give an efficient algorithm that computes and prints, for every position p of a tree T , the element of p followed by the height of p’s subtree."
   ]
  },
  {
   "cell_type": "code",
   "execution_count": 17,
   "metadata": {},
   "outputs": [
    {
     "name": "stdout",
     "output_type": "stream",
     "text": [
      "Original Tree:\n",
      "(a)\n",
      "--->(b)\n",
      "--->(c)\n",
      "------>(d)\n",
      "------>(e)\n",
      "--------->(f)\n",
      "\n"
     ]
    }
   ],
   "source": [
    "bt = LinkedBinaryTree()\n",
    "bt._add_root('a')\n",
    "root = bt.root()\n",
    "bt._add_left(bt.root(), 'b')\n",
    "bt._add_right(bt.root(), 'c')\n",
    "bt._add_left(bt.right(bt.root()), 'd')\n",
    "bt._add_right(bt.right(bt.root()), 'e')\n",
    "bt._add_right(bt.right(bt.right(bt.root())), 'f')\n",
    "print(\"Original Tree:\")\n",
    "print(bt)\n",
    "\n",
    "def get_hight(tree): \n",
    "    root = tree.root()\n",
    "    nodes_hights = []\n",
    "    def traverse(position):\n",
    "        if tree.is_leaf(position):\n",
    "            nodes_hights.append((position.element(), 0))\n",
    "            return 0 \n",
    "        value  = 1 + max(traverse(node) for node in tree.children(position)) \n",
    "        nodes_hights.append((position.element(), value))\n",
    "        return value \n",
    "    traverse(root)\n",
    "    return nodes_hights"
   ]
  },
  {
   "cell_type": "code",
   "execution_count": 18,
   "metadata": {},
   "outputs": [
    {
     "data": {
      "text/plain": [
       "[('b', 0), ('d', 0), ('f', 0), ('e', 1), ('c', 2), ('a', 3)]"
      ]
     },
     "execution_count": 18,
     "metadata": {},
     "output_type": "execute_result"
    }
   ],
   "source": [
    "get_hight(bt)"
   ]
  },
  {
   "cell_type": "markdown",
   "metadata": {},
   "source": [
    "C-8.45 Give an O(n)-time algorithm for computing the depths of all positions of a tree T , where n is the number of nodes of T ."
   ]
  },
  {
   "cell_type": "code",
   "execution_count": 19,
   "metadata": {},
   "outputs": [],
   "source": [
    "def get_depth(tree): \n",
    "    root = tree.root()\n",
    "    nodes_depths = [] \n",
    "    def traverse(position, depth):\n",
    "        if position:\n",
    "            nodes_depths.append((position.element(), depth))\n",
    "            for child in tree.children(position):\n",
    "                traverse(child, depth+1)\n",
    "    traverse(root, depth = 0)\n",
    "    return nodes_depths"
   ]
  },
  {
   "cell_type": "code",
   "execution_count": 20,
   "metadata": {},
   "outputs": [
    {
     "name": "stdout",
     "output_type": "stream",
     "text": [
      "[('a', 0), ('b', 1), ('c', 1), ('d', 2), ('e', 2), ('f', 3)]\n",
      "9\n"
     ]
    }
   ],
   "source": [
    "z = get_depth(bt)\n",
    "print(z)\n",
    "zz = sum(element[1] for element in z)\n",
    "\n",
    "print(zz)"
   ]
  },
  {
   "cell_type": "markdown",
   "metadata": {},
   "source": [
    "C-8.46 The path length of a tree T is the sum of the depths of all positions in T. Describe a linear-time method for computing the path length of a tree T ."
   ]
  },
  {
   "cell_type": "code",
   "execution_count": 21,
   "metadata": {},
   "outputs": [],
   "source": [
    "def get_path_lenght(tree): \n",
    "    root = tree.root()\n",
    "    paths_length = [0]\n",
    "    def traverse(position, depth):\n",
    "        if position:\n",
    "            paths_length[0]+=depth\n",
    "            for child in tree.children(position):\n",
    "                traverse(child, depth+1) \n",
    "    traverse(root, depth = 0)\n",
    "    return paths_length[0]\n"
   ]
  },
  {
   "cell_type": "code",
   "execution_count": 22,
   "metadata": {},
   "outputs": [
    {
     "data": {
      "text/plain": [
       "9"
      ]
     },
     "execution_count": 22,
     "metadata": {},
     "output_type": "execute_result"
    }
   ],
   "source": [
    "get_path_lenght(bt)"
   ]
  },
  {
   "cell_type": "markdown",
   "metadata": {},
   "source": [
    "C-8.47 The balance factor of an internal position p of a proper binary tree is the difference between the heights of the right and left subtrees of p. Show how to specialize the Euler tour traversal of Section 8.4.6 to print the balance factors of all the internal nodes of a proper binary tree."
   ]
  },
  {
   "cell_type": "code",
   "execution_count": 23,
   "metadata": {},
   "outputs": [],
   "source": [
    "def get_balance_factor(tree):\n",
    "    root = tree.root()\n",
    "    b_factors = []\n",
    "    def euler_tour(position):\n",
    "        if position: \n",
    "            if tree.is_leaf(position):\n",
    "                return 0 \n",
    "            else:\n",
    "                # pre_visit : do nothing \n",
    "                a = euler_tour(tree.left(position))\n",
    "                b = euler_tour(tree.right(position))\n",
    "                # post_vist : get diff \n",
    "                h = 1 + max(a, b)\n",
    "                diff = abs(a-b)\n",
    "                b_factors.append((position.element(), diff))\n",
    "                return h\n",
    "        else:\n",
    "            return 0 \n",
    "    euler_tour(root)\n",
    "    return b_factors"
   ]
  },
  {
   "cell_type": "code",
   "execution_count": 24,
   "metadata": {},
   "outputs": [
    {
     "data": {
      "text/plain": [
       "[('e', 0), ('c', 1), ('a', 2)]"
      ]
     },
     "execution_count": 24,
     "metadata": {},
     "output_type": "execute_result"
    }
   ],
   "source": [
    "get_balance_factor(bt)"
   ]
  },
  {
   "cell_type": "markdown",
   "metadata": {},
   "source": [
    "C-8.48 Given a proper binary tree T , define the reflection of T to be the binary tree T' such that each node v in T is also in T', but the left child of v in T is v’s right child in T' and the right child of v in T is v’s left child in T'. Show that a preorder traversal of a proper binary tree T is the same as the\n",
    "postorder traversal of T ’s reflection, but in reverse order."
   ]
  },
  {
   "cell_type": "code",
   "execution_count": 25,
   "metadata": {},
   "outputs": [
    {
     "name": "stdout",
     "output_type": "stream",
     "text": [
      "(a)\n",
      "--->(b)\n",
      "--->(c)\n",
      "------>(d)\n",
      "------>(e)\n",
      "--------->(f)\n",
      "\n"
     ]
    }
   ],
   "source": [
    "print(bt)"
   ]
  },
  {
   "cell_type": "code",
   "execution_count": 26,
   "metadata": {},
   "outputs": [],
   "source": [
    "def reflect_tree(tree, position):\n",
    "    if position is not None:\n",
    "        node = tree._validate(position)\n",
    "        node._left, node._right = node._right, node._left \n",
    "        for child in tree.children(position): \n",
    "            reflect_tree(tree, child) "
   ]
  },
  {
   "cell_type": "code",
   "execution_count": 27,
   "metadata": {},
   "outputs": [
    {
     "name": "stdout",
     "output_type": "stream",
     "text": [
      "['a', 'b', 'c', 'd', 'e', 'f']\n"
     ]
    }
   ],
   "source": [
    "print([item.element() for item in bt.positions(pre = True)])            \n",
    "reflect_tree(bt, bt.root())"
   ]
  },
  {
   "cell_type": "code",
   "execution_count": 28,
   "metadata": {},
   "outputs": [
    {
     "name": "stdout",
     "output_type": "stream",
     "text": [
      "['f', 'e', 'd', 'c', 'b', 'a']\n"
     ]
    }
   ],
   "source": [
    "print([item.element() for item in bt.positions(post = True)])"
   ]
  },
  {
   "cell_type": "markdown",
   "metadata": {},
   "source": [
    "C-8.50 Design algorithms for the following operations for a binary tree T :\n",
    "    - preorder next(p): Return the position visited after p in a preorder traversal of T (or None if p is the last node visited).\n",
    "    - inorder next(p): Return the position visited after p in an inorder traversal of T (or None if p is the last node visited).\n",
    "    - postorder next(p): Return the position visited after p in a postorder traversal of T (or None if p is the last node visited).\n",
    "What are the worst-case running times of your algorithms?"
   ]
  },
  {
   "cell_type": "code",
   "execution_count": 29,
   "metadata": {},
   "outputs": [],
   "source": [
    "## Worst case running time for all the algorithms is O(n)\n",
    "## space complexity is o(1)"
   ]
  },
  {
   "cell_type": "code",
   "execution_count": 30,
   "metadata": {},
   "outputs": [
    {
     "name": "stdout",
     "output_type": "stream",
     "text": [
      "Original Tree:\n",
      "(a)\n",
      "--->(b)\n",
      "------>(d)\n",
      "--------->(h)\n",
      "--------->(i)\n",
      "------>(e)\n",
      "--------->(j)\n",
      "--------->(k)\n",
      "--->(c)\n",
      "------>(f)\n",
      "--------->(l)\n",
      "--------->(m)\n",
      "------>(g)\n",
      "--------->(n)\n",
      "------------>(XX)\n",
      "--------->(o)\n",
      "\n"
     ]
    }
   ],
   "source": [
    "bt = LinkedBinaryTree()\n",
    "bt._add_root('a')\n",
    "root = bt.root()\n",
    "bt._add_left(bt.root(), 'b')\n",
    "bt._add_right(bt.root(), 'c')\n",
    "bt._add_left(bt.left(bt.root()), 'd')\n",
    "bt._add_right(bt.left(bt.root()), 'e')\n",
    "bt._add_left(bt.right(bt.root()), 'f')\n",
    "bt._add_right(bt.right(bt.root()), 'g')\n",
    "\n",
    "bt._add_left(bt.left(bt.left(bt.root())), 'h')\n",
    "bt._add_right(bt.left(bt.left(bt.root())), 'i')\n",
    "\n",
    "bt._add_left(bt.right(bt.left(bt.root())), 'j')\n",
    "bt._add_right(bt.right(bt.left(bt.root())), 'k')\n",
    "\n",
    "bt._add_left(bt.left(bt.right(bt.root())), 'l')\n",
    "bt._add_right(bt.left(bt.right(bt.root())), 'm')\n",
    "\n",
    "bt._add_left(bt.right(bt.right(bt.root())), 'n')\n",
    "bt._add_right(bt.right(bt.right(bt.root())), 'o')\n",
    "\n",
    "\n",
    "bt._add_right(bt.left(bt.right(bt.right(bt.root()))), 'XX')\n",
    "print(\"Original Tree:\")\n",
    "print(bt)\n"
   ]
  },
  {
   "cell_type": "code",
   "execution_count": 31,
   "metadata": {},
   "outputs": [
    {
     "name": "stdout",
     "output_type": "stream",
     "text": [
      "['a', 'b', 'd', 'h', 'i', 'e', 'j', 'k', 'c', 'f', 'l', 'm', 'g', 'n', 'XX', 'o']\n",
      "['h', 'i', 'd', 'j', 'k', 'e', 'b', 'l', 'm', 'f', 'XX', 'n', 'o', 'g', 'c', 'a']\n",
      "['h', 'd', 'i', 'b', 'j', 'e', 'k', 'a', 'l', 'f', 'm', 'c', 'n', 'XX', 'g', 'o']\n"
     ]
    }
   ],
   "source": [
    "print([item.element() for item in bt.positions(pre= True)])\n",
    "print([item.element() for item in bt.positions(post= True)])\n",
    "print([item.element() for item in bt.positions(ino= True)])"
   ]
  },
  {
   "cell_type": "code",
   "execution_count": 32,
   "metadata": {},
   "outputs": [],
   "source": [
    "def get_next(tree, position, traversal):\n",
    "    if traversal == 'pre': \n",
    "        if not tree.is_leaf(position):\n",
    "            if tree.left(position) is not None:\n",
    "                return tree.left(position)\n",
    "            else:\n",
    "                return tree.right(position)\n",
    "        parent = tree.parent(position)\n",
    "        while(parent):\n",
    "            if parent is not None: \n",
    "                if tree.right(parent) != position:\n",
    "                    return tree.right(parent)\n",
    "                    break \n",
    "                position = parent\n",
    "            parent = tree.parent(position)\n",
    "            \n",
    "    if traversal == 'post':\n",
    "        if tree.is_root(position):\n",
    "            return\n",
    "        if tree.right(tree.parent(position)) == position: \n",
    "            return tree.parent(position)\n",
    "        if tree.sibling(position) is not None:\n",
    "            sibling = tree.sibling(position)\n",
    "            if tree.is_leaf(sibling):\n",
    "                return sibling\n",
    "            else:\n",
    "                while(True): \n",
    "                    if tree.left(sibling) is not None:\n",
    "                        current = tree.left(sibling)\n",
    "                    else:\n",
    "                        current = tree.right(sibling)\n",
    "                    if tree.is_leaf(current):\n",
    "                        return current\n",
    "                    else:\n",
    "                        sibling = current\n",
    "        else:\n",
    "            return tree.parent(position)\n",
    "        \n",
    "    if traversal == 'in':\n",
    "        if tree.is_leaf(position):\n",
    "            if tree.left(tree.parent(position)) == position:\n",
    "                return tree.parent(position)\n",
    "            else: \n",
    "                current = position\n",
    "                parent = tree.parent(position)\n",
    "                while(True):\n",
    "                    if tree.right(parent) == current:\n",
    "                        current = parent\n",
    "                        if  tree.parent(parent) is not None: \n",
    "                            parent = tree.parent(parent)\n",
    "                        else:\n",
    "                            return\n",
    "                    else: \n",
    "                        break\n",
    "                return parent\n",
    "        if tree.right(position):\n",
    "            if tree.is_leaf(tree.right(position)):\n",
    "                return tree.right(position) \n",
    "            else:\n",
    "                current = tree.right(position)\n",
    "                while(True):\n",
    "                    if tree.left(current) is not None:\n",
    "                        current = tree.left(current)\n",
    "                    else:\n",
    "                        return current "
   ]
  },
  {
   "cell_type": "code",
   "execution_count": 33,
   "metadata": {},
   "outputs": [
    {
     "name": "stdout",
     "output_type": "stream",
     "text": [
      "next pre-order nodes: \n",
      "b, d, h, i, e, j, k, c, f, l, m, g, n, XX, o, \n",
      "\n",
      "next post-order nodes: \n",
      "i, d, j, k, e, b, l, m, f, XX, n, o, g, c, a, \n",
      "\n",
      "next In-order nodes: \n",
      "d, i, b, j, e, k, a, l, f, m, c, n, XX, g, o, "
     ]
    }
   ],
   "source": [
    "item = bt.root()\n",
    "flag = True\n",
    "print(\"next pre-order nodes: \")\n",
    "while(flag):\n",
    "    item = get_next(bt, item, traversal='pre')\n",
    "    if item is not None:\n",
    "        print(item.element(), end = ', ')\n",
    "        continue\n",
    "    flag = False\n",
    "\n",
    "item = bt.left(bt.left(bt.left(bt.root())))\n",
    "flag = True\n",
    "print(\"\")\n",
    "print(\"\")\n",
    "print(\"next post-order nodes: \")\n",
    "while(flag):\n",
    "    item = get_next(bt, item, traversal='post')\n",
    "    if item is not None:\n",
    "        print(item.element(), end = ', ')\n",
    "        continue\n",
    "    flag = False\n",
    "\n",
    "item = bt.left(bt.left(bt.left(bt.root())))\n",
    "flag = True\n",
    "print(\"\")\n",
    "print(\"\")\n",
    "print(\"next In-order nodes: \")\n",
    "while(flag):\n",
    "    item = get_next(bt, item, traversal='in')\n",
    "    if item is not None:\n",
    "        print(item.element(), end = ', ')\n",
    "        continue\n",
    "    flag = False"
   ]
  },
  {
   "cell_type": "markdown",
   "metadata": {},
   "source": [
    "C-8.51 To implement the preorder method of the LinkedBinaryTree class, we relied on the convenience of Python’s generator syntax and the yield statement. Give an alternative implementation of preorder that returns an explicit instance of a nested iterator class. (See Section 2.3.4 for discussion\n",
    "of iterators."
   ]
  },
  {
   "cell_type": "code",
   "execution_count": 34,
   "metadata": {},
   "outputs": [],
   "source": [
    "class iterableLinkedBinaryTree(LinkedBinaryTree):         \n",
    "    def __iter__(self):\n",
    "        self.root_flag = True \n",
    "        self.nxt = self.root()\n",
    "        return self \n",
    "    \n",
    "    def get_next(self, tree, position):\n",
    "        if not tree.is_leaf(position):\n",
    "            if tree.left(position) is not None:\n",
    "                return tree.left(position)\n",
    "            else:\n",
    "                return tree.right(position)\n",
    "        parent = tree.parent(position)\n",
    "        while(parent):\n",
    "            if parent is not None: \n",
    "                if tree.right(parent) != position:\n",
    "                    return tree.right(parent)\n",
    "                    break \n",
    "                position = parent\n",
    "            parent = tree.parent(position)\n",
    "\n",
    "    def __next__(self):\n",
    "        if self.root_flag: \n",
    "            self.root_flag = False\n",
    "            return self.root()\n",
    "        if not self.root_flag: \n",
    "            self.nxt = self.get_next(self, self.nxt)\n",
    "            if self.nxt is None:\n",
    "                raise StopIteration\n",
    "            return self.nxt"
   ]
  },
  {
   "cell_type": "code",
   "execution_count": 35,
   "metadata": {},
   "outputs": [
    {
     "name": "stdout",
     "output_type": "stream",
     "text": [
      "Original Tree:\n",
      "(a)\n",
      "--->(b)\n",
      "------>(d)\n",
      "--------->(h)\n",
      "--------->(i)\n",
      "------>(e)\n",
      "--------->(j)\n",
      "--------->(k)\n",
      "--->(c)\n",
      "------>(f)\n",
      "--------->(l)\n",
      "--------->(m)\n",
      "------>(g)\n",
      "--------->(n)\n",
      "------------>(XX)\n",
      "--------->(o)\n",
      "\n"
     ]
    }
   ],
   "source": [
    "bt = iterableLinkedBinaryTree() \n",
    "bt._add_root('a')\n",
    "root = bt.root()\n",
    "bt._add_left(bt.root(), 'b')\n",
    "bt._add_right(bt.root(), 'c')\n",
    "bt._add_left(bt.left(bt.root()), 'd')\n",
    "bt._add_right(bt.left(bt.root()), 'e')\n",
    "bt._add_left(bt.right(bt.root()), 'f')\n",
    "bt._add_right(bt.right(bt.root()), 'g')\n",
    "\n",
    "bt._add_left(bt.left(bt.left(bt.root())), 'h')\n",
    "bt._add_right(bt.left(bt.left(bt.root())), 'i')\n",
    "\n",
    "bt._add_left(bt.right(bt.left(bt.root())), 'j')\n",
    "bt._add_right(bt.right(bt.left(bt.root())), 'k')\n",
    "\n",
    "bt._add_left(bt.left(bt.right(bt.root())), 'l')\n",
    "bt._add_right(bt.left(bt.right(bt.root())), 'm')\n",
    "\n",
    "bt._add_left(bt.right(bt.right(bt.root())), 'n')\n",
    "bt._add_right(bt.right(bt.right(bt.root())), 'o')\n",
    "\n",
    "\n",
    "bt._add_right(bt.left(bt.right(bt.right(bt.root()))), 'XX')\n",
    "print(\"Original Tree:\")\n",
    "print(bt)\n"
   ]
  },
  {
   "cell_type": "code",
   "execution_count": 36,
   "metadata": {},
   "outputs": [
    {
     "name": "stdout",
     "output_type": "stream",
     "text": [
      "Orignal implementation: \n",
      "['a', 'b', 'd', 'h', 'i', 'e', 'j', 'k', 'c', 'f', 'l', 'm', 'g', 'n', 'XX', 'o']\n",
      "nested iterator implementation: \n",
      "a, b, d, h, i, e, j, k, c, f, l, m, g, n, XX, o, "
     ]
    }
   ],
   "source": [
    "print(\"Orignal implementation: \")\n",
    "print([item.element() for item in bt.positions(pre= True)]) \n",
    "print(\"nested iterator implementation: \")\n",
    "for item in bt:\n",
    "    print(item.element(), end = ', ')"
   ]
  },
  {
   "cell_type": "markdown",
   "metadata": {},
   "source": [
    "C-8.52 Algorithm preorder_draw draws a binary tree T by assigning x- and ycoordinates to each position p such that x(p) is the number of nodes preceding p in the preorder traversal of T and y(p) is the depth of p in T. \n",
    "- a. Show that the drawing of T produced by preorder_draw has no pairs\n",
    "- of crossing edges.\n",
    "- b. Redraw the binary tree of Figure 8.22 using preorder_draw."
   ]
  },
  {
   "cell_type": "code",
   "execution_count": 404,
   "metadata": {},
   "outputs": [],
   "source": [
    "class DrawableBinaryTree(LinkedBinaryTree): \n",
    "    def inorder_draw(self):\n",
    "        counter = [0]\n",
    "        drawable_items = [] \n",
    "        def draw_subtree_inorder(pos, x, y): \n",
    "            if self.left(pos) is not None:\n",
    "                left_child =  self.left(pos)\n",
    "                draw_subtree_inorder(left_child, x+counter[0], y+15)\n",
    "            \n",
    "            counter[0]+=10\n",
    "            if self.parent(pos) is not None: \n",
    "                drawable_items.append([pos, pos.element(), x, y])\n",
    "            else:\n",
    "                drawable_items.append([pos, pos.element(), x, y, None])\n",
    "                                              \n",
    "            if self.right(pos) is not None:\n",
    "                right_child = self.right(pos)\n",
    "                draw_subtree_inorder(right_child, x+counter[0], y+15)\n",
    "        \n",
    "        draw_subtree_inorder(self.root(), x = 10, y = 10)\n",
    "        \n",
    "        for i, node in enumerate(drawable_items):\n",
    "            node[2]+=(i*25) +(500-5*node[3])\n",
    "        for node in drawable_items:\n",
    "            for target_node in drawable_items:\n",
    "                if not self.is_root(node[0]) and self.parent(node[0]) == target_node[0]:\n",
    "                    node.extend([target_node[2], target_node[3]])\n",
    "        return [(item[1:]) for item in drawable_items]"
   ]
  },
  {
   "cell_type": "code",
   "execution_count": 405,
   "metadata": {},
   "outputs": [
    {
     "data": {
      "text/plain": [
       "<__main__.LinkedBinaryTree.Position at 0x7fd71716b160>"
      ]
     },
     "execution_count": 405,
     "metadata": {},
     "output_type": "execute_result"
    }
   ],
   "source": [
    "bt = DrawableBinaryTree() \n",
    "bt._add_root('a')\n",
    "root = bt.root()\n",
    "bt._add_left(bt.root(), 'b')\n",
    "bt._add_right(bt.root(), 'c')\n",
    "bt._add_left(bt.left(bt.root()), 'd')\n",
    "bt._add_right(bt.left(bt.root()), 'e')\n",
    "bt._add_left(bt.right(bt.root()), 'f')\n",
    "bt._add_right(bt.right(bt.root()), 'g')\n",
    "\n",
    "bt._add_left(bt.left(bt.left(bt.root())), 'h')\n",
    "bt._add_right(bt.left(bt.left(bt.root())), 'i')\n",
    "\n",
    "bt._add_left(bt.right(bt.left(bt.root())), 'j')\n",
    "bt._add_right(bt.right(bt.left(bt.root())), 'k')\n",
    "\n",
    "bt._add_left(bt.left(bt.right(bt.root())), 'l')\n",
    "bt._add_right(bt.left(bt.right(bt.root())), 'm')\n",
    "\n",
    "bt._add_left(bt.right(bt.right(bt.root())), 'n')\n",
    "bt._add_right(bt.right(bt.right(bt.root())), 'o')\n",
    "\n",
    "\n",
    "bt._add_right(bt.left(bt.right(bt.right(bt.root()))), 'XX')\n",
    "# print(\"Original Tree:\")\n",
    "# print(bt)\n"
   ]
  },
  {
   "cell_type": "code",
   "execution_count": null,
   "metadata": {},
   "outputs": [
    {
     "name": "stderr",
     "output_type": "stream",
     "text": [
      "<ipython-input-407-63ad8ceca4b2>:35: DeprecationWarning: an integer is required (got type float).  Implicit conversion to integers using __int__ is deprecated, and may be removed in a future version of Python.\n",
      "  pygame.draw.polygon(screen, tricolor, ((end[0] + trirad * math.sin(rotation),\n"
     ]
    }
   ],
   "source": [
    "pygame.init() \n",
    "\n",
    "# game constants \n",
    "display_width = 1440 \n",
    "display_height = 810 \n",
    "## colors\n",
    "BLACK = (0, 0, 0)\n",
    "WHITE = (255, 255, 255)\n",
    "RED = (255, 0, 0)\n",
    "GREEN  = (0, 255, 0)\n",
    "BLUE = (0, 0, 255)\n",
    "\n",
    "\n",
    "gameDisplay = pygame.display.set_mode((display_width, display_height))\n",
    "pygame.display.set_caption('Binary Tree')\n",
    "clock = pygame.time.Clock() \n",
    "\n",
    "\n",
    "### text_objects \n",
    "\n",
    "def text_objects(text, font, color):\n",
    "    text_surface = font.render(text, True, color)\n",
    "    return text_surface, text_surface.get_rect() \n",
    "\n",
    "def node_display(text, location):\n",
    "    large_font = pygame.font.Font('freesansbold.ttf', 50)\n",
    "    text_surf, text_rect = text_objects(\" \"+text+\" \", large_font, BLACK)\n",
    "    pygame.draw.rect(text_surf, BLUE, text_rect, 5)\n",
    "    gameDisplay.blit(text_surf, location)\n",
    "\n",
    "def arrow(screen, lcolor, tricolor, start, end, trirad = 10, thickness=5):\n",
    "    rad = math.pi/180 \n",
    "    pygame.draw.line(screen, lcolor, start, end, thickness)\n",
    "    rotation = (math.atan2(start[1] - end[1], end[0] - start[0])) + math.pi/2\n",
    "    pygame.draw.polygon(screen, tricolor, ((end[0] + trirad * math.sin(rotation),\n",
    "                                        end[1] + trirad * math.cos(rotation)),\n",
    "                                       (end[0] + trirad * math.sin(rotation - 120*rad),\n",
    "                                        end[1] + trirad * math.cos(rotation - 120*rad)),\n",
    "                                       (end[0] + trirad * math.sin(rotation + 120*rad),\n",
    "                                        end[1] + trirad * math.cos(rotation + 120*rad))))\n",
    "\n",
    "def main_loop():\n",
    "    Exit = False\n",
    "    while not Exit:\n",
    "        for event in pygame.event.get():\n",
    "            if event.type == pygame.QUIT:\n",
    "                Exit = True\n",
    "\n",
    "        gameDisplay.fill(WHITE)\n",
    "        #node_display(\"Hi\", location = (100, 100))\n",
    "        for node in bt.inorder_draw():\n",
    "            node_display(node[0], location = (node[1], node[2]*10))\n",
    "            if len(node) ==5: \n",
    "                arrow(gameDisplay, RED, BLACK, (node[3]+25, node[4]*10 + 50), (node[1]+25, node[2]*10))\n",
    "        pygame.display.update()\n",
    "        clock.tick(25)\n",
    "\n",
    "main_loop()\n",
    "pygame.quit()"
   ]
  },
  {
   "cell_type": "code",
   "execution_count": null,
   "metadata": {},
   "outputs": [],
   "source": []
  }
 ],
 "metadata": {
  "kernelspec": {
   "display_name": "Python 3",
   "language": "python",
   "name": "python3"
  },
  "language_info": {
   "codemirror_mode": {
    "name": "ipython",
    "version": 3
   },
   "file_extension": ".py",
   "mimetype": "text/x-python",
   "name": "python",
   "nbconvert_exporter": "python",
   "pygments_lexer": "ipython3",
   "version": "3.8.3"
  }
 },
 "nbformat": 4,
 "nbformat_minor": 2
}
