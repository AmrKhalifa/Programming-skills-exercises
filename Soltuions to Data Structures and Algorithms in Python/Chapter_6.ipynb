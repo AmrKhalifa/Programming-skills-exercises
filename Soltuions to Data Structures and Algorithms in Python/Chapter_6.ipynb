{
 "cells": [
  {
   "cell_type": "markdown",
   "metadata": {},
   "source": [
    "### Solutions to the problems of Chapter 6\n",
    "## Stacks, Queues, and Deques"
   ]
  },
  {
   "cell_type": "markdown",
   "metadata": {},
   "source": [
    "****Reinforcement Prolems***"
   ]
  },
  {
   "cell_type": "code",
   "execution_count": 222,
   "metadata": {},
   "outputs": [],
   "source": [
    "from collections import deque\n",
    "import random\n",
    "import math "
   ]
  },
  {
   "cell_type": "markdown",
   "metadata": {},
   "source": [
    "R-6.3 Implement a function with signature transfer(S, T) that transfers all elements from stack S onto stack T, so that the element that starts at the top of S is the first to be inserted onto T, and the element at the bottom of S ends up at the top of T."
   ]
  },
  {
   "cell_type": "code",
   "execution_count": 217,
   "metadata": {},
   "outputs": [],
   "source": [
    "class Stack():\n",
    "    def __init__(self, l = None):\n",
    "        self._l = []\n",
    "        if l is not None:\n",
    "            self._l = l\n",
    "    def __len__(self):\n",
    "        return len(self._l)\n",
    "    \n",
    "    def is_empty(self):\n",
    "        return len(self._l) ==0\n",
    "    \n",
    "    def push(self, e):\n",
    "        self._l.append(e)\n",
    "        \n",
    "    def pop(self):\n",
    "        return self._l.pop()\n",
    "    \n",
    "    def top(self):\n",
    "        return self._l[-1]\n",
    "    \n",
    "    def __repr__(self):\n",
    "        return str(self._l)"
   ]
  },
  {
   "cell_type": "code",
   "execution_count": 220,
   "metadata": {},
   "outputs": [
    {
     "name": "stdout",
     "output_type": "stream",
     "text": [
      "[]\n",
      "['d', 'c', 'b', 'a']\n"
     ]
    }
   ],
   "source": [
    "s = ['a', 'b', 'c', 'd']\n",
    "s = Stack(s)\n",
    "t = Stack()\n",
    "\n",
    "def transfer(s1, s2):\n",
    "    while(not s1.is_empty()):\n",
    "        s2.push(s1.pop())\n",
    "    return s2\n",
    "\n",
    "transfer(s, t)\n",
    "print(s)\n",
    "print(t)"
   ]
  },
  {
   "cell_type": "markdown",
   "metadata": {},
   "source": [
    "R-6.4 Give a recursive method for removing all the elements from a stack."
   ]
  },
  {
   "cell_type": "code",
   "execution_count": 5,
   "metadata": {},
   "outputs": [
    {
     "name": "stdout",
     "output_type": "stream",
     "text": [
      "d\n",
      "c\n",
      "b\n",
      "a\n",
      "removed all elements from the stack\n"
     ]
    }
   ],
   "source": [
    "def remove_elements(s):\n",
    "    if len(s) ==0:\n",
    "        print('removed all elements from the stack')\n",
    "        return \n",
    "    else:\n",
    "        print(s.pop())\n",
    "        remove_elements(s)\n",
    "        \n",
    "s = ['a', 'b', 'c', 'd']\n",
    "\n",
    "remove_elements(s)"
   ]
  },
  {
   "cell_type": "markdown",
   "metadata": {},
   "source": [
    "R-6.5 Implement a function that reverses a list of elements by pushing them onto a stack in one order, and writing them back to the list in reversed order"
   ]
  },
  {
   "cell_type": "code",
   "execution_count": 6,
   "metadata": {},
   "outputs": [
    {
     "name": "stdout",
     "output_type": "stream",
     "text": [
      "['d', 'c', 'b', 'a']\n"
     ]
    }
   ],
   "source": [
    "elements = ['a', 'b', 'c', 'd']\n",
    "stack = [] \n",
    "while len(elements) !=0:\n",
    "    stack.append(elements.pop())\n",
    "elements = stack \n",
    "\n",
    "print(elements)"
   ]
  },
  {
   "cell_type": "markdown",
   "metadata": {},
   "source": [
    "R-6.11 Give a simple adapter that implements our queue ADT while using a collections.deque instance for storage."
   ]
  },
  {
   "cell_type": "code",
   "execution_count": 17,
   "metadata": {},
   "outputs": [
    {
     "name": "stdout",
     "output_type": "stream",
     "text": [
      "c\n",
      "b\n",
      "b\n",
      "a\n"
     ]
    }
   ],
   "source": [
    "class Queue():\n",
    "    \n",
    "    def __init__(self): \n",
    "        self._deck = deque()\n",
    "    \n",
    "    def push(self, e):\n",
    "        self._deck.appendleft(e)\n",
    "        \n",
    "    def pop(self):\n",
    "        return self._deck.popleft()\n",
    "    \n",
    "    def top(self):\n",
    "        return self._deck[0]\n",
    "    \n",
    "    def __repr__(self):\n",
    "        return str(self._deck)\n",
    "\n",
    "\n",
    "q = Queue()\n",
    "q.push('a')\n",
    "q.push('b')\n",
    "q.push('c')\n",
    "\n",
    "print(q.pop()) \n",
    "print(q.top())\n",
    "print(q.pop())\n",
    "print(q.top())"
   ]
  },
  {
   "cell_type": "markdown",
   "metadata": {},
   "source": [
    "R-6.13 Suppose you have a deque D containing the numbers (1,2,3,4,5,6,7,8), in this order. Suppose further that you have an initially empty queue Q.\n",
    "Give a code fragment that uses only D and Q (and no other variables) and results in D storing the elements in the order (1,2,3,5,4,6,7,8)"
   ]
  },
  {
   "cell_type": "code",
   "execution_count": 22,
   "metadata": {},
   "outputs": [
    {
     "name": "stdout",
     "output_type": "stream",
     "text": [
      "deque([1, 2, 3, 4, 5, 6, 7, 8])\n"
     ]
    },
    {
     "data": {
      "text/plain": [
       "deque([8, 7, 6, 5, 4, 3, 2, 1])"
      ]
     },
     "execution_count": 22,
     "metadata": {},
     "output_type": "execute_result"
    }
   ],
   "source": [
    "dek = deque()\n",
    "for i in range(1, 9):\n",
    "    dek.append(i)\n",
    "print(dek)\n",
    "\n",
    "q = Queue()\n",
    "\n",
    "for item in dek:\n",
    "    q.push(item)\n",
    "q"
   ]
  },
  {
   "cell_type": "markdown",
   "metadata": {},
   "source": [
    "R-6.14 Repeat the previous problem using the deque D and an initially empty stack S"
   ]
  },
  {
   "cell_type": "code",
   "execution_count": 24,
   "metadata": {},
   "outputs": [
    {
     "data": {
      "text/plain": [
       "[8, 7, 6, 5, 4, 3, 2, 1]"
      ]
     },
     "execution_count": 24,
     "metadata": {},
     "output_type": "execute_result"
    }
   ],
   "source": [
    "s = []\n",
    "while len(dek) !=0:\n",
    "    s.append(dek.pop())\n",
    "s"
   ]
  },
  {
   "cell_type": "markdown",
   "metadata": {},
   "source": [
    "****Creativity Problems***"
   ]
  },
  {
   "cell_type": "markdown",
   "metadata": {},
   "source": [
    "C-6.15 Suppose Alice has picked three distinct integers and placed them into a stack S in random order. Write a short, straight-line piece of pseudo-code (with no loops or recursion) that uses only one comparison and only one variable x, yet that results in variable x storing the largest of Alice’s three integers with probability 2/3. Argue why your method is correct."
   ]
  },
  {
   "cell_type": "code",
   "execution_count": 195,
   "metadata": {},
   "outputs": [
    {
     "name": "stdout",
     "output_type": "stream",
     "text": [
      "0.665\n"
     ]
    }
   ],
   "source": [
    "counter = 0\n",
    "counts = 1000\n",
    "for j in range(counts): \n",
    "    s = Stack()\n",
    "    for i in range(1, 4):\n",
    "        s.push(random.randint(1, 100))\n",
    "    m = max(s._l)\n",
    "    x = max(s.pop(), s.pop())\n",
    "\n",
    "    if x == m:\n",
    "        counter +=1\n",
    "\n",
    "print(counter/counts)\n"
   ]
  },
  {
   "cell_type": "markdown",
   "metadata": {},
   "source": [
    "C-6.16 Modify the ArrayStack implementation so that the stack’s capacity is limited to maxlen elements, where maxlen is an optional parameter to the constructor (that defaults to None). If push is called when the stack is at full capacity, throw a Full exception (defined similarly to Empty)"
   ]
  },
  {
   "cell_type": "code",
   "execution_count": 187,
   "metadata": {},
   "outputs": [
    {
     "name": "stdout",
     "output_type": "stream",
     "text": [
      "[0, 1, 2, 3, 4, 5, 6, 7, 8, 9]\n"
     ]
    },
    {
     "ename": "Full",
     "evalue": "Stack is full",
     "output_type": "error",
     "traceback": [
      "\u001b[0;31m---------------------------------------------------------------------------\u001b[0m",
      "\u001b[0;31mFull\u001b[0m                                      Traceback (most recent call last)",
      "\u001b[0;32m<ipython-input-187-137c83d64c52>\u001b[0m in \u001b[0;36m<module>\u001b[0;34m()\u001b[0m\n\u001b[1;32m     43\u001b[0m \u001b[0mprint\u001b[0m\u001b[0;34m(\u001b[0m\u001b[0ms\u001b[0m\u001b[0;34m)\u001b[0m\u001b[0;34m\u001b[0m\u001b[0;34m\u001b[0m\u001b[0m\n\u001b[1;32m     44\u001b[0m \u001b[0;34m\u001b[0m\u001b[0m\n\u001b[0;32m---> 45\u001b[0;31m \u001b[0ms\u001b[0m\u001b[0;34m.\u001b[0m\u001b[0mpush\u001b[0m\u001b[0;34m(\u001b[0m\u001b[0;36m11\u001b[0m\u001b[0;34m)\u001b[0m\u001b[0;34m\u001b[0m\u001b[0;34m\u001b[0m\u001b[0m\n\u001b[0m",
      "\u001b[0;32m<ipython-input-187-137c83d64c52>\u001b[0m in \u001b[0;36mpush\u001b[0;34m(self, e)\u001b[0m\n\u001b[1;32m     21\u001b[0m     \u001b[0;32mdef\u001b[0m \u001b[0mpush\u001b[0m\u001b[0;34m(\u001b[0m\u001b[0mself\u001b[0m\u001b[0;34m,\u001b[0m \u001b[0me\u001b[0m\u001b[0;34m)\u001b[0m\u001b[0;34m:\u001b[0m\u001b[0;34m\u001b[0m\u001b[0;34m\u001b[0m\u001b[0m\n\u001b[1;32m     22\u001b[0m         \u001b[0;32mif\u001b[0m \u001b[0mself\u001b[0m\u001b[0;34m.\u001b[0m\u001b[0mis_full\u001b[0m\u001b[0;34m(\u001b[0m\u001b[0;34m)\u001b[0m\u001b[0;34m:\u001b[0m\u001b[0;34m\u001b[0m\u001b[0;34m\u001b[0m\u001b[0m\n\u001b[0;32m---> 23\u001b[0;31m             \u001b[0;32mraise\u001b[0m \u001b[0mFull\u001b[0m\u001b[0;34m(\u001b[0m\u001b[0;34m'Stack is full'\u001b[0m\u001b[0;34m)\u001b[0m\u001b[0;34m\u001b[0m\u001b[0;34m\u001b[0m\u001b[0m\n\u001b[0m\u001b[1;32m     24\u001b[0m         \u001b[0mself\u001b[0m\u001b[0;34m.\u001b[0m\u001b[0m_data\u001b[0m\u001b[0;34m.\u001b[0m\u001b[0mappend\u001b[0m\u001b[0;34m(\u001b[0m\u001b[0me\u001b[0m\u001b[0;34m)\u001b[0m\u001b[0;34m\u001b[0m\u001b[0;34m\u001b[0m\u001b[0m\n\u001b[1;32m     25\u001b[0m \u001b[0;34m\u001b[0m\u001b[0m\n",
      "\u001b[0;31mFull\u001b[0m: Stack is full"
     ]
    }
   ],
   "source": [
    "class Empty(Exception):\n",
    "    pass \n",
    "\n",
    "class Full(Exception):\n",
    "    pass \n",
    "\n",
    "class ArrayStack():\n",
    "    def __init__(self, maxlen = 10):\n",
    "        self._data = []\n",
    "        self._maxlen = maxlen\n",
    "    \n",
    "    def __len__(self):\n",
    "        return len(self._data)\n",
    "    \n",
    "    def is_empty(self):\n",
    "        return len(self._data) == 0\n",
    "    \n",
    "    def is_full(self):\n",
    "        return len(self._data) == self._maxlen\n",
    "    \n",
    "    def push(self, e):\n",
    "        if self.is_full():\n",
    "            raise Full('Stack is full')\n",
    "        self._data.append(e)\n",
    "        \n",
    "    def top(self):\n",
    "        if self.is_empty():\n",
    "            raise Empty('Stack is empty')\n",
    "        return self._data[-1]\n",
    "    \n",
    "    def pop(self):\n",
    "        if self.is_empty():\n",
    "            raise Empty('Stack is empty')\n",
    "        return self._data.pop()\n",
    "    \n",
    "    def __repr__(self):\n",
    "        return str(self._data)\n",
    "    \n",
    "s = ArrayStack(10)\n",
    "\n",
    "for i in range(10):\n",
    "    s.push(i)\n",
    "print(s)\n",
    "\n",
    "s.push(11)"
   ]
  },
  {
   "cell_type": "markdown",
   "metadata": {},
   "source": [
    "C-6.17 In the previous exercise, we assume that the underlying list is initially empty. Redo that exercise, this time preallocating an underlying list with length equal to the stack’s maximum capacity."
   ]
  },
  {
   "cell_type": "code",
   "execution_count": 204,
   "metadata": {},
   "outputs": [
    {
     "name": "stdout",
     "output_type": "stream",
     "text": [
      "[0, 1, 2, 3, 4, 5, 6, 7, 8, 9]\n",
      "9876543210"
     ]
    },
    {
     "ename": "Empty",
     "evalue": "Stack is empty",
     "output_type": "error",
     "traceback": [
      "\u001b[0;31m---------------------------------------------------------------------------\u001b[0m",
      "\u001b[0;31mEmpty\u001b[0m                                     Traceback (most recent call last)",
      "\u001b[0;32m<ipython-input-204-b40533b69f63>\u001b[0m in \u001b[0;36m<module>\u001b[0;34m()\u001b[0m\n\u001b[1;32m     45\u001b[0m \u001b[0;31m#s.push(11)\u001b[0m\u001b[0;34m\u001b[0m\u001b[0;34m\u001b[0m\u001b[0;34m\u001b[0m\u001b[0m\n\u001b[1;32m     46\u001b[0m \u001b[0;32mfor\u001b[0m \u001b[0mi\u001b[0m \u001b[0;32min\u001b[0m \u001b[0mrange\u001b[0m\u001b[0;34m(\u001b[0m\u001b[0;36m11\u001b[0m\u001b[0;34m)\u001b[0m\u001b[0;34m:\u001b[0m\u001b[0;34m\u001b[0m\u001b[0;34m\u001b[0m\u001b[0m\n\u001b[0;32m---> 47\u001b[0;31m     \u001b[0mprint\u001b[0m\u001b[0;34m(\u001b[0m\u001b[0ms\u001b[0m\u001b[0;34m.\u001b[0m\u001b[0mpop\u001b[0m\u001b[0;34m(\u001b[0m\u001b[0;34m)\u001b[0m\u001b[0;34m,\u001b[0m \u001b[0mend\u001b[0m \u001b[0;34m=\u001b[0m \u001b[0;34m''\u001b[0m\u001b[0;34m)\u001b[0m\u001b[0;34m\u001b[0m\u001b[0;34m\u001b[0m\u001b[0m\n\u001b[0m",
      "\u001b[0;32m<ipython-input-204-b40533b69f63>\u001b[0m in \u001b[0;36mpop\u001b[0;34m(self)\u001b[0m\n\u001b[1;32m     28\u001b[0m     \u001b[0;32mdef\u001b[0m \u001b[0mpop\u001b[0m\u001b[0;34m(\u001b[0m\u001b[0mself\u001b[0m\u001b[0;34m)\u001b[0m\u001b[0;34m:\u001b[0m\u001b[0;34m\u001b[0m\u001b[0;34m\u001b[0m\u001b[0m\n\u001b[1;32m     29\u001b[0m         \u001b[0;32mif\u001b[0m \u001b[0mself\u001b[0m\u001b[0;34m.\u001b[0m\u001b[0mis_empty\u001b[0m\u001b[0;34m(\u001b[0m\u001b[0;34m)\u001b[0m\u001b[0;34m:\u001b[0m\u001b[0;34m\u001b[0m\u001b[0;34m\u001b[0m\u001b[0m\n\u001b[0;32m---> 30\u001b[0;31m             \u001b[0;32mraise\u001b[0m \u001b[0mEmpty\u001b[0m\u001b[0;34m(\u001b[0m\u001b[0;34m'Stack is empty'\u001b[0m\u001b[0;34m)\u001b[0m\u001b[0;34m\u001b[0m\u001b[0;34m\u001b[0m\u001b[0m\n\u001b[0m\u001b[1;32m     31\u001b[0m \u001b[0;34m\u001b[0m\u001b[0m\n\u001b[1;32m     32\u001b[0m         \u001b[0mto_pop\u001b[0m \u001b[0;34m=\u001b[0m \u001b[0mself\u001b[0m\u001b[0;34m.\u001b[0m\u001b[0m_data\u001b[0m\u001b[0;34m[\u001b[0m\u001b[0mself\u001b[0m\u001b[0;34m.\u001b[0m\u001b[0m_forward\u001b[0m\u001b[0;34m-\u001b[0m\u001b[0;36m1\u001b[0m\u001b[0;34m]\u001b[0m\u001b[0;34m\u001b[0m\u001b[0;34m\u001b[0m\u001b[0m\n",
      "\u001b[0;31mEmpty\u001b[0m: Stack is empty"
     ]
    }
   ],
   "source": [
    "class ArrayStack():\n",
    "    def __init__(self, maxlen = 10):\n",
    "        self._data = [None]*maxlen\n",
    "        self._maxlen = maxlen\n",
    "        self._forward = 0\n",
    "    \n",
    "    def __len__(self):\n",
    "        return len(self._data)\n",
    "    \n",
    "    def is_empty(self):\n",
    "        return(self._forward) == 0\n",
    "    \n",
    "    def is_full(self):\n",
    "        return self._forward == self._maxlen\n",
    "    \n",
    "    def push(self, e):\n",
    "        if self.is_full():\n",
    "            raise Full('Stack is full')\n",
    "        #self._data.append(e)\n",
    "        self._data[self._forward] = e\n",
    "        self._forward += 1\n",
    "        \n",
    "    def top(self):\n",
    "        if self.is_empty():\n",
    "            raise Empty('Stack is empty')\n",
    "        return self._data[-1]\n",
    "    \n",
    "    def pop(self):\n",
    "        if self.is_empty():\n",
    "            raise Empty('Stack is empty')\n",
    "        to_pop = self._data[self._forward-1]\n",
    "        self._forward -= 1\n",
    "        return to_pop\n",
    "    \n",
    "    def __repr__(self):\n",
    "        return str(self._data)\n",
    "    \n",
    "s = ArrayStack(10)\n",
    "\n",
    "for i in range(10):\n",
    "    s.push(i)\n",
    "print(s)\n",
    "\n",
    "#s.push(11)\n",
    "for i in range(11):\n",
    "    print(s.pop(), end = '')"
   ]
  },
  {
   "cell_type": "markdown",
   "metadata": {},
   "source": [
    "C-6.18 Show how to use the transfer function, described in Exercise R-6.3, and two temporary stacks, to replace the contents of a given stack S with those same elements, but in reversed order."
   ]
  },
  {
   "cell_type": "code",
   "execution_count": 209,
   "metadata": {},
   "outputs": [
    {
     "name": "stdout",
     "output_type": "stream",
     "text": [
      "initial s:  [0, 1, 2, 3, 4, 5, 6, 7, 8, 9]\n",
      "final s:  [9, 8, 7, 6, 5, 4, 3, 2, 1, 0]\n"
     ]
    }
   ],
   "source": [
    "s = Stack([i for i in range(10)])\n",
    "t = Stack()\n",
    "temp1 = Stack()\n",
    "print(\"initial s: \", s)\n",
    "\n",
    "transfer(s, temp1)\n",
    "transfer(temp1, t)\n",
    "transfer(t, s)\n",
    "\n",
    "print(\"final s: \", s)\n"
   ]
  },
  {
   "cell_type": "markdown",
   "metadata": {},
   "source": [
    "C-6.20 Describe a nonrecursive algorithm for enumerating all permutations of the numbers {1,2,... ,n} using an explicit stack."
   ]
  },
  {
   "cell_type": "code",
   "execution_count": 290,
   "metadata": {},
   "outputs": [
    {
     "name": "stdout",
     "output_type": "stream",
     "text": [
      "[[4, 2, 1, 3], [4, 2, 3, 1], [4, 3, 1, 2], [4, 3, 2, 1], [4, 1, 2, 3], [4, 1, 3, 2], [3, 2, 4, 1], [3, 2, 1, 4], [3, 1, 4, 2], [3, 1, 2, 4], [3, 4, 2, 1], [3, 4, 1, 2], [2, 1, 4, 3], [2, 1, 3, 4], [2, 3, 4, 1], [2, 3, 1, 4], [2, 4, 1, 3], [2, 4, 3, 1], [1, 2, 4, 3], [1, 2, 3, 4], [1, 3, 4, 2], [1, 3, 2, 4], [1, 4, 2, 3], [1, 4, 3, 2]]\n",
      "1 1\n",
      "2 2\n",
      "6 6\n",
      "24 24\n",
      "120 120\n",
      "720 720\n"
     ]
    }
   ],
   "source": [
    "ints = [1, 2, 3, 4]\n",
    "\n",
    "def get_permuations(integers):\n",
    "    \n",
    "    idx = 0 \n",
    "    \n",
    "    def swap(l, i, j):\n",
    "        z = list(l)\n",
    "        z[i], z[j] = z[j], z[i]\n",
    "        return z \n",
    "\n",
    "    def get_swappers(l, idx):\n",
    "        swappers = []\n",
    "        for i in range(idx, len(l)):\n",
    "            swappers.append(swap(l, idx, i))\n",
    "        return swappers\n",
    "\n",
    "    perms_stack = Stack(get_swappers(integers, idx))\n",
    "\n",
    "    while idx < len(integers)-1:\n",
    "        temp_stack = []\n",
    "        idx +=1 \n",
    "        while not perms_stack.is_empty():\n",
    "            item = perms_stack.pop()\n",
    "            swappers = get_swappers(item, idx)\n",
    "            for item in swappers:\n",
    "                temp_stack.append(item)\n",
    "        perms_stack = Stack(temp_stack)    \n",
    "    \n",
    "    return perms_stack\n",
    "\n",
    "print(get_permuations(integers))\n",
    "\n",
    "for i in range(1, 7):\n",
    "    print(len(get_permuations([j for j in range (i)])), math.factorial(i))\n",
    "    "
   ]
  },
  {
   "cell_type": "markdown",
   "metadata": {},
   "source": [
    "C-6.21 Show how to use a stack S and a queue Q to generate all possible subsets of an n-element set T nonrecursively"
   ]
  },
  {
   "cell_type": "code",
   "execution_count": 350,
   "metadata": {},
   "outputs": [
    {
     "name": "stdout",
     "output_type": "stream",
     "text": [
      "{(1, 2), (1, 3), (1,), (2,), (3,), (1, 2, 3), (), (2, 3)}\n"
     ]
    }
   ],
   "source": [
    "l = [1, 2, 3]\n",
    "sol_sets = set()\n",
    "sol_sets.add(tuple([]))\n",
    "for item in l:\n",
    "    sol_sets.add(tuple([item]))\n",
    "\n",
    "s = Stack()\n",
    "q = Queue()\n",
    "\n",
    "for item in l:\n",
    "    s.push(tuple([item]))\n",
    "\n",
    "for i in range(len(l)-1):\n",
    "    while(not s.is_empty()):\n",
    "        item = s.pop()\n",
    "        sol_sets.add(item)\n",
    "        item = list(item)\n",
    "        for elem in l:\n",
    "            z = set(item)\n",
    "            z.add(elem)\n",
    "            z = tuple(z)\n",
    "            if z in sol_sets:\n",
    "                continue\n",
    "            else:\n",
    "                sol_sets.add(z)\n",
    "                \n",
    "                q.push(z)\n",
    "    while True:\n",
    "        try:\n",
    "            s.push(q.pop())\n",
    "        except:\n",
    "            break  \n",
    "print(sol_sets)"
   ]
  },
  {
   "cell_type": "code",
   "execution_count": null,
   "metadata": {},
   "outputs": [],
   "source": []
  },
  {
   "cell_type": "markdown",
   "metadata": {},
   "source": [
    "\n"
   ]
  },
  {
   "cell_type": "code",
   "execution_count": null,
   "metadata": {},
   "outputs": [],
   "source": []
  }
 ],
 "metadata": {
  "kernelspec": {
   "display_name": "Python 3",
   "language": "python",
   "name": "python3"
  },
  "language_info": {
   "codemirror_mode": {
    "name": "ipython",
    "version": 3
   },
   "file_extension": ".py",
   "mimetype": "text/x-python",
   "name": "python",
   "nbconvert_exporter": "python",
   "pygments_lexer": "ipython3",
   "version": "3.7.3"
  }
 },
 "nbformat": 4,
 "nbformat_minor": 2
}
