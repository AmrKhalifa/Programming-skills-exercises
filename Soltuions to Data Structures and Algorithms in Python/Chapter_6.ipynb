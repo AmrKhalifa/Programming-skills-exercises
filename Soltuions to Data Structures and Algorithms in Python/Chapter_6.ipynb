{
 "cells": [
  {
   "cell_type": "markdown",
   "metadata": {},
   "source": [
    "### Solutions to the problems of Chapter 6\n",
    "## Stacks, Queues, and Deques"
   ]
  },
  {
   "cell_type": "markdown",
   "metadata": {},
   "source": [
    "****Reinforcement Prolems***"
   ]
  },
  {
   "cell_type": "code",
   "execution_count": 1,
   "metadata": {},
   "outputs": [],
   "source": [
    "from collections import deque\n",
    "import random\n",
    "import math "
   ]
  },
  {
   "cell_type": "markdown",
   "metadata": {},
   "source": [
    "R-6.3 Implement a function with signature transfer(S, T) that transfers all elements from stack S onto stack T, so that the element that starts at the top of S is the first to be inserted onto T, and the element at the bottom of S ends up at the top of T."
   ]
  },
  {
   "cell_type": "code",
   "execution_count": 2,
   "metadata": {},
   "outputs": [],
   "source": [
    "class Stack():\n",
    "    def __init__(self, l = None):\n",
    "        self._l = []\n",
    "        if l is not None:\n",
    "            self._l = list(l)\n",
    "    def __len__(self):\n",
    "        return len(self._l)\n",
    "    \n",
    "    def is_empty(self):\n",
    "        return len(self._l) ==0\n",
    "    \n",
    "    def push(self, e):\n",
    "        self._l.append(e)\n",
    "        \n",
    "    def pop(self):\n",
    "        return self._l.pop()\n",
    "    \n",
    "    def top(self):\n",
    "        return self._l[-1]\n",
    "    \n",
    "    def __repr__(self):\n",
    "        return str(self._l)"
   ]
  },
  {
   "cell_type": "code",
   "execution_count": 3,
   "metadata": {},
   "outputs": [
    {
     "name": "stdout",
     "output_type": "stream",
     "text": [
      "[]\n",
      "['d', 'c', 'b', 'a']\n"
     ]
    }
   ],
   "source": [
    "s = ['a', 'b', 'c', 'd']\n",
    "s = Stack(s)\n",
    "t = Stack()\n",
    "\n",
    "def transfer(s1, s2):\n",
    "    while(not s1.is_empty()):\n",
    "        s2.push(s1.pop())\n",
    "    return s2\n",
    "\n",
    "transfer(s, t)\n",
    "print(s)\n",
    "print(t)"
   ]
  },
  {
   "cell_type": "markdown",
   "metadata": {},
   "source": [
    "R-6.4 Give a recursive method for removing all the elements from a stack."
   ]
  },
  {
   "cell_type": "code",
   "execution_count": 4,
   "metadata": {},
   "outputs": [
    {
     "name": "stdout",
     "output_type": "stream",
     "text": [
      "d\n",
      "c\n",
      "b\n",
      "a\n",
      "removed all elements from the stack\n"
     ]
    }
   ],
   "source": [
    "def remove_elements(s):\n",
    "    if len(s) ==0:\n",
    "        print('removed all elements from the stack')\n",
    "        return \n",
    "    else:\n",
    "        print(s.pop())\n",
    "        remove_elements(s)\n",
    "        \n",
    "s = ['a', 'b', 'c', 'd']\n",
    "\n",
    "remove_elements(s)"
   ]
  },
  {
   "cell_type": "markdown",
   "metadata": {},
   "source": [
    "R-6.5 Implement a function that reverses a list of elements by pushing them onto a stack in one order, and writing them back to the list in reversed order"
   ]
  },
  {
   "cell_type": "code",
   "execution_count": 5,
   "metadata": {},
   "outputs": [
    {
     "name": "stdout",
     "output_type": "stream",
     "text": [
      "['d', 'c', 'b', 'a']\n"
     ]
    }
   ],
   "source": [
    "elements = ['a', 'b', 'c', 'd']\n",
    "stack = [] \n",
    "while len(elements) !=0:\n",
    "    stack.append(elements.pop())\n",
    "elements = stack \n",
    "\n",
    "print(elements)"
   ]
  },
  {
   "cell_type": "markdown",
   "metadata": {},
   "source": [
    "R-6.11 Give a simple adapter that implements our queue ADT while using a collections.deque instance for storage."
   ]
  },
  {
   "cell_type": "code",
   "execution_count": 6,
   "metadata": {},
   "outputs": [
    {
     "name": "stdout",
     "output_type": "stream",
     "text": [
      "c\n",
      "b\n",
      "b\n",
      "a\n",
      "False\n",
      "True\n"
     ]
    }
   ],
   "source": [
    "class Queue():\n",
    "    \n",
    "    def __init__(self): \n",
    "        self._deck = deque()\n",
    "    \n",
    "    def push(self, e):\n",
    "        self._deck.appendleft(e)\n",
    "        \n",
    "    def pop(self):\n",
    "        return self._deck.popleft()\n",
    "    \n",
    "    def top(self):\n",
    "        return self._deck[0]\n",
    "    \n",
    "    def __repr__(self):\n",
    "        return str(self._deck)\n",
    "\n",
    "    def __len__(self):\n",
    "        return len(self._deck)\n",
    "    \n",
    "    def is_empty(self):\n",
    "        return True if len(self._deck) == 0 else False \n",
    "\n",
    "q = Queue()\n",
    "q.push('a')\n",
    "q.push('b')\n",
    "q.push('c')\n",
    "\n",
    "print(q.pop()) \n",
    "print(q.top())\n",
    "print(q.pop())\n",
    "print(q.top())\n",
    "\n",
    "print(q.is_empty())\n",
    "q.pop()\n",
    "print(q.is_empty())"
   ]
  },
  {
   "cell_type": "markdown",
   "metadata": {},
   "source": [
    "R-6.13 Suppose you have a deque D containing the numbers (1,2,3,4,5,6,7,8), in this order. Suppose further that you have an initially empty queue Q.\n",
    "Give a code fragment that uses only D and Q (and no other variables) and results in D storing the elements in the order (1,2,3,5,4,6,7,8)"
   ]
  },
  {
   "cell_type": "code",
   "execution_count": 7,
   "metadata": {},
   "outputs": [
    {
     "name": "stdout",
     "output_type": "stream",
     "text": [
      "deque([1, 2, 3, 4, 5, 6, 7, 8])\n"
     ]
    },
    {
     "data": {
      "text/plain": [
       "deque([8, 7, 6, 5, 4, 3, 2, 1])"
      ]
     },
     "execution_count": 7,
     "metadata": {},
     "output_type": "execute_result"
    }
   ],
   "source": [
    "dek = deque()\n",
    "for i in range(1, 9):\n",
    "    dek.append(i)\n",
    "print(dek)\n",
    "\n",
    "q = Queue()\n",
    "\n",
    "for item in dek:\n",
    "    q.push(item)\n",
    "q"
   ]
  },
  {
   "cell_type": "markdown",
   "metadata": {},
   "source": [
    "R-6.14 Repeat the previous problem using the deque D and an initially empty stack S"
   ]
  },
  {
   "cell_type": "code",
   "execution_count": 8,
   "metadata": {},
   "outputs": [
    {
     "data": {
      "text/plain": [
       "[8, 7, 6, 5, 4, 3, 2, 1]"
      ]
     },
     "execution_count": 8,
     "metadata": {},
     "output_type": "execute_result"
    }
   ],
   "source": [
    "s = []\n",
    "while len(dek) !=0:\n",
    "    s.append(dek.pop())\n",
    "s"
   ]
  },
  {
   "cell_type": "markdown",
   "metadata": {},
   "source": [
    "****Creativity Problems***"
   ]
  },
  {
   "cell_type": "markdown",
   "metadata": {},
   "source": [
    "C-6.15 Suppose Alice has picked three distinct integers and placed them into a stack S in random order. Write a short, straight-line piece of pseudo-code (with no loops or recursion) that uses only one comparison and only one variable x, yet that results in variable x storing the largest of Alice’s three integers with probability 2/3. Argue why your method is correct."
   ]
  },
  {
   "cell_type": "code",
   "execution_count": 9,
   "metadata": {},
   "outputs": [
    {
     "name": "stdout",
     "output_type": "stream",
     "text": [
      "0.669\n"
     ]
    }
   ],
   "source": [
    "counter = 0\n",
    "counts = 1000\n",
    "for j in range(counts): \n",
    "    s = Stack()\n",
    "    for i in range(1, 4):\n",
    "        s.push(random.randint(1, 100))\n",
    "    m = max(s._l)\n",
    "    x = max(s.pop(), s.pop())\n",
    "\n",
    "    if x == m:\n",
    "        counter +=1\n",
    "\n",
    "print(counter/counts)\n"
   ]
  },
  {
   "cell_type": "markdown",
   "metadata": {},
   "source": [
    "C-6.16 Modify the ArrayStack implementation so that the stack’s capacity is limited to maxlen elements, where maxlen is an optional parameter to the constructor (that defaults to None). If push is called when the stack is at full capacity, throw a Full exception (defined similarly to Empty)"
   ]
  },
  {
   "cell_type": "code",
   "execution_count": 10,
   "metadata": {},
   "outputs": [
    {
     "name": "stdout",
     "output_type": "stream",
     "text": [
      "[0, 1, 2, 3, 4, 5, 6, 7, 8, 9]\n"
     ]
    },
    {
     "ename": "Full",
     "evalue": "Stack is full",
     "output_type": "error",
     "traceback": [
      "\u001b[0;31m---------------------------------------------------------------------------\u001b[0m",
      "\u001b[0;31mFull\u001b[0m                                      Traceback (most recent call last)",
      "\u001b[0;32m<ipython-input-10-137c83d64c52>\u001b[0m in \u001b[0;36m<module>\u001b[0;34m()\u001b[0m\n\u001b[1;32m     43\u001b[0m \u001b[0mprint\u001b[0m\u001b[0;34m(\u001b[0m\u001b[0ms\u001b[0m\u001b[0;34m)\u001b[0m\u001b[0;34m\u001b[0m\u001b[0;34m\u001b[0m\u001b[0m\n\u001b[1;32m     44\u001b[0m \u001b[0;34m\u001b[0m\u001b[0m\n\u001b[0;32m---> 45\u001b[0;31m \u001b[0ms\u001b[0m\u001b[0;34m.\u001b[0m\u001b[0mpush\u001b[0m\u001b[0;34m(\u001b[0m\u001b[0;36m11\u001b[0m\u001b[0;34m)\u001b[0m\u001b[0;34m\u001b[0m\u001b[0;34m\u001b[0m\u001b[0m\n\u001b[0m",
      "\u001b[0;32m<ipython-input-10-137c83d64c52>\u001b[0m in \u001b[0;36mpush\u001b[0;34m(self, e)\u001b[0m\n\u001b[1;32m     21\u001b[0m     \u001b[0;32mdef\u001b[0m \u001b[0mpush\u001b[0m\u001b[0;34m(\u001b[0m\u001b[0mself\u001b[0m\u001b[0;34m,\u001b[0m \u001b[0me\u001b[0m\u001b[0;34m)\u001b[0m\u001b[0;34m:\u001b[0m\u001b[0;34m\u001b[0m\u001b[0;34m\u001b[0m\u001b[0m\n\u001b[1;32m     22\u001b[0m         \u001b[0;32mif\u001b[0m \u001b[0mself\u001b[0m\u001b[0;34m.\u001b[0m\u001b[0mis_full\u001b[0m\u001b[0;34m(\u001b[0m\u001b[0;34m)\u001b[0m\u001b[0;34m:\u001b[0m\u001b[0;34m\u001b[0m\u001b[0;34m\u001b[0m\u001b[0m\n\u001b[0;32m---> 23\u001b[0;31m             \u001b[0;32mraise\u001b[0m \u001b[0mFull\u001b[0m\u001b[0;34m(\u001b[0m\u001b[0;34m'Stack is full'\u001b[0m\u001b[0;34m)\u001b[0m\u001b[0;34m\u001b[0m\u001b[0;34m\u001b[0m\u001b[0m\n\u001b[0m\u001b[1;32m     24\u001b[0m         \u001b[0mself\u001b[0m\u001b[0;34m.\u001b[0m\u001b[0m_data\u001b[0m\u001b[0;34m.\u001b[0m\u001b[0mappend\u001b[0m\u001b[0;34m(\u001b[0m\u001b[0me\u001b[0m\u001b[0;34m)\u001b[0m\u001b[0;34m\u001b[0m\u001b[0;34m\u001b[0m\u001b[0m\n\u001b[1;32m     25\u001b[0m \u001b[0;34m\u001b[0m\u001b[0m\n",
      "\u001b[0;31mFull\u001b[0m: Stack is full"
     ]
    }
   ],
   "source": [
    "class Empty(Exception):\n",
    "    pass \n",
    "\n",
    "class Full(Exception):\n",
    "    pass \n",
    "\n",
    "class ArrayStack():\n",
    "    def __init__(self, maxlen = 10):\n",
    "        self._data = []\n",
    "        self._maxlen = maxlen\n",
    "    \n",
    "    def __len__(self):\n",
    "        return len(self._data)\n",
    "    \n",
    "    def is_empty(self):\n",
    "        return len(self._data) == 0\n",
    "    \n",
    "    def is_full(self):\n",
    "        return len(self._data) == self._maxlen\n",
    "    \n",
    "    def push(self, e):\n",
    "        if self.is_full():\n",
    "            raise Full('Stack is full')\n",
    "        self._data.append(e)\n",
    "        \n",
    "    def top(self):\n",
    "        if self.is_empty():\n",
    "            raise Empty('Stack is empty')\n",
    "        return self._data[-1]\n",
    "    \n",
    "    def pop(self):\n",
    "        if self.is_empty():\n",
    "            raise Empty('Stack is empty')\n",
    "        return self._data.pop()\n",
    "    \n",
    "    def __repr__(self):\n",
    "        return str(self._data)\n",
    "    \n",
    "s = ArrayStack(10)\n",
    "\n",
    "for i in range(10):\n",
    "    s.push(i)\n",
    "print(s)\n",
    "\n",
    "s.push(11)"
   ]
  },
  {
   "cell_type": "markdown",
   "metadata": {},
   "source": [
    "C-6.17 In the previous exercise, we assume that the underlying list is initially empty. Redo that exercise, this time preallocating an underlying list with length equal to the stack’s maximum capacity."
   ]
  },
  {
   "cell_type": "code",
   "execution_count": 11,
   "metadata": {},
   "outputs": [
    {
     "name": "stdout",
     "output_type": "stream",
     "text": [
      "[0, 1, 2, 3, 4, 5, 6, 7, 8, 9]\n",
      "9876543210"
     ]
    },
    {
     "ename": "Empty",
     "evalue": "Stack is empty",
     "output_type": "error",
     "traceback": [
      "\u001b[0;31m---------------------------------------------------------------------------\u001b[0m",
      "\u001b[0;31mEmpty\u001b[0m                                     Traceback (most recent call last)",
      "\u001b[0;32m<ipython-input-11-23da4e64a5f7>\u001b[0m in \u001b[0;36m<module>\u001b[0;34m()\u001b[0m\n\u001b[1;32m     44\u001b[0m \u001b[0;31m#s.push(11)\u001b[0m\u001b[0;34m\u001b[0m\u001b[0;34m\u001b[0m\u001b[0;34m\u001b[0m\u001b[0m\n\u001b[1;32m     45\u001b[0m \u001b[0;32mfor\u001b[0m \u001b[0mi\u001b[0m \u001b[0;32min\u001b[0m \u001b[0mrange\u001b[0m\u001b[0;34m(\u001b[0m\u001b[0;36m11\u001b[0m\u001b[0;34m)\u001b[0m\u001b[0;34m:\u001b[0m\u001b[0;34m\u001b[0m\u001b[0;34m\u001b[0m\u001b[0m\n\u001b[0;32m---> 46\u001b[0;31m     \u001b[0mprint\u001b[0m\u001b[0;34m(\u001b[0m\u001b[0ms\u001b[0m\u001b[0;34m.\u001b[0m\u001b[0mpop\u001b[0m\u001b[0;34m(\u001b[0m\u001b[0;34m)\u001b[0m\u001b[0;34m,\u001b[0m \u001b[0mend\u001b[0m \u001b[0;34m=\u001b[0m \u001b[0;34m''\u001b[0m\u001b[0;34m)\u001b[0m\u001b[0;34m\u001b[0m\u001b[0;34m\u001b[0m\u001b[0m\n\u001b[0m",
      "\u001b[0;32m<ipython-input-11-23da4e64a5f7>\u001b[0m in \u001b[0;36mpop\u001b[0;34m(self)\u001b[0m\n\u001b[1;32m     28\u001b[0m     \u001b[0;32mdef\u001b[0m \u001b[0mpop\u001b[0m\u001b[0;34m(\u001b[0m\u001b[0mself\u001b[0m\u001b[0;34m)\u001b[0m\u001b[0;34m:\u001b[0m\u001b[0;34m\u001b[0m\u001b[0;34m\u001b[0m\u001b[0m\n\u001b[1;32m     29\u001b[0m         \u001b[0;32mif\u001b[0m \u001b[0mself\u001b[0m\u001b[0;34m.\u001b[0m\u001b[0mis_empty\u001b[0m\u001b[0;34m(\u001b[0m\u001b[0;34m)\u001b[0m\u001b[0;34m:\u001b[0m\u001b[0;34m\u001b[0m\u001b[0;34m\u001b[0m\u001b[0m\n\u001b[0;32m---> 30\u001b[0;31m             \u001b[0;32mraise\u001b[0m \u001b[0mEmpty\u001b[0m\u001b[0;34m(\u001b[0m\u001b[0;34m'Stack is empty'\u001b[0m\u001b[0;34m)\u001b[0m\u001b[0;34m\u001b[0m\u001b[0;34m\u001b[0m\u001b[0m\n\u001b[0m\u001b[1;32m     31\u001b[0m         \u001b[0mto_pop\u001b[0m \u001b[0;34m=\u001b[0m \u001b[0mself\u001b[0m\u001b[0;34m.\u001b[0m\u001b[0m_data\u001b[0m\u001b[0;34m[\u001b[0m\u001b[0mself\u001b[0m\u001b[0;34m.\u001b[0m\u001b[0m_forward\u001b[0m\u001b[0;34m-\u001b[0m\u001b[0;36m1\u001b[0m\u001b[0;34m]\u001b[0m\u001b[0;34m\u001b[0m\u001b[0;34m\u001b[0m\u001b[0m\n\u001b[1;32m     32\u001b[0m         \u001b[0mself\u001b[0m\u001b[0;34m.\u001b[0m\u001b[0m_forward\u001b[0m \u001b[0;34m-=\u001b[0m \u001b[0;36m1\u001b[0m\u001b[0;34m\u001b[0m\u001b[0;34m\u001b[0m\u001b[0m\n",
      "\u001b[0;31mEmpty\u001b[0m: Stack is empty"
     ]
    }
   ],
   "source": [
    "class ArrayStack():\n",
    "    def __init__(self, maxlen = 10):\n",
    "        self._data = [None]*maxlen\n",
    "        self._maxlen = maxlen\n",
    "        self._forward = 0\n",
    "    \n",
    "    def __len__(self):\n",
    "        return len(self._data)\n",
    "    \n",
    "    def is_empty(self):\n",
    "        return(self._forward) == 0\n",
    "    \n",
    "    def is_full(self):\n",
    "        return self._forward == self._maxlen\n",
    "    \n",
    "    def push(self, e):\n",
    "        if self.is_full():\n",
    "            raise Full('Stack is full')\n",
    "        #self._data.append(e)\n",
    "        self._data[self._forward] = e\n",
    "        self._forward += 1\n",
    "        \n",
    "    def top(self):\n",
    "        if self.is_empty():\n",
    "            raise Empty('Stack is empty')\n",
    "        return self._data[-1]\n",
    "    \n",
    "    def pop(self):\n",
    "        if self.is_empty():\n",
    "            raise Empty('Stack is empty')\n",
    "        to_pop = self._data[self._forward-1]\n",
    "        self._forward -= 1\n",
    "        return to_pop\n",
    "    \n",
    "    def __repr__(self):\n",
    "        return str(self._data)\n",
    "    \n",
    "s = ArrayStack(10)\n",
    "\n",
    "for i in range(10):\n",
    "    s.push(i)\n",
    "print(s)\n",
    "\n",
    "#s.push(11)\n",
    "for i in range(11):\n",
    "    print(s.pop(), end = '')"
   ]
  },
  {
   "cell_type": "markdown",
   "metadata": {},
   "source": [
    "C-6.18 Show how to use the transfer function, described in Exercise R-6.3, and two temporary stacks, to replace the contents of a given stack S with those same elements, but in reversed order."
   ]
  },
  {
   "cell_type": "code",
   "execution_count": 12,
   "metadata": {},
   "outputs": [
    {
     "name": "stdout",
     "output_type": "stream",
     "text": [
      "initial s:  [0, 1, 2, 3, 4, 5, 6, 7, 8, 9]\n",
      "final s:  [9, 8, 7, 6, 5, 4, 3, 2, 1, 0]\n"
     ]
    }
   ],
   "source": [
    "s = Stack([i for i in range(10)])\n",
    "t = Stack()\n",
    "temp1 = Stack()\n",
    "print(\"initial s: \", s)\n",
    "\n",
    "transfer(s, temp1)\n",
    "transfer(temp1, t)\n",
    "transfer(t, s)\n",
    "\n",
    "print(\"final s: \", s)\n"
   ]
  },
  {
   "cell_type": "markdown",
   "metadata": {},
   "source": [
    "C-6.20 Describe a nonrecursive algorithm for enumerating all permutations of the numbers {1,2,... ,n} using an explicit stack."
   ]
  },
  {
   "cell_type": "code",
   "execution_count": 124,
   "metadata": {},
   "outputs": [
    {
     "name": "stdout",
     "output_type": "stream",
     "text": [
      "[[4, 2, 1, 3], [4, 2, 3, 1], [4, 3, 1, 2], [4, 3, 2, 1], [4, 1, 2, 3], [4, 1, 3, 2], [3, 2, 4, 1], [3, 2, 1, 4], [3, 1, 4, 2], [3, 1, 2, 4], [3, 4, 2, 1], [3, 4, 1, 2], [2, 1, 4, 3], [2, 1, 3, 4], [2, 3, 4, 1], [2, 3, 1, 4], [2, 4, 1, 3], [2, 4, 3, 1], [1, 2, 4, 3], [1, 2, 3, 4], [1, 3, 4, 2], [1, 3, 2, 4], [1, 4, 2, 3], [1, 4, 3, 2]]\n",
      "0 1\n",
      "0 2\n",
      "0 6\n",
      "24 24\n",
      "120 120\n",
      "360 720\n"
     ]
    }
   ],
   "source": [
    "ints = [1, 2, 3, 4]\n",
    "\n",
    "def get_permuations(integers):\n",
    "    \n",
    "    idx = 0 \n",
    "    \n",
    "    def swap(l, i, j):\n",
    "        z = list(l)\n",
    "        z[i], z[j] = z[j], z[i]\n",
    "        return z \n",
    "\n",
    "    def get_swappers(l, idx):\n",
    "        swappers = []\n",
    "        for i in range(idx, len(l)):\n",
    "            swappers.append(swap(l, idx, i))\n",
    "        return swappers\n",
    "\n",
    "    perms_stack = Stack(get_swappers(integers, idx))\n",
    "\n",
    "    while idx < len(ints)-1:\n",
    "        temp_stack = []\n",
    "        idx +=1 \n",
    "        while not perms_stack.is_empty():\n",
    "            item = perms_stack.pop()\n",
    "            swappers = get_swappers(item, idx)\n",
    "            for item in swappers:\n",
    "                temp_stack.append(item)\n",
    "        perms_stack = Stack(temp_stack)    \n",
    "    \n",
    "    return perms_stack\n",
    "\n",
    "print(get_permuations(ints))\n",
    "\n",
    "for i in range(1, 7):\n",
    "    print(len(get_permuations([j for j in range (i)])), math.factorial(i))\n",
    "    "
   ]
  },
  {
   "cell_type": "markdown",
   "metadata": {},
   "source": [
    "C-6.21 Show how to use a stack S and a queue Q to generate all possible subsets of an n-element set T nonrecursively"
   ]
  },
  {
   "cell_type": "code",
   "execution_count": 14,
   "metadata": {},
   "outputs": [
    {
     "name": "stdout",
     "output_type": "stream",
     "text": [
      "{(1, 2), (1, 3), (1,), (2,), (3,), (1, 2, 3), (), (2, 3)}\n"
     ]
    }
   ],
   "source": [
    "l = [1, 2, 3]\n",
    "sol_sets = set()\n",
    "sol_sets.add(tuple([]))\n",
    "for item in l:\n",
    "    sol_sets.add(tuple([item]))\n",
    "\n",
    "s = Stack()\n",
    "q = Queue()\n",
    "\n",
    "for item in l:\n",
    "    s.push(tuple([item]))\n",
    "\n",
    "for i in range(len(l)-1):\n",
    "    while(not s.is_empty()):\n",
    "        item = s.pop()\n",
    "        sol_sets.add(item)\n",
    "        item = list(item)\n",
    "        for elem in l:\n",
    "            z = set(item)\n",
    "            z.add(elem)\n",
    "            z = tuple(z)\n",
    "            if z in sol_sets:\n",
    "                continue\n",
    "            else:\n",
    "                sol_sets.add(z)\n",
    "                \n",
    "                q.push(z)\n",
    "    while True:\n",
    "        try:\n",
    "            s.push(q.pop())\n",
    "        except:\n",
    "            break  \n",
    "print(sol_sets)"
   ]
  },
  {
   "cell_type": "markdown",
   "metadata": {},
   "source": [
    "C-6.22 Postfix notation is an unambiguous way of writing an arithmetic expression without parentheses. It is defined so that if “(exp1)op(exp2)” is a normal, fully parenthesized expression whose operation is op, the postfix version of this is “pexp1 pexp2 op”, where pexp1 is the postfix version of exp1 and pexp2 is the postfix version of exp2. The postfix version of a single number or variable is just that number or variable. For example, the\n",
    "postfix version of “((5+ 2)∗(8 − 3))/4” is “5 2 + 8 3 − ∗ 4 /”. Describe a nonrecursive way of evaluating an expression in postfix notation."
   ]
  },
  {
   "cell_type": "code",
   "execution_count": 15,
   "metadata": {},
   "outputs": [
    {
     "name": "stdout",
     "output_type": "stream",
     "text": [
      "8.75\n"
     ]
    }
   ],
   "source": [
    "exp = '((5 + 2)*(8 - 3))/4'\n",
    "operators = set(['-', '+', '*', '/'])\n",
    "\n",
    "op_stack = Stack()\n",
    "num_stack = Stack()\n",
    "\n",
    "def perform(operation, a, b):\n",
    "    result = 0 \n",
    "    if operation == '+':\n",
    "        result = a + b\n",
    "    elif operation == '-':\n",
    "        result = b - a\n",
    "    elif operation == '*':\n",
    "        result = a * b\n",
    "    else:\n",
    "        result = b/a \n",
    "    return result \n",
    "        \n",
    "for term in exp:\n",
    "    if term  == '(':\n",
    "        continue\n",
    "    elif term.isdigit():\n",
    "        num_stack.push(term)\n",
    "    elif term in operators:\n",
    "        op_stack.push(term)\n",
    "    elif term == ')':\n",
    "        operation = op_stack.pop()\n",
    "        a = float(num_stack.pop())\n",
    "        b = float(num_stack.pop())\n",
    "        result = perform(operation, a, b)\n",
    "        num_stack.push(result)\n",
    "        \n",
    "result = perform(op_stack.pop(), float(num_stack.pop()), float(num_stack.pop()))\n",
    "print(result)"
   ]
  },
  {
   "cell_type": "markdown",
   "metadata": {},
   "source": [
    "C-6.23 Suppose you have three nonempty stacks R, S, and T . Describe a sequence of operations that results in S storing all elements originally in T below all of S’s original elements, with both sets of those elements in their original order. The final configuration for R should be the same as its original configuration. For example, if R = [1,2,3], S = [4,5], and T = [6,7,8,9], the final configuration should have R = [1,2,3] and S = [6,7,8,9,4,5]."
   ]
  },
  {
   "cell_type": "code",
   "execution_count": 16,
   "metadata": {},
   "outputs": [
    {
     "name": "stdout",
     "output_type": "stream",
     "text": [
      "[1, 2, 3]\n",
      "[6, 7, 8, 9, 4, 5]\n",
      "[]\n"
     ]
    }
   ],
   "source": [
    "r = [1, 2, 3]\n",
    "s = [4, 5]\n",
    "t = [6, 7, 8, 9]\n",
    "\n",
    "R = Stack(r)\n",
    "S = Stack(s)\n",
    "T = Stack(t)\n",
    "\n",
    "while(not S.is_empty()):\n",
    "    R.push(S.pop())\n",
    "\n",
    "for i in range(len(t)):\n",
    "    S.push(T.pop())\n",
    "\n",
    "while (not T.is_empty()):\n",
    "    S.push(T.pop())\n",
    "\n",
    "while(not S.is_empty()):\n",
    "    R.push(S.pop())\n",
    "\n",
    "for i in range(len(t)):\n",
    "    T.push(R.pop())\n",
    "\n",
    "while (not T.is_empty()):\n",
    "    S.push(T.pop())\n",
    "\n",
    "for i in range(len(s)):\n",
    "    S.push(R.pop())\n",
    "\n",
    "print(R)\n",
    "print(S)\n",
    "print(T)"
   ]
  },
  {
   "cell_type": "markdown",
   "metadata": {},
   "source": [
    "C-6.24 Describe how to implement the stack ADT using a single queue as an instance variable, and only constant additional local memory within the method bodies. What is the running time of the push(), pop(), and top() methods for your design?"
   ]
  },
  {
   "cell_type": "code",
   "execution_count": 17,
   "metadata": {},
   "outputs": [
    {
     "name": "stdout",
     "output_type": "stream",
     "text": [
      "3\n",
      "2\n",
      "1\n"
     ]
    }
   ],
   "source": [
    "class queueStack():\n",
    "    def __init__(self):\n",
    "        self._q = Queue()\n",
    "        \n",
    "    def push(self, item):\n",
    "        self._q.push(item)\n",
    "        # rotate the queue \n",
    "        for i in range(len(self._q)-1):\n",
    "            self._q.push(self._q.pop())\n",
    "    \n",
    "    def pop(self):\n",
    "        return self._q.pop()\n",
    "    \n",
    "    def top(self):\n",
    "        return self._q.top()\n",
    "        \n",
    "s = queueStack()\n",
    "s.push(1)\n",
    "s.push(2)\n",
    "s.push(3)\n",
    "\n",
    "\n",
    "print(s.pop())\n",
    "print(s.pop())\n",
    "print(s.pop())"
   ]
  },
  {
   "cell_type": "markdown",
   "metadata": {},
   "source": [
    "C-6.25 Describe how to implement the queue ADT using two stacks as instance variables, such that all queue operations execute in amortized O(1) time. Give a formal proof of the amortized bound."
   ]
  },
  {
   "cell_type": "code",
   "execution_count": 122,
   "metadata": {},
   "outputs": [
    {
     "name": "stdout",
     "output_type": "stream",
     "text": [
      "transfering elements\n",
      "1\n",
      "[]\n",
      "2\n",
      "3\n",
      "[]\n",
      "[1, 2, 3]\n",
      "transfering elements\n",
      "1\n"
     ]
    }
   ],
   "source": [
    "class stacksQueue:\n",
    "    def __init__(self):\n",
    "        self.push_stack = Stack()\n",
    "        self.pop_stack = Stack()\n",
    "        \n",
    "    def is_empty(self):\n",
    "        return self.push_stack.is_empty() and self.pop_stack.is_empty() \n",
    "    \n",
    "    def __len__(self):\n",
    "        return len(self.push_stack) + len(self.pop_stack)\n",
    "    \n",
    "    def push(self, element):\n",
    "        self.push_stack.push(element)\n",
    "    \n",
    "    def _transfer_elements(self):\n",
    "        print(\"transfering elements\")\n",
    "        while not self.push_stack.is_empty():\n",
    "            self.pop_stack.push(self.push_stack.pop())\n",
    "            \n",
    "    def top(self):\n",
    "        if self.pop_stack.is_empty():\n",
    "            self._transfer_elements() \n",
    "            return self.pop_stack.top()\n",
    "        else:\n",
    "            return self.pop_stack.top()\n",
    "    \n",
    "    def pop(self): \n",
    "        if self.pop_stack.is_empty():\n",
    "            self._transfer_elements() \n",
    "            return self.pop_stack.pop()\n",
    "        else:\n",
    "            return self.pop_stack.pop()\n",
    "        \n",
    "queue = stacksQueue()\n",
    "queue.push(1)\n",
    "queue.push(2)\n",
    "queue.push(3)\n",
    "\n",
    "print(queue.pop())\n",
    "print(queue.push_stack)\n",
    "print(queue.pop())\n",
    "print(queue.pop())\n",
    "queue.push(1)\n",
    "queue.push(2)\n",
    "queue.push(3)\n",
    "print(queue.pop_stack)\n",
    "print(queue.push_stack)\n",
    "\n",
    "print(queue.pop())\n"
   ]
  },
  {
   "cell_type": "markdown",
   "metadata": {},
   "source": [
    "C-6.27 Suppose you have a stack S containing n elements and a queue Q that is initially empty. Describe how you can use Q to scan S to see if it contains a certain element x, with the additional constraint that your algorithm must return the elements back to S in their original order. You may only use S, Q, and a constant number of other variables."
   ]
  },
  {
   "cell_type": "code",
   "execution_count": 19,
   "metadata": {},
   "outputs": [
    {
     "name": "stdout",
     "output_type": "stream",
     "text": [
      "element not found\n",
      "[1, 2, 3, 4, 5, 6]\n"
     ]
    }
   ],
   "source": [
    "s = Stack([1, 2, 3, 4, 5, 6])\n",
    "q = Queue()\n",
    "\n",
    "element = 7\n",
    "\n",
    "counter = 0 \n",
    "while not s.is_empty():\n",
    "    popped = s.pop()\n",
    "    q.push(popped)\n",
    "    if popped == element:\n",
    "        print(\"item found\")\n",
    "        continue\n",
    "    if counter == 0 and len(s) ==1:\n",
    "        if popped != element:\n",
    "            print('element not found')\n",
    "\n",
    "while not q.is_empty():\n",
    "    s.push(q.pop())\n",
    "    \n",
    "print(s)"
   ]
  },
  {
   "cell_type": "markdown",
   "metadata": {},
   "source": [
    "C-6.28 Modify the ArrayQueue implementation so that the queue’s capacity is limited to maxlen elements, where maxlen is an optional parameter to the constructor (that defaults to None). If enqueue is called when the queue is at full capacity, throw a Full exception (defined similarly to Empty)."
   ]
  },
  {
   "cell_type": "code",
   "execution_count": 46,
   "metadata": {},
   "outputs": [
    {
     "name": "stdout",
     "output_type": "stream",
     "text": [
      "[None, None, None, None, None]\n",
      "[0, 1, 2, 3, 4]\n",
      "[None, 1, 2, 3, 4]\n",
      "[77, 1, 2, 3, 4]\n",
      "[77, None, 2, 3, 4]\n",
      "[77, 55, 2, 3, 4]\n"
     ]
    }
   ],
   "source": [
    "class ArrayQueue:\n",
    "    def __init__(self, max_capacity):\n",
    "        self.max_len = max_capacity\n",
    "        self._data = [None]*self.max_len\n",
    "        self._size = 0 \n",
    "        self._head = 0\n",
    "        self._tail = 0 \n",
    "        \n",
    "    def __len__(self):\n",
    "        return self._size\n",
    "\n",
    "    def is_empty(self):\n",
    "        return self._size == 0\n",
    "\n",
    "    def is_full(self):\n",
    "        return self._size == self.max_len\n",
    "\n",
    "    def first(self):\n",
    "        if self.is_empty():\n",
    "            raise Empty('Queue is empty')\n",
    "        return self._data[self._head]\n",
    "\n",
    "    def deque(self):\n",
    "        if self.is_empty():\n",
    "            raise Empty('Queue is empty')\n",
    "        answer = self._data[self._head]\n",
    "        self._data[self._head] = None\n",
    "        self._head = (self._head+1)%len(self._data)\n",
    "        self._size -= 1\n",
    "        return answer \n",
    "\n",
    "    def enque(self, e):\n",
    "        if self.is_full():\n",
    "            raise Full('Queue is full')\n",
    "        self._data[self._tail] = e\n",
    "        self._tail = (self._tail+1)% self.max_len\n",
    "        self._size += 1 \n",
    "    \n",
    "    def __repr__(self):\n",
    "        return str(self._data)\n",
    "            \n",
    "q = ArrayQueue(5)\n",
    "print(q)\n",
    "for i in range(5):\n",
    "    q.enque(i)\n",
    "print(q)\n",
    "q.deque()\n",
    "print(q)\n",
    "q.enque(77)\n",
    "print(q)\n",
    "q.deque()\n",
    "print(q)\n",
    "q.enque(55)\n",
    "print(q)"
   ]
  },
  {
   "cell_type": "markdown",
   "metadata": {},
   "source": [
    "C-6.29 In certain applications of the queue ADT, it is common to repeatedly dequeue an element, process it in some way, and then immediately enqueue the same element. Modify the ArrayQueue implementation to include a rotate() method that has semantics identical to the combination, Q.enqueue(Q.dequeue()). However, your implementation should be more efficient than making two separate calls (for example, because there is no need to modify size)."
   ]
  },
  {
   "cell_type": "code",
   "execution_count": 47,
   "metadata": {},
   "outputs": [],
   "source": [
    "class ArrayQueue:\n",
    "    def __init__(self, max_capacity):\n",
    "        self.max_len = max_capacity\n",
    "        self._data = [None]*self.max_len\n",
    "        self._size = 0 \n",
    "        self._head = 0\n",
    "        self._tail = 0 \n",
    "        \n",
    "    def __len__(self):\n",
    "        return self._size\n",
    "\n",
    "    def is_empty(self):\n",
    "        return self._size == 0\n",
    "\n",
    "    def is_full(self):\n",
    "        return self._size == self.max_len\n",
    "\n",
    "    def first(self):\n",
    "        if self.is_empty():\n",
    "            raise Empty('Queue is empty')\n",
    "        return self._data[self._head]\n",
    "\n",
    "    def deque(self):\n",
    "        if self.is_empty():\n",
    "            raise Empty('Queue is empty')\n",
    "        answer = self._data[self._head]\n",
    "        self._data[self._head] = None\n",
    "        self._head = (self._head+1)%len(self._data)\n",
    "        self._size -= 1\n",
    "        return answer \n",
    "\n",
    "    def enque(self, e):\n",
    "        if self.is_full():\n",
    "            raise Full('Queue is full')\n",
    "        self._data[self._tail] = e\n",
    "        self._tail = (self._tail+1)% self.max_len\n",
    "        self._size += 1\n",
    "        \n",
    "    def rotate(self):\n",
    "        if self.is_empty():\n",
    "            raise Empty('Queue is empty')       \n",
    "        answer = self._data[self._head]\n",
    "        self._data[self._head] = None\n",
    "        self._head = (self._head+1)%len(self._data)\n",
    "        self._data[self._tail] = answer\n",
    "        self._tail = (self._tail+1)% self.max_len        \n",
    "        \n",
    "    def __repr__(self):\n",
    "        return str(self._data)"
   ]
  },
  {
   "cell_type": "markdown",
   "metadata": {},
   "source": [
    "C-6.30 Alice has two queues, Q and R, which can store integers. Bob gives Alice 50 odd integers and 50 even integers and insists that she store all 100 integers in Q and R. They then play a game where Bob picks Q or R at random and then applies the round-robin scheduler, described in the chapter, to the chosen queue a random number of times. If the last number to be processed at the end of this game was odd, Bob wins. Otherwise, Alice wins. How can Alice allocate integers to queues to optimize her chances of winning? What is her chance of winning"
   ]
  },
  {
   "cell_type": "code",
   "execution_count": 48,
   "metadata": {},
   "outputs": [],
   "source": [
    "## question is not clear, Round-Robin algorithm was not discussed in this chapter"
   ]
  },
  {
   "cell_type": "markdown",
   "metadata": {},
   "source": [
    "Suppose Bob has four cows that he wants to take across a bridge, but only one yoke, which can hold up to two cows, side by side, tied to the yoke. The yoke is too heavy for him to carry across the bridge, but he can tie (and untie) cows to it in no time at all. Of his four cows, Mazie can cross the bridge in 2 minutes, Daisy can cross it in 4 minutes, Crazy can cross it in 10 minutes, and Lazy can cross it in 20 minutes. Of course, when two cows are tied to the yoke, they must go at the speed of the slower cow. Describe how Bob can get all his cows across the bridge in 34 minutes."
   ]
  },
  {
   "cell_type": "code",
   "execution_count": 49,
   "metadata": {},
   "outputs": [],
   "source": [
    "# Take Mazie and Daisy -- 4 \n",
    "## Comeback with Mazie -- 2\n",
    "## leave Mazie, take Crazy and Lazy -- 20\n",
    "## comeback with Daisy -- 4\n",
    "## take Mazie and Daisy -- 4 "
   ]
  },
  {
   "cell_type": "markdown",
   "metadata": {},
   "source": [
    "### ***Project Problems*** "
   ]
  },
  {
   "cell_type": "markdown",
   "metadata": {},
   "source": [
    "P-6.32 Give a complete ArrayDeque implementation of the double-ended queue ADT as sketched in Section 6.3.2."
   ]
  },
  {
   "cell_type": "code",
   "execution_count": 82,
   "metadata": {},
   "outputs": [
    {
     "name": "stdout",
     "output_type": "stream",
     "text": [
      "[None, None, None, None, None]\n",
      "[None, None, None, None, 1]\n",
      "[1, None, None, None, 1]\n",
      "[1, None, None, 2, 1]\n",
      "[1, 2, None, 2, 1]\n",
      "[1, 2, 3, 2, 1]\n",
      "[3, 2, 1, 1, 2, 3, None, None, None, None]\n",
      "[None, 2, 1, 1, 2, 3, None, None, None, None]\n",
      "[None, 2, 1, 1, 2, None, None, None, None, None]\n",
      "[None, None, 1, 1, 2, None, None, None, None, None]\n",
      "[None, None, 1, 1, None, None, None, None, None, None]\n",
      "[None, None, None, 1, None, None, None, None, None, None]\n",
      "[None, None, None, None, None, None, None, None, None, None]\n"
     ]
    }
   ],
   "source": [
    "class DQueue:\n",
    "    def __init__(self, initial_capacity = None):\n",
    "        if initial_capacity is not None: \n",
    "            self._data = [None]*self.initial_capacity\n",
    "        else: \n",
    "            self._data = [None]*5 \n",
    "        self._size = 0 \n",
    "        self._front = 0\n",
    "        \n",
    "    def __len__(self):\n",
    "        return self._size\n",
    "\n",
    "    def is_empty(self):\n",
    "        return self._size == 0\n",
    "\n",
    "    def first(self):\n",
    "        if self.is_empty():\n",
    "            raise Empty('DeQ is empty')\n",
    "        return self._data[self._front]\n",
    "    \n",
    "    def last(self):\n",
    "        if self.is_empty():\n",
    "            raise Empty('DeQ is empty')\n",
    "        back_idx = (self._front + self._size - 1) % len(self._data)\n",
    "        last_item = self._data[back_idx]\n",
    "        \n",
    "        return last_item\n",
    "    \n",
    "    def add_first(self, e):\n",
    "        if self._size == len(self._data):\n",
    "            self._resize(2*len(self._data))\n",
    "        self._front = (self._front - 1) % len(self._data)\n",
    "        self._data[self._front] = e\n",
    "        self._size += 1 \n",
    "\n",
    "    def delete_first(self):\n",
    "        if self.is_empty():\n",
    "            raise Empty('DeQ is empty')\n",
    "        answer = self._data[self._front]\n",
    "        self._data[self._front] = None\n",
    "        self._front = (self._front+1)%len(self._data)\n",
    "        self._size -= 1\n",
    "        return answer\n",
    "\n",
    "    def add_last(self, e):\n",
    "        if self._size == len(self._data):\n",
    "            self._resize(2*len(self._data))\n",
    "        avail = (self._front + self._size)%len(self._data)\n",
    "        self._data[avail] = e\n",
    "        self._size += 1\n",
    "        \n",
    "    def delete_last(self):\n",
    "        if self.is_empty():\n",
    "            raise('DeQ is empty')\n",
    "        back_idx = (self._front + self._size -1 ) % len(self._data)\n",
    "        last_item = self._data[back_idx]\n",
    "        self._data[back_idx] = None\n",
    "        self._size -= 1\n",
    "        return last_item \n",
    "        \n",
    "    def _resize(self, cap):\n",
    "        old = self._data \n",
    "        self._data = [None]*cap\n",
    "        walk = self._front\n",
    "        for k in range(self._size):\n",
    "            self._data[k] = old[walk]\n",
    "            walk = (1+walk)%len(old)\n",
    "        self._front = 0\n",
    "        \n",
    "    def __repr__(self):\n",
    "        return str(self._data)\n",
    "    \n",
    "dk = DQueue()\n",
    "print(dk)\n",
    "dk.add_first(1)\n",
    "print(dk)\n",
    "dk.add_last(1)\n",
    "print(dk)\n",
    "\n",
    "dk.add_first(2)\n",
    "print(dk)\n",
    "dk.add_last(2)\n",
    "print(dk)\n",
    "\n",
    "dk.add_first(3)\n",
    "print(dk)\n",
    "dk.add_last(3)\n",
    "print(dk)\n",
    "\n",
    "dk.delete_first()\n",
    "print(dk)\n",
    "dk.delete_last()\n",
    "print(dk)\n",
    "\n",
    "dk.delete_first()\n",
    "print(dk)\n",
    "dk.delete_last()\n",
    "print(dk)\n",
    "\n",
    "\n",
    "dk.delete_first()\n",
    "print(dk)\n",
    "dk.delete_last()\n",
    "print(dk)\n",
    "\n"
   ]
  },
  {
   "cell_type": "markdown",
   "metadata": {},
   "source": [
    "P-6.33 Give an array-based implementation of a double-ended queue supporting all of the public behaviors shown in Table 6.4 for the collections.deque class, including use of the maxlen optional parameter. When a lengthlimited deque is full, provide semantics similar to the collections.deque class, whereby a call to insert an element on one end of a deque causes an element to be lost from the opposite side."
   ]
  },
  {
   "cell_type": "code",
   "execution_count": 71,
   "metadata": {},
   "outputs": [],
   "source": [
    "# Given the previous problem, this one is fairly easy, no need to waste time on it "
   ]
  },
  {
   "cell_type": "markdown",
   "metadata": {},
   "source": [
    "P-6.34 Implement a program that can input an expression in postfix notation (see Exercise C-6.22) and output its value."
   ]
  },
  {
   "cell_type": "code",
   "execution_count": 83,
   "metadata": {},
   "outputs": [],
   "source": [
    "# Already solved in C-6.22 "
   ]
  },
  {
   "cell_type": "markdown",
   "metadata": {},
   "source": [
    "P-6.35 The introduction of Section 6.1 notes that stacks are often used to provide “undo” support in applications like a Web browser or text editor. While support for undo can be implemented with an unbounded stack, many applications provide only limited support for such an undo history, with a fixed-capacity stack. When push is invoked with the stack at full capacity, rather than throwing a Full exception (as described in Exercise C-6.16),\n",
    "a more typical semantic is to accept the pushed element at the top while “leaking” the oldest element from the bottom of the stack to make room. Give an implementation of such a LeakyStack abstraction, using a circular array with appropriate storage capacity. This class should have a public interface similar to the bounded-capacity stack in Exercise C-6.16, but with the desired leaky semantics when full. "
   ]
  },
  {
   "cell_type": "code",
   "execution_count": 99,
   "metadata": {},
   "outputs": [
    {
     "name": "stdout",
     "output_type": "stream",
     "text": [
      "[None, None, None, None, None]\n",
      "[0, 1, 2, 3, 4]\n",
      "[5, 1, 2, 3, 4]\n",
      "[5, 6, 2, 3, 4]\n",
      "[5, None, 2, 3, 4]\n",
      "[5, 7, 2, 3, 4]\n"
     ]
    }
   ],
   "source": [
    "class LeakyStack:\n",
    "    def __init__(self, max_capacity = None):\n",
    "        if max_capacity is not None: \n",
    "            self.max_len = max_capacity\n",
    "        else:\n",
    "            self.max_len = 5 \n",
    "            \n",
    "        self._data = [None]*self.max_len\n",
    "        self._size = 0 \n",
    "        self._head = 0\n",
    "        \n",
    "    def __len__(self):\n",
    "        return self._size\n",
    "\n",
    "    def is_empty(self):\n",
    "        return self._size == 0\n",
    "\n",
    "    def is_full(self):\n",
    "        return self._size == self.max_len\n",
    "\n",
    "    def push(self, e):\n",
    "        self._data[self._head] = e\n",
    "        self._head = (self._head+1)%self.max_len\n",
    "        self._size += 1 \n",
    "  \n",
    "    def top(self):\n",
    "        if self.is_empty():\n",
    "            raise Empty(\"Leaky Stack is empty\")\n",
    "        _top = self._data[self._head]\n",
    "        return _top\n",
    "    \n",
    "    def pop(self):\n",
    "        if self.is_empty():\n",
    "            raise Empty(\"Leaky Stack is empty\")\n",
    "        _top = self.top() \n",
    "        self._head = (self._head-1)%self.max_len\n",
    "        self._data[self._head] = None \n",
    "        self._size -= 1 \n",
    "        return _top \n",
    "\n",
    "    \n",
    "    def __repr__(self):\n",
    "        return str(self._data)\n",
    "    \n",
    "ls = LeakyStack()\n",
    "print(ls)\n",
    "\n",
    "for i in range(5):\n",
    "    ls.push(i)\n",
    "print(ls)\n",
    "\n",
    "ls.push(5)\n",
    "print(ls)\n",
    "\n",
    "ls.push(6)\n",
    "print(ls)\n",
    "\n",
    "ls.pop()\n",
    "print(ls)\n",
    "\n",
    "ls.push(7)\n",
    "print(ls)"
   ]
  },
  {
   "cell_type": "markdown",
   "metadata": {},
   "source": [
    "P-6.36 When a share of common stock of some company is sold, the capital gain (or, sometimes, loss) is the difference between the share’s selling price and the price originally paid to buy it. This rule is easy to understand for a single share, but if we sell multiple shares of stock bought over a long period of time, then we must identify the shares actually being sold. A standard accounting principle for identifying which shares of a stock were sold in such a case is to use a FIFO protocol—the shares sold are the ones that have been held the longest (indeed, this is the default method built into several personal finance software packages). For example, suppose we buy 100 shares at $ \\$ $20 each on day 1, 20 shares at $ \\$ $24 on day 2, 200 shares at $ \\$ $36 on day 3, and then sell 150 shares on day 4 at $ \\$ $30 each. Then applying the FIFO protocol means that of the 150 shares sold, 100 were bought on day 1, 20 were bought on day 2, and 30 were bought on day 3. The capital gain in this case would therefore be 100· 10+20· 6+30 ·(−6), or $ \\$ $940. Write a program that takes as input a sequence of transactions of the form “buy x share(s) at y each” or “sell x share(s) at y each,” assuming that the transactions occur on consecutive days and the values x and y are integers. Given this input sequence, the output should be the total capital gain (or loss) for the entire sequence, using the FIFO protocol to identify shares."
   ]
  },
  {
   "cell_type": "code",
   "execution_count": 126,
   "metadata": {},
   "outputs": [
    {
     "data": {
      "text/plain": [
       "'\\nIt\\'s straight forward, use a string.split(\" \") to split the text in words exctract\\nthe numbers and use a stack to process. Very simple !\\n'"
      ]
     },
     "execution_count": 126,
     "metadata": {},
     "output_type": "execute_result"
    }
   ],
   "source": [
    "'''\n",
    "It's straight forward, use a string.split(\" \") to split the text in words exctract\n",
    "the numbers and use a stack to process. Very simple !\n",
    "'''\n",
    "\n"
   ]
  },
  {
   "cell_type": "markdown",
   "metadata": {},
   "source": [
    "P-6.37 Design an ADT for a two-color, double-stack ADT that consists of two stacks—one “red” and one “blue”—and has as its operations color-coded versions of the regular stack ADT operations. For example, this ADT should support both a red push operation and a blue push operation. Give an efficient implementation of this ADT using a single array whose capacity is set at some value N that is assumed to always be larger than the sizes of the red and blue stacks combined"
   ]
  },
  {
   "cell_type": "code",
   "execution_count": 120,
   "metadata": {},
   "outputs": [
    {
     "name": "stdout",
     "output_type": "stream",
     "text": [
      "[None, None, None, None, None, None, None, None, None, None]\n",
      "[1, None, None, None, None, None, None, None, None, None]\n",
      "[1, None, None, None, None, None, None, None, None, 2]\n",
      "[None, None, None, None, None, None, None, None, None, 2]\n",
      "[None, None, None, None, None, None, None, None, None, None]\n",
      "[0, 1, 2, 3, 4, 5, 6, None, None, None]\n",
      "[0, 1, 2, 3, 4, 5, 6, None, None, 10]\n",
      "[0, 1, 2, 3, 4, 5, 6, None, 11, 10]\n",
      "[0, 1, 2, 3, 4, 5, 6, 12, 11, 10]\n"
     ]
    },
    {
     "ename": "Full",
     "evalue": "Stack is full",
     "output_type": "error",
     "traceback": [
      "\u001b[0;31m---------------------------------------------------------------------------\u001b[0m",
      "\u001b[0;31mFull\u001b[0m                                      Traceback (most recent call last)",
      "\u001b[0;32m<ipython-input-120-d8d6ffeeb890>\u001b[0m in \u001b[0;36m<module>\u001b[0;34m()\u001b[0m\n\u001b[1;32m     65\u001b[0m \u001b[0;34m\u001b[0m\u001b[0m\n\u001b[1;32m     66\u001b[0m \u001b[0;32mfor\u001b[0m \u001b[0mi\u001b[0m \u001b[0;32min\u001b[0m \u001b[0mrange\u001b[0m\u001b[0;34m(\u001b[0m\u001b[0;36m4\u001b[0m\u001b[0;34m)\u001b[0m\u001b[0;34m:\u001b[0m\u001b[0;34m\u001b[0m\u001b[0;34m\u001b[0m\u001b[0m\n\u001b[0;32m---> 67\u001b[0;31m     \u001b[0ms\u001b[0m\u001b[0;34m.\u001b[0m\u001b[0mpush_blue\u001b[0m\u001b[0;34m(\u001b[0m\u001b[0mi\u001b[0m\u001b[0;34m+\u001b[0m\u001b[0;36m10\u001b[0m\u001b[0;34m)\u001b[0m\u001b[0;34m\u001b[0m\u001b[0;34m\u001b[0m\u001b[0m\n\u001b[0m\u001b[1;32m     68\u001b[0m     \u001b[0mprint\u001b[0m\u001b[0;34m(\u001b[0m\u001b[0ms\u001b[0m\u001b[0;34m)\u001b[0m\u001b[0;34m\u001b[0m\u001b[0;34m\u001b[0m\u001b[0m\n",
      "\u001b[0;32m<ipython-input-120-d8d6ffeeb890>\u001b[0m in \u001b[0;36mpush_blue\u001b[0;34m(self, e)\u001b[0m\n\u001b[1;32m     23\u001b[0m     \u001b[0;32mdef\u001b[0m \u001b[0mpush_blue\u001b[0m\u001b[0;34m(\u001b[0m\u001b[0mself\u001b[0m\u001b[0;34m,\u001b[0m \u001b[0me\u001b[0m\u001b[0;34m)\u001b[0m\u001b[0;34m:\u001b[0m\u001b[0;34m\u001b[0m\u001b[0;34m\u001b[0m\u001b[0m\n\u001b[1;32m     24\u001b[0m         \u001b[0;32mif\u001b[0m \u001b[0mself\u001b[0m\u001b[0;34m.\u001b[0m\u001b[0mis_full\u001b[0m\u001b[0;34m(\u001b[0m\u001b[0;34m)\u001b[0m\u001b[0;34m:\u001b[0m\u001b[0;34m\u001b[0m\u001b[0;34m\u001b[0m\u001b[0m\n\u001b[0;32m---> 25\u001b[0;31m             \u001b[0;32mraise\u001b[0m \u001b[0mFull\u001b[0m\u001b[0;34m(\u001b[0m\u001b[0;34m\"Stack is full\"\u001b[0m\u001b[0;34m)\u001b[0m\u001b[0;34m\u001b[0m\u001b[0;34m\u001b[0m\u001b[0m\n\u001b[0m\u001b[1;32m     26\u001b[0m         \u001b[0mself\u001b[0m\u001b[0;34m.\u001b[0m\u001b[0m_data\u001b[0m\u001b[0;34m[\u001b[0m\u001b[0mself\u001b[0m\u001b[0;34m.\u001b[0m\u001b[0m_top_blue\u001b[0m\u001b[0;34m]\u001b[0m \u001b[0;34m=\u001b[0m \u001b[0me\u001b[0m\u001b[0;34m\u001b[0m\u001b[0;34m\u001b[0m\u001b[0m\n\u001b[1;32m     27\u001b[0m         \u001b[0mself\u001b[0m\u001b[0;34m.\u001b[0m\u001b[0m_top_blue\u001b[0m \u001b[0;34m-=\u001b[0m \u001b[0;36m1\u001b[0m\u001b[0;34m\u001b[0m\u001b[0;34m\u001b[0m\u001b[0m\n",
      "\u001b[0;31mFull\u001b[0m: Stack is full"
     ]
    }
   ],
   "source": [
    "class doubleStack():\n",
    "    def __init__(self, capacity = None):\n",
    "        if capacity is not None: \n",
    "            self._capacity = capacity\n",
    "        else:\n",
    "            self._capacity = 10\n",
    "            \n",
    "        self._data = [None]*self._capacity \n",
    "        self._size =0 \n",
    "        self._top_red = 0\n",
    "        self._top_blue = len(self._data)-1\n",
    "        \n",
    "    def is_full(self):\n",
    "        return self._size == self._capacity \n",
    "\n",
    "    def push_red(self, e):\n",
    "        if self.is_full():\n",
    "            raise Full(\"Stack is full\")\n",
    "        self._data[self._top_red] = e\n",
    "        self._top_red += 1\n",
    "        self._size +=1 \n",
    "\n",
    "    def push_blue(self, e):\n",
    "        if self.is_full():\n",
    "            raise Full(\"Stack is full\")\n",
    "        self._data[self._top_blue] = e\n",
    "        self._top_blue -= 1\n",
    "        self._size += 1\n",
    "\n",
    "    def pop_red(self):\n",
    "        if self._top_red == 0:\n",
    "            raise Empty(\"Red Stack is empty\")\n",
    "        self._top_red -= 1\n",
    "        e = self._data[self._top_red]\n",
    "        self._data[self._top_red] = None\n",
    "        self._size -= 1 \n",
    "        return e \n",
    "\n",
    "    def pop_blue(self):\n",
    "        if self._top_blue == self._capacity:\n",
    "            raise Empty(\"Blue Stack is empty\")\n",
    "        self._top_blue +=1 \n",
    "        e = self._data[self._top_blue]\n",
    "        self._data[self._top_blue] = None\n",
    "        self._size -= 1\n",
    "        return e\n",
    "        \n",
    "    def __repr__(self):\n",
    "        return str(self._data)\n",
    "\n",
    "s = doubleStack()\n",
    "print(s)\n",
    "s.push_red(1)\n",
    "print(s)\n",
    "s.push_blue(2)\n",
    "print(s)\n",
    "s.pop_red()\n",
    "print(s)\n",
    "s.pop_blue()\n",
    "print(s)\n",
    "\n",
    "for i in range(7):\n",
    "    s.push_red(i)\n",
    "print(s)\n",
    "\n",
    "for i in range(4):\n",
    "    s.push_blue(i+10)\n",
    "    print(s)"
   ]
  },
  {
   "cell_type": "code",
   "execution_count": null,
   "metadata": {},
   "outputs": [],
   "source": []
  }
 ],
 "metadata": {
  "kernelspec": {
   "display_name": "Python 3",
   "language": "python",
   "name": "python3"
  },
  "language_info": {
   "codemirror_mode": {
    "name": "ipython",
    "version": 3
   },
   "file_extension": ".py",
   "mimetype": "text/x-python",
   "name": "python",
   "nbconvert_exporter": "python",
   "pygments_lexer": "ipython3",
   "version": "3.7.3"
  }
 },
 "nbformat": 4,
 "nbformat_minor": 2
}
