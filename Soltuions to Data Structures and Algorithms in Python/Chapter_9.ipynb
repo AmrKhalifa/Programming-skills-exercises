{
 "cells": [
  {
   "cell_type": "markdown",
   "metadata": {},
   "source": [
    "#### Solutions to the problems of Chapter 9\n",
    "### Priority Queues and Heaps"
   ]
  },
  {
   "cell_type": "markdown",
   "metadata": {},
   "source": [
    "### helper classes "
   ]
  },
  {
   "cell_type": "code",
   "execution_count": 14,
   "metadata": {},
   "outputs": [],
   "source": [
    "class Empty(Exception):\n",
    "    pass \n",
    "class _DoublyLinkedBase:\n",
    "    class _Node:\n",
    "        __slots__='_element', '_prev', '_next'\n",
    "        \n",
    "        def __init__(self, element, prev, nxt):\n",
    "            self._element = element \n",
    "            self._prev = prev\n",
    "            self._next = nxt \n",
    "            \n",
    "    def __init__(self):\n",
    "        self._header = self._Node(None, None, None)\n",
    "        self._trailer = self._Node(None, None, None)\n",
    "        self._header._next = self._trailer \n",
    "        self._trailer._prev = self._header\n",
    "        self._size = 0 \n",
    "        \n",
    "    def __len__(self): \n",
    "        return self._size \n",
    "    \n",
    "    def is_empty(self):\n",
    "        return self._size == 0 \n",
    "    \n",
    "    def _insert_between(self, e, predecessor, successor):\n",
    "        newest = self._Node(e, predecessor, successor)\n",
    "        predecessor._next = newest\n",
    "        successor._prev = newest \n",
    "        self._size += 1\n",
    "        return newest \n",
    "    \n",
    "    def _delete_node(self, node):\n",
    "        predecessor = node._prev \n",
    "        successor = node._next \n",
    "        predecessor._next = successor \n",
    "        successor._prev = predecessor \n",
    "        self._size -= 1\n",
    "        element = node._element \n",
    "        node._prev = node._next = node._element = None\n",
    "        return element \n",
    "\n",
    "class PositionalList(_DoublyLinkedBase):\n",
    "    def __init__(self):\n",
    "        super().__init__() \n",
    "        \n",
    "    class Position: \n",
    "        def __init__(self, container, node):\n",
    "            self._container = container \n",
    "            self._node = node \n",
    "            \n",
    "        def element(self):\n",
    "            return self._node._element \n",
    "        def __eq__(self, other): \n",
    "            return type(other) is type(self) and other._node is self._node\n",
    "        def __ne__(self, other):\n",
    "            return not(self==other)\n",
    "    \n",
    "    def _validate(self, p):\n",
    "        if not isinstance(p, self.Position):\n",
    "            raise TypeError('p must be proper position type')\n",
    "        if p._container is not self:\n",
    "            raise ValueError('p does not belong to this type')\n",
    "        if p._node._next is None:\n",
    "            raise ValueError('p is no longer valid')\n",
    "        return p._node \n",
    "    \n",
    "    def _make_position(self, node):\n",
    "        if (node is self._header) or (node is self._trailer):\n",
    "            return None\n",
    "        else:\n",
    "            return self.Position(self, node)\n",
    "        \n",
    "    def first(self):\n",
    "        return self._make_position(self._header._next)\n",
    "    \n",
    "    def last(self):\n",
    "        return self._make_position(self._trailer._prev)\n",
    "    \n",
    "    def before(self, p):\n",
    "        node = self._validate(p)\n",
    "        return self._make_position(node._prev)\n",
    "    \n",
    "    def after(self, p):\n",
    "        node = self._validate(p)\n",
    "        return self._make_position(node._next)\n",
    "    \n",
    "    def __iter__(self):\n",
    "        cursor = self.first() \n",
    "        while cursor is not None:\n",
    "            yield cursor.element()\n",
    "            cursor = self.after(cursor)\n",
    "            \n",
    "    def _insert_between(self, e, predecessor, successor):\n",
    "        node = super()._insert_between(e, predecessor, successor)\n",
    "        return self._make_position(node)\n",
    "    \n",
    "    def add_first(self, e):\n",
    "        return self._insert_between(e, self._header, self._header._next)\n",
    "    \n",
    "    def add_last(self, e):\n",
    "        return self._insert_between(e, self._trailer._prev, self._trailer)\n",
    "    \n",
    "    def add_before(self, p, e):\n",
    "        original = self._validate(p)\n",
    "        return self._insert_between(e, original._prev, original)\n",
    "    \n",
    "    def add_after(self, p, e):\n",
    "        original = self._validate(p)\n",
    "        return self._insert_between(e, original, original._next)\n",
    "    \n",
    "    def delete(self, p):\n",
    "        original = self._validate(p)\n",
    "        return self._delete_node(original)\n",
    "    \n",
    "    def replace(self, p, e):\n",
    "        original = self._validate(p)\n",
    "        old_value = original._element \n",
    "        original._element = e\n",
    "        return old_value"
   ]
  },
  {
   "cell_type": "markdown",
   "metadata": {},
   "source": [
    "#### Implementation to the Priority Queue ADT,  UnsortedPriorityQueue   "
   ]
  },
  {
   "cell_type": "code",
   "execution_count": 15,
   "metadata": {},
   "outputs": [],
   "source": [
    "class PriorityQueueBase:\n",
    "    class _Item:\n",
    "        __slots__= '_key', '_value'\n",
    "        def __init__(self, key, value):\n",
    "            self._key = key\n",
    "            self._value = value \n",
    "        def __lt__(self, other):\n",
    "            return self._key < other._key \n",
    "    def is_empty(self):\n",
    "        return len(self) ==0 "
   ]
  },
  {
   "cell_type": "code",
   "execution_count": 16,
   "metadata": {},
   "outputs": [],
   "source": [
    "class UnsortedPriorityQueue(PriorityQueueBase): \n",
    "    def __init__(self):\n",
    "        self._data = PositionalList() \n",
    "    \n",
    "    def __len__(self):\n",
    "        return len(self._data)\n",
    "    \n",
    "    def add(self, key, value):\n",
    "        self._data.add_last(self._Item(key, value))\n",
    "    \n",
    "    def _find_min(self):\n",
    "        if self.is_empty():\n",
    "            raise Empty(\"Empty Prioirty Queue\")\n",
    "        minimum = self._data.first() \n",
    "        current = self._data.after(minimum)\n",
    "        while current is not None:\n",
    "            if current.element()< minimum.element():\n",
    "                minimum = current\n",
    "            current = self._data.after(current)\n",
    "        return minimum \n",
    "    \n",
    "    def min(self):\n",
    "        item = self._find_min().element() \n",
    "        return (item._key, item._value) \n",
    "    \n",
    "    def remove_min(self):\n",
    "        minimum = self._find_min()\n",
    "        item = self._data.delete(minimum) \n",
    "        return (item._key, item._value) "
   ]
  },
  {
   "cell_type": "code",
   "execution_count": 17,
   "metadata": {},
   "outputs": [],
   "source": [
    "class SortedPriorityQueue(PriorityQueueBase):\n",
    "    def __init__(self):\n",
    "        self._data = PositionalList() \n",
    "    def __len__(self):\n",
    "        return len(self._data)\n",
    "    def add(self, key, value):\n",
    "        new = self._Item(key, value)\n",
    "        current = self._data.last() \n",
    "        while current is not None and new<current.element(): \n",
    "            current = self._data.before(current)\n",
    "        if current is None: \n",
    "            self._data.add_first(new)\n",
    "        else:\n",
    "            self._data.add_after(current, new)\n",
    "            \n",
    "    def min(self):\n",
    "        if self.is_empty():\n",
    "            raise Empty(\"Empty Priority Queue\")\n",
    "        min_item = self._data.first().element()\n",
    "        return (min_item._key, min_item._value)\n",
    "    \n",
    "    def remove_min(self):\n",
    "        if self.is_empty():\n",
    "            raise Empty(\"Empty Priority Queue\")\n",
    "        min_item = self._data.delete(self._data.first())\n",
    "        return (min_item._key, min_item._value)"
   ]
  },
  {
   "cell_type": "markdown",
   "metadata": {},
   "source": [
    "#### Heap Data structure "
   ]
  },
  {
   "cell_type": "code",
   "execution_count": 32,
   "metadata": {},
   "outputs": [],
   "source": [
    "class HeapPriorityQueue(PriorityQueueBase):\n",
    "    def __init__(self, contents = ()): \n",
    "        self._data = [self._Item(k, v) for k, v in contents]\n",
    "        if len(self._data)>1:\n",
    "            self._heapify() \n",
    "            \n",
    "    def __len__(self):\n",
    "        return len(self._data) \n",
    "    \n",
    "    def _heapify(self): \n",
    "        start = self.parent(len(self._data)-1)  \n",
    "        for j in range(start, -1, -1):\n",
    "            self._downheap(j)\n",
    "    \n",
    "    def add(self, key, value):\n",
    "        self._data.append(self._Item(key, value))\n",
    "        self._upheap(len(self._data)-1)\n",
    "    \n",
    "    def min(self):\n",
    "        if self.is_empty():\n",
    "            raise Empty(\"Empty Priority Queue!\")\n",
    "        mini = self._data[0]\n",
    "        return (mini._key, mini._value)\n",
    "    \n",
    "    def remove_min(self):\n",
    "        if self.is_empty():\n",
    "            raise Empty(\"Empty Priority Queue!\")\n",
    "        self._swap(0, len(self._data)-1)\n",
    "        mini = self._data.pop()\n",
    "        self._downheap(0)\n",
    "        return (mini._key, mini._value) \n",
    "    \n",
    "    def _parent(self, j):\n",
    "        return (j-1)//2 \n",
    "    \n",
    "    def _left(self, j):\n",
    "        return (2*j) + 1 \n",
    "    \n",
    "    def _right(self, j):\n",
    "        return (2*j) + 2 \n",
    "    \n",
    "    def _has_left(self, j):\n",
    "        return self._left(j) < len(self._data)\n",
    "    \n",
    "    def _has_right(self, j):\n",
    "        return self._right(j) < len(self._data)\n",
    "    \n",
    "    def _swap(self, i, j):\n",
    "        self._data[i], self._data[j] = self._data[j], self._data[i]\n",
    "    \n",
    "    def _upheap(self, j):\n",
    "        parent = self._parent(j)\n",
    "        if j>0 and (self._data[j]<self._data[parent]): \n",
    "            self._swap(j, parent)\n",
    "            self._upheap(parent)\n",
    "    \n",
    "    def _downheap(self, j):\n",
    "        if self._has_left(j):\n",
    "            small_child = self._left(j)\n",
    "            if self._has_right(j):\n",
    "                right_child = self._right(j)\n",
    "                if self._data[right_child]<self._data[small_child]:\n",
    "                    small_child = right_child\n",
    "            \n",
    "            if self._data[small_child]<self._data[j]: \n",
    "                self._swap(j, small_child)\n",
    "                self._downheap(small_child)"
   ]
  },
  {
   "cell_type": "code",
   "execution_count": 33,
   "metadata": {},
   "outputs": [],
   "source": [
    "class AdaptableHeapPriorityQueue(HeapPriorityQueue):\n",
    "    class Locator(HeapPriorityQueue._Item):\n",
    "        __slot__ = '_index'\n",
    "        def __init__(self, k, v, j):\n",
    "            super().__init__(k, v)\n",
    "            self._index = j\n",
    "    \n",
    "    def _swap(self, i, j):\n",
    "        super()._swap(i, j)\n",
    "        self._data[i]._index = i\n",
    "        self._data[j]._index = j\n",
    "        \n",
    "    def _bubble(self, j):\n",
    "        if j>0 and self._data[j] < self._data[self._parent(j)]:\n",
    "            self._upheap(j)\n",
    "        else:\n",
    "            self._downheap(j)\n",
    "            \n",
    "    def add(self, key, value):\n",
    "        token = self.Locator(key, value, len(self._data))\n",
    "        self._data.append(token)\n",
    "        self._upheap(len(self._data)-1)\n",
    "        return token\n",
    "    \n",
    "    def update(self, loc, newkey, newval):\n",
    "        j = loc._index \n",
    "        if not (0 <= j <len(self) and self._data[j] is loc):\n",
    "            raise ValueError(\"InValid locator\")\n",
    "        loc._key = newkey\n",
    "        loc._value = newval \n",
    "        self._bubble(j)\n",
    "        \n",
    "    def remove(self, loc):\n",
    "        j = loc._index \n",
    "        if not(0<=j<len(self) and self._data[j]is loc):\n",
    "            raise ValueError(\"Invalid locator\")\n",
    "        if j==len(self)-1:\n",
    "            self._pop()\n",
    "        else:\n",
    "            self._swap(j, len(self)-1)\n",
    "            self._data.pop()\n",
    "            self._bubble(j)\n",
    "        return(loc._key, loc._value)\n",
    "    "
   ]
  },
  {
   "cell_type": "markdown",
   "metadata": {},
   "source": [
    "***Reinforcement Problems***"
   ]
  },
  {
   "cell_type": "markdown",
   "metadata": {},
   "source": [
    "R-9.5 The min method for the UnsortedPriorityQueue class executes in O(n)time, as analyzed in Table 9.2. Give a simple modification to the class so that min runs in O(1) time. Explain any necessary modifications to other methods of the class."
   ]
  },
  {
   "cell_type": "markdown",
   "metadata": {},
   "source": [
    "this can be done if we have a variable that keeps track of the min value with each addition. It checks if the newly added value is less than or equal to the current min. if less then it stores it. This variable can be accessed in O(1) time. "
   ]
  },
  {
   "cell_type": "markdown",
   "metadata": {},
   "source": [
    "R-9.6 Can you adapt your solution to the previous problem to make remove_min run in O(1) time for the UnsortedPriorityQueue class? Explain your answer."
   ]
  },
  {
   "cell_type": "markdown",
   "metadata": {},
   "source": [
    "I don't think so because we need to find the min each time we do a removal. "
   ]
  },
  {
   "cell_type": "markdown",
   "metadata": {},
   "source": [
    "R-9.12 Consider a situation in which a user has numeric keys and wishes to have a priority queue that is maximum-oriented. How could a standard (minoriented) priority queue be used for such a purpose?"
   ]
  },
  {
   "cell_type": "markdown",
   "metadata": {},
   "source": [
    "replace each key with the negative value of that key. "
   ]
  },
  {
   "cell_type": "markdown",
   "metadata": {},
   "source": [
    "***Creativity Problems*** "
   ]
  },
  {
   "cell_type": "markdown",
   "metadata": {},
   "source": [
    "C-9.26 Show how to implement the stack ADT using only a priority queue and one additional integer instance variable."
   ]
  },
  {
   "cell_type": "code",
   "execution_count": 38,
   "metadata": {},
   "outputs": [],
   "source": [
    "class PQStack:\n",
    "    counter = 0 \n",
    "    def __init__(self):\n",
    "        self._pq = HeapPriorityQueue()\n",
    "        self._count = 0 \n",
    "        \n",
    "    def push(self, e): \n",
    "        self._count -= 1 \n",
    "        self._pq.add(self._count, e)\n",
    "        \n",
    "    def pop(self):\n",
    "        return self._pq.remove_min()[1]\n",
    "    \n",
    "    def top(self):\n",
    "        return self._pq.min()[1]"
   ]
  },
  {
   "cell_type": "code",
   "execution_count": 39,
   "metadata": {},
   "outputs": [
    {
     "name": "stdout",
     "output_type": "stream",
     "text": [
      "d\n",
      "d\n",
      "c\n",
      "b\n",
      "a\n"
     ]
    }
   ],
   "source": [
    "stack = PQStack() \n",
    "stack.push(\"a\")\n",
    "stack.push(\"b\")\n",
    "stack.push(\"c\")\n",
    "stack.push(\"d\")\n",
    "\n",
    "print(stack.top())\n",
    "print(stack.pop())\n",
    "print(stack.pop())\n",
    "print(stack.pop())\n",
    "print(stack.pop())"
   ]
  },
  {
   "cell_type": "markdown",
   "metadata": {},
   "source": [
    "C-9.27 Show how to implement the FIFO queue ADT using only a priority queue and one additional integer instance variable."
   ]
  },
  {
   "cell_type": "code",
   "execution_count": 41,
   "metadata": {},
   "outputs": [],
   "source": [
    "class PQFIFO:\n",
    "    counter = 0 \n",
    "    def __init__(self):\n",
    "        self._pq = HeapPriorityQueue()\n",
    "        self._count = 0 \n",
    "        \n",
    "    def enqueue(self, e): \n",
    "        self._count += 1 \n",
    "        self._pq.add(self._count, e)\n",
    "        \n",
    "    def dequeue(self):\n",
    "        return self._pq.remove_min()[1]\n",
    "    \n",
    "    def top(self):\n",
    "        return self._pq.min()[1]"
   ]
  },
  {
   "cell_type": "code",
   "execution_count": 43,
   "metadata": {},
   "outputs": [
    {
     "name": "stdout",
     "output_type": "stream",
     "text": [
      "a\n",
      "a\n",
      "b\n"
     ]
    }
   ],
   "source": [
    "queue = PQFIFO() \n",
    "queue.enqueue(\"a\")\n",
    "queue.enqueue(\"b\")\n",
    "queue.enqueue(\"c\")\n",
    "queue.enqueue(\"d\")\n",
    "\n",
    "print(queue.top())\n",
    "print(queue.dequeue())\n",
    "print(queue.dequeue())"
   ]
  },
  {
   "cell_type": "markdown",
   "metadata": {},
   "source": [
    "C-9.28 Professor Idle suggests the following solution to the previous problem.Whenever an item is inserted into the queue, it is assigned a key that is equal to the current size of the queue. Does such a strategy result in FIFO semantics? Prove that it is so or provide a counterexample."
   ]
  },
  {
   "cell_type": "markdown",
   "metadata": {},
   "source": [
    "no, think about the case when we do at least two deletions, the newely added element will have the same key as an exisiting element, which will cause a problem since we will not know where to put this one. "
   ]
  },
  {
   "cell_type": "markdown",
   "metadata": {},
   "source": [
    "C-9.29 Reimplement the SortedPriorityQueue using a Python list. Make sure to maintain remove min’s O(1) performance."
   ]
  },
  {
   "cell_type": "code",
   "execution_count": 102,
   "metadata": {},
   "outputs": [],
   "source": [
    "class SortedPQ(PriorityQueueBase): \n",
    "    def __init__(self):\n",
    "        self._data = []\n",
    "\n",
    "    def __len__(self):\n",
    "        return len(self._data)\n",
    "\n",
    "    def add(self, key, value):\n",
    "        new = self._Item(key, value)\n",
    "        self._data.append(new)\n",
    "        idx = len(self._data)-1\n",
    "        while idx >= 0 and self._data[idx]._key>self._data[idx-1]._key:\n",
    "            self._data[idx], self._data[idx-1] = self._data[idx-1], self._data[idx]\n",
    "            idx -= 1 \n",
    "            \n",
    "    def min(self):\n",
    "        if self.is_empty():\n",
    "            raise Empty(\"Empty Priority Queue\")\n",
    "        min_item = self._data[-1]\n",
    "        return (min_item._key, min_item._value)\n",
    "\n",
    "    def remove_min(self):\n",
    "        if self.is_empty():\n",
    "            raise Empty(\"Empty Priority Queue\")\n",
    "        min_item = self._data.pop(-1)\n",
    "        return (min_item._key, min_item._value)\n",
    "    \n",
    "    def __str__(self):\n",
    "        return''.join(\"(\"+str(item._key)+\",\"+str(item._value)+\")\" for item in self._data) "
   ]
  },
  {
   "cell_type": "code",
   "execution_count": 104,
   "metadata": {},
   "outputs": [
    {
     "name": "stdout",
     "output_type": "stream",
     "text": [
      "(5,a)(4,d)(2,c)(1,e)\n",
      "(1, 'e')\n",
      "(1, 'e')\n",
      "(2, 'c')\n",
      "(2, 'c')\n",
      "(4, 'd')\n"
     ]
    }
   ],
   "source": [
    "pq = SortedPQ()\n",
    "pq.add(5, \"a\")\n",
    "pq.add(2, \"c\")\n",
    "pq.add(4, \"d\")\n",
    "pq.add(1, \"e\")\n",
    "print(pq)\n",
    "print(pq.min())\n",
    "print(pq.remove_min())\n",
    "print(pq.min())\n",
    "print(pq.remove_min())\n",
    "print(pq.min())"
   ]
  },
  {
   "cell_type": "markdown",
   "metadata": {},
   "source": [
    "* C-9.30 Give a nonrecursive implementation of the upheap method for the class\n",
    "HeapPriorityQueue.\n",
    "* C-9.31 Give a nonrecursive implementation of the downheap method for the class HeapPriorityQueue."
   ]
  },
  {
   "cell_type": "markdown",
   "metadata": {},
   "source": [
    "#### Full non-recursive heap data structure \n",
    "##### We'll implement a max-heap because we already have a min-heap "
   ]
  },
  {
   "cell_type": "code",
   "execution_count": 180,
   "metadata": {},
   "outputs": [],
   "source": [
    "class HeapPQ(PriorityQueueBase):\n",
    "    def __init__(self, contents = ()):\n",
    "        self._data = [self._Item(k, v) for k, v in contents]\n",
    "            \n",
    "    def __len__(self):\n",
    "        return len(self._data) \n",
    "    \n",
    "    def _heapify(self):\n",
    "        leafs_start = self._parent(len(self._data)-1)\n",
    "        for i in range(leafs_start, -1, -1):\n",
    "            self._downheap(i) \n",
    "    \n",
    "    def add(self, key, value):\n",
    "        self._data.append(self_Item(key, value))\n",
    "        self._upheap(len(self._data)-1) \n",
    "    \n",
    "    def min(self):\n",
    "        if len(self._data) == 0:\n",
    "            raise Empty('Prioirty Queue is Empty!')\n",
    "        mini = self._data[0]\n",
    "        return (mini._key, mini._value)\n",
    "    \n",
    "    def remove_min(self):\n",
    "        if len(self._data) == 0:\n",
    "            raise Empty('Prioiry Queue is Empty!')\n",
    "        self._swap(0, len(self._data)-1)\n",
    "        mini = self._data.pop()\n",
    "        self._downheap(0)\n",
    "        return (mini._key, mini._value) \n",
    "    \n",
    "    def _parent(self, j):\n",
    "        return (j-1)//2 \n",
    "    \n",
    "    def _left(self, j):\n",
    "        return 2*j+1 \n",
    "    \n",
    "    def _right(self, j):\n",
    "        return 2*j+2 \n",
    "    \n",
    "    def _has_left(self, j):\n",
    "        return self._left(j)<len(self._data) \n",
    "    \n",
    "    def _has_right(self, j):\n",
    "        return self._right(j)<len(self._data) \n",
    "    \n",
    "    def _swap(self, i, j):\n",
    "        self._data[i], self._data[j] = self._data[j], self._data[i] \n",
    "    \n",
    "    def _upheap(self, j):\n",
    "        while j>0 and self._data[self._parent(j)]._key < self._data[j]._key:\n",
    "            self._swap(j, self._parent(j))\n",
    "            j = self._parent(j) \n",
    "    \n",
    "    def _downheap(self, j):\n",
    "        while j<len(self._data) and self._has_left(j):\n",
    "            larger = self._left(j)\n",
    "            if self._has_right(j): \n",
    "                right = self._right(j)\n",
    "                if self._data[right]._key>self._data[larger]._key:\n",
    "                    larger = right\n",
    "            if self._data[j] < self._data[larger]: \n",
    "                self._swap(j, larger)\n",
    "            j = larger \n",
    "    \n",
    "    def __repr__(self): \n",
    "        return ''.join(\"(\"+str(item._key)+\",\"+str(item._value)+\")\" for item in self._data) "
   ]
  },
  {
   "cell_type": "code",
   "execution_count": 183,
   "metadata": {},
   "outputs": [
    {
     "name": "stdout",
     "output_type": "stream",
     "text": [
      "(1,a)(2,c)(7,b)(4,e)(9,f)(8,q)\n",
      "(1,a)(2,c)(7,b)(4,e)(9,f)(8,q)\n",
      "(9,f)(4,e)(8,q)(1,a)(2,c)(7,b)\n"
     ]
    }
   ],
   "source": [
    "pq = HeapPQ([(1, \"a\"), (2, \"c\"), (7,\"b\"), (4,\"e\"), (9, 'f'), (8, 'q')])\n",
    "#pq._upheap(1)\n",
    "print(pq)\n",
    "#pq._downheap(0)\n",
    "print(pq)\n",
    "pq._heapify() \n",
    "print(pq)"
   ]
  },
  {
   "cell_type": "code",
   "execution_count": 174,
   "metadata": {},
   "outputs": [],
   "source": [
    "#(9,f)(4,e)(8,q)(1,a)(2,c)(7,b)"
   ]
  },
  {
   "cell_type": "markdown",
   "metadata": {},
   "source": [
    "C-9.32 Assume that we are using a linked representation of a complete binary tree T , and an extra reference to the last node of that tree. Show how to update the reference to the last node after operations add or remove min in O(logn) time, where n is the current number of nodes of T . Be sure and handle all possible cases, as illustrated in Figure 9.12."
   ]
  },
  {
   "cell_type": "code",
   "execution_count": null,
   "metadata": {},
   "outputs": [],
   "source": []
  },
  {
   "cell_type": "markdown",
   "metadata": {},
   "source": [
    "C-9.33 When using a linked-tree representation for a heap, an alternative method for finding the last node during an insertion in a heap T is to store, in the last node and each leaf node of T , a reference to the leaf node immediately to its right (wrapping to the first node in the next lower level for the rightmost leaf node). Show how to maintain such references in O(1) time per operation of the priority queue ADT assuming that T is implemented with a linked structure."
   ]
  },
  {
   "cell_type": "code",
   "execution_count": null,
   "metadata": {},
   "outputs": [],
   "source": []
  }
 ],
 "metadata": {
  "kernelspec": {
   "display_name": "Python 3",
   "language": "python",
   "name": "python3"
  },
  "language_info": {
   "codemirror_mode": {
    "name": "ipython",
    "version": 3
   },
   "file_extension": ".py",
   "mimetype": "text/x-python",
   "name": "python",
   "nbconvert_exporter": "python",
   "pygments_lexer": "ipython3",
   "version": "3.8.3"
  }
 },
 "nbformat": 4,
 "nbformat_minor": 2
}
