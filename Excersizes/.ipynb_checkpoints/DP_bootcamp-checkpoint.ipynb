{
 "cells": [
  {
   "cell_type": "markdown",
   "metadata": {},
   "source": [
    "# Dynammic programming bootcamp \n",
    "\n",
    "problem set_1:\n",
    "- https://www.youtube.com/playlist?list=PLVrpF4r7WIhTT1hJqZmjP10nxsmrbRvlf\n",
    "    - sum of first n numbers .\n",
    "    - staircase problem (and variants). "
   ]
  },
  {
   "cell_type": "markdown",
   "metadata": {},
   "source": [
    "#### 1) find the sum of the first n numbers using dynammic programming"
   ]
  },
  {
   "cell_type": "code",
   "execution_count": 2,
   "metadata": {},
   "outputs": [],
   "source": [
    "def get_sum(n):\n",
    "    # not storage efficient  O(n) time, O(n) space\n",
    "    \n",
    "#     sums = [None]*(n+1)\n",
    "#     sums[0] = 0\n",
    "#     sums[1] = 1 \n",
    "#     if n == 0:\n",
    "#         return sums[0]\n",
    "#     if n == 1:\n",
    "#         return sums[1]\n",
    "#     for i in range(2, n+1):\n",
    "#         sums[i] = sums[i-1]+i\n",
    "#     return sums[n]\n",
    "\n",
    "#   O(n) time, O(1) space\n",
    "    if n == 0 or n == 1:\n",
    "        return 0\n",
    "    else:\n",
    "        sums = 0\n",
    "        for i in range(n+1):\n",
    "            sums+=i\n",
    "    return sums"
   ]
  },
  {
   "cell_type": "code",
   "execution_count": 3,
   "metadata": {},
   "outputs": [
    {
     "data": {
      "text/plain": [
       "55"
      ]
     },
     "execution_count": 3,
     "metadata": {},
     "output_type": "execute_result"
    }
   ],
   "source": [
    "get_sum(10)"
   ]
  },
  {
   "cell_type": "markdown",
   "metadata": {},
   "source": [
    "### 2) staircase problem \n",
    "There are n stairs, a person standing at the bottom wants to reach the top. The person can climb either 1 stair or 2 stairs at a time. Count the number of ways, the person can reach the top."
   ]
  },
  {
   "cell_type": "code",
   "execution_count": 4,
   "metadata": {},
   "outputs": [],
   "source": [
    "def count_steps(n): # this problem is equivalent to find Fibonacci(n) \n",
    "# not storage efficient  O(n) time, O(n) space\n",
    "#     steps = [None]*(n+1)\n",
    "#     steps[0] = 1\n",
    "#     steps[1] = 1\n",
    "#     for i in range(2,n+1):\n",
    "#         steps[i] = steps[i-1] + steps[i-2]\n",
    "#     return steps[n]\n",
    "\n",
    "\n",
    "#   O(n) time, O(1) space\n",
    "    if n ==0 or n == 1:\n",
    "        return 1\n",
    "    else:\n",
    "        a, b = 1, 1\n",
    "        for i in range(2, n+1):\n",
    "            c=a+b\n",
    "            a=b\n",
    "            b=c\n",
    "    return c"
   ]
  },
  {
   "cell_type": "code",
   "execution_count": 5,
   "metadata": {},
   "outputs": [
    {
     "data": {
      "text/plain": [
       "89"
      ]
     },
     "execution_count": 5,
     "metadata": {},
     "output_type": "execute_result"
    }
   ],
   "source": [
    "count_steps(10)"
   ]
  },
  {
   "cell_type": "markdown",
   "metadata": {},
   "source": [
    "### 3) general staircase problem \n",
    "There are n stairs, a person standing at the bottom wants to reach the top. The person can climb at steps or(1,2,..k) steps at a time. Count the number of ways, the person can reach the top."
   ]
  },
  {
   "cell_type": "code",
   "execution_count": 6,
   "metadata": {},
   "outputs": [],
   "source": [
    "def count_steps(n, k): \n",
    "# O(n*k) time, O(k) space\n",
    "    steps = [0]*k\n",
    "    steps[0] = 1\n",
    "    for i in range(1, n+1):\n",
    "        for j in range(1, k):\n",
    "            if i-j<0:\n",
    "                continue\n",
    "            steps[i%k] += steps[(i-j)%k]\n",
    "    return steps[n%k]"
   ]
  },
  {
   "cell_type": "code",
   "execution_count": 7,
   "metadata": {},
   "outputs": [
    {
     "name": "stdout",
     "output_type": "stream",
     "text": [
      "3\n",
      "8\n",
      "4\n"
     ]
    }
   ],
   "source": [
    "print(count_steps(3, 2))\n",
    "print(count_steps(5, 2))\n",
    "print(count_steps(3, 3))"
   ]
  },
  {
   "cell_type": "code",
   "execution_count": null,
   "metadata": {},
   "outputs": [],
   "source": []
  },
  {
   "cell_type": "code",
   "execution_count": null,
   "metadata": {},
   "outputs": [],
   "source": []
  }
 ],
 "metadata": {
  "kernelspec": {
   "display_name": "Python 3",
   "language": "python",
   "name": "python3"
  },
  "language_info": {
   "codemirror_mode": {
    "name": "ipython",
    "version": 3
   },
   "file_extension": ".py",
   "mimetype": "text/x-python",
   "name": "python",
   "nbconvert_exporter": "python",
   "pygments_lexer": "ipython3",
   "version": "3.8.3"
  }
 },
 "nbformat": 4,
 "nbformat_minor": 4
}
