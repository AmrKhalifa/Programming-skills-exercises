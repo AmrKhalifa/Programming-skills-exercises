{
 "cells": [
  {
   "cell_type": "markdown",
   "metadata": {},
   "source": [
    "# Implementation to binary search trees and some of the related functionality"
   ]
  },
  {
   "cell_type": "code",
   "execution_count": 3,
   "metadata": {},
   "outputs": [],
   "source": [
    "import random "
   ]
  },
  {
   "cell_type": "code",
   "execution_count": 27,
   "metadata": {},
   "outputs": [],
   "source": [
    "class BST:\n",
    "    class _Node:\n",
    "        def __init__(self, value=None, left=None, right=None):\n",
    "            self.value = value\n",
    "            self.left = left\n",
    "            self.right = right \n",
    "    \n",
    "    def __init__(self):\n",
    "        self.root = None\n",
    "        \n",
    "    def insert(self, value):\n",
    "        if self.root is None:\n",
    "            self.root = self._Node(value)\n",
    "        else:\n",
    "            self._insert(value, self.root)\n",
    "    \n",
    "    def _insert(self, value, current_node):\n",
    "        if value < current_node.value:\n",
    "            if current_node.left is None:\n",
    "                current_node.left = self._Node(value)\n",
    "            else:\n",
    "                self._insert(value, current_node.left)\n",
    "        elif value > current_node.value:\n",
    "            if current_node.right is None: \n",
    "                current_node.right = self._Node(value)\n",
    "            else:\n",
    "                self._insert(value, current_node.right)\n",
    "        else:\n",
    "            print(\"Value already exist !\")\n",
    "            \n",
    "    \n",
    "    def print_tree(self):\n",
    "        if self.root is None: \n",
    "            print(\"Empty Tree !\")\n",
    "        else:\n",
    "            self._print_tree(self.root)\n",
    "            \n",
    "    def _print_tree(self, current_node):\n",
    "        if current_node.left is not None:\n",
    "            self._print_tree(current_node.left)\n",
    "        print(current_node.value, end=\" \")\n",
    "        if current_node.right is not None:\n",
    "            self._print_tree(current_node.right)\n",
    "    \n",
    "    def search(self, value):\n",
    "        if self.root is None:\n",
    "            return False\n",
    "        else:\n",
    "            return self._search(value, self.root)\n",
    "            \n",
    "    def _search(self, value, current): \n",
    "        if current.value == value:\n",
    "            return True\n",
    "        elif current.left is not None:\n",
    "            return self._search(value, current.left)\n",
    "        elif current.right is not None:\n",
    "            return self._search(value, current.right)\n",
    "        else:\n",
    "            return False"
   ]
  },
  {
   "cell_type": "code",
   "execution_count": 28,
   "metadata": {},
   "outputs": [
    {
     "name": "stdout",
     "output_type": "stream",
     "text": [
      "Value already exist !\n",
      "Value already exist !\n",
      "Value already exist !\n",
      "Value already exist !\n",
      "Value already exist !\n",
      "Value already exist !\n",
      "Value already exist !\n",
      "7 15 16 25 26 34 48 53 54 60 68 69 76 80 83 85 86 87 89 90 109 111 115 119 121 139 144 146 152 158 161 163 164 178 188 192 193 196 201 202 204 206 209 212 219 235 241 244 260 268 270 271 275 280 289 295 303 307 318 320 325 329 336 339 341 348 349 353 364 368 374 378 381 387 395 397 400 406 408 409 416 428 431 432 440 448 455 456 459 473 475 485 487 "
     ]
    }
   ],
   "source": [
    "tree = BST()\n",
    "for i in range(100):\n",
    "    tree.insert(random.randint(1, 500))\n",
    "tree.print_tree()"
   ]
  },
  {
   "cell_type": "code",
   "execution_count": 33,
   "metadata": {},
   "outputs": [
    {
     "name": "stdout",
     "output_type": "stream",
     "text": [
      "True\n",
      "False\n"
     ]
    }
   ],
   "source": [
    "print(tree.search(15))\n",
    "print(tree.search(10)) "
   ]
  },
  {
   "cell_type": "code",
   "execution_count": null,
   "metadata": {},
   "outputs": [],
   "source": []
  }
 ],
 "metadata": {
  "kernelspec": {
   "display_name": "Python 3",
   "language": "python",
   "name": "python3"
  },
  "language_info": {
   "codemirror_mode": {
    "name": "ipython",
    "version": 3
   },
   "file_extension": ".py",
   "mimetype": "text/x-python",
   "name": "python",
   "nbconvert_exporter": "python",
   "pygments_lexer": "ipython3",
   "version": "3.8.3"
  }
 },
 "nbformat": 4,
 "nbformat_minor": 4
}
