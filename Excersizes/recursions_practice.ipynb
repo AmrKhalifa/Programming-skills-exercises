{
 "cells": [
  {
   "cell_type": "markdown",
   "metadata": {},
   "source": [
    "## Recursion Practice Problems "
   ]
  },
  {
   "cell_type": "code",
   "execution_count": 63,
   "metadata": {},
   "outputs": [],
   "source": [
    "import math\n",
    "import numpy as np\n",
    "import matplotlib.pyplot as plt "
   ]
  },
  {
   "cell_type": "markdown",
   "metadata": {},
   "source": [
    "1. Generate all permutations of a list items with a recursion "
   ]
  },
  {
   "cell_type": "code",
   "execution_count": 24,
   "metadata": {},
   "outputs": [
    {
     "name": "stdout",
     "output_type": "stream",
     "text": [
      "['ABC', 'ACB', 'BAC', 'BCA', 'CBA', 'CAB'] 6\n",
      "\n",
      "['ABCD', 'ABDC', 'ACBD', 'ACDB', 'ADCB', 'ADBC', 'BACD', 'BADC', 'BCAD', 'BCDA', 'BDCA', 'BDAC', 'CBAD', 'CBDA', 'CABD', 'CADB', 'CDAB', 'CDBA', 'DBCA', 'DBAC', 'DCBA', 'DCAB', 'DACB', 'DABC'] 24\n"
     ]
    }
   ],
   "source": [
    "def get_permutations(seq):\n",
    "    permutations = []\n",
    "    def swap(seq, i, j):\n",
    "        seq = list(seq)\n",
    "        seq[i], seq[j] = seq[j], seq[i]\n",
    "        return ''.join(seq)\n",
    "    \n",
    "    current = 0\n",
    "    final = len(seq)\n",
    "    \n",
    "    def _permute(sequence, current, final):\n",
    "        if current == final:\n",
    "            permutations.append(sequence)\n",
    "            return\n",
    "        for i in range(final-current):\n",
    "            seq = swap(sequence, current, current+i)\n",
    "            _permute(seq, current+1, final)\n",
    "    \n",
    "    _permute(seq, current, final)\n",
    "    return permutations\n",
    "\n",
    "perms1 = get_permutations(\"ABC\")\n",
    "perms2 = get_permutations(\"ABCD\")\n",
    "print(perms1, len(perms1))\n",
    "print(\"\")\n",
    "print(perms2, len(perms2))"
   ]
  },
  {
   "cell_type": "markdown",
   "metadata": {},
   "source": [
    "2. Build the powerset from a given set using a recursion "
   ]
  },
  {
   "cell_type": "code",
   "execution_count": 79,
   "metadata": {},
   "outputs": [
    {
     "data": {
      "text/plain": [
       "[[1, 2, 3], [1, 2], [1, 3], [1], [2, 3], [2], [3], []]"
      ]
     },
     "execution_count": 79,
     "metadata": {},
     "output_type": "execute_result"
    }
   ],
   "source": [
    "def get_power_set(seq):\n",
    "    p_set = [] \n",
    "    current = 0\n",
    "    final = len(seq)\n",
    "    \n",
    "    def _recursive_add(sequence, current, final):\n",
    "        if current == final:\n",
    "            p_set.append(sequence)\n",
    "            return \n",
    "        \n",
    "        new_seq = list(sequence)\n",
    "        new_seq.append(seq[current])\n",
    "        _recursive_add(new_seq, current+1, final)\n",
    "        _recursive_add(sequence, current+1, final)\n",
    "                  \n",
    "    _recursive_add([], current, final)\n",
    "    return p_set \n",
    "\n",
    "get_power_set([1, 2, 3])"
   ]
  },
  {
   "cell_type": "markdown",
   "metadata": {},
   "source": [
    "3. Print triangle with a recursion"
   ]
  },
  {
   "cell_type": "code",
   "execution_count": 7,
   "metadata": {},
   "outputs": [
    {
     "name": "stdout",
     "output_type": "stream",
     "text": [
      "*\n",
      "**\n",
      "***\n",
      "****\n"
     ]
    }
   ],
   "source": [
    "def print_triangle(n):\n",
    "    if n == 1:\n",
    "        print(\"*\")\n",
    "    else:\n",
    "        print_triangle(n-1)\n",
    "        print(\"*\"*n)\n",
    "        \n",
    "print_triangle(4)"
   ]
  },
  {
   "cell_type": "markdown",
   "metadata": {},
   "source": [
    "4. Convert a number to binary format"
   ]
  },
  {
   "cell_type": "code",
   "execution_count": 62,
   "metadata": {},
   "outputs": [
    {
     "name": "stdout",
     "output_type": "stream",
     "text": [
      "0615"
     ]
    }
   ],
   "source": [
    "def convert_to_base(n, base):\n",
    "    if n == 0:\n",
    "        print(\"0\", end = '')\n",
    "    else:\n",
    "        convert_to_base(n//base, base)\n",
    "        print(n%base, end = '')\n",
    "        \n",
    "convert_to_base(500, 9)"
   ]
  },
  {
   "cell_type": "markdown",
   "metadata": {},
   "source": [
    "5. Find max path sum "
   ]
  },
  {
   "cell_type": "code",
   "execution_count": 95,
   "metadata": {},
   "outputs": [
    {
     "data": {
      "text/plain": [
       "34"
      ]
     },
     "execution_count": 95,
     "metadata": {},
     "output_type": "execute_result"
    }
   ],
   "source": [
    "grid = np.array([[5,1,2], [5, 7, 8], [1, 8, 9]])\n",
    "solution = []\n",
    "# i = index in rows \n",
    "# j = index in columns\n",
    "def get_max_path_sum(i, j):\n",
    "    # base_case\n",
    "    if i == grid.shape[0]-1 and j == grid.shape[1]-1:\n",
    "        return grid[i, j]\n",
    "    # boundary condition\n",
    "    if i == grid.shape[0] or j == grid.shape[1]:\n",
    "        return 0\n",
    "    else:\n",
    "        p1 = get_max_path_sum(i+1, j)\n",
    "        p2 = get_max_path_sum(i, j+1)\n",
    "        return grid[i,j] + max(p1, p2)\n",
    "    \n",
    "get_max_path_sum(0, 0)"
   ]
  },
  {
   "cell_type": "code",
   "execution_count": null,
   "metadata": {},
   "outputs": [],
   "source": []
  }
 ],
 "metadata": {
  "kernelspec": {
   "display_name": "Python 3",
   "language": "python",
   "name": "python3"
  },
  "language_info": {
   "codemirror_mode": {
    "name": "ipython",
    "version": 3
   },
   "file_extension": ".py",
   "mimetype": "text/x-python",
   "name": "python",
   "nbconvert_exporter": "python",
   "pygments_lexer": "ipython3",
   "version": "3.8.3"
  }
 },
 "nbformat": 4,
 "nbformat_minor": 4
}
