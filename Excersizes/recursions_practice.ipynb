{
 "cells": [
  {
   "cell_type": "markdown",
   "metadata": {},
   "source": [
    "## Recursion Practice Problems "
   ]
  },
  {
   "cell_type": "code",
   "execution_count": 63,
   "metadata": {},
   "outputs": [],
   "source": [
    "import math\n",
    "import numpy as np\n",
    "import matplotlib.pyplot as plt "
   ]
  },
  {
   "cell_type": "markdown",
   "metadata": {},
   "source": [
    "1. Generate all permutations of a list items with a recursion "
   ]
  },
  {
   "cell_type": "code",
   "execution_count": null,
   "metadata": {},
   "outputs": [],
   "source": []
  },
  {
   "cell_type": "markdown",
   "metadata": {},
   "source": [
    "2. Build the powerset from a given set using a recursion "
   ]
  },
  {
   "cell_type": "code",
   "execution_count": null,
   "metadata": {},
   "outputs": [],
   "source": []
  },
  {
   "cell_type": "markdown",
   "metadata": {},
   "source": [
    "3. Print triangle with a recursion"
   ]
  },
  {
   "cell_type": "code",
   "execution_count": 7,
   "metadata": {},
   "outputs": [
    {
     "name": "stdout",
     "output_type": "stream",
     "text": [
      "*\n",
      "**\n",
      "***\n",
      "****\n"
     ]
    }
   ],
   "source": [
    "def print_triangle(n):\n",
    "    if n == 1:\n",
    "        print(\"*\")\n",
    "    else:\n",
    "        print_triangle(n-1)\n",
    "        print(\"*\"*n)\n",
    "        \n",
    "print_triangle(4)"
   ]
  },
  {
   "cell_type": "markdown",
   "metadata": {},
   "source": [
    "4. Convert a number to binary format"
   ]
  },
  {
   "cell_type": "code",
   "execution_count": 62,
   "metadata": {},
   "outputs": [
    {
     "name": "stdout",
     "output_type": "stream",
     "text": [
      "0615"
     ]
    }
   ],
   "source": [
    "def convert_to_base(n, base):\n",
    "    if n == 0:\n",
    "        print(\"0\", end = '')\n",
    "    else:\n",
    "        convert_to_base(n//base, base)\n",
    "        print(n%base, end = '')\n",
    "        \n",
    "convert_to_base(500, 9)"
   ]
  },
  {
   "cell_type": "markdown",
   "metadata": {},
   "source": [
    "5. Find max path sum "
   ]
  },
  {
   "cell_type": "code",
   "execution_count": 95,
   "metadata": {},
   "outputs": [
    {
     "data": {
      "text/plain": [
       "34"
      ]
     },
     "execution_count": 95,
     "metadata": {},
     "output_type": "execute_result"
    }
   ],
   "source": [
    "grid = np.array([[5,1,2], [5, 7, 8], [1, 8, 9]])\n",
    "solution = []\n",
    "# i = index in rows \n",
    "# j = index in columns\n",
    "def get_max_path_sum(i, j):\n",
    "    # base_case\n",
    "    if i == grid.shape[0]-1 and j == grid.shape[1]-1:\n",
    "        return grid[i, j]\n",
    "    # boundary condition\n",
    "    if i == grid.shape[0] or j == grid.shape[1]:\n",
    "        return 0\n",
    "    else:\n",
    "        p1 = get_max_path_sum(i+1, j)\n",
    "        p2 = get_max_path_sum(i, j+1)\n",
    "        return grid[i,j] + max(p1, p2)\n",
    "    \n",
    "get_max_path_sum(0, 0)"
   ]
  },
  {
   "cell_type": "code",
   "execution_count": null,
   "metadata": {},
   "outputs": [],
   "source": []
  }
 ],
 "metadata": {
  "kernelspec": {
   "display_name": "Python 3",
   "language": "python",
   "name": "python3"
  },
  "language_info": {
   "codemirror_mode": {
    "name": "ipython",
    "version": 3
   },
   "file_extension": ".py",
   "mimetype": "text/x-python",
   "name": "python",
   "nbconvert_exporter": "python",
   "pygments_lexer": "ipython3",
   "version": "3.7.3"
  }
 },
 "nbformat": 4,
 "nbformat_minor": 4
}
