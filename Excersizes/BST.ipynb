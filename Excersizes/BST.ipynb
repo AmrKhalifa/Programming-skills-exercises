{
 "cells": [
  {
   "cell_type": "markdown",
   "metadata": {},
   "source": [
    "# Implementation to binary search trees and some of the related functionality"
   ]
  },
  {
   "cell_type": "markdown",
   "metadata": {},
   "source": [
    "#### Tasks\n",
    "    - *Full implementation of core functionality*.\n",
    "    - *Height and Depth.* \n",
    "    - *Balance test.* \n",
    "    - *Diameter.* \n",
    "    - *Least Common Ancestor.* \n",
    "    - *All Nodes Distance K In A Binary Tree.*\n",
    "    - Ancestors of a node (no parent pointer). \n",
    "    - Symmetry test. \n",
    "    - Isomorphism test. \n",
    "    - Mirroring BST. \n",
    "    - next successors (in-order, pre-order, and post-order). \n",
    "    - Binary heap with BST. \n",
    "    - ... "
   ]
  },
  {
   "cell_type": "code",
   "execution_count": 170,
   "metadata": {},
   "outputs": [],
   "source": [
    "import random "
   ]
  },
  {
   "cell_type": "code",
   "execution_count": 171,
   "metadata": {},
   "outputs": [],
   "source": [
    "class BST:\n",
    "    class _Node:\n",
    "        def __init__(self, value=None, left=None, right=None, parent=None):\n",
    "            self.value = value\n",
    "            self.left = left\n",
    "            self.right = right \n",
    "            self.parent = parent \n",
    "    \n",
    "    def __init__(self):\n",
    "        self.root = None\n",
    "        \n",
    "    def insert(self, value):\n",
    "        if self.root is None:\n",
    "            self.root = self._Node(value)\n",
    "        else:\n",
    "            self._insert(value, self.root)\n",
    "    \n",
    "    def _insert(self, value, current_node):\n",
    "        if value < current_node.value:\n",
    "            if current_node.left is None:\n",
    "                current_node.left = self._Node(value)\n",
    "                current_node.left.parent = current_node\n",
    "            else:\n",
    "                self._insert(value, current_node.left)\n",
    "        elif value > current_node.value:\n",
    "            if current_node.right is None: \n",
    "                current_node.right = self._Node(value)\n",
    "                current_node.right.parent = current_node \n",
    "            else:\n",
    "                self._insert(value, current_node.right)\n",
    "        else:\n",
    "            print(\"Value already exist !\")\n",
    "            \n",
    "    def print_tree(self):\n",
    "        if self.root is None: \n",
    "            print(\"Empty Tree !\")\n",
    "        else:\n",
    "            self._print_tree(self.root)\n",
    "            print(\"\")\n",
    "            \n",
    "    def _print_tree(self, current_node):\n",
    "        if current_node.left is not None:\n",
    "            self._print_tree(current_node.left)\n",
    "        print(current_node.value, end=\" \")\n",
    "        if current_node.right is not None:\n",
    "            self._print_tree(current_node.right)\n",
    "    \n",
    "    def search(self, value):\n",
    "        if self.root is None:\n",
    "            return False\n",
    "        else:\n",
    "            return self._search(value, self.root)\n",
    "            \n",
    "    def _search(self, value, current): \n",
    "        if current.value == value:\n",
    "            return True\n",
    "        elif value < current.value and current.left is not None:\n",
    "            return self._search(value, current.left)\n",
    "        elif value > current.value and current.right is not None:\n",
    "            return self._search(value, current.right)\n",
    "        else:\n",
    "            return False\n",
    "    \n",
    "    def find(self, value):\n",
    "        if self.root is None:\n",
    "            return None \n",
    "        else:\n",
    "            return self._find(value, self.root)\n",
    "        \n",
    "    def _find(self, value, current):\n",
    "        if current.value == value:\n",
    "            return current\n",
    "        elif value < current.value and current.left is not None :\n",
    "            return self._find(value, current.left)\n",
    "        elif value > current.value and current.right is not None:\n",
    "            return self._find(value, current.right)\n",
    "        else:\n",
    "            return None \n",
    "    \n",
    "    def delete(self, value):\n",
    "        self._delete_node(self.find(value))\n",
    "        \n",
    "    def _delete_node(self, node):\n",
    "        \n",
    "        def get_min_value_node(search_root):\n",
    "            current = search_root\n",
    "            while current.left is not None:\n",
    "                current = current.left\n",
    "            return current \n",
    "        \n",
    "        def get_num_children(to_delete_node):\n",
    "            num_children = 0\n",
    "            if to_delete_node.left is not None: num_children+=1 \n",
    "            return num_children if to_delete_node.right is None else num_children +1 \n",
    "            \n",
    "        num_children = get_num_children(node)\n",
    "        if num_children == 0:\n",
    "            if node.parent.left == node:\n",
    "                node.parent.left = None\n",
    "            else:\n",
    "                node.parent.right = None \n",
    "            del node \n",
    "        \n",
    "        if num_children ==1:\n",
    "            if node.left is not None:\n",
    "                child = node.left\n",
    "            else:\n",
    "                child = node.right \n",
    "            \n",
    "            if node.parent.left == node:\n",
    "                node.parent.left = child\n",
    "            else:\n",
    "                node.parent.right = child\n",
    "            child.parent = node.parent\n",
    "        \n",
    "        if num_children == 2 :\n",
    "            successor = get_min_value_node(node.right)\n",
    "            node.value = successor.value\n",
    "            self._delete_node(successor)\n",
    "\n",
    "    def get_height(self):\n",
    "        if self.root is None:\n",
    "            print(\"Tree is empty, returning default value of -1 .\")\n",
    "            return -1\n",
    "        else:\n",
    "            return self._get_height(self.root)\n",
    "    \n",
    "    def _get_height(self, current):\n",
    "        if current.left is not None:\n",
    "            a = self._get_height(current.left)\n",
    "        else:\n",
    "            a = 0\n",
    "        if current.right is not None:\n",
    "            b = self._get_height(current.right)\n",
    "        else:\n",
    "            b = 0\n",
    "            \n",
    "        return 1+ max(a, b)\n",
    "    \n",
    "    def is_balanced(self):\n",
    "        if self.root is None:\n",
    "            return True\n",
    "        elif self.root.left is None and self.root.right is None:\n",
    "            return True\n",
    "        else:\n",
    "            return self._is_balanced(self.root)[-1]\n",
    "    \n",
    "    def _is_balanced(self, node):\n",
    "        if node is None:\n",
    "            return (-1, True)\n",
    "        else: \n",
    "            h1, cond1 = self._is_balanced(node.left)\n",
    "            if cond1 is False:\n",
    "                return (None, False)\n",
    "            h2, cond2 = self._is_balanced(node.right)\n",
    "            if cond2 is False:\n",
    "                return (None, False)\n",
    "            \n",
    "            h = 1+max(h1, h2)\n",
    "            if abs(h1-h2) <= 1:\n",
    "                cond = True\n",
    "            else:\n",
    "                cond = False \n",
    "            return (h, cond)\n",
    "    \n",
    "    def get_depth(self, value):\n",
    "        node = self.find(value)\n",
    "        if node is None:\n",
    "            raise ValueError(\"Value doesn't exist\")\n",
    "        else:\n",
    "            depth = 0\n",
    "            while node.parent != self.root:\n",
    "                depth+=1\n",
    "                node = node.parent\n",
    "            return depth+1\n",
    "        \n",
    "    \n",
    "    def LCA(self, a, b, recursive=True):\n",
    "        if recursive: \n",
    "            return self._recursive_LCA(self.root, a, b)\n",
    "    \n",
    "    def _recursive_LCA(self, current, a, b):\n",
    "        if current: \n",
    "            if (current.value == a) or (current.value == b):\n",
    "                return current\n",
    "\n",
    "            l = self._recursive_LCA(current.left, a, b)\n",
    "            r = self._recursive_LCA(current.right, a, b)\n",
    "            \n",
    "            if l is not None and r is not None:\n",
    "                return current\n",
    "            else:\n",
    "                if l is not None and r is None:\n",
    "                    return l\n",
    "                elif r is not None and l is None:\n",
    "                    return r\n",
    "                           \n",
    "    def get_diameter(self):\n",
    "        diam = [0]\n",
    "        def _get_height(node):\n",
    "            if node is None:\n",
    "                return 0\n",
    "            l_h = self._get_height(node.left)\n",
    "            r_h = self._get_height(node.right)\n",
    "            current_diam = (1+l_h+r_h)\n",
    "            diam[0] = max(diam[0], current_diam) \n",
    "            return max(l_h, r_h) +1 \n",
    "        _get_height(self.root)\n",
    "        return diam[0]\n",
    "    \n",
    "    \n",
    "    def level_order_traversal(self, yield_node=False):\n",
    "        if self.root is None:\n",
    "            return\n",
    "        queue = [self.root] \n",
    "        \n",
    "        while(len(queue) != 0):\n",
    "            node = queue.pop(0)\n",
    "            if yield_node: \n",
    "                yield node  \n",
    "            else:\n",
    "                yield str(node.value) \n",
    "            if node.left is not None:\n",
    "                queue.append(node.left)\n",
    "            if node.right is not None:\n",
    "                queue.append(node.right)\n",
    "        return\n",
    "    \n",
    "    \n",
    "    def get_parents_dictionary(self):\n",
    "        if self.root is None:\n",
    "            return None \n",
    "        queue = [self.root]\n",
    "        parents_dict = {self.root:None}\n",
    "        \n",
    "        while(len(queue) != 0):\n",
    "            node = queue.pop(0)\n",
    "            if node.left is not None:\n",
    "                parents_dict[node.left] = node\n",
    "                queue.append(node.left)\n",
    "            if node.right is not None:\n",
    "                queue.append(node.right)\n",
    "                parents_dict[node.right] = node\n",
    "        return parents_dict"
   ]
  },
  {
   "cell_type": "code",
   "execution_count": 172,
   "metadata": {},
   "outputs": [
    {
     "name": "stdout",
     "output_type": "stream",
     "text": [
      "Value already exist !\n",
      "Value already exist !\n",
      "Value already exist !\n",
      "Value already exist !\n",
      "Value already exist !\n",
      "Value already exist !\n",
      "Value already exist !\n",
      "Value already exist !\n",
      "2 11 17 18 22 27 35 53 58 61 62 69 77 82 90 96 97 103 115 117 118 126 132 141 150 163 166 167 169 171 176 181 185 187 189 193 197 202 205 208 215 224 231 235 240 249 254 260 263 265 272 281 287 293 294 296 301 302 305 308 312 320 325 332 339 346 348 359 362 363 364 367 384 385 389 396 399 401 405 406 408 431 436 440 444 450 451 456 462 471 482 500 \n"
     ]
    }
   ],
   "source": [
    "tree = BST()\n",
    "for i in range(100):\n",
    "    tree.insert(random.randint(1, 500))\n",
    "tree.print_tree()"
   ]
  },
  {
   "cell_type": "code",
   "execution_count": 173,
   "metadata": {},
   "outputs": [
    {
     "name": "stdout",
     "output_type": "stream",
     "text": [
      "False\n",
      "False\n",
      "13\n"
     ]
    }
   ],
   "source": [
    "print(tree.search(15))\n",
    "print(tree.search(10)) \n",
    "print(tree.get_height()) "
   ]
  },
  {
   "cell_type": "code",
   "execution_count": 174,
   "metadata": {},
   "outputs": [
    {
     "name": "stdout",
     "output_type": "stream",
     "text": [
      "4 5 6 9 10 11 \n",
      "True\n",
      "3\n",
      " root is 5\n",
      " root is 6\n",
      "4 6 9 10 11 \n",
      "2\n"
     ]
    }
   ],
   "source": [
    "bst = BST()\n",
    "items = [5, 4, 6, 10, 9, 11]\n",
    "l = [bst.insert(item) for item in items]\n",
    "del l \n",
    "bst.print_tree()\n",
    "print(bst.search(10))\n",
    "print(bst.get_depth(11))\n",
    "print(f\" root is {(bst.root.value)}\")\n",
    "bst.delete(5)\n",
    "print(f\" root is {(bst.root.value)}\")\n",
    "bst.print_tree()\n",
    "print(bst.get_depth(11))"
   ]
  },
  {
   "cell_type": "code",
   "execution_count": 175,
   "metadata": {},
   "outputs": [
    {
     "name": "stdout",
     "output_type": "stream",
     "text": [
      "0 1 2 3 4 \n",
      "False\n"
     ]
    }
   ],
   "source": [
    "bst = BST()\n",
    "#items = [5, 3, 4, 2, 1, 6, 8, 7, 9]\n",
    "items = [3, 2, 4, 1, 0]\n",
    "l = [bst.insert(item) for item in items]\n",
    "del l \n",
    "bst.print_tree()\n",
    "\n",
    "print(bst.is_balanced())"
   ]
  },
  {
   "cell_type": "code",
   "execution_count": 176,
   "metadata": {},
   "outputs": [
    {
     "name": "stdout",
     "output_type": "stream",
     "text": [
      "3 4 5 6 10 11 \n",
      "True\n",
      "3\n",
      " root is 5\n",
      " root is 6\n",
      "3 4 6 10 11 \n",
      "2\n"
     ]
    }
   ],
   "source": [
    "bst = BST()\n",
    "items = [5, 4, 3, 6, 10, 11]\n",
    "l = [bst.insert(item) for item in items]\n",
    "del l \n",
    "bst.print_tree()\n",
    "print(bst.search(10))\n",
    "print(bst.get_depth(11))\n",
    "print(f\" root is {(bst.root.value)}\")\n",
    "bst.delete(5)\n",
    "print(f\" root is {(bst.root.value)}\")\n",
    "bst.print_tree()\n",
    "print(bst.get_depth(11))"
   ]
  },
  {
   "cell_type": "code",
   "execution_count": 177,
   "metadata": {},
   "outputs": [
    {
     "name": "stdout",
     "output_type": "stream",
     "text": [
      "3 4 5 6 10 11 \n"
     ]
    }
   ],
   "source": [
    "bst = BST()\n",
    "items = [5, 4, 3, 6, 10, 11]\n",
    "l = [bst.insert(item) for item in items]\n",
    "del l \n",
    "bst.print_tree()"
   ]
  },
  {
   "cell_type": "code",
   "execution_count": 178,
   "metadata": {},
   "outputs": [
    {
     "name": "stdout",
     "output_type": "stream",
     "text": [
      "5\n"
     ]
    }
   ],
   "source": [
    "ancs = bst.LCA(3, 11)\n",
    "print(ancs.value)"
   ]
  },
  {
   "cell_type": "code",
   "execution_count": 179,
   "metadata": {},
   "outputs": [
    {
     "name": "stdout",
     "output_type": "stream",
     "text": [
      "7 8 9 10 11 12 13 14 20 21 \n",
      "7\n",
      "6\n"
     ]
    }
   ],
   "source": [
    "bst = BST()\n",
    "items = [20, 10, 9, 8, 7, 11, 12, 13, 14, 21]\n",
    "l = [bst.insert(item) for item in items]\n",
    "del l \n",
    "bst.print_tree()\n",
    "\n",
    "print(bst.get_diameter())\n",
    "print(bst.get_height())"
   ]
  },
  {
   "cell_type": "code",
   "execution_count": 180,
   "metadata": {},
   "outputs": [
    {
     "name": "stdout",
     "output_type": "stream",
     "text": [
      "Value already exist !\n",
      "3 4 5 7 8 9 10 12 13 15 \n"
     ]
    }
   ],
   "source": [
    "bst =BST()\n",
    "items = [12, 7, 13, 15, 7, 4, 3, 5, 9, 8, 10]\n",
    "l = [bst.insert(item) for item in items]\n",
    "del l \n",
    "bst.print_tree()"
   ]
  },
  {
   "cell_type": "code",
   "execution_count": 181,
   "metadata": {},
   "outputs": [
    {
     "name": "stdout",
     "output_type": "stream",
     "text": [
      "['12', '7', '13', '4', '9', '15', '3', '5', '8', '10']\n"
     ]
    }
   ],
   "source": [
    "print(list(bst.level_order_traversal())) "
   ]
  },
  {
   "cell_type": "code",
   "execution_count": 182,
   "metadata": {},
   "outputs": [],
   "source": [
    "parents_dict = bst.get_parents_dictionary()"
   ]
  },
  {
   "cell_type": "code",
   "execution_count": 183,
   "metadata": {},
   "outputs": [
    {
     "name": "stdout",
     "output_type": "stream",
     "text": [
      "7 12\n",
      "13 12\n",
      "4 7\n",
      "9 7\n",
      "15 13\n",
      "3 4\n",
      "5 4\n",
      "8 9\n",
      "10 9\n"
     ]
    }
   ],
   "source": [
    "for k, v in parents_dict.items():\n",
    "    if v is not None: \n",
    "        print(k.value, v.value)"
   ]
  },
  {
   "cell_type": "code",
   "execution_count": 184,
   "metadata": {},
   "outputs": [],
   "source": [
    "def find_k_distance_nodes(tree, value, k):\n",
    "    def _get_nodes(): \n",
    "        search_root = tree.find(value)\n",
    "        parent_visited_table = {k: [v, False] for k, v in tree.get_parents_dictionary().items()}\n",
    "\n",
    "        flag = True\n",
    "        queue = [search_root]\n",
    "        level = 0\n",
    "        \n",
    "        while(flag):\n",
    "            new_level = []\n",
    "            for node in queue:\n",
    "                if (parent_visited_table[node][1]) is False and (parent_visited_table[node][0] is not None):\n",
    "                    new_level.append(parent_visited_table[node][0])\n",
    "                    parent_visited_table[node][1] = True\n",
    "                if node.left is not None and parent_visited_table[node.left][1] is False:\n",
    "                    new_level.append(node.left)\n",
    "                    parent_visited_table[node.left][1] = True\n",
    "                if node.right is not None and parent_visited_table[node.right][1] is False:\n",
    "                    new_level.append(node.right)\n",
    "                    parent_visited_table[node.right][1] = True\n",
    "\n",
    "            level += 1\n",
    "            if level == k:\n",
    "                return new_level \n",
    "            else:\n",
    "                queue = new_level\n",
    "    \n",
    "    nodes = _get_nodes()\n",
    "    for node in nodes:\n",
    "        print(node.value)"
   ]
  },
  {
   "cell_type": "code",
   "execution_count": 185,
   "metadata": {
    "scrolled": true
   },
   "outputs": [
    {
     "name": "stdout",
     "output_type": "stream",
     "text": [
      "13\n",
      "3\n",
      "5\n",
      "8\n",
      "10\n"
     ]
    }
   ],
   "source": [
    "find_k_distance_nodes(bst, 7, 2)"
   ]
  },
  {
   "cell_type": "code",
   "execution_count": null,
   "metadata": {},
   "outputs": [],
   "source": []
  }
 ],
 "metadata": {
  "kernelspec": {
   "display_name": "Python 3",
   "language": "python",
   "name": "python3"
  },
  "language_info": {
   "codemirror_mode": {
    "name": "ipython",
    "version": 3
   },
   "file_extension": ".py",
   "mimetype": "text/x-python",
   "name": "python",
   "nbconvert_exporter": "python",
   "pygments_lexer": "ipython3",
   "version": "3.8.3"
  }
 },
 "nbformat": 4,
 "nbformat_minor": 4
}
