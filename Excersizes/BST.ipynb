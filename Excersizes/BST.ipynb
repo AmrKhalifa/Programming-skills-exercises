{
 "cells": [
  {
   "cell_type": "markdown",
   "metadata": {},
   "source": [
    "# Implementation to binary search trees and some of the related functionality"
   ]
  },
  {
   "cell_type": "code",
   "execution_count": 3,
   "metadata": {},
   "outputs": [],
   "source": [
    "import random "
   ]
  },
  {
   "cell_type": "code",
   "execution_count": 66,
   "metadata": {},
   "outputs": [],
   "source": [
    "class BST:\n",
    "    class _Node:\n",
    "        def __init__(self, value=None, left=None, right=None, parent=None):\n",
    "            self.value = value\n",
    "            self.left = left\n",
    "            self.right = right \n",
    "            self.parent = parent \n",
    "    \n",
    "    def __init__(self):\n",
    "        self.root = None\n",
    "        \n",
    "    def insert(self, value):\n",
    "        if self.root is None:\n",
    "            self.root = self._Node(value)\n",
    "        else:\n",
    "            self._insert(value, self.root)\n",
    "    \n",
    "    def _insert(self, value, current_node):\n",
    "        if value < current_node.value:\n",
    "            if current_node.left is None:\n",
    "                current_node.left = self._Node(value)\n",
    "                current_node.left.parent = current_node\n",
    "            else:\n",
    "                self._insert(value, current_node.left)\n",
    "        elif value > current_node.value:\n",
    "            if current_node.right is None: \n",
    "                current_node.right = self._Node(value)\n",
    "                current_node.right.parent = current_node \n",
    "            else:\n",
    "                self._insert(value, current_node.right)\n",
    "        else:\n",
    "            print(\"Value already exist !\")\n",
    "            \n",
    "    def print_tree(self):\n",
    "        if self.root is None: \n",
    "            print(\"Empty Tree !\")\n",
    "        else:\n",
    "            self._print_tree(self.root)\n",
    "            print(\"\")\n",
    "            \n",
    "    def _print_tree(self, current_node):\n",
    "        if current_node.left is not None:\n",
    "            self._print_tree(current_node.left)\n",
    "        print(current_node.value, end=\" \")\n",
    "        if current_node.right is not None:\n",
    "            self._print_tree(current_node.right)\n",
    "    \n",
    "    def search(self, value):\n",
    "        if self.root is None:\n",
    "            return False\n",
    "        else:\n",
    "            return self._search(value, self.root)\n",
    "            \n",
    "    def _search(self, value, current): \n",
    "        if current.value == value:\n",
    "            return True\n",
    "        elif current.left is not None:\n",
    "            return self._search(value, current.left)\n",
    "        elif current.right is not None:\n",
    "            return self._search(value, current.right)\n",
    "        else:\n",
    "            return False\n",
    "    \n",
    "    def find(self, value):\n",
    "        if self.root is None:\n",
    "            return False\n",
    "        else:\n",
    "            return self._find(value, self.root)\n",
    "        \n",
    "    def _find(self, value, current):\n",
    "        if current.value == value:\n",
    "            return current\n",
    "        elif current.left is not None :\n",
    "            return self._search(value, current.left)\n",
    "        elif current.right is not None:\n",
    "            return self._search(value, current.right)\n",
    "        else:\n",
    "            return None \n",
    "    \n",
    "    def delete(self, value):\n",
    "        self._delete_node(self.find(value))\n",
    "        \n",
    "    def _delete_node(self, node):\n",
    "        \n",
    "        def get_min_value_node(search_root):\n",
    "            current = search_root\n",
    "            while current.left is not None:\n",
    "                current = current.left\n",
    "            return current \n",
    "        \n",
    "        def get_num_children(to_delete_node):\n",
    "            num_children = 0\n",
    "            if to_delete_node.left is not None: num_children+=1 \n",
    "            return num_children if to_delete_node.right is None else num_children +1 \n",
    "            \n",
    "        num_children = get_num_children(node)\n",
    "        if num_children == 0:\n",
    "            if node.parent.left == node:\n",
    "                node.parent.left = None\n",
    "            else:\n",
    "                node.parent.right = None \n",
    "            del node \n",
    "        \n",
    "        if num_children ==1:\n",
    "            if node.left is not None:\n",
    "                child = node.left\n",
    "            else:\n",
    "                child = node.right \n",
    "            \n",
    "            if node.parent.left == node:\n",
    "                node.parent.left = child\n",
    "            else:\n",
    "                node.parent.right = child \n",
    "        \n",
    "        if num_children == 2 :\n",
    "            successor = get_min_value_node(node.right)\n",
    "            node.value = successor.value\n",
    "            self._delete_node(successor)\n",
    "\n",
    "    def get_height(self):\n",
    "        if self.root is None:\n",
    "            print(\"Tree is empty, returning default value of -1 .\")\n",
    "            return -1\n",
    "        else:\n",
    "            return self._get_height(self.root)\n",
    "    \n",
    "    def _get_height(self, current):\n",
    "        if current.left is not None:\n",
    "            a = self._get_height(current.left)\n",
    "        else:\n",
    "            a = 0\n",
    "        if current.right is not None:\n",
    "            b = self._get_height(current.right)\n",
    "        else:\n",
    "            b = 0\n",
    "            \n",
    "        return 1+ max(a, b)"
   ]
  },
  {
   "cell_type": "code",
   "execution_count": 67,
   "metadata": {},
   "outputs": [
    {
     "name": "stdout",
     "output_type": "stream",
     "text": [
      "Value already exist !\n",
      "Value already exist !\n",
      "Value already exist !\n",
      "Value already exist !\n",
      "Value already exist !\n",
      "Value already exist !\n",
      "Value already exist !\n",
      "Value already exist !\n",
      "Value already exist !\n",
      "Value already exist !\n",
      "Value already exist !\n",
      "Value already exist !\n",
      "2 12 15 21 22 23 26 30 35 36 38 43 49 66 67 73 90 94 95 97 106 108 111 126 127 130 135 139 160 161 167 169 184 190 192 194 195 197 205 210 213 214 224 229 233 242 245 258 263 268 272 286 288 298 304 309 310 324 326 339 345 347 356 357 359 360 371 374 381 386 394 397 411 417 420 424 425 427 433 443 448 460 464 476 484 491 496 500 \n"
     ]
    }
   ],
   "source": [
    "tree = BST()\n",
    "for i in range(100):\n",
    "    tree.insert(random.randint(1, 500))\n",
    "tree.print_tree()"
   ]
  },
  {
   "cell_type": "code",
   "execution_count": 68,
   "metadata": {},
   "outputs": [
    {
     "name": "stdout",
     "output_type": "stream",
     "text": [
      "True\n",
      "False\n",
      "13\n"
     ]
    }
   ],
   "source": [
    "print(tree.search(15))\n",
    "print(tree.search(10)) \n",
    "print(tree.get_height()) "
   ]
  },
  {
   "cell_type": "code",
   "execution_count": 69,
   "metadata": {},
   "outputs": [
    {
     "name": "stdout",
     "output_type": "stream",
     "text": [
      "4 5 6 9 10 11 \n",
      "\n",
      "4 6 9 10 11 \n"
     ]
    }
   ],
   "source": [
    "bst = BST()\n",
    "items = [5, 4, 6, 10, 9, 11]\n",
    "l = [bst.insert(item) for item in items]\n",
    "del l \n",
    "bst.print_tree()\n",
    "bst.delete(5)\n",
    "print()\n",
    "bst.print_tree()"
   ]
  },
  {
   "cell_type": "code",
   "execution_count": null,
   "metadata": {},
   "outputs": [],
   "source": []
  }
 ],
 "metadata": {
  "kernelspec": {
   "display_name": "Python 3",
   "language": "python",
   "name": "python3"
  },
  "language_info": {
   "codemirror_mode": {
    "name": "ipython",
    "version": 3
   },
   "file_extension": ".py",
   "mimetype": "text/x-python",
   "name": "python",
   "nbconvert_exporter": "python",
   "pygments_lexer": "ipython3",
   "version": "3.8.3"
  }
 },
 "nbformat": 4,
 "nbformat_minor": 4
}
