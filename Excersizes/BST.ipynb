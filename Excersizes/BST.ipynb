{
 "cells": [
  {
   "cell_type": "markdown",
   "metadata": {},
   "source": [
    "# Implementation to binary search trees and some of the related functionality"
   ]
  },
  {
   "cell_type": "markdown",
   "metadata": {},
   "source": [
    "#### Tasks\n",
    "    -  *Full implementation of core functionality*.\n",
    "    - Height and Depth. \n",
    "    - *Balance test*. \n",
    "    - Diameter. \n",
    "    - Common ancestors. \n",
    "    - Symmetry test. \n",
    "    - Mirroring BST. \n",
    "    - next successors (in-order, pre-order, and post-order). \n",
    "    - Binary heap with BST. \n",
    "    - ... "
   ]
  },
  {
   "cell_type": "code",
   "execution_count": 3,
   "metadata": {},
   "outputs": [],
   "source": [
    "import random "
   ]
  },
  {
   "cell_type": "code",
   "execution_count": 81,
   "metadata": {},
   "outputs": [],
   "source": [
    "class BST:\n",
    "    class _Node:\n",
    "        def __init__(self, value=None, left=None, right=None, parent=None):\n",
    "            self.value = value\n",
    "            self.left = left\n",
    "            self.right = right \n",
    "            self.parent = parent \n",
    "    \n",
    "    def __init__(self):\n",
    "        self.root = None\n",
    "        \n",
    "    def insert(self, value):\n",
    "        if self.root is None:\n",
    "            self.root = self._Node(value)\n",
    "        else:\n",
    "            self._insert(value, self.root)\n",
    "    \n",
    "    def _insert(self, value, current_node):\n",
    "        if value < current_node.value:\n",
    "            if current_node.left is None:\n",
    "                current_node.left = self._Node(value)\n",
    "                current_node.left.parent = current_node\n",
    "            else:\n",
    "                self._insert(value, current_node.left)\n",
    "        elif value > current_node.value:\n",
    "            if current_node.right is None: \n",
    "                current_node.right = self._Node(value)\n",
    "                current_node.right.parent = current_node \n",
    "            else:\n",
    "                self._insert(value, current_node.right)\n",
    "        else:\n",
    "            print(\"Value already exist !\")\n",
    "            \n",
    "    def print_tree(self):\n",
    "        if self.root is None: \n",
    "            print(\"Empty Tree !\")\n",
    "        else:\n",
    "            self._print_tree(self.root)\n",
    "            print(\"\")\n",
    "            \n",
    "    def _print_tree(self, current_node):\n",
    "        if current_node.left is not None:\n",
    "            self._print_tree(current_node.left)\n",
    "        print(current_node.value, end=\" \")\n",
    "        if current_node.right is not None:\n",
    "            self._print_tree(current_node.right)\n",
    "    \n",
    "    def search(self, value):\n",
    "        if self.root is None:\n",
    "            return False\n",
    "        else:\n",
    "            return self._search(value, self.root)\n",
    "            \n",
    "    def _search(self, value, current): \n",
    "        if current.value == value:\n",
    "            return True\n",
    "        elif current.left is not None:\n",
    "            return self._search(value, current.left)\n",
    "        elif current.right is not None:\n",
    "            return self._search(value, current.right)\n",
    "        else:\n",
    "            return False\n",
    "    \n",
    "    def find(self, value):\n",
    "        if self.root is None:\n",
    "            return False\n",
    "        else:\n",
    "            return self._find(value, self.root)\n",
    "        \n",
    "    def _find(self, value, current):\n",
    "        if current.value == value:\n",
    "            return current\n",
    "        elif current.left is not None :\n",
    "            return self._search(value, current.left)\n",
    "        elif current.right is not None:\n",
    "            return self._search(value, current.right)\n",
    "        else:\n",
    "            return None \n",
    "    \n",
    "    def delete(self, value):\n",
    "        self._delete_node(self.find(value))\n",
    "        \n",
    "    def _delete_node(self, node):\n",
    "        \n",
    "        def get_min_value_node(search_root):\n",
    "            current = search_root\n",
    "            while current.left is not None:\n",
    "                current = current.left\n",
    "            return current \n",
    "        \n",
    "        def get_num_children(to_delete_node):\n",
    "            num_children = 0\n",
    "            if to_delete_node.left is not None: num_children+=1 \n",
    "            return num_children if to_delete_node.right is None else num_children +1 \n",
    "            \n",
    "        num_children = get_num_children(node)\n",
    "        if num_children == 0:\n",
    "            if node.parent.left == node:\n",
    "                node.parent.left = None\n",
    "            else:\n",
    "                node.parent.right = None \n",
    "            del node \n",
    "        \n",
    "        if num_children ==1:\n",
    "            if node.left is not None:\n",
    "                child = node.left\n",
    "            else:\n",
    "                child = node.right \n",
    "            \n",
    "            if node.parent.left == node:\n",
    "                node.parent.left = child\n",
    "            else:\n",
    "                node.parent.right = child \n",
    "        \n",
    "        if num_children == 2 :\n",
    "            successor = get_min_value_node(node.right)\n",
    "            node.value = successor.value\n",
    "            self._delete_node(successor)\n",
    "\n",
    "    def get_height(self):\n",
    "        if self.root is None:\n",
    "            print(\"Tree is empty, returning default value of -1 .\")\n",
    "            return -1\n",
    "        else:\n",
    "            return self._get_height(self.root)\n",
    "    \n",
    "    def _get_height(self, current):\n",
    "        if current.left is not None:\n",
    "            a = self._get_height(current.left)\n",
    "        else:\n",
    "            a = 0\n",
    "        if current.right is not None:\n",
    "            b = self._get_height(current.right)\n",
    "        else:\n",
    "            b = 0\n",
    "            \n",
    "        return 1+ max(a, b)\n",
    "    \n",
    "    \n",
    "    def is_balanced(self):\n",
    "        if self.root is None:\n",
    "            return True\n",
    "        elif self.root.left is None and self.root.right is None:\n",
    "            return True\n",
    "        else:\n",
    "            return self._is_balanced(self.root)[-1]\n",
    "    \n",
    "    def _is_balanced(self, node):\n",
    "        if node is None:\n",
    "            return (-1, True)\n",
    "        else: \n",
    "            h1, cond1 = self._is_balanced(node.left)\n",
    "            if cond1 is False:\n",
    "                return (None, False)\n",
    "            h2, cond2 = self._is_balanced(node.right)\n",
    "            if cond2 is False:\n",
    "                return (None, False)\n",
    "            \n",
    "            h = 1+max(h1, h2)\n",
    "            if abs(h1-h2) <= 1:\n",
    "                cond = True\n",
    "            else:\n",
    "                cond = False \n",
    "            return (h, cond)\n",
    "        "
   ]
  },
  {
   "cell_type": "code",
   "execution_count": 82,
   "metadata": {},
   "outputs": [
    {
     "name": "stdout",
     "output_type": "stream",
     "text": [
      "Value already exist !\n",
      "Value already exist !\n",
      "Value already exist !\n",
      "Value already exist !\n",
      "Value already exist !\n",
      "Value already exist !\n",
      "Value already exist !\n",
      "2 23 28 40 64 65 69 71 73 75 79 81 82 99 100 103 104 110 117 118 128 136 137 139 145 148 151 154 164 170 172 188 201 205 206 220 224 235 241 244 251 256 264 267 271 275 290 293 297 300 301 302 308 313 326 328 330 331 335 339 343 347 348 356 361 367 371 375 377 384 387 390 391 394 395 402 411 419 426 428 429 437 439 445 448 460 464 465 469 480 481 485 499 \n"
     ]
    }
   ],
   "source": [
    "tree = BST()\n",
    "for i in range(100):\n",
    "    tree.insert(random.randint(1, 500))\n",
    "tree.print_tree()"
   ]
  },
  {
   "cell_type": "code",
   "execution_count": 83,
   "metadata": {},
   "outputs": [
    {
     "name": "stdout",
     "output_type": "stream",
     "text": [
      "False\n",
      "False\n",
      "12\n"
     ]
    }
   ],
   "source": [
    "print(tree.search(15))\n",
    "print(tree.search(10)) \n",
    "print(tree.get_height()) "
   ]
  },
  {
   "cell_type": "code",
   "execution_count": 84,
   "metadata": {},
   "outputs": [
    {
     "name": "stdout",
     "output_type": "stream",
     "text": [
      "4 5 6 9 10 11 \n",
      "\n",
      "4 6 9 10 11 \n"
     ]
    }
   ],
   "source": [
    "bst = BST()\n",
    "items = [5, 4, 6, 10, 9, 11]\n",
    "l = [bst.insert(item) for item in items]\n",
    "del l \n",
    "bst.print_tree()\n",
    "bst.delete(5)\n",
    "print()\n",
    "bst.print_tree()"
   ]
  },
  {
   "cell_type": "code",
   "execution_count": 92,
   "metadata": {},
   "outputs": [
    {
     "name": "stdout",
     "output_type": "stream",
     "text": [
      "0 1 2 3 4 \n",
      "False\n"
     ]
    }
   ],
   "source": [
    "bst = BST()\n",
    "#items = [5, 3, 4, 2, 1, 6, 8, 7, 9]\n",
    "items = [3, 2, 4, 1, 0]\n",
    "l = [bst.insert(item) for item in items]\n",
    "del l \n",
    "bst.print_tree()\n",
    "\n",
    "print(bst.is_balanced())"
   ]
  },
  {
   "cell_type": "code",
   "execution_count": null,
   "metadata": {},
   "outputs": [],
   "source": []
  }
 ],
 "metadata": {
  "kernelspec": {
   "display_name": "Python 3",
   "language": "python",
   "name": "python3"
  },
  "language_info": {
   "codemirror_mode": {
    "name": "ipython",
    "version": 3
   },
   "file_extension": ".py",
   "mimetype": "text/x-python",
   "name": "python",
   "nbconvert_exporter": "python",
   "pygments_lexer": "ipython3",
   "version": "3.8.3"
  }
 },
 "nbformat": 4,
 "nbformat_minor": 4
}
