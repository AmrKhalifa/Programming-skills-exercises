{
 "cells": [
  {
   "cell_type": "markdown",
   "metadata": {},
   "source": [
    "# Implementation to binary search trees and some of the related functionality"
   ]
  },
  {
   "cell_type": "markdown",
   "metadata": {},
   "source": [
    "#### Tasks\n",
    "    - *Full implementation of core functionality*.\n",
    "    - *Height and Depth.* \n",
    "    - *Balance test*. \n",
    "    - Diameter. \n",
    "    - Least Common Ancestor. \n",
    "    - Ancestors of a node (no parent pointer). \n",
    "    - Symmetry test. \n",
    "    - Mirroring BST. \n",
    "    - next successors (in-order, pre-order, and post-order). \n",
    "    - Binary heap with BST. \n",
    "    - ... "
   ]
  },
  {
   "cell_type": "code",
   "execution_count": 93,
   "metadata": {},
   "outputs": [],
   "source": [
    "import random "
   ]
  },
  {
   "cell_type": "code",
   "execution_count": 224,
   "metadata": {},
   "outputs": [],
   "source": [
    "class BST:\n",
    "    class _Node:\n",
    "        def __init__(self, value=None, left=None, right=None, parent=None):\n",
    "            self.value = value\n",
    "            self.left = left\n",
    "            self.right = right \n",
    "            self.parent = parent \n",
    "    \n",
    "    def __init__(self):\n",
    "        self.root = None\n",
    "        \n",
    "    def insert(self, value):\n",
    "        if self.root is None:\n",
    "            self.root = self._Node(value)\n",
    "        else:\n",
    "            self._insert(value, self.root)\n",
    "    \n",
    "    def _insert(self, value, current_node):\n",
    "        if value < current_node.value:\n",
    "            if current_node.left is None:\n",
    "                current_node.left = self._Node(value)\n",
    "                current_node.left.parent = current_node\n",
    "            else:\n",
    "                self._insert(value, current_node.left)\n",
    "        elif value > current_node.value:\n",
    "            if current_node.right is None: \n",
    "                current_node.right = self._Node(value)\n",
    "                current_node.right.parent = current_node \n",
    "            else:\n",
    "                self._insert(value, current_node.right)\n",
    "        else:\n",
    "            print(\"Value already exist !\")\n",
    "            \n",
    "    def print_tree(self):\n",
    "        if self.root is None: \n",
    "            print(\"Empty Tree !\")\n",
    "        else:\n",
    "            self._print_tree(self.root)\n",
    "            print(\"\")\n",
    "            \n",
    "    def _print_tree(self, current_node):\n",
    "        if current_node.left is not None:\n",
    "            self._print_tree(current_node.left)\n",
    "        print(current_node.value, end=\" \")\n",
    "        if current_node.right is not None:\n",
    "            self._print_tree(current_node.right)\n",
    "    \n",
    "    def search(self, value):\n",
    "        if self.root is None:\n",
    "            return False\n",
    "        else:\n",
    "            return self._search(value, self.root)\n",
    "            \n",
    "    def _search(self, value, current): \n",
    "        if current.value == value:\n",
    "            return True\n",
    "        elif value < current.value and current.left is not None:\n",
    "            return self._search(value, current.left)\n",
    "        elif value > current.value and current.right is not None:\n",
    "            return self._search(value, current.right)\n",
    "        else:\n",
    "            return False\n",
    "    \n",
    "    def find(self, value):\n",
    "        if self.root is None:\n",
    "            return None \n",
    "        else:\n",
    "            return self._find(value, self.root)\n",
    "        \n",
    "    def _find(self, value, current):\n",
    "        if current.value == value:\n",
    "            return current\n",
    "        elif value < current.value and current.left is not None :\n",
    "            return self._find(value, current.left)\n",
    "        elif value > current.value and current.right is not None:\n",
    "            return self._find(value, current.right)\n",
    "        else:\n",
    "            return None \n",
    "    \n",
    "    def delete(self, value):\n",
    "        self._delete_node(self.find(value))\n",
    "        \n",
    "    def _delete_node(self, node):\n",
    "        \n",
    "        def get_min_value_node(search_root):\n",
    "            current = search_root\n",
    "            while current.left is not None:\n",
    "                current = current.left\n",
    "            return current \n",
    "        \n",
    "        def get_num_children(to_delete_node):\n",
    "            num_children = 0\n",
    "            if to_delete_node.left is not None: num_children+=1 \n",
    "            return num_children if to_delete_node.right is None else num_children +1 \n",
    "            \n",
    "        num_children = get_num_children(node)\n",
    "        if num_children == 0:\n",
    "            if node.parent.left == node:\n",
    "                node.parent.left = None\n",
    "            else:\n",
    "                node.parent.right = None \n",
    "            del node \n",
    "        \n",
    "        if num_children ==1:\n",
    "            if node.left is not None:\n",
    "                child = node.left\n",
    "            else:\n",
    "                child = node.right \n",
    "            \n",
    "            if node.parent.left == node:\n",
    "                node.parent.left = child\n",
    "            else:\n",
    "                node.parent.right = child\n",
    "            child.parent = node.parent\n",
    "        \n",
    "        if num_children == 2 :\n",
    "            successor = get_min_value_node(node.right)\n",
    "            node.value = successor.value\n",
    "            self._delete_node(successor)\n",
    "\n",
    "    def get_height(self):\n",
    "        if self.root is None:\n",
    "            print(\"Tree is empty, returning default value of -1 .\")\n",
    "            return -1\n",
    "        else:\n",
    "            return self._get_height(self.root)\n",
    "    \n",
    "    def _get_height(self, current):\n",
    "        if current.left is not None:\n",
    "            a = self._get_height(current.left)\n",
    "        else:\n",
    "            a = 0\n",
    "        if current.right is not None:\n",
    "            b = self._get_height(current.right)\n",
    "        else:\n",
    "            b = 0\n",
    "            \n",
    "        return 1+ max(a, b)\n",
    "    \n",
    "    def is_balanced(self):\n",
    "        if self.root is None:\n",
    "            return True\n",
    "        elif self.root.left is None and self.root.right is None:\n",
    "            return True\n",
    "        else:\n",
    "            return self._is_balanced(self.root)[-1]\n",
    "    \n",
    "    def _is_balanced(self, node):\n",
    "        if node is None:\n",
    "            return (-1, True)\n",
    "        else: \n",
    "            h1, cond1 = self._is_balanced(node.left)\n",
    "            if cond1 is False:\n",
    "                return (None, False)\n",
    "            h2, cond2 = self._is_balanced(node.right)\n",
    "            if cond2 is False:\n",
    "                return (None, False)\n",
    "            \n",
    "            h = 1+max(h1, h2)\n",
    "            if abs(h1-h2) <= 1:\n",
    "                cond = True\n",
    "            else:\n",
    "                cond = False \n",
    "            return (h, cond)\n",
    "    \n",
    "    def get_depth(self, value):\n",
    "        node = self.find(value)\n",
    "        if node is None:\n",
    "            raise ValueError(\"Value doesn't exist\")\n",
    "        else:\n",
    "            depth = 0\n",
    "            while node.parent != self.root:\n",
    "                depth+=1\n",
    "                node = node.parent\n",
    "            return depth+1\n",
    "        \n",
    "    \n",
    "    def LCA(self, a, b, recursive=True):\n",
    "        if recursive: \n",
    "            return self._recursive_LCA(self.root, a, b)\n",
    "    \n",
    "    def _recursive_LCA(self, current, a, b):\n",
    "        if current: \n",
    "            if (current.value == a) or (current.value == b):\n",
    "                return current\n",
    "\n",
    "            l = self._recursive_LCA(current.left, a, b)\n",
    "            r = self._recursive_LCA(current.right, a, b)\n",
    "            \n",
    "            if l is not None and r is not None:\n",
    "                return current\n",
    "            else:\n",
    "                if l is not None and r is None:\n",
    "                    return l\n",
    "                elif r is not None and l is None:\n",
    "                    return r"
   ]
  },
  {
   "cell_type": "code",
   "execution_count": 225,
   "metadata": {},
   "outputs": [
    {
     "name": "stdout",
     "output_type": "stream",
     "text": [
      "Value already exist !\n",
      "Value already exist !\n",
      "Value already exist !\n",
      "Value already exist !\n",
      "Value already exist !\n",
      "Value already exist !\n",
      "10 14 22 28 29 33 40 44 47 54 55 59 65 66 73 75 76 87 90 93 94 96 97 116 131 132 134 140 141 152 155 166 170 189 190 194 198 203 208 212 219 224 234 245 251 253 261 263 268 270 273 274 276 284 295 296 302 304 305 310 312 314 317 322 330 338 344 363 365 375 376 378 395 411 418 421 424 435 439 442 443 444 449 454 458 461 468 469 471 474 483 488 489 496 \n"
     ]
    }
   ],
   "source": [
    "tree = BST()\n",
    "for i in range(100):\n",
    "    tree.insert(random.randint(1, 500))\n",
    "tree.print_tree()"
   ]
  },
  {
   "cell_type": "code",
   "execution_count": 226,
   "metadata": {},
   "outputs": [
    {
     "name": "stdout",
     "output_type": "stream",
     "text": [
      "False\n",
      "True\n",
      "13\n"
     ]
    }
   ],
   "source": [
    "print(tree.search(15))\n",
    "print(tree.search(10)) \n",
    "print(tree.get_height()) "
   ]
  },
  {
   "cell_type": "code",
   "execution_count": 227,
   "metadata": {},
   "outputs": [
    {
     "name": "stdout",
     "output_type": "stream",
     "text": [
      "4 5 6 9 10 11 \n",
      "True\n",
      "3\n",
      " root is 5\n",
      " root is 6\n",
      "4 6 9 10 11 \n",
      "2\n"
     ]
    }
   ],
   "source": [
    "bst = BST()\n",
    "items = [5, 4, 6, 10, 9, 11]\n",
    "l = [bst.insert(item) for item in items]\n",
    "del l \n",
    "bst.print_tree()\n",
    "print(bst.search(10))\n",
    "print(bst.get_depth(11))\n",
    "print(f\" root is {(bst.root.value)}\")\n",
    "bst.delete(5)\n",
    "print(f\" root is {(bst.root.value)}\")\n",
    "bst.print_tree()\n",
    "print(bst.get_depth(11))"
   ]
  },
  {
   "cell_type": "code",
   "execution_count": 228,
   "metadata": {},
   "outputs": [
    {
     "name": "stdout",
     "output_type": "stream",
     "text": [
      "0 1 2 3 4 \n",
      "False\n"
     ]
    }
   ],
   "source": [
    "bst = BST()\n",
    "#items = [5, 3, 4, 2, 1, 6, 8, 7, 9]\n",
    "items = [3, 2, 4, 1, 0]\n",
    "l = [bst.insert(item) for item in items]\n",
    "del l \n",
    "bst.print_tree()\n",
    "\n",
    "print(bst.is_balanced())"
   ]
  },
  {
   "cell_type": "code",
   "execution_count": 229,
   "metadata": {},
   "outputs": [
    {
     "name": "stdout",
     "output_type": "stream",
     "text": [
      "3 4 5 6 10 11 \n",
      "True\n",
      "3\n",
      " root is 5\n",
      " root is 6\n",
      "3 4 6 10 11 \n",
      "2\n"
     ]
    }
   ],
   "source": [
    "bst = BST()\n",
    "items = [5, 4, 3, 6, 10, 11]\n",
    "l = [bst.insert(item) for item in items]\n",
    "del l \n",
    "bst.print_tree()\n",
    "print(bst.search(10))\n",
    "print(bst.get_depth(11))\n",
    "print(f\" root is {(bst.root.value)}\")\n",
    "bst.delete(5)\n",
    "print(f\" root is {(bst.root.value)}\")\n",
    "bst.print_tree()\n",
    "print(bst.get_depth(11))"
   ]
  },
  {
   "cell_type": "code",
   "execution_count": 230,
   "metadata": {},
   "outputs": [
    {
     "name": "stdout",
     "output_type": "stream",
     "text": [
      "3 4 5 6 10 11 \n"
     ]
    }
   ],
   "source": [
    "bst = BST()\n",
    "items = [5, 4, 3, 6, 10, 11]\n",
    "l = [bst.insert(item) for item in items]\n",
    "del l \n",
    "bst.print_tree()"
   ]
  },
  {
   "cell_type": "code",
   "execution_count": 236,
   "metadata": {},
   "outputs": [
    {
     "name": "stdout",
     "output_type": "stream",
     "text": [
      "5\n"
     ]
    }
   ],
   "source": [
    "ancs = bst.LCA(3, 11)\n",
    "print(ancs.value)"
   ]
  },
  {
   "cell_type": "code",
   "execution_count": null,
   "metadata": {},
   "outputs": [],
   "source": []
  }
 ],
 "metadata": {
  "kernelspec": {
   "display_name": "Python 3",
   "language": "python",
   "name": "python3"
  },
  "language_info": {
   "codemirror_mode": {
    "name": "ipython",
    "version": 3
   },
   "file_extension": ".py",
   "mimetype": "text/x-python",
   "name": "python",
   "nbconvert_exporter": "python",
   "pygments_lexer": "ipython3",
   "version": "3.8.3"
  }
 },
 "nbformat": 4,
 "nbformat_minor": 4
}
