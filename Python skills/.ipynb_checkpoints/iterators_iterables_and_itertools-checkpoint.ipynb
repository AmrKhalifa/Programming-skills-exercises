{
 "cells": [
  {
   "cell_type": "code",
   "execution_count": 1,
   "metadata": {},
   "outputs": [],
   "source": [
    "import itertools "
   ]
  },
  {
   "cell_type": "markdown",
   "metadata": {},
   "source": [
    "### Task 1) Implement an iterable-iterator and a generator to split a sentence into words "
   ]
  },
  {
   "cell_type": "code",
   "execution_count": 2,
   "metadata": {},
   "outputs": [
    {
     "name": "stdout",
     "output_type": "stream",
     "text": [
      "Hello\n",
      "world\n",
      "am\n",
      "using\n",
      "iterables\n",
      "and\n",
      "iterators\n"
     ]
    }
   ],
   "source": [
    "# iterator class \n",
    "\n",
    "class Sentence:\n",
    "    def __init__(self, string):\n",
    "        self.words = string.split()\n",
    "        \n",
    "    def __iter__(self):\n",
    "        self.current = 0 \n",
    "        return self \n",
    "    \n",
    "    def __next__(self):\n",
    "        if self.current < len(self.words):\n",
    "            current_word  = self.words[self.current]\n",
    "            self.current+=1\n",
    "            return current_word\n",
    "        else:\n",
    "            raise StopIteration \n",
    "    \n",
    "sent = Sentence('Hello world am using iterables and iterators')\n",
    "sent_iterator = iter(sent)\n",
    "for word in sent:\n",
    "    print(word)\n",
    "                            \n",
    "        "
   ]
  },
  {
   "cell_type": "code",
   "execution_count": 3,
   "metadata": {},
   "outputs": [
    {
     "name": "stdout",
     "output_type": "stream",
     "text": [
      "Hello\n",
      "world\n",
      "am\n",
      "using\n",
      "a\n",
      "generator\n"
     ]
    }
   ],
   "source": [
    "# Generator function \n",
    "\n",
    "def sentence(string):\n",
    "    words = string.split()\n",
    "    idx = 0\n",
    "    while idx<len(words):\n",
    "        yield words[idx]\n",
    "        idx+=1 \n",
    "        \n",
    "sen = sentence(\"Hello world am using a generator\")\n",
    "for word in sen:\n",
    "    print(word)"
   ]
  },
  {
   "cell_type": "code",
   "execution_count": null,
   "metadata": {},
   "outputs": [],
   "source": []
  },
  {
   "cell_type": "markdown",
   "metadata": {},
   "source": [
    "### Task 2) Exploring itertools "
   ]
  },
  {
   "cell_type": "markdown",
   "metadata": {},
   "source": [
    "#### itertools.count(start = 0, step = 1): returns a normal counter"
   ]
  },
  {
   "cell_type": "code",
   "execution_count": 4,
   "metadata": {},
   "outputs": [
    {
     "name": "stdout",
     "output_type": "stream",
     "text": [
      "[(0, 10), (1, 15), (2, 20), (3, 25), (4, 30), (5, 35), (6, 40), (7, 45), (8, 50), (9, 55), (10, 60), (11, 65), (12, 70), (13, 75), (14, 80), (15, 85), (16, 90), (17, 95)]\n",
      "[10, 9.5, 9.0, 8.5, 8.0, 7.5, 7.0, 6.5, 6.0, 5.5]\n"
     ]
    }
   ],
   "source": [
    "x = range(10, 100, 5)\n",
    "z = zip(itertools.count(), x)\n",
    "print(list(z))\n",
    "\n",
    "counter = itertools.count(start = 10, step = -0.5)\n",
    "print(list(next(counter) for i in range(10)))"
   ]
  },
  {
   "cell_type": "markdown",
   "metadata": {},
   "source": [
    "#### itertools.zip_longest():  just like zip() but runs till the iterator of the longest iterable is exhausted \n",
    "\n"
   ]
  },
  {
   "cell_type": "code",
   "execution_count": 5,
   "metadata": {},
   "outputs": [
    {
     "name": "stdout",
     "output_type": "stream",
     "text": [
      "[(0, 0), (1, 1), (2, 2), (3, 3), (4, 4), (5, 5), (6, 6), (7, 7), (8, 8), (9, 9), (None, 10), (None, 11), (None, 12), (None, 13), (None, 14)]\n"
     ]
    }
   ],
   "source": [
    "x = range(10)\n",
    "y = range(15)\n",
    "z = list(itertools.zip_longest(x, y))\n",
    "print(z)"
   ]
  },
  {
   "cell_type": "markdown",
   "metadata": {},
   "source": [
    "#### itertools.cycle(): cycles on an iterator over and over \n",
    "\n"
   ]
  },
  {
   "cell_type": "code",
   "execution_count": 6,
   "metadata": {},
   "outputs": [
    {
     "name": "stdout",
     "output_type": "stream",
     "text": [
      "a-> b-> c-> a-> b-> c-> a-> b-> c-> a->  \n"
     ]
    }
   ],
   "source": [
    "seq = ['a', 'b', 'c']\n",
    "cyc = itertools.cycle(seq)\n",
    "for i in range(10): \n",
    "    print(next(cyc), end = \"-> \")\n",
    "print(\" \")"
   ]
  },
  {
   "cell_type": "markdown",
   "metadata": {},
   "source": [
    "#### itertools.repeat(): repeats and argument number of times, or indefinetly. \n"
   ]
  },
  {
   "cell_type": "code",
   "execution_count": 7,
   "metadata": {},
   "outputs": [
    {
     "name": "stdout",
     "output_type": "stream",
     "text": [
      "[[1, 2, 3], [1, 2, 3], [1, 2, 3], [1, 2, 3]]\n",
      "[0, 1, 4, 9, 16, 25, 36, 49, 64, 81]\n"
     ]
    }
   ],
   "source": [
    "z = itertools.repeat([1,2,3], times = 4)\n",
    "print(list(z))\n",
    "\n",
    "zz = map(pow,range(10), itertools.repeat(2))\n",
    "print(list(zz))"
   ]
  },
  {
   "cell_type": "markdown",
   "metadata": {},
   "source": [
    "#### itertools.starmap: same as map but takes argumets as tuples "
   ]
  },
  {
   "cell_type": "code",
   "execution_count": 8,
   "metadata": {},
   "outputs": [
    {
     "name": "stdout",
     "output_type": "stream",
     "text": [
      "[4, 9, 16]\n"
     ]
    }
   ],
   "source": [
    "zz = itertools.starmap(pow, [(2, 2), (3, 2), (4, 2)])\n",
    "print(list(zz))"
   ]
  },
  {
   "cell_type": "code",
   "execution_count": 9,
   "metadata": {},
   "outputs": [],
   "source": [
    "# more practice "
   ]
  },
  {
   "cell_type": "code",
   "execution_count": null,
   "metadata": {},
   "outputs": [],
   "source": []
  },
  {
   "cell_type": "code",
   "execution_count": null,
   "metadata": {},
   "outputs": [],
   "source": []
  }
 ],
 "metadata": {
  "kernelspec": {
   "display_name": "Python 3",
   "language": "python",
   "name": "python3"
  },
  "language_info": {
   "codemirror_mode": {
    "name": "ipython",
    "version": 3
   },
   "file_extension": ".py",
   "mimetype": "text/x-python",
   "name": "python",
   "nbconvert_exporter": "python",
   "pygments_lexer": "ipython3",
   "version": "3.8.3"
  }
 },
 "nbformat": 4,
 "nbformat_minor": 4
}
