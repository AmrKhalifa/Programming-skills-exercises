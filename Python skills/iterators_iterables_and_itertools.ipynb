{
 "cells": [
  {
   "cell_type": "code",
   "execution_count": 1,
   "metadata": {},
   "outputs": [],
   "source": [
    "import itertools "
   ]
  },
  {
   "cell_type": "markdown",
   "metadata": {},
   "source": [
    "## Task 1) Implement an iterable-iterator and a generator to split a sentence into words "
   ]
  },
  {
   "cell_type": "code",
   "execution_count": 2,
   "metadata": {},
   "outputs": [
    {
     "name": "stdout",
     "output_type": "stream",
     "text": [
      "Hello\n",
      "world\n",
      "am\n",
      "using\n",
      "iterables\n",
      "and\n",
      "iterators\n"
     ]
    }
   ],
   "source": [
    "# iterator class \n",
    "\n",
    "class Sentence:\n",
    "    def __init__(self, string):\n",
    "        self.words = string.split()\n",
    "        \n",
    "    def __iter__(self):\n",
    "        self.current = 0 \n",
    "        return self \n",
    "    \n",
    "    def __next__(self):\n",
    "        if self.current < len(self.words):\n",
    "            current_word  = self.words[self.current]\n",
    "            self.current+=1\n",
    "            return current_word\n",
    "        else:\n",
    "            raise StopIteration \n",
    "    \n",
    "sent = Sentence('Hello world am using iterables and iterators')\n",
    "sent_iterator = iter(sent)\n",
    "for word in sent:\n",
    "    print(word)\n",
    "                            \n",
    "        "
   ]
  },
  {
   "cell_type": "code",
   "execution_count": 3,
   "metadata": {},
   "outputs": [
    {
     "name": "stdout",
     "output_type": "stream",
     "text": [
      "Hello\n",
      "world\n",
      "am\n",
      "using\n",
      "a\n",
      "generator\n"
     ]
    }
   ],
   "source": [
    "# Generator function \n",
    "\n",
    "def sentence(string):\n",
    "    words = string.split()\n",
    "    idx = 0\n",
    "    while idx<len(words):\n",
    "        yield words[idx]\n",
    "        idx+=1 \n",
    "        \n",
    "sen = sentence(\"Hello world am using a generator\")\n",
    "for word in sen:\n",
    "    print(word)"
   ]
  },
  {
   "cell_type": "markdown",
   "metadata": {},
   "source": [
    "## Task 2) Exploring itertools (quick):  "
   ]
  },
  {
   "cell_type": "markdown",
   "metadata": {},
   "source": [
    "#### itertools.count(start = 0, step = 1): returns a normal counter"
   ]
  },
  {
   "cell_type": "code",
   "execution_count": 4,
   "metadata": {},
   "outputs": [
    {
     "name": "stdout",
     "output_type": "stream",
     "text": [
      "[(0, 10), (1, 15), (2, 20), (3, 25), (4, 30), (5, 35), (6, 40), (7, 45), (8, 50), (9, 55), (10, 60), (11, 65), (12, 70), (13, 75), (14, 80), (15, 85), (16, 90), (17, 95)]\n",
      "[10, 9.5, 9.0, 8.5, 8.0, 7.5, 7.0, 6.5, 6.0, 5.5]\n"
     ]
    }
   ],
   "source": [
    "x = range(10, 100, 5)\n",
    "z = zip(itertools.count(), x)\n",
    "print(list(z))\n",
    "\n",
    "counter = itertools.count(start = 10, step = -0.5)\n",
    "print(list(next(counter) for i in range(10)))"
   ]
  },
  {
   "cell_type": "markdown",
   "metadata": {},
   "source": [
    "#### itertools.zip_longest():  just like zip() but runs till the iterator of the longest iterable is exhausted \n",
    "\n"
   ]
  },
  {
   "cell_type": "code",
   "execution_count": 5,
   "metadata": {},
   "outputs": [
    {
     "name": "stdout",
     "output_type": "stream",
     "text": [
      "[(0, 0), (1, 1), (2, 2), (3, 3), (4, 4), (5, 5), (6, 6), (7, 7), (8, 8), (9, 9), (None, 10), (None, 11), (None, 12), (None, 13), (None, 14)]\n"
     ]
    }
   ],
   "source": [
    "x = range(10)\n",
    "y = range(15)\n",
    "z = list(itertools.zip_longest(x, y))\n",
    "print(z)"
   ]
  },
  {
   "cell_type": "markdown",
   "metadata": {},
   "source": [
    "#### itertools.cycle(): cycles on an iterator over and over \n",
    "\n"
   ]
  },
  {
   "cell_type": "code",
   "execution_count": 6,
   "metadata": {},
   "outputs": [
    {
     "name": "stdout",
     "output_type": "stream",
     "text": [
      "a-> b-> c-> a-> b-> c-> a-> b-> c-> a->  \n"
     ]
    }
   ],
   "source": [
    "seq = ['a', 'b', 'c']\n",
    "cyc = itertools.cycle(seq)\n",
    "for i in range(10): \n",
    "    print(next(cyc), end = \"-> \")\n",
    "print(\" \")"
   ]
  },
  {
   "cell_type": "markdown",
   "metadata": {},
   "source": [
    "#### itertools.repeat(): repeats and argument number of times, or indefinetly. \n"
   ]
  },
  {
   "cell_type": "code",
   "execution_count": 7,
   "metadata": {},
   "outputs": [
    {
     "name": "stdout",
     "output_type": "stream",
     "text": [
      "[[1, 2, 3], [1, 2, 3], [1, 2, 3], [1, 2, 3]]\n",
      "[0, 1, 4, 9, 16, 25, 36, 49, 64, 81]\n"
     ]
    }
   ],
   "source": [
    "z = itertools.repeat([1,2,3], times = 4)\n",
    "print(list(z))\n",
    "\n",
    "zz = map(pow,range(10), itertools.repeat(2))\n",
    "print(list(zz))"
   ]
  },
  {
   "cell_type": "markdown",
   "metadata": {},
   "source": [
    "#### itertools.starmap: same as map but takes argumets as tuples "
   ]
  },
  {
   "cell_type": "code",
   "execution_count": 8,
   "metadata": {},
   "outputs": [
    {
     "name": "stdout",
     "output_type": "stream",
     "text": [
      "[4, 9, 16]\n"
     ]
    }
   ],
   "source": [
    "zz = itertools.starmap(pow, [(2, 2), (3, 2), (4, 2)])\n",
    "print(list(zz))"
   ]
  },
  {
   "cell_type": "code",
   "execution_count": 9,
   "metadata": {},
   "outputs": [
    {
     "name": "stdout",
     "output_type": "stream",
     "text": [
      "[2, 4, 6]\n",
      "[2, 4, 6]\n"
     ]
    }
   ],
   "source": [
    "## Map vs starmap \n",
    "\n",
    "x = [1, 2, 3]\n",
    "y = [1, 2, 3]\n",
    "z = map(lambda x,y:x+y, x, y)\n",
    "zz = itertools.starmap(lambda x,y:x+y,zip(x,y))\n",
    "print(list(z))\n",
    "print(list(zz))"
   ]
  },
  {
   "cell_type": "markdown",
   "metadata": {},
   "source": [
    "#### Combinations and Permutations"
   ]
  },
  {
   "cell_type": "markdown",
   "metadata": {},
   "source": [
    "- itertools.perumations()\n",
    "- itertools.combinations()\n",
    "- itertools.prodct()\n",
    "- itertools.combinations_with_replacement() "
   ]
  },
  {
   "cell_type": "code",
   "execution_count": 10,
   "metadata": {},
   "outputs": [
    {
     "name": "stdout",
     "output_type": "stream",
     "text": [
      "[('a', 'b'), ('a', 'c'), ('a', 'd'), ('b', 'a'), ('b', 'c'), ('b', 'd'), ('c', 'a'), ('c', 'b'), ('c', 'd'), ('d', 'a'), ('d', 'b'), ('d', 'c')]\n",
      "[('a', 'b', 'c'), ('a', 'b', 'd'), ('a', 'c', 'b'), ('a', 'c', 'd'), ('a', 'd', 'b'), ('a', 'd', 'c'), ('b', 'a', 'c'), ('b', 'a', 'd'), ('b', 'c', 'a'), ('b', 'c', 'd'), ('b', 'd', 'a'), ('b', 'd', 'c'), ('c', 'a', 'b'), ('c', 'a', 'd'), ('c', 'b', 'a'), ('c', 'b', 'd'), ('c', 'd', 'a'), ('c', 'd', 'b'), ('d', 'a', 'b'), ('d', 'a', 'c'), ('d', 'b', 'a'), ('d', 'b', 'c'), ('d', 'c', 'a'), ('d', 'c', 'b')]\n",
      "[('a', 'b'), ('a', 'c'), ('a', 'd'), ('b', 'c'), ('b', 'd'), ('c', 'd')]\n",
      "[('a', 'b', 'c'), ('a', 'b', 'd'), ('a', 'c', 'd'), ('b', 'c', 'd')]\n",
      "[('a', 'a'), ('a', 'b'), ('a', 'c'), ('a', 'd'), ('b', 'a'), ('b', 'b'), ('b', 'c'), ('b', 'd'), ('c', 'a'), ('c', 'b'), ('c', 'c'), ('c', 'd'), ('d', 'a'), ('d', 'b'), ('d', 'c'), ('d', 'd')]\n",
      "[('a', 'a', 'a'), ('a', 'a', 'b'), ('a', 'a', 'c'), ('a', 'a', 'd'), ('a', 'b', 'a'), ('a', 'b', 'b'), ('a', 'b', 'c'), ('a', 'b', 'd'), ('a', 'c', 'a'), ('a', 'c', 'b'), ('a', 'c', 'c'), ('a', 'c', 'd'), ('a', 'd', 'a'), ('a', 'd', 'b'), ('a', 'd', 'c'), ('a', 'd', 'd'), ('b', 'a', 'a'), ('b', 'a', 'b'), ('b', 'a', 'c'), ('b', 'a', 'd'), ('b', 'b', 'a'), ('b', 'b', 'b'), ('b', 'b', 'c'), ('b', 'b', 'd'), ('b', 'c', 'a'), ('b', 'c', 'b'), ('b', 'c', 'c'), ('b', 'c', 'd'), ('b', 'd', 'a'), ('b', 'd', 'b'), ('b', 'd', 'c'), ('b', 'd', 'd'), ('c', 'a', 'a'), ('c', 'a', 'b'), ('c', 'a', 'c'), ('c', 'a', 'd'), ('c', 'b', 'a'), ('c', 'b', 'b'), ('c', 'b', 'c'), ('c', 'b', 'd'), ('c', 'c', 'a'), ('c', 'c', 'b'), ('c', 'c', 'c'), ('c', 'c', 'd'), ('c', 'd', 'a'), ('c', 'd', 'b'), ('c', 'd', 'c'), ('c', 'd', 'd'), ('d', 'a', 'a'), ('d', 'a', 'b'), ('d', 'a', 'c'), ('d', 'a', 'd'), ('d', 'b', 'a'), ('d', 'b', 'b'), ('d', 'b', 'c'), ('d', 'b', 'd'), ('d', 'c', 'a'), ('d', 'c', 'b'), ('d', 'c', 'c'), ('d', 'c', 'd'), ('d', 'd', 'a'), ('d', 'd', 'b'), ('d', 'd', 'c'), ('d', 'd', 'd')]\n",
      "[('a', 'a'), ('a', 'b'), ('a', 'c'), ('a', 'd'), ('b', 'b'), ('b', 'c'), ('b', 'd'), ('c', 'c'), ('c', 'd'), ('d', 'd')]\n",
      "[('a', 'a', 'a'), ('a', 'a', 'b'), ('a', 'a', 'c'), ('a', 'a', 'd'), ('a', 'b', 'b'), ('a', 'b', 'c'), ('a', 'b', 'd'), ('a', 'c', 'c'), ('a', 'c', 'd'), ('a', 'd', 'd'), ('b', 'b', 'b'), ('b', 'b', 'c'), ('b', 'b', 'd'), ('b', 'c', 'c'), ('b', 'c', 'd'), ('b', 'd', 'd'), ('c', 'c', 'c'), ('c', 'c', 'd'), ('c', 'd', 'd'), ('d', 'd', 'd')]\n"
     ]
    }
   ],
   "source": [
    "letters = ['a', 'b', 'c', 'd']\n",
    "perms = itertools.permutations(letters, 2)\n",
    "print(list(perms))\n",
    "perms = itertools.permutations(letters, 3)\n",
    "print(list(perms))\n",
    "combs = itertools.combinations(letters, 2)\n",
    "print(list(combs))\n",
    "combs = itertools.combinations(letters, 3)\n",
    "print(list(combs))\n",
    "prod = itertools.product(letters, repeat=2)\n",
    "print(list(prod))\n",
    "prod = itertools.product(letters, repeat=3)\n",
    "print(list(prod))\n",
    "cwr = itertools.combinations_with_replacement(letters, 2)\n",
    "print(list(cwr))\n",
    "cwr = itertools.combinations_with_replacement(letters, 3)\n",
    "print(list(cwr))"
   ]
  },
  {
   "cell_type": "markdown",
   "metadata": {},
   "source": [
    "#### itertools.chain: iterates through a group of iterables as if they're connected, they only need to be iterable, no restriction on the type of the iterable. "
   ]
  },
  {
   "cell_type": "code",
   "execution_count": 11,
   "metadata": {},
   "outputs": [
    {
     "name": "stdout",
     "output_type": "stream",
     "text": [
      "[1, 2, 3, 4, 'Hello', 'world!', 'my', 'name', 'is', 'Amr']\n"
     ]
    }
   ],
   "source": [
    "l1 = [1,2,3,4]\n",
    "l2 = ['Hello', 'world!']\n",
    "t1 = ('my', 'name', 'is', 'Amr')\n",
    "\n",
    "combined = itertools.chain(l1, l2, t1)\n",
    "print(list(combined))"
   ]
  },
  {
   "cell_type": "markdown",
   "metadata": {},
   "source": [
    "#### itertools.islice(): slicies an iterator (useful to reduce memory consumption) "
   ]
  },
  {
   "cell_type": "code",
   "execution_count": 39,
   "metadata": {},
   "outputs": [
    {
     "name": "stdout",
     "output_type": "stream",
     "text": [
      "['l', ' ', 'o', 'l', ' ', 'h', 's', 'i', ' ', 'n', 'i', 'e', 'a', 'l', ' ', 't', 'i', 'g']\n"
     ]
    }
   ],
   "source": [
    "trable = 'Hello world this is an iterable string'\n",
    "slices = itertools.islice(trable, 3, len(trable), 2)\n",
    "print(list(slices))"
   ]
  },
  {
   "cell_type": "markdown",
   "metadata": {},
   "source": [
    "#### itertools.filter(): filters an iterable based on values from another iterable (just like filter but uses an iterable instead of a function to apply its logic)"
   ]
  },
  {
   "cell_type": "code",
   "execution_count": 48,
   "metadata": {},
   "outputs": [
    {
     "name": "stdout",
     "output_type": "stream",
     "text": [
      "[6, 7]\n",
      "[True, True, True, False, False, False, True, True, True]\n",
      "[2, 3, 4, 1, 2, 3]\n"
     ]
    }
   ],
   "source": [
    "l = [2,3,4,5,6,7,1,2,3]\n",
    "res = filter(lambda x:x>5, l)\n",
    "print(list(res))\n",
    "rule = lambda x:x<5\n",
    "iterable_rule = [rule(element) for element in l]\n",
    "print(iterable_rule)\n",
    "ress = itertools.compress(l, iterable_rule)\n",
    "print(list(ress))"
   ]
  },
  {
   "cell_type": "markdown",
   "metadata": {},
   "source": [
    "#### itertools.filterfalse(): complement of filter, takes a function as an input"
   ]
  },
  {
   "cell_type": "code",
   "execution_count": 49,
   "metadata": {},
   "outputs": [
    {
     "name": "stdout",
     "output_type": "stream",
     "text": [
      "[5, 6, 7]\n"
     ]
    }
   ],
   "source": [
    "res = itertools.filterfalse(rule, l)\n",
    "print(list(res))"
   ]
  },
  {
   "cell_type": "markdown",
   "metadata": {},
   "source": [
    "#### itertools.dropwhile(): same as filter but it stops it's filtering when it hits a true, and returns all the remaining values. "
   ]
  },
  {
   "cell_type": "code",
   "execution_count": 50,
   "metadata": {},
   "outputs": [
    {
     "name": "stdout",
     "output_type": "stream",
     "text": [
      "[5, 6, 7, 1, 2, 3]\n"
     ]
    }
   ],
   "source": [
    "res = itertools.dropwhile(rule, l)\n",
    "print(list(res))"
   ]
  },
  {
   "cell_type": "markdown",
   "metadata": {},
   "source": [
    "#### itertools.takewhile: opposite of itertools.dropwhile() "
   ]
  },
  {
   "cell_type": "code",
   "execution_count": 51,
   "metadata": {},
   "outputs": [
    {
     "name": "stdout",
     "output_type": "stream",
     "text": [
      "[2, 3, 4]\n"
     ]
    }
   ],
   "source": [
    "res = itertools.takewhile(rule, l)\n",
    "print(list(res))"
   ]
  },
  {
   "cell_type": "markdown",
   "metadata": {},
   "source": [
    "#### itertools.accumate(): accumulates the values of an iterable, and returns accumulation so far ..., it invokes the overloaded operator (+ or __add__())\n",
    "\n",
    "perfurms a running sum by deafult, but it accepts an operator and can perform its operation "
   ]
  },
  {
   "cell_type": "code",
   "execution_count": 62,
   "metadata": {},
   "outputs": [
    {
     "name": "stdout",
     "output_type": "stream",
     "text": [
      "[1, 3, 6, 10, 15]\n",
      "['h', 'hi', 'hi ', 'hi t', 'hi th', 'hi thi', 'hi this', 'hi this ', 'hi this i', 'hi this is', 'hi this is ', 'hi this is s', 'hi this is so', 'hi this is so ', 'hi this is so g', 'hi this is so go', 'hi this is so goo', 'hi this is so good']\n",
      "[1, 2, 6, 24, 120]\n"
     ]
    }
   ],
   "source": [
    "items = [1, 2, 3, 4, 5]\n",
    "res = itertools.accumulate(items)\n",
    "print(list(res))\n",
    "ll ='hi this is so good'\n",
    "\n",
    "ress = itertools.accumulate(ll)\n",
    "print(list(ress))\n",
    "\n",
    "import operator\n",
    "\n",
    "running_prod = itertools.accumulate(items, operator.mul)\n",
    "print(list(running_prod))"
   ]
  },
  {
   "cell_type": "markdown",
   "metadata": {},
   "source": [
    "#### itertools.groupby(): groups iterables based on  key values, returns a list of tuples, where first part of the tuple is a key value and the second part is an iterable with all the items from the original iterable that satisfy the key value.  \n",
    "input iterables must be sorted based on the key value. "
   ]
  },
  {
   "cell_type": "code",
   "execution_count": 65,
   "metadata": {},
   "outputs": [],
   "source": [
    "people = [\n",
    "    {\n",
    "        'name': 'John Doe',\n",
    "        'city': 'Gotham',\n",
    "        'state': 'NY'\n",
    "    },\n",
    "    {\n",
    "        'name': 'Jane Doe',\n",
    "        'city': 'Kings Landing',\n",
    "        'state': 'NY'\n",
    "    },\n",
    "    {\n",
    "        'name': 'Corey Schafer',\n",
    "        'city': 'Boulder',\n",
    "        'state': 'CO'\n",
    "    },\n",
    "    {\n",
    "        'name': 'Al Einstein',\n",
    "        'city': 'Denver',\n",
    "        'state': 'CO'\n",
    "    },\n",
    "    {\n",
    "        'name': 'John Henry',\n",
    "        'city': 'Hinton',\n",
    "        'state': 'WV'\n",
    "    },\n",
    "    {\n",
    "        'name': 'Randy Moss',\n",
    "        'city': 'Rand',\n",
    "        'state': 'WV'\n",
    "    },\n",
    "    {\n",
    "        'name': 'Nicole K',\n",
    "        'city': 'Asheville',\n",
    "        'state': 'NC'\n",
    "    },\n",
    "    {\n",
    "        'name': 'Jim Doe',\n",
    "        'city': 'Charlotte',\n",
    "        'state': 'NC'\n",
    "    },\n",
    "    {\n",
    "        'name': 'Jane Taylor',\n",
    "        'city': 'Faketown',\n",
    "        'state': 'NC'\n",
    "    }\n",
    "]"
   ]
  },
  {
   "cell_type": "code",
   "execution_count": 77,
   "metadata": {},
   "outputs": [
    {
     "name": "stdout",
     "output_type": "stream",
     "text": [
      "NY [{'name': 'John Doe', 'city': 'Gotham', 'state': 'NY'}, {'name': 'Jane Doe', 'city': 'Kings Landing', 'state': 'NY'}]\n",
      "CO [{'name': 'Corey Schafer', 'city': 'Boulder', 'state': 'CO'}, {'name': 'Al Einstein', 'city': 'Denver', 'state': 'CO'}]\n",
      "WV [{'name': 'John Henry', 'city': 'Hinton', 'state': 'WV'}, {'name': 'Randy Moss', 'city': 'Rand', 'state': 'WV'}]\n",
      "NC [{'name': 'Nicole K', 'city': 'Asheville', 'state': 'NC'}, {'name': 'Jim Doe', 'city': 'Charlotte', 'state': 'NC'}, {'name': 'Jane Taylor', 'city': 'Faketown', 'state': 'NC'}]\n"
     ]
    }
   ],
   "source": [
    "people_groups = itertools.groupby(people, lambda x:x['state'])\n",
    "for key, residents in people_groups:\n",
    "    print(key, list(residents))"
   ]
  },
  {
   "cell_type": "markdown",
   "metadata": {},
   "source": [
    "# Task 3): Implementations to itertools functions"
   ]
  },
  {
   "cell_type": "code",
   "execution_count": 157,
   "metadata": {},
   "outputs": [],
   "source": [
    "import numpy as np \n",
    "\n",
    "ll = [10,20,30,40,50,60,70]\n",
    "n_classes = 10\n",
    "params = []\n",
    "params.append(('W1',np.random.randn(10, ll[0]).shape))\n",
    "params.append(('b1',np.random.randn(ll[0]).shape))\n",
    "for i in range(2, len(ll)-1): \n",
    "    params.append(('W'+str(i+2), np.random.randn(ll[i], ll[i+1]).shape))\n",
    "    params.append(('b'+str(i+2), np.random.randn(ll[i+1]).shape))\n",
    "params.append(('W'+str(len(ll)+1), np.random.randn(ll[-1], n_classes).shape))\n",
    "params.append(('b'+str(len(ll)+1), np.random.randn(n_classes).shape))\n",
    "\n",
    "params = dict(params)"
   ]
  },
  {
   "cell_type": "code",
   "execution_count": 158,
   "metadata": {},
   "outputs": [
    {
     "data": {
      "text/plain": [
       "{'W1': (10, 10),\n",
       " 'b1': (10,),\n",
       " 'W4': (30, 40),\n",
       " 'b4': (40,),\n",
       " 'W5': (40, 50),\n",
       " 'b5': (50,),\n",
       " 'W6': (50, 60),\n",
       " 'b6': (60,),\n",
       " 'W7': (60, 70),\n",
       " 'b7': (70,),\n",
       " 'W8': (70, 10),\n",
       " 'b8': (10,)}"
      ]
     },
     "execution_count": 158,
     "metadata": {},
     "output_type": "execute_result"
    }
   ],
   "source": [
    "params"
   ]
  },
  {
   "cell_type": "code",
   "execution_count": 159,
   "metadata": {},
   "outputs": [
    {
     "name": "stdout",
     "output_type": "stream",
     "text": [
      "1\n",
      "2\n",
      "3\n",
      "4\n",
      "5\n",
      "6\n",
      "7\n"
     ]
    }
   ],
   "source": [
    "for i in range(1, len(ll)+1):\n",
    "    print(i)"
   ]
  },
  {
   "cell_type": "code",
   "execution_count": 167,
   "metadata": {},
   "outputs": [
    {
     "data": {
      "text/plain": [
       "[1, 2, 3, 4, 5, 6, 7, 8, 9, 10]"
      ]
     },
     "execution_count": 167,
     "metadata": {},
     "output_type": "execute_result"
    }
   ],
   "source": [
    "hidden = list(i+1 for i in range(10))\n",
    "hidden"
   ]
  },
  {
   "cell_type": "code",
   "execution_count": 161,
   "metadata": {},
   "outputs": [
    {
     "data": {
      "text/plain": [
       "9"
      ]
     },
     "execution_count": 161,
     "metadata": {},
     "output_type": "execute_result"
    }
   ],
   "source": [
    "l.pop()"
   ]
  },
  {
   "cell_type": "code",
   "execution_count": null,
   "metadata": {},
   "outputs": [],
   "source": []
  }
 ],
 "metadata": {
  "kernelspec": {
   "display_name": "Python 3",
   "language": "python",
   "name": "python3"
  },
  "language_info": {
   "codemirror_mode": {
    "name": "ipython",
    "version": 3
   },
   "file_extension": ".py",
   "mimetype": "text/x-python",
   "name": "python",
   "nbconvert_exporter": "python",
   "pygments_lexer": "ipython3",
   "version": "3.8.3"
  }
 },
 "nbformat": 4,
 "nbformat_minor": 4
}
