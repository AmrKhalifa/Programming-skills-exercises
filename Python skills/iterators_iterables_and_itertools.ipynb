{
 "cells": [
  {
   "cell_type": "markdown",
   "metadata": {},
   "source": [
    "### Task 1) Implement an iterable-iterator and a generator to split a sentence into words "
   ]
  },
  {
   "cell_type": "code",
   "execution_count": 24,
   "metadata": {},
   "outputs": [
    {
     "name": "stdout",
     "output_type": "stream",
     "text": [
      "Hello\n",
      "world\n",
      "am\n",
      "using\n",
      "iterables\n",
      "and\n",
      "iterators\n"
     ]
    }
   ],
   "source": [
    "# iterator class \n",
    "\n",
    "class Sentence:\n",
    "    def __init__(self, string):\n",
    "        self.words = string.split()\n",
    "        \n",
    "    def __iter__(self):\n",
    "        self.current = 0 \n",
    "        return self \n",
    "    \n",
    "    def __next__(self):\n",
    "        if self.current < len(self.words):\n",
    "            current_word  = self.words[self.current]\n",
    "            self.current+=1\n",
    "            return current_word\n",
    "        else:\n",
    "            raise StopIteration \n",
    "    \n",
    "sent = Sentence('Hello world am using iterables and iterators')\n",
    "sent_iterator = iter(sent)\n",
    "for word in sent:\n",
    "    print(word)\n",
    "                            \n",
    "        "
   ]
  },
  {
   "cell_type": "code",
   "execution_count": 25,
   "metadata": {},
   "outputs": [
    {
     "name": "stdout",
     "output_type": "stream",
     "text": [
      "Hello\n",
      "world\n",
      "am\n",
      "using\n",
      "a\n",
      "generator\n"
     ]
    }
   ],
   "source": [
    "# Generator function \n",
    "\n",
    "def sentence(string):\n",
    "    words = string.split()\n",
    "    idx = 0\n",
    "    while idx<len(words):\n",
    "        yield words[idx]\n",
    "        idx+=1 \n",
    "        \n",
    "sen = sentence(\"Hello world am using a generator\")\n",
    "for word in sen:\n",
    "    print(word)"
   ]
  },
  {
   "cell_type": "code",
   "execution_count": null,
   "metadata": {},
   "outputs": [],
   "source": []
  },
  {
   "cell_type": "code",
   "execution_count": null,
   "metadata": {},
   "outputs": [],
   "source": []
  }
 ],
 "metadata": {
  "kernelspec": {
   "display_name": "Python 3",
   "language": "python",
   "name": "python3"
  },
  "language_info": {
   "codemirror_mode": {
    "name": "ipython",
    "version": 3
   },
   "file_extension": ".py",
   "mimetype": "text/x-python",
   "name": "python",
   "nbconvert_exporter": "python",
   "pygments_lexer": "ipython3",
   "version": "3.8.3"
  }
 },
 "nbformat": 4,
 "nbformat_minor": 4
}
