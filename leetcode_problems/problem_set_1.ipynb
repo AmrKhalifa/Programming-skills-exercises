{
 "cells": [
  {
   "cell_type": "markdown",
   "metadata": {},
   "source": [
    "# Easy warm up problems "
   ]
  },
  {
   "cell_type": "markdown",
   "metadata": {},
   "source": [
    "## 1) \n",
    "\n",
    "### 1. Two Sum\n",
    "\n",
    "Given an array of integers nums and an integer target, return indices of the two numbers such that they add up to target.\n",
    "You may assume that each input would have exactly one solution, and you may not use the same element twice. \n",
    "You can return the answer in any order."
   ]
  },
  {
   "cell_type": "code",
   "execution_count": 279,
   "metadata": {},
   "outputs": [],
   "source": [
    "# O(n) time\n",
    "# O(n) space"
   ]
  },
  {
   "cell_type": "code",
   "execution_count": 126,
   "metadata": {},
   "outputs": [],
   "source": [
    "class Solution(object):\n",
    "    def twoSum(self, nums, target):\n",
    "        \"\"\"\n",
    "        :type nums: List[int]\n",
    "        :type target: int\n",
    "        :rtype: List[int]\n",
    "        \"\"\"\n",
    "        mapper = {}\n",
    "        aux_mapper = {}\n",
    "        solution = []\n",
    "        found_1 = None\n",
    "        \n",
    "        # first for loop check for same number:\n",
    "        for idx, num in enumerate(nums):\n",
    "            diff = target - num\n",
    "            if num == diff:\n",
    "                try: \n",
    "                    aux_mapper[num]\n",
    "                    solution.append(idx)\n",
    "                    solution.append(aux_mapper[num][0])\n",
    "                except:\n",
    "                    aux_mapper[num] = (idx, diff)\n",
    "                continue\n",
    "            \n",
    "        for idx, num in enumerate(nums):\n",
    "            diff = target - num\n",
    "            if num != diff:\n",
    "                mapper[num] = diff\n",
    "        \n",
    "        for idx, num in enumerate(nums):\n",
    "            diff = target - num\n",
    "            if num != diff:\n",
    "                try:\n",
    "                    mapper[diff]\n",
    "                    solution.append(idx)\n",
    "                except KeyError:\n",
    "                    continue \n",
    "        return solution "
   ]
  },
  {
   "cell_type": "code",
   "execution_count": 280,
   "metadata": {},
   "outputs": [],
   "source": [
    "# improved solution \n",
    "## faster and consumes less memory than first one\n",
    "\n",
    "# O(n) time \n",
    "# O(n) space"
   ]
  },
  {
   "cell_type": "code",
   "execution_count": 127,
   "metadata": {},
   "outputs": [],
   "source": [
    "class Solution(object):\n",
    "    def twoSum(self, nums, target):\n",
    "        \"\"\"\n",
    "        :type nums: List[int]\n",
    "        :type target: int\n",
    "        :rtype: List[int]\n",
    "        \"\"\"\n",
    "        mapper = {}\n",
    "        for i in range(len(nums)):\n",
    "            if nums[i] in mapper:\n",
    "                return [i, mapper[nums[i]]] \n",
    "            else:\n",
    "                mapper[target - nums[i]] = i"
   ]
  },
  {
   "cell_type": "markdown",
   "metadata": {},
   "source": [
    "## 2) \n",
    "\n",
    "### 7. Reverse Integer\n",
    "Given a signed 32-bit integer x, return x with its digits reversed. If reversing x causes the value to go outside the signed 32-bit integer range [-231, 231 - 1], then return 0.\n",
    "Assume the environment does not allow you to store 64-bit integers (signed or unsigned)."
   ]
  },
  {
   "cell_type": "code",
   "execution_count": 282,
   "metadata": {},
   "outputs": [],
   "source": [
    "#iterative solution\n",
    "# O(n) time"
   ]
  },
  {
   "cell_type": "code",
   "execution_count": 283,
   "metadata": {},
   "outputs": [],
   "source": [
    "def reverse(self, x):\n",
    "    if x==0:\n",
    "        return 0\n",
    "\n",
    "    def inner(x): \n",
    "        z = str(x)\n",
    "        if z[0] == '-':\n",
    "            z = z[1:]\n",
    "            yield '-'\n",
    "\n",
    "        first_non_zero = False\n",
    "        for i in range(1, len(z)+1):\n",
    "            if z[-i] == '0' and first_non_zero is False:\n",
    "                continue\n",
    "            else:\n",
    "                first_non_zero = True\n",
    "                yield z[-i]\n",
    "\n",
    "    string = ''.join(inner(x))\n",
    "    if string[0] == '-': \n",
    "        number = string[1:]\n",
    "        number =  -int(number) \n",
    "    else:\n",
    "        number = string\n",
    "        number = int(number)\n",
    "\n",
    "    if not (abs(number) < 2**31 and number != 2**31 - 1):\n",
    "        return 0\n",
    "    else:\n",
    "        return number "
   ]
  },
  {
   "cell_type": "code",
   "execution_count": 284,
   "metadata": {},
   "outputs": [],
   "source": [
    "# O(n) time"
   ]
  },
  {
   "cell_type": "code",
   "execution_count": null,
   "metadata": {},
   "outputs": [],
   "source": [
    "def reverse(x):\n",
    "    pos = False \n",
    "    z = abs(x)\n",
    "    if z == x:\n",
    "        pos = True\n",
    "    result = 0\n",
    "    while(z):\n",
    "        z, modu = divmod(z, 10)\n",
    "        result = result*10 + modu\n",
    "    result = result if pos else -result\n",
    "    return 0  if not (abs(result) < 2**31 and abs(result) != 2**31 - 1) else result "
   ]
  },
  {
   "cell_type": "code",
   "execution_count": null,
   "metadata": {},
   "outputs": [],
   "source": []
  },
  {
   "cell_type": "markdown",
   "metadata": {},
   "source": [
    "## 3) \n",
    "### 1480. Running Sum of 1d Array\n"
   ]
  },
  {
   "cell_type": "markdown",
   "metadata": {},
   "source": [
    "Given an array nums. We define a running sum of an array as runningSum[i] = sum(nums[0]…nums[i]). Return the running sum of nums."
   ]
  },
  {
   "cell_type": "code",
   "execution_count": 285,
   "metadata": {},
   "outputs": [],
   "source": [
    "# O(n) time "
   ]
  },
  {
   "cell_type": "code",
   "execution_count": 154,
   "metadata": {},
   "outputs": [
    {
     "name": "stdout",
     "output_type": "stream",
     "text": [
      "[1, 2, 3, 4]\n"
     ]
    }
   ],
   "source": [
    "def runningSum(nums):\n",
    "    \"\"\"\n",
    "    :type nums: List[int]\n",
    "    :rtype: List[int]\n",
    "    \"\"\"\n",
    "    rsum = [nums[0]]\n",
    "    for num in nums[1:]:\n",
    "        rsum.append(rsum[-1]+num)\n",
    "    return rsum\n",
    "\n",
    "print(runningSum([1, 1, 1, 1]))"
   ]
  },
  {
   "cell_type": "code",
   "execution_count": null,
   "metadata": {},
   "outputs": [],
   "source": []
  },
  {
   "cell_type": "markdown",
   "metadata": {},
   "source": [
    "## 4)\n",
    "#### 283. Move Zeroes\n",
    "\n",
    "Given an integer array nums, move all 0's to the end of it while maintaining the relative order of the non-zero elements. Note that you must do this in-place without making a copy of the array."
   ]
  },
  {
   "cell_type": "code",
   "execution_count": 286,
   "metadata": {},
   "outputs": [],
   "source": [
    "# naive implementation \n",
    "\n",
    "#O(n**2) time"
   ]
  },
  {
   "cell_type": "code",
   "execution_count": 240,
   "metadata": {},
   "outputs": [
    {
     "name": "stdout",
     "output_type": "stream",
     "text": [
      "[4, 2, 4, 0, 0, 3, 0, 5, 1, 0]\n",
      "[4, 2, 4, 3, 5, 1, 0, 0, 0, 0]\n"
     ]
    }
   ],
   "source": [
    "\n",
    "l1 = [0, 1, 1, 3, 0, 2]\n",
    "l2 = [0,0,1]\n",
    "l3 = [4,2,4,0,0,3,0,5,1,0] \n",
    "\n",
    "def re_order(nums):\n",
    "    for i in range(len(nums)-1):\n",
    "        if nums[i]== 0:\n",
    "            for j in range(i, len(nums)):\n",
    "                if nums[j] != 0:\n",
    "                    break\n",
    "            nums[i], nums[j] = nums[j], nums[i]     \n",
    "    return nums\n",
    "\n",
    "print(l3)\n",
    "print(re_order(l3))"
   ]
  },
  {
   "cell_type": "code",
   "execution_count": 287,
   "metadata": {},
   "outputs": [],
   "source": [
    "# efficient implementation\n",
    "\n",
    "# O(n) time"
   ]
  },
  {
   "cell_type": "code",
   "execution_count": 288,
   "metadata": {},
   "outputs": [
    {
     "name": "stdout",
     "output_type": "stream",
     "text": [
      "[4, 2, 4, 0, 0, 3, 0, 5, 1, 0]\n",
      "[4, 2, 4, 3, 5, 1, 0, 0, 0, 0]\n"
     ]
    }
   ],
   "source": [
    "\n",
    "l1 = [0, 1, 1, 3, 0, 2]\n",
    "l2 = [0,0,1]\n",
    "l3 = [4,2,4,0,0,3,0,5,1,0] \n",
    "\n",
    "def re_order_2(nums):\n",
    "    itr, zero = 0, 0\n",
    "    for itr in range(len(nums)):\n",
    "        if nums[itr] != 0:\n",
    "            nums[itr], nums[zero] = nums[zero], nums[itr]\n",
    "            zero += 1\n",
    "    return nums \n",
    "\n",
    "print(l3)\n",
    "print(re_order_2(l3))"
   ]
  },
  {
   "cell_type": "markdown",
   "metadata": {},
   "source": [
    "## 5)\n",
    "### 344. Reverse String\n",
    "\n",
    "Write a function that reverses a string. The input string is given as an array of characters s."
   ]
  },
  {
   "cell_type": "code",
   "execution_count": 324,
   "metadata": {},
   "outputs": [],
   "source": [
    "# O(n//2)"
   ]
  },
  {
   "cell_type": "code",
   "execution_count": 333,
   "metadata": {},
   "outputs": [
    {
     "name": "stdout",
     "output_type": "stream",
     "text": [
      "['H', 'e', 'l', 'l', 'o']\n",
      "['o', 'l', 'l', 'e', 'H']\n"
     ]
    }
   ],
   "source": [
    "string = ['H', 'e', 'l', 'l', 'o']\n",
    "def reverseString(s):\n",
    "    \"\"\"\n",
    "    :type s: List[str]\n",
    "    :rtype: None Do not return anything, modify s in-place instead.\n",
    "    \"\"\"\n",
    "    l = len(s)\n",
    "    for i in range(l//2):\n",
    "        s[i], s[-i-1] = s[-i-1], s[i]\n",
    "       \n",
    "print(string)\n",
    "reverseString(string)\n",
    "print(string)"
   ]
  },
  {
   "cell_type": "code",
   "execution_count": 334,
   "metadata": {},
   "outputs": [],
   "source": [
    "# slightly faster solution since while loops are faster than for loops in python"
   ]
  },
  {
   "cell_type": "code",
   "execution_count": 335,
   "metadata": {},
   "outputs": [
    {
     "name": "stdout",
     "output_type": "stream",
     "text": [
      "['H', 'e', 'l', 'l', 'o']\n",
      "['o', 'l', 'l', 'e', 'H']\n"
     ]
    }
   ],
   "source": [
    "string = ['H', 'e', 'l', 'l', 'o']\n",
    "def reverseString(s):\n",
    "    \"\"\"\n",
    "    :type s: List[str]\n",
    "    :rtype: None Do not return anything, modify s in-place instead.\n",
    "    \"\"\"\n",
    "    a, b = 0, len(s)-1\n",
    "    while(a<b): \n",
    "        s[a], s[b] = s[b], s[a]\n",
    "        a += 1\n",
    "        b -=1 \n",
    "       \n",
    "print(string)\n",
    "reverseString(string)\n",
    "print(string)"
   ]
  },
  {
   "cell_type": "markdown",
   "metadata": {},
   "source": [
    "## 6)\n",
    "### 121. Best Time to Buy and Sell Stock\n",
    "\n",
    "You are given an array prices where prices[i] is the price of a given stock on the ith day. You want to maximize your profit by choosing a single day to buy one stock and choosing a different day in the future to sell that stock.\n",
    "\n",
    "Return the maximum profit you can achieve from this transaction. If you cannot achieve any profit, return 0"
   ]
  },
  {
   "cell_type": "code",
   "execution_count": 367,
   "metadata": {},
   "outputs": [],
   "source": [
    "#Input: prices = [7,1,5,3,6,4]\n",
    "#Output: 5\n",
    "\n",
    "# naive solution:\n",
    "# get the min, get item with the max difference from the min \n",
    "# O(n**2)"
   ]
  },
  {
   "cell_type": "code",
   "execution_count": 392,
   "metadata": {},
   "outputs": [
    {
     "data": {
      "text/plain": [
       "5"
      ]
     },
     "execution_count": 392,
     "metadata": {},
     "output_type": "execute_result"
    }
   ],
   "source": [
    "prices = [7,1,5,3,6,4]\n",
    "\n",
    "def maxProfit(prices):\n",
    "    \"\"\"\n",
    "    :type prices: List[int]\n",
    "    :rtype: int\n",
    "    \"\"\"\n",
    "    i, j = 0,1\n",
    "    end = len(prices)\n",
    "    maxi = 0\n",
    "    while(i<end):\n",
    "        while(j<end):\n",
    "            diff = prices[j] - prices[i]\n",
    "            if diff>maxi:\n",
    "                maxi = diff\n",
    "            j+=1\n",
    "        i+=1\n",
    "        j=i\n",
    "    return maxi\n",
    "\n",
    "maxProfit(prices)"
   ]
  },
  {
   "cell_type": "code",
   "execution_count": null,
   "metadata": {},
   "outputs": [],
   "source": [
    "# efficient solution:\n",
    "# do a loop, get max difference with min so far \n",
    "\n",
    "#O(n) time"
   ]
  },
  {
   "cell_type": "code",
   "execution_count": 393,
   "metadata": {},
   "outputs": [
    {
     "data": {
      "text/plain": [
       "5"
      ]
     },
     "execution_count": 393,
     "metadata": {},
     "output_type": "execute_result"
    }
   ],
   "source": [
    "def new_maxProfit(prices):\n",
    "    \"\"\"\n",
    "    :type prices: List[int]\n",
    "    :rtype: int\n",
    "    \"\"\"\n",
    "    i, maxi, min_so_far = 0, 0, prices[0]\n",
    "    end = len(prices)\n",
    "    while(i<end):\n",
    "        diff = prices[i] - min_so_far\n",
    "        if min_so_far> prices[i]:\n",
    "            min_so_far = prices[i]\n",
    "        if diff>maxi:\n",
    "            maxi = diff\n",
    "        i+=1\n",
    "\n",
    "    return maxi\n",
    "\n",
    "new_maxProfit(prices)"
   ]
  },
  {
   "cell_type": "code",
   "execution_count": 394,
   "metadata": {},
   "outputs": [
    {
     "name": "stdout",
     "output_type": "stream",
     "text": [
      "2.64 µs ± 64.8 ns per loop (mean ± std. dev. of 7 runs, 100000 loops each)\n",
      "911 ns ± 27.9 ns per loop (mean ± std. dev. of 7 runs, 1000000 loops each)\n"
     ]
    }
   ],
   "source": [
    "%timeit maxProfit(prices)\n",
    "%timeit new_maxProfit(prices)"
   ]
  },
  {
   "cell_type": "code",
   "execution_count": null,
   "metadata": {},
   "outputs": [],
   "source": []
  }
 ],
 "metadata": {
  "kernelspec": {
   "display_name": "Python 3",
   "language": "python",
   "name": "python3"
  },
  "language_info": {
   "codemirror_mode": {
    "name": "ipython",
    "version": 3
   },
   "file_extension": ".py",
   "mimetype": "text/x-python",
   "name": "python",
   "nbconvert_exporter": "python",
   "pygments_lexer": "ipython3",
   "version": "3.8.3"
  }
 },
 "nbformat": 4,
 "nbformat_minor": 4
}
