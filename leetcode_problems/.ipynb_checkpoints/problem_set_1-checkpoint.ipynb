{
 "cells": [
  {
   "cell_type": "markdown",
   "metadata": {},
   "source": [
    "## 1) \n",
    "\n",
    "### 1. Two Sum\n",
    "\n",
    "Given an array of integers nums and an integer target, return indices of the two numbers such that they add up to target.\n",
    "You may assume that each input would have exactly one solution, and you may not use the same element twice. \n",
    "You can return the answer in any order."
   ]
  },
  {
   "cell_type": "code",
   "execution_count": 5,
   "metadata": {},
   "outputs": [],
   "source": [
    "# first attempt"
   ]
  },
  {
   "cell_type": "code",
   "execution_count": 6,
   "metadata": {},
   "outputs": [],
   "source": [
    "class Solution(object):\n",
    "    def twoSum(self, nums, target):\n",
    "        \"\"\"\n",
    "        :type nums: List[int]\n",
    "        :type target: int\n",
    "        :rtype: List[int]\n",
    "        \"\"\"\n",
    "        mapper = {}\n",
    "        aux_mapper = {}\n",
    "        solution = []\n",
    "        found_1 = None\n",
    "        \n",
    "        # first for loop check for same number:\n",
    "        for idx, num in enumerate(nums):\n",
    "            diff = target - num\n",
    "            if num == diff:\n",
    "                try: \n",
    "                    aux_mapper[num]\n",
    "                    solution.append(idx)\n",
    "                    solution.append( aux_mapper[num][0])\n",
    "                except:\n",
    "                    aux_mapper[num] = (idx, diff)\n",
    "                continue\n",
    "            \n",
    "        for idx, num in enumerate(nums):\n",
    "            diff = target - num\n",
    "            if num != diff:\n",
    "                mapper[num] = diff\n",
    "        \n",
    "        for idx, num in enumerate(nums):\n",
    "            diff = target - num\n",
    "            if num != diff:\n",
    "                try:\n",
    "                    mapper[diff]\n",
    "                    solution.append(idx)\n",
    "                except KeyError:\n",
    "                    continue \n",
    "        return solution "
   ]
  },
  {
   "cell_type": "code",
   "execution_count": 7,
   "metadata": {},
   "outputs": [],
   "source": [
    "# improved solution \n",
    "## faster and consumes less memory than first one\n",
    "\n",
    "\n",
    "class Solution(object):\n",
    "    def twoSum(self, nums, target):\n",
    "        \"\"\"\n",
    "        :type nums: List[int]\n",
    "        :type target: int\n",
    "        :rtype: List[int]\n",
    "        \"\"\"\n",
    "        mapper = {}\n",
    "        for i in range(len(nums)):\n",
    "            if nums[i] in mapper:\n",
    "                return [i, mapper[nums[i]]] \n",
    "            else:\n",
    "                mapper[target - nums[i]] = i"
   ]
  },
  {
   "cell_type": "markdown",
   "metadata": {},
   "source": [
    "## 2) \n",
    "\n",
    "### 7. Reverse Integer\n",
    "Given a signed 32-bit integer x, return x with its digits reversed. If reversing x causes the value to go outside the signed 32-bit integer range [-231, 231 - 1], then return 0.\n",
    "Assume the environment does not allow you to store 64-bit integers (signed or unsigned)."
   ]
  },
  {
   "cell_type": "code",
   "execution_count": 121,
   "metadata": {},
   "outputs": [],
   "source": [
    "def reverse(self, x):\n",
    "    if x==0:\n",
    "        return 0\n",
    "\n",
    "    def inner(x): \n",
    "        z = str(x)\n",
    "        if z[0] == '-':\n",
    "            z = z[1:]\n",
    "            yield '-'\n",
    "\n",
    "        first_non_zero = False\n",
    "        for i in range(1, len(z)+1):\n",
    "            if z[-i] == '0' and first_non_zero is False:\n",
    "                continue\n",
    "            else:\n",
    "                first_non_zero = True\n",
    "                yield z[-i]\n",
    "\n",
    "    string = ''.join(inner(x))\n",
    "    if string[0] == '-': \n",
    "        number = string[1:]\n",
    "        number =  -int(number) \n",
    "    else:\n",
    "        number = string\n",
    "        number = int(number)\n",
    "\n",
    "    if not (abs(number) < 2**31 and number != 2**31 - 1):\n",
    "        return 0\n",
    "    else:\n",
    "        return number "
   ]
  },
  {
   "cell_type": "code",
   "execution_count": null,
   "metadata": {},
   "outputs": [],
   "source": []
  }
 ],
 "metadata": {
  "kernelspec": {
   "display_name": "Python 3",
   "language": "python",
   "name": "python3"
  },
  "language_info": {
   "codemirror_mode": {
    "name": "ipython",
    "version": 3
   },
   "file_extension": ".py",
   "mimetype": "text/x-python",
   "name": "python",
   "nbconvert_exporter": "python",
   "pygments_lexer": "ipython3",
   "version": "3.8.3"
  }
 },
 "nbformat": 4,
 "nbformat_minor": 4
}
