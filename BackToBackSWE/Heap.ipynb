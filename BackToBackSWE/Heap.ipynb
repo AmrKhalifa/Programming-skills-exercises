{
 "cells": [
  {
   "cell_type": "markdown",
   "metadata": {},
   "source": [
    "# Heap problems"
   ]
  },
  {
   "cell_type": "markdown",
   "metadata": {},
   "source": [
    "###\n",
    " - Construction from normal array (heapify). \n",
    " - get max (or min).\n",
    " - add. \n",
    " - remove."
   ]
  },
  {
   "cell_type": "code",
   "execution_count": 503,
   "metadata": {},
   "outputs": [],
   "source": [
    "class Heap:\n",
    "    def __init__(self, items=None):\n",
    "        if items is None:\n",
    "            self._min_heap = []\n",
    "            self._max_heap = []\n",
    "        else:\n",
    "            self._min_heap = list(items)\n",
    "            self._max_heap = list(items)\n",
    "            self._heapify() # builds _min_heap and _max_heap\n",
    "        \n",
    "    def get_min(self):\n",
    "        return self._min_heap[0]\n",
    "                \n",
    "    def get_max(self):\n",
    "        return self._max_heap[0]\n",
    "    \n",
    "    def _parent(self, i):\n",
    "        return (i-1)//2\n",
    "    \n",
    "    def _left(self, i):\n",
    "        return 2*i +1\n",
    "    \n",
    "    def _right(self, i):\n",
    "        return 2*i +2\n",
    "    \n",
    "    def _bubble_up(self, min_heap=True, i=0):\n",
    "        if i == 0:\n",
    "            return\n",
    "        else:\n",
    "            if min_heap:\n",
    "                value = self._min_heap[i]\n",
    "                parent = self._parent(i)\n",
    "                parent_value = self._min_heap[parent]\n",
    "                if value < parent_value:\n",
    "                    self._swap(self._min_heap, i, parent)\n",
    "                    self._bubble_up(min_heap=True, i=parent)\n",
    "            else:\n",
    "                value = self._max_heap[i]\n",
    "                parent = self._parent(i)\n",
    "                parent_value = self._max_heap[parent]\n",
    "                if value > parent_value:\n",
    "                    self._swap(self._max_heap, i, parent)\n",
    "                    self._bubble_up(min_heap=False, i=parent)\n",
    "            \n",
    "    def _bubble_down(self, min_heap=True, i=0):\n",
    "        if min_heap:\n",
    "            value = self._min_heap[i]\n",
    "            left = self._left(i)\n",
    "            right = self._right(i)\n",
    "            if left > len(self._min_heap)-1:\n",
    "                return\n",
    "            left_value = self._min_heap[left]\n",
    "            if left == len(self._min_heap)-1:\n",
    "                if value > left_value: \n",
    "                    self._swap(self._min_heap, i, left)\n",
    "                return \n",
    "            else:\n",
    "                right_value = self._min_heap[right]\n",
    "                if left_value < right_value:\n",
    "                    smaller = left\n",
    "                else: \n",
    "                    smaller = right\n",
    "                if value > self._min_heap[smaller]:\n",
    "                    self._swap(self._min_heap, i, smaller)\n",
    "                    self._bubble_down(min_heap=True, i=smaller)\n",
    "                else:\n",
    "                    return\n",
    "        else:\n",
    "            value = self._max_heap[i]\n",
    "            left = self._left(i)\n",
    "            right = self._right(i)\n",
    "            if left > len(self._max_heap)-1:\n",
    "                return\n",
    "            left_value = self._max_heap[left]\n",
    "            if left == len(self._max_heap)-1:\n",
    "                if value < left_value: \n",
    "                    self._swap(self._max_heap, i, left)\n",
    "                return \n",
    "            else:\n",
    "                right_value = self._max_heap[right]\n",
    "                if left_value > right_value:\n",
    "                    greater = left\n",
    "                else: \n",
    "                    greater = right\n",
    "                if value < self._max_heap[greater]:\n",
    "                    self._swap(self._max_heap, i, greater)\n",
    "                    self._bubble_down(min_heap=False, i=greater)\n",
    "                else:\n",
    "                    return\n",
    "    \n",
    "    def _swap(self, heap, i, j):\n",
    "        heap[i], heap[j] = heap[j], heap[i]\n",
    "    \n",
    "    def insert_in_min(self, value):\n",
    "        self._min_heap.append(value)\n",
    "        self._bubble_up(min_heap=True, i = len(self._min_heap)-1)\n",
    "    \n",
    "    def insert_in_max(self, value): \n",
    "        self._max_heap.append(value)\n",
    "        self._bubble_up(min_heap=False, i = len(self._max_heap)-1)\n",
    "        \n",
    "    def remove_min(self):\n",
    "        if len(self._min_heap) == 0:\n",
    "            return None\n",
    "        if len(self._min_heap) == 1:\n",
    "            return self._min_heap.pop()\n",
    "        \n",
    "        self._swap(self._min_heap, 0, -1)\n",
    "        value = self._min_heap.pop()\n",
    "        self._bubble_down(min_heap=True, i=0) \n",
    "        return value\n",
    "    \n",
    "    def remove_max(self):\n",
    "        if len(self._max_heap) == 0:\n",
    "            return None\n",
    "        if len(self._max_heap) == 1:\n",
    "            return self._max_heap.pop()\n",
    "        \n",
    "        self._swap(self._max_heap, 0, -1)\n",
    "        value = self._max_heap.pop()\n",
    "        self._bubble_down(min_heap=False, i=0)\n",
    "        return value\n",
    "    \n",
    "    def get_min_heap_size(self):\n",
    "        return len(self._min_heap)\n",
    "    \n",
    "    def get_max_heap_size(self):\n",
    "        return len(self._max_heap)\n",
    "    \n",
    "    def _heapify(self):\n",
    "        first_parent = self._parent(len(self._min_heap))\n",
    "        for i in range(first_parent, -1, -1):\n",
    "            self._bubble_down(min_heap=True, i=i)\n",
    "        \n",
    "        first_parent = self._parent(len(self._max_heap))\n",
    "        for i in range(first_parent, -1, -1):\n",
    "            self._bubble_down(min_heap=False, i=i)\n",
    "        "
   ]
  },
  {
   "cell_type": "code",
   "execution_count": 504,
   "metadata": {},
   "outputs": [
    {
     "name": "stdout",
     "output_type": "stream",
     "text": [
      "[1, 5, 3, 8, 17, 7, 6, 22, 12, 34]\n",
      "[34, 22, 7, 12, 17, 3, 6, 5, 8, 1]\n"
     ]
    }
   ],
   "source": [
    "new_heap = Heap([8, 17, 3, 22, 1, 7, 6, 5, 12, 34])\n",
    "\n",
    "print(new_heap._min_heap)\n",
    "print(new_heap._max_heap)"
   ]
  },
  {
   "cell_type": "code",
   "execution_count": 505,
   "metadata": {},
   "outputs": [
    {
     "name": "stdout",
     "output_type": "stream",
     "text": [
      "[5, 6, 7, 17, 12, 15, 10]\n",
      "5\n",
      "[6, 10, 7, 17, 12, 15]\n",
      "6\n",
      "[7, 10, 15, 17, 12]\n"
     ]
    }
   ],
   "source": [
    "heap = Heap()\n",
    "heap.insert_in_min(5)\n",
    "heap.insert_in_min(17)\n",
    "heap.insert_in_min(7)\n",
    "heap.insert_in_min(12)\n",
    "heap.insert_in_min(6)\n",
    "heap.insert_in_min(15)\n",
    "heap.insert_in_min(10)\n",
    "print(heap._min_heap)\n",
    "print(heap.remove_min())\n",
    "print(heap._min_heap)\n",
    "\n",
    "print(heap.remove_min())\n",
    "print(heap._min_heap)"
   ]
  },
  {
   "cell_type": "code",
   "execution_count": 506,
   "metadata": {},
   "outputs": [
    {
     "name": "stdout",
     "output_type": "stream",
     "text": [
      "[17, 12, 15, 5, 6, 7, 10]\n",
      "17\n",
      "[15, 12, 10, 5, 6, 7]\n",
      "15\n",
      "[12, 7, 10, 5, 6]\n"
     ]
    }
   ],
   "source": [
    "heap.insert_in_max(5)\n",
    "heap.insert_in_max(17)\n",
    "heap.insert_in_max(7)\n",
    "heap.insert_in_max(12)\n",
    "heap.insert_in_max(6)\n",
    "heap.insert_in_max(15)\n",
    "heap.insert_in_max(10)\n",
    "\n",
    "print(heap._max_heap)\n",
    "print(heap.remove_max())\n",
    "print(heap._max_heap)\n",
    "\n",
    "print(heap.remove_max())\n",
    "print(heap._max_heap)"
   ]
  },
  {
   "cell_type": "markdown",
   "metadata": {},
   "source": [
    "## 1) K Smallest Elements In An Array\n",
    "\n",
    "Given an integer array, return the K smallest integers in the array. \n",
    "\n",
    "***Constraints***\n",
    "\n",
    "- You may assume k is always valid, 1 ≤ k ≤ array's length.\n"
   ]
  },
  {
   "cell_type": "code",
   "execution_count": 513,
   "metadata": {},
   "outputs": [],
   "source": [
    "k = 2\n",
    "array = [50.01, -2.3, 3, 1, -2, 5, 7, -50]"
   ]
  },
  {
   "cell_type": "code",
   "execution_count": 514,
   "metadata": {},
   "outputs": [],
   "source": [
    "def get_k_smallest(arr, k):\n",
    "    smallest = Heap()\n",
    "    for item in arr:\n",
    "        smallest.insert_in_max(item)\n",
    "        if smallest.get_max_heap_size() > k:\n",
    "            smallest.remove_max()\n",
    "    solution = [smallest.remove_max() for i in range(k)]\n",
    "    return solution"
   ]
  },
  {
   "cell_type": "code",
   "execution_count": 515,
   "metadata": {},
   "outputs": [
    {
     "data": {
      "text/plain": [
       "[-2.3, -50]"
      ]
     },
     "execution_count": 515,
     "metadata": {},
     "output_type": "execute_result"
    }
   ],
   "source": [
    "get_k_smallest(array, k)"
   ]
  },
  {
   "cell_type": "code",
   "execution_count": null,
   "metadata": {},
   "outputs": [],
   "source": []
  },
  {
   "cell_type": "markdown",
   "metadata": {},
   "source": [
    "### 3) Compute The Median of Online Data\n",
    "\n",
    "We get an introduction to online algorithms and how to design abstractions that support a desired api efficiently.\n",
    "\n",
    "\n",
    "In this problem, you are provided with an input each time you output an answer.  You are expected to provide a new answer after each input.  If the answer is incorrect at any time, the, the sequence terminates.  The algorithms only progresses if the answer/output is correct.\n",
    "\n",
    "\n",
    "***Note:*** \n",
    "- output to 1 decimal point \n",
    "\n",
    "    e.g. 17 = 17.0"
   ]
  },
  {
   "cell_type": "code",
   "execution_count": 547,
   "metadata": {},
   "outputs": [],
   "source": [
    "def get_running_median(numbers):\n",
    "    mins_heap = Heap() # max heap\n",
    "    maxs_heap = Heap() # min heap\n",
    "    solution = []\n",
    "    for i, number in enumerate(numbers):\n",
    "        if i == 0:\n",
    "            mins_heap.insert_in_max(number)\n",
    "            solution.append(number)\n",
    "        elif i ==1:\n",
    "            if number > mins_heap.get_max():\n",
    "                maxs_heap.insert_in_min(number)\n",
    "                solution.append((number+ mins_heap.get_max())/2)\n",
    "            else:\n",
    "                maxs_heap.insert_in_min(mins_heap.remove_max())\n",
    "                mins_heap.insert_in_max(number)\n",
    "                solution.append((mins_heap.get_max() + maxs_heap.get_min())/2)\n",
    "        else:\n",
    "            if number >= maxs_heap.get_min():\n",
    "                maxs_heap.insert_in_min(number)\n",
    "            elif number < mins_heap.get_max():\n",
    "                mins_heap.insert_in_max(number)\n",
    "            elif number < maxs_heap.get_min() and number > mins_heap.get_max():\n",
    "                 maxs_heap.insert_in_min(number)\n",
    "                    \n",
    "            mx_size = maxs_heap.get_min_heap_size()\n",
    "            mn_size = mins_heap.get_max_heap_size()\n",
    "            \n",
    "            if mx_size > mn_size +1 :\n",
    "                mins_heap.insert_in_max(maxs_heap.remove_min())\n",
    "            elif mn_size > mx_size +1:\n",
    "                maxs_heap.insert_in_min(mins_heap.remove_max())\n",
    "            \n",
    "            if mx_size == mn_size + 1:\n",
    "                median = maxs_heap.get_min()\n",
    "            elif mn_size == mx_size +1:\n",
    "                median = mins_heap.get_max()\n",
    "            else:\n",
    "                median = (maxs_heap.get_min() + mins_heap.get_max())/2\n",
    "                \n",
    "            solution.append(median)\n",
    "            \n",
    "    return solution\n",
    "            "
   ]
  },
  {
   "cell_type": "code",
   "execution_count": 551,
   "metadata": {},
   "outputs": [
    {
     "name": "stdout",
     "output_type": "stream",
     "text": [
      "[2, 1.5, 2, 2.5, 2]\n",
      "[14, 10.0, 14, 22.0]\n",
      "[5, 3.5, 3]\n",
      "[-100, 0.0, 10]\n"
     ]
    }
   ],
   "source": [
    "print(get_running_median([2,1, 3, 22, -22]))\n",
    "print(get_running_median([14,6,30,35]))\n",
    "print(get_running_median([5,2,3]))\n",
    "print(get_running_median([-100,100,10]))"
   ]
  },
  {
   "cell_type": "code",
   "execution_count": null,
   "metadata": {},
   "outputs": [],
   "source": []
  }
 ],
 "metadata": {
  "kernelspec": {
   "display_name": "Python 3",
   "language": "python",
   "name": "python3"
  },
  "language_info": {
   "codemirror_mode": {
    "name": "ipython",
    "version": 3
   },
   "file_extension": ".py",
   "mimetype": "text/x-python",
   "name": "python",
   "nbconvert_exporter": "python",
   "pygments_lexer": "ipython3",
   "version": "3.8.3"
  }
 },
 "nbformat": 4,
 "nbformat_minor": 4
}
