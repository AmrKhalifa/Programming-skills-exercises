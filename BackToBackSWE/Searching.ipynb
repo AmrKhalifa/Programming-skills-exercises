{
 "cells": [
  {
   "cell_type": "markdown",
   "metadata": {},
   "source": [
    "### Searching Problems"
   ]
  },
  {
   "cell_type": "markdown",
   "metadata": {},
   "source": [
    "### 1) Intersection of 2 Sorted Arrays\n",
    "\n",
    "Given two sorted arrays, return a new array that represents their intersection. \n",
    "***Constraints***\n",
    "\n",
    "- Each element in the result must be unique.\n"
   ]
  },
  {
   "cell_type": "code",
   "execution_count": 1,
   "metadata": {},
   "outputs": [],
   "source": [
    "a1 = [1,2,2,3]\n",
    "a2 = [1,1,4]\n",
    "\n",
    "a3 = [1,2,3,5] \n",
    "a4 =[1,2] "
   ]
  },
  {
   "cell_type": "code",
   "execution_count": 2,
   "metadata": {},
   "outputs": [],
   "source": [
    "def set_get_intersection(arr1, arr2):\n",
    "    m = len(arr1)\n",
    "    n = len(arr2)\n",
    "    \n",
    "    (smaller, bigger) = (arr1, arr2) if m<n else (arr2, arr1)\n",
    "    solution = set()\n",
    "    seen = {item:True for item in smaller}\n",
    "    \n",
    "    for number in bigger:\n",
    "        if number in seen:\n",
    "            solution.add(number)\n",
    "    \n",
    "    return list(solution)"
   ]
  },
  {
   "cell_type": "code",
   "execution_count": 3,
   "metadata": {},
   "outputs": [
    {
     "name": "stdout",
     "output_type": "stream",
     "text": [
      "[1]\n",
      "[1, 2]\n"
     ]
    }
   ],
   "source": [
    "print(set_get_intersection(a1, a2))\n",
    "print(set_get_intersection(a3, a4))"
   ]
  },
  {
   "cell_type": "code",
   "execution_count": 6,
   "metadata": {},
   "outputs": [],
   "source": [
    "def two_pointer_get_intersection(arr1, arr2):\n",
    "    ptr_1 = 0\n",
    "    ptr_2 = 0\n",
    "    sol = set()\n",
    "    n = len(arr1)\n",
    "    m = len(arr2)\n",
    "    while(ptr_1<n and ptr_2<m):\n",
    "        if arr1[ptr_1] == arr2[ptr_2]:\n",
    "            sol.add(arr1[ptr_1])\n",
    "            ptr_1 += 1\n",
    "            ptr_2 += 1\n",
    "        elif arr1[ptr_1] > arr2[ptr_2]:\n",
    "            ptr_2 +=1 \n",
    "        else:\n",
    "            ptr_1 +=1\n",
    "    return list(sol)"
   ]
  },
  {
   "cell_type": "code",
   "execution_count": 7,
   "metadata": {},
   "outputs": [
    {
     "name": "stdout",
     "output_type": "stream",
     "text": [
      "[1]\n",
      "[1, 2]\n"
     ]
    }
   ],
   "source": [
    "print(set_get_intersection(a1, a2))\n",
    "print(set_get_intersection(a3, a4))"
   ]
  },
  {
   "cell_type": "code",
   "execution_count": null,
   "metadata": {},
   "outputs": [],
   "source": []
  },
  {
   "cell_type": "markdown",
   "metadata": {},
   "source": [
    "### 2) Minimum Item In A Rotated Sorted Array\n",
    "\n",
    "Given a rotated sorted array, find the minimum element.\n",
    "\n",
    "A \"rotated\" array is an array that has had each item shifted to the left or right by k units (where k is a positive integer) while maintaining positional integrity of every element in the original array.\n",
    "\n",
    "***Constraints:***\n",
    "\n",
    "- arr[i] >= 0\n",
    "- All Elements in the array are unique"
   ]
  },
  {
   "cell_type": "code",
   "execution_count": 8,
   "metadata": {},
   "outputs": [],
   "source": [
    "a = [9, 12, 15, 17, 25, 28, 32, 37, 3, 5, 7, 8]\n",
    "a2 = [55, 88, 91, 93, 2, 9, 20]\n",
    "a3 = []\n",
    "a4 = [1]\n",
    "a5 = [1,2,3,5,0]"
   ]
  },
  {
   "cell_type": "code",
   "execution_count": 9,
   "metadata": {},
   "outputs": [],
   "source": [
    "def find_min(arr):\n",
    "    left=0\n",
    "    right=len(arr)-1\n",
    "    if len(arr)==0:\n",
    "        return -1\n",
    "    while(left<right):\n",
    "        mid = left +(right-left)//2\n",
    "        if arr[mid] > arr[right]:\n",
    "            left = mid+1\n",
    "        else:\n",
    "            right = mid\n",
    "    \n",
    "    return arr[left]"
   ]
  },
  {
   "cell_type": "code",
   "execution_count": 10,
   "metadata": {},
   "outputs": [
    {
     "name": "stdout",
     "output_type": "stream",
     "text": [
      "3\n",
      "2\n",
      "-1\n",
      "1\n",
      "0\n"
     ]
    }
   ],
   "source": [
    "print(find_min(a))\n",
    "print(find_min(a2))\n",
    "print(find_min(a3))\n",
    "print(find_min(a4))\n",
    "print(find_min(a5))"
   ]
  },
  {
   "cell_type": "code",
   "execution_count": null,
   "metadata": {},
   "outputs": [],
   "source": []
  },
  {
   "cell_type": "markdown",
   "metadata": {},
   "source": [
    "### 3) Search A 2D Sorted Matrix (variant-1)\n",
    "\n",
    "Given a 2D matrix (which is m x n) find the given element with value value. If the matrix contains the value return true, otherwise return false.\n",
    "\n",
    "\n",
    "***Constraints:***\n",
    "- arr[i] >= 0\n",
    "- All elements of the matrix are unique"
   ]
  },
  {
   "cell_type": "code",
   "execution_count": 11,
   "metadata": {},
   "outputs": [],
   "source": [
    "def one_d_binary_search(n, array):\n",
    "    left, right = 0, len(array)-1\n",
    "    while(left<right):\n",
    "        mid = left + (right-left)//2\n",
    "        if array[mid]<n:\n",
    "            left = mid+1\n",
    "        else:\n",
    "            right = mid\n",
    "            \n",
    "    return True if array[left]==n else False"
   ]
  },
  {
   "cell_type": "code",
   "execution_count": 12,
   "metadata": {},
   "outputs": [
    {
     "data": {
      "text/plain": [
       "True"
      ]
     },
     "execution_count": 12,
     "metadata": {},
     "output_type": "execute_result"
    }
   ],
   "source": [
    "arr = list(range(8))\n",
    "n = 7\n",
    "\n",
    "one_d_binary_search(7, arr)"
   ]
  },
  {
   "cell_type": "code",
   "execution_count": 13,
   "metadata": {},
   "outputs": [],
   "source": [
    "value = 7\n",
    "arr2 = [\n",
    "  [1, 4, 7, 11],\n",
    "  [8, 9, 10, 20],\n",
    "  [11, 12, 17, 30],\n",
    "]"
   ]
  },
  {
   "cell_type": "code",
   "execution_count": 14,
   "metadata": {},
   "outputs": [],
   "source": [
    "def find_value(arr, target):\n",
    "    rows, cols = len(arr), len(arr[0])\n",
    "    r, c = rows-1, 0\n",
    "    while(r>=0 and c<=cols-1):\n",
    "        if arr[r][c] == target:\n",
    "            return True\n",
    "        elif arr[r][c] < target:\n",
    "            c += 1\n",
    "        elif arr[r][c] > target:\n",
    "            r -= 1\n",
    "    return False\n",
    "                "
   ]
  },
  {
   "cell_type": "code",
   "execution_count": 15,
   "metadata": {},
   "outputs": [
    {
     "data": {
      "text/plain": [
       "False"
      ]
     },
     "execution_count": 15,
     "metadata": {},
     "output_type": "execute_result"
    }
   ],
   "source": [
    "find_value(arr2, 25)"
   ]
  },
  {
   "cell_type": "markdown",
   "metadata": {},
   "source": [
    "### 4) Search A 2D Sorted Matrix (Variant-2)\n",
    "Given a 2D matrix (which is m x n) find the given element with value value. If the matrix contains the value return true, otherwise return false.\n",
    "\n",
    "***Note:***\n",
    "\n",
    "In this variant, all values in the matrix are increasing in row-major order.\n",
    "\n",
    "**This means that:**\n",
    "- Each row is sorted\n",
    "- The last element in row i is <= the first element in row i+1\n",
    "- By virtue of the previous two properties, the columns are sorted\n"
   ]
  },
  {
   "cell_type": "code",
   "execution_count": 16,
   "metadata": {},
   "outputs": [],
   "source": [
    "def search_2d_sorted(n, array):\n",
    "    rows = len(arr)\n",
    "    cols = len(arr[0])\n",
    "    left, right =0, (rows*cols)-1\n",
    "    \n",
    "    def _get_r_c(idx):\n",
    "        return idx//cols, idx%cols\n",
    "    \n",
    "    while(left<right):\n",
    "        mid = left + (right - left)//2\n",
    "        mid_r, mid_c = _get_r_c(mid)\n",
    "        if array[mid_r][mid_c]<n:\n",
    "            left = mid+1\n",
    "        else:\n",
    "            right = mid\n",
    "        \n",
    "    left_r, left_c = _get_r_c(left)\n",
    "    return True if array[left_r][left_c] == n else False"
   ]
  },
  {
   "cell_type": "code",
   "execution_count": 17,
   "metadata": {},
   "outputs": [],
   "source": [
    "value = 21\n",
    "arr = [[0,1,2,3],[4,5,6,7],[8,9,10,11]]\n"
   ]
  },
  {
   "cell_type": "code",
   "execution_count": 18,
   "metadata": {},
   "outputs": [
    {
     "data": {
      "text/plain": [
       "True"
      ]
     },
     "execution_count": 18,
     "metadata": {},
     "output_type": "execute_result"
    }
   ],
   "source": [
    "search_2d_sorted(11, arr)"
   ]
  },
  {
   "cell_type": "code",
   "execution_count": null,
   "metadata": {},
   "outputs": [],
   "source": []
  },
  {
   "cell_type": "code",
   "execution_count": null,
   "metadata": {},
   "outputs": [],
   "source": []
  },
  {
   "cell_type": "code",
   "execution_count": null,
   "metadata": {},
   "outputs": [],
   "source": []
  }
 ],
 "metadata": {
  "kernelspec": {
   "display_name": "Python 3",
   "language": "python",
   "name": "python3"
  },
  "language_info": {
   "codemirror_mode": {
    "name": "ipython",
    "version": 3
   },
   "file_extension": ".py",
   "mimetype": "text/x-python",
   "name": "python",
   "nbconvert_exporter": "python",
   "pygments_lexer": "ipython3",
   "version": "3.8.3"
  }
 },
 "nbformat": 4,
 "nbformat_minor": 4
}
