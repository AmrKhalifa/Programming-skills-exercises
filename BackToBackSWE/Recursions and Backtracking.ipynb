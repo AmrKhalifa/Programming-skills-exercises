{
 "cells": [
  {
   "cell_type": "markdown",
   "metadata": {},
   "source": [
    "## Recursions and backtracking problems"
   ]
  },
  {
   "cell_type": "markdown",
   "metadata": {},
   "source": [
    "#### 1) Find the closest pair of points in a 2D-plane"
   ]
  },
  {
   "cell_type": "code",
   "execution_count": 1,
   "metadata": {},
   "outputs": [],
   "source": [
    "def dist(a, b):\n",
    "    return (((a[0]-b[0])**2) +((a[1]-b[1])**2))**0.5"
   ]
  },
  {
   "cell_type": "code",
   "execution_count": 2,
   "metadata": {},
   "outputs": [],
   "source": [
    "def closest_brute_force(points):\n",
    "    min_dist = float(\"inf\")\n",
    "    p1 = None\n",
    "    p2 = None\n",
    "    for i in range(len(points)):\n",
    "        for j in range(i+1, len(points)):\n",
    "            d = dist(points[i], points[j])\n",
    "            if d < min_dist:\n",
    "                min_dist = d\n",
    "                p1 = points[i]\n",
    "                p2 = points[j]\n",
    "    return p1, p2, min_dist"
   ]
  },
  {
   "cell_type": "code",
   "execution_count": 3,
   "metadata": {},
   "outputs": [],
   "source": [
    "def closest(points):\n",
    "    x_sorted = sorted(points, key=lambda point: point[0])\n",
    "    y_sorted = sorted(points, key=lambda point: point[1])\n",
    "    \n",
    "    def _recursive_find(x, y):\n",
    "        n = len(x)\n",
    "        if n<=3:\n",
    "            return closest_brute_force(x) # base case --> constant time. \n",
    "        else:\n",
    "            midpoint = x[n//2]\n",
    "            x_left = x[:n//2]\n",
    "            x_right = x[n//2:]\n",
    "            y_left = []\n",
    "            y_right = []\n",
    "            for point in y: # send left points and right points to their y_left, y_right lists\n",
    "                y_left.append(point) if (point[0]<=midpoint[0]) else y_left.append(point)\n",
    "                \n",
    "            (p1_left, p2_left, d_l) = _recursive_find(x_left, y_left) # search in left half --> T(n/2)\n",
    "            (p1_right, p2_right, d_r) = _recursive_find(x_right, y_right) # search in right half --> T(n/2)\n",
    "            \n",
    "            (p1, p2, d) = (p1_left, p2_left, d_l) if (d_l<d_r) else (p1_right, p2_right, d_r)\n",
    "            \n",
    "            # for (a, b) in left and right --> need to search in [-d, d] window around midpoint\n",
    "            # reducing search space in x direction \n",
    "            reduced_in_x = [point for point in y if midpoint[0] - d < point[0] < midpoint[0]+d]\n",
    "            \n",
    "            for i in range(len(reduced_in_x)): # search for every point --> O(n)\n",
    "                # reducing search space in y direction --> need to search only in next 7 points (proof..)\n",
    "                for j in range(i+1, min(i+7, len(reduced_in_x))): # constant time --> O(1) step\n",
    "                    d_new = dist(reduced_in_x[i], reduced_in_x[j])\n",
    "                    if d_new < d:\n",
    "                        (p1, p2, d) = (reduced_in_x[i], reduced_in_x[j], d_new)\n",
    "        return p1, p2, d\n",
    "    \n",
    "    return _recursive_find(x_sorted, y_sorted)"
   ]
  },
  {
   "cell_type": "code",
   "execution_count": 4,
   "metadata": {},
   "outputs": [],
   "source": [
    "test_points = [(2,3), (12, 30), (40, 50), (5,1), (12,10), (3,4)]"
   ]
  },
  {
   "cell_type": "code",
   "execution_count": 5,
   "metadata": {},
   "outputs": [
    {
     "name": "stdout",
     "output_type": "stream",
     "text": [
      "((2, 3), (3, 4), 1.4142135623730951)\n"
     ]
    }
   ],
   "source": [
    "print(closest(test_points))"
   ]
  },
  {
   "cell_type": "code",
   "execution_count": null,
   "metadata": {},
   "outputs": [],
   "source": []
  },
  {
   "cell_type": "markdown",
   "metadata": {},
   "source": [
    "#### 2)  Phone Number Mnemonics\n",
    "Given a string digits representing a phone number, return all possible character arrangements that can result from the number.\n",
    "\n",
    "A numbered telephone keypad looks like so:\n",
    "- 2 -> \"a\" || \"b\" || \"c\"\n",
    "- 3 -> \"d\" || \"e\" || \"f\"\n",
    "- 4 -> \"g\" || \"h\" || \"i\"\n",
    "- 5 -> \"j\" || \"k\" || \"l\"\n",
    "- 6 -> \"m\" || \"n\" || \"o\"\n",
    "- 7 -> \"p\" || \"q\" || \"r\" || \"s\"\n",
    "- 8 -> \"t\" || \"u\" || \"v\"\n",
    "- 9 -> \"w\" || \"x\" || \"y\" || \"z\"\n",
    "\n",
    "***Constraints:***\n",
    "* s will only digits between 2 and 9. \n",
    "* 2 <= n <= 10 (constraint on length of string). "
   ]
  },
  {
   "cell_type": "code",
   "execution_count": 6,
   "metadata": {},
   "outputs": [],
   "source": [
    "def get_arrangements(digits):\n",
    "    solution = []\n",
    "    digit2chars = {'2':'abc', '3':'def', '4':'ghi', '5':'jkl', '6':'mno', '7':'pqrs', '8':'tuv', '9':'wxyz'}\n",
    "    def _recursive_build(current_str, remaining_digits):\n",
    "        if len(remaining_digits) == 0:\n",
    "            solution.append(current_str)\n",
    "            return \n",
    "        for char in digit2chars[remaining_digits[0]]:\n",
    "            _recursive_build(current_str+char, remaining_digits[1:])\n",
    "    _recursive_build(current_str='', remaining_digits=digits)\n",
    "    return solution"
   ]
  },
  {
   "cell_type": "code",
   "execution_count": 7,
   "metadata": {},
   "outputs": [
    {
     "name": "stdout",
     "output_type": "stream",
     "text": [
      "['gd', 'ge', 'gf', 'hd', 'he', 'hf', 'id', 'ie', 'if']\n"
     ]
    }
   ],
   "source": [
    "Input =  \"43\"\n",
    "Output =  [\"gd\",\"ge\",\"gf\",\"hd\",\"he\",\"hf\",\"id\",\"ie\",\"if\"]\n",
    "\n",
    "print(get_arrangements(Input))"
   ]
  },
  {
   "cell_type": "code",
   "execution_count": null,
   "metadata": {},
   "outputs": [],
   "source": []
  },
  {
   "cell_type": "markdown",
   "metadata": {},
   "source": [
    "#### 3) IP Address Restoration\n",
    "\n",
    "Given a \"raw\" ip address string s, return all \"restored\" ip address strings that can be recovered from s.\n",
    "\n",
    "A \"raw\" ip address string is a string of digits that can have . marks inserted to create a valid ip address.\n",
    "\n",
    "***Constraints:*** \n",
    "- The raw ip string will only have digits 1 to 9\n",
    "- 4 <= n <= 12\n"
   ]
  },
  {
   "cell_type": "code",
   "execution_count": 8,
   "metadata": {},
   "outputs": [],
   "source": [
    "ip = '255.255.255.255'\n",
    "org = '255255255255'"
   ]
  },
  {
   "cell_type": "code",
   "execution_count": 9,
   "metadata": {},
   "outputs": [
    {
     "data": {
      "text/plain": [
       "['255', '255', '255', '255']"
      ]
     },
     "execution_count": 9,
     "metadata": {},
     "output_type": "execute_result"
    }
   ],
   "source": [
    "ip.split(\".\")"
   ]
  },
  {
   "cell_type": "code",
   "execution_count": 10,
   "metadata": {},
   "outputs": [],
   "source": [
    "def is_valid(ip, original):\n",
    "    splitted = ip.split(\".\")\n",
    "    for section in splitted:\n",
    "        if len(section) >3:\n",
    "            return False\n",
    "        if len(section) < 1:\n",
    "            return False \n",
    "        if int(section)>255:\n",
    "            return False\n",
    "    combined = ''.join([section for section in splitted])\n",
    "    if combined != original:\n",
    "        return False \n",
    "    return True "
   ]
  },
  {
   "cell_type": "code",
   "execution_count": 11,
   "metadata": {},
   "outputs": [
    {
     "data": {
      "text/plain": [
       "True"
      ]
     },
     "execution_count": 11,
     "metadata": {},
     "output_type": "execute_result"
    }
   ],
   "source": [
    "is_valid(ip, org)"
   ]
  },
  {
   "cell_type": "code",
   "execution_count": 12,
   "metadata": {},
   "outputs": [],
   "source": [
    "def split_at_idx(string, idx):\n",
    "    try:\n",
    "        a = string[0:idx]\n",
    "    except:\n",
    "        a = ''\n",
    "    try: \n",
    "        b = string[idx:]\n",
    "    except:\n",
    "        b = ''\n",
    "    return a, b"
   ]
  },
  {
   "cell_type": "code",
   "execution_count": 13,
   "metadata": {},
   "outputs": [],
   "source": [
    "def restore_ip_address(ip_address):\n",
    "    solution = set()\n",
    "    def _recursive_build(processed, remaining, depth):\n",
    "        if depth == 4:\n",
    "            if is_valid(processed[1:], ip_address):\n",
    "                solution.add(processed[1:])\n",
    "            return\n",
    "        _recursive_build(processed+'.'+ split_at_idx(remaining, 1)[0], split_at_idx(remaining, 1)[1],depth+1)\n",
    "        _recursive_build(processed+'.'+ split_at_idx(remaining, 2)[0], split_at_idx(remaining, 2)[1],depth+1)\n",
    "        _recursive_build(processed+'.'+ split_at_idx(remaining, 3)[0], split_at_idx(remaining, 3)[1],depth+1)\n",
    "    \n",
    "    _recursive_build('', ip_address, 0)\n",
    "    return [item for item in solution]"
   ]
  },
  {
   "cell_type": "code",
   "execution_count": 14,
   "metadata": {},
   "outputs": [
    {
     "data": {
      "text/plain": [
       "['255.255.232.132']"
      ]
     },
     "execution_count": 14,
     "metadata": {},
     "output_type": "execute_result"
    }
   ],
   "source": [
    "Input= \"255255232132\"\n",
    "Output= [\"255.255.232.132\"]\n",
    "    \n",
    "restore_ip_address(Input)"
   ]
  },
  {
   "cell_type": "code",
   "execution_count": 15,
   "metadata": {},
   "outputs": [
    {
     "data": {
      "text/plain": [
       "['125.52.3.213',\n",
       " '1.255.23.213',\n",
       " '1.255.232.13',\n",
       " '125.5.23.213',\n",
       " '12.55.23.213',\n",
       " '125.5.232.13',\n",
       " '125.52.32.13',\n",
       " '12.55.232.13']"
      ]
     },
     "execution_count": 15,
     "metadata": {},
     "output_type": "execute_result"
    }
   ],
   "source": [
    "Input= \"125523213\"\n",
    "Output=[\n",
    "  \"1.255.23.213\",\n",
    "  \"1.255.232.13\",\n",
    "  \"12.55.23.213\",\n",
    "  \"12.55.232.13\",\n",
    "  \"125.5.23.213\",\n",
    "  \"125.5.232.13\",\n",
    "  \"125.52.3.213\",\n",
    "  \"125.52.32.13\"]\n",
    "\n",
    "restore_ip_address(Input)"
   ]
  },
  {
   "cell_type": "code",
   "execution_count": null,
   "metadata": {},
   "outputs": [],
   "source": []
  },
  {
   "cell_type": "markdown",
   "metadata": {},
   "source": [
    "#### 4) Generate The Powerset\n",
    "\n",
    "Given an input sequence arr, generate its power set.\n",
    "A \"power set\" is the set of all subsets that can be formed from a sequence/set.\n",
    "A set is a collection of distinct objects. A subset is a set that only contains elements found in the original set.\n",
    "\n",
    "***Constraints:*** \n",
    "- All items in the provided sequence will be unique\n"
   ]
  },
  {
   "cell_type": "code",
   "execution_count": 16,
   "metadata": {},
   "outputs": [],
   "source": [
    "Input= [1, 2, 3]\n",
    "Output = [\n",
    "  [], # the empty set\n",
    "  [1,2,3],\n",
    "  [1,2],\n",
    "  [1,3],\n",
    "  [1],\n",
    "  [2,3],\n",
    "  [2],\n",
    "  [3]\n",
    "]"
   ]
  },
  {
   "cell_type": "code",
   "execution_count": 17,
   "metadata": {},
   "outputs": [],
   "source": [
    "def generate_powerset(items_set):\n",
    "    solution = []\n",
    "    def _recursive_build(partial, depth):\n",
    "        if depth == len(items_set):\n",
    "            solution.append(partial)\n",
    "        else:\n",
    "            _recursive_build(partial+[items_set[depth]], depth+1)\n",
    "            _recursive_build(partial, depth+1)\n",
    "    _recursive_build([], depth=0)\n",
    "    return solution"
   ]
  },
  {
   "cell_type": "code",
   "execution_count": 18,
   "metadata": {},
   "outputs": [
    {
     "data": {
      "text/plain": [
       "[[1, 2, 3], [1, 2], [1, 3], [1], [2, 3], [2], [3], []]"
      ]
     },
     "execution_count": 18,
     "metadata": {},
     "output_type": "execute_result"
    }
   ],
   "source": [
    "generate_powerset(Input)"
   ]
  },
  {
   "cell_type": "code",
   "execution_count": null,
   "metadata": {},
   "outputs": [],
   "source": []
  },
  {
   "cell_type": "markdown",
   "metadata": {},
   "source": [
    "#### 5) Palindromic Decompositions\n",
    "\n",
    "Given a string s, return all of its palindromic decompositions.\n",
    "\n",
    "A \"palindromic decomposition\" is a splitting of the string into segments such that each segment is a palindrome.\n",
    "\n",
    "***Constraints:***\n",
    "- 0 <= len(s) <= 30"
   ]
  },
  {
   "cell_type": "code",
   "execution_count": 19,
   "metadata": {},
   "outputs": [],
   "source": [
    "def is_palindrome(string):\n",
    "    return string == string[::-1]"
   ]
  },
  {
   "cell_type": "code",
   "execution_count": 20,
   "metadata": {},
   "outputs": [],
   "source": [
    "def get_remaining(remaining, idx, is_string=True):\n",
    "    try:\n",
    "        return remaining[idx:]\n",
    "    except:\n",
    "        if is_string: \n",
    "            return ''\n",
    "        return []"
   ]
  },
  {
   "cell_type": "code",
   "execution_count": 21,
   "metadata": {},
   "outputs": [],
   "source": [
    "def get_at_idx(string, idx, as_string=True):\n",
    "    try:\n",
    "        return string[idx]\n",
    "    except:\n",
    "        if string: \n",
    "            return ''\n",
    "        return []"
   ]
  },
  {
   "cell_type": "code",
   "execution_count": 22,
   "metadata": {},
   "outputs": [],
   "source": [
    "# Slow, checks palindorme after completion \n",
    "\n",
    "def decompose_string(string):\n",
    "    solution = set()\n",
    "    splitted = list(string)\n",
    "    \n",
    "    def _recursive_build(processed, remaining, depth):\n",
    "        if depth == len(string):\n",
    "            for item in processed:\n",
    "                if not is_palindrome(item):\n",
    "                    return \n",
    "            solution.add(tuple(processed))\n",
    "        else:\n",
    "            _recursive_build(processed+[get_at_idx(remaining,0)], get_remaining(remaining, 1), depth+1)\n",
    "            p_part = get_at_idx(processed, -1)\n",
    "            if len(p_part) == 0:\n",
    "                p_part = ''\n",
    "            r_part = get_at_idx(remaining,0)\n",
    "            _recursive_build(processed[:-1]+[p_part+r_part], get_remaining(remaining, 1), depth+1)\n",
    "            \n",
    "    _recursive_build(processed=[], remaining=string, depth=0)\n",
    "    return [list(item) for item in solution]"
   ]
  },
  {
   "cell_type": "code",
   "execution_count": 23,
   "metadata": {},
   "outputs": [
    {
     "data": {
      "text/plain": [
       "[['a', 'a', 'b'], ['aa', 'b']]"
      ]
     },
     "execution_count": 23,
     "metadata": {},
     "output_type": "execute_result"
    }
   ],
   "source": [
    "decompose_string(\"aab\")"
   ]
  },
  {
   "cell_type": "code",
   "execution_count": 24,
   "metadata": {},
   "outputs": [],
   "source": [
    "# improved, checks from the beginning, terminates a path if it sees a non-palindrome early\n",
    "def partition(string):\n",
    "    solution = []\n",
    "    def _recursive_build(processed, depth):\n",
    "        if depth >= len(string):\n",
    "            solution.append(processed)\n",
    "        else:\n",
    "            for i in range(depth, len(string)):\n",
    "                if string[depth:i+1] == string[depth:i+1][::-1]: #check if palindrome \n",
    "                    _recursive_build(processed+[string[depth:i+1]], i+1)\n",
    "    _recursive_build([], depth=0)\n",
    "    return solution"
   ]
  },
  {
   "cell_type": "code",
   "execution_count": 25,
   "metadata": {},
   "outputs": [
    {
     "data": {
      "text/plain": [
       "[['a', 'a', 'b'], ['aa', 'b']]"
      ]
     },
     "execution_count": 25,
     "metadata": {},
     "output_type": "execute_result"
    }
   ],
   "source": [
    "partition('aab')"
   ]
  },
  {
   "cell_type": "code",
   "execution_count": null,
   "metadata": {},
   "outputs": [],
   "source": []
  },
  {
   "cell_type": "markdown",
   "metadata": {},
   "source": [
    "### 6) Permutations\n",
    "Given an array arr, return all the permutations of the array.\n",
    "\n",
    "***Constraints:*** \n",
    "- arr will have all unique values. \n",
    "- The order you return the permutations does not matter. "
   ]
  },
  {
   "cell_type": "code",
   "execution_count": 26,
   "metadata": {},
   "outputs": [],
   "source": [
    "def permute(seq):\n",
    "    solution = []\n",
    "    def _recusrive_build(processed, depth):\n",
    "        if depth == len(seq):\n",
    "            solution.append(processed)\n",
    "        else:\n",
    "            for i in range(depth, len(seq)):\n",
    "                new_processed = processed.copy()\n",
    "                new_processed[i], new_processed[depth] = new_processed[depth], new_processed[i]\n",
    "                _recusrive_build(new_processed, depth+1)\n",
    "    \n",
    "    _recusrive_build(seq, depth=0)\n",
    "    return solution"
   ]
  },
  {
   "cell_type": "code",
   "execution_count": 27,
   "metadata": {},
   "outputs": [
    {
     "data": {
      "text/plain": [
       "[[1, 2, 3], [1, 3, 2], [2, 1, 3], [2, 3, 1], [3, 2, 1], [3, 1, 2]]"
      ]
     },
     "execution_count": 27,
     "metadata": {},
     "output_type": "execute_result"
    }
   ],
   "source": [
    "permute([1,2,3])"
   ]
  },
  {
   "cell_type": "code",
   "execution_count": 116,
   "metadata": {},
   "outputs": [],
   "source": [
    "def another_permute(seq):\n",
    "    solution = [] \n",
    "    def _recursive_build(processed, remaining, depth):\n",
    "        if depth == len(seq):\n",
    "            solution.append(processed)\n",
    "        else:\n",
    "            for i in range(len(remaining)):\n",
    "                new_remaining = remaining.copy()\n",
    "                _recursive_build(processed + [new_remaining.pop(i)], new_remaining, depth=depth+1)\n",
    "    _recursive_build(processed=[], remaining=seq, depth=0)\n",
    "    return solution"
   ]
  },
  {
   "cell_type": "code",
   "execution_count": 117,
   "metadata": {},
   "outputs": [
    {
     "data": {
      "text/plain": [
       "[[1, 2, 3], [1, 3, 2], [2, 1, 3], [2, 3, 1], [3, 1, 2], [3, 2, 1]]"
      ]
     },
     "execution_count": 117,
     "metadata": {},
     "output_type": "execute_result"
    }
   ],
   "source": [
    "another_permute([1,2,3])"
   ]
  },
  {
   "cell_type": "markdown",
   "metadata": {},
   "source": []
  },
  {
   "cell_type": "markdown",
   "metadata": {},
   "source": [
    "### 7) Number of Islands \n",
    "A two-dimensional region is divided by a grid into uniform square cells, each of which represents either “land” or “water”.\n",
    "- The integer 1 is used to represent a square of land.\n",
    "- The integer 0 is used to represent a square of water.\n",
    "\n",
    "We define an \"island\" to be a maximal group of type 1 squares (\"land\") that are adjacent in one of four directions (horizontally or vertically).\n",
    "\n",
    "Count the number of distinct islands in the array. \n",
    "\n",
    "***Constraints:*** \n",
    "- The elements in the input matrix will only be either 0 or 1"
   ]
  },
  {
   "cell_type": "code",
   "execution_count": 27,
   "metadata": {},
   "outputs": [],
   "source": [
    "# helper_function (flood fill function)\n",
    "\n",
    "def flood_fill(grid, i, j, new_val):\n",
    "    n,m = len(grid), len(grid[0])\n",
    "    old_val = grid[i][j]\n",
    "    \n",
    "    if old_val == new_val:\n",
    "        return\n",
    "    queue = []\n",
    "    queue.append((i, j))\n",
    "    while len(queue) != 0:\n",
    "        i, j = queue.pop(0)\n",
    "        if i<0 or i>=n or j<0 or j>= m or grid[i][j] != old_val:\n",
    "            continue\n",
    "        else:\n",
    "            grid[i][j] = new_val\n",
    "            queue.append((i+1,j))\n",
    "            queue.append((i-1,j))\n",
    "            queue.append((i,j+1))\n",
    "            queue.append((i,j-1))\n",
    "            \n",
    "def number_of_islands(grid):\n",
    "    n, m = len(grid), len(grid[0])\n",
    "    num_islands = 0\n",
    "    for i in range(n):\n",
    "        for j in range(m):\n",
    "            if grid[i][j] == 1:\n",
    "                num_islands += 1\n",
    "                flood_fill(grid, i, j, 'v')\n",
    "    return num_islands\n"
   ]
  },
  {
   "cell_type": "code",
   "execution_count": 29,
   "metadata": {},
   "outputs": [
    {
     "name": "stdout",
     "output_type": "stream",
     "text": [
      "3\n",
      "2\n"
     ]
    }
   ],
   "source": [
    "test_1 = [\n",
    " [1,1,1,1,1],\n",
    " [1,0,0,0,0],\n",
    " [0,0,0,0,1],\n",
    " [1,1,0,0,1]\n",
    "]\n",
    "# number of islands = 3\n",
    "print(number_of_islands(test_1))\n",
    "\n",
    "test_2 = [\n",
    " [1,1,1,1,1],\n",
    " [0,0,0,0,0],\n",
    " [0,0,0,0,0],\n",
    " [1,1,1,1,1]\n",
    "] # number of islands = 2\n",
    "print(number_of_islands(test_2))"
   ]
  },
  {
   "cell_type": "markdown",
   "metadata": {},
   "source": [
    "### 8) Number of Distinct Islands\n",
    "\n",
    "A two-dimensional region is divided by a grid into uniform square cells, each of which represents either “land” or “water”.\n",
    "- The integer 1 is used to represent a square of land.\n",
    "- The integer 0 is used to represent a square of water.\n",
    "\n",
    "We define an \"island\" to be a maximal group of type 1 squares (\"land\") that are adjacent in one of four directions (horizontally or vertically).\n",
    "\n",
    "Furthermore, we call two islands \"distinct\" provided that they are unique under translations. That is, one island cannot be shifted horizontally or vertically to obtain the other.\n",
    "\n",
    "Count the number of distinct islands in the array. \n",
    "\n",
    "***Constraints:*** \n",
    "- The elements in the input matrix will only be either 0 or 1"
   ]
  },
  {
   "cell_type": "code",
   "execution_count": null,
   "metadata": {},
   "outputs": [],
   "source": []
  }
 ],
 "metadata": {
  "kernelspec": {
   "display_name": "Python 3",
   "language": "python",
   "name": "python3"
  },
  "language_info": {
   "codemirror_mode": {
    "name": "ipython",
    "version": 3
   },
   "file_extension": ".py",
   "mimetype": "text/x-python",
   "name": "python",
   "nbconvert_exporter": "python",
   "pygments_lexer": "ipython3",
   "version": "3.8.3"
  }
 },
 "nbformat": 4,
 "nbformat_minor": 4
}
