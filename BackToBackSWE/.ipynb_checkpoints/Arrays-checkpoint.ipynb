{
 "cells": [
  {
   "cell_type": "markdown",
   "metadata": {},
   "source": [
    "### 1) Array Problems"
   ]
  },
  {
   "cell_type": "markdown",
   "metadata": {},
   "source": [
    "#### Rotating a 2D Matrix\n",
    "Given a two-dimensional square matrix (n x n), rotate the matrix 90 degrees to the right (clockwise). \n",
    "\n",
    "*** Challenge ***:\n",
    "\n",
    "Can you do the rotation in-place?\n"
   ]
  },
  {
   "cell_type": "code",
   "execution_count": 14,
   "metadata": {},
   "outputs": [],
   "source": [
    "a1 = [\n",
    "  [ 1,  2,  3, 4],\n",
    "  [ 5,  6,  7, 8],\n",
    "  [ 9, 10, 11, 12],\n",
    "  [13, 14, 15, 16]\n",
    "]\n",
    "\n",
    "# naive solution [not in place]\n",
    "def naive_rotate_matrix(a):\n",
    "    solution = [[0 for j in range(len(a[0]))] for i in range(len(a))]\n",
    "    n = len(a)-1\n",
    "    for i in range(n+1):\n",
    "        for j in range(n+1):\n",
    "            solution[i][j] = a[n-j][i]\n",
    "    return solution"
   ]
  },
  {
   "cell_type": "code",
   "execution_count": 15,
   "metadata": {},
   "outputs": [
    {
     "data": {
      "text/plain": [
       "[[13, 9, 5, 1], [14, 10, 6, 2], [15, 11, 7, 3], [16, 12, 8, 4]]"
      ]
     },
     "execution_count": 15,
     "metadata": {},
     "output_type": "execute_result"
    }
   ],
   "source": [
    "naive_rotate_matrix(a1)"
   ]
  },
  {
   "cell_type": "code",
   "execution_count": 16,
   "metadata": {},
   "outputs": [],
   "source": [
    "a1 = [\n",
    "  [ 1,  2,  3, 4],\n",
    "  [ 5,  6,  7, 8],\n",
    "  [ 9, 10, 11, 12],\n",
    "  [13, 14, 15, 16]\n",
    "]\n",
    "\n",
    "# in place with transpose then flip\n",
    "def transpose_rotate_matrix(a):\n",
    "    # transpose \n",
    "    n = len(a)\n",
    "    for i in range(n):\n",
    "        for j in range(i, n):\n",
    "            a[i][j], a[j][i] = a[j][i], a[i][j]\n",
    "    \n",
    "    # flip horizontally\n",
    "    for i in range(n):\n",
    "        for j in range(n//2):\n",
    "            a[i][j], a[i][n-j-1] = a[i][n-j-1], a[i][j]\n",
    "            "
   ]
  },
  {
   "cell_type": "code",
   "execution_count": 17,
   "metadata": {},
   "outputs": [
    {
     "data": {
      "text/plain": [
       "[[13, 9, 5, 1], [14, 10, 6, 2], [15, 11, 7, 3], [16, 12, 8, 4]]"
      ]
     },
     "execution_count": 17,
     "metadata": {},
     "output_type": "execute_result"
    }
   ],
   "source": [
    "transpose_rotate_matrix(a1)\n",
    "a1"
   ]
  },
  {
   "cell_type": "code",
   "execution_count": 18,
   "metadata": {},
   "outputs": [],
   "source": [
    "a1 = [\n",
    "  [ 1,  2,  3, 4],\n",
    "  [ 5,  6,  7, 8],\n",
    "  [ 9, 10, 11, 12],\n",
    "  [13, 14, 15, 16]\n",
    "]\n",
    "\n",
    "# in place rotation with layer wise rotations \n",
    "def layer_rotate_matrix(a):\n",
    "    n = len(a)\n",
    "    \n",
    "    for layer in range(n//2):\n",
    "        for i in range(layer, n-layer-1):\n",
    "\n",
    "            top_pointer = a[layer][i]\n",
    "            right_pointer = a[i][n-layer-1]\n",
    "            bottom_pointer = a[n-layer-1][n-i-1]\n",
    "            left_pointer = a[n-i-1][layer]\n",
    "            \n",
    "            a[layer][i] = left_pointer\n",
    "            a[i][n-layer-1] = top_pointer\n",
    "            a[n-layer-1][n-i-1] = right_pointer\n",
    "            a[n-i-1][layer] = bottom_pointer"
   ]
  },
  {
   "cell_type": "code",
   "execution_count": 19,
   "metadata": {},
   "outputs": [
    {
     "data": {
      "text/plain": [
       "[[13, 9, 5, 1], [14, 10, 6, 2], [15, 11, 7, 3], [16, 12, 8, 4]]"
      ]
     },
     "execution_count": 19,
     "metadata": {},
     "output_type": "execute_result"
    }
   ],
   "source": [
    "layer_rotate_matrix(a1)\n",
    "a1"
   ]
  },
  {
   "cell_type": "code",
   "execution_count": null,
   "metadata": {},
   "outputs": [],
   "source": []
  },
  {
   "cell_type": "markdown",
   "metadata": {},
   "source": [
    "### 2) The 3-Sum Problem\n",
    "\n",
    "Given an array of n integers, return all unique triplets [a,b,c] in the array such that a + b + c = 0.\n",
    "\n",
    "**Note**\n",
    "\n",
    "Duplicate triplets are not allowed in the output"
   ]
  },
  {
   "cell_type": "code",
   "execution_count": 20,
   "metadata": {},
   "outputs": [],
   "source": [
    "# a naive solution is to do 3 for loops o(n**3)"
   ]
  },
  {
   "cell_type": "code",
   "execution_count": 21,
   "metadata": {},
   "outputs": [],
   "source": [
    "integers_array = [-3, -1, 1, 0, 2, 10, -2, 8]"
   ]
  },
  {
   "cell_type": "code",
   "execution_count": 22,
   "metadata": {},
   "outputs": [],
   "source": [
    "# reduce to 2 sum problem with auxilairy data storage (O(n**2))\n",
    "def find_three_sum(seq): \n",
    "    def find_two_sum(arr, value):\n",
    "        aux_dict = {}\n",
    "        for item in arr:\n",
    "            diff = value - item\n",
    "            if diff in aux_dict:\n",
    "                return [item, diff]\n",
    "            else:\n",
    "                aux_dict[item] = diff\n",
    "    \n",
    "    solutions = []\n",
    "    visited = {} \n",
    "    for i, item in enumerate(seq):\n",
    "        if item in visited:\n",
    "            continue\n",
    "        else:\n",
    "            visited[item] = True \n",
    "            target = -item\n",
    "            sol = find_two_sum(seq[i+1:], target)\n",
    "            if sol is not None:\n",
    "                if sol[0] in visited or sol[1] in visited:\n",
    "                        continue \n",
    "                sol.append(item)\n",
    "                solutions.append(sol)\n",
    "        \n",
    "    return solutions"
   ]
  },
  {
   "cell_type": "code",
   "execution_count": 23,
   "metadata": {},
   "outputs": [
    {
     "data": {
      "text/plain": [
       "[[2, 1, -3], [0, 1, -1], [-2, 2, 0]]"
      ]
     },
     "execution_count": 23,
     "metadata": {},
     "output_type": "execute_result"
    }
   ],
   "source": [
    "find_three_sum(integers_array)"
   ]
  },
  {
   "cell_type": "code",
   "execution_count": 24,
   "metadata": {},
   "outputs": [
    {
     "data": {
      "text/plain": [
       "[[2, 3, -5], [-1, 1, 0]]"
      ]
     },
     "execution_count": 24,
     "metadata": {},
     "output_type": "execute_result"
    }
   ],
   "source": [
    "new_arr = [-5, 3, 2, 0, 1, -1, -5, 3, 2]\n",
    "find_three_sum(new_arr)"
   ]
  },
  {
   "cell_type": "code",
   "execution_count": 25,
   "metadata": {},
   "outputs": [],
   "source": [
    "def sorted_find_three_sum(seq):\n",
    "    seq = sorted(seq)\n",
    "    def _sorted_find_two_sum(arr, value):\n",
    "        i = 0\n",
    "        j = len(arr)-1\n",
    "        sol = []\n",
    "        two_sum_visited = {}\n",
    "        while(i<j): \n",
    "            if arr[i]+arr[j] == value:\n",
    "                if (arr[i], arr[j]) not in two_sum_visited and (arr[j], arr[i]) not in two_sum_visited: \n",
    "                    sol.append([None, arr[i], arr[j]])\n",
    "                    two_sum_visited[arr[i], arr[j]] = True\n",
    "                    two_sum_visited[arr[j], arr[i]] = True       \n",
    "                i+=1\n",
    "                j-=1\n",
    "            if arr[i]+arr[j] < value:\n",
    "                i+=1 \n",
    "            if arr[i]+arr[j] > value:\n",
    "                j-=1                  \n",
    "        return sol\n",
    "    \n",
    "    solutions = []\n",
    "    three_sum_visited = {}\n",
    "    \n",
    "    for i, number in enumerate(seq):\n",
    "        if number in three_sum_visited:\n",
    "            continue\n",
    "        three_sum_visited[number]=True\n",
    "        solution = _sorted_find_two_sum(seq[i+1:], -number)\n",
    "        \n",
    "        if solution is not None:\n",
    "            for sol in solution:\n",
    "                solutions.append([number, sol[1], sol[2]])\n",
    "\n",
    "    return solutions"
   ]
  },
  {
   "cell_type": "code",
   "execution_count": 26,
   "metadata": {},
   "outputs": [],
   "source": [
    "a = [-5, 4, 4, 3, 3, 1, 1, 2]\n",
    "b = [-5, 3, 2, 0, 1, -1, -5, 3, 2]\n",
    "c = [-3, -1, 1, 0, 2, 10, -2, 8]\n",
    "d = [-1, 0, 1, 2, -1, -4]"
   ]
  },
  {
   "cell_type": "code",
   "execution_count": 27,
   "metadata": {},
   "outputs": [
    {
     "name": "stdout",
     "output_type": "stream",
     "text": [
      "[[-5, 1, 4], [-5, 2, 3]]\n",
      "[[-5, 2, 3], [-1, 0, 1]]\n",
      "[[-3, 1, 2], [-2, 0, 2], [-1, 0, 1]]\n",
      "[[-1, -1, 2], [-1, 0, 1]]\n"
     ]
    }
   ],
   "source": [
    "print(sorted_find_three_sum(a))\n",
    "print(sorted_find_three_sum(b))\n",
    "print(sorted_find_three_sum(c))\n",
    "print(sorted_find_three_sum(d))"
   ]
  },
  {
   "cell_type": "code",
   "execution_count": null,
   "metadata": {},
   "outputs": [],
   "source": []
  },
  {
   "cell_type": "markdown",
   "metadata": {},
   "source": [
    "#### 3) Enumerate All Primes To N\n",
    "Given an integer value n, enumerate all prime numbers from 1 to n (exclusive) and return the list with the enumeration.\n",
    "\n",
    "***Constraints:***\n",
    "\n",
    "- n >= 1"
   ]
  },
  {
   "cell_type": "code",
   "execution_count": 37,
   "metadata": {},
   "outputs": [],
   "source": [
    "def get_primes(n):\n",
    "    if n<2:\n",
    "        return [] \n",
    "    are_primes = [True for i in range(n)]\n",
    "    are_primes[0], are_primes[1] = False, False\n",
    "    for i in range(2, int(n**(0.5))+1):\n",
    "        if are_primes[i] is True: # you can start from i**2 --> more optimized version\n",
    "            for j in range(i*i, n, i):\n",
    "                are_primes[j] = False\n",
    "    return [i for i, value in enumerate(are_primes) if value is True]   "
   ]
  },
  {
   "cell_type": "code",
   "execution_count": 38,
   "metadata": {},
   "outputs": [
    {
     "data": {
      "text/plain": [
       "[2, 3, 5, 7]"
      ]
     },
     "execution_count": 38,
     "metadata": {},
     "output_type": "execute_result"
    }
   ],
   "source": [
    "get_primes(10)"
   ]
  },
  {
   "cell_type": "code",
   "execution_count": null,
   "metadata": {},
   "outputs": [],
   "source": []
  },
  {
   "cell_type": "markdown",
   "metadata": {},
   "source": [
    "### 4) Valid Sudoku\n",
    "Given a 9x9 sudoku board, return true if it is valid, return false otherwise.\n",
    "\n",
    "***Note:***\n",
    "- A sudoku board is valid if each respective row, column, & subgrid contain unique numerical values. A duplicate value in a row, column, or 3x3 subgrid invalidates the whole board.\n",
    "- 0 denotes an empty cell"
   ]
  },
  {
   "cell_type": "code",
   "execution_count": 4,
   "metadata": {},
   "outputs": [],
   "source": [
    "b = [[5,3,0,0,7,0,0,0,0],[6,0,0,1,9,5,0,0,0],[0,9,8,0,0,0,0,6,0],[8,0,0,0,6,0,0,0,3],[4,0,0,8,0,3,0,0,1],[7,0,0,0,2,0,0,0,6],[0,6,0,0,0,0,2,8,0],[0,0,0,4,1,9,0,0,5],[0,0,0,0,8,0,0,7,9]]"
   ]
  },
  {
   "cell_type": "code",
   "execution_count": 7,
   "metadata": {},
   "outputs": [],
   "source": [
    "def is_validSudoku(board):\n",
    "    '''\n",
    "    :type board: list of list of int\n",
    "    :rtype: bool\n",
    "    '''\n",
    "    seen = set()\n",
    "    for i in range(9):\n",
    "        for j in range(9):\n",
    "            if board[i][j] !=0:\n",
    "                val = str(board[i][j])\n",
    "                if (val+'r'+str(i)) in seen or (val + 'c' +str(j)) in seen or (val+'box'+str(i//3)+' '+ str(j//3)) in seen:\n",
    "                    return False\n",
    "                seen.add((val+'r'+str(i)))\n",
    "                seen.add((val + 'c' +str(j)))\n",
    "                seen.add( (val+'box'+str(i//3)+' '+ str(j//3)))\n",
    "    return True"
   ]
  },
  {
   "cell_type": "code",
   "execution_count": 8,
   "metadata": {},
   "outputs": [
    {
     "data": {
      "text/plain": [
       "True"
      ]
     },
     "execution_count": 8,
     "metadata": {},
     "output_type": "execute_result"
    }
   ],
   "source": [
    "is_validSudoku(b)"
   ]
  },
  {
   "cell_type": "code",
   "execution_count": null,
   "metadata": {},
   "outputs": [],
   "source": []
  }
 ],
 "metadata": {
  "kernelspec": {
   "display_name": "Python 3",
   "language": "python",
   "name": "python3"
  },
  "language_info": {
   "codemirror_mode": {
    "name": "ipython",
    "version": 3
   },
   "file_extension": ".py",
   "mimetype": "text/x-python",
   "name": "python",
   "nbconvert_exporter": "python",
   "pygments_lexer": "ipython3",
   "version": "3.8.3"
  }
 },
 "nbformat": 4,
 "nbformat_minor": 4
}
