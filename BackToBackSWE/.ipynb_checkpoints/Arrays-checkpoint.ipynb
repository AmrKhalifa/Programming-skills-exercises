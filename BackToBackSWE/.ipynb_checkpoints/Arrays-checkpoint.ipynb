{
 "cells": [
  {
   "cell_type": "markdown",
   "metadata": {},
   "source": [
    "### 1) Array Problems"
   ]
  },
  {
   "cell_type": "markdown",
   "metadata": {},
   "source": [
    "#### Rotating a 2D Matrix\n",
    "Given a two-dimensional square matrix (n x n), rotate the matrix 90 degrees to the right (clockwise). \n",
    "\n",
    "*** Challenge ***:\n",
    "\n",
    "Can you do the rotation in-place?\n"
   ]
  },
  {
   "cell_type": "code",
   "execution_count": 1,
   "metadata": {},
   "outputs": [],
   "source": [
    "a1 = [\n",
    "  [ 1,  2,  3, 4],\n",
    "  [ 5,  6,  7, 8],\n",
    "  [ 9, 10, 11, 12],\n",
    "  [13, 14, 15, 16]\n",
    "]\n",
    "\n",
    "# naive solution \n",
    "def naive_rotate_matrix(a):\n",
    "    solution = [[0 for j in range(len(a[0]))] for i in range(len(a))]\n",
    "    n = len(a)-1\n",
    "    for i in range(n+1):\n",
    "        for j in range(n+1):\n",
    "            solution[i][j] = a[n-j][i]\n",
    "    return solution"
   ]
  },
  {
   "cell_type": "code",
   "execution_count": 2,
   "metadata": {},
   "outputs": [
    {
     "data": {
      "text/plain": [
       "[[13, 9, 5, 1], [14, 10, 6, 2], [15, 11, 7, 3], [16, 12, 8, 4]]"
      ]
     },
     "execution_count": 2,
     "metadata": {},
     "output_type": "execute_result"
    }
   ],
   "source": [
    "naive_rotate_matrix(a1)"
   ]
  },
  {
   "cell_type": "code",
   "execution_count": 3,
   "metadata": {},
   "outputs": [],
   "source": [
    "a1 = [\n",
    "  [ 1,  2,  3, 4],\n",
    "  [ 5,  6,  7, 8],\n",
    "  [ 9, 10, 11, 12],\n",
    "  [13, 14, 15, 16]\n",
    "]\n",
    "\n",
    "# in place with transpose then flip\n",
    "def transpose_rotate_matrix(a):\n",
    "    # transpose \n",
    "    n = len(a)\n",
    "    for i in range(n):\n",
    "        for j in range(i, n):\n",
    "            a[i][j], a[j][i] = a[j][i], a[i][j]\n",
    "    \n",
    "    # flip horizontally\n",
    "    for i in range(n):\n",
    "        for j in range(n//2):\n",
    "            a[i][j], a[i][n-j-1] = a[i][n-j-1], a[i][j]\n",
    "            "
   ]
  },
  {
   "cell_type": "code",
   "execution_count": 4,
   "metadata": {},
   "outputs": [
    {
     "data": {
      "text/plain": [
       "[[13, 9, 5, 1], [14, 10, 6, 2], [15, 11, 7, 3], [16, 12, 8, 4]]"
      ]
     },
     "execution_count": 4,
     "metadata": {},
     "output_type": "execute_result"
    }
   ],
   "source": [
    "transpose_rotate_matrix(a1)\n",
    "a1"
   ]
  },
  {
   "cell_type": "code",
   "execution_count": 5,
   "metadata": {},
   "outputs": [],
   "source": [
    "a1 = [\n",
    "  [ 1,  2,  3, 4],\n",
    "  [ 5,  6,  7, 8],\n",
    "  [ 9, 10, 11, 12],\n",
    "  [13, 14, 15, 16]\n",
    "]\n",
    "\n",
    "# in place rotation with layer wise rotations \n",
    "def layer_rotate_matrix(a):\n",
    "    n = len(a)\n",
    "    \n",
    "    for layer in range(n//2):\n",
    "        for i in range(layer, n-layer-1):\n",
    "\n",
    "            top_pointer = a[layer][i]\n",
    "            right_pointer = a[i][n-layer-1]\n",
    "            bottom_pointer = a[n-layer-1][n-i-1]\n",
    "            left_pointer = a[n-i-1][layer]\n",
    "            \n",
    "            a[layer][i] = left_pointer\n",
    "            a[i][n-layer-1] = top_pointer\n",
    "            a[n-layer-1][n-i-1] = right_pointer\n",
    "            a[n-i-1][layer] = bottom_pointer"
   ]
  },
  {
   "cell_type": "code",
   "execution_count": 6,
   "metadata": {},
   "outputs": [
    {
     "data": {
      "text/plain": [
       "[[13, 9, 5, 1], [14, 10, 6, 2], [15, 11, 7, 3], [16, 12, 8, 4]]"
      ]
     },
     "execution_count": 6,
     "metadata": {},
     "output_type": "execute_result"
    }
   ],
   "source": [
    "layer_rotate_matrix(a1)\n",
    "a1"
   ]
  },
  {
   "cell_type": "code",
   "execution_count": null,
   "metadata": {},
   "outputs": [],
   "source": []
  },
  {
   "cell_type": "markdown",
   "metadata": {},
   "source": [
    "### 2) The 3-Sum Problem\n",
    "\n",
    "Given an array of n integers, return all unique triplets [a,b,c] in the array such that a + b + c = 0.\n",
    "\n",
    "**Note**\n",
    "\n",
    "Duplicate triplets are not allowed in the output"
   ]
  },
  {
   "cell_type": "code",
   "execution_count": 7,
   "metadata": {},
   "outputs": [],
   "source": [
    "# a naive solution is to do 3 for loops o(n**2)"
   ]
  },
  {
   "cell_type": "code",
   "execution_count": 8,
   "metadata": {},
   "outputs": [],
   "source": [
    "integers_array = [-3, -1, 1, 0, 2, 10, -2, 8]"
   ]
  },
  {
   "cell_type": "code",
   "execution_count": 9,
   "metadata": {},
   "outputs": [],
   "source": [
    "# reduce to 2 sum problem with auxilairy data storage (O(n**2))\n",
    "def find_three_sum(seq): \n",
    "    def find_two_sum(arr, value):\n",
    "        aux_dict = {}\n",
    "        for item in arr:\n",
    "            diff = value - item\n",
    "            if diff in aux_dict:\n",
    "                return [item, diff]\n",
    "            else:\n",
    "                aux_dict[item] = diff\n",
    "    \n",
    "    solutions = []\n",
    "    visited = {} \n",
    "    for i, item in enumerate(seq):\n",
    "        if item in visited:\n",
    "            continue\n",
    "        else:\n",
    "            visited[item] = True \n",
    "            target = -item\n",
    "            sol = find_two_sum(seq[i+1:], target)\n",
    "            if sol is not None:\n",
    "                if sol[0] in visited or sol[1] in visited:\n",
    "                        continue \n",
    "                sol.append(item)\n",
    "                solutions.append(sol)\n",
    "        \n",
    "    return solutions"
   ]
  },
  {
   "cell_type": "code",
   "execution_count": 10,
   "metadata": {},
   "outputs": [
    {
     "data": {
      "text/plain": [
       "[[2, 1, -3], [0, 1, -1], [-2, 2, 0]]"
      ]
     },
     "execution_count": 10,
     "metadata": {},
     "output_type": "execute_result"
    }
   ],
   "source": [
    "find_three_sum(integers_array)"
   ]
  },
  {
   "cell_type": "code",
   "execution_count": 11,
   "metadata": {},
   "outputs": [
    {
     "data": {
      "text/plain": [
       "[[2, 3, -5], [-1, 1, 0]]"
      ]
     },
     "execution_count": 11,
     "metadata": {},
     "output_type": "execute_result"
    }
   ],
   "source": [
    "new_arr = [-5, 3, 2, 0, 1, -1, -5, 3, 2]\n",
    "find_three_sum(new_arr)"
   ]
  },
  {
   "cell_type": "code",
   "execution_count": 69,
   "metadata": {},
   "outputs": [],
   "source": [
    "def sorted_find_three_sum(seq):\n",
    "    seq = sorted(seq)\n",
    "    def _sorted_find_two_sum(arr, value):\n",
    "        i = 0\n",
    "        j = len(arr)-1\n",
    "        sol = []\n",
    "        two_sum_visited = {}\n",
    "        while(i<j): \n",
    "            if arr[i]+arr[j] == value:\n",
    "                if (arr[i], arr[j]) not in two_sum_visited and (arr[j], arr[i]) not in two_sum_visited: \n",
    "                    sol.append([None, arr[i], arr[j]])\n",
    "                    two_sum_visited[arr[i], arr[j]] = True\n",
    "                    two_sum_visited[arr[j], arr[i]] = True       \n",
    "                i+=1\n",
    "                j-=1\n",
    "\n",
    "            if arr[i]+arr[j] < value:\n",
    "                i+=1 \n",
    "            if arr[i]+arr[j] > value:\n",
    "                j-=1                  \n",
    "        return sol\n",
    "    \n",
    "    solutions = []\n",
    "    three_sum_visited = {}\n",
    "    \n",
    "    for i, number in enumerate(seq):\n",
    "        if number in three_sum_visited:\n",
    "            continue\n",
    "        three_sum_visited[number]=True\n",
    "        solution = _sorted_find_two_sum(seq[i+1:], -number)\n",
    "        \n",
    "        if solution is not None:\n",
    "            for sol in solution:\n",
    "                solutions.append([number, sol[1], sol[2]])\n",
    "\n",
    "    return solutions"
   ]
  },
  {
   "cell_type": "code",
   "execution_count": 74,
   "metadata": {},
   "outputs": [],
   "source": [
    "a = [-5, 4, 4, 3, 3, 1, 1, 2]\n",
    "b = [-5, 3, 2, 0, 1, -1, -5, 3, 2]\n",
    "c = [-3, -1, 1, 0, 2, 10, -2, 8]\n",
    "d = [-1, 0, 1, 2, -1, -4]"
   ]
  },
  {
   "cell_type": "code",
   "execution_count": 75,
   "metadata": {},
   "outputs": [
    {
     "name": "stdout",
     "output_type": "stream",
     "text": [
      "[[-5, 1, 4], [-5, 2, 3]]\n",
      "[[-5, 2, 3], [-1, 0, 1]]\n",
      "[[-3, 1, 2], [-2, 0, 2], [-1, 0, 1]]\n",
      "[[-1, -1, 2], [-1, 0, 1]]\n"
     ]
    }
   ],
   "source": [
    "print(sorted_find_three_sum(a))\n",
    "print(sorted_find_three_sum(b))\n",
    "print(sorted_find_three_sum(c))\n",
    "print(sorted_find_three_sum(d))"
   ]
  },
  {
   "cell_type": "code",
   "execution_count": null,
   "metadata": {},
   "outputs": [],
   "source": []
  }
 ],
 "metadata": {
  "kernelspec": {
   "display_name": "Python 3",
   "language": "python",
   "name": "python3"
  },
  "language_info": {
   "codemirror_mode": {
    "name": "ipython",
    "version": 3
   },
   "file_extension": ".py",
   "mimetype": "text/x-python",
   "name": "python",
   "nbconvert_exporter": "python",
   "pygments_lexer": "ipython3",
   "version": "3.8.3"
  }
 },
 "nbformat": 4,
 "nbformat_minor": 4
}
