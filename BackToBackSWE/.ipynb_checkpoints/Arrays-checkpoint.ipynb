{
 "cells": [
  {
   "cell_type": "markdown",
   "metadata": {},
   "source": [
    "### 1) Array Problems"
   ]
  },
  {
   "cell_type": "markdown",
   "metadata": {},
   "source": [
    "#### Rotating a 2D Matrix\n",
    "Given a two-dimensional square matrix (n x n), rotate the matrix 90 degrees to the right (clockwise). \n",
    "\n",
    "*** Challenge ***:\n",
    "\n",
    "Can you do the rotation in-place?\n"
   ]
  },
  {
   "cell_type": "code",
   "execution_count": 93,
   "metadata": {},
   "outputs": [],
   "source": [
    "a1 = [\n",
    "  [ 1,  2,  3, 4],\n",
    "  [ 5,  6,  7, 8],\n",
    "  [ 9, 10, 11, 12],\n",
    "  [13, 14, 15, 16]\n",
    "]\n",
    "\n",
    "# naive solution \n",
    "def naive_rotate_matrix(a):\n",
    "    solution = [[0 for j in range(len(a[0]))] for i in range(len(a))]\n",
    "    n = len(a)-1\n",
    "    for i in range(n+1):\n",
    "        for j in range(n+1):\n",
    "            solution[i][j] = a[n-j][i]\n",
    "    return solution"
   ]
  },
  {
   "cell_type": "code",
   "execution_count": 94,
   "metadata": {},
   "outputs": [
    {
     "data": {
      "text/plain": [
       "[[13, 9, 5, 1], [14, 10, 6, 2], [15, 11, 7, 3], [16, 12, 8, 4]]"
      ]
     },
     "execution_count": 94,
     "metadata": {},
     "output_type": "execute_result"
    }
   ],
   "source": [
    "naive_rotate_matrix(a1)"
   ]
  },
  {
   "cell_type": "code",
   "execution_count": 99,
   "metadata": {},
   "outputs": [],
   "source": [
    "a1 = [\n",
    "  [ 1,  2,  3, 4],\n",
    "  [ 5,  6,  7, 8],\n",
    "  [ 9, 10, 11, 12],\n",
    "  [13, 14, 15, 16]\n",
    "]\n",
    "\n",
    "# in place with transpose then flip\n",
    "def transpose_rotate_matrix(a):\n",
    "    # transpose \n",
    "    n = len(a)\n",
    "    for i in range(n):\n",
    "        for j in range(i, n):\n",
    "            a[i][j], a[j][i] = a[j][i], a[i][j]\n",
    "    \n",
    "    # flip horizontally\n",
    "    for i in range(n):\n",
    "        for j in range(n//2):\n",
    "            a[i][j], a[i][n-j-1] = a[i][n-j-1], a[i][j]\n",
    "            "
   ]
  },
  {
   "cell_type": "code",
   "execution_count": 100,
   "metadata": {},
   "outputs": [
    {
     "data": {
      "text/plain": [
       "[[13, 9, 5, 1], [14, 10, 6, 2], [15, 11, 7, 3], [16, 12, 8, 4]]"
      ]
     },
     "execution_count": 100,
     "metadata": {},
     "output_type": "execute_result"
    }
   ],
   "source": [
    "transpose_rotate_matrix(a1)\n",
    "a1"
   ]
  },
  {
   "cell_type": "code",
   "execution_count": 64,
   "metadata": {},
   "outputs": [],
   "source": [
    "a1 = [\n",
    "  [ 1,  2,  3, 4],\n",
    "  [ 5,  6,  7, 8],\n",
    "  [ 9, 10, 11, 12],\n",
    "  [13, 14, 15, 16]\n",
    "]\n",
    "\n",
    "# in place rotation with layer wise rotations \n",
    "def layer_rotate_matrix(a):\n",
    "    pass "
   ]
  },
  {
   "cell_type": "code",
   "execution_count": null,
   "metadata": {},
   "outputs": [],
   "source": []
  }
 ],
 "metadata": {
  "kernelspec": {
   "display_name": "Python 3",
   "language": "python",
   "name": "python3"
  },
  "language_info": {
   "codemirror_mode": {
    "name": "ipython",
    "version": 3
   },
   "file_extension": ".py",
   "mimetype": "text/x-python",
   "name": "python",
   "nbconvert_exporter": "python",
   "pygments_lexer": "ipython3",
   "version": "3.8.3"
  }
 },
 "nbformat": 4,
 "nbformat_minor": 4
}
