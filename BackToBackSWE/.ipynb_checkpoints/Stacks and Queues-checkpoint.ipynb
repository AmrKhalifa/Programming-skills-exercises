{
 "cells": [
  {
   "cell_type": "markdown",
   "metadata": {},
   "source": [
    "### Stacks and Queues problems"
   ]
  },
  {
   "cell_type": "markdown",
   "metadata": {},
   "source": [
    "### 1) The Balanced Parentheses Problem\n",
    "You are given a string with 3 types of tokens, each with an \"open\" type and \"closed\" type. A string is \"balanced\" if all open tokes of a certain type are closed appropriately. Given a string s, return true if it is balanced, return false otherwise.\n",
    "\n",
    "***Opening tokens:***\n",
    "- An open parenthesis (\n",
    "- An open bracket [\n",
    "- An open brace {\n",
    "\n",
    "***Closing tokens:***\n",
    "- A closing parenthesis )\n",
    "- A closing bracket ]\n",
    "- A closing brace }\n",
    "\n",
    "***Constraints:***\n",
    "- A token can only close the corresponding opening token of its same type\n",
    "- The string will be well-formed (only contain the tokens discussed and no other types of characters)"
   ]
  },
  {
   "cell_type": "code",
   "execution_count": 1,
   "metadata": {},
   "outputs": [],
   "source": [
    "def is_balanced(string):\n",
    "    match_dict = {'}':'{', ')':'(', ']':'['}\n",
    "    stack = []\n",
    "    for char in string:\n",
    "        if char not in match_dict and char in set(['(', '[', '{']):\n",
    "            stack.append(char)\n",
    "        elif char in match_dict:\n",
    "            if not stack:\n",
    "                return False\n",
    "            match = stack.pop()\n",
    "            if match == match_dict[char]:\n",
    "                continue\n",
    "            else:\n",
    "                return False\n",
    "    return not stack "
   ]
  },
  {
   "cell_type": "code",
   "execution_count": 2,
   "metadata": {},
   "outputs": [
    {
     "data": {
      "text/plain": [
       "True"
      ]
     },
     "execution_count": 2,
     "metadata": {},
     "output_type": "execute_result"
    }
   ],
   "source": [
    "is_balanced('{()[[]((){})]}')"
   ]
  },
  {
   "cell_type": "code",
   "execution_count": null,
   "metadata": {},
   "outputs": [],
   "source": []
  },
  {
   "cell_type": "markdown",
   "metadata": {},
   "source": [
    "### 2) Compute Buildings With A Sunset View\n",
    "\n",
    "We are given an array buildings of integers. Each item represents the height of a building on a skyline from left to right.\n",
    "\n",
    "***Here are the details:***\n",
    "\n",
    "The sun sits on the far left\n",
    "A building is \"blocked\" from seeing the sun if there is a building to its left that is >= in height than itself\n",
    "\n",
    "***You should:***\n",
    "- Return a revised list of the buildings with \"blocked\" buildings excluded\n",
    "- Maintain the relative order of the buildings as they stood in buildings\n",
    "- Represent each building by its original index in buildings (rather than by its value)\n",
    "\n",
    "***Constraints:***\n",
    "- buildings[i] >= 0"
   ]
  },
  {
   "cell_type": "code",
   "execution_count": 15,
   "metadata": {},
   "outputs": [],
   "source": [
    "def extract_un_hidden(buildings):\n",
    "    if not buildings:\n",
    "        return buildings\n",
    "    solution = [0]\n",
    "    heighest_so_far = buildings[0]\n",
    "    for i, building in enumerate(buildings):\n",
    "        if building > heighest_so_far:\n",
    "            solution.append(i)\n",
    "            heighest_so_far = max(heighest_so_far, building)\n",
    "    return solution"
   ]
  },
  {
   "cell_type": "code",
   "execution_count": 16,
   "metadata": {},
   "outputs": [
    {
     "name": "stdout",
     "output_type": "stream",
     "text": [
      "[0, 1, 2, 3, 4]\n",
      "[0, 2, 4]\n",
      "[0, 1]\n"
     ]
    }
   ],
   "source": [
    "x = [11, 12, 13, 14, 15]\n",
    "print(extract_un_hidden(x))\n",
    "x =  [7, 4, 8, 2, 9]\n",
    "print(extract_un_hidden(x))\n",
    "x = [0,1,0,1,0]\n",
    "print(extract_un_hidden(x))"
   ]
  },
  {
   "cell_type": "code",
   "execution_count": null,
   "metadata": {},
   "outputs": [],
   "source": []
  }
 ],
 "metadata": {
  "kernelspec": {
   "display_name": "Python 3",
   "language": "python",
   "name": "python3"
  },
  "language_info": {
   "codemirror_mode": {
    "name": "ipython",
    "version": 3
   },
   "file_extension": ".py",
   "mimetype": "text/x-python",
   "name": "python",
   "nbconvert_exporter": "python",
   "pygments_lexer": "ipython3",
   "version": "3.8.3"
  }
 },
 "nbformat": 4,
 "nbformat_minor": 4
}
