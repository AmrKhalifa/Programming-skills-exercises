{
 "cells": [
  {
   "cell_type": "markdown",
   "metadata": {},
   "source": [
    "### Searching Problems"
   ]
  },
  {
   "cell_type": "markdown",
   "metadata": {},
   "source": [
    "### 1) Intersection of 2 Sorted Arrays\n",
    "\n",
    "Given two sorted arrays, return a new array that represents their intersection. \n",
    "***Constraints***\n",
    "\n",
    "- Each element in the result must be unique.\n"
   ]
  },
  {
   "cell_type": "code",
   "execution_count": 10,
   "metadata": {},
   "outputs": [],
   "source": [
    "a1  = [1,2,2,3]\n",
    "a2 = [1,1,4]\n",
    "\n",
    "a3 = [1,2,3,5] \n",
    "a4 =[1,2] "
   ]
  },
  {
   "cell_type": "code",
   "execution_count": 20,
   "metadata": {},
   "outputs": [],
   "source": [
    "def set_get_intersection(arr1, arr2):\n",
    "    m = len(arr1)\n",
    "    n = len(arr2)\n",
    "    \n",
    "    (smaller, bigger) = (arr1, arr2) if m<n else (arr2, arr1)\n",
    "    solution = set()\n",
    "    seen = {item:True for item in smaller}\n",
    "    \n",
    "    for number in bigger:\n",
    "        if number in seen:\n",
    "            solution.add(number)\n",
    "    \n",
    "    return list(solution)"
   ]
  },
  {
   "cell_type": "code",
   "execution_count": 22,
   "metadata": {},
   "outputs": [
    {
     "name": "stdout",
     "output_type": "stream",
     "text": [
      "[1]\n",
      "[1, 2]\n"
     ]
    }
   ],
   "source": [
    "print(set_get_intersection(a1, a2))\n",
    "print(set_get_intersection(a3, a4))"
   ]
  },
  {
   "cell_type": "code",
   "execution_count": 23,
   "metadata": {},
   "outputs": [],
   "source": [
    "def two_pointer_get_intersection(arr1, arr2):\n",
    "    ptr_1 = 0\n",
    "    ptr_2 = 0\n",
    "    sol = set()\n",
    "    n = len(arr1)\n",
    "    m = len(arr2)\n",
    "    while(ptr_1<n and ptr_2<m):\n",
    "        if arr1[ptr_1] == arr2[ptr_2]:\n",
    "            sol.add(arr1[ptr_1])\n",
    "            ptr_1 += 1\n",
    "            ptr_2 += 1\n",
    "        elif arr1[ptr_1] > arr2[ptr_2]:\n",
    "            ptr_2 +=1 \n",
    "        else:\n",
    "            ptr_1 +=1\n",
    "    return list(sol)\n",
    "            "
   ]
  },
  {
   "cell_type": "code",
   "execution_count": 24,
   "metadata": {},
   "outputs": [
    {
     "name": "stdout",
     "output_type": "stream",
     "text": [
      "[1]\n",
      "[1, 2]\n"
     ]
    }
   ],
   "source": [
    "print(get_intersection(a1, a2))\n",
    "print(get_intersection(a3, a4))"
   ]
  },
  {
   "cell_type": "code",
   "execution_count": null,
   "metadata": {},
   "outputs": [],
   "source": []
  },
  {
   "cell_type": "markdown",
   "metadata": {},
   "source": [
    "### 2) Minimum Item In A Rotated Sorted Array\n",
    "\n",
    "Given a rotated sorted array, find the minimum element.\n",
    "\n",
    "A \"rotated\" array is an array that has had each item shifted to the left or right by k units (where k is a positive integer) while maintaining positional integrity of every element in the original array.\n",
    "\n",
    "***Constraints:***\n",
    "\n",
    "- arr[i] >= 0\n",
    "- All Elements in the array are unique"
   ]
  },
  {
   "cell_type": "code",
   "execution_count": 97,
   "metadata": {},
   "outputs": [],
   "source": [
    "a = [9, 12, 15, 17, 25, 28, 32, 37, 3, 5, 7, 8]\n",
    "a2 = [55, 88, 91, 93, 2, 9, 20]\n",
    "a3 = []\n",
    "a4 = [1]\n",
    "a5 = [1,2,3,5,0]"
   ]
  },
  {
   "cell_type": "code",
   "execution_count": 98,
   "metadata": {},
   "outputs": [],
   "source": [
    "def find_min(arr):\n",
    "    left=0\n",
    "    right=len(arr)-1\n",
    "    if len(arr)==0:\n",
    "        return -1\n",
    "    while(left<right):\n",
    "        mid = left +(right-left)//2\n",
    "        if arr[mid] > arr[right]:\n",
    "            left = mid+1\n",
    "        else:\n",
    "            right = mid\n",
    "    \n",
    "    return arr[left]"
   ]
  },
  {
   "cell_type": "code",
   "execution_count": 99,
   "metadata": {},
   "outputs": [
    {
     "name": "stdout",
     "output_type": "stream",
     "text": [
      "3\n",
      "2\n",
      "-1\n",
      "1\n",
      "0\n"
     ]
    }
   ],
   "source": [
    "print(find_min(a))\n",
    "print(find_min(a2))\n",
    "print(find_min(a3))\n",
    "print(find_min(a4))\n",
    "print(find_min(a5))"
   ]
  },
  {
   "cell_type": "code",
   "execution_count": null,
   "metadata": {},
   "outputs": [],
   "source": []
  },
  {
   "cell_type": "code",
   "execution_count": null,
   "metadata": {},
   "outputs": [],
   "source": []
  }
 ],
 "metadata": {
  "kernelspec": {
   "display_name": "Python 3",
   "language": "python",
   "name": "python3"
  },
  "language_info": {
   "codemirror_mode": {
    "name": "ipython",
    "version": 3
   },
   "file_extension": ".py",
   "mimetype": "text/x-python",
   "name": "python",
   "nbconvert_exporter": "python",
   "pygments_lexer": "ipython3",
   "version": "3.8.3"
  }
 },
 "nbformat": 4,
 "nbformat_minor": 4
}
