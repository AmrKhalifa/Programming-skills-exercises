{
 "cells": [
  {
   "cell_type": "code",
   "execution_count": null,
   "metadata": {},
   "outputs": [],
   "source": []
  },
  {
   "cell_type": "code",
   "execution_count": null,
   "metadata": {},
   "outputs": [],
   "source": []
  },
  {
   "cell_type": "code",
   "execution_count": null,
   "metadata": {},
   "outputs": [],
   "source": []
  },
  {
   "cell_type": "markdown",
   "metadata": {},
   "source": [
    "### 1) Verifying Character Ordering\n",
    "\n",
    "Given a string s representing a new ordering of the lowercase English letters and an array A[] of strings, return true if and only if A[] is sorted in lexicographical order according to the ordering provided in s."
   ]
  },
  {
   "cell_type": "code",
   "execution_count": 28,
   "metadata": {},
   "outputs": [],
   "source": [
    "s = \"hlbcdefgijkmnopqrstuvwxzya\"\n",
    "A = [\"hello\", \"hey\", \"a\"]\n",
    "\n",
    "# Output: true"
   ]
  },
  {
   "cell_type": "code",
   "execution_count": 32,
   "metadata": {},
   "outputs": [],
   "source": [
    "def is_lexicographically_sorted(s, A):     \n",
    "    def is_sorted(word_1, word_2, char2value):\n",
    "        len_1 = len(word_1)\n",
    "        len_2 = len(word_2)\n",
    "        for i in range(len_1):\n",
    "            if i >= len(word_2):\n",
    "                return False \n",
    "            if char2value[word_1[i]] > char2value[word_2[i]]:\n",
    "                return False\n",
    "            if char2value[word_1[i]] == char2value[word_2[i]]:\n",
    "                continue\n",
    "            if char2value[word_1[i]] < char2value[word_2[i]]:\n",
    "                return True \n",
    "        return True\n",
    "    \n",
    "    char_2_value = {char:i+1 for i, char in enumerate(s)}\n",
    "    flag=True\n",
    "    for i in range(len(A)-1):\n",
    "        word_1 = A[i]\n",
    "        word_2 = A[i+1]\n",
    "        flag = is_sorted(word_1, word_2, char_2_value)\n",
    "        if flag == False:\n",
    "            return flag\n",
    "        \n",
    "    return flag"
   ]
  },
  {
   "cell_type": "code",
   "execution_count": 33,
   "metadata": {},
   "outputs": [
    {
     "data": {
      "text/plain": [
       "True"
      ]
     },
     "execution_count": 33,
     "metadata": {},
     "output_type": "execute_result"
    }
   ],
   "source": [
    "is_lexicographically_sorted(s, A)"
   ]
  },
  {
   "cell_type": "markdown",
   "metadata": {},
   "source": [
    "### 2) Merge sort of arrays"
   ]
  },
  {
   "cell_type": "code",
   "execution_count": 21,
   "metadata": {},
   "outputs": [],
   "source": [
    "arr = [11, 3, 7, 1, 4, 0, 10, 8, 6, 9, 5, 2]"
   ]
  },
  {
   "cell_type": "code",
   "execution_count": 28,
   "metadata": {},
   "outputs": [],
   "source": [
    "def merge_sort(array):\n",
    "    def _merge_sorted_arrays(left_arr, right_arr):\n",
    "        merged = [] \n",
    "        i,j = 0,0\n",
    "        while(i<len(left_arr) and j <len(right_arr)):\n",
    "            if left_arr[i] < right_arr[j]:\n",
    "                merged.append(left_arr[i])\n",
    "                i+=1\n",
    "            else:\n",
    "                merged.append(right_arr[j])\n",
    "                j+=1\n",
    "        if i<len(left_arr):\n",
    "            merged.extend(left_arr[i:])\n",
    "        elif j<len(right_arr):\n",
    "            merged.extend(right_arr[j:])\n",
    "        return merged\n",
    "    \n",
    "    if len(array) ==0 or len(array) ==1:\n",
    "        return array\n",
    "    mid = len(array)//2\n",
    "    left_sorted = merge_sort(array[:mid])\n",
    "    right_sorted = merge_sort(array[mid:])\n",
    "    return _merge_sorted_arrays(left_sorted, right_sorted)"
   ]
  },
  {
   "cell_type": "code",
   "execution_count": 29,
   "metadata": {},
   "outputs": [
    {
     "name": "stdout",
     "output_type": "stream",
     "text": [
      "[0, 1, 2, 3, 4, 5, 6, 7, 8, 9, 10, 11]\n"
     ]
    }
   ],
   "source": [
    "print(merge_sort(arr))"
   ]
  },
  {
   "cell_type": "code",
   "execution_count": null,
   "metadata": {},
   "outputs": [],
   "source": []
  }
 ],
 "metadata": {
  "kernelspec": {
   "display_name": "Python 3",
   "language": "python",
   "name": "python3"
  },
  "language_info": {
   "codemirror_mode": {
    "name": "ipython",
    "version": 3
   },
   "file_extension": ".py",
   "mimetype": "text/x-python",
   "name": "python",
   "nbconvert_exporter": "python",
   "pygments_lexer": "ipython3",
   "version": "3.8.3"
  }
 },
 "nbformat": 4,
 "nbformat_minor": 4
}
