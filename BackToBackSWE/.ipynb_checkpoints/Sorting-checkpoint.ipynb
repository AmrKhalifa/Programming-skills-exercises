{
 "cells": [
  {
   "cell_type": "code",
   "execution_count": null,
   "metadata": {},
   "outputs": [],
   "source": []
  },
  {
   "cell_type": "code",
   "execution_count": null,
   "metadata": {},
   "outputs": [],
   "source": []
  },
  {
   "cell_type": "code",
   "execution_count": 1,
   "metadata": {},
   "outputs": [],
   "source": [
    "import heapq"
   ]
  },
  {
   "cell_type": "markdown",
   "metadata": {},
   "source": [
    "### 1) Verifying Character Ordering\n",
    "\n",
    "Given a string s representing a new ordering of the lowercase English letters and an array A[] of strings, return true if and only if A[] is sorted in lexicographical order according to the ordering provided in s."
   ]
  },
  {
   "cell_type": "code",
   "execution_count": 2,
   "metadata": {},
   "outputs": [],
   "source": [
    "s = \"hlbcdefgijkmnopqrstuvwxzya\"\n",
    "A = [\"hello\", \"hey\", \"a\"]\n",
    "\n",
    "# Output: true"
   ]
  },
  {
   "cell_type": "code",
   "execution_count": 3,
   "metadata": {},
   "outputs": [],
   "source": [
    "def is_lexicographically_sorted(s, A):     \n",
    "    def is_sorted(word_1, word_2, char2value):\n",
    "        len_1 = len(word_1)\n",
    "        len_2 = len(word_2)\n",
    "        for i in range(len_1):\n",
    "            if i >= len(word_2):\n",
    "                return False \n",
    "            if char2value[word_1[i]] > char2value[word_2[i]]:\n",
    "                return False\n",
    "            if char2value[word_1[i]] == char2value[word_2[i]]:\n",
    "                continue\n",
    "            if char2value[word_1[i]] < char2value[word_2[i]]:\n",
    "                return True \n",
    "        return True\n",
    "    \n",
    "    char_2_value = {char:i+1 for i, char in enumerate(s)}\n",
    "    flag=True\n",
    "    for i in range(len(A)-1):\n",
    "        word_1 = A[i]\n",
    "        word_2 = A[i+1]\n",
    "        flag = is_sorted(word_1, word_2, char_2_value)\n",
    "        if flag == False:\n",
    "            return flag\n",
    "        \n",
    "    return flag"
   ]
  },
  {
   "cell_type": "code",
   "execution_count": 4,
   "metadata": {},
   "outputs": [
    {
     "data": {
      "text/plain": [
       "True"
      ]
     },
     "execution_count": 4,
     "metadata": {},
     "output_type": "execute_result"
    }
   ],
   "source": [
    "is_lexicographically_sorted(s, A)"
   ]
  },
  {
   "cell_type": "markdown",
   "metadata": {},
   "source": [
    "### 2) Merge sort of arrays"
   ]
  },
  {
   "cell_type": "code",
   "execution_count": 5,
   "metadata": {},
   "outputs": [],
   "source": [
    "arr = [11, 3, 7, 1, 4, 0, 10, 8, 6, 9, 5, 2]"
   ]
  },
  {
   "cell_type": "code",
   "execution_count": 6,
   "metadata": {},
   "outputs": [],
   "source": [
    "def merge_sort(array):\n",
    "    def _merge_sorted_arrays(left_arr, right_arr):\n",
    "        merged = [] \n",
    "        i,j = 0,0\n",
    "        while(i<len(left_arr) and j <len(right_arr)):\n",
    "            if left_arr[i] < right_arr[j]:\n",
    "                merged.append(left_arr[i])\n",
    "                i+=1\n",
    "            else:\n",
    "                merged.append(right_arr[j])\n",
    "                j+=1\n",
    "        if i<len(left_arr):\n",
    "            merged.extend(left_arr[i:])\n",
    "        elif j<len(right_arr):\n",
    "            merged.extend(right_arr[j:])\n",
    "        return merged\n",
    "    \n",
    "    if len(array) ==0 or len(array) ==1:\n",
    "        return array\n",
    "    mid = len(array)//2\n",
    "    left_sorted = merge_sort(array[:mid])\n",
    "    right_sorted = merge_sort(array[mid:])\n",
    "    return _merge_sorted_arrays(left_sorted, right_sorted)"
   ]
  },
  {
   "cell_type": "code",
   "execution_count": 7,
   "metadata": {},
   "outputs": [
    {
     "name": "stdout",
     "output_type": "stream",
     "text": [
      "[0, 1, 2, 3, 4, 5, 6, 7, 8, 9, 10, 11]\n"
     ]
    }
   ],
   "source": [
    "print(merge_sort(arr))"
   ]
  },
  {
   "cell_type": "code",
   "execution_count": null,
   "metadata": {},
   "outputs": [],
   "source": []
  },
  {
   "cell_type": "markdown",
   "metadata": {},
   "source": [
    "### 3) Sort A K Sorted Array (nearly sorted array)\n",
    "\n",
    "Given a \"k sorted array\" return the fully sorted version of the sequence.\n",
    "\n",
    "A \"k sorted array\" is a sequence whose elements are no more than k positions left or right from their position in the fully sorted sequence. \n",
    "\n",
    "***Constraints:***\n",
    "\n",
    "- You will always be given a sequence obeying the \"k sorted\" property. \n",
    "- Your algorithm's behaviour is undefined on any non-\"k sorted\" sequence.\n"
   ]
  },
  {
   "cell_type": "code",
   "execution_count": null,
   "metadata": {},
   "outputs": [],
   "source": []
  },
  {
   "cell_type": "code",
   "execution_count": 8,
   "metadata": {},
   "outputs": [],
   "source": [
    "arr = [6, 5, 3, 2, 8, 10, 9]\n",
    "def sort_k_sorted(array, k):\n",
    "    heap = array[:k+1]\n",
    "    heapq.heapify(heap)\n",
    "    for i in range(len(array)-k-1):\n",
    "        array[i] = heapq.heappop(heap)\n",
    "        heapq.heappush(heap, array[i+k+1])\n",
    "    for i in range(len(array)-k-1, len(array)): \n",
    "        array[i] = heapq.heappop(heap)\n",
    "    return array\n",
    "    "
   ]
  },
  {
   "cell_type": "code",
   "execution_count": 9,
   "metadata": {},
   "outputs": [
    {
     "data": {
      "text/plain": [
       "[2, 3, 5, 6, 8, 9, 10]"
      ]
     },
     "execution_count": 9,
     "metadata": {},
     "output_type": "execute_result"
    }
   ],
   "source": [
    "sort_k_sorted(arr, k=3)"
   ]
  },
  {
   "cell_type": "code",
   "execution_count": 10,
   "metadata": {},
   "outputs": [
    {
     "data": {
      "text/plain": [
       "[1, 2, 3]"
      ]
     },
     "execution_count": 10,
     "metadata": {},
     "output_type": "execute_result"
    }
   ],
   "source": [
    "sorted([1,2,3])"
   ]
  },
  {
   "cell_type": "code",
   "execution_count": null,
   "metadata": {},
   "outputs": [],
   "source": []
  },
  {
   "cell_type": "markdown",
   "metadata": {},
   "source": [
    "### 4) Counting Inversions\n",
    "\n",
    "Given an array A[], we call a pair of indices (i, j) an inversion provided that both i < j and A[i] > A[j] hold.\n",
    "\n",
    "Count the number of inversions in the provided array.\n",
    "\n",
    "***Constraints:***  \n",
    "Your solution should run in O(n*log(n)) time."
   ]
  },
  {
   "cell_type": "code",
   "execution_count": 11,
   "metadata": {},
   "outputs": [],
   "source": [
    "def merge_sort(array):\n",
    "    def _merge_sorted_arrays(left_arr, right_arr, n):\n",
    "        merged = [] \n",
    "        i,j = 0,0\n",
    "        while(i<len(left_arr) and j <len(right_arr)):\n",
    "            if left_arr[i] <= right_arr[j]:\n",
    "                merged.append(left_arr[i])\n",
    "                i+=1\n",
    "            else:\n",
    "                n += len(left_arr) - i\n",
    "                merged.append(right_arr[j])\n",
    "                j+=1\n",
    "        if i<len(left_arr):\n",
    "            merged.extend(left_arr[i:])\n",
    "        elif j<len(right_arr):\n",
    "            merged.extend(right_arr[j:])\n",
    "        return merged, n\n",
    "    \n",
    "    if len(array) ==0 or len(array) ==1:\n",
    "        return array, 0\n",
    "    mid = len(array)//2\n",
    "    left_sorted, n_1 = merge_sort(array[:mid])\n",
    "    right_sorted, n_2 = merge_sort(array[mid:])\n",
    "    \n",
    "    n_sum = n_1 + n_2 \n",
    "    return _merge_sorted_arrays(left_sorted, right_sorted, n_sum)"
   ]
  },
  {
   "cell_type": "code",
   "execution_count": 12,
   "metadata": {},
   "outputs": [
    {
     "name": "stdout",
     "output_type": "stream",
     "text": [
      "0\n"
     ]
    }
   ],
   "source": [
    "#_, n = merge_sort([5,3,6,4,1,8,2,7])\n",
    "\n",
    "_, n = merge_sort([1])\n",
    "print(n)"
   ]
  },
  {
   "cell_type": "code",
   "execution_count": null,
   "metadata": {},
   "outputs": [],
   "source": []
  },
  {
   "cell_type": "markdown",
   "metadata": {},
   "source": [
    "### 5) Merge Overlapping Intervals\n",
    "\n",
    "Given a list of intervals A, return a new list with each overlapping intervals merged.\n",
    "\n",
    "Note On Equivalent Boundaries: If an end-point and start-point of 2 intervals are equivalent (ex: [10, 11], [11, 12]) then the intervals also overlap.\n",
    "\n",
    "***Constraints:***\n",
    "- For any i'th interval, A[i][0] >= 1 and A[i][1] >= 1. \n",
    "- For any i'th interval, A[i][1] >= A[i][0]. "
   ]
  },
  {
   "cell_type": "code",
   "execution_count": 13,
   "metadata": {},
   "outputs": [],
   "source": [
    "def merge_intervals(intervals):\n",
    "    solution = [] \n",
    "    for interval in sorted(intervals, key = lambda x:x[0]):\n",
    "        if not solution:\n",
    "            solution.append(interval)\n",
    "        else:\n",
    "            a1,b1 = solution[-1]\n",
    "            a2,b2 = interval\n",
    "            if a2<=b1:\n",
    "                solution[-1] = [a1, max(b1, b2)]\n",
    "            else:\n",
    "                solution.append(interval)\n",
    "    return solution"
   ]
  },
  {
   "cell_type": "code",
   "execution_count": 14,
   "metadata": {},
   "outputs": [
    {
     "name": "stdout",
     "output_type": "stream",
     "text": [
      "[[1, 3]]\n"
     ]
    }
   ],
   "source": [
    "#ints = [[1, 5], [2, 3], [4, 10], [13, 15]]\n",
    "ints = [[1,2],[2,3]]\n",
    "print(merge_intervals(ints))"
   ]
  },
  {
   "cell_type": "code",
   "execution_count": null,
   "metadata": {},
   "outputs": [],
   "source": []
  },
  {
   "cell_type": "markdown",
   "metadata": {},
   "source": [
    "### 6) Find K-closest points to origin"
   ]
  },
  {
   "cell_type": "code",
   "execution_count": 48,
   "metadata": {},
   "outputs": [],
   "source": [
    "points = [[3,3],[5,-1],[-2,4]]\n",
    "points = [(1,1), (2, 2), (3,3), (4,4), (0.5, 0.5)] \n",
    "k = 2"
   ]
  },
  {
   "cell_type": "code",
   "execution_count": 49,
   "metadata": {},
   "outputs": [],
   "source": [
    "def dist(a):\n",
    "    return (a[0]**2 + a[1]**2)**0.5 "
   ]
  },
  {
   "cell_type": "code",
   "execution_count": 67,
   "metadata": {},
   "outputs": [],
   "source": [
    "def find_closest_k(points, k):\n",
    "    k_closest_distances = []\n",
    "    heapq.heapify(k_closest_distances)\n",
    "    \n",
    "    for point in points[:k]:\n",
    "        heapq.heappush(k_closest_distances, -dist(point))\n",
    "        \n",
    "    for point in points[k:]:\n",
    "        point_dist = -dist(point)\n",
    "        if point_dist < dist(k_closest_distances):\n",
    "            heapq.heappop(k_closest_distances)\n",
    "            heapq.heappush(k_closest_distances, point_dist)\n",
    "            \n",
    "    k_closest_distances = set(k_closest_distances)\n",
    "    solution = set()\n",
    "    for point in points:\n",
    "        if -dist(point) in k_closest_distances:\n",
    "            solution.add(point)\n",
    "    return solution"
   ]
  },
  {
   "cell_type": "code",
   "execution_count": 68,
   "metadata": {},
   "outputs": [
    {
     "name": "stdout",
     "output_type": "stream",
     "text": [
      "{(0.5, 0.5), (1, 1)}\n"
     ]
    }
   ],
   "source": [
    "print(find_closest_k(points, k=2))"
   ]
  },
  {
   "cell_type": "code",
   "execution_count": null,
   "metadata": {},
   "outputs": [],
   "source": []
  },
  {
   "cell_type": "code",
   "execution_count": null,
   "metadata": {},
   "outputs": [],
   "source": []
  }
 ],
 "metadata": {
  "kernelspec": {
   "display_name": "Python 3",
   "language": "python",
   "name": "python3"
  },
  "language_info": {
   "codemirror_mode": {
    "name": "ipython",
    "version": 3
   },
   "file_extension": ".py",
   "mimetype": "text/x-python",
   "name": "python",
   "nbconvert_exporter": "python",
   "pygments_lexer": "ipython3",
   "version": "3.8.3"
  }
 },
 "nbformat": 4,
 "nbformat_minor": 4
}
