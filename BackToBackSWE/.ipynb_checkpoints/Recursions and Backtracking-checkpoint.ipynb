{
 "cells": [
  {
   "cell_type": "markdown",
   "metadata": {},
   "source": [
    "### 1) Divide and Conqure problem:\n",
    "#### Find the closest pair of points in a plane"
   ]
  },
  {
   "cell_type": "code",
   "execution_count": 11,
   "metadata": {},
   "outputs": [],
   "source": [
    "def dist(a, b):\n",
    "    return (((a[0]-b[0])**2) +((a[1]-b[1])**2))**0.5"
   ]
  },
  {
   "cell_type": "code",
   "execution_count": 12,
   "metadata": {},
   "outputs": [],
   "source": [
    "def closest_brute_force(points):\n",
    "    min_dist = float(\"inf\")\n",
    "    p1 = None\n",
    "    p2 = None\n",
    "    for i in range(len(points)):\n",
    "        for j in range(i+1, len(points)):\n",
    "            d = dist(points[i], points[j])\n",
    "            if d < min_dist:\n",
    "                min_dist = d\n",
    "                p1 = points[i]\n",
    "                p2 = points[j]\n",
    "    return p1, p2, min_dist"
   ]
  },
  {
   "cell_type": "code",
   "execution_count": 24,
   "metadata": {},
   "outputs": [],
   "source": [
    "def closest(points):\n",
    "    x_sorted = sorted(points, key=lambda point: point[0])\n",
    "    y_sorted = sorted(points, key=lambda point: point[1])\n",
    "    \n",
    "    def _recursive_find(x, y):\n",
    "        n = len(x)\n",
    "        if n<=3:\n",
    "            return closest_brute_force(x)\n",
    "        else:\n",
    "            midpoint = x[n//2]\n",
    "            x_left = x[:n//2]\n",
    "            x_right = x[n//2:]\n",
    "            y_left = []\n",
    "            y_right = []\n",
    "            for point in y:\n",
    "                y_left.append(point) if (point[0]<=midpoint[0]) else y_left.append(point)\n",
    "                \n",
    "            (p1_left, p2_left, d_l) = _recursive_find(x_left, y_left)\n",
    "            (p1_right, p2_right, d_r) = _recursive_find(x_right, y_right)\n",
    "            \n",
    "            (p1, p2, d) = (p1_left, p2_left, d_l) if (d_l<d_r) else (p1_right, p2_right, d_r)\n",
    "            \n",
    "            reduced_in_x = [point for point in y if midpoint[0] - d < point[0] < midpoint[0]+d]\n",
    "            for i in range(len(reduced_in_x)):\n",
    "                for j in range(i+1, min(i+7, len(reduced_in_x))):\n",
    "                    d_new = dist(reduced_in_x[i], reduced_in_x[j])\n",
    "                    if d_new < d:\n",
    "                        (p1, p2, d) = (reduced_in_x[i], reduced_in_x[j], d_new)\n",
    "        return p1, p2, d\n",
    "    \n",
    "    return _recursive_find(x_sorted, y_sorted)"
   ]
  },
  {
   "cell_type": "code",
   "execution_count": 25,
   "metadata": {},
   "outputs": [],
   "source": [
    "test_points = [(2,3), (12, 30), (40, 50), (5,1), (12,10), (3,4)]"
   ]
  },
  {
   "cell_type": "code",
   "execution_count": 26,
   "metadata": {},
   "outputs": [
    {
     "name": "stdout",
     "output_type": "stream",
     "text": [
      "((2, 3), (3, 4), 1.4142135623730951)\n"
     ]
    }
   ],
   "source": [
    "print(closest(test_points))"
   ]
  },
  {
   "cell_type": "code",
   "execution_count": null,
   "metadata": {},
   "outputs": [],
   "source": []
  }
 ],
 "metadata": {
  "kernelspec": {
   "display_name": "Python 3",
   "language": "python",
   "name": "python3"
  },
  "language_info": {
   "codemirror_mode": {
    "name": "ipython",
    "version": 3
   },
   "file_extension": ".py",
   "mimetype": "text/x-python",
   "name": "python",
   "nbconvert_exporter": "python",
   "pygments_lexer": "ipython3",
   "version": "3.8.3"
  }
 },
 "nbformat": 4,
 "nbformat_minor": 4
}
