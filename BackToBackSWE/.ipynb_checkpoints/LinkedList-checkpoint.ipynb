{
 "cells": [
  {
   "cell_type": "markdown",
   "metadata": {},
   "source": [
    "## Linked List problems"
   ]
  },
  {
   "cell_type": "markdown",
   "metadata": {},
   "source": [
    "- Create a linked list.\n",
    "- Traverse with a dummy node. \n",
    "- Partition to even and odd. \n",
    "- find middle. \n",
    "- reverse (iteratively and recursively). \n",
    "- Doubly linked lists. "
   ]
  },
  {
   "cell_type": "code",
   "execution_count": 19,
   "metadata": {},
   "outputs": [],
   "source": [
    "class LinkedList:\n",
    "    class _Node:\n",
    "        def __init__(self, value=None):\n",
    "            self.value = value\n",
    "            self.next = None\n",
    "    \n",
    "    def __init__(self):\n",
    "        self.head=self._Node()\n",
    "    \n",
    "    def add_last(self, value):\n",
    "        current = self.head\n",
    "        while(current.next is not None):\n",
    "            current = current.next\n",
    "        current.next = self._Node(value)\n",
    "    \n",
    "    def get_beginning(self):\n",
    "        return self.head.next\n",
    "    \n",
    "    def __repr__(self):\n",
    "        items = []\n",
    "        current = self.head.next\n",
    "        while(current is not None):\n",
    "            items.append(current.value)\n",
    "            current = current.next\n",
    "        return ''.join([str(item)+' -> ' for item in items]) "
   ]
  },
  {
   "cell_type": "code",
   "execution_count": 20,
   "metadata": {},
   "outputs": [
    {
     "name": "stdout",
     "output_type": "stream",
     "text": [
      "1 -> 2 -> 3 -> 4 -> \n"
     ]
    }
   ],
   "source": [
    "ls = LinkedList()\n",
    "arr = [1, 2, 3, 4]\n",
    "for item in arr:\n",
    "    ls.add_last(item)\n",
    "print(ls)"
   ]
  },
  {
   "cell_type": "code",
   "execution_count": null,
   "metadata": {},
   "outputs": [],
   "source": []
  }
 ],
 "metadata": {
  "kernelspec": {
   "display_name": "Python 3",
   "language": "python",
   "name": "python3"
  },
  "language_info": {
   "codemirror_mode": {
    "name": "ipython",
    "version": 3
   },
   "file_extension": ".py",
   "mimetype": "text/x-python",
   "name": "python",
   "nbconvert_exporter": "python",
   "pygments_lexer": "ipython3",
   "version": "3.8.3"
  }
 },
 "nbformat": 4,
 "nbformat_minor": 4
}
