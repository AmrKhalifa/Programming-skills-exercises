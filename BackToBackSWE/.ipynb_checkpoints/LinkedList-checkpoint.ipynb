{
 "cells": [
  {
   "cell_type": "markdown",
   "metadata": {},
   "source": [
    "## Linked List problems"
   ]
  },
  {
   "cell_type": "markdown",
   "metadata": {},
   "source": [
    "- *Create a linked list.*\n",
    "- *Traverse with a dummy node.* \n",
    "- Partition to even and odd. \n",
    "- *find middle.* \n",
    "- reverse (iteratively and recursively). \n",
    "- Doubly linked lists. "
   ]
  },
  {
   "cell_type": "code",
   "execution_count": 221,
   "metadata": {},
   "outputs": [],
   "source": [
    "class LinkedList:\n",
    "    class _Node:\n",
    "        def __init__(self, value=None):\n",
    "            self.value = value\n",
    "            self.next = None\n",
    "    \n",
    "    def __init__(self):\n",
    "        self.head=self._Node()\n",
    "    \n",
    "    def add_last(self, value):\n",
    "        current = self.head\n",
    "        while(current.next is not None):\n",
    "            current = current.next\n",
    "        current.next = self._Node(value)\n",
    "    \n",
    "    def get_beginning(self):\n",
    "        return self.head.next\n",
    "    \n",
    "    def __repr__(self):\n",
    "        items = []\n",
    "        current = self.head.next\n",
    "        while(current is not None):\n",
    "            items.append(current.value)\n",
    "            current = current.next\n",
    "        return ''.join([str(item)+' -> ' for item in items]) "
   ]
  },
  {
   "cell_type": "code",
   "execution_count": 222,
   "metadata": {},
   "outputs": [
    {
     "name": "stdout",
     "output_type": "stream",
     "text": [
      "1 -> 2 -> 3 -> 4 -> 5 -> \n"
     ]
    }
   ],
   "source": [
    "ls = LinkedList()\n",
    "arr = [1, 2, 3, 4, 5]\n",
    "for item in arr:\n",
    "    ls.add_last(item)\n",
    "print(ls)"
   ]
  },
  {
   "cell_type": "markdown",
   "metadata": {},
   "source": [
    "### get middle of a linked list"
   ]
  },
  {
   "cell_type": "code",
   "execution_count": 223,
   "metadata": {},
   "outputs": [],
   "source": [
    "ls = LinkedList()\n",
    "arr = [1,2,3,4,5,6,7]\n",
    "arr = [1,2,3,4,5,6]\n",
    "for item in arr:\n",
    "    ls.add_last(item)"
   ]
  },
  {
   "cell_type": "code",
   "execution_count": 224,
   "metadata": {},
   "outputs": [],
   "source": [
    "def get_middle(linkedlist):\n",
    "    slow, fast = linkedlist.get_beginning(), linkedlist.get_beginning()\n",
    "    while(fast is not None and fast.next is not None):\n",
    "        slow = slow.next\n",
    "        fast = fast.next.next\n",
    "    return slow\n"
   ]
  },
  {
   "cell_type": "code",
   "execution_count": 225,
   "metadata": {},
   "outputs": [
    {
     "data": {
      "text/plain": [
       "4"
      ]
     },
     "execution_count": 225,
     "metadata": {},
     "output_type": "execute_result"
    }
   ],
   "source": [
    "middle = get_middle(ls)\n",
    "middle.value"
   ]
  },
  {
   "cell_type": "code",
   "execution_count": 239,
   "metadata": {},
   "outputs": [
    {
     "name": "stdout",
     "output_type": "stream",
     "text": [
      "2 -> 4 -> 6 -> 8 -> \n",
      "1 -> 3 -> 5 -> 7 -> 9 -> \n"
     ]
    }
   ],
   "source": [
    "ls_1 = LinkedList()\n",
    "ls_2 = LinkedList()\n",
    "items = [1,2,3,4,5,6,7,8,9]\n",
    "for item in items:\n",
    "    if item%2==0:\n",
    "        ls_1.add_last(item)\n",
    "    else:\n",
    "        ls_2.add_last(item)\n",
    "\n",
    "print(ls_1)\n",
    "print(ls_2)\n",
    "\n",
    "def merge_sorted_lists(l1, l2):\n",
    "    if l1 == None:\n",
    "        return l2\n",
    "    elif l2 == None:\n",
    "        return l1\n",
    "    \n",
    "    ptr1 = l1.get_beginning()\n",
    "    ptr2 = l2.get_beginning()\n",
    "    \n",
    "    if ptr1.value < ptr2.value:\n",
    "        dummy=ptr1\n",
    "    else:\n",
    "        dummy=ptr2\n",
    "    current = dummy \n",
    "    while(ptr1 is not None and ptr2 is not None):\n",
    "        if ptr1.value < ptr2.value:\n",
    "            temp = ptr1\n",
    "            ptr1 = ptr1.next \n",
    "            current.next = temp\n",
    "        else:\n",
    "            temp = ptr2\n",
    "            ptr2 = ptr2.next \n",
    "            current.next = temp\n",
    "        current = current.next\n",
    "    \n",
    "    if ptr1 is None and ptr2 is not None:\n",
    "        current.next = ptr2\n",
    "    elif ptr2 is None and ptr1 is not None:\n",
    "        current.next = ptr1\n",
    "        \n",
    "    return dummy"
   ]
  },
  {
   "cell_type": "code",
   "execution_count": 240,
   "metadata": {},
   "outputs": [
    {
     "name": "stdout",
     "output_type": "stream",
     "text": [
      "1->2->3->4->5->6->7->8->9->"
     ]
    }
   ],
   "source": [
    "connected = merge_sorted_lists(ls_1, ls_2)\n",
    "while(connected is not None):\n",
    "    print(connected.value, end = \"->\")\n",
    "    connected = connected.next"
   ]
  },
  {
   "cell_type": "code",
   "execution_count": 241,
   "metadata": {},
   "outputs": [
    {
     "name": "stdout",
     "output_type": "stream",
     "text": [
      "1 -> 2 -> 3 -> 4 -> 5 -> \n"
     ]
    }
   ],
   "source": [
    "ls = LinkedList()\n",
    "arr = [1, 2, 3, 4, 5]\n",
    "for item in arr:\n",
    "    ls.add_last(item)\n",
    "print(ls)"
   ]
  },
  {
   "cell_type": "code",
   "execution_count": 242,
   "metadata": {},
   "outputs": [],
   "source": [
    "def reverse_linkedlist(head):\n",
    "    prev = None\n",
    "    current = head\n",
    "    while(current is not None):\n",
    "        temp = current.next \n",
    "        \n",
    "        current.next = prev \n",
    "        prev = current\n",
    "        current = temp\n",
    "    return prev"
   ]
  },
  {
   "cell_type": "code",
   "execution_count": 244,
   "metadata": {},
   "outputs": [],
   "source": [
    "new_list_head = reverse_linkedlist(ls.get_beginning())"
   ]
  },
  {
   "cell_type": "code",
   "execution_count": 266,
   "metadata": {},
   "outputs": [],
   "source": [
    "while(new_list_head is not None):\n",
    "    print(new_list_head.value, end = \"->\")\n",
    "    new_list_head = new_list_head.next"
   ]
  },
  {
   "cell_type": "code",
   "execution_count": 275,
   "metadata": {},
   "outputs": [],
   "source": [
    "def reverse(head):\n",
    "    heads =[None]\n",
    "    def _recursive_reverse(node):\n",
    "        if node.next == None:\n",
    "            heads[0]= node\n",
    "            return node\n",
    "        else:\n",
    "            n = _recursive_reverse(node.next)\n",
    "            n.next = node\n",
    "        return node \n",
    "    \n",
    "    _recursive_reverse(head)\n",
    "    head.next = None \n",
    "    return heads[0]"
   ]
  },
  {
   "cell_type": "code",
   "execution_count": 276,
   "metadata": {},
   "outputs": [
    {
     "name": "stdout",
     "output_type": "stream",
     "text": [
      "1 -> 2 -> 3 -> 4 -> 5 -> \n"
     ]
    }
   ],
   "source": [
    "ls = LinkedList()\n",
    "arr = [1, 2, 3, 4, 5]\n",
    "for item in arr:\n",
    "    ls.add_last(item)\n",
    "print(ls)"
   ]
  },
  {
   "cell_type": "code",
   "execution_count": 277,
   "metadata": {},
   "outputs": [],
   "source": [
    "head = reverse(ls.get_beginning())"
   ]
  },
  {
   "cell_type": "code",
   "execution_count": 278,
   "metadata": {},
   "outputs": [
    {
     "name": "stdout",
     "output_type": "stream",
     "text": [
      "5->4->3->2->1->"
     ]
    }
   ],
   "source": [
    "while(head is not None):\n",
    "    print(head.value, end = \"->\")\n",
    "    head = head.next"
   ]
  },
  {
   "cell_type": "code",
   "execution_count": null,
   "metadata": {},
   "outputs": [],
   "source": []
  }
 ],
 "metadata": {
  "kernelspec": {
   "display_name": "Python 3",
   "language": "python",
   "name": "python3"
  },
  "language_info": {
   "codemirror_mode": {
    "name": "ipython",
    "version": 3
   },
   "file_extension": ".py",
   "mimetype": "text/x-python",
   "name": "python",
   "nbconvert_exporter": "python",
   "pygments_lexer": "ipython3",
   "version": "3.8.3"
  }
 },
 "nbformat": 4,
 "nbformat_minor": 4
}
