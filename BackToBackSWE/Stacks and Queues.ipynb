{
 "cells": [
  {
   "cell_type": "markdown",
   "metadata": {},
   "source": [
    "### Stacks and Queues problems"
   ]
  },
  {
   "cell_type": "markdown",
   "metadata": {},
   "source": [
    "### 1) The Balanced Parentheses Problem\n",
    "You are given a string with 3 types of tokens, each with an \"open\" type and \"closed\" type. A string is \"balanced\" if all open tokes of a certain type are closed appropriately. Given a string s, return true if it is balanced, return false otherwise.\n",
    "\n",
    "***Opening tokens:***\n",
    "- An open parenthesis (\n",
    "- An open bracket [\n",
    "- An open brace {\n",
    "\n",
    "***Closing tokens:***\n",
    "- A closing parenthesis )\n",
    "- A closing bracket ]\n",
    "- A closing brace }\n",
    "\n",
    "***Constraints:***\n",
    "- A token can only close the corresponding opening token of its same type\n",
    "- The string will be well-formed (only contain the tokens discussed and no other types of characters)"
   ]
  },
  {
   "cell_type": "code",
   "execution_count": 75,
   "metadata": {},
   "outputs": [],
   "source": [
    "def is_balanced(string):\n",
    "    match_dict = {'}':'{', ')':'(', ']':'['}\n",
    "    stack = []\n",
    "    for char in string:\n",
    "        if char not in match_dict and char in set(['(', '[', '{']):\n",
    "            stack.append(char)\n",
    "        elif char in match_dict:\n",
    "            if len(stack) == 0:\n",
    "                return False\n",
    "            match = stack.pop()\n",
    "            if match == match_dict[char]:\n",
    "                continue\n",
    "            else:\n",
    "                return False\n",
    "    if len(stack) != 0:\n",
    "        return False\n",
    "    return True "
   ]
  },
  {
   "cell_type": "code",
   "execution_count": 76,
   "metadata": {},
   "outputs": [
    {
     "data": {
      "text/plain": [
       "True"
      ]
     },
     "execution_count": 76,
     "metadata": {},
     "output_type": "execute_result"
    }
   ],
   "source": [
    "is_balanced('{()[[]((){})]}')"
   ]
  },
  {
   "cell_type": "code",
   "execution_count": null,
   "metadata": {},
   "outputs": [],
   "source": []
  }
 ],
 "metadata": {
  "kernelspec": {
   "display_name": "Python 3",
   "language": "python",
   "name": "python3"
  },
  "language_info": {
   "codemirror_mode": {
    "name": "ipython",
    "version": 3
   },
   "file_extension": ".py",
   "mimetype": "text/x-python",
   "name": "python",
   "nbconvert_exporter": "python",
   "pygments_lexer": "ipython3",
   "version": "3.8.3"
  }
 },
 "nbformat": 4,
 "nbformat_minor": 4
}
