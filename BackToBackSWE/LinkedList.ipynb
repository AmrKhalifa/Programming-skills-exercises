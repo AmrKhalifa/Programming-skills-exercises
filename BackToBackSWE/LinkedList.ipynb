{
 "cells": [
  {
   "cell_type": "markdown",
   "metadata": {},
   "source": [
    "## Linked List problems"
   ]
  },
  {
   "cell_type": "code",
   "execution_count": 87,
   "metadata": {},
   "outputs": [],
   "source": [
    "class LinkedList:\n",
    "    class _Node:\n",
    "        def __init__(self, value=None):\n",
    "            self.value = value\n",
    "            self.next = None\n",
    "    \n",
    "    def __init__(self):\n",
    "        self.head=self._Node()\n",
    "    \n",
    "    def add_last(self, value):\n",
    "        current = self.head\n",
    "        while(current.next is not None):\n",
    "            current = current.next\n",
    "        current.next = self._Node(value)\n",
    "    \n",
    "    def get_beginning(self):\n",
    "        return self.head.next\n",
    "    \n",
    "    def __repr__(self):\n",
    "        items = []\n",
    "        current = self.head.next\n",
    "        while(current is not None):\n",
    "            items.append(current.value)\n",
    "            current = current.next\n",
    "        return ''.join([str(item)+' -> ' for item in items]) "
   ]
  },
  {
   "cell_type": "code",
   "execution_count": 115,
   "metadata": {},
   "outputs": [],
   "source": [
    "def print_list_from_head(head):\n",
    "    current = head \n",
    "    while(current is not None):\n",
    "        print(current.value, end = \" -> \")\n",
    "        current = current.next\n",
    "    print(\" X \")"
   ]
  },
  {
   "cell_type": "code",
   "execution_count": 116,
   "metadata": {},
   "outputs": [
    {
     "name": "stdout",
     "output_type": "stream",
     "text": [
      "1 -> 2 -> 3 -> 4 -> 5 -> \n"
     ]
    }
   ],
   "source": [
    "ls = LinkedList()\n",
    "arr = [1, 2, 3, 4, 5]\n",
    "for item in arr:\n",
    "    ls.add_last(item)\n",
    "print(ls)"
   ]
  },
  {
   "cell_type": "markdown",
   "metadata": {},
   "source": [
    "### 1) get middle of a linked list"
   ]
  },
  {
   "cell_type": "code",
   "execution_count": 117,
   "metadata": {},
   "outputs": [],
   "source": [
    "ls = LinkedList()\n",
    "arr = [1,2,3,4,5,6,7]\n",
    "arr = [1,2,3,4,5,6]\n",
    "for item in arr:\n",
    "    ls.add_last(item)"
   ]
  },
  {
   "cell_type": "code",
   "execution_count": 118,
   "metadata": {},
   "outputs": [],
   "source": [
    "def get_middle(l):\n",
    "    if type(l) is LinkedList: \n",
    "        slow, prev, fast = l.get_beginning(), l.get_beginning(), l.get_beginning()\n",
    "    elif type(l) is LinkedList._Node:\n",
    "        slow, prev, fast = l, l, l\n",
    "    while(fast is not None and fast.next is not None):\n",
    "        prev = slow\n",
    "        slow = slow.next\n",
    "        fast = fast.next.next\n",
    "    prev.next = None\n",
    "    return slow\n"
   ]
  },
  {
   "cell_type": "code",
   "execution_count": 119,
   "metadata": {},
   "outputs": [
    {
     "data": {
      "text/plain": [
       "4"
      ]
     },
     "execution_count": 119,
     "metadata": {},
     "output_type": "execute_result"
    }
   ],
   "source": [
    "middle = get_middle(ls)\n",
    "middle.value"
   ]
  },
  {
   "cell_type": "markdown",
   "metadata": {},
   "source": [
    "### 2) Merge two sorted linked lists"
   ]
  },
  {
   "cell_type": "code",
   "execution_count": 120,
   "metadata": {},
   "outputs": [
    {
     "name": "stdout",
     "output_type": "stream",
     "text": [
      "2 -> 4 -> 6 -> 8 -> \n",
      "1 -> 3 -> 5 -> 7 -> 9 -> \n"
     ]
    }
   ],
   "source": [
    "ls_1 = LinkedList()\n",
    "ls_2 = LinkedList()\n",
    "items = [1,2,3,4,5,6,7,8,9]\n",
    "for item in items:\n",
    "    if item%2==0:\n",
    "        ls_1.add_last(item)\n",
    "    else:\n",
    "        ls_2.add_last(item)\n",
    "\n",
    "print(ls_1)\n",
    "print(ls_2)\n",
    "\n",
    "def merge_sorted_lists(l1, l2):\n",
    "    if l1 == None:\n",
    "        return l2\n",
    "    elif l2 == None:\n",
    "        return l1\n",
    "    if type(l1) and type(l2) is LinkedList:\n",
    "        ptr1 = l1.get_beginning()\n",
    "        ptr2 = l2.get_beginning()\n",
    "    elif type(l1) and type(l2) is LinkedList._Node:\n",
    "        ptr1 = l1\n",
    "        ptr2 = l2\n",
    "    dummy = LinkedList._Node()\n",
    "    if ptr1.value <= ptr2.value:\n",
    "        dummy.next = ptr1\n",
    "    else:\n",
    "        dummy.next = ptr2\n",
    "    current = dummy.next  \n",
    "    while(ptr1 is not None and ptr2 is not None):\n",
    "        if ptr1.value <= ptr2.value:\n",
    "            temp = ptr1\n",
    "            ptr1 = ptr1.next \n",
    "            current.next = temp\n",
    "        else:\n",
    "            temp = ptr2\n",
    "            ptr2 = ptr2.next \n",
    "            current.next = temp\n",
    "        current = current.next\n",
    "    \n",
    "    if ptr1 is None and ptr2 is not None:\n",
    "        current.next = ptr2\n",
    "    elif ptr2 is None and ptr1 is not None:\n",
    "        current.next = ptr1\n",
    "        \n",
    "    return dummy.next "
   ]
  },
  {
   "cell_type": "code",
   "execution_count": 122,
   "metadata": {},
   "outputs": [
    {
     "name": "stdout",
     "output_type": "stream",
     "text": [
      "1 -> 2 -> 3 -> 4 -> 5 -> 6 -> 7 -> 8 -> 9 ->  X \n"
     ]
    }
   ],
   "source": [
    "connected = merge_sorted_lists(ls_1, ls_2)\n",
    "print_list_from_head(connected)"
   ]
  },
  {
   "cell_type": "markdown",
   "metadata": {},
   "source": [
    "### 3) Reverse a linked list"
   ]
  },
  {
   "cell_type": "code",
   "execution_count": 123,
   "metadata": {},
   "outputs": [
    {
     "name": "stdout",
     "output_type": "stream",
     "text": [
      "1 -> 2 -> 3 -> 4 -> 5 -> \n"
     ]
    }
   ],
   "source": [
    "ls = LinkedList()\n",
    "arr = [1, 2, 3, 4, 5]\n",
    "for item in arr:\n",
    "    ls.add_last(item)\n",
    "print(ls)"
   ]
  },
  {
   "cell_type": "code",
   "execution_count": 124,
   "metadata": {},
   "outputs": [],
   "source": [
    "def reverse_linkedlist(head):\n",
    "    prev = None\n",
    "    current = head\n",
    "    while(current is not None):\n",
    "        temp = current.next \n",
    "        current.next = prev \n",
    "        prev = current\n",
    "        current = temp\n",
    "    return prev"
   ]
  },
  {
   "cell_type": "code",
   "execution_count": 126,
   "metadata": {},
   "outputs": [
    {
     "name": "stdout",
     "output_type": "stream",
     "text": [
      "5 -> 4 -> 3 -> 2 -> 1 ->  X \n"
     ]
    }
   ],
   "source": [
    "new_list_head = reverse_linkedlist(ls.get_beginning())\n",
    "print_list_from_head(new_list_head)"
   ]
  },
  {
   "cell_type": "code",
   "execution_count": 127,
   "metadata": {},
   "outputs": [],
   "source": [
    "def reverse(head):\n",
    "    heads =[None]\n",
    "    def _recursive_reverse(node):\n",
    "        if node.next == None:\n",
    "            heads[0]= node\n",
    "            return node\n",
    "        else:\n",
    "            n = _recursive_reverse(node.next)\n",
    "            n.next = node\n",
    "        return node \n",
    "    \n",
    "    _recursive_reverse(head)\n",
    "    head.next = None \n",
    "    return heads[0]"
   ]
  },
  {
   "cell_type": "code",
   "execution_count": 128,
   "metadata": {},
   "outputs": [
    {
     "name": "stdout",
     "output_type": "stream",
     "text": [
      "1 -> 2 -> 3 -> 4 -> 5 -> \n"
     ]
    }
   ],
   "source": [
    "ls = LinkedList()\n",
    "arr = [1, 2, 3, 4, 5]\n",
    "for item in arr:\n",
    "    ls.add_last(item)\n",
    "print(ls)"
   ]
  },
  {
   "cell_type": "code",
   "execution_count": 129,
   "metadata": {},
   "outputs": [
    {
     "name": "stdout",
     "output_type": "stream",
     "text": [
      "5 -> 4 -> 3 -> 2 -> 1 ->  X \n"
     ]
    }
   ],
   "source": [
    "head = reverse(ls.get_beginning())\n",
    "print_list_from_head(head)"
   ]
  },
  {
   "cell_type": "code",
   "execution_count": null,
   "metadata": {},
   "outputs": [],
   "source": []
  },
  {
   "cell_type": "markdown",
   "metadata": {},
   "source": [
    "### 4) Even Odd Partition\n",
    "\n",
    "\n",
    "Given a singly linked list, arrange the nodes such that all even index nodes appear before the odd index nodes.\n",
    "\n",
    "When we refer to \"index\" we are referring to the node's zero-indexed position in the input (original) list.\n",
    "\n",
    "The relative ordering of the nodes within the same region must be maintained.\n",
    "\n",
    "\n",
    "***Constraints:***\n",
    "\n",
    "- The arrangement must be performed using O(1) space"
   ]
  },
  {
   "cell_type": "code",
   "execution_count": 131,
   "metadata": {},
   "outputs": [
    {
     "name": "stdout",
     "output_type": "stream",
     "text": [
      "1 -> 2 -> 3 -> 4 -> 5 -> 6 -> 7 -> 8 -> 9 -> 10 -> 11 -> \n"
     ]
    }
   ],
   "source": [
    "ls = LinkedList()\n",
    "arr = [1, 2, 3, 4, 5, 6, 7, 8, 9, 10, 11]\n",
    "for item in arr:\n",
    "    ls.add_last(item)\n",
    "print(ls)"
   ]
  },
  {
   "cell_type": "code",
   "execution_count": 132,
   "metadata": {},
   "outputs": [],
   "source": [
    "def split_linked_list(head):\n",
    "    current = head \n",
    "    even_head = LinkedList._Node()\n",
    "    even_iter = even_head\n",
    "    odd_head = LinkedList._Node() \n",
    "    odd_iter = odd_head \n",
    "    \n",
    "    while current is not None:\n",
    "        if current.value % 2 ==0:\n",
    "            even_iter.next = current\n",
    "            even_iter = even_iter.next \n",
    "        else:\n",
    "            odd_iter.next = current\n",
    "            odd_iter = odd_iter.next \n",
    "        current = current.next \n",
    "    \n",
    "    joined = odd_head.next \n",
    "    odd_iter.next = even_head.next\n",
    "    even_iter.next = None\n",
    "    return joined "
   ]
  },
  {
   "cell_type": "code",
   "execution_count": 133,
   "metadata": {},
   "outputs": [
    {
     "name": "stdout",
     "output_type": "stream",
     "text": [
      "1 -> 3 -> 5 -> 7 -> 9 -> 11 -> 2 -> 4 -> 6 -> 8 -> 10 ->  X \n"
     ]
    }
   ],
   "source": [
    "splitted = split_linked_list(ls.get_beginning())\n",
    "print_list_from_head(splitted)"
   ]
  },
  {
   "cell_type": "code",
   "execution_count": null,
   "metadata": {},
   "outputs": [],
   "source": []
  },
  {
   "cell_type": "markdown",
   "metadata": {},
   "source": [
    "### 5) Merge sort of two linkedlists "
   ]
  },
  {
   "cell_type": "code",
   "execution_count": 134,
   "metadata": {},
   "outputs": [],
   "source": [
    "def merge_sort(head):\n",
    "    if head is None or head.next is None:\n",
    "        return head\n",
    "    \n",
    "    mid = get_middle(head)\n",
    "    left_sorted = merge_sort(head)\n",
    "    right_sorted = merge_sort(mid)\n",
    "    \n",
    "    return merge_sorted_lists(left_sorted, right_sorted)"
   ]
  },
  {
   "cell_type": "code",
   "execution_count": 138,
   "metadata": {},
   "outputs": [
    {
     "name": "stdout",
     "output_type": "stream",
     "text": [
      "11 -> 2 -> 5 -> 8 -> 6 -> 4 -> 10 -> 0 -> 1 -> 9 -> 3 -> 7 -> \n"
     ]
    }
   ],
   "source": [
    "ls = LinkedList()\n",
    "arr = [11, 2, 5, 8, 6, 4, 10, 0, 1, 9, 3, 7]\n",
    "for item in arr:\n",
    "    ls.add_last(item)\n",
    "print(ls)"
   ]
  },
  {
   "cell_type": "code",
   "execution_count": 139,
   "metadata": {},
   "outputs": [
    {
     "name": "stdout",
     "output_type": "stream",
     "text": [
      "0 -> 1 -> 2 -> 3 -> 4 -> 5 -> 6 -> 7 -> 8 -> 9 -> 10 -> 11 ->  X \n"
     ]
    }
   ],
   "source": [
    "sorted_array = merge_sort(ls.get_beginning())\n"
   ]
  },
  {
   "cell_type": "code",
   "execution_count": 140,
   "metadata": {},
   "outputs": [
    {
     "name": "stdout",
     "output_type": "stream",
     "text": [
      "0 -> 1 -> 2 -> 3 -> 4 -> 5 -> 6 -> 7 -> 8 -> 9 -> 10 -> 11 ->  X \n"
     ]
    }
   ],
   "source": [
    "print_list_from_head(sorted_array)"
   ]
  },
  {
   "cell_type": "markdown",
   "metadata": {},
   "source": [
    "### 6) Testing For Overlapping Lists (No Cycles)\n",
    "\n",
    "Given two acyclic linked lists (no cycles) l1 and l2, determine if they overlap.\n",
    "If they overlap return the node that marks the merge point of the two lists, otherwise, return null.\n",
    "\n",
    "***Follow-Up:***\n",
    "- Can you do this in O(1) space?\n"
   ]
  },
  {
   "cell_type": "code",
   "execution_count": 141,
   "metadata": {},
   "outputs": [],
   "source": [
    "def get_length(head):\n",
    "    if head is None:\n",
    "        return 0 \n",
    "    length = 0\n",
    "    current = head \n",
    "    while(current is not None):\n",
    "        length+=1\n",
    "        current = current.next\n",
    "    return length"
   ]
  },
  {
   "cell_type": "code",
   "execution_count": 142,
   "metadata": {},
   "outputs": [
    {
     "name": "stdout",
     "output_type": "stream",
     "text": [
      "11 -> 2 -> 5 -> 8 -> 6 -> 4 -> 10 -> 0 -> 1 -> 9 -> 3 -> 7 -> \n",
      "\n",
      "length is: 12\n"
     ]
    }
   ],
   "source": [
    "ls = LinkedList()\n",
    "arr = [11, 2, 5, 8, 6, 4, 10, 0, 1, 9, 3, 7]\n",
    "for item in arr:\n",
    "    ls.add_last(item)\n",
    "print(ls)\n",
    "print(\"\")\n",
    "print(f\"length is: {get_length(ls.get_beginning())}\")"
   ]
  },
  {
   "cell_type": "code",
   "execution_count": 155,
   "metadata": {},
   "outputs": [],
   "source": [
    "def get_intersection(head_1, head_2):\n",
    "    length_1 = get_length(head_1)\n",
    "    length_2 = get_length(head_2)\n",
    "    cur_1 = head_1\n",
    "    cur_2 = head_2 \n",
    "    if length_1 == 0 or length_2 ==0:\n",
    "        return None\n",
    "    else:\n",
    "        for i in range(abs(length_1 - length_2)): # advance current of shortest linked list\n",
    "            if length_1 > length_2:\n",
    "                cur_1 = cur_1.next \n",
    "            else:\n",
    "                cur_2 = cur_2.next\n",
    "                \n",
    "        while(cur_1 is not None or cur_2 is not None): # find intersection \n",
    "            if cur_1 == cur_2:\n",
    "                return cur_1\n",
    "            cur_1 = cur_1.next\n",
    "            cur_2 = cur_2.next\n",
    "        return None "
   ]
  },
  {
   "cell_type": "code",
   "execution_count": 159,
   "metadata": {},
   "outputs": [
    {
     "name": "stdout",
     "output_type": "stream",
     "text": [
      "1 -> 2 -> 3 -> 77 -> 5 -> 6 -> \n",
      "3 -> 4 -> \n",
      "3 -> 4 -> 77 -> 5 -> 6 -> \n"
     ]
    }
   ],
   "source": [
    "ls = LinkedList()\n",
    "arr = [1, 2, 3, 77, 5, 6]\n",
    "for item in arr:\n",
    "    ls.add_last(item)\n",
    "print(ls)\n",
    "\n",
    "ls_2 = LinkedList()\n",
    "ls_2.add_last(3)\n",
    "ls_2.add_last(4)\n",
    "\n",
    "head_2 = ls_2.get_beginning()\n",
    "print(ls_2)\n",
    "\n",
    "cur_2 = head_2\n",
    "cur_2 = cur_2.next\n",
    "\n",
    "head_1 = ls.get_beginning()\n",
    "cur_1 = head_1 \n",
    "for i in range(3):\n",
    "    cur_1 = cur_1.next\n",
    "cur_2.next = cur_1\n",
    "print(ls_2)"
   ]
  },
  {
   "cell_type": "code",
   "execution_count": 160,
   "metadata": {},
   "outputs": [
    {
     "data": {
      "text/plain": [
       "77"
      ]
     },
     "execution_count": 160,
     "metadata": {},
     "output_type": "execute_result"
    }
   ],
   "source": [
    "intersection = get_intersection(head_1, head_2)\n",
    "intersection.value"
   ]
  },
  {
   "cell_type": "markdown",
   "metadata": {},
   "source": [
    "### 7) Remove kth To Last Element\n",
    "\n",
    "Given a linked list, remove the k'th to last element, and return the head of the new linked list.\n",
    "\n",
    "***Constraints:***\n",
    "\n",
    "1 <= k <= linked list size"
   ]
  },
  {
   "cell_type": "code",
   "execution_count": 170,
   "metadata": {},
   "outputs": [
    {
     "name": "stdout",
     "output_type": "stream",
     "text": [
      "1 -> 2 -> 3 -> 4 -> 5 -> 6 -> 7 -> 8 -> 77 -> 5 -> 6 -> \n"
     ]
    }
   ],
   "source": [
    "ls = LinkedList()\n",
    "arr = [1, 2, 3, 4, 5, 6, 7, 8, 77, 5, 6]\n",
    "for item in arr:\n",
    "    ls.add_last(item)\n",
    "print(ls)"
   ]
  },
  {
   "cell_type": "code",
   "execution_count": 171,
   "metadata": {},
   "outputs": [],
   "source": [
    "def remove_kth_to_last(head, k):\n",
    "    dummy = LinkedList._Node()\n",
    "    dummy.next = head \n",
    "    itr = dummy  \n",
    "    before_k = dummy \n",
    "    counter = 0\n",
    "    while(itr is not None): \n",
    "        itr = itr.next \n",
    "        counter += 1 \n",
    "        if counter > k+1:\n",
    "            before_k = before_k.next \n",
    "    \n",
    "    before_k.next = before_k.next.next \n",
    "    \n",
    "    return dummy.next "
   ]
  },
  {
   "cell_type": "code",
   "execution_count": 172,
   "metadata": {},
   "outputs": [
    {
     "name": "stdout",
     "output_type": "stream",
     "text": [
      "1 -> 2 -> 3 -> 4 -> 5 -> 6 -> 7 -> 8 -> 77 -> 6 ->  X \n"
     ]
    }
   ],
   "source": [
    "new_head = remove_kth_to_last(ls.get_beginning(), k=2)\n",
    "print_list_from_head(new_head)"
   ]
  },
  {
   "cell_type": "code",
   "execution_count": null,
   "metadata": {},
   "outputs": [],
   "source": []
  }
 ],
 "metadata": {
  "kernelspec": {
   "display_name": "Python 3",
   "language": "python",
   "name": "python3"
  },
  "language_info": {
   "codemirror_mode": {
    "name": "ipython",
    "version": 3
   },
   "file_extension": ".py",
   "mimetype": "text/x-python",
   "name": "python",
   "nbconvert_exporter": "python",
   "pygments_lexer": "ipython3",
   "version": "3.8.3"
  }
 },
 "nbformat": 4,
 "nbformat_minor": 4
}
