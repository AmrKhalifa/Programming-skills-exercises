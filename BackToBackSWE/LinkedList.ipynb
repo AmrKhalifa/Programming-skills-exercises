{
 "cells": [
  {
   "cell_type": "markdown",
   "metadata": {},
   "source": [
    "## Linked List problems"
   ]
  },
  {
   "cell_type": "markdown",
   "metadata": {},
   "source": [
    "- *Create a linked list.*\n",
    "- *Traverse with a dummy node.* \n",
    "- Partition to even and odd. \n",
    "- *find middle.* \n",
    "- reverse (iteratively and recursively). \n",
    "- Doubly linked lists. "
   ]
  },
  {
   "cell_type": "code",
   "execution_count": 131,
   "metadata": {},
   "outputs": [],
   "source": [
    "class LinkedList:\n",
    "    class _Node:\n",
    "        def __init__(self, value=None):\n",
    "            self.value = value\n",
    "            self.next = None\n",
    "    \n",
    "    def __init__(self):\n",
    "        self.head=self._Node()\n",
    "    \n",
    "    def add_last(self, value):\n",
    "        current = self.head\n",
    "        while(current.next is not None):\n",
    "            current = current.next\n",
    "        current.next = self._Node(value)\n",
    "    \n",
    "    def get_beginning(self):\n",
    "        return self.head.next\n",
    "    \n",
    "    def __repr__(self):\n",
    "        items = []\n",
    "        current = self.head.next\n",
    "        while(current is not None):\n",
    "            items.append(current.value)\n",
    "            current = current.next\n",
    "        return ''.join([str(item)+' -> ' for item in items]) "
   ]
  },
  {
   "cell_type": "code",
   "execution_count": 132,
   "metadata": {},
   "outputs": [
    {
     "name": "stdout",
     "output_type": "stream",
     "text": [
      "1 -> 2 -> 3 -> 4 -> 5 -> \n"
     ]
    }
   ],
   "source": [
    "ls = LinkedList()\n",
    "arr = [1, 2, 3, 4, 5]\n",
    "for item in arr:\n",
    "    ls.add_last(item)\n",
    "print(ls)"
   ]
  },
  {
   "cell_type": "markdown",
   "metadata": {},
   "source": [
    "### 1) get middle of a linked list"
   ]
  },
  {
   "cell_type": "code",
   "execution_count": 133,
   "metadata": {},
   "outputs": [],
   "source": [
    "ls = LinkedList()\n",
    "arr = [1,2,3,4,5,6,7]\n",
    "arr = [1,2,3,4,5,6]\n",
    "for item in arr:\n",
    "    ls.add_last(item)"
   ]
  },
  {
   "cell_type": "code",
   "execution_count": 134,
   "metadata": {},
   "outputs": [],
   "source": [
    "def get_middle(l):\n",
    "    if type(l) is LinkedList: \n",
    "        slow, prev, fast = l.get_beginning(), l.get_beginning(), l.get_beginning()\n",
    "    elif type(l) is LinkedList._Node:\n",
    "        slow, prev, fast = l, l, l\n",
    "    while(fast is not None and fast.next is not None):\n",
    "        prev = slow\n",
    "        slow = slow.next\n",
    "        fast = fast.next.next\n",
    "    prev.next = None\n",
    "    return slow\n"
   ]
  },
  {
   "cell_type": "code",
   "execution_count": 135,
   "metadata": {},
   "outputs": [
    {
     "data": {
      "text/plain": [
       "4"
      ]
     },
     "execution_count": 135,
     "metadata": {},
     "output_type": "execute_result"
    }
   ],
   "source": [
    "middle = get_middle(ls)\n",
    "middle.value"
   ]
  },
  {
   "cell_type": "markdown",
   "metadata": {},
   "source": [
    "### 2) Merge two sorted linked lists"
   ]
  },
  {
   "cell_type": "code",
   "execution_count": 162,
   "metadata": {},
   "outputs": [
    {
     "name": "stdout",
     "output_type": "stream",
     "text": [
      "2 -> 4 -> 6 -> 8 -> \n",
      "1 -> 3 -> 5 -> 7 -> 9 -> \n"
     ]
    }
   ],
   "source": [
    "ls_1 = LinkedList()\n",
    "ls_2 = LinkedList()\n",
    "items = [1,2,3,4,5,6,7,8,9]\n",
    "for item in items:\n",
    "    if item%2==0:\n",
    "        ls_1.add_last(item)\n",
    "    else:\n",
    "        ls_2.add_last(item)\n",
    "\n",
    "print(ls_1)\n",
    "print(ls_2)\n",
    "\n",
    "def merge_sorted_lists(l1, l2):\n",
    "    if l1 == None:\n",
    "        return l2\n",
    "    elif l2 == None:\n",
    "        return l1\n",
    "    if type(l1) and type(l2) is LinkedList:\n",
    "        ptr1 = l1.get_beginning()\n",
    "        ptr2 = l2.get_beginning()\n",
    "    elif type(l1) and type(l2) is LinkedList._Node:\n",
    "        ptr1 = l1\n",
    "        ptr2 = l2\n",
    "    dummy = LinkedList._Node()\n",
    "    if ptr1.value <= ptr2.value:\n",
    "        dummy.next = ptr1\n",
    "    else:\n",
    "        dummy.next = ptr2\n",
    "    current = dummy.next  \n",
    "    while(ptr1 is not None and ptr2 is not None):\n",
    "        if ptr1.value <= ptr2.value:\n",
    "            temp = ptr1\n",
    "            ptr1 = ptr1.next \n",
    "            current.next = temp\n",
    "        else:\n",
    "            temp = ptr2\n",
    "            ptr2 = ptr2.next \n",
    "            current.next = temp\n",
    "        current = current.next\n",
    "    \n",
    "    if ptr1 is None and ptr2 is not None:\n",
    "        current.next = ptr2\n",
    "    elif ptr2 is None and ptr1 is not None:\n",
    "        current.next = ptr1\n",
    "        \n",
    "    return dummy.next "
   ]
  },
  {
   "cell_type": "code",
   "execution_count": 161,
   "metadata": {},
   "outputs": [
    {
     "name": "stdout",
     "output_type": "stream",
     "text": [
      "None->1->2->3->4->5->6->7->8->9->"
     ]
    }
   ],
   "source": [
    "connected = merge_sorted_lists(ls_1, ls_2)\n",
    "while(connected is not None):\n",
    "    print(connected.value, end = \"->\")\n",
    "    connected = connected.next"
   ]
  },
  {
   "cell_type": "markdown",
   "metadata": {},
   "source": [
    "### 3) Reverse a linked list"
   ]
  },
  {
   "cell_type": "code",
   "execution_count": 138,
   "metadata": {},
   "outputs": [
    {
     "name": "stdout",
     "output_type": "stream",
     "text": [
      "1 -> 2 -> 3 -> 4 -> 5 -> \n"
     ]
    }
   ],
   "source": [
    "ls = LinkedList()\n",
    "arr = [1, 2, 3, 4, 5]\n",
    "for item in arr:\n",
    "    ls.add_last(item)\n",
    "print(ls)"
   ]
  },
  {
   "cell_type": "code",
   "execution_count": 139,
   "metadata": {},
   "outputs": [],
   "source": [
    "def reverse_linkedlist(head):\n",
    "    prev = None\n",
    "    current = head\n",
    "    while(current is not None):\n",
    "        temp = current.next \n",
    "        \n",
    "        current.next = prev \n",
    "        prev = current\n",
    "        current = temp\n",
    "    return prev"
   ]
  },
  {
   "cell_type": "code",
   "execution_count": 140,
   "metadata": {},
   "outputs": [],
   "source": [
    "new_list_head = reverse_linkedlist(ls.get_beginning())"
   ]
  },
  {
   "cell_type": "code",
   "execution_count": 141,
   "metadata": {},
   "outputs": [
    {
     "name": "stdout",
     "output_type": "stream",
     "text": [
      "5->4->3->2->1->"
     ]
    }
   ],
   "source": [
    "while(new_list_head is not None):\n",
    "    print(new_list_head.value, end = \"->\")\n",
    "    new_list_head = new_list_head.next"
   ]
  },
  {
   "cell_type": "code",
   "execution_count": 142,
   "metadata": {},
   "outputs": [],
   "source": [
    "def reverse(head):\n",
    "    heads =[None]\n",
    "    def _recursive_reverse(node):\n",
    "        if node.next == None:\n",
    "            heads[0]= node\n",
    "            return node\n",
    "        else:\n",
    "            n = _recursive_reverse(node.next)\n",
    "            n.next = node\n",
    "        return node \n",
    "    \n",
    "    _recursive_reverse(head)\n",
    "    head.next = None \n",
    "    return heads[0]"
   ]
  },
  {
   "cell_type": "code",
   "execution_count": 143,
   "metadata": {},
   "outputs": [
    {
     "name": "stdout",
     "output_type": "stream",
     "text": [
      "1 -> 2 -> 3 -> 4 -> 5 -> \n"
     ]
    }
   ],
   "source": [
    "ls = LinkedList()\n",
    "arr = [1, 2, 3, 4, 5]\n",
    "for item in arr:\n",
    "    ls.add_last(item)\n",
    "print(ls)"
   ]
  },
  {
   "cell_type": "code",
   "execution_count": 144,
   "metadata": {},
   "outputs": [],
   "source": [
    "head = reverse(ls.get_beginning())"
   ]
  },
  {
   "cell_type": "code",
   "execution_count": 145,
   "metadata": {},
   "outputs": [
    {
     "name": "stdout",
     "output_type": "stream",
     "text": [
      "5->4->3->2->1->"
     ]
    }
   ],
   "source": [
    "while(head is not None):\n",
    "    print(head.value, end = \"->\")\n",
    "    head = head.next"
   ]
  },
  {
   "cell_type": "code",
   "execution_count": null,
   "metadata": {},
   "outputs": [],
   "source": []
  },
  {
   "cell_type": "markdown",
   "metadata": {},
   "source": [
    "### 4) Even Odd Partition\n",
    "\n",
    "\n",
    "Given a singly linked list, arrange the nodes such that all even index nodes appear before the odd index nodes.\n",
    "\n",
    "When we refer to \"index\" we are referring to the node's zero-indexed position in the input (original) list.\n",
    "\n",
    "The relative ordering of the nodes within the same region must be maintained.\n",
    "\n",
    "\n",
    "***Constraints:***\n",
    "\n",
    "- The arrangement must be performed using O(1) space"
   ]
  },
  {
   "cell_type": "code",
   "execution_count": 146,
   "metadata": {},
   "outputs": [
    {
     "name": "stdout",
     "output_type": "stream",
     "text": [
      "1 -> 2 -> 3 -> 4 -> 5 -> 6 -> 7 -> 8 -> 9 -> 10 -> 11 -> \n"
     ]
    }
   ],
   "source": [
    "ls = LinkedList()\n",
    "arr = [1, 2, 3, 4, 5, 6, 7, 8, 9, 10, 11]\n",
    "for item in arr:\n",
    "    ls.add_last(item)\n",
    "print(ls)"
   ]
  },
  {
   "cell_type": "code",
   "execution_count": 147,
   "metadata": {},
   "outputs": [],
   "source": [
    "def split_linked_list(head):\n",
    "    current = head \n",
    "    even_head = LinkedList._Node()\n",
    "    even_iter = even_head\n",
    "    odd_head = LinkedList._Node() \n",
    "    odd_iter = odd_head \n",
    "    \n",
    "    while current is not None:\n",
    "        if current.value % 2 ==0:\n",
    "            even_iter.next = current\n",
    "            even_iter = even_iter.next \n",
    "        else:\n",
    "            odd_iter.next = current\n",
    "            odd_iter = odd_iter.next \n",
    "        current = current.next \n",
    "    \n",
    "    joined = odd_head.next \n",
    "    odd_iter.next = even_head.next\n",
    "    even_iter.next = None\n",
    "    return joined "
   ]
  },
  {
   "cell_type": "code",
   "execution_count": 148,
   "metadata": {},
   "outputs": [],
   "source": [
    "splitted = split_linked_list(ls.get_beginning())"
   ]
  },
  {
   "cell_type": "code",
   "execution_count": 149,
   "metadata": {},
   "outputs": [
    {
     "name": "stdout",
     "output_type": "stream",
     "text": [
      "1->3->5->7->9->11->2->4->6->8->10->"
     ]
    }
   ],
   "source": [
    "while(splitted is not None):\n",
    "    print(splitted.value, end = \"->\")\n",
    "    splitted = splitted.next"
   ]
  },
  {
   "cell_type": "code",
   "execution_count": null,
   "metadata": {},
   "outputs": [],
   "source": []
  },
  {
   "cell_type": "markdown",
   "metadata": {},
   "source": [
    "### 5) Merge sort of two linkedlists "
   ]
  },
  {
   "cell_type": "code",
   "execution_count": 150,
   "metadata": {},
   "outputs": [],
   "source": [
    "def merge_sort(head):\n",
    "    if head is None or head.next is None:\n",
    "        return head\n",
    "    \n",
    "    mid = get_middle(head)\n",
    "    left_sorted = merge_sort(head)\n",
    "    right_sorted = merge_sort(mid)\n",
    "    \n",
    "    return merge_sorted_lists(left_sorted, right_sorted)"
   ]
  },
  {
   "cell_type": "code",
   "execution_count": 151,
   "metadata": {},
   "outputs": [
    {
     "name": "stdout",
     "output_type": "stream",
     "text": [
      "11 -> 2 -> 5 -> 8 -> 6 -> 4 -> 10 -> 0 -> 1 -> 9 -> 3 -> 7 -> \n"
     ]
    }
   ],
   "source": [
    "ls = LinkedList()\n",
    "arr = [11, 2, 5, 8, 6, 4, 10, 0, 1, 9, 3, 7]\n",
    "for item in arr:\n",
    "    ls.add_last(item)\n",
    "print(ls)"
   ]
  },
  {
   "cell_type": "code",
   "execution_count": 152,
   "metadata": {},
   "outputs": [],
   "source": [
    "sorted_array = merge_sort(ls.get_beginning())"
   ]
  },
  {
   "cell_type": "code",
   "execution_count": 153,
   "metadata": {},
   "outputs": [
    {
     "name": "stdout",
     "output_type": "stream",
     "text": [
      "0->1->2->3->4->5->6->7->8->9->10->11->"
     ]
    }
   ],
   "source": [
    "while(sorted_array is not None):\n",
    "    print(sorted_array.value, end = \"->\")\n",
    "    sorted_array = sorted_array.next"
   ]
  },
  {
   "cell_type": "code",
   "execution_count": null,
   "metadata": {},
   "outputs": [],
   "source": []
  }
 ],
 "metadata": {
  "kernelspec": {
   "display_name": "Python 3",
   "language": "python",
   "name": "python3"
  },
  "language_info": {
   "codemirror_mode": {
    "name": "ipython",
    "version": 3
   },
   "file_extension": ".py",
   "mimetype": "text/x-python",
   "name": "python",
   "nbconvert_exporter": "python",
   "pygments_lexer": "ipython3",
   "version": "3.8.3"
  }
 },
 "nbformat": 4,
 "nbformat_minor": 4
}
