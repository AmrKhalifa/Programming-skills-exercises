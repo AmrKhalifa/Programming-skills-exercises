{
 "cells": [
  {
   "cell_type": "code",
   "execution_count": null,
   "metadata": {},
   "outputs": [],
   "source": []
  },
  {
   "cell_type": "code",
   "execution_count": null,
   "metadata": {},
   "outputs": [],
   "source": []
  },
  {
   "cell_type": "code",
   "execution_count": 1,
   "metadata": {},
   "outputs": [],
   "source": [
    "import heapq"
   ]
  },
  {
   "cell_type": "markdown",
   "metadata": {},
   "source": [
    "### 1) Verifying Character Ordering\n",
    "\n",
    "Given a string s representing a new ordering of the lowercase English letters and an array A[] of strings, return true if and only if A[] is sorted in lexicographical order according to the ordering provided in s."
   ]
  },
  {
   "cell_type": "code",
   "execution_count": 2,
   "metadata": {},
   "outputs": [],
   "source": [
    "s = \"hlbcdefgijkmnopqrstuvwxzya\"\n",
    "A = [\"hello\", \"hey\", \"a\"]\n",
    "\n",
    "# Output: true"
   ]
  },
  {
   "cell_type": "code",
   "execution_count": 3,
   "metadata": {},
   "outputs": [],
   "source": [
    "def is_lexicographically_sorted(s, A):     \n",
    "    def is_sorted(word_1, word_2, char2value):\n",
    "        len_1 = len(word_1)\n",
    "        len_2 = len(word_2)\n",
    "        for i in range(len_1):\n",
    "            if i >= len(word_2):\n",
    "                return False \n",
    "            if char2value[word_1[i]] > char2value[word_2[i]]:\n",
    "                return False\n",
    "            if char2value[word_1[i]] == char2value[word_2[i]]:\n",
    "                continue\n",
    "            if char2value[word_1[i]] < char2value[word_2[i]]:\n",
    "                return True \n",
    "        return True\n",
    "    \n",
    "    char_2_value = {char:i+1 for i, char in enumerate(s)}\n",
    "    flag=True\n",
    "    for i in range(len(A)-1):\n",
    "        word_1 = A[i]\n",
    "        word_2 = A[i+1]\n",
    "        flag = is_sorted(word_1, word_2, char_2_value)\n",
    "        if flag == False:\n",
    "            return flag\n",
    "        \n",
    "    return flag"
   ]
  },
  {
   "cell_type": "code",
   "execution_count": 4,
   "metadata": {},
   "outputs": [
    {
     "data": {
      "text/plain": [
       "True"
      ]
     },
     "execution_count": 4,
     "metadata": {},
     "output_type": "execute_result"
    }
   ],
   "source": [
    "is_lexicographically_sorted(s, A)"
   ]
  },
  {
   "cell_type": "markdown",
   "metadata": {},
   "source": [
    "### 2) Merge sort of arrays"
   ]
  },
  {
   "cell_type": "code",
   "execution_count": 5,
   "metadata": {},
   "outputs": [],
   "source": [
    "arr = [11, 3, 7, 1, 4, 0, 10, 8, 6, 9, 5, 2]"
   ]
  },
  {
   "cell_type": "code",
   "execution_count": 6,
   "metadata": {},
   "outputs": [],
   "source": [
    "def merge_sort(array):\n",
    "    def _merge_sorted_arrays(left_arr, right_arr):\n",
    "        merged = [] \n",
    "        i,j = 0,0\n",
    "        while(i<len(left_arr) and j <len(right_arr)):\n",
    "            if left_arr[i] < right_arr[j]:\n",
    "                merged.append(left_arr[i])\n",
    "                i+=1\n",
    "            else:\n",
    "                merged.append(right_arr[j])\n",
    "                j+=1\n",
    "        if i<len(left_arr):\n",
    "            merged.extend(left_arr[i:])\n",
    "        elif j<len(right_arr):\n",
    "            merged.extend(right_arr[j:])\n",
    "        return merged\n",
    "    \n",
    "    if len(array) ==0 or len(array) ==1:\n",
    "        return array\n",
    "    mid = len(array)//2\n",
    "    left_sorted = merge_sort(array[:mid])\n",
    "    right_sorted = merge_sort(array[mid:])\n",
    "    return _merge_sorted_arrays(left_sorted, right_sorted)"
   ]
  },
  {
   "cell_type": "code",
   "execution_count": 7,
   "metadata": {},
   "outputs": [
    {
     "name": "stdout",
     "output_type": "stream",
     "text": [
      "[0, 1, 2, 3, 4, 5, 6, 7, 8, 9, 10, 11]\n"
     ]
    }
   ],
   "source": [
    "print(merge_sort(arr))"
   ]
  },
  {
   "cell_type": "code",
   "execution_count": null,
   "metadata": {},
   "outputs": [],
   "source": []
  },
  {
   "cell_type": "markdown",
   "metadata": {},
   "source": [
    "### 3) Sort A K Sorted Array (nearly sorted array)\n",
    "\n",
    "Given a \"k sorted array\" return the fully sorted version of the sequence.\n",
    "\n",
    "A \"k sorted array\" is a sequence whose elements are no more than k positions left or right from their position in the fully sorted sequence. \n",
    "\n",
    "***Constraints:***\n",
    "\n",
    "- You will always be given a sequence obeying the \"k sorted\" property. \n",
    "- Your algorithm's behaviour is undefined on any non-\"k sorted\" sequence.\n"
   ]
  },
  {
   "cell_type": "code",
   "execution_count": null,
   "metadata": {},
   "outputs": [],
   "source": []
  },
  {
   "cell_type": "code",
   "execution_count": 8,
   "metadata": {},
   "outputs": [],
   "source": [
    "arr = [6, 5, 3, 2, 8, 10, 9]\n",
    "def sort_k_sorted(array, k):\n",
    "    heap = array[:k+1]\n",
    "    heapq.heapify(heap)\n",
    "    for i in range(len(array)-k-1):\n",
    "        array[i] = heapq.heappop(heap)\n",
    "        heapq.heappush(heap, array[i+k+1])\n",
    "    for i in range(len(array)-k-1, len(array)): \n",
    "        array[i] = heapq.heappop(heap)\n",
    "    return array\n",
    "    "
   ]
  },
  {
   "cell_type": "code",
   "execution_count": 9,
   "metadata": {},
   "outputs": [
    {
     "data": {
      "text/plain": [
       "[2, 3, 5, 6, 8, 9, 10]"
      ]
     },
     "execution_count": 9,
     "metadata": {},
     "output_type": "execute_result"
    }
   ],
   "source": [
    "sort_k_sorted(arr, k=3)"
   ]
  },
  {
   "cell_type": "code",
   "execution_count": 10,
   "metadata": {},
   "outputs": [
    {
     "data": {
      "text/plain": [
       "[1, 2, 3]"
      ]
     },
     "execution_count": 10,
     "metadata": {},
     "output_type": "execute_result"
    }
   ],
   "source": [
    "sorted([1,2,3])"
   ]
  },
  {
   "cell_type": "code",
   "execution_count": null,
   "metadata": {},
   "outputs": [],
   "source": []
  },
  {
   "cell_type": "markdown",
   "metadata": {},
   "source": [
    "### 4) Counting Inversions\n",
    "\n",
    "Given an array A[], we call a pair of indices (i, j) an inversion provided that both i < j and A[i] > A[j] hold.\n",
    "\n",
    "Count the number of inversions in the provided array.\n",
    "\n",
    "***Constraints:***  \n",
    "Your solution should run in O(n*log(n)) time."
   ]
  },
  {
   "cell_type": "code",
   "execution_count": 13,
   "metadata": {},
   "outputs": [],
   "source": [
    "def merge_sort(array):\n",
    "    def _merge_sorted_arrays(left_arr, right_arr, n):\n",
    "        merged = [] \n",
    "        i,j = 0,0\n",
    "        while(i<len(left_arr) and j <len(right_arr)):\n",
    "            if left_arr[i] <= right_arr[j]:\n",
    "                merged.append(left_arr[i])\n",
    "                i+=1\n",
    "            else:\n",
    "                n += len(left_arr) - i\n",
    "                merged.append(right_arr[j])\n",
    "                j+=1\n",
    "        if i<len(left_arr):\n",
    "            merged.extend(left_arr[i:])\n",
    "        elif j<len(right_arr):\n",
    "            merged.extend(right_arr[j:])\n",
    "        return merged, n\n",
    "    \n",
    "    if len(array) ==0 or len(array) ==1:\n",
    "        return array, 0\n",
    "    mid = len(array)//2\n",
    "    left_sorted, n_1 = merge_sort(array[:mid])\n",
    "    right_sorted, n_2 = merge_sort(array[mid:])\n",
    "    \n",
    "    n_sum = n_1 + n_2 \n",
    "    return _merge_sorted_arrays(left_sorted, right_sorted, n_sum)"
   ]
  },
  {
   "cell_type": "code",
   "execution_count": 14,
   "metadata": {},
   "outputs": [
    {
     "name": "stdout",
     "output_type": "stream",
     "text": [
      "13\n"
     ]
    }
   ],
   "source": [
    "_, n = merge_sort([5,3,6,4,1,8,2,7])\n",
    "\n",
    "_, n = merge_sort([5,3,6,4,1,8,2,7])\n",
    "print(n)"
   ]
  },
  {
   "cell_type": "code",
   "execution_count": null,
   "metadata": {},
   "outputs": [],
   "source": []
  }
 ],
 "metadata": {
  "kernelspec": {
   "display_name": "Python 3",
   "language": "python",
   "name": "python3"
  },
  "language_info": {
   "codemirror_mode": {
    "name": "ipython",
    "version": 3
   },
   "file_extension": ".py",
   "mimetype": "text/x-python",
   "name": "python",
   "nbconvert_exporter": "python",
   "pygments_lexer": "ipython3",
   "version": "3.8.3"
  }
 },
 "nbformat": 4,
 "nbformat_minor": 4
}
