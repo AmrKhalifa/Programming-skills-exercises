{
 "cells": [
  {
   "cell_type": "markdown",
   "metadata": {},
   "source": [
    "## Primitives problems"
   ]
  },
  {
   "cell_type": "markdown",
   "metadata": {},
   "source": [
    "#### 1) Check If A Number Is A Palindrome\n",
    "\n",
    "A palindrome is a sequence that reads the same forwards and backward.\n",
    "Given an integer as input, write a function that tests if it is a palindrome.\n",
    "\n",
    "**Note**\n",
    "\n",
    "- A negative number cannot be a palindrome due to the - sign\n",
    "- The input does not have leading 0\n",
    "\n",
    "**Constraints**\n",
    "\n",
    "-You may not cast the number to a string\n"
   ]
  },
  {
   "cell_type": "code",
   "execution_count": 34,
   "metadata": {},
   "outputs": [],
   "source": [
    "def is_palindrome(number):\n",
    "    if number <0:\n",
    "        return False \n",
    "    reversed_number = 0\n",
    "    x = number \n",
    "    keep_dividing = True\n",
    "    while keep_dividing:\n",
    "        x, mod = divmod(x, 10)\n",
    "        reversed_number = 10*reversed_number + mod\n",
    "        if x ==0:\n",
    "            keep_dividing = False\n",
    "    if reversed_number == number:\n",
    "        return True\n",
    "    else:\n",
    "        return False "
   ]
  },
  {
   "cell_type": "code",
   "execution_count": null,
   "metadata": {},
   "outputs": [],
   "source": []
  }
 ],
 "metadata": {
  "kernelspec": {
   "display_name": "Python 3",
   "language": "python",
   "name": "python3"
  },
  "language_info": {
   "codemirror_mode": {
    "name": "ipython",
    "version": 3
   },
   "file_extension": ".py",
   "mimetype": "text/x-python",
   "name": "python",
   "nbconvert_exporter": "python",
   "pygments_lexer": "ipython3",
   "version": "3.8.3"
  }
 },
 "nbformat": 4,
 "nbformat_minor": 4
}
