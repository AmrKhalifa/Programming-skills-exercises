{
 "cells": [
  {
   "cell_type": "markdown",
   "metadata": {},
   "source": [
    "## Primitives problems"
   ]
  },
  {
   "cell_type": "code",
   "execution_count": 1,
   "metadata": {},
   "outputs": [],
   "source": [
    "import math"
   ]
  },
  {
   "cell_type": "markdown",
   "metadata": {},
   "source": [
    "#### 1) Check If A Number Is A Palindrome\n",
    "\n",
    "A palindrome is a sequence that reads the same forwards and backward.\n",
    "Given an integer as input, write a function that tests if it is a palindrome.\n",
    "\n",
    "**Note**\n",
    "\n",
    "- A negative number cannot be a palindrome due to the - sign\n",
    "- The input does not have leading 0\n",
    "\n",
    "**Constraints**\n",
    "\n",
    "-You may not cast the number to a string\n"
   ]
  },
  {
   "cell_type": "code",
   "execution_count": 2,
   "metadata": {},
   "outputs": [],
   "source": [
    "def is_palindrome(number):\n",
    "    if number <0:\n",
    "        return False \n",
    "    reversed_number = 0\n",
    "    x = number \n",
    "    keep_dividing = True\n",
    "    while keep_dividing:\n",
    "        x, mod = divmod(x, 10)\n",
    "        reversed_number = 10*reversed_number + mod\n",
    "        if x ==0:\n",
    "            keep_dividing = False\n",
    "    if reversed_number == number:\n",
    "        return True\n",
    "    else:\n",
    "        return False "
   ]
  },
  {
   "cell_type": "code",
   "execution_count": 3,
   "metadata": {},
   "outputs": [
    {
     "name": "stdout",
     "output_type": "stream",
     "text": [
      "False\n",
      "True\n"
     ]
    }
   ],
   "source": [
    "print(is_palindrome(123))\n",
    "print(is_palindrome(212))"
   ]
  },
  {
   "cell_type": "code",
   "execution_count": 4,
   "metadata": {},
   "outputs": [],
   "source": [
    "def another_is_palindrome(number):\n",
    "    if number<0:\n",
    "        return False\n",
    "    num_digits = int(math.log(number, 10)) + 1\n",
    "    mask = pow(10, num_digits-1)\n",
    "    \n",
    "    for i in range(num_digits//2):\n",
    "        left = int(number/mask)\n",
    "        right = number%10\n",
    "\n",
    "        if left != right:\n",
    "            return False\n",
    "        \n",
    "        number %= mask #remove left\n",
    "        number = int(number/10) # remove right\n",
    "        mask = int(mask/100) # adjust mask\n",
    "        \n",
    "    return True "
   ]
  },
  {
   "cell_type": "code",
   "execution_count": 5,
   "metadata": {},
   "outputs": [
    {
     "name": "stdout",
     "output_type": "stream",
     "text": [
      "False\n",
      "True\n"
     ]
    },
    {
     "data": {
      "text/plain": [
       "True"
      ]
     },
     "execution_count": 5,
     "metadata": {},
     "output_type": "execute_result"
    }
   ],
   "source": [
    "print(another_is_palindrome(123))\n",
    "print(another_is_palindrome(212))\n",
    "another_is_palindrome(92129)\n"
   ]
  },
  {
   "cell_type": "markdown",
   "metadata": {},
   "source": [
    "#### 2) Reverse bits\n",
    "\n",
    "Given an input integer input, return the integer value of input's bits reversed. You will only be reversing the \"significant portion\" of the binary representation (ignoring leading zeros).\n",
    "\n",
    "\n",
    "**Constraints**\n",
    "\n",
    "- input will always be strictly greater than or equal to 0\n"
   ]
  },
  {
   "cell_type": "code",
   "execution_count": 6,
   "metadata": {},
   "outputs": [],
   "source": [
    "def reverseBits(number):\n",
    "    reversed_binary = 0\n",
    "    while number:\n",
    "        number, mod = divmod(number, 2)\n",
    "        reversed_binary = reversed_binary*2 +mod \n",
    "        \n",
    "    return reversed_binary"
   ]
  },
  {
   "cell_type": "code",
   "execution_count": 7,
   "metadata": {},
   "outputs": [
    {
     "data": {
      "text/plain": [
       "4209"
      ]
     },
     "execution_count": 7,
     "metadata": {},
     "output_type": "execute_result"
    }
   ],
   "source": [
    "reverseBits(9090)"
   ]
  },
  {
   "cell_type": "code",
   "execution_count": 8,
   "metadata": {},
   "outputs": [],
   "source": [
    "def another_reverseBits(number):\n",
    "    output = 0\n",
    "    while number >0:\n",
    "        output = output << 1\n",
    "        if number & 1 ==1:\n",
    "            output = output | 1\n",
    "        number = number >>1\n",
    "        \n",
    "    return output "
   ]
  },
  {
   "cell_type": "code",
   "execution_count": 9,
   "metadata": {},
   "outputs": [
    {
     "data": {
      "text/plain": [
       "4209"
      ]
     },
     "execution_count": 9,
     "metadata": {},
     "output_type": "execute_result"
    }
   ],
   "source": [
    "another_reverseBits(9090)"
   ]
  },
  {
   "cell_type": "code",
   "execution_count": null,
   "metadata": {},
   "outputs": [],
   "source": []
  },
  {
   "cell_type": "markdown",
   "metadata": {},
   "source": [
    "#### 3) Power of Two\n",
    "\n",
    "Given a non-negative integer input, return true if input is a power of two. Return false otherwise.\n",
    "\n",
    "***Constraints:***\n",
    "\n",
    "- Your solution should run in O(1) time."
   ]
  },
  {
   "cell_type": "code",
   "execution_count": 10,
   "metadata": {},
   "outputs": [],
   "source": [
    "def is_power_of_two(number):\n",
    "    return True if (number>0 and number&(number-1)==0) else False"
   ]
  },
  {
   "cell_type": "code",
   "execution_count": 11,
   "metadata": {},
   "outputs": [
    {
     "data": {
      "text/plain": [
       "False"
      ]
     },
     "execution_count": 11,
     "metadata": {},
     "output_type": "execute_result"
    }
   ],
   "source": [
    "is_power_of_two(511)"
   ]
  },
  {
   "cell_type": "code",
   "execution_count": 12,
   "metadata": {},
   "outputs": [],
   "source": [
    "a = 'hello'"
   ]
  },
  {
   "cell_type": "code",
   "execution_count": 13,
   "metadata": {},
   "outputs": [],
   "source": [
    "z = reversed(a)"
   ]
  },
  {
   "cell_type": "code",
   "execution_count": 14,
   "metadata": {},
   "outputs": [
    {
     "data": {
      "text/plain": [
       "0"
      ]
     },
     "execution_count": 14,
     "metadata": {},
     "output_type": "execute_result"
    }
   ],
   "source": [
    "\n",
    "next(z,0)\n",
    "next(z,0)\n",
    "next(z,0)\n",
    "next(z,0)\n",
    "next(z,0)\n",
    "next(z,0)\n",
    "next(z,0)\n",
    "next(z,0)"
   ]
  },
  {
   "cell_type": "code",
   "execution_count": 15,
   "metadata": {},
   "outputs": [],
   "source": [
    "def sum_strings(str1, str2): \n",
    "    def _get_int(char):\n",
    "        return ord(char)-48\n",
    "    \n",
    "    carry=0 \n",
    "    solution = [] \n",
    "    reversed_str1 = reversed(str1)\n",
    "    reversed_str2 = reversed(str2)\n",
    "        \n",
    "    for _ in range(1+ max(len(str1), len(str2))):\n",
    "\n",
    "        num1 = _get_int(next(reversed_str1, '0'))\n",
    "        num2 = _get_int(next(reversed_str2, '0'))\n",
    "        \n",
    "        added = num1+num2+carry \n",
    "        \n",
    "        carry, result = divmod(added, 10)\n",
    "        \n",
    "        solution.append(result)\n",
    "    if solution[-1]==0:\n",
    "        solution.pop()\n",
    "    reversed_solution = reversed(solution)\n",
    "    \n",
    "    solution = ''.join([str(next(reversed_solution)) for i in range(len(solution)) ])\n",
    "    return solution"
   ]
  },
  {
   "cell_type": "code",
   "execution_count": 16,
   "metadata": {},
   "outputs": [
    {
     "name": "stdout",
     "output_type": "stream",
     "text": [
      "220\n"
     ]
    }
   ],
   "source": [
    "print(sum_strings('197', '23'))"
   ]
  },
  {
   "cell_type": "code",
   "execution_count": 67,
   "metadata": {},
   "outputs": [],
   "source": [
    "times = [\"00:03\", \"23:59\", \"12:03\"]"
   ]
  },
  {
   "cell_type": "code",
   "execution_count": 79,
   "metadata": {},
   "outputs": [],
   "source": [
    "def absolute_scale_diff(a,b):\n",
    "    a_1, a_2 = a\n",
    "    b_1, b_2 = b\n",
    "    \n",
    "    diff_1 = abs(a_1-b_1)\n",
    "    diff_2 = abs(a_1+b_2)\n",
    "    diff_3 = abs(a_2+b_1)\n",
    "    diff_4 = abs(a_2-b_2)\n",
    "    \n",
    "    return (min(diff_1, diff_2, diff_3, diff_4))"
   ]
  },
  {
   "cell_type": "code",
   "execution_count": 80,
   "metadata": {},
   "outputs": [
    {
     "name": "stdout",
     "output_type": "stream",
     "text": [
      "4\n"
     ]
    }
   ],
   "source": [
    "# Slow O(n^2)\n",
    "f = lambda x: 60*int(x[:2]) + int(x[3:])\n",
    "mini = float('inf')\n",
    "for i in range(len(times)):\n",
    "    for j in range(len(times)):\n",
    "        if i != j: \n",
    "            a = f(times[i])\n",
    "            b = f(times[j])\n",
    "            mini = min(mini, absolute_scale_diff((a, 1440-a), (b, 1440-b)))\n",
    "print(mini)"
   ]
  },
  {
   "cell_type": "code",
   "execution_count": 127,
   "metadata": {},
   "outputs": [],
   "source": [
    "# fast O(1) time O(1) space  [Yes it's O(1) in time]\n",
    "\n",
    "def get_differences(times):\n",
    "    f = lambda x: 60*int(x[:2]) + int(x[3:])\n",
    "    bucket = [False]*(60*24) # Implicit bucket sorting. \n",
    "    for time in times:\n",
    "        if bucket[f(time)]:\n",
    "            return 0\n",
    "        else:\n",
    "            bucket[f(time)] = True \n",
    "    first, prev, cur, mini = None, None, None, float(\"inf\")\n",
    "    \n",
    "    for i in range(len(bucket)):\n",
    "        if bucket[i]:\n",
    "            if prev is None:\n",
    "                first = i\n",
    "                prev = i\n",
    "            else: \n",
    "                cur = i\n",
    "                mini = min(mini, cur-prev)\n",
    "                prev = cur\n",
    "    mini = min(mini, (60*24)-cur+first)\n",
    "    if cur is None: # handling empt\n",
    "        return -1\n",
    "    else:\n",
    "        return mini"
   ]
  },
  {
   "cell_type": "code",
   "execution_count": 128,
   "metadata": {},
   "outputs": [
    {
     "name": "stdout",
     "output_type": "stream",
     "text": [
      "4\n"
     ]
    }
   ],
   "source": [
    "times = [\"00:03\", \"23:59\", \"12:03\"]\n",
    "print(get_differences(times))"
   ]
  },
  {
   "cell_type": "markdown",
   "metadata": {},
   "source": [
    "##### explaining why O(1) in space\n",
    "\n",
    "It seems counter intuitive here, but look deeply into the first for loop, the one that iterates over the times, actually we don't need to loop through all the times that will be given in the times list, why? because first of all we can only have 24*60 unique times (because of minutes resolution) and thus any additional time will be repeated and will directly return from the loop with a value of 0. So our loop can run for a maximum of 24*60 iterations only. "
   ]
  },
  {
   "cell_type": "code",
   "execution_count": null,
   "metadata": {},
   "outputs": [],
   "source": []
  },
  {
   "cell_type": "code",
   "execution_count": null,
   "metadata": {},
   "outputs": [],
   "source": []
  }
 ],
 "metadata": {
  "kernelspec": {
   "display_name": "Python 3",
   "language": "python",
   "name": "python3"
  },
  "language_info": {
   "codemirror_mode": {
    "name": "ipython",
    "version": 3
   },
   "file_extension": ".py",
   "mimetype": "text/x-python",
   "name": "python",
   "nbconvert_exporter": "python",
   "pygments_lexer": "ipython3",
   "version": "3.8.3"
  }
 },
 "nbformat": 4,
 "nbformat_minor": 4
}
