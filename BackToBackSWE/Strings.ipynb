{
 "cells": [
  {
   "cell_type": "markdown",
   "metadata": {},
   "source": [
    "## String problems"
   ]
  },
  {
   "cell_type": "markdown",
   "metadata": {},
   "source": [
    "#### 1) Pattern Matching\n",
    "Given a set of strings words and a string pattern return a list of all of the strings in words that matches the pattern of the pattern string.\n",
    "\n",
    "**Note**\n",
    "\n",
    "- Return the words in the order as they appear in the input"
   ]
  },
  {
   "cell_type": "code",
   "execution_count": 1,
   "metadata": {},
   "outputs": [],
   "source": [
    "words = [\"aa\", \"bb\"]\n",
    "pattern = \"cc\"\n",
    "Output: [\"aa\", \"bb\"]\n",
    "    "
   ]
  },
  {
   "cell_type": "code",
   "execution_count": 66,
   "metadata": {},
   "outputs": [],
   "source": [
    "def get_matches(words, pattern):\n",
    "    def extract_value(string):\n",
    "        char2value = {}\n",
    "        idx = 1\n",
    "        number = []\n",
    "        for char in string:\n",
    "            #print(char2value)\n",
    "            if char not in char2value:\n",
    "                char2value[char] = str(idx)\n",
    "                number.append(char2value[char])\n",
    "                idx +=1\n",
    "            else: \n",
    "                number.append(char2value[char])\n",
    "        return int(''.join([num for num in number]))\n",
    "\n",
    "    solution = []\n",
    "    pattern_value = extract_value(pattern)\n",
    "\n",
    "    for word in words:\n",
    "        word_value = extract_value(word)\n",
    "        if word_value == pattern_value:\n",
    "            solution.append((word, word_value))\n",
    "    return solution"
   ]
  },
  {
   "cell_type": "code",
   "execution_count": 67,
   "metadata": {},
   "outputs": [],
   "source": [
    "words = [\"abcdefghijklmnopqrstuvwxyz\",\"xyzwvutsrqponmlkjihgfedcba\",\"aabcdefghijklmnopqrstuvwxyz\",\"abcdefghijklmnopqrstuvwxyzz\",\"mlkjihgfedcbanopqrstuvwxyz\",\"aaaaaa\",\"aaabbbcccddd\",\"aaabbbccc\",\"xxxyyyzzz\",\"aabbccddeeffgghhiijjkklllmmnnooppqq\"]\n",
    "pattern = \"abcdefghijklmnopqrstuvwxyz\""
   ]
  },
  {
   "cell_type": "code",
   "execution_count": 68,
   "metadata": {},
   "outputs": [
    {
     "data": {
      "text/plain": [
       "[('abcdefghijklmnopqrstuvwxyz', 1234567891011121314151617181920212223242526),\n",
       " ('xyzwvutsrqponmlkjihgfedcba', 1234567891011121314151617181920212223242526),\n",
       " ('mlkjihgfedcbanopqrstuvwxyz', 1234567891011121314151617181920212223242526)]"
      ]
     },
     "execution_count": 68,
     "metadata": {},
     "output_type": "execute_result"
    }
   ],
   "source": [
    "get_matches(words, pattern)"
   ]
  },
  {
   "cell_type": "code",
   "execution_count": null,
   "metadata": {},
   "outputs": [],
   "source": []
  }
 ],
 "metadata": {
  "kernelspec": {
   "display_name": "Python 3",
   "language": "python",
   "name": "python3"
  },
  "language_info": {
   "codemirror_mode": {
    "name": "ipython",
    "version": 3
   },
   "file_extension": ".py",
   "mimetype": "text/x-python",
   "name": "python",
   "nbconvert_exporter": "python",
   "pygments_lexer": "ipython3",
   "version": "3.8.3"
  }
 },
 "nbformat": 4,
 "nbformat_minor": 4
}
