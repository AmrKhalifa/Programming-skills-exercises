{
 "cells": [
  {
   "cell_type": "markdown",
   "metadata": {},
   "source": [
    "## String problems"
   ]
  },
  {
   "cell_type": "markdown",
   "metadata": {},
   "source": [
    "#### 1) Pattern Matching\n",
    "Given a set of strings words and a string pattern return a list of all of the strings in words that matches the pattern of the pattern string.\n",
    "\n",
    "**Note**\n",
    "\n",
    "- Return the words in the order as they appear in the input"
   ]
  },
  {
   "cell_type": "code",
   "execution_count": 1,
   "metadata": {},
   "outputs": [],
   "source": [
    "words = [\"aa\", \"bb\"]\n",
    "pattern = \"cc\"\n",
    "Output: [\"aa\", \"bb\"]"
   ]
  },
  {
   "cell_type": "code",
   "execution_count": 2,
   "metadata": {},
   "outputs": [],
   "source": [
    "def get_matches(words, pattern):\n",
    "    def extract_value(string):\n",
    "        char2value = {}\n",
    "        idx = 1\n",
    "        number = []\n",
    "        for char in string:\n",
    "            if char not in char2value:\n",
    "                char2value[char] = str(idx)\n",
    "                number.append(char2value[char])\n",
    "                idx +=1\n",
    "            else: \n",
    "                number.append(char2value[char])\n",
    "        return int(''.join([num for num in number]))\n",
    "\n",
    "    solution = []\n",
    "    pattern_value = extract_value(pattern)\n",
    "\n",
    "    for word in words:\n",
    "        word_value = extract_value(word)\n",
    "        if word_value == pattern_value:\n",
    "            solution.append((word, word_value))\n",
    "    return solution"
   ]
  },
  {
   "cell_type": "code",
   "execution_count": 3,
   "metadata": {},
   "outputs": [],
   "source": [
    "words = [\"abcdefghijklmnopqrstuvwxyz\",\"xyzwvutsrqponmlkjihgfedcba\",\"aabcdefghijklmnopqrstuvwxyz\",\"abcdefghijklmnopqrstuvwxyzz\",\"mlkjihgfedcbanopqrstuvwxyz\",\"aaaaaa\",\"aaabbbcccddd\",\"aaabbbccc\",\"xxxyyyzzz\",\"aabbccddeeffgghhiijjkklllmmnnooppqq\"]\n",
    "pattern = \"abcdefghijklmnopqrstuvwxyz\""
   ]
  },
  {
   "cell_type": "code",
   "execution_count": 4,
   "metadata": {},
   "outputs": [
    {
     "data": {
      "text/plain": [
       "[('abcdefghijklmnopqrstuvwxyz', 1234567891011121314151617181920212223242526),\n",
       " ('xyzwvutsrqponmlkjihgfedcba', 1234567891011121314151617181920212223242526),\n",
       " ('mlkjihgfedcbanopqrstuvwxyz', 1234567891011121314151617181920212223242526)]"
      ]
     },
     "execution_count": 4,
     "metadata": {},
     "output_type": "execute_result"
    }
   ],
   "source": [
    "get_matches(words, pattern)"
   ]
  },
  {
   "cell_type": "code",
   "execution_count": null,
   "metadata": {},
   "outputs": [],
   "source": []
  },
  {
   "cell_type": "markdown",
   "metadata": {},
   "source": [
    "#### 2) Longest Palindrome Construction:\n",
    "\n",
    "Given a string, determine the length of the longest possible palindromic string that can be constructed using the characters of the string. "
   ]
  },
  {
   "cell_type": "code",
   "execution_count": 5,
   "metadata": {},
   "outputs": [],
   "source": [
    "def get_longest_palindrome(string):\n",
    "    char_to_count = {} \n",
    "    for char in string:\n",
    "        if char in char_to_count:\n",
    "            char_to_count[char] +=1 \n",
    "        else:\n",
    "            char_to_count[char] = 1 \n",
    "            \n",
    "    for char in char_to_count:\n",
    "        char_to_count[char] = char_to_count[char]//2 \n",
    "    \n",
    "    counter = 0\n",
    "    for key, value in char_to_count.items():\n",
    "        counter += value\n",
    "    \n",
    "    if counter == 0:\n",
    "        return 1\n",
    "    elif counter > 0 and len(string) == counter *2:\n",
    "        return counter*2\n",
    "    else:\n",
    "        return counter*2 +1 "
   ]
  },
  {
   "cell_type": "code",
   "execution_count": 6,
   "metadata": {},
   "outputs": [
    {
     "name": "stdout",
     "output_type": "stream",
     "text": [
      "5\n",
      "5\n",
      "1\n",
      "1\n",
      "3\n"
     ]
    }
   ],
   "source": [
    "print(get_longest_palindrome(\"aabbc\"))\n",
    "print(get_longest_palindrome(\"abbcccd\"))\n",
    "print(get_longest_palindrome(\"aA\"))\n",
    "print(get_longest_palindrome(\"xyz\"))\n",
    "print(get_longest_palindrome(\"ccc\"))"
   ]
  },
  {
   "cell_type": "code",
   "execution_count": 7,
   "metadata": {},
   "outputs": [],
   "source": [
    "def matchingget_longest_palindrome(string):\n",
    "    matches_set = set()\n",
    "    counter = 0\n",
    "    for char in string:\n",
    "        if char in matches_set:\n",
    "            counter +=1 \n",
    "            matches_set.remove(char)\n",
    "        else:\n",
    "            matches_set.add(char)\n",
    "    return counter*2 if len(matches_set) ==0 else counter*2+1"
   ]
  },
  {
   "cell_type": "code",
   "execution_count": 8,
   "metadata": {},
   "outputs": [
    {
     "name": "stdout",
     "output_type": "stream",
     "text": [
      "5\n",
      "5\n",
      "1\n",
      "1\n",
      "3\n"
     ]
    }
   ],
   "source": [
    "print(matchingget_longest_palindrome(\"aabbc\"))\n",
    "print(matchingget_longest_palindrome(\"abbcccd\"))\n",
    "print(matchingget_longest_palindrome(\"aA\"))\n",
    "print(matchingget_longest_palindrome(\"xyz\"))\n",
    "print(matchingget_longest_palindrome(\"ccc\"))"
   ]
  },
  {
   "cell_type": "code",
   "execution_count": null,
   "metadata": {},
   "outputs": [],
   "source": []
  },
  {
   "cell_type": "markdown",
   "metadata": {},
   "source": [
    "### 3) Zigzag Conversion\n",
    "Given a string s and an integer value rows return the \"zigzag\" encoding of s read off row-by-row.\n",
    "\n",
    "**Constraints**:\n",
    "- rows > 0"
   ]
  },
  {
   "cell_type": "code",
   "execution_count": 9,
   "metadata": {},
   "outputs": [],
   "source": [
    "def get_zigzag_string(string, rows):\n",
    "    if rows ==1:\n",
    "        return string\n",
    "    \n",
    "    zigzags_list= [[]for i in range(rows)]\n",
    "    go_down = True\n",
    "    idx = 0\n",
    "    for i, char in enumerate(string):\n",
    "        if (i)%(rows-1) ==0 and i>0:\n",
    "            go_down = not go_down\n",
    "        \n",
    "        zigzags_list[idx].append(char)\n",
    "        if go_down:\n",
    "            idx+=1 \n",
    "        else:\n",
    "            idx -=1\n",
    "        \n",
    "    return ''.join(''.join([char for char in row]) for row in zigzags_list)"
   ]
  },
  {
   "cell_type": "code",
   "execution_count": 10,
   "metadata": {},
   "outputs": [
    {
     "data": {
      "text/plain": [
       "'YPEWILONLK'"
      ]
     },
     "execution_count": 10,
     "metadata": {},
     "output_type": "execute_result"
    }
   ],
   "source": [
    "s = \"YELLOWPINK\"\n",
    "rows = 4\n",
    "get_zigzag_string(s, rows)"
   ]
  },
  {
   "cell_type": "code",
   "execution_count": 11,
   "metadata": {},
   "outputs": [
    {
     "data": {
      "text/plain": [
       "'RDLELCEBUBAK'"
      ]
     },
     "execution_count": 11,
     "metadata": {},
     "output_type": "execute_result"
    }
   ],
   "source": [
    "s = \"REDBLUEBLACK\"\n",
    "rows = 2\n",
    "get_zigzag_string(s, rows)"
   ]
  },
  {
   "cell_type": "code",
   "execution_count": 12,
   "metadata": {},
   "outputs": [
    {
     "data": {
      "text/plain": [
       "'YELLOWPINK'"
      ]
     },
     "execution_count": 12,
     "metadata": {},
     "output_type": "execute_result"
    }
   ],
   "source": [
    "s = \"YELLOWPINK\"\n",
    "rows = 1\n",
    "get_zigzag_string(s, rows)"
   ]
  },
  {
   "cell_type": "code",
   "execution_count": null,
   "metadata": {},
   "outputs": [],
   "source": []
  },
  {
   "cell_type": "markdown",
   "metadata": {},
   "source": [
    "#### 4) Add Binary Strings\n",
    "\n",
    "Given two strings s1 and s2 consisting of only ones and zeros, return a string representing the sum of s1 and s2 when they are considered as binary numbers.\n",
    "\n",
    "***Note:***\n",
    "Neither s1 nor s2 have any leading zeros. The returned string should not have any leading zeros either.\n"
   ]
  },
  {
   "cell_type": "code",
   "execution_count": 25,
   "metadata": {},
   "outputs": [],
   "source": [
    "num1 = '101'\n",
    "num2 = '1'\n",
    "\n",
    "def add_strings(str1, str2):\n",
    "    num_iters = max(len(str1), len(str2))\n",
    "    str1 = reversed(str1)\n",
    "    str2 = reversed(str2)\n",
    "    solution = []\n",
    "    carry = 0\n",
    "    def _get_num(char):\n",
    "        return ord(char)- ord(\"0\")\n",
    "    for i in range(num_iters):\n",
    "        a = next(str1, \"0\")\n",
    "        b = next(str2, \"0\")\n",
    "        carry, result = divmod(carry + _get_num(a) + _get_num(b), 2)\n",
    "        solution.append(str(result)) \n",
    "    if carry == 1:\n",
    "        solution.append(\"1\")\n",
    "    reversed_sol = reversed(solution)\n",
    "    return ''.join([next(reversed_sol) for i in range(len(solution))])"
   ]
  },
  {
   "cell_type": "code",
   "execution_count": 26,
   "metadata": {},
   "outputs": [
    {
     "data": {
      "text/plain": [
       "'110'"
      ]
     },
     "execution_count": 26,
     "metadata": {},
     "output_type": "execute_result"
    }
   ],
   "source": [
    "add_strings(num1, num2)"
   ]
  },
  {
   "cell_type": "code",
   "execution_count": null,
   "metadata": {},
   "outputs": [],
   "source": []
  }
 ],
 "metadata": {
  "kernelspec": {
   "display_name": "Python 3",
   "language": "python",
   "name": "python3"
  },
  "language_info": {
   "codemirror_mode": {
    "name": "ipython",
    "version": 3
   },
   "file_extension": ".py",
   "mimetype": "text/x-python",
   "name": "python",
   "nbconvert_exporter": "python",
   "pygments_lexer": "ipython3",
   "version": "3.8.3"
  }
 },
 "nbformat": 4,
 "nbformat_minor": 4
}
