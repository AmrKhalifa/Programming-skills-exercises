{
 "cells": [
  {
   "cell_type": "markdown",
   "metadata": {},
   "source": [
    "### Hash Table Problems"
   ]
  },
  {
   "cell_type": "markdown",
   "metadata": {},
   "source": [
    "#### 1) Nearest Repeated Entries In An Array\n",
    "\n",
    "Given an array words of words return the distance between the nearest repeated entries.\n",
    "\n",
    "If no entry is repeated return -1."
   ]
  },
  {
   "cell_type": "code",
   "execution_count": 31,
   "metadata": {},
   "outputs": [],
   "source": [
    "Input = [\n",
    "  \"This\",\n",
    "  \"is\",\n",
    "  \"a\",\n",
    "  \"sentence\",\n",
    "  \"with\",\n",
    "  \"is\",\n",
    "  \"repeated\",\n",
    "  \"then\",\n",
    "  \"repeated\"\n",
    "]\n",
    "Output = 2"
   ]
  },
  {
   "cell_type": "code",
   "execution_count": 39,
   "metadata": {},
   "outputs": [],
   "source": [
    "input_2 = [\"This\",\"repeated\",\"a\",\"sentence\",\"with\",\"is\",\"repeated\",\"then\",\"repeated\"]\n",
    "input_3 = [\"This\",\"repeated\",\"hi\",\"a\",\"with\",\"a\",\"repeated\",\"a\",\"a\"]"
   ]
  },
  {
   "cell_type": "code",
   "execution_count": 44,
   "metadata": {},
   "outputs": [],
   "source": [
    "def get_distance(words):\n",
    "    words_dict = {} \n",
    "    mini = float('inf')\n",
    "    for i, word in enumerate(words):\n",
    "        idx = i+1\n",
    "        if word in words_dict:\n",
    "            minimum_so_far = min(words_dict[word][1], idx - words_dict[word][0])\n",
    "            words_dict[word][1] = minimum_so_far\n",
    "            mini = min(mini, minimum_so_far)\n",
    "            words_dict[word][0] = idx\n",
    "        else:\n",
    "            words_dict[word] = [idx, float('inf')]\n",
    "    if len(words_dict) == len(words):\n",
    "        return -1  \n",
    "    else:\n",
    "        return mini "
   ]
  },
  {
   "cell_type": "code",
   "execution_count": 45,
   "metadata": {},
   "outputs": [
    {
     "data": {
      "text/plain": [
       "2"
      ]
     },
     "execution_count": 45,
     "metadata": {},
     "output_type": "execute_result"
    }
   ],
   "source": [
    "get_distance(input_2)"
   ]
  },
  {
   "cell_type": "markdown",
   "metadata": {},
   "source": [
    "### 2) Longest Substring with At Most K Characters\n",
    "\n",
    "Given a string s, find the length of the longest substring that contains at most k distinct characters. "
   ]
  },
  {
   "cell_type": "code",
   "execution_count": 171,
   "metadata": {},
   "outputs": [],
   "source": [
    "#s = \"coffee\" # (2-->4, 3-->)\n",
    "s = 'bccbababd' # (2-->5, 3-->8)\n",
    "k = 3"
   ]
  },
  {
   "cell_type": "code",
   "execution_count": 172,
   "metadata": {},
   "outputs": [],
   "source": [
    "def get_longest_substring(string, k):\n",
    "    start = 0\n",
    "    end=0\n",
    "    char_count = {}\n",
    "    max_len = 0\n",
    "    while(end<len(s)):\n",
    "        if s[end] not in char_count:\n",
    "            char_count[s[end]] = 1\n",
    "        else: \n",
    "            char_count[s[end]] += 1\n",
    "        while(len(char_count))>k:\n",
    "            if char_count[s[start]] > 1: \n",
    "                char_count[s[start]] -= 1\n",
    "            else:\n",
    "                del char_count[s[start]]\n",
    "            start +=1\n",
    "        max_len = max(max_len, end-start+1)\n",
    "        end+=1\n",
    "    return max_len"
   ]
  },
  {
   "cell_type": "code",
   "execution_count": 173,
   "metadata": {},
   "outputs": [
    {
     "data": {
      "text/plain": [
       "8"
      ]
     },
     "execution_count": 173,
     "metadata": {},
     "output_type": "execute_result"
    }
   ],
   "source": [
    "get_longest_substring(s, k)"
   ]
  }
 ],
 "metadata": {
  "kernelspec": {
   "display_name": "Python 3",
   "language": "python",
   "name": "python3"
  },
  "language_info": {
   "codemirror_mode": {
    "name": "ipython",
    "version": 3
   },
   "file_extension": ".py",
   "mimetype": "text/x-python",
   "name": "python",
   "nbconvert_exporter": "python",
   "pygments_lexer": "ipython3",
   "version": "3.8.3"
  }
 },
 "nbformat": 4,
 "nbformat_minor": 4
}
