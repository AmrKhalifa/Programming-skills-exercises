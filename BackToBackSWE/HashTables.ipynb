{
 "cells": [
  {
   "cell_type": "markdown",
   "metadata": {},
   "source": [
    "### Hash Table Problems"
   ]
  },
  {
   "cell_type": "markdown",
   "metadata": {},
   "source": [
    "#### 1) Nearest Repeated Entries In An Array\n",
    "\n",
    "Given an array words of words return the distance between the nearest repeated entries.\n",
    "\n",
    "If no entry is repeated return -1."
   ]
  },
  {
   "cell_type": "code",
   "execution_count": 31,
   "metadata": {},
   "outputs": [],
   "source": [
    "Input = [\n",
    "  \"This\",\n",
    "  \"is\",\n",
    "  \"a\",\n",
    "  \"sentence\",\n",
    "  \"with\",\n",
    "  \"is\",\n",
    "  \"repeated\",\n",
    "  \"then\",\n",
    "  \"repeated\"\n",
    "]\n",
    "Output = 2"
   ]
  },
  {
   "cell_type": "code",
   "execution_count": 39,
   "metadata": {},
   "outputs": [],
   "source": [
    "input_2 = [\"This\",\"repeated\",\"a\",\"sentence\",\"with\",\"is\",\"repeated\",\"then\",\"repeated\"]\n",
    "input_3 = [\"This\",\"repeated\",\"hi\",\"a\",\"with\",\"a\",\"repeated\",\"a\",\"a\"]"
   ]
  },
  {
   "cell_type": "code",
   "execution_count": 44,
   "metadata": {},
   "outputs": [],
   "source": [
    "def get_distance(words):\n",
    "    words_dict = {} \n",
    "    mini = float('inf')\n",
    "    for i, word in enumerate(words):\n",
    "        idx = i+1\n",
    "        if word in words_dict:\n",
    "            minimum_so_far = min(words_dict[word][1], idx - words_dict[word][0])\n",
    "            words_dict[word][1] = minimum_so_far\n",
    "            mini = min(mini, minimum_so_far)\n",
    "            words_dict[word][0] = idx\n",
    "        else:\n",
    "            words_dict[word] = [idx, float('inf')]\n",
    "    if len(words_dict) == len(words):\n",
    "        return -1  \n",
    "    else:\n",
    "        return mini "
   ]
  },
  {
   "cell_type": "code",
   "execution_count": 45,
   "metadata": {},
   "outputs": [
    {
     "data": {
      "text/plain": [
       "2"
      ]
     },
     "execution_count": 45,
     "metadata": {},
     "output_type": "execute_result"
    }
   ],
   "source": [
    "get_distance(input_2)"
   ]
  },
  {
   "cell_type": "code",
   "execution_count": null,
   "metadata": {},
   "outputs": [],
   "source": []
  }
 ],
 "metadata": {
  "kernelspec": {
   "display_name": "Python 3",
   "language": "python",
   "name": "python3"
  },
  "language_info": {
   "codemirror_mode": {
    "name": "ipython",
    "version": 3
   },
   "file_extension": ".py",
   "mimetype": "text/x-python",
   "name": "python",
   "nbconvert_exporter": "python",
   "pygments_lexer": "ipython3",
   "version": "3.8.3"
  }
 },
 "nbformat": 4,
 "nbformat_minor": 4
}
